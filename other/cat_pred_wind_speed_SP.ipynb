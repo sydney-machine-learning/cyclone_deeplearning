{
  "nbformat": 4,
  "nbformat_minor": 0,
  "metadata": {
    "colab": {
      "name": "cat_pred_wind_speed_SP.ipynb",
      "provenance": [],
      "collapsed_sections": []
    },
    "kernelspec": {
      "name": "python3",
      "display_name": "Python 3"
    },
    "language_info": {
      "name": "python"
    },
    "accelerator": "GPU"
  },
  "cells": [
    {
      "cell_type": "code",
      "metadata": {
        "id": "AOAN2U2x9JrA",
        "colab": {
          "base_uri": "https://localhost:8080/"
        },
        "outputId": "bf2f40b0-e19d-4f16-bd4d-cbbba945d384"
      },
      "source": [
        "import copy\n",
        "import numpy as np\n",
        "import sklearn\n",
        "import pandas as pd\n",
        "import matplotlib.pyplot as plt\n",
        "from keras.models import Sequential\n",
        "from keras.layers import Dense\n",
        "from keras.layers import Activation\n",
        "from keras.layers import LSTM\n",
        "from keras.layers import Bidirectional\n",
        "from keras.layers import RepeatVector\n",
        "from keras.layers import TimeDistributed\n",
        "from numpy import hstack\n",
        "from sklearn.preprocessing import StandardScaler\n",
        "import datetime\n",
        "import time\n",
        "import joblib\n",
        "from datetime import timedelta, date\n",
        "import tensorflow as tf\n",
        "from sklearn.preprocessing import MinMaxScaler\n",
        "from numpy import array\n",
        "from tensorflow.keras.utils import to_categorical\n",
        "from sklearn.metrics import precision_score, recall_score\n",
        "from sklearn.metrics import f1_score\n",
        "import matplotlib.pyplot as plt\n",
        "import os\n",
        "import seaborn as sns; sns.set_theme() \n",
        "import errno\n",
        "from keras.layers.convolutional import Conv1D\n",
        "from keras.layers.convolutional import MaxPooling1D\n",
        "from keras.layers import Flatten\n",
        "from keras.layers import ConvLSTM2D\n",
        "from keras.models import load_model\n",
        "import pickle\n",
        "from sklearn.metrics import accuracy_score, roc_curve, auc, classification_report, confusion_matrix\n",
        "from scipy import interp\n",
        "from imblearn.over_sampling import SMOTE\n",
        "from collections import Counter\n",
        "import imblearn\n",
        "import collections\n",
        "from sklearn.datasets import make_classification\n",
        "from sklearn.linear_model import LogisticRegression\n",
        "from sklearn.model_selection import train_test_split\n",
        "from sklearn.metrics import precision_recall_curve\n",
        "from sklearn.metrics import f1_score\n",
        "from matplotlib import pyplot"
      ],
      "execution_count": null,
      "outputs": [
        {
          "output_type": "stream",
          "text": [
            "/usr/local/lib/python3.7/dist-packages/sklearn/externals/six.py:31: FutureWarning: The module is deprecated in version 0.21 and will be removed in version 0.23 since we've dropped support for Python 2.7. Please rely on the official version of six (https://pypi.org/project/six/).\n",
            "  \"(https://pypi.org/project/six/).\", FutureWarning)\n",
            "/usr/local/lib/python3.7/dist-packages/sklearn/utils/deprecation.py:144: FutureWarning: The sklearn.neighbors.base module is  deprecated in version 0.22 and will be removed in version 0.24. The corresponding classes / functions should instead be imported from sklearn.neighbors. Anything that cannot be imported from sklearn.neighbors is now part of the private API.\n",
            "  warnings.warn(message, FutureWarning)\n"
          ],
          "name": "stderr"
        }
      ]
    },
    {
      "cell_type": "code",
      "metadata": {
        "id": "JPL7ejJ69Qvo"
      },
      "source": [
        "def load_data_south_indian(url):\n",
        "  df = pd.read_csv(url)\n",
        "  #df.columns = ['id','date','longitude','latitude','speed']\n",
        "  #df = df.drop(['date'], axis = 1)\n",
        "  df['category'] = df['Speed(knots)'].apply(lambda x: \n",
        "  0 if x<=33 else 1  if x<=47 and x>=34 else 2 if x<=63 and x>=48 else 3 if x<=89 and x>=64 else 4 if x<=115 and x>=90 else 5 )\n",
        "  return df\n",
        "\n",
        "def load_data_south_pacific(url):\n",
        "  df = pd.read_csv(url)\n",
        "  #df.columns = ['id','date','longitude','latitude','speed']\n",
        "  #df = df.drop(['date'], axis = 1)\n",
        "  df['category'] = df['Speed(knots)'].apply(lambda x: \n",
        "  0 if x<=33 else 1  if x<=47 and x>=34 else 2 if x<=63 and x>=48 else 3 if x<=85 and x>=64 else 4 if x<=107 and x>=86 else 5 )\n",
        "  return df"
      ],
      "execution_count": null,
      "outputs": []
    },
    {
      "cell_type": "code",
      "metadata": {
        "colab": {
          "base_uri": "https://localhost:8080/"
        },
        "id": "7EvJumXX9WWC",
        "outputId": "efe46bb0-a199-4d44-c3b5-6e1fafa9c73f"
      },
      "source": [
        "ocean = 'south_pacific'  #south_indian or south_pacific\n",
        "print(ocean)\n",
        "\n",
        "if ocean == 'south_indian':\n",
        "    url_data = 'https://raw.githubusercontent.com/sydney-machine-learning/cyclonedatasets/main/SouthIndian-SouthPacific-Ocean/South_indian_hurricane.csv'\n",
        "    function = load_data_south_indian\n",
        "    hot_encoded_result_file_name = 'south_indian'\n",
        "    category_result_file_name = 'roc_data_south_indian'\n",
        "else:\n",
        "    url_data = 'https://raw.githubusercontent.com/sydney-machine-learning/cyclonedatasets/main/SouthIndian-SouthPacific-Ocean/South_pacific_hurricane.csv'\n",
        "    function = load_data_south_pacific\n",
        "    hot_encoded_result_file_name = 'south_pacific'\n",
        "    category_result_file_name = 'roc_data_south_pacific' "
      ],
      "execution_count": null,
      "outputs": [
        {
          "output_type": "stream",
          "text": [
            "south_pacific\n"
          ],
          "name": "stdout"
        }
      ]
    },
    {
      "cell_type": "code",
      "metadata": {
        "colab": {
          "base_uri": "https://localhost:8080/",
          "height": 203
        },
        "id": "P5GxeAk79bKE",
        "outputId": "daea7adb-815d-469c-bddd-f42b1e2a9183"
      },
      "source": [
        "df = function(url_data)\n",
        "speed = df['Speed(knots)'].tolist()\n",
        "categories = df['category'].tolist()\n",
        "df.head()"
      ],
      "execution_count": null,
      "outputs": [
        {
          "output_type": "execute_result",
          "data": {
            "text/html": [
              "<div>\n",
              "<style scoped>\n",
              "    .dataframe tbody tr th:only-of-type {\n",
              "        vertical-align: middle;\n",
              "    }\n",
              "\n",
              "    .dataframe tbody tr th {\n",
              "        vertical-align: top;\n",
              "    }\n",
              "\n",
              "    .dataframe thead th {\n",
              "        text-align: right;\n",
              "    }\n",
              "</style>\n",
              "<table border=\"1\" class=\"dataframe\">\n",
              "  <thead>\n",
              "    <tr style=\"text-align: right;\">\n",
              "      <th></th>\n",
              "      <th>Basin</th>\n",
              "      <th>No. of Cycl</th>\n",
              "      <th>Time</th>\n",
              "      <th>V5</th>\n",
              "      <th>V6</th>\n",
              "      <th>Lat</th>\n",
              "      <th>Lon</th>\n",
              "      <th>Speed(knots)</th>\n",
              "      <th>lat_tenth</th>\n",
              "      <th>lon_tenth</th>\n",
              "      <th>category</th>\n",
              "    </tr>\n",
              "  </thead>\n",
              "  <tbody>\n",
              "    <tr>\n",
              "      <th>0</th>\n",
              "      <td>SP</td>\n",
              "      <td>14</td>\n",
              "      <td>1982012518</td>\n",
              "      <td>BEST</td>\n",
              "      <td>0</td>\n",
              "      <td>180S</td>\n",
              "      <td>1541E</td>\n",
              "      <td>25</td>\n",
              "      <td>18.0</td>\n",
              "      <td>154.1</td>\n",
              "      <td>0</td>\n",
              "    </tr>\n",
              "    <tr>\n",
              "      <th>1</th>\n",
              "      <td>SP</td>\n",
              "      <td>14</td>\n",
              "      <td>1982012600</td>\n",
              "      <td>BEST</td>\n",
              "      <td>0</td>\n",
              "      <td>191S</td>\n",
              "      <td>1548E</td>\n",
              "      <td>25</td>\n",
              "      <td>19.1</td>\n",
              "      <td>154.8</td>\n",
              "      <td>0</td>\n",
              "    </tr>\n",
              "    <tr>\n",
              "      <th>2</th>\n",
              "      <td>SP</td>\n",
              "      <td>14</td>\n",
              "      <td>1982012606</td>\n",
              "      <td>BEST</td>\n",
              "      <td>0</td>\n",
              "      <td>197S</td>\n",
              "      <td>1557E</td>\n",
              "      <td>25</td>\n",
              "      <td>19.7</td>\n",
              "      <td>155.7</td>\n",
              "      <td>0</td>\n",
              "    </tr>\n",
              "    <tr>\n",
              "      <th>3</th>\n",
              "      <td>SP</td>\n",
              "      <td>14</td>\n",
              "      <td>1982012612</td>\n",
              "      <td>BEST</td>\n",
              "      <td>0</td>\n",
              "      <td>199S</td>\n",
              "      <td>1567E</td>\n",
              "      <td>30</td>\n",
              "      <td>19.9</td>\n",
              "      <td>156.7</td>\n",
              "      <td>0</td>\n",
              "    </tr>\n",
              "    <tr>\n",
              "      <th>4</th>\n",
              "      <td>SP</td>\n",
              "      <td>14</td>\n",
              "      <td>1982012618</td>\n",
              "      <td>BEST</td>\n",
              "      <td>0</td>\n",
              "      <td>201S</td>\n",
              "      <td>1578E</td>\n",
              "      <td>35</td>\n",
              "      <td>20.1</td>\n",
              "      <td>157.8</td>\n",
              "      <td>1</td>\n",
              "    </tr>\n",
              "  </tbody>\n",
              "</table>\n",
              "</div>"
            ],
            "text/plain": [
              "  Basin  No. of Cycl        Time  ... lat_tenth  lon_tenth category\n",
              "0    SP           14  1982012518  ...      18.0      154.1        0\n",
              "1    SP           14  1982012600  ...      19.1      154.8        0\n",
              "2    SP           14  1982012606  ...      19.7      155.7        0\n",
              "3    SP           14  1982012612  ...      19.9      156.7        0\n",
              "4    SP           14  1982012618  ...      20.1      157.8        1\n",
              "\n",
              "[5 rows x 11 columns]"
            ]
          },
          "metadata": {},
          "execution_count": 4
        }
      ]
    },
    {
      "cell_type": "code",
      "metadata": {
        "id": "U3ifbDar9ecd"
      },
      "source": [
        "def split_sequence(sequences, n_steps_in, n_steps_out):\n",
        "\tX, y = list(), list()\n",
        "\tfor i in range(len(sequences)):\n",
        "\t\t# find the end of this pattern\n",
        "\t\tend_ix = i + n_steps_in\n",
        "\t\tout_end_ix = end_ix + n_steps_out\n",
        "\t\t# check if we are beyond the dataset\n",
        "\t\tif out_end_ix > len(sequences):\n",
        "\t\t\tbreak\n",
        "\t\t# gather input and output parts of the pattern\n",
        "\t\tseq_x, seq_y = sequences[i:end_ix, :], sequences[end_ix:out_end_ix, -1 ]\n",
        "\t\tX.append(seq_x)\n",
        "\t\ty.append(seq_y)\n",
        "\treturn array(X), array(y)\n",
        " \n",
        "# split a univariate sequence into samples\n",
        "def uni_split_sequence(sequence, n_steps):\n",
        "\tX, y = list(), list()\n",
        "\tfor i in range(len(sequence)):\n",
        "\t\t# find the end of this pattern\n",
        "\t\tend_ix = i + n_steps\n",
        "\t\t# check if we are beyond the sequence\n",
        "\t\tif end_ix > len(sequence)-1:\n",
        "\t\t\tbreak\n",
        "\t\t# gather input and output parts of the pattern\n",
        "\t\tseq_x, seq_y = sequence[i:end_ix], sequence[end_ix]\n",
        "\t\tX.append(seq_x)\n",
        "\t\ty.append(seq_y)\n",
        "\treturn array(X), array(y) \n",
        " \n",
        "def rmse(pred, actual):\n",
        "    return np.sqrt(((pred-actual) ** 2).mean())\n",
        "\n",
        "def categorical(pred, actual):\n",
        "  cm = confusion_matrix(pred,actual)\n",
        "  ps = precision_score(pred,actual,average='micro')\n",
        "  rs = recall_score(pred,actual,average='micro')\n",
        "  f1 = f1_score(pred,actual, average = 'micro')\n",
        "  return cm,ps,rs,f1\n",
        "\n",
        "def make_confusion_matrix_chart(cf_matrix_test):\n",
        "    plt.figure(1, figsize=(10,5))\n",
        "    sns.heatmap(cf_matrix_test, annot=True, yticklabels=['0','1'], \n",
        "                                xticklabels=['0','1'], fmt='g')\n",
        "    plt.ylabel(\"Actual\")\n",
        "    plt.xlabel(\"Pred\")\n",
        "    plt.title('Test data')\n",
        "    return None  "
      ],
      "execution_count": null,
      "outputs": []
    },
    {
      "cell_type": "code",
      "metadata": {
        "id": "yvKP7IKqymiw"
      },
      "source": [
        "univariate = True # if false, its multivariate case\n",
        "n_steps_in = 4\n",
        "n_seq = 2\n",
        "n_steps_out = 1\n",
        "n_features_in = 1 #speed\n",
        "n_features_out = 6 # one hot encoding of category\n",
        "Hidden = 10\n",
        "Epochs = 100\n",
        "Num_Exp = 3"
      ],
      "execution_count": null,
      "outputs": []
    },
    {
      "cell_type": "code",
      "metadata": {
        "id": "-j1-OIjJ9nA8"
      },
      "source": [
        "id = df['No. of Cycl'][0]\n",
        "count = 0\n",
        "X = []\n",
        "Y = []\n",
        "start_index=0\n",
        "end_index=0\n",
        "for i in range(1, df.shape[0]):\n",
        "  if df['No. of Cycl'][i] == id :\n",
        "    end_index+=1\n",
        "  else:\n",
        "    x,y = uni_split_sequence(speed[start_index:end_index+1], n_steps_in)\n",
        "    X.append(x)\n",
        "    Y.append(y)\n",
        "    id = df['No. of Cycl'][i]\n",
        "    start_index=i\n",
        "    end_index=i\n",
        "  if i == df.shape[0]-1:   \n",
        "    x,y = uni_split_sequence(speed[start_index:end_index+1], n_steps_in)\n",
        "    X.append(x)\n",
        "    Y.append(y)    "
      ],
      "execution_count": null,
      "outputs": []
    },
    {
      "cell_type": "code",
      "metadata": {
        "colab": {
          "base_uri": "https://localhost:8080/"
        },
        "id": "aoEReuBL9rCr",
        "outputId": "e1bb21c9-a1e3-46fd-d088-db992547d9d6"
      },
      "source": [
        "print(len(X), len(Y))\n",
        "X = [item for sublist in X for item in sublist]\n",
        "Y = [item for sublist in Y for item in sublist]\n",
        "print(len(X), len(Y))\n",
        "print(X[0], Y[0], X[1], Y[1])\n",
        "print(speed[:10])"
      ],
      "execution_count": null,
      "outputs": [
        {
          "output_type": "stream",
          "text": [
            "391 391\n",
            "10460 10460\n",
            "[25 25 25 30] 35 [25 25 30 35] 40\n",
            "[25, 25, 25, 30, 35, 40, 40, 40, 40, 40]\n"
          ],
          "name": "stdout"
        }
      ]
    },
    {
      "cell_type": "code",
      "metadata": {
        "id": "abT14GsW9sx7"
      },
      "source": [
        "tmp = pd.DataFrame({'col': Y})\n",
        "if ocean == 'south_pacific':\n",
        "  category = tmp['col'].apply(lambda x: \n",
        "  0 if x<=33 else 1  if x<=47 and x>=34 else 2 if x<=63 and x>=48 else 3 if x<=85 and x>=64 else 4 if x<=107 and x>=86 else 5 )\n",
        "else:\n",
        "  category = tmp['col'].apply(lambda x: \n",
        "  0 if x<=33 else 1  if x<=47 and x>=34 else 2 if x<=63 and x>=48 else 3 if x<=89 and x>=64 else 4 if x<=115 and x>=90 else 5 )\n",
        "\n",
        "Y=category"
      ],
      "execution_count": null,
      "outputs": []
    },
    {
      "cell_type": "code",
      "metadata": {
        "colab": {
          "base_uri": "https://localhost:8080/"
        },
        "id": "lpAc1ilO-xWk",
        "outputId": "ec49b865-103f-4904-81bd-0509eb756283"
      },
      "source": [
        "train_limit = int(len(X)*70/100)\n",
        "train_limit"
      ],
      "execution_count": null,
      "outputs": [
        {
          "output_type": "execute_result",
          "data": {
            "text/plain": [
              "7322"
            ]
          },
          "metadata": {},
          "execution_count": 10
        }
      ]
    },
    {
      "cell_type": "code",
      "metadata": {
        "colab": {
          "base_uri": "https://localhost:8080/"
        },
        "id": "FqzfTLPbgnxt",
        "outputId": "14a0a62b-579e-4ccb-d29b-919d90dff65b"
      },
      "source": [
        "test_X_original = X[train_limit+1:]\n",
        "#X_original = X[:train_limit]\n",
        "#X_original = np.asarray(X_original).astype(float)\n",
        "test_Y_original = Y[train_limit+1:]\n",
        "#Y_original = Y[:train_limit]\n",
        "len(X), len(Y), len(test_X_original), len(test_Y_original)"
      ],
      "execution_count": null,
      "outputs": [
        {
          "output_type": "execute_result",
          "data": {
            "text/plain": [
              "(10460, 10460, 3137, 3137)"
            ]
          },
          "metadata": {},
          "execution_count": 11
        }
      ]
    },
    {
      "cell_type": "code",
      "metadata": {
        "id": "aknEoD6dXGde"
      },
      "source": [
        "X = MinMaxScaler().fit_transform(np.asarray(X))"
      ],
      "execution_count": null,
      "outputs": []
    },
    {
      "cell_type": "code",
      "metadata": {
        "colab": {
          "base_uri": "https://localhost:8080/"
        },
        "id": "lNQvG3PZ-3I4",
        "outputId": "0b8e902b-a47a-4388-cc0c-b43bf409a297"
      },
      "source": [
        "speed_x = X\n",
        "test_X = X[train_limit+1:]\n",
        "test_X = np.asarray(test_X).astype(float)\n",
        "test_Y = Y[train_limit+1:]\n",
        "X = X[:train_limit]\n",
        "X = np.asarray(X).astype(float)\n",
        "Y = Y[:train_limit]\n",
        "print(len(test_X), len(test_Y))\n",
        "len(X), len(Y)"
      ],
      "execution_count": null,
      "outputs": [
        {
          "output_type": "stream",
          "text": [
            "3137 3137\n"
          ],
          "name": "stdout"
        },
        {
          "output_type": "execute_result",
          "data": {
            "text/plain": [
              "(7322, 7322)"
            ]
          },
          "metadata": {},
          "execution_count": 13
        }
      ]
    },
    {
      "cell_type": "code",
      "metadata": {
        "colab": {
          "base_uri": "https://localhost:8080/"
        },
        "id": "Rn2Xw0vDAZ4n",
        "outputId": "d8276a8a-9dbb-457f-e761-c58ba6496fd0"
      },
      "source": [
        "counter_train = Counter(Y)\n",
        "counter_test = collections.OrderedDict(sorted(Counter(test_Y).items()))\n",
        "print(\"train data: \", counter_train)\n",
        "print(\"test data: \", counter_test)"
      ],
      "execution_count": null,
      "outputs": [
        {
          "output_type": "stream",
          "text": [
            "train data:  Counter({0: 1965, 1: 1869, 2: 1190, 3: 1155, 4: 698, 5: 445})\n",
            "test data:  OrderedDict([(0, 547), (1, 581), (2, 525), (3, 716), (4, 465), (5, 303)])\n"
          ],
          "name": "stdout"
        }
      ]
    },
    {
      "cell_type": "code",
      "metadata": {
        "colab": {
          "base_uri": "https://localhost:8080/",
          "height": 565
        },
        "id": "Viy_k8szAeRi",
        "outputId": "5ab39a4a-9f2c-4b79-af1f-cf8dd412e1fd"
      },
      "source": [
        "plt.figure()\n",
        "#fig = plt.subplots(figsize =(20, 12))\n",
        "fig, ax = plt.subplots(figsize = (12,8))\n",
        "plt.bar(range(len(counter_train)), list(counter_train.values()), align='center')\n",
        "plt.xticks(range(len(counter_train)), list(counter_train.keys()))\n",
        "plt.xlabel('Category', size=40)\n",
        "plt.ylabel('Number', size=40)\n",
        "#plt.title('ROC' + ' (' + str(no_of_output_steps) + ' steps ahead, ' + model.capitalize() + ', Time step: ' + str(time_step) + ') - ' + train_or_test.capitalize() + ' (' + ocean + '_ocean)')\n",
        "ax.tick_params(axis='both', which='major', labelsize=30)\n",
        "plt.savefig(ocean + '_class_dist.png', dpi=300, transparent=False, bbox_inches='tight')\n",
        "plt.show()"
      ],
      "execution_count": null,
      "outputs": [
        {
          "output_type": "display_data",
          "data": {
            "text/plain": [
              "<Figure size 432x288 with 0 Axes>"
            ]
          },
          "metadata": {}
        },
        {
          "output_type": "display_data",
          "data": {
            "image/png": "[encoded data removed]",
            "text/plain": [
              "<Figure size 864x576 with 1 Axes>"
            ]
          },
          "metadata": {
            "needs_background": "light"
          }
        }
      ]
    },
    {
      "cell_type": "code",
      "metadata": {
        "id": "Iw5div8vBVfa"
      },
      "source": [
        "def vanilla(n_steps_in,n_steps_out,n_features_in, n_features_out):\n",
        "  model = Sequential()\n",
        "  model.add(LSTM(50, activation='relu', input_shape=(n_steps_in, n_features_in)))\n",
        "  model.add(Dense(n_features_out, activation = \"softmax\"))\n",
        "  model.compile(optimizer='adam', loss='binary_crossentropy')\n",
        "  return model\n",
        " \n",
        "  #model = Sequential()\n",
        "  #model.add(LSTM(Hidden, activation='relu', input_shape=(n_steps_in, n_features_in)))\n",
        "  #model.add(RepeatVector(n_steps_out))\n",
        "  #model.add(LSTM(Hidden, activation='relu', return_sequences=True))\n",
        "  #model.add(TimeDistributed(Dense(n_features_out, activation = \"softmax\")))\n",
        "  #model.compile(optimizer='adam', loss='categorical_crossentropy')\n",
        "  #return model\n",
        "\n",
        "def bidirectional(n_steps_in,n_steps_out,n_features_in, n_features_out):\n",
        "  model = Sequential()\n",
        "  model.add(Bidirectional(LSTM(Hidden, activation='relu', input_shape=(n_steps_in, n_features_in))))\n",
        "  model.add(Dense(n_features_out, activation = \"softmax\"))\n",
        "  model.compile(optimizer='adam', loss='binary_crossentropy')\n",
        "  return model\n",
        "\n",
        "def cnn_lstm(n_steps_in,n_steps_out,n_features_in, n_features_out, n_seq):\n",
        "  model = Sequential()\n",
        "  model.add(TimeDistributed(Conv1D(filters=64, kernel_size=1, activation='relu'), input_shape=(None, int(n_steps_in/n_seq), n_features_in)))\n",
        "  model.add(TimeDistributed(MaxPooling1D(pool_size=2)))\n",
        "  model.add(TimeDistributed(Flatten()))\n",
        "  model.add(LSTM(Hidden, activation='relu'))\n",
        "  model.add(Dense(n_features_out, activation = \"softmax\"))\n",
        "  model.compile(optimizer='adam', loss='binary_crossentropy')\n",
        "  return model\n",
        "\n",
        "def conv_lstm(n_steps_in,n_steps_out,n_features_in, n_features_out, n_seq):\n",
        "  model = Sequential()\n",
        "  model.add(ConvLSTM2D(filters=64, kernel_size=(1,2), activation='relu', input_shape=(n_seq, 1, int(n_steps_in/n_seq), n_features_in)))\n",
        "  model.add(Flatten())\n",
        "  model.add(Dense(n_features_out, activation = \"softmax\"))\n",
        "  model.compile(optimizer='adam', loss='binary_crossentropy')\n",
        "  return model"
      ],
      "execution_count": null,
      "outputs": []
    },
    {
      "cell_type": "code",
      "metadata": {
        "id": "bUwvDk52JTbt"
      },
      "source": [
        "#all models\n",
        "def MODEL_LSTM(model_name, method, univariate, x_train, x_test, y_train, y_test, Num_Exp, n_steps_in, n_steps_out, Epochs, Hidden):\n",
        "\n",
        "    train_acc = np.zeros(Num_Exp)\n",
        "    test_acc = np.zeros(Num_Exp)\n",
        "\n",
        "    if model_name == 'vanilla':\n",
        "      model = vanilla(n_steps_in,n_steps_out,n_features_in, n_features_out)\n",
        "    elif model_name == 'bidirectional':\n",
        "      model = bidirectional(n_steps_in,n_steps_out,n_features_in, n_features_out)\n",
        "    elif model_name == 'cnn-lstm':\n",
        "      model = cnn_lstm(n_steps_in,n_steps_out,n_features_in,n_features_out,n_seq)\n",
        "    elif model_name == 'conv-lstm':\n",
        "      model = conv_lstm(n_steps_in,n_steps_out,n_features_in,n_features_out,n_seq)\n",
        "    \n",
        "    #model.summary()\n",
        "\n",
        "    y_predicttest_allruns = np.zeros([Num_Exp, x_test.shape[0], y_test.shape[1]])\n",
        "\n",
        "    #print(y_predicttest_allruns.shape, ' shape ')\n",
        "\n",
        "\n",
        "    Best_f1 = 0  # Assigning a small number\n",
        "    act_test = [y_test[i].argmax() for i in range(y_test.shape[0])]\n",
        "    act_train = [y_train[i].argmax() for i in range(y_train.shape[0])]\n",
        "    start_time = time.time()\n",
        "    Best_report_train = dict()\n",
        "    Best_report_test = dict()\n",
        "    for run in range(Num_Exp):\n",
        "        print(\"Experiment\", run + 1, \"in progress\")\n",
        "        # fit model\n",
        "        model.fit(x_train, y_train, epochs=Epochs, batch_size=10, verbose=0, shuffle=False)\n",
        "        y_predicttrain = model.predict(x_train)\n",
        "        y_predicttest = model.predict(x_test)\n",
        "        #y_predicttest_allruns[run,:,:] = y_predicttest\n",
        "        #train_acc[run] = rmse(y_predicttrain, y_train)\n",
        "        #print(train_acc[run], 'train accuracy')\n",
        "        #test_acc[run] = rmse(y_predicttest, y_test)\n",
        "        pred_test = [y_predicttest[i].argmax() for i in range(y_predicttest.shape[0])]\n",
        "        pred_train = [y_predicttrain[i].argmax() for i in range(y_predicttrain.shape[0])]\n",
        "        report_train = classification_report(act_train, pred_train, labels=[0,1,2,3,4,5], output_dict=True)\n",
        "        report_test = classification_report(act_test, pred_test, labels=[0,1,2,3,4,5], output_dict=True)\n",
        "        #test_acc[run] = f1_score(pred,act, average = 'binary')\n",
        "        test_acc[run] = report_test['1']['f1-score']\n",
        "        print(\"train acc: \", report_train['1']['f1-score'])        \n",
        "        print(\"test acc: \", test_acc[run])\n",
        "        if test_acc[run] > Best_f1:\n",
        "            Best_f1 = test_acc[run]\n",
        "            Best_Predict_Test = y_predicttest\n",
        "            Best_report_train, Best_report_test = report_train, report_test\n",
        "    model.save(\"model_\" + ocean+\"_\"+model_name+\"_\"+method+'.h5')  \n",
        "    train_std = np.std(train_acc)\n",
        "    test_std = np.std(test_acc)\n",
        "    print(\"Total time for\", Num_Exp, \"experiments\", time.time() - start_time)\n",
        "    print(\"f1 scores for test data: \", test_acc)\n",
        "    return train_acc, test_acc, train_std, test_std, Best_Predict_Test, y_predicttrain, y_predicttest, Best_report_train, Best_report_test"
      ],
      "execution_count": null,
      "outputs": []
    },
    {
      "cell_type": "code",
      "metadata": {
        "id": "GCcCV5jyFE5A",
        "colab": {
          "base_uri": "https://localhost:8080/"
        },
        "outputId": "9b59b8cf-7196-4ac0-c943-ab8770ea1d43"
      },
      "source": [
        "#idx = np.random.permutation(len(X_smote))\n",
        "idx = np.random.permutation(len(X))\n",
        "print(len(idx))\n",
        "x_shuffled = []\n",
        "y_shuffled = []\n",
        "for i in idx:\n",
        "  #x_shuffled.append(X_smote[i])\n",
        "  #y_shuffled.append(Y_smote[i])\n",
        "  x_shuffled.append(X[i])\n",
        "  y_shuffled.append(Y[i])"
      ],
      "execution_count": null,
      "outputs": [
        {
          "output_type": "stream",
          "text": [
            "7322\n"
          ],
          "name": "stdout"
        }
      ]
    },
    {
      "cell_type": "code",
      "metadata": {
        "colab": {
          "base_uri": "https://localhost:8080/"
        },
        "id": "L8uZm8wWIpM1",
        "outputId": "8ddc65aa-b9b3-4c9e-9c01-df6b6c1f85a6"
      },
      "source": [
        "Y_hot_encoded_train =  np.asarray(to_categorical(y_shuffled))\n",
        "#Y_hot_encoded_train = Y_hot_encoded_train.reshape(len(y_shuffled), n_steps_out, n_features_out)\n",
        "\n",
        "Y_hot_encoded_test =  np.asarray(to_categorical(test_Y))\n",
        "#Y_hot_encoded_test = Y_hot_encoded_test.reshape(len(test_Y), n_steps_out, n_features_out)\n",
        "\n",
        "print(Y_hot_encoded_train.shape, Y_hot_encoded_test.shape)"
      ],
      "execution_count": null,
      "outputs": [
        {
          "output_type": "stream",
          "text": [
            "(7322, 6) (3137, 6)\n"
          ],
          "name": "stdout"
        }
      ]
    },
    {
      "cell_type": "code",
      "metadata": {
        "colab": {
          "base_uri": "https://localhost:8080/"
        },
        "id": "fUUYK__AVFV5",
        "outputId": "2af3f0f9-efa4-4258-d5c8-2693aa678495"
      },
      "source": [
        "x_shuffled[0], test_X[0]"
      ],
      "execution_count": null,
      "outputs": [
        {
          "output_type": "execute_result",
          "data": {
            "text/plain": [
              "(array([0.17857143, 0.21428571, 0.25      , 0.32142857]),\n",
              " array([0.07142857, 0.07142857, 0.10714286, 0.10714286]))"
            ]
          },
          "metadata": {},
          "execution_count": 20
        }
      ]
    },
    {
      "cell_type": "code",
      "metadata": {
        "id": "cwrbaCjXIpR6"
      },
      "source": [
        "#models = ['vanilla', 'bidirectional', 'cnn-lstm', 'conv-lstm']\n",
        "models = ['vanilla']\n",
        "predictions_train = dict()\n",
        "actual_train = dict()\n",
        "predictions_test = dict()\n",
        "actual_test = dict()\n",
        "metrics_train = dict()\n",
        "metrics_test = dict()"
      ],
      "execution_count": null,
      "outputs": []
    },
    {
      "cell_type": "code",
      "metadata": {
        "colab": {
          "base_uri": "https://localhost:8080/"
        },
        "id": "UQ_9wHhVI2q2",
        "outputId": "fff38078-b823-4978-baeb-4dfba72b121b"
      },
      "source": [
        "for j in range(1):\n",
        "    predictions_train_per_step = dict()\n",
        "    actual_train_per_step = dict()  \n",
        "    predictions_test_per_step = dict()\n",
        "    actual_test_per_step = dict()\n",
        "    metrics_train_per_step = dict()\n",
        "    metrics_test_per_step = dict()\n",
        "    n_steps_out = j+1\n",
        "    print('---------------------------------------------------------')\n",
        "    print('no of steps out: ', n_steps_out)\n",
        "\n",
        "    for i in models:\n",
        "        print(\"for \" + i + \":\")\n",
        "\n",
        "        if i == 'vanilla' or i=='bidirectional':\n",
        "            x_train, y_train = np.asarray(x_shuffled), np.asarray(Y_hot_encoded_train)\n",
        "            x_test, y_test = np.asarray(test_X), np.asarray(Y_hot_encoded_test)\n",
        "            x_train = x_train.reshape((x_train.shape[0], x_train.shape[1], n_features_in))\n",
        "            x_test = x_test.reshape((x_test.shape[0], x_test.shape[1], n_features_in))\n",
        "        elif i == 'cnn-lstm':\n",
        "            x_train, y_train = np.asarray(x_shuffled), np.asarray(Y_hot_encoded_train)\n",
        "            x_test, y_test = np.asarray(test_X), np.asarray(Y_hot_encoded_test)\n",
        "            x_train = x_train.reshape((x_train.shape[0], n_seq, int(n_steps_in/n_seq), n_features_in))\n",
        "            x_test = x_test.reshape((x_test.shape[0], n_seq, int(n_steps_in/n_seq), n_features_in))\n",
        "        elif i=='conv-lstm':\n",
        "            x_train, y_train = np.asarray(x_shuffled), np.asarray(Y_hot_encoded_train)\n",
        "            x_test, y_test = np.asarray(test_X), np.asarray(Y_hot_encoded_test)\n",
        "            x_train = x_train.reshape((x_train.shape[0], n_seq, 1, int(n_steps_in/n_seq), n_features_in))\n",
        "            x_test = x_test.reshape((x_test.shape[0], n_seq, 1, int(n_steps_in/n_seq), n_features_in))\n",
        "        \n",
        "        #print(x_train.shape, x_test.shape, y_train.shape, y_test.shape)\n",
        "        train_acc, test_acc, train_std_dev, test_std_dev, Best_Predict_Test, y_predicttrain, y_predicttest, report_train, report_test = MODEL_LSTM(i,'original', univariate,x_train,x_test,y_train,y_test,Num_Exp,n_steps_in,n_steps_out,Epochs, Hidden)\n",
        "        predictions_train_per_step[i] = y_predicttrain\n",
        "        actual_train_per_step[i] = y_train\n",
        "        predictions_test_per_step[i] = Best_Predict_Test\n",
        "        actual_test_per_step[i] = y_test\n",
        "        metrics_train_per_step[i] = report_train\n",
        "        metrics_test_per_step[i] = report_test \n",
        "    predictions_train[str(j+1)] = predictions_train_per_step \n",
        "    actual_train[str(j+1)] = actual_train_per_step\n",
        "    predictions_test[str(j+1)] = predictions_test_per_step \n",
        "    actual_test[str(j+1)] = actual_test_per_step\n",
        "    metrics_train[str(j+1)] = metrics_train_per_step\n",
        "    metrics_test[str(j+1)] = metrics_test_per_step\n",
        "  "
      ],
      "execution_count": null,
      "outputs": [
        {
          "output_type": "stream",
          "text": [
            "---------------------------------------------------------\n",
            "no of steps out:  1\n",
            "for vanilla:\n",
            "Experiment 1 in progress\n",
            "train acc:  0.8185388845247445\n",
            "test acc:  0.7732217573221757\n",
            "Experiment 2 in progress\n",
            "train acc:  0.828240252897787\n",
            "test acc:  0.7819548872180451\n",
            "Experiment 3 in progress\n",
            "train acc:  0.8310864393338618\n",
            "test acc:  0.7791771620486986\n",
            "Total time for 3 experiments 461.0050718784332\n",
            "f1 scores for test data:  [0.77322176 0.78195489 0.77917716]\n"
          ],
          "name": "stdout"
        }
      ]
    },
    {
      "cell_type": "code",
      "metadata": {
        "id": "KAPDtCyDZ8bO"
      },
      "source": [
        "with open(\"predictions_\" + ocean + '_original' + '.pkl', 'wb') as f: \n",
        "    pickle.dump([predictions_train,actual_train,predictions_test,actual_test,metrics_train,metrics_test], f)"
      ],
      "execution_count": null,
      "outputs": []
    },
    {
      "cell_type": "code",
      "metadata": {
        "id": "pIa4gujF1p3U"
      },
      "source": [
        "def make_confusion_matrix_chart2(cf_matrix_test, name):\n",
        "    #plt.figure(figsize=(20,12))\n",
        "    sns.set(font_scale=2.5)\n",
        "    fig, ax = plt.subplots(figsize = (20,12))\n",
        "    sns.heatmap(cf_matrix_test, annot=True, yticklabels=['0','1','2','3','4','5'], \n",
        "                                xticklabels=['0','1','2','3','4','5'], fmt='g')\n",
        "    plt.ylabel(\"Actual\", size=30)\n",
        "    plt.xlabel(\"Pred\", size=30)\n",
        "    ax.tick_params(axis='both', which='major', labelsize=25)\n",
        "    plt.savefig(name + '.png', dpi=300, transparent=False, bbox_inches='tight')\n",
        "    return None "
      ],
      "execution_count": null,
      "outputs": []
    },
    {
      "cell_type": "code",
      "metadata": {
        "id": "3Z7iGdidk1_I",
        "colab": {
          "base_uri": "https://localhost:8080/",
          "height": 756
        },
        "outputId": "7f395498-1d3e-4ed1-86ee-b051edd3683e"
      },
      "source": [
        "y = [i.argmax() for i in actual_test_per_step['vanilla']]\n",
        "pred = [i.argmax() for i in predictions_test_per_step['vanilla']]\n",
        "cf_matrix_test = confusion_matrix(y, pred)\n",
        "make_confusion_matrix_chart2(cf_matrix_test, ocean + '_vanilla_cm_original')"
      ],
      "execution_count": null,
      "outputs": [
        {
          "output_type": "display_data",
          "data": {
            "image/png": "[encoded data removed]",
            "text/plain": [
              "<Figure size 1440x864 with 2 Axes>"
            ]
          },
          "metadata": {}
        }
      ]
    },
    {
      "cell_type": "code",
      "metadata": {
        "id": "1Lvr2wP0y6zM",
        "colab": {
          "base_uri": "https://localhost:8080/",
          "height": 326
        },
        "outputId": "0d8aebd9-42ba-4735-d47c-6de1a84e8261"
      },
      "source": [
        "report_df = pd.DataFrame(metrics_test_per_step['vanilla']).transpose()\n",
        "report_df = report_df.reset_index()\n",
        "model_eval  = report_df[report_df['index'].str.contains('1')][['precision','recall','f1-score']]\n",
        "model_eval['accuracy']  = list(report_df[report_df['index'].str.contains('accuracy')]['support'])\n",
        "report_df"
      ],
      "execution_count": null,
      "outputs": [
        {
          "output_type": "execute_result",
          "data": {
            "text/html": [
              "<div>\n",
              "<style scoped>\n",
              "    .dataframe tbody tr th:only-of-type {\n",
              "        vertical-align: middle;\n",
              "    }\n",
              "\n",
              "    .dataframe tbody tr th {\n",
              "        vertical-align: top;\n",
              "    }\n",
              "\n",
              "    .dataframe thead th {\n",
              "        text-align: right;\n",
              "    }\n",
              "</style>\n",
              "<table border=\"1\" class=\"dataframe\">\n",
              "  <thead>\n",
              "    <tr style=\"text-align: right;\">\n",
              "      <th></th>\n",
              "      <th>index</th>\n",
              "      <th>precision</th>\n",
              "      <th>recall</th>\n",
              "      <th>f1-score</th>\n",
              "      <th>support</th>\n",
              "    </tr>\n",
              "  </thead>\n",
              "  <tbody>\n",
              "    <tr>\n",
              "      <th>0</th>\n",
              "      <td>0</td>\n",
              "      <td>0.880907</td>\n",
              "      <td>0.851920</td>\n",
              "      <td>0.866171</td>\n",
              "      <td>547.000000</td>\n",
              "    </tr>\n",
              "    <tr>\n",
              "      <th>1</th>\n",
              "      <td>1</td>\n",
              "      <td>0.759740</td>\n",
              "      <td>0.805508</td>\n",
              "      <td>0.781955</td>\n",
              "      <td>581.000000</td>\n",
              "    </tr>\n",
              "    <tr>\n",
              "      <th>2</th>\n",
              "      <td>2</td>\n",
              "      <td>0.769643</td>\n",
              "      <td>0.820952</td>\n",
              "      <td>0.794470</td>\n",
              "      <td>525.000000</td>\n",
              "    </tr>\n",
              "    <tr>\n",
              "      <th>3</th>\n",
              "      <td>3</td>\n",
              "      <td>0.908271</td>\n",
              "      <td>0.843575</td>\n",
              "      <td>0.874728</td>\n",
              "      <td>716.000000</td>\n",
              "    </tr>\n",
              "    <tr>\n",
              "      <th>4</th>\n",
              "      <td>4</td>\n",
              "      <td>0.840637</td>\n",
              "      <td>0.907527</td>\n",
              "      <td>0.872802</td>\n",
              "      <td>465.000000</td>\n",
              "    </tr>\n",
              "    <tr>\n",
              "      <th>5</th>\n",
              "      <td>5</td>\n",
              "      <td>0.958491</td>\n",
              "      <td>0.838284</td>\n",
              "      <td>0.894366</td>\n",
              "      <td>303.000000</td>\n",
              "    </tr>\n",
              "    <tr>\n",
              "      <th>6</th>\n",
              "      <td>accuracy</td>\n",
              "      <td>0.843162</td>\n",
              "      <td>0.843162</td>\n",
              "      <td>0.843162</td>\n",
              "      <td>0.843162</td>\n",
              "    </tr>\n",
              "    <tr>\n",
              "      <th>7</th>\n",
              "      <td>macro avg</td>\n",
              "      <td>0.852948</td>\n",
              "      <td>0.844628</td>\n",
              "      <td>0.847416</td>\n",
              "      <td>3137.000000</td>\n",
              "    </tr>\n",
              "    <tr>\n",
              "      <th>8</th>\n",
              "      <td>weighted avg</td>\n",
              "      <td>0.847615</td>\n",
              "      <td>0.843162</td>\n",
              "      <td>0.844233</td>\n",
              "      <td>3137.000000</td>\n",
              "    </tr>\n",
              "  </tbody>\n",
              "</table>\n",
              "</div>"
            ],
            "text/plain": [
              "          index  precision    recall  f1-score      support\n",
              "0             0   0.880907  0.851920  0.866171   547.000000\n",
              "1             1   0.759740  0.805508  0.781955   581.000000\n",
              "2             2   0.769643  0.820952  0.794470   525.000000\n",
              "3             3   0.908271  0.843575  0.874728   716.000000\n",
              "4             4   0.840637  0.907527  0.872802   465.000000\n",
              "5             5   0.958491  0.838284  0.894366   303.000000\n",
              "6      accuracy   0.843162  0.843162  0.843162     0.843162\n",
              "7     macro avg   0.852948  0.844628  0.847416  3137.000000\n",
              "8  weighted avg   0.847615  0.843162  0.844233  3137.000000"
            ]
          },
          "metadata": {},
          "execution_count": 31
        }
      ]
    },
    {
      "cell_type": "code",
      "metadata": {
        "id": "qcBQn4N1a0Jm",
        "colab": {
          "base_uri": "https://localhost:8080/"
        },
        "outputId": "9bcba1df-14d5-4726-b396-1f9282198d3d"
      },
      "source": [
        "for i in range(report_df.shape[0]):\n",
        "  tmp=\"\"\n",
        "  for j in ['precision', 'recall', 'f1-score', 'support']:\n",
        "    tmp=tmp+ str(round(report_df[j][i],4)) + \" & \"\n",
        "  print(tmp)"
      ],
      "execution_count": null,
      "outputs": [
        {
          "output_type": "stream",
          "text": [
            "0.8809 & 0.8519 & 0.8662 & 547.0 & \n",
            "0.7597 & 0.8055 & 0.782 & 581.0 & \n",
            "0.7696 & 0.821 & 0.7945 & 525.0 & \n",
            "0.9083 & 0.8436 & 0.8747 & 716.0 & \n",
            "0.8406 & 0.9075 & 0.8728 & 465.0 & \n",
            "0.9585 & 0.8383 & 0.8944 & 303.0 & \n",
            "0.8432 & 0.8432 & 0.8432 & 0.8432 & \n",
            "0.8529 & 0.8446 & 0.8474 & 3137.0 & \n",
            "0.8476 & 0.8432 & 0.8442 & 3137.0 & \n"
          ],
          "name": "stdout"
        }
      ]
    },
    {
      "cell_type": "code",
      "metadata": {
        "id": "JGoUFqyTlp3O",
        "colab": {
          "base_uri": "https://localhost:8080/"
        },
        "outputId": "5f14808b-0b4a-43d2-ff27-318b2e6c1f81"
      },
      "source": [
        "oversample = SMOTE()\n",
        "X_smote, Y_smote = oversample.fit_resample(X, Y)\n",
        "X_smote = X_smote.astype(np.float)"
      ],
      "execution_count": null,
      "outputs": [
        {
          "output_type": "stream",
          "text": [
            "/usr/local/lib/python3.7/dist-packages/sklearn/utils/deprecation.py:87: FutureWarning: Function safe_indexing is deprecated; safe_indexing is deprecated in version 0.22 and will be removed in version 0.24.\n",
            "  warnings.warn(msg, category=FutureWarning)\n",
            "/usr/local/lib/python3.7/dist-packages/sklearn/utils/deprecation.py:87: FutureWarning: Function safe_indexing is deprecated; safe_indexing is deprecated in version 0.22 and will be removed in version 0.24.\n",
            "  warnings.warn(msg, category=FutureWarning)\n",
            "/usr/local/lib/python3.7/dist-packages/sklearn/utils/deprecation.py:87: FutureWarning: Function safe_indexing is deprecated; safe_indexing is deprecated in version 0.22 and will be removed in version 0.24.\n",
            "  warnings.warn(msg, category=FutureWarning)\n",
            "/usr/local/lib/python3.7/dist-packages/sklearn/utils/deprecation.py:87: FutureWarning: Function safe_indexing is deprecated; safe_indexing is deprecated in version 0.22 and will be removed in version 0.24.\n",
            "  warnings.warn(msg, category=FutureWarning)\n",
            "/usr/local/lib/python3.7/dist-packages/sklearn/utils/deprecation.py:87: FutureWarning: Function safe_indexing is deprecated; safe_indexing is deprecated in version 0.22 and will be removed in version 0.24.\n",
            "  warnings.warn(msg, category=FutureWarning)\n"
          ],
          "name": "stderr"
        }
      ]
    },
    {
      "cell_type": "code",
      "metadata": {
        "id": "5Rrh9EplhNTx",
        "colab": {
          "base_uri": "https://localhost:8080/"
        },
        "outputId": "44e89794-81be-47c9-d5ce-921e405857fc"
      },
      "source": [
        "X.shape, test_X.shape, X_smote.shape"
      ],
      "execution_count": null,
      "outputs": [
        {
          "output_type": "execute_result",
          "data": {
            "text/plain": [
              "((7322, 4), (3137, 4), (11790, 4))"
            ]
          },
          "metadata": {},
          "execution_count": 24
        }
      ]
    },
    {
      "cell_type": "code",
      "metadata": {
        "id": "kCqk9Lqll_c4",
        "colab": {
          "base_uri": "https://localhost:8080/"
        },
        "outputId": "900f3fd4-d0ce-4a42-e33b-f2a9da6eed3c"
      },
      "source": [
        "counter = Counter(Y_smote)\n",
        "print(counter)\n",
        "print(len(X_smote), len(X))\n",
        "print(\"old smote data after 10000 index: \", Counter(Y_smote[10000:]))\n",
        "\n",
        "idx = np.random.permutation(len(X_smote))\n",
        "print(len(idx))\n",
        "\n",
        "x_shuffled = []\n",
        "y_shuffled = []\n",
        "for i in idx:\n",
        "  x_shuffled.append(X_smote[i])\n",
        "  y_shuffled.append(Y_smote[i])\n",
        "\n",
        "print(\"shuffled smote data after 10000 index: \", Counter(y_shuffled[10000:]))\n",
        "Y_hot_encoded_train =  np.asarray(to_categorical(y_shuffled))\n",
        "#Y_hot_encoded_train = Y_hot_encoded_train.reshape(len(y_shuffled), n_steps_out, n_features_out)\n",
        "\n",
        "Y_hot_encoded_test =  np.asarray(to_categorical(test_Y))\n",
        "#Y_hot_encoded_test = Y_hot_encoded_test.reshape(len(test_Y), n_steps_out, n_features_out)\n",
        "\n",
        "Y_hot_encoded_train.shape, Y_hot_encoded_test.shape"
      ],
      "execution_count": null,
      "outputs": [
        {
          "output_type": "stream",
          "text": [
            "Counter({1: 1965, 2: 1965, 3: 1965, 0: 1965, 4: 1965, 5: 1965})\n",
            "11790 7322\n",
            "old smote data after 10000 index:  Counter({5: 1520, 4: 270})\n",
            "11790\n",
            "shuffled smote data after 10000 index:  Counter({5: 311, 3: 305, 0: 301, 1: 294, 2: 294, 4: 285})\n"
          ],
          "name": "stdout"
        },
        {
          "output_type": "execute_result",
          "data": {
            "text/plain": [
              "((11790, 6), (3137, 6))"
            ]
          },
          "metadata": {},
          "execution_count": 25
        }
      ]
    },
    {
      "cell_type": "code",
      "metadata": {
        "id": "HkBm7C4AzIRA",
        "colab": {
          "base_uri": "https://localhost:8080/"
        },
        "outputId": "e4e194e6-cf80-4634-9cfa-93abded38f8a"
      },
      "source": [
        "[ i for i in x_shuffled if i[3]>=1]"
      ],
      "execution_count": null,
      "outputs": [
        {
          "output_type": "execute_result",
          "data": {
            "text/plain": [
              "[array([0.57142857, 0.75      , 1.        , 1.        ]),\n",
              " array([1., 1., 1., 1.]),\n",
              " array([0.96428571, 0.97741318, 0.97741318, 1.        ]),\n",
              " array([1., 1., 1., 1.]),\n",
              " array([1., 1., 1., 1.]),\n",
              " array([1., 1., 1., 1.]),\n",
              " array([0.99018373, 1.        , 1.        , 1.        ]),\n",
              " array([0.98340267, 1.        , 1.        , 1.        ]),\n",
              " array([0.98897019, 0.98897019, 1.        , 1.        ]),\n",
              " array([1., 1., 1., 1.]),\n",
              " array([1., 1., 1., 1.]),\n",
              " array([0.53571429, 0.57142857, 0.75      , 1.        ]),\n",
              " array([1., 1., 1., 1.]),\n",
              " array([1., 1., 1., 1.]),\n",
              " array([1., 1., 1., 1.]),\n",
              " array([1., 1., 1., 1.]),\n",
              " array([1., 1., 1., 1.]),\n",
              " array([1., 1., 1., 1.]),\n",
              " array([0.96428571, 1.        , 1.        , 1.        ]),\n",
              " array([1., 1., 1., 1.]),\n",
              " array([1., 1., 1., 1.]),\n",
              " array([1., 1., 1., 1.]),\n",
              " array([1., 1., 1., 1.]),\n",
              " array([1., 1., 1., 1.]),\n",
              " array([1., 1., 1., 1.]),\n",
              " array([1., 1., 1., 1.]),\n",
              " array([1., 1., 1., 1.]),\n",
              " array([0.98099585, 1.        , 1.        , 1.        ]),\n",
              " array([1., 1., 1., 1.]),\n",
              " array([0.96428571, 0.96428571, 0.96428571, 1.        ]),\n",
              " array([0.97291423, 1.        , 1.        , 1.        ]),\n",
              " array([0.96428571, 0.96428571, 0.9704985 , 1.        ]),\n",
              " array([1., 1., 1., 1.]),\n",
              " array([1., 1., 1., 1.]),\n",
              " array([0.96428571, 0.96428571, 1.        , 1.        ]),\n",
              " array([1., 1., 1., 1.]),\n",
              " array([1., 1., 1., 1.]),\n",
              " array([1., 1., 1., 1.]),\n",
              " array([0.98512394, 0.98512394, 0.98512394, 1.        ]),\n",
              " array([0.96428571, 0.97291856, 1.        , 1.        ]),\n",
              " array([1., 1., 1., 1.]),\n",
              " array([1., 1., 1., 1.]),\n",
              " array([0.96428571, 0.97438965, 1.        , 1.        ]),\n",
              " array([1., 1., 1., 1.]),\n",
              " array([0.9897342, 0.9897342, 1.       , 1.       ]),\n",
              " array([1., 1., 1., 1.]),\n",
              " array([1., 1., 1., 1.]),\n",
              " array([0.98741242, 0.98741242, 1.        , 1.        ]),\n",
              " array([1., 1., 1., 1.]),\n",
              " array([0.75, 1.  , 1.  , 1.  ]),\n",
              " array([1., 1., 1., 1.])]"
            ]
          },
          "metadata": {},
          "execution_count": 39
        }
      ]
    },
    {
      "cell_type": "code",
      "metadata": {
        "id": "speG9FzmmOOt"
      },
      "source": [
        "            x_train, y_train = np.asarray(x_shuffled), np.asarray(Y_hot_encoded_train)\n",
        "            x_test, y_test = np.asarray(test_X), np.asarray(Y_hot_encoded_test)\n",
        "            x_train = x_train.reshape((x_train.shape[0], x_train.shape[1], n_features_in))\n",
        "            x_test = x_test.reshape((x_test.shape[0], x_test.shape[1], n_features_in))"
      ],
      "execution_count": null,
      "outputs": []
    },
    {
      "cell_type": "code",
      "metadata": {
        "id": "5TBkBXgomjLE",
        "colab": {
          "base_uri": "https://localhost:8080/"
        },
        "outputId": "3e53ee38-c3cc-4cc2-bb1a-7da849126d22"
      },
      "source": [
        "train_acc, test_acc, train_std_dev, test_std_dev, Best_Predict_Test, y_predicttrain, y_predicttest, report_train, report_test = MODEL_LSTM('vanilla', 'smote', univariate,x_train,x_test,y_train,y_test,Num_Exp,n_steps_in,n_steps_out,Epochs, Hidden)"
      ],
      "execution_count": null,
      "outputs": [
        {
          "output_type": "stream",
          "text": [
            "Experiment 1 in progress\n",
            "train acc:  0.8002054442732408\n",
            "test acc:  0.7506471095772218\n",
            "Experiment 2 in progress\n",
            "train acc:  0.8133646567475854\n",
            "test acc:  0.7471365638766521\n",
            "Experiment 3 in progress\n",
            "train acc:  0.8144058885383806\n",
            "test acc:  0.7493309545049063\n",
            "Total time for 3 experiments 559.8821361064911\n",
            "f1 scores for test data:  [0.75064711 0.74713656 0.74933095]\n"
          ],
          "name": "stdout"
        }
      ]
    },
    {
      "cell_type": "markdown",
      "metadata": {
        "id": "GE8NJQd511Gs"
      },
      "source": [
        "**SMOTE Results**"
      ]
    },
    {
      "cell_type": "code",
      "metadata": {
        "id": "c96OMCh_nTwi",
        "colab": {
          "base_uri": "https://localhost:8080/",
          "height": 761
        },
        "outputId": "aec40f48-a9e8-482a-9903-c78c1f710088"
      },
      "source": [
        "y = [i.argmax() for i in y_test]\n",
        "pred = [i.argmax() for i in Best_Predict_Test]\n",
        "cf_matrix_test = confusion_matrix(y, pred)\n",
        "make_confusion_matrix_chart2(cf_matrix_test, ocean + '_vanilla_cm_smote')"
      ],
      "execution_count": null,
      "outputs": [
        {
          "output_type": "display_data",
          "data": {
            "image/png": "[encoded data removed]",
            "text/plain": [
              "<Figure size 1440x864 with 2 Axes>"
            ]
          },
          "metadata": {}
        }
      ]
    },
    {
      "cell_type": "code",
      "metadata": {
        "id": "a0EZ7hlpbgHT"
      },
      "source": [
        "with open(\"predictions_\" + ocean + '_smote' + '.pkl', 'wb') as f: \n",
        "    pickle.dump([y_predicttrain, y_train, Best_Predict_Test, y_test, report_train, report_test], f)"
      ],
      "execution_count": null,
      "outputs": []
    },
    {
      "cell_type": "code",
      "metadata": {
        "id": "Tdj32cFmuhes",
        "colab": {
          "base_uri": "https://localhost:8080/",
          "height": 326
        },
        "outputId": "9f8451a9-b3f5-427d-ab7a-8e915a3f8ac5"
      },
      "source": [
        "report_df = pd.DataFrame(report_test).transpose()\n",
        "report_df = report_df.reset_index()\n",
        "model_eval  = report_df[report_df['index'].str.contains('1')][['precision','recall','f1-score']]\n",
        "model_eval['accuracy']  = list(report_df[report_df['index'].str.contains('accuracy')]['support'])\n",
        "report_df"
      ],
      "execution_count": null,
      "outputs": [
        {
          "output_type": "execute_result",
          "data": {
            "text/html": [
              "<div>\n",
              "<style scoped>\n",
              "    .dataframe tbody tr th:only-of-type {\n",
              "        vertical-align: middle;\n",
              "    }\n",
              "\n",
              "    .dataframe tbody tr th {\n",
              "        vertical-align: top;\n",
              "    }\n",
              "\n",
              "    .dataframe thead th {\n",
              "        text-align: right;\n",
              "    }\n",
              "</style>\n",
              "<table border=\"1\" class=\"dataframe\">\n",
              "  <thead>\n",
              "    <tr style=\"text-align: right;\">\n",
              "      <th></th>\n",
              "      <th>index</th>\n",
              "      <th>precision</th>\n",
              "      <th>recall</th>\n",
              "      <th>f1-score</th>\n",
              "      <th>support</th>\n",
              "    </tr>\n",
              "  </thead>\n",
              "  <tbody>\n",
              "    <tr>\n",
              "      <th>0</th>\n",
              "      <td>0</td>\n",
              "      <td>0.924051</td>\n",
              "      <td>0.800731</td>\n",
              "      <td>0.857982</td>\n",
              "      <td>547.00000</td>\n",
              "    </tr>\n",
              "    <tr>\n",
              "      <th>1</th>\n",
              "      <td>1</td>\n",
              "      <td>0.752595</td>\n",
              "      <td>0.748709</td>\n",
              "      <td>0.750647</td>\n",
              "      <td>581.00000</td>\n",
              "    </tr>\n",
              "    <tr>\n",
              "      <th>2</th>\n",
              "      <td>2</td>\n",
              "      <td>0.719685</td>\n",
              "      <td>0.870476</td>\n",
              "      <td>0.787931</td>\n",
              "      <td>525.00000</td>\n",
              "    </tr>\n",
              "    <tr>\n",
              "      <th>3</th>\n",
              "      <td>3</td>\n",
              "      <td>0.899550</td>\n",
              "      <td>0.837989</td>\n",
              "      <td>0.867679</td>\n",
              "      <td>716.00000</td>\n",
              "    </tr>\n",
              "    <tr>\n",
              "      <th>4</th>\n",
              "      <td>4</td>\n",
              "      <td>0.849287</td>\n",
              "      <td>0.896774</td>\n",
              "      <td>0.872385</td>\n",
              "      <td>465.00000</td>\n",
              "    </tr>\n",
              "    <tr>\n",
              "      <th>5</th>\n",
              "      <td>5</td>\n",
              "      <td>0.941781</td>\n",
              "      <td>0.907591</td>\n",
              "      <td>0.924370</td>\n",
              "      <td>303.00000</td>\n",
              "    </tr>\n",
              "    <tr>\n",
              "      <th>6</th>\n",
              "      <td>accuracy</td>\n",
              "      <td>0.835830</td>\n",
              "      <td>0.835830</td>\n",
              "      <td>0.835830</td>\n",
              "      <td>0.83583</td>\n",
              "    </tr>\n",
              "    <tr>\n",
              "      <th>7</th>\n",
              "      <td>macro avg</td>\n",
              "      <td>0.847825</td>\n",
              "      <td>0.843712</td>\n",
              "      <td>0.843499</td>\n",
              "      <td>3137.00000</td>\n",
              "    </tr>\n",
              "    <tr>\n",
              "      <th>8</th>\n",
              "      <td>weighted avg</td>\n",
              "      <td>0.843132</td>\n",
              "      <td>0.835830</td>\n",
              "      <td>0.837140</td>\n",
              "      <td>3137.00000</td>\n",
              "    </tr>\n",
              "  </tbody>\n",
              "</table>\n",
              "</div>"
            ],
            "text/plain": [
              "          index  precision    recall  f1-score     support\n",
              "0             0   0.924051  0.800731  0.857982   547.00000\n",
              "1             1   0.752595  0.748709  0.750647   581.00000\n",
              "2             2   0.719685  0.870476  0.787931   525.00000\n",
              "3             3   0.899550  0.837989  0.867679   716.00000\n",
              "4             4   0.849287  0.896774  0.872385   465.00000\n",
              "5             5   0.941781  0.907591  0.924370   303.00000\n",
              "6      accuracy   0.835830  0.835830  0.835830     0.83583\n",
              "7     macro avg   0.847825  0.843712  0.843499  3137.00000\n",
              "8  weighted avg   0.843132  0.835830  0.837140  3137.00000"
            ]
          },
          "metadata": {},
          "execution_count": 44
        }
      ]
    },
    {
      "cell_type": "code",
      "metadata": {
        "id": "MkKHvNFDbE_o",
        "colab": {
          "base_uri": "https://localhost:8080/"
        },
        "outputId": "ae2607b4-e118-4eae-a7dc-a1619fb0953c"
      },
      "source": [
        "for i in range(report_df.shape[0]):\n",
        "  tmp=\"\"\n",
        "  for j in ['precision', 'recall', 'f1-score', 'support']:\n",
        "    tmp=tmp+ str(round(report_df[j][i],4)) + \" & \"\n",
        "  print(tmp)"
      ],
      "execution_count": null,
      "outputs": [
        {
          "output_type": "stream",
          "text": [
            "0.9241 & 0.8007 & 0.858 & 547.0 & \n",
            "0.7526 & 0.7487 & 0.7506 & 581.0 & \n",
            "0.7197 & 0.8705 & 0.7879 & 525.0 & \n",
            "0.8996 & 0.838 & 0.8677 & 716.0 & \n",
            "0.8493 & 0.8968 & 0.8724 & 465.0 & \n",
            "0.9418 & 0.9076 & 0.9244 & 303.0 & \n",
            "0.8358 & 0.8358 & 0.8358 & 0.8358 & \n",
            "0.8478 & 0.8437 & 0.8435 & 3137.0 & \n",
            "0.8431 & 0.8358 & 0.8371 & 3137.0 & \n"
          ],
          "name": "stdout"
        }
      ]
    },
    {
      "cell_type": "code",
      "metadata": {
        "id": "YMg3CTUMwE5n"
      },
      "source": [
        "import torch\n",
        "from torch import nn\n",
        "from tqdm.auto import tqdm\n",
        "from torchvision import transforms\n",
        "from torchvision.utils import make_grid\n",
        "from torch.utils.data import DataLoader\n",
        "import matplotlib.pyplot as plt\n",
        "torch.cuda.empty_cache()"
      ],
      "execution_count": null,
      "outputs": []
    },
    {
      "cell_type": "markdown",
      "metadata": {
        "id": "I4KRjr4L7SBF"
      },
      "source": [
        "**Simple GAN**"
      ]
    },
    {
      "cell_type": "code",
      "metadata": {
        "id": "H9CRsu637Pc7"
      },
      "source": [
        "x_shuffled = X\n",
        "y_shuffled = Y"
      ],
      "execution_count": null,
      "outputs": []
    },
    {
      "cell_type": "code",
      "metadata": {
        "colab": {
          "base_uri": "https://localhost:8080/"
        },
        "id": "eELOYics7V_B",
        "outputId": "eb99822a-9c05-4008-e1fd-ee1fbed14eb6"
      },
      "source": [
        "len(x_shuffled), len(X), len(y_shuffled)"
      ],
      "execution_count": null,
      "outputs": [
        {
          "output_type": "execute_result",
          "data": {
            "text/plain": [
              "(7322, 7322, 7322)"
            ]
          },
          "metadata": {},
          "execution_count": 28
        }
      ]
    },
    {
      "cell_type": "code",
      "metadata": {
        "id": "ZBKGQkAx_h7q"
      },
      "source": [
        "t2 = np.asarray(x_shuffled).shape\n",
        "X_oversampled = torch.from_numpy(np.asarray(x_shuffled))"
      ],
      "execution_count": null,
      "outputs": []
    },
    {
      "cell_type": "code",
      "metadata": {
        "id": "JZ8aigTu_Vqb"
      },
      "source": [
        "def get_generator_block(input_dim, output_dim):\n",
        "    return nn.Sequential(\n",
        "        nn.Linear(input_dim, output_dim),\n",
        "        nn.BatchNorm1d(output_dim),\n",
        "        nn.ReLU(inplace=True),\n",
        "    )\n",
        "class Generator(nn.Module):\n",
        "\n",
        "    def __init__(self, z_dim=t2[1], im_dim=t2[1], hidden_dim=128):\n",
        "        super(Generator, self).__init__()\n",
        "        self.gen = nn.Sequential(\n",
        "            get_generator_block(z_dim, hidden_dim),\n",
        "            get_generator_block(hidden_dim, hidden_dim * 2),\n",
        "            get_generator_block(hidden_dim * 2, hidden_dim * 4),\n",
        "            get_generator_block(hidden_dim * 4, hidden_dim * 8),\n",
        "            nn.Linear(hidden_dim * 8, im_dim),\n",
        "            nn.Sigmoid()\n",
        "        )\n",
        "    def forward(self, noise):\n",
        "        return self.gen(noise)\n",
        "    \n",
        "    \n",
        "    def get_gen(self):\n",
        "\n",
        "        return self.gen\n",
        "def get_discriminator_block(input_dim, output_dim):\n",
        "    return nn.Sequential(\n",
        "        nn.Linear(input_dim, output_dim),\n",
        "        nn.LeakyReLU(0.2, inplace=True)        \n",
        "    )\n",
        "class Discriminator(nn.Module):\n",
        "    def __init__(self, im_dim=t2[1], hidden_dim=128):\n",
        "        super(Discriminator, self).__init__()\n",
        "        self.disc = nn.Sequential(\n",
        "            get_discriminator_block(im_dim, hidden_dim * 4),\n",
        "            get_discriminator_block(hidden_dim * 4, hidden_dim * 2),\n",
        "            get_discriminator_block(hidden_dim * 2, hidden_dim),\n",
        "            nn.Linear(hidden_dim, 1)\n",
        "        )\n",
        "\n",
        "    def forward(self, image):\n",
        "\n",
        "        return self.disc(image)\n",
        "    \n",
        "    def get_disc(self):\n",
        "\n",
        "        return self.dis\n",
        "def get_noise(n_samples, z_dim, device='cuda'):\n",
        "\n",
        "    return torch.randn(n_samples,z_dim,device=device) "
      ],
      "execution_count": null,
      "outputs": []
    },
    {
      "cell_type": "code",
      "metadata": {
        "id": "BM5WSPh2_bRW"
      },
      "source": [
        "criterion = nn.BCEWithLogitsLoss()\n",
        "n_epochs = 1000\n",
        "z_dim = t2[1]\n",
        "batch_size = 128\n",
        "lr = 0.00001\n",
        "display_step = 1\n",
        "device = 'cuda'\n",
        "gen = Generator(z_dim).to(device)\n",
        "gen_opt = torch.optim.Adam(gen.parameters(), lr=lr)\n",
        "disc = Discriminator().to(device) \n",
        "disc_opt = torch.optim.Adam(disc.parameters(), lr=lr)"
      ],
      "execution_count": null,
      "outputs": []
    },
    {
      "cell_type": "code",
      "metadata": {
        "id": "C4uFa0ysAorI"
      },
      "source": [
        "def get_disc_loss(gen, disc, criterion, real, num_images, z_dim, device):\n",
        "\n",
        "    fake_noise = get_noise(num_images, z_dim, device=device)\n",
        "    fake = gen(fake_noise)\n",
        "    disc_fake_pred = disc(fake.detach())\n",
        "    disc_fake_loss = criterion(disc_fake_pred, torch.zeros_like(disc_fake_pred))\n",
        "    disc_real_pred = disc(real)\n",
        "    disc_real_loss = criterion(disc_real_pred, torch.ones_like(disc_real_pred))\n",
        "    disc_loss = (disc_fake_loss + disc_real_loss) / 2\n",
        "\n",
        "    return disc_loss\n",
        "\n",
        "def get_gen_loss(gen, disc, criterion, num_images, z_dim, device):\n",
        "\n",
        "    fake_noise = get_noise(num_images, z_dim, device=device)\n",
        "    fake = gen(fake_noise)\n",
        "    disc_fake_pred = disc(fake)\n",
        "    gen_loss = criterion(disc_fake_pred, torch.ones_like(disc_fake_pred))\n",
        "    return gen_loss"
      ],
      "execution_count": null,
      "outputs": []
    },
    {
      "cell_type": "code",
      "metadata": {
        "id": "LHvN5pdJBnj9",
        "colab": {
          "base_uri": "https://localhost:8080/"
        },
        "outputId": "89933138-2f41-4337-be6d-f7f138e1a430"
      },
      "source": [
        "li=[]\n",
        "for i in range(len(y_shuffled)):\n",
        "    if int(y_shuffled[i])==2:\n",
        "        li.append(x_shuffled[i])\n",
        "        \n",
        "len(y_shuffled), len(li)"
      ],
      "execution_count": null,
      "outputs": [
        {
          "output_type": "execute_result",
          "data": {
            "text/plain": [
              "(7322, 1190)"
            ]
          },
          "metadata": {},
          "execution_count": 33
        }
      ]
    },
    {
      "cell_type": "code",
      "metadata": {
        "colab": {
          "base_uri": "https://localhost:8080/"
        },
        "id": "51T3WTghBuP6",
        "outputId": "93a53758-dcc9-4cef-ced0-ae03b57f944c"
      },
      "source": [
        "X_real=np.array(li)\n",
        "t3=X_real.shape\n",
        "li2=[1]*(t3[0])\n",
        "y_real=np.array(li2)\n",
        "y_real.shape"
      ],
      "execution_count": null,
      "outputs": [
        {
          "output_type": "execute_result",
          "data": {
            "text/plain": [
              "(1190,)"
            ]
          },
          "metadata": {},
          "execution_count": 34
        }
      ]
    },
    {
      "cell_type": "code",
      "metadata": {
        "id": "qtL0Qv9pG9Vb"
      },
      "source": [
        "from torch.utils.data import TensorDataset, DataLoader\n",
        "tensor_x = torch.Tensor(X_real) \n",
        "tensor_y = torch.Tensor(y_real)\n",
        "my_dataset = TensorDataset(tensor_x,tensor_y)\n",
        "dataloader = DataLoader(\n",
        "    my_dataset,\n",
        "    batch_size=batch_size,\n",
        "    shuffle=True)\n",
        "\n",
        "cur_step = 0\n",
        "mean_generator_loss = 0\n",
        "mean_discriminator_loss = 0\n",
        "test_generator = True \n",
        "gen_loss = False\n",
        "error = False"
      ],
      "execution_count": null,
      "outputs": []
    },
    {
      "cell_type": "code",
      "metadata": {
        "colab": {
          "base_uri": "https://localhost:8080/"
        },
        "id": "WCKyNS3zwa2i",
        "outputId": "effb9ced-745e-405c-ec4d-dc9badaf28a4"
      },
      "source": [
        "samples_to_generate = int((X_oversampled.shape[0]-X_real.shape[0])/6)\n",
        "print(samples_to_generate)"
      ],
      "execution_count": null,
      "outputs": [
        {
          "output_type": "stream",
          "text": [
            "1022\n"
          ],
          "name": "stdout"
        }
      ]
    },
    {
      "cell_type": "code",
      "metadata": {
        "id": "MLMqmAvksXs0"
      },
      "source": [
        "#epochs = [100,500,1000,2000,3000,4000,5000]\n",
        "epochs = [5000]"
      ],
      "execution_count": null,
      "outputs": []
    },
    {
      "cell_type": "code",
      "metadata": {
        "id": "gZw97bqSxx6l"
      },
      "source": [
        "original_gan_data = dict()\n",
        "both_class_gan_data = dict()"
      ],
      "execution_count": null,
      "outputs": []
    },
    {
      "cell_type": "code",
      "metadata": {
        "colab": {
          "base_uri": "https://localhost:8080/"
        },
        "id": "KUK0LHadsThN",
        "outputId": "94cd8fa9-ea9a-4ab3-cc93-5cde49e921ba"
      },
      "source": [
        "for no_epoch in epochs:\n",
        "  print(\"no of epochs: \", no_epoch)\n",
        "  for epoch in range(no_epoch):\n",
        "  \n",
        "   \n",
        "    for real, _ in tqdm(dataloader, disable=True):\n",
        "        cur_batch_size = len(real)\n",
        "\n",
        "       \n",
        "        real = real.view(cur_batch_size, -1).to(device)\n",
        "\n",
        "      \n",
        "       \n",
        "        disc_opt.zero_grad()\n",
        "\n",
        "       \n",
        "        disc_loss = get_disc_loss(gen, disc, criterion, real, cur_batch_size, z_dim, device)\n",
        "\n",
        "        \n",
        "        disc_loss.backward(retain_graph=True)\n",
        "\n",
        "       \n",
        "        disc_opt.step()\n",
        "\n",
        "      \n",
        "        if test_generator:\n",
        "            old_generator_weights = gen.gen[0][0].weight.detach().clone()\n",
        "\n",
        "        gen_opt.zero_grad()\n",
        "        gen_loss = get_gen_loss(gen, disc, criterion, cur_batch_size, z_dim, device)\n",
        "        gen_loss.backward()\n",
        "        gen_opt.step()\n",
        "\n",
        "        if test_generator:\n",
        "            try:\n",
        "                assert lr > 0.0000002 or (gen.gen[0][0].weight.grad.abs().max() < 0.0005 and epoch == 0)\n",
        "                assert torch.any(gen.gen[0][0].weight.detach().clone() != old_generator_weights)\n",
        "            except:\n",
        "                error = True\n",
        "                print(\"Runtime tests have failed\")\n",
        "\n",
        "     \n",
        "        mean_discriminator_loss += disc_loss.item() / display_step\n",
        "\n",
        "  \n",
        "        mean_generator_loss += gen_loss.item() / display_step\n",
        "\n",
        "        if epoch%500==0:\n",
        "            print(f\"Epoch {epoch}: Step {cur_step}: Generator loss: {mean_generator_loss}, discriminator loss: {mean_discriminator_loss}\")\n",
        "\n",
        "        if cur_step % display_step == 0 and cur_step > 0:\n",
        "            mean_generator_loss = 0\n",
        "            mean_discriminator_loss = 0\n",
        "        cur_step += 1\n",
        "  fake_noise = get_noise(samples_to_generate, z_dim, device=device)\n",
        "  res=gen(fake_noise)\n",
        "  fres=res.cpu().detach().numpy()\n",
        "  X_old=X\n",
        "  finX=np.concatenate((X_old, fres), axis=0)\n",
        "  y_fake = np.full(shape=samples_to_generate,fill_value=2)\n",
        "  Y_old=np.asarray(Y)\n",
        "  finY = np.append(Y_old, y_fake, axis=0)\n",
        "  print(finX.shape, finY.shape)\n",
        "  #idx = np.random.permutation(len(X_smote))\n",
        "  idx = np.random.permutation(finX.shape[0])\n",
        "  print(len(idx))\n",
        "  x_shuffled = []\n",
        "  y_shuffled = []\n",
        "  xy=dict()\n",
        "  for i in idx:\n",
        "    #x_shuffled.append(X_smote[i])\n",
        "    #y_shuffled.append(Y_smote[i])\n",
        "    x_shuffled.append(finX[i])\n",
        "    y_shuffled.append(finY[i])\n",
        "  xy['x_shuffled']=x_shuffled\n",
        "  xy['y_shuffled']=y_shuffled\n",
        "  original_gan_data[no_epoch]=xy"
      ],
      "execution_count": null,
      "outputs": [
        {
          "output_type": "stream",
          "text": [
            "no of epochs:  5000\n",
            "Epoch 0: Step 0: Generator loss: 0.7421272993087769, discriminator loss: 0.6923505067825317\n",
            "Epoch 0: Step 1: Generator loss: 1.484782099723816, discriminator loss: 1.3843377828598022\n",
            "Epoch 0: Step 2: Generator loss: 0.7431156039237976, discriminator loss: 0.6917926073074341\n",
            "Epoch 0: Step 3: Generator loss: 0.7436074018478394, discriminator loss: 0.6916486024856567\n",
            "Epoch 0: Step 4: Generator loss: 0.7440751194953918, discriminator loss: 0.6912561655044556\n",
            "Epoch 0: Step 5: Generator loss: 0.7445806860923767, discriminator loss: 0.690875768661499\n",
            "Epoch 0: Step 6: Generator loss: 0.7450639009475708, discriminator loss: 0.6908825635910034\n",
            "Epoch 0: Step 7: Generator loss: 0.7455576062202454, discriminator loss: 0.6908133029937744\n",
            "Epoch 0: Step 8: Generator loss: 0.7460073232650757, discriminator loss: 0.6903039216995239\n",
            "Epoch 0: Step 9: Generator loss: 0.7464237213134766, discriminator loss: 0.6899867057800293\n",
            "Epoch 500: Step 5000: Generator loss: 0.6974006295204163, discriminator loss: 0.6930593252182007\n",
            "Epoch 500: Step 5001: Generator loss: 0.6970654726028442, discriminator loss: 0.6937490701675415\n",
            "Epoch 500: Step 5002: Generator loss: 0.6965897083282471, discriminator loss: 0.6943178176879883\n",
            "Epoch 500: Step 5003: Generator loss: 0.696405291557312, discriminator loss: 0.6936498880386353\n",
            "Epoch 500: Step 5004: Generator loss: 0.6958209276199341, discriminator loss: 0.6942662000656128\n",
            "Epoch 500: Step 5005: Generator loss: 0.6956636905670166, discriminator loss: 0.6939495801925659\n",
            "Epoch 500: Step 5006: Generator loss: 0.6956703662872314, discriminator loss: 0.6935501098632812\n",
            "Epoch 500: Step 5007: Generator loss: 0.6950162649154663, discriminator loss: 0.6937657594680786\n",
            "Epoch 500: Step 5008: Generator loss: 0.6945752501487732, discriminator loss: 0.6934155225753784\n",
            "Epoch 500: Step 5009: Generator loss: 0.695372462272644, discriminator loss: 0.6933380365371704\n",
            "Epoch 1000: Step 10000: Generator loss: 0.6948792338371277, discriminator loss: 0.6921069622039795\n",
            "Epoch 1000: Step 10001: Generator loss: 0.6949830651283264, discriminator loss: 0.6921323537826538\n",
            "Epoch 1000: Step 10002: Generator loss: 0.6951354742050171, discriminator loss: 0.6925002336502075\n",
            "Epoch 1000: Step 10003: Generator loss: 0.6952049732208252, discriminator loss: 0.6922111511230469\n",
            "Epoch 1000: Step 10004: Generator loss: 0.6950871348381042, discriminator loss: 0.6921188235282898\n",
            "Epoch 1000: Step 10005: Generator loss: 0.6954033374786377, discriminator loss: 0.6923558712005615\n",
            "Epoch 1000: Step 10006: Generator loss: 0.6953074932098389, discriminator loss: 0.692546546459198\n",
            "Epoch 1000: Step 10007: Generator loss: 0.6954294443130493, discriminator loss: 0.6921716928482056\n",
            "Epoch 1000: Step 10008: Generator loss: 0.6954500079154968, discriminator loss: 0.6922284364700317\n",
            "Epoch 1000: Step 10009: Generator loss: 0.6953814029693604, discriminator loss: 0.6924557685852051\n",
            "Epoch 1500: Step 15000: Generator loss: 0.6916833519935608, discriminator loss: 0.7008649706840515\n",
            "Epoch 1500: Step 15001: Generator loss: 0.6917970180511475, discriminator loss: 0.6987449526786804\n",
            "Epoch 1500: Step 15002: Generator loss: 0.6932747960090637, discriminator loss: 0.7005404233932495\n",
            "Epoch 1500: Step 15003: Generator loss: 0.6922188997268677, discriminator loss: 0.7001593112945557\n",
            "Epoch 1500: Step 15004: Generator loss: 0.6928883194923401, discriminator loss: 0.699212908744812\n",
            "Epoch 1500: Step 15005: Generator loss: 0.6944689154624939, discriminator loss: 0.7012439370155334\n",
            "Epoch 1500: Step 15006: Generator loss: 0.6951475143432617, discriminator loss: 0.6988567113876343\n",
            "Epoch 1500: Step 15007: Generator loss: 0.6957894563674927, discriminator loss: 0.6996335387229919\n",
            "Epoch 1500: Step 15008: Generator loss: 0.6947408318519592, discriminator loss: 0.7001423835754395\n",
            "Epoch 1500: Step 15009: Generator loss: 0.6960404515266418, discriminator loss: 0.7023715376853943\n",
            "Epoch 2000: Step 20000: Generator loss: 0.690606951713562, discriminator loss: 0.692164957523346\n",
            "Epoch 2000: Step 20001: Generator loss: 0.6903237700462341, discriminator loss: 0.6924253106117249\n",
            "Epoch 2000: Step 20002: Generator loss: 0.690795361995697, discriminator loss: 0.692118763923645\n",
            "Epoch 2000: Step 20003: Generator loss: 0.6906029582023621, discriminator loss: 0.6925212740898132\n",
            "Epoch 2000: Step 20004: Generator loss: 0.6906842589378357, discriminator loss: 0.6933530569076538\n",
            "Epoch 2000: Step 20005: Generator loss: 0.6911611557006836, discriminator loss: 0.6930816173553467\n",
            "Epoch 2000: Step 20006: Generator loss: 0.690642774105072, discriminator loss: 0.6928495764732361\n",
            "Epoch 2000: Step 20007: Generator loss: 0.6905502080917358, discriminator loss: 0.692400336265564\n",
            "Epoch 2000: Step 20008: Generator loss: 0.6903647184371948, discriminator loss: 0.6929548382759094\n",
            "Epoch 2000: Step 20009: Generator loss: 0.6909236907958984, discriminator loss: 0.6932655572891235\n",
            "Epoch 2500: Step 25000: Generator loss: 0.6900779008865356, discriminator loss: 0.6933068037033081\n",
            "Epoch 2500: Step 25001: Generator loss: 0.6902753114700317, discriminator loss: 0.6940130591392517\n",
            "Epoch 2500: Step 25002: Generator loss: 0.6903589367866516, discriminator loss: 0.694125771522522\n",
            "Epoch 2500: Step 25003: Generator loss: 0.6907398700714111, discriminator loss: 0.6939309239387512\n",
            "Epoch 2500: Step 25004: Generator loss: 0.6908623576164246, discriminator loss: 0.6939214468002319\n",
            "Epoch 2500: Step 25005: Generator loss: 0.6909242868423462, discriminator loss: 0.6938921213150024\n",
            "Epoch 2500: Step 25006: Generator loss: 0.6909977793693542, discriminator loss: 0.6936079263687134\n",
            "Epoch 2500: Step 25007: Generator loss: 0.6911657452583313, discriminator loss: 0.6936455368995667\n",
            "Epoch 2500: Step 25008: Generator loss: 0.6914528608322144, discriminator loss: 0.6938858032226562\n",
            "Epoch 2500: Step 25009: Generator loss: 0.6916834115982056, discriminator loss: 0.693159818649292\n",
            "Epoch 3000: Step 30000: Generator loss: 0.68915194272995, discriminator loss: 0.6927995681762695\n",
            "Epoch 3000: Step 30001: Generator loss: 0.6888618469238281, discriminator loss: 0.6925628185272217\n",
            "Epoch 3000: Step 30002: Generator loss: 0.6888523101806641, discriminator loss: 0.6926354169845581\n",
            "Epoch 3000: Step 30003: Generator loss: 0.688251256942749, discriminator loss: 0.6940058469772339\n",
            "Epoch 3000: Step 30004: Generator loss: 0.68792325258255, discriminator loss: 0.6934318542480469\n",
            "Epoch 3000: Step 30005: Generator loss: 0.6871668100357056, discriminator loss: 0.6928114295005798\n",
            "Epoch 3000: Step 30006: Generator loss: 0.6869263648986816, discriminator loss: 0.693169116973877\n",
            "Epoch 3000: Step 30007: Generator loss: 0.6866551637649536, discriminator loss: 0.6933478116989136\n",
            "Epoch 3000: Step 30008: Generator loss: 0.6865155696868896, discriminator loss: 0.6930546164512634\n",
            "Epoch 3000: Step 30009: Generator loss: 0.6854444742202759, discriminator loss: 0.6934454441070557\n",
            "Epoch 3500: Step 35000: Generator loss: 0.6989129185676575, discriminator loss: 0.693405032157898\n",
            "Epoch 3500: Step 35001: Generator loss: 0.6986841559410095, discriminator loss: 0.6927184462547302\n",
            "Epoch 3500: Step 35002: Generator loss: 0.6986645460128784, discriminator loss: 0.6927220821380615\n",
            "Epoch 3500: Step 35003: Generator loss: 0.6983277797698975, discriminator loss: 0.6929149627685547\n",
            "Epoch 3500: Step 35004: Generator loss: 0.6982294917106628, discriminator loss: 0.6927803754806519\n",
            "Epoch 3500: Step 35005: Generator loss: 0.6979715824127197, discriminator loss: 0.6927553415298462\n",
            "Epoch 3500: Step 35006: Generator loss: 0.6979941129684448, discriminator loss: 0.69318687915802\n",
            "Epoch 3500: Step 35007: Generator loss: 0.6978510022163391, discriminator loss: 0.6931427717208862\n",
            "Epoch 3500: Step 35008: Generator loss: 0.6977127194404602, discriminator loss: 0.6930301189422607\n",
            "Epoch 3500: Step 35009: Generator loss: 0.6968694925308228, discriminator loss: 0.6932989358901978\n",
            "Epoch 4000: Step 40000: Generator loss: 0.6924694180488586, discriminator loss: 0.6932415962219238\n",
            "Epoch 4000: Step 40001: Generator loss: 0.6927571296691895, discriminator loss: 0.693600058555603\n",
            "Epoch 4000: Step 40002: Generator loss: 0.6927304267883301, discriminator loss: 0.693571925163269\n",
            "Epoch 4000: Step 40003: Generator loss: 0.6927222013473511, discriminator loss: 0.6933271288871765\n",
            "Epoch 4000: Step 40004: Generator loss: 0.6926406621932983, discriminator loss: 0.693632185459137\n",
            "Epoch 4000: Step 40005: Generator loss: 0.6925089955329895, discriminator loss: 0.6934791803359985\n",
            "Epoch 4000: Step 40006: Generator loss: 0.6927295923233032, discriminator loss: 0.6933817863464355\n",
            "Epoch 4000: Step 40007: Generator loss: 0.692692220211029, discriminator loss: 0.6935481429100037\n",
            "Epoch 4000: Step 40008: Generator loss: 0.6926836967468262, discriminator loss: 0.6933119297027588\n",
            "Epoch 4000: Step 40009: Generator loss: 0.6924487352371216, discriminator loss: 0.6932582855224609\n",
            "Epoch 4500: Step 45000: Generator loss: 0.6928574442863464, discriminator loss: 0.6937384605407715\n",
            "Epoch 4500: Step 45001: Generator loss: 0.6934266090393066, discriminator loss: 0.6936206221580505\n",
            "Epoch 4500: Step 45002: Generator loss: 0.6935620903968811, discriminator loss: 0.6935886740684509\n",
            "Epoch 4500: Step 45003: Generator loss: 0.6939036846160889, discriminator loss: 0.6936208605766296\n",
            "Epoch 4500: Step 45004: Generator loss: 0.6940536499023438, discriminator loss: 0.6936047077178955\n",
            "Epoch 4500: Step 45005: Generator loss: 0.694178581237793, discriminator loss: 0.6936398148536682\n",
            "Epoch 4500: Step 45006: Generator loss: 0.6944949626922607, discriminator loss: 0.693695068359375\n",
            "Epoch 4500: Step 45007: Generator loss: 0.6948801279067993, discriminator loss: 0.6934988498687744\n",
            "Epoch 4500: Step 45008: Generator loss: 0.6952893733978271, discriminator loss: 0.693862795829773\n",
            "Epoch 4500: Step 45009: Generator loss: 0.6955073475837708, discriminator loss: 0.6936717629432678\n",
            "(8344, 4) (8344,)\n",
            "8344\n"
          ],
          "name": "stdout"
        }
      ]
    },
    {
      "cell_type": "code",
      "metadata": {
        "id": "r44Xs2jfZGB9"
      },
      "source": [
        "both_class_gan_data[1]=original_gan_data"
      ],
      "execution_count": null,
      "outputs": []
    },
    {
      "cell_type": "code",
      "metadata": {
        "id": "M-Y8eiALZWNq"
      },
      "source": [
        "li=[]\n",
        "for i in range(len(y_shuffled)):\n",
        "    if int(y_shuffled[i])==1:\n",
        "        li.append(x_shuffled[i])\n",
        "        \n",
        "len(y_shuffled), len(li)\n",
        "\n",
        "X_real=np.array(li)\n",
        "t3=X_real.shape\n",
        "li2=[1]*(t3[0])\n",
        "y_real=np.array(li2)\n",
        "y_real.shape"
      ],
      "execution_count": null,
      "outputs": []
    },
    {
      "cell_type": "code",
      "metadata": {
        "id": "9aW6HSLDZWRK"
      },
      "source": [
        "from torch.utils.data import TensorDataset, DataLoader\n",
        "tensor_x = torch.Tensor(X_real) \n",
        "tensor_y = torch.Tensor(y_real)\n",
        "my_dataset = TensorDataset(tensor_x,tensor_y)\n",
        "dataloader = DataLoader(\n",
        "    my_dataset,\n",
        "    batch_size=batch_size,\n",
        "    shuffle=True)\n",
        "\n",
        "cur_step = 0\n",
        "mean_generator_loss = 0\n",
        "mean_discriminator_loss = 0\n",
        "test_generator = True \n",
        "gen_loss = False\n",
        "error = False"
      ],
      "execution_count": null,
      "outputs": []
    },
    {
      "cell_type": "code",
      "metadata": {
        "id": "IDSHkO2GZWY0"
      },
      "source": [
        "samples_to_generate = int((X_oversampled.shape[0]-X_real.shape[0])/6)\n",
        "print(samples_to_generate)\n",
        "original_gan_data = dict()\n"
      ],
      "execution_count": null,
      "outputs": []
    },
    {
      "cell_type": "code",
      "metadata": {
        "id": "V3Jl9xUnZWdN"
      },
      "source": [
        "for no_epoch in epochs:\n",
        "  print(\"no of epochs: \", no_epoch)\n",
        "  for epoch in range(no_epoch):\n",
        "  \n",
        "   \n",
        "    for real, _ in tqdm(dataloader, disable=True):\n",
        "        cur_batch_size = len(real)\n",
        "\n",
        "       \n",
        "        real = real.view(cur_batch_size, -1).to(device)\n",
        "\n",
        "      \n",
        "       \n",
        "        disc_opt.zero_grad()\n",
        "\n",
        "       \n",
        "        disc_loss = get_disc_loss(gen, disc, criterion, real, cur_batch_size, z_dim, device)\n",
        "\n",
        "        \n",
        "        disc_loss.backward(retain_graph=True)\n",
        "\n",
        "       \n",
        "        disc_opt.step()\n",
        "\n",
        "      \n",
        "        if test_generator:\n",
        "            old_generator_weights = gen.gen[0][0].weight.detach().clone()\n",
        "\n",
        "        gen_opt.zero_grad()\n",
        "        gen_loss = get_gen_loss(gen, disc, criterion, cur_batch_size, z_dim, device)\n",
        "        gen_loss.backward()\n",
        "        gen_opt.step()\n",
        "\n",
        "        if test_generator:\n",
        "            try:\n",
        "                assert lr > 0.0000002 or (gen.gen[0][0].weight.grad.abs().max() < 0.0005 and epoch == 0)\n",
        "                assert torch.any(gen.gen[0][0].weight.detach().clone() != old_generator_weights)\n",
        "            except:\n",
        "                error = True\n",
        "                print(\"Runtime tests have failed\")\n",
        "\n",
        "     \n",
        "        mean_discriminator_loss += disc_loss.item() / display_step\n",
        "\n",
        "  \n",
        "        mean_generator_loss += gen_loss.item() / display_step\n",
        "\n",
        "        if epoch%500==0:\n",
        "            print(f\"Epoch {epoch}: Step {cur_step}: Generator loss: {mean_generator_loss}, discriminator loss: {mean_discriminator_loss}\")\n",
        "\n",
        "        if cur_step % display_step == 0 and cur_step > 0:\n",
        "            mean_generator_loss = 0\n",
        "            mean_discriminator_loss = 0\n",
        "        cur_step += 1\n",
        "  fake_noise = get_noise(samples_to_generate, z_dim, device=device)\n",
        "  res=gen(fake_noise)\n",
        "  fres=res.cpu().detach().numpy()\n",
        "  X_old=X\n",
        "  finX=np.concatenate((X_old, fres), axis=0)\n",
        "  y_fake = np.ones(samples_to_generate)\n",
        "  Y_old=np.asarray(Y)\n",
        "  finY = np.append(Y_old, y_fake, axis=0)\n",
        "  print(finX.shape, finY.shape)\n",
        "  #idx = np.random.permutation(len(X_smote))\n",
        "  idx = np.random.permutation(finX.shape[0])\n",
        "  print(len(idx))\n",
        "  x_shuffled = []\n",
        "  y_shuffled = []\n",
        "  xy=dict()\n",
        "  for i in idx:\n",
        "    #x_shuffled.append(X_smote[i])\n",
        "    #y_shuffled.append(Y_smote[i])\n",
        "    x_shuffled.append(finX[i])\n",
        "    y_shuffled.append(finY[i])\n",
        "  xy['x_shuffled']=x_shuffled\n",
        "  xy['y_shuffled']=y_shuffled\n",
        "  original_gan_data[no_epoch]=xy"
      ],
      "execution_count": null,
      "outputs": []
    },
    {
      "cell_type": "code",
      "metadata": {
        "id": "Nn2zPEtHZWgJ"
      },
      "source": [
        "both_class_gan_data[2]=original_gan_data"
      ],
      "execution_count": null,
      "outputs": []
    },
    {
      "cell_type": "code",
      "metadata": {
        "id": "AE9DiJqGz81i"
      },
      "source": [
        "with open(ocean + '_original_gan_data' + '.pkl', 'wb') as f: \n",
        "    pickle.dump([both_class_gan_data], f)"
      ],
      "execution_count": null,
      "outputs": []
    },
    {
      "cell_type": "code",
      "metadata": {
        "id": "We-qlDTsHCbT",
        "colab": {
          "base_uri": "https://localhost:8080/"
        },
        "outputId": "6a3bcadc-0ff6-49ba-9343-2fb0645858f8"
      },
      "source": [
        "len(original_gan_data[5000]['x_shuffled']), len(original_gan_data[5000]['y_shuffled'])"
      ],
      "execution_count": null,
      "outputs": [
        {
          "output_type": "execute_result",
          "data": {
            "text/plain": [
              "(8230, 8230)"
            ]
          },
          "metadata": {},
          "execution_count": 106
        }
      ]
    },
    {
      "cell_type": "code",
      "metadata": {
        "id": "XRiGcYo_HCjM"
      },
      "source": [
        "x_shuffled = original_gan_data[5000]['x_shuffled']\n",
        "y_shuffled = original_gan_data[5000]['y_shuffled']"
      ],
      "execution_count": null,
      "outputs": []
    },
    {
      "cell_type": "code",
      "metadata": {
        "colab": {
          "base_uri": "https://localhost:8080/"
        },
        "id": "gxazLTx77GT8",
        "outputId": "d38d1589-bd42-4166-b25f-f322e477b5c1"
      },
      "source": [
        "len(test_Y), test_X.shape"
      ],
      "execution_count": null,
      "outputs": [
        {
          "output_type": "execute_result",
          "data": {
            "text/plain": [
              "(3137, (3137, 4))"
            ]
          },
          "metadata": {},
          "execution_count": 41
        }
      ]
    },
    {
      "cell_type": "code",
      "metadata": {
        "colab": {
          "base_uri": "https://localhost:8080/"
        },
        "id": "LpXgLEQHSw4A",
        "outputId": "ae547b21-1df9-4e2c-d1c0-33cc5f83cbb8"
      },
      "source": [
        "Y_hot_encoded_train =  np.asarray(to_categorical(y_shuffled))\n",
        "#Y_hot_encoded_train = Y_hot_encoded_train.reshape(len(y_shuffled), n_steps_out, n_features_out)\n",
        "\n",
        "Y_hot_encoded_test =  np.asarray(to_categorical(test_Y))\n",
        "#Y_hot_encoded_test = Y_hot_encoded_test.reshape(len(test_Y), n_steps_out, n_features_out)\n",
        "\n",
        "print(Y_hot_encoded_train.shape, Y_hot_encoded_test.shape)"
      ],
      "execution_count": null,
      "outputs": [
        {
          "output_type": "stream",
          "text": [
            "(8344, 6) (3137, 6)\n"
          ],
          "name": "stdout"
        }
      ]
    },
    {
      "cell_type": "code",
      "metadata": {
        "colab": {
          "base_uri": "https://localhost:8080/"
        },
        "id": "pgA86CoS7PQi",
        "outputId": "168e0faa-8f62-423c-a9a3-035bf2503d51"
      },
      "source": [
        "test_X"
      ],
      "execution_count": null,
      "outputs": [
        {
          "output_type": "execute_result",
          "data": {
            "text/plain": [
              "array([[0.07142857, 0.07142857, 0.10714286, 0.10714286],\n",
              "       [0.07142857, 0.10714286, 0.10714286, 0.14285714],\n",
              "       [0.10714286, 0.10714286, 0.14285714, 0.17857143],\n",
              "       ...,\n",
              "       [0.07142857, 0.07142857, 0.07142857, 0.07142857],\n",
              "       [0.07142857, 0.07142857, 0.07142857, 0.03571429],\n",
              "       [0.07142857, 0.07142857, 0.03571429, 0.03571429]])"
            ]
          },
          "metadata": {},
          "execution_count": 43
        }
      ]
    },
    {
      "cell_type": "code",
      "metadata": {
        "colab": {
          "base_uri": "https://localhost:8080/"
        },
        "id": "nPADKTlz7QY-",
        "outputId": "58b20dfb-9980-4e7c-a91a-eda3001ba132"
      },
      "source": [
        "x_shuffled[0], y_shuffled[0]"
      ],
      "execution_count": null,
      "outputs": [
        {
          "output_type": "execute_result",
          "data": {
            "text/plain": [
              "(array([0.16549467, 0.18916593, 0.21166302, 0.24223562]), 2)"
            ]
          },
          "metadata": {},
          "execution_count": 44
        }
      ]
    },
    {
      "cell_type": "code",
      "metadata": {
        "id": "0H_40CAo8WdD"
      },
      "source": [
        "            x_train, y_train = np.asarray(x_shuffled), np.asarray(Y_hot_encoded_train)\n",
        "            x_test, y_test = np.asarray(test_X), np.asarray(Y_hot_encoded_test)\n",
        "            x_train = x_train.reshape((x_train.shape[0], x_train.shape[1], n_features_in))\n",
        "            x_test = x_test.reshape((x_test.shape[0], x_test.shape[1], n_features_in))"
      ],
      "execution_count": null,
      "outputs": []
    },
    {
      "cell_type": "code",
      "metadata": {
        "colab": {
          "base_uri": "https://localhost:8080/"
        },
        "id": "yLbMTc0c8ppJ",
        "outputId": "618b2ac8-a493-4320-9ed7-f3a1374a7e45"
      },
      "source": [
        "train_acc, test_acc, train_std_dev, test_std_dev, Best_Predict_Test, y_predicttrain, y_predicttest, report_train, report_test = MODEL_LSTM('vanilla', 'gan', univariate,x_train,x_test,y_train,y_test,Num_Exp,n_steps_in,n_steps_out,Epochs, Hidden)"
      ],
      "execution_count": null,
      "outputs": [
        {
          "output_type": "stream",
          "text": [
            "WARNING:tensorflow:Layer lstm will not use cuDNN kernels since it doesn't meet the criteria. It will use a generic GPU kernel as fallback when running on GPU.\n",
            "Experiment 1 in progress\n",
            "train acc:  0.8103883005547151\n",
            "test acc:  0.7647058823529412\n",
            "Experiment 2 in progress\n",
            "train acc:  0.8156763590391908\n",
            "test acc:  0.7726523887973641\n",
            "Experiment 3 in progress\n",
            "train acc:  0.8194336191218498\n",
            "test acc:  0.7632027257240206\n",
            "Total time for 3 experiments 1856.1967647075653\n",
            "f1 scores for test data:  [0.76470588 0.77265239 0.76320273]\n"
          ],
          "name": "stdout"
        }
      ]
    },
    {
      "cell_type": "code",
      "metadata": {
        "id": "FALjFQyzXNSy"
      },
      "source": [
        "with open(\"predictions_\" + ocean + '_gan' + '.pkl', 'wb') as f: \n",
        "    pickle.dump([y_predicttrain, y_train, Best_Predict_Test, y_test, report_train, report_test], f)"
      ],
      "execution_count": null,
      "outputs": []
    },
    {
      "cell_type": "markdown",
      "metadata": {
        "id": "JMVb0uzz4Wyf"
      },
      "source": [
        "**GAN Results**"
      ]
    },
    {
      "cell_type": "code",
      "metadata": {
        "id": "_MDrrNjUnm0y",
        "colab": {
          "base_uri": "https://localhost:8080/",
          "height": 326
        },
        "outputId": "5f40dc5d-289a-4f76-cb80-13d5ad384065"
      },
      "source": [
        "report_df = pd.DataFrame(report_test).transpose()\n",
        "report_df = report_df.reset_index()\n",
        "model_eval  = report_df[report_df['index'].str.contains('1')][['precision','recall','f1-score']]\n",
        "model_eval['accuracy']  = list(report_df[report_df['index'].str.contains('accuracy')]['support'])\n",
        "report_df"
      ],
      "execution_count": null,
      "outputs": [
        {
          "output_type": "execute_result",
          "data": {
            "text/html": [
              "<div>\n",
              "<style scoped>\n",
              "    .dataframe tbody tr th:only-of-type {\n",
              "        vertical-align: middle;\n",
              "    }\n",
              "\n",
              "    .dataframe tbody tr th {\n",
              "        vertical-align: top;\n",
              "    }\n",
              "\n",
              "    .dataframe thead th {\n",
              "        text-align: right;\n",
              "    }\n",
              "</style>\n",
              "<table border=\"1\" class=\"dataframe\">\n",
              "  <thead>\n",
              "    <tr style=\"text-align: right;\">\n",
              "      <th></th>\n",
              "      <th>index</th>\n",
              "      <th>precision</th>\n",
              "      <th>recall</th>\n",
              "      <th>f1-score</th>\n",
              "      <th>support</th>\n",
              "    </tr>\n",
              "  </thead>\n",
              "  <tbody>\n",
              "    <tr>\n",
              "      <th>0</th>\n",
              "      <td>0</td>\n",
              "      <td>0.908903</td>\n",
              "      <td>0.802559</td>\n",
              "      <td>0.852427</td>\n",
              "      <td>547.000000</td>\n",
              "    </tr>\n",
              "    <tr>\n",
              "      <th>1</th>\n",
              "      <td>1</td>\n",
              "      <td>0.740916</td>\n",
              "      <td>0.807229</td>\n",
              "      <td>0.772652</td>\n",
              "      <td>581.000000</td>\n",
              "    </tr>\n",
              "    <tr>\n",
              "      <th>2</th>\n",
              "      <td>2</td>\n",
              "      <td>0.705329</td>\n",
              "      <td>0.857143</td>\n",
              "      <td>0.773861</td>\n",
              "      <td>525.000000</td>\n",
              "    </tr>\n",
              "    <tr>\n",
              "      <th>3</th>\n",
              "      <td>3</td>\n",
              "      <td>0.915858</td>\n",
              "      <td>0.790503</td>\n",
              "      <td>0.848576</td>\n",
              "      <td>716.000000</td>\n",
              "    </tr>\n",
              "    <tr>\n",
              "      <th>4</th>\n",
              "      <td>4</td>\n",
              "      <td>0.834320</td>\n",
              "      <td>0.909677</td>\n",
              "      <td>0.870370</td>\n",
              "      <td>465.000000</td>\n",
              "    </tr>\n",
              "    <tr>\n",
              "      <th>5</th>\n",
              "      <td>5</td>\n",
              "      <td>0.957364</td>\n",
              "      <td>0.815182</td>\n",
              "      <td>0.880570</td>\n",
              "      <td>303.000000</td>\n",
              "    </tr>\n",
              "    <tr>\n",
              "      <th>6</th>\n",
              "      <td>accuracy</td>\n",
              "      <td>0.826905</td>\n",
              "      <td>0.826905</td>\n",
              "      <td>0.826905</td>\n",
              "      <td>0.826905</td>\n",
              "    </tr>\n",
              "    <tr>\n",
              "      <th>7</th>\n",
              "      <td>macro avg</td>\n",
              "      <td>0.843782</td>\n",
              "      <td>0.830382</td>\n",
              "      <td>0.833076</td>\n",
              "      <td>3137.000000</td>\n",
              "    </tr>\n",
              "    <tr>\n",
              "      <th>8</th>\n",
              "      <td>weighted avg</td>\n",
              "      <td>0.838933</td>\n",
              "      <td>0.826905</td>\n",
              "      <td>0.829003</td>\n",
              "      <td>3137.000000</td>\n",
              "    </tr>\n",
              "  </tbody>\n",
              "</table>\n",
              "</div>"
            ],
            "text/plain": [
              "          index  precision    recall  f1-score      support\n",
              "0             0   0.908903  0.802559  0.852427   547.000000\n",
              "1             1   0.740916  0.807229  0.772652   581.000000\n",
              "2             2   0.705329  0.857143  0.773861   525.000000\n",
              "3             3   0.915858  0.790503  0.848576   716.000000\n",
              "4             4   0.834320  0.909677  0.870370   465.000000\n",
              "5             5   0.957364  0.815182  0.880570   303.000000\n",
              "6      accuracy   0.826905  0.826905  0.826905     0.826905\n",
              "7     macro avg   0.843782  0.830382  0.833076  3137.000000\n",
              "8  weighted avg   0.838933  0.826905  0.829003  3137.000000"
            ]
          },
          "metadata": {},
          "execution_count": 47
        }
      ]
    },
    {
      "cell_type": "code",
      "metadata": {
        "id": "fpBlCLxd8u-w",
        "colab": {
          "base_uri": "https://localhost:8080/",
          "height": 750
        },
        "outputId": "792dcb15-c37c-4fe3-ca25-f4224ed191dd"
      },
      "source": [
        "y = [i.argmax() for i in y_test]\n",
        "pred = [i.argmax() for i in Best_Predict_Test]\n",
        "cf_matrix_test = confusion_matrix(y, pred)\n",
        "make_confusion_matrix_chart2(cf_matrix_test, ocean + 'vanilla_cm_gan')"
      ],
      "execution_count": null,
      "outputs": [
        {
          "output_type": "display_data",
          "data": {
            "image/png": "[encoded data removed]",
            "text/plain": [
              "<Figure size 1440x864 with 2 Axes>"
            ]
          },
          "metadata": {}
        }
      ]
    },
    {
      "cell_type": "code",
      "metadata": {
        "id": "O3Y2hzYGntwv",
        "colab": {
          "base_uri": "https://localhost:8080/"
        },
        "outputId": "a6915028-5f9e-4f5f-fe29-caed671a6105"
      },
      "source": [
        "f1_score(y, pred, average=\"micro\")"
      ],
      "execution_count": null,
      "outputs": [
        {
          "output_type": "execute_result",
          "data": {
            "text/plain": [
              "0.826904686005738"
            ]
          },
          "metadata": {},
          "execution_count": 49
        }
      ]
    },
    {
      "cell_type": "code",
      "metadata": {
        "id": "dEC873wIn15P",
        "colab": {
          "base_uri": "https://localhost:8080/"
        },
        "outputId": "51dbdcc8-dca0-45ed-9b36-04607e99d6e0"
      },
      "source": [
        "for i in range(report_df.shape[0]):\n",
        "  tmp=\"\"\n",
        "  for j in ['precision', 'recall', 'f1-score', 'support']:\n",
        "    tmp=tmp+ str(round(report_df[j][i],4)) + \" & \"\n",
        "  print(tmp)"
      ],
      "execution_count": null,
      "outputs": [
        {
          "output_type": "stream",
          "text": [
            "0.9089 & 0.8026 & 0.8524 & 547.0 & \n",
            "0.7409 & 0.8072 & 0.7727 & 581.0 & \n",
            "0.7053 & 0.8571 & 0.7739 & 525.0 & \n",
            "0.9159 & 0.7905 & 0.8486 & 716.0 & \n",
            "0.8343 & 0.9097 & 0.8704 & 465.0 & \n",
            "0.9574 & 0.8152 & 0.8806 & 303.0 & \n",
            "0.8269 & 0.8269 & 0.8269 & 0.8269 & \n",
            "0.8438 & 0.8304 & 0.8331 & 3137.0 & \n",
            "0.8389 & 0.8269 & 0.829 & 3137.0 & \n"
          ],
          "name": "stdout"
        }
      ]
    },
    {
      "cell_type": "code",
      "metadata": {
        "id": "ctVD6IeccA0r"
      },
      "source": [
        "torch.cuda.empty_cache()"
      ],
      "execution_count": null,
      "outputs": []
    },
    {
      "cell_type": "code",
      "metadata": {
        "id": "sXeG9Q4T8sXY",
        "colab": {
          "base_uri": "https://localhost:8080/"
        },
        "outputId": "b5004ebd-3b32-41f0-f9c4-9ec1704995ac"
      },
      "source": [
        "x_shuffled = X_smote\n",
        "y_shuffled = Y_smote\n",
        "print(len(x_shuffled), len(X), len(y_shuffled)) \n",
        "t2 = np.asarray(x_shuffled).shape\n",
        "X_oversampled = torch.from_numpy(np.asarray(x_shuffled))"
      ],
      "execution_count": null,
      "outputs": [
        {
          "output_type": "stream",
          "text": [
            "11790 7322 11790\n"
          ],
          "name": "stdout"
        }
      ]
    },
    {
      "cell_type": "code",
      "metadata": {
        "id": "kU8ddMHk8saz"
      },
      "source": [
        "def get_generator_block(input_dim, output_dim):\n",
        "    return nn.Sequential(\n",
        "        nn.Linear(input_dim, output_dim),\n",
        "        nn.BatchNorm1d(output_dim),\n",
        "        nn.ReLU(inplace=True),\n",
        "    )\n",
        "class Generator(nn.Module):\n",
        "\n",
        "    def __init__(self, z_dim=t2[1], im_dim=t2[1], hidden_dim=128):\n",
        "        super(Generator, self).__init__()\n",
        "        self.gen = nn.Sequential(\n",
        "            get_generator_block(z_dim, hidden_dim),\n",
        "            get_generator_block(hidden_dim, hidden_dim * 2),\n",
        "            get_generator_block(hidden_dim * 2, hidden_dim * 4),\n",
        "            get_generator_block(hidden_dim * 4, hidden_dim * 8),\n",
        "            nn.Linear(hidden_dim * 8, im_dim),\n",
        "            nn.Sigmoid()\n",
        "        )\n",
        "    def forward(self, noise):\n",
        "        return self.gen(noise)\n",
        "    \n",
        "    \n",
        "    def get_gen(self):\n",
        "\n",
        "        return self.gen\n",
        "def get_discriminator_block(input_dim, output_dim):\n",
        "    return nn.Sequential(\n",
        "        nn.Linear(input_dim, output_dim),\n",
        "        nn.LeakyReLU(0.2, inplace=True)        \n",
        "    )\n",
        "class Discriminator(nn.Module):\n",
        "    def __init__(self, im_dim=t2[1], hidden_dim=128):\n",
        "        super(Discriminator, self).__init__()\n",
        "        self.disc = nn.Sequential(\n",
        "            get_discriminator_block(im_dim, hidden_dim * 4),\n",
        "            get_discriminator_block(hidden_dim * 4, hidden_dim * 2),\n",
        "            get_discriminator_block(hidden_dim * 2, hidden_dim),\n",
        "            nn.Linear(hidden_dim, 1)\n",
        "        )\n",
        "\n",
        "    def forward(self, image):\n",
        "\n",
        "        return self.disc(image)\n",
        "    \n",
        "    def get_disc(self):\n",
        "\n",
        "        return self.dis\n",
        "def get_noise(n_samples, z_dim, device='cuda'):\n",
        "\n",
        "    return torch.randn(n_samples,z_dim,device=device) "
      ],
      "execution_count": null,
      "outputs": []
    },
    {
      "cell_type": "code",
      "metadata": {
        "id": "xhhj1feF8sd5"
      },
      "source": [
        "criterion = nn.BCEWithLogitsLoss()\n",
        "n_epochs = 1000\n",
        "z_dim = t2[1]\n",
        "batch_size = 128\n",
        "lr = 0.00001\n",
        "display_step = 1\n",
        "device = 'cuda'\n",
        "gen = Generator(z_dim).to(device)\n",
        "gen_opt = torch.optim.Adam(gen.parameters(), lr=lr)\n",
        "disc = Discriminator().to(device) \n",
        "disc_opt = torch.optim.Adam(disc.parameters(), lr=lr)"
      ],
      "execution_count": null,
      "outputs": []
    },
    {
      "cell_type": "code",
      "metadata": {
        "id": "87NodJ5e8shn"
      },
      "source": [
        "def get_disc_loss(gen, disc, criterion, real, num_images, z_dim, device):\n",
        "\n",
        "    fake_noise = get_noise(num_images, z_dim, device=device)\n",
        "    fake = gen(fake_noise)\n",
        "    disc_fake_pred = disc(fake.detach())\n",
        "    disc_fake_loss = criterion(disc_fake_pred, torch.zeros_like(disc_fake_pred))\n",
        "    disc_real_pred = disc(real)\n",
        "    disc_real_loss = criterion(disc_real_pred, torch.ones_like(disc_real_pred))\n",
        "    disc_loss = (disc_fake_loss + disc_real_loss) / 2\n",
        "\n",
        "    return disc_loss\n",
        "\n",
        "def get_gen_loss(gen, disc, criterion, num_images, z_dim, device):\n",
        "\n",
        "    fake_noise = get_noise(num_images, z_dim, device=device)\n",
        "    fake = gen(fake_noise)\n",
        "    disc_fake_pred = disc(fake)\n",
        "    gen_loss = criterion(disc_fake_pred, torch.ones_like(disc_fake_pred))\n",
        "    return gen_loss"
      ],
      "execution_count": null,
      "outputs": []
    },
    {
      "cell_type": "code",
      "metadata": {
        "id": "MTQWHOcG8skX",
        "colab": {
          "base_uri": "https://localhost:8080/"
        },
        "outputId": "8bc4ba1e-8c71-46c0-d6e9-8893a5c51be7"
      },
      "source": [
        "li=[]\n",
        "for i in range(len(y_shuffled)):\n",
        "    if int(y_shuffled[i])==2:\n",
        "        li.append(x_shuffled[i])\n",
        "        \n",
        "print(len(y_shuffled), len(li))\n",
        "\n",
        "X_real=np.array(li)\n",
        "t3=X_real.shape\n",
        "li2=[1]*(t3[0])\n",
        "y_real=np.array(li2)\n",
        "y_real.shape\n",
        "\n",
        "from torch.utils.data import TensorDataset, DataLoader\n",
        "tensor_x = torch.Tensor(X_real) \n",
        "tensor_y = torch.Tensor(y_real)\n",
        "my_dataset = TensorDataset(tensor_x,tensor_y)\n",
        "dataloader = DataLoader(\n",
        "    my_dataset,\n",
        "    batch_size=batch_size,\n",
        "    shuffle=True)\n",
        "\n",
        "cur_step = 0\n",
        "mean_generator_loss = 0\n",
        "mean_discriminator_loss = 0\n",
        "test_generator = True \n",
        "gen_loss = False\n",
        "error = False"
      ],
      "execution_count": null,
      "outputs": [
        {
          "output_type": "stream",
          "text": [
            "11790 1965\n"
          ],
          "name": "stdout"
        }
      ]
    },
    {
      "cell_type": "code",
      "metadata": {
        "colab": {
          "base_uri": "https://localhost:8080/"
        },
        "id": "JSs5uGkwKFMK",
        "outputId": "cf92a01f-f2b1-40ee-9c1e-dbadf1e3edac"
      },
      "source": [
        "samples_to_generate = int((X_oversampled.shape[0]-X_real.shape[0])/6)\n",
        "print(samples_to_generate)\n",
        "\n",
        "#epochs = [100,500,1000,2000,3000,4000,5000]\n",
        "epochs = [5000]\n",
        "\n",
        "smote_gan_data = dict()"
      ],
      "execution_count": null,
      "outputs": [
        {
          "output_type": "stream",
          "text": [
            "1637\n"
          ],
          "name": "stdout"
        }
      ]
    },
    {
      "cell_type": "code",
      "metadata": {
        "id": "iI-RdEy98srF",
        "colab": {
          "base_uri": "https://localhost:8080/"
        },
        "outputId": "c10b43b1-7ae4-4504-c1cc-84d6eacf8cbd"
      },
      "source": [
        "for no_epoch in epochs:\n",
        "  print(\"no of epochs: \", no_epoch)\n",
        "  for epoch in range(no_epoch):\n",
        "  \n",
        "   \n",
        "    for real, _ in tqdm(dataloader, disable=True):\n",
        "        cur_batch_size = len(real)\n",
        "\n",
        "       \n",
        "        real = real.view(cur_batch_size, -1).to(device)\n",
        "\n",
        "      \n",
        "       \n",
        "        disc_opt.zero_grad()\n",
        "\n",
        "       \n",
        "        disc_loss = get_disc_loss(gen, disc, criterion, real, cur_batch_size, z_dim, device)\n",
        "\n",
        "        \n",
        "        disc_loss.backward(retain_graph=True)\n",
        "\n",
        "       \n",
        "        disc_opt.step()\n",
        "\n",
        "      \n",
        "        if test_generator:\n",
        "            old_generator_weights = gen.gen[0][0].weight.detach().clone()\n",
        "\n",
        "        gen_opt.zero_grad()\n",
        "        gen_loss = get_gen_loss(gen, disc, criterion, cur_batch_size, z_dim, device)\n",
        "        gen_loss.backward()\n",
        "        gen_opt.step()\n",
        "\n",
        "        if test_generator:\n",
        "            try:\n",
        "                assert lr > 0.0000002 or (gen.gen[0][0].weight.grad.abs().max() < 0.0005 and epoch == 0)\n",
        "                assert torch.any(gen.gen[0][0].weight.detach().clone() != old_generator_weights)\n",
        "            except:\n",
        "                error = True\n",
        "                print(\"Runtime tests have failed\")\n",
        "\n",
        "     \n",
        "        mean_discriminator_loss += disc_loss.item() / display_step\n",
        "\n",
        "  \n",
        "        mean_generator_loss += gen_loss.item() / display_step\n",
        "\n",
        "        if epoch%500==0:\n",
        "            print(f\"Epoch {epoch}: Step {cur_step}: Generator loss: {mean_generator_loss}, discriminator loss: {mean_discriminator_loss}\")\n",
        "\n",
        "        if cur_step % display_step == 0 and cur_step > 0:\n",
        "            mean_generator_loss = 0\n",
        "            mean_discriminator_loss = 0\n",
        "        cur_step += 1\n",
        "  fake_noise = get_noise(samples_to_generate, z_dim, device=device)\n",
        "  res=gen(fake_noise)\n",
        "  fres=res.cpu().detach().numpy()\n",
        "  X_old=X\n",
        "  finX=np.concatenate((X_old, fres), axis=0)\n",
        "  y_fake = np.full(shape=samples_to_generate,fill_value=2)\n",
        "  Y_old=np.asarray(Y)\n",
        "  finY = np.append(Y_old, y_fake, axis=0)\n",
        "  print(finX.shape, finY.shape)\n",
        "  #idx = np.random.permutation(len(X_smote))\n",
        "  idx = np.random.permutation(finX.shape[0])\n",
        "  print(len(idx))\n",
        "  x_shuffled = []\n",
        "  y_shuffled = []\n",
        "  xy=dict()\n",
        "  for i in idx:\n",
        "    #x_shuffled.append(X_smote[i])\n",
        "    #y_shuffled.append(Y_smote[i])\n",
        "    x_shuffled.append(finX[i])\n",
        "    y_shuffled.append(finY[i])\n",
        "  xy['x_shuffled']=x_shuffled\n",
        "  xy['y_shuffled']=y_shuffled\n",
        "  smote_gan_data[no_epoch]=xy"
      ],
      "execution_count": null,
      "outputs": [
        {
          "output_type": "stream",
          "text": [
            "no of epochs:  5000\n",
            "Epoch 0: Step 0: Generator loss: 0.6718560457229614, discriminator loss: 0.6935321092605591\n",
            "Epoch 0: Step 1: Generator loss: 1.3445680141448975, discriminator loss: 1.3867679238319397\n",
            "Epoch 0: Step 2: Generator loss: 0.6736675500869751, discriminator loss: 0.6929246187210083\n",
            "Epoch 0: Step 3: Generator loss: 0.6745929718017578, discriminator loss: 0.6924919486045837\n",
            "Epoch 0: Step 4: Generator loss: 0.6755198240280151, discriminator loss: 0.6922309398651123\n",
            "Epoch 0: Step 5: Generator loss: 0.6763955950737, discriminator loss: 0.6919980049133301\n",
            "Epoch 0: Step 6: Generator loss: 0.6771932244300842, discriminator loss: 0.6916148662567139\n",
            "Epoch 0: Step 7: Generator loss: 0.6780276298522949, discriminator loss: 0.6913214921951294\n",
            "Epoch 0: Step 8: Generator loss: 0.6788946390151978, discriminator loss: 0.6908305883407593\n",
            "Epoch 0: Step 9: Generator loss: 0.6798319220542908, discriminator loss: 0.6904374957084656\n",
            "Epoch 0: Step 10: Generator loss: 0.6806837320327759, discriminator loss: 0.6902256011962891\n",
            "Epoch 0: Step 11: Generator loss: 0.6814359426498413, discriminator loss: 0.689889669418335\n",
            "Epoch 0: Step 12: Generator loss: 0.6823531985282898, discriminator loss: 0.6897416114807129\n",
            "Epoch 0: Step 13: Generator loss: 0.6831216812133789, discriminator loss: 0.6891967058181763\n",
            "Epoch 0: Step 14: Generator loss: 0.6839780807495117, discriminator loss: 0.6888128519058228\n",
            "Epoch 0: Step 15: Generator loss: 0.6848233938217163, discriminator loss: 0.6884644031524658\n",
            "Epoch 500: Step 8000: Generator loss: 0.6842727065086365, discriminator loss: 0.6899053454399109\n",
            "Epoch 500: Step 8001: Generator loss: 0.683558464050293, discriminator loss: 0.6903283596038818\n",
            "Epoch 500: Step 8002: Generator loss: 0.6842215061187744, discriminator loss: 0.6891874074935913\n",
            "Epoch 500: Step 8003: Generator loss: 0.6839523911476135, discriminator loss: 0.6898859143257141\n",
            "Epoch 500: Step 8004: Generator loss: 0.684956967830658, discriminator loss: 0.689866840839386\n",
            "Epoch 500: Step 8005: Generator loss: 0.6845325231552124, discriminator loss: 0.6903724074363708\n",
            "Epoch 500: Step 8006: Generator loss: 0.6844685077667236, discriminator loss: 0.6890867948532104\n",
            "Epoch 500: Step 8007: Generator loss: 0.6850650310516357, discriminator loss: 0.6907283067703247\n",
            "Epoch 500: Step 8008: Generator loss: 0.684990406036377, discriminator loss: 0.6896575689315796\n",
            "Epoch 500: Step 8009: Generator loss: 0.684518575668335, discriminator loss: 0.6899701356887817\n",
            "Epoch 500: Step 8010: Generator loss: 0.6840401887893677, discriminator loss: 0.6918294429779053\n",
            "Epoch 500: Step 8011: Generator loss: 0.6841234564781189, discriminator loss: 0.6908732056617737\n",
            "Epoch 500: Step 8012: Generator loss: 0.6845831871032715, discriminator loss: 0.6900317668914795\n",
            "Epoch 500: Step 8013: Generator loss: 0.6844679117202759, discriminator loss: 0.6908758282661438\n",
            "Epoch 500: Step 8014: Generator loss: 0.6847633123397827, discriminator loss: 0.6912155747413635\n",
            "Epoch 500: Step 8015: Generator loss: 0.6853030920028687, discriminator loss: 0.6924867630004883\n",
            "Epoch 1000: Step 16000: Generator loss: 0.7112767100334167, discriminator loss: 0.6929008960723877\n",
            "Epoch 1000: Step 16001: Generator loss: 0.711516261100769, discriminator loss: 0.692727267742157\n",
            "Epoch 1000: Step 16002: Generator loss: 0.7113831639289856, discriminator loss: 0.6928481459617615\n",
            "Epoch 1000: Step 16003: Generator loss: 0.7113174200057983, discriminator loss: 0.69256991147995\n",
            "Epoch 1000: Step 16004: Generator loss: 0.7116332054138184, discriminator loss: 0.6925040483474731\n",
            "Epoch 1000: Step 16005: Generator loss: 0.711901068687439, discriminator loss: 0.6926023364067078\n",
            "Epoch 1000: Step 16006: Generator loss: 0.7114629745483398, discriminator loss: 0.692777156829834\n",
            "Epoch 1000: Step 16007: Generator loss: 0.7121220827102661, discriminator loss: 0.6926931142807007\n",
            "Epoch 1000: Step 16008: Generator loss: 0.7117819786071777, discriminator loss: 0.6923792362213135\n",
            "Epoch 1000: Step 16009: Generator loss: 0.7119939923286438, discriminator loss: 0.6919920444488525\n",
            "Epoch 1000: Step 16010: Generator loss: 0.7119349241256714, discriminator loss: 0.6921884417533875\n",
            "Epoch 1000: Step 16011: Generator loss: 0.7117248773574829, discriminator loss: 0.6920677423477173\n",
            "Epoch 1000: Step 16012: Generator loss: 0.7117654085159302, discriminator loss: 0.6917740106582642\n",
            "Epoch 1000: Step 16013: Generator loss: 0.7120387554168701, discriminator loss: 0.6917538642883301\n",
            "Epoch 1000: Step 16014: Generator loss: 0.7118382453918457, discriminator loss: 0.6928845643997192\n",
            "Epoch 1000: Step 16015: Generator loss: 0.7113865613937378, discriminator loss: 0.6928359270095825\n",
            "Epoch 1500: Step 24000: Generator loss: 0.6852424144744873, discriminator loss: 0.6933149099349976\n",
            "Epoch 1500: Step 24001: Generator loss: 0.6852590441703796, discriminator loss: 0.6932796835899353\n",
            "Epoch 1500: Step 24002: Generator loss: 0.6854204535484314, discriminator loss: 0.693231463432312\n",
            "Epoch 1500: Step 24003: Generator loss: 0.6851674318313599, discriminator loss: 0.6932379007339478\n",
            "Epoch 1500: Step 24004: Generator loss: 0.6853549480438232, discriminator loss: 0.6932040452957153\n",
            "Epoch 1500: Step 24005: Generator loss: 0.6854031085968018, discriminator loss: 0.6930326223373413\n",
            "Epoch 1500: Step 24006: Generator loss: 0.6852618455886841, discriminator loss: 0.6931352019309998\n",
            "Epoch 1500: Step 24007: Generator loss: 0.6853654384613037, discriminator loss: 0.693031370639801\n",
            "Epoch 1500: Step 24008: Generator loss: 0.6855056881904602, discriminator loss: 0.6932634711265564\n",
            "Epoch 1500: Step 24009: Generator loss: 0.6855823993682861, discriminator loss: 0.6932945847511292\n",
            "Epoch 1500: Step 24010: Generator loss: 0.6853498816490173, discriminator loss: 0.6930456757545471\n",
            "Epoch 1500: Step 24011: Generator loss: 0.6857092976570129, discriminator loss: 0.6928169131278992\n",
            "Epoch 1500: Step 24012: Generator loss: 0.6853399276733398, discriminator loss: 0.6929343938827515\n",
            "Epoch 1500: Step 24013: Generator loss: 0.685559868812561, discriminator loss: 0.6928889155387878\n",
            "Epoch 1500: Step 24014: Generator loss: 0.6856343150138855, discriminator loss: 0.6928324699401855\n",
            "Epoch 1500: Step 24015: Generator loss: 0.6858352422714233, discriminator loss: 0.6931670904159546\n",
            "Epoch 2000: Step 32000: Generator loss: 0.7100433111190796, discriminator loss: 0.6936401128768921\n",
            "Epoch 2000: Step 32001: Generator loss: 0.7104021310806274, discriminator loss: 0.6937768459320068\n",
            "Epoch 2000: Step 32002: Generator loss: 0.7107678055763245, discriminator loss: 0.6936339139938354\n",
            "Epoch 2000: Step 32003: Generator loss: 0.7111285328865051, discriminator loss: 0.6936785578727722\n",
            "Epoch 2000: Step 32004: Generator loss: 0.7114692330360413, discriminator loss: 0.6935150623321533\n",
            "Epoch 2000: Step 32005: Generator loss: 0.7118386030197144, discriminator loss: 0.6935628056526184\n",
            "Epoch 2000: Step 32006: Generator loss: 0.7121797204017639, discriminator loss: 0.6934936046600342\n",
            "Epoch 2000: Step 32007: Generator loss: 0.7124162912368774, discriminator loss: 0.6933470964431763\n",
            "Epoch 2000: Step 32008: Generator loss: 0.7126360535621643, discriminator loss: 0.6932694315910339\n",
            "Epoch 2000: Step 32009: Generator loss: 0.7127285003662109, discriminator loss: 0.6931982040405273\n",
            "Epoch 2000: Step 32010: Generator loss: 0.7129030823707581, discriminator loss: 0.6932638883590698\n",
            "Epoch 2000: Step 32011: Generator loss: 0.7130931615829468, discriminator loss: 0.693228006362915\n",
            "Epoch 2000: Step 32012: Generator loss: 0.7131535410881042, discriminator loss: 0.6931053400039673\n",
            "Epoch 2000: Step 32013: Generator loss: 0.7130265235900879, discriminator loss: 0.6932395100593567\n",
            "Epoch 2000: Step 32014: Generator loss: 0.7130617499351501, discriminator loss: 0.6930305361747742\n",
            "Epoch 2000: Step 32015: Generator loss: 0.7128851413726807, discriminator loss: 0.6932811737060547\n",
            "Epoch 2500: Step 40000: Generator loss: 0.6988452672958374, discriminator loss: 0.6939717531204224\n",
            "Epoch 2500: Step 40001: Generator loss: 0.6988512873649597, discriminator loss: 0.6938517093658447\n",
            "Epoch 2500: Step 40002: Generator loss: 0.698835551738739, discriminator loss: 0.6939066648483276\n",
            "Epoch 2500: Step 40003: Generator loss: 0.6989889144897461, discriminator loss: 0.6938830614089966\n",
            "Epoch 2500: Step 40004: Generator loss: 0.6989905834197998, discriminator loss: 0.6937861442565918\n",
            "Epoch 2500: Step 40005: Generator loss: 0.6988805532455444, discriminator loss: 0.6937662363052368\n",
            "Epoch 2500: Step 40006: Generator loss: 0.6989526152610779, discriminator loss: 0.6937371492385864\n",
            "Epoch 2500: Step 40007: Generator loss: 0.6988518238067627, discriminator loss: 0.6937648057937622\n",
            "Epoch 2500: Step 40008: Generator loss: 0.6989238858222961, discriminator loss: 0.6938905119895935\n",
            "Epoch 2500: Step 40009: Generator loss: 0.6990048289299011, discriminator loss: 0.6938583850860596\n",
            "Epoch 2500: Step 40010: Generator loss: 0.6989648342132568, discriminator loss: 0.6937720775604248\n",
            "Epoch 2500: Step 40011: Generator loss: 0.6990348100662231, discriminator loss: 0.6937501430511475\n",
            "Epoch 2500: Step 40012: Generator loss: 0.6989386677742004, discriminator loss: 0.693693995475769\n",
            "Epoch 2500: Step 40013: Generator loss: 0.6989508867263794, discriminator loss: 0.6936780214309692\n",
            "Epoch 2500: Step 40014: Generator loss: 0.6989737749099731, discriminator loss: 0.6937128305435181\n",
            "Epoch 2500: Step 40015: Generator loss: 0.6990261077880859, discriminator loss: 0.6937428712844849\n",
            "Epoch 3000: Step 48000: Generator loss: 0.6904585361480713, discriminator loss: 0.693267285823822\n",
            "Epoch 3000: Step 48001: Generator loss: 0.690713107585907, discriminator loss: 0.6933035850524902\n",
            "Epoch 3000: Step 48002: Generator loss: 0.690967321395874, discriminator loss: 0.6932570934295654\n",
            "Epoch 3000: Step 48003: Generator loss: 0.6911686658859253, discriminator loss: 0.6932752132415771\n",
            "Epoch 3000: Step 48004: Generator loss: 0.6913793683052063, discriminator loss: 0.6932600736618042\n",
            "Epoch 3000: Step 48005: Generator loss: 0.6915990710258484, discriminator loss: 0.6932645440101624\n",
            "Epoch 3000: Step 48006: Generator loss: 0.6918792724609375, discriminator loss: 0.6932806968688965\n",
            "Epoch 3000: Step 48007: Generator loss: 0.6920744180679321, discriminator loss: 0.6932028532028198\n",
            "Epoch 3000: Step 48008: Generator loss: 0.6923086643218994, discriminator loss: 0.6932340264320374\n",
            "Epoch 3000: Step 48009: Generator loss: 0.692534327507019, discriminator loss: 0.6932404041290283\n",
            "Epoch 3000: Step 48010: Generator loss: 0.6927634477615356, discriminator loss: 0.6932241916656494\n",
            "Epoch 3000: Step 48011: Generator loss: 0.6930296421051025, discriminator loss: 0.6932302117347717\n",
            "Epoch 3000: Step 48012: Generator loss: 0.6932710409164429, discriminator loss: 0.6931651830673218\n",
            "Epoch 3000: Step 48013: Generator loss: 0.6935053467750549, discriminator loss: 0.6931650638580322\n",
            "Epoch 3000: Step 48014: Generator loss: 0.6937233209609985, discriminator loss: 0.6931688785552979\n",
            "Epoch 3000: Step 48015: Generator loss: 0.6939324736595154, discriminator loss: 0.6931490898132324\n",
            "Epoch 3500: Step 56000: Generator loss: 0.6879692077636719, discriminator loss: 0.693239688873291\n",
            "Epoch 3500: Step 56001: Generator loss: 0.6879117488861084, discriminator loss: 0.6932357549667358\n",
            "Epoch 3500: Step 56002: Generator loss: 0.6878789663314819, discriminator loss: 0.6932355761528015\n",
            "Epoch 3500: Step 56003: Generator loss: 0.6878458261489868, discriminator loss: 0.6931654214859009\n",
            "Epoch 3500: Step 56004: Generator loss: 0.6877955794334412, discriminator loss: 0.6931662559509277\n",
            "Epoch 3500: Step 56005: Generator loss: 0.687688946723938, discriminator loss: 0.6931869387626648\n",
            "Epoch 3500: Step 56006: Generator loss: 0.6876863241195679, discriminator loss: 0.6931595802307129\n",
            "Epoch 3500: Step 56007: Generator loss: 0.6876184940338135, discriminator loss: 0.6931684613227844\n",
            "Epoch 3500: Step 56008: Generator loss: 0.6875236630439758, discriminator loss: 0.6931049823760986\n",
            "Epoch 3500: Step 56009: Generator loss: 0.6874313950538635, discriminator loss: 0.6931943297386169\n",
            "Epoch 3500: Step 56010: Generator loss: 0.6874316930770874, discriminator loss: 0.6931518316268921\n",
            "Epoch 3500: Step 56011: Generator loss: 0.6874353289604187, discriminator loss: 0.6931629180908203\n",
            "Epoch 3500: Step 56012: Generator loss: 0.6873651742935181, discriminator loss: 0.6931349635124207\n",
            "Epoch 3500: Step 56013: Generator loss: 0.687329888343811, discriminator loss: 0.6931579113006592\n",
            "Epoch 3500: Step 56014: Generator loss: 0.6872686147689819, discriminator loss: 0.693149745464325\n",
            "Epoch 3500: Step 56015: Generator loss: 0.687309741973877, discriminator loss: 0.6932404041290283\n",
            "Epoch 4000: Step 64000: Generator loss: 0.6949092745780945, discriminator loss: 0.6933392286300659\n",
            "Epoch 4000: Step 64001: Generator loss: 0.6947638392448425, discriminator loss: 0.6934044361114502\n",
            "Epoch 4000: Step 64002: Generator loss: 0.6946719884872437, discriminator loss: 0.6931424140930176\n",
            "Epoch 4000: Step 64003: Generator loss: 0.6944752931594849, discriminator loss: 0.6933139562606812\n",
            "Epoch 4000: Step 64004: Generator loss: 0.6944952011108398, discriminator loss: 0.6933225393295288\n",
            "Epoch 4000: Step 64005: Generator loss: 0.6943007707595825, discriminator loss: 0.6933141350746155\n",
            "Epoch 4000: Step 64006: Generator loss: 0.6941635012626648, discriminator loss: 0.6932637095451355\n",
            "Epoch 4000: Step 64007: Generator loss: 0.694023847579956, discriminator loss: 0.693305253982544\n",
            "Epoch 4000: Step 64008: Generator loss: 0.6939271688461304, discriminator loss: 0.6933469772338867\n",
            "Epoch 4000: Step 64009: Generator loss: 0.6937556862831116, discriminator loss: 0.6933700442314148\n",
            "Epoch 4000: Step 64010: Generator loss: 0.6937410831451416, discriminator loss: 0.6932791471481323\n",
            "Epoch 4000: Step 64011: Generator loss: 0.6935862302780151, discriminator loss: 0.6933778524398804\n",
            "Epoch 4000: Step 64012: Generator loss: 0.6935107111930847, discriminator loss: 0.6932485103607178\n",
            "Epoch 4000: Step 64013: Generator loss: 0.693321704864502, discriminator loss: 0.6934092044830322\n",
            "Epoch 4000: Step 64014: Generator loss: 0.693303108215332, discriminator loss: 0.6932224631309509\n",
            "Epoch 4000: Step 64015: Generator loss: 0.6931225061416626, discriminator loss: 0.6933882236480713\n",
            "Epoch 4500: Step 72000: Generator loss: 0.6981170177459717, discriminator loss: 0.6933906078338623\n",
            "Epoch 4500: Step 72001: Generator loss: 0.6983067989349365, discriminator loss: 0.6936202645301819\n",
            "Epoch 4500: Step 72002: Generator loss: 0.69861900806427, discriminator loss: 0.6934223771095276\n",
            "Epoch 4500: Step 72003: Generator loss: 0.6988858580589294, discriminator loss: 0.6932983994483948\n",
            "Epoch 4500: Step 72004: Generator loss: 0.6990423202514648, discriminator loss: 0.6933057308197021\n",
            "Epoch 4500: Step 72005: Generator loss: 0.699215829372406, discriminator loss: 0.693466067314148\n",
            "Epoch 4500: Step 72006: Generator loss: 0.6994795799255371, discriminator loss: 0.693379282951355\n",
            "Epoch 4500: Step 72007: Generator loss: 0.6996774673461914, discriminator loss: 0.693350076675415\n",
            "Epoch 4500: Step 72008: Generator loss: 0.6999398469924927, discriminator loss: 0.6933959722518921\n",
            "Epoch 4500: Step 72009: Generator loss: 0.7001593708992004, discriminator loss: 0.6933540105819702\n",
            "Epoch 4500: Step 72010: Generator loss: 0.7003214359283447, discriminator loss: 0.6933438181877136\n",
            "Epoch 4500: Step 72011: Generator loss: 0.7005283832550049, discriminator loss: 0.6933600306510925\n",
            "Epoch 4500: Step 72012: Generator loss: 0.7007378339767456, discriminator loss: 0.6932940483093262\n",
            "Epoch 4500: Step 72013: Generator loss: 0.7009361982345581, discriminator loss: 0.6933338046073914\n",
            "Epoch 4500: Step 72014: Generator loss: 0.7011198997497559, discriminator loss: 0.6933937072753906\n",
            "Epoch 4500: Step 72015: Generator loss: 0.70136958360672, discriminator loss: 0.6932463049888611\n",
            "(8959, 4) (8959,)\n",
            "8959\n"
          ],
          "name": "stdout"
        }
      ]
    },
    {
      "cell_type": "code",
      "metadata": {
        "id": "5H8_hb6h8su-"
      },
      "source": [
        "with open(ocean + '_smote_gan_data' + '.pkl', 'wb') as f: \n",
        "    pickle.dump([smote_gan_data], f)"
      ],
      "execution_count": null,
      "outputs": []
    },
    {
      "cell_type": "code",
      "metadata": {
        "id": "nnJOs_tF8syA",
        "colab": {
          "base_uri": "https://localhost:8080/"
        },
        "outputId": "7913005c-fe28-4f0e-b100-27dfdb06527e"
      },
      "source": [
        "print(len(smote_gan_data[5000]['x_shuffled']), len(smote_gan_data[5000]['y_shuffled']))\n",
        "x_shuffled = smote_gan_data[5000]['x_shuffled']\n",
        "y_shuffled = smote_gan_data[5000]['y_shuffled']\n",
        "print(len(test_Y), test_X.shape)\n",
        "\n",
        "Y_hot_encoded_train =  np.asarray(to_categorical(y_shuffled))\n",
        "#Y_hot_encoded_train = Y_hot_encoded_train.reshape(len(y_shuffled), n_steps_out, n_features_out)\n",
        "\n",
        "Y_hot_encoded_test =  np.asarray(to_categorical(test_Y))\n",
        "#Y_hot_encoded_test = Y_hot_encoded_test.reshape(len(test_Y), n_steps_out, n_features_out)\n",
        "\n",
        "print(Y_hot_encoded_train.shape, Y_hot_encoded_test.shape)"
      ],
      "execution_count": null,
      "outputs": [
        {
          "output_type": "stream",
          "text": [
            "8959 8959\n",
            "3137 (3137, 4)\n",
            "(8959, 6) (3137, 6)\n"
          ],
          "name": "stdout"
        }
      ]
    },
    {
      "cell_type": "code",
      "metadata": {
        "id": "A5U1uY4M8s1m",
        "colab": {
          "base_uri": "https://localhost:8080/"
        },
        "outputId": "3696b317-3131-4c35-e85c-046800ce0ecf"
      },
      "source": [
        "test_X"
      ],
      "execution_count": null,
      "outputs": [
        {
          "output_type": "execute_result",
          "data": {
            "text/plain": [
              "array([[0.07142857, 0.07142857, 0.10714286, 0.10714286],\n",
              "       [0.07142857, 0.10714286, 0.10714286, 0.14285714],\n",
              "       [0.10714286, 0.10714286, 0.14285714, 0.17857143],\n",
              "       ...,\n",
              "       [0.07142857, 0.07142857, 0.07142857, 0.07142857],\n",
              "       [0.07142857, 0.07142857, 0.07142857, 0.03571429],\n",
              "       [0.07142857, 0.07142857, 0.03571429, 0.03571429]])"
            ]
          },
          "metadata": {},
          "execution_count": 62
        }
      ]
    },
    {
      "cell_type": "code",
      "metadata": {
        "id": "GKHY4KRw8s4L",
        "colab": {
          "base_uri": "https://localhost:8080/"
        },
        "outputId": "aeb3ed4a-b32a-476f-cb5f-f10b4c5d1cd1"
      },
      "source": [
        "x_shuffled[0], y_shuffled[0]"
      ],
      "execution_count": null,
      "outputs": [
        {
          "output_type": "execute_result",
          "data": {
            "text/plain": [
              "(array([0.0746505 , 0.11851136, 0.18593015, 0.24819653]), 2)"
            ]
          },
          "metadata": {},
          "execution_count": 63
        }
      ]
    },
    {
      "cell_type": "code",
      "metadata": {
        "id": "VaJstKZu8s73"
      },
      "source": [
        "            x_train, y_train = np.asarray(x_shuffled), np.asarray(Y_hot_encoded_train)\n",
        "            x_test, y_test = np.asarray(test_X), np.asarray(Y_hot_encoded_test)\n",
        "            x_train = x_train.reshape((x_train.shape[0], x_train.shape[1], n_features_in))\n",
        "            x_test = x_test.reshape((x_test.shape[0], x_test.shape[1], n_features_in))"
      ],
      "execution_count": null,
      "outputs": []
    },
    {
      "cell_type": "code",
      "metadata": {
        "id": "TTs4LASp8s-r",
        "colab": {
          "base_uri": "https://localhost:8080/"
        },
        "outputId": "d450c15d-9fbf-4cda-f8c7-7de738f1f41b"
      },
      "source": [
        "train_acc, test_acc, train_std_dev, test_std_dev, Best_Predict_Test, y_predicttrain, y_predicttest, report_train, report_test = MODEL_LSTM('vanilla', 'smote_gan', univariate,x_train,x_test,y_train,y_test,Num_Exp,n_steps_in,n_steps_out,Epochs, Hidden)"
      ],
      "execution_count": null,
      "outputs": [
        {
          "output_type": "stream",
          "text": [
            "WARNING:tensorflow:Layer lstm_1 will not use cuDNN kernels since it doesn't meet the criteria. It will use a generic GPU kernel as fallback when running on GPU.\n",
            "Experiment 1 in progress\n",
            "train acc:  0.8128342245989305\n",
            "test acc:  0.7672634271099744\n",
            "Experiment 2 in progress\n",
            "train acc:  0.8235916424226395\n",
            "test acc:  0.7726120033812341\n",
            "Experiment 3 in progress\n",
            "train acc:  0.8325863432639072\n",
            "test acc:  0.7792869269949066\n",
            "Total time for 3 experiments 1990.2514040470123\n",
            "f1 scores for test data:  [0.76726343 0.772612   0.77928693]\n"
          ],
          "name": "stdout"
        }
      ]
    },
    {
      "cell_type": "code",
      "metadata": {
        "id": "Qr43x0pu8tBL"
      },
      "source": [
        "with open(\"predictions_\" + ocean + '_smote_gan' + '.pkl', 'wb') as f: \n",
        "    pickle.dump([y_predicttrain, y_train, Best_Predict_Test, y_test, report_train, report_test], f)"
      ],
      "execution_count": null,
      "outputs": []
    },
    {
      "cell_type": "markdown",
      "metadata": {
        "id": "qHGEGSjL-aBQ"
      },
      "source": [
        "**SMOTE GAN results**"
      ]
    },
    {
      "cell_type": "code",
      "metadata": {
        "id": "9FgJoFlS-Y_P",
        "colab": {
          "base_uri": "https://localhost:8080/",
          "height": 326
        },
        "outputId": "b578833d-6d45-4628-8b26-29435d37b60b"
      },
      "source": [
        "report_df = pd.DataFrame(report_test).transpose()\n",
        "report_df = report_df.reset_index()\n",
        "model_eval  = report_df[report_df['index'].str.contains('1')][['precision','recall','f1-score']]\n",
        "model_eval['accuracy']  = list(report_df[report_df['index'].str.contains('accuracy')]['support'])\n",
        "report_df"
      ],
      "execution_count": null,
      "outputs": [
        {
          "output_type": "execute_result",
          "data": {
            "text/html": [
              "<div>\n",
              "<style scoped>\n",
              "    .dataframe tbody tr th:only-of-type {\n",
              "        vertical-align: middle;\n",
              "    }\n",
              "\n",
              "    .dataframe tbody tr th {\n",
              "        vertical-align: top;\n",
              "    }\n",
              "\n",
              "    .dataframe thead th {\n",
              "        text-align: right;\n",
              "    }\n",
              "</style>\n",
              "<table border=\"1\" class=\"dataframe\">\n",
              "  <thead>\n",
              "    <tr style=\"text-align: right;\">\n",
              "      <th></th>\n",
              "      <th>index</th>\n",
              "      <th>precision</th>\n",
              "      <th>recall</th>\n",
              "      <th>f1-score</th>\n",
              "      <th>support</th>\n",
              "    </tr>\n",
              "  </thead>\n",
              "  <tbody>\n",
              "    <tr>\n",
              "      <th>0</th>\n",
              "      <td>0</td>\n",
              "      <td>0.894531</td>\n",
              "      <td>0.837294</td>\n",
              "      <td>0.864967</td>\n",
              "      <td>547.00000</td>\n",
              "    </tr>\n",
              "    <tr>\n",
              "      <th>1</th>\n",
              "      <td>1</td>\n",
              "      <td>0.768844</td>\n",
              "      <td>0.790017</td>\n",
              "      <td>0.779287</td>\n",
              "      <td>581.00000</td>\n",
              "    </tr>\n",
              "    <tr>\n",
              "      <th>2</th>\n",
              "      <td>2</td>\n",
              "      <td>0.752613</td>\n",
              "      <td>0.822857</td>\n",
              "      <td>0.786169</td>\n",
              "      <td>525.00000</td>\n",
              "    </tr>\n",
              "    <tr>\n",
              "      <th>3</th>\n",
              "      <td>3</td>\n",
              "      <td>0.886957</td>\n",
              "      <td>0.854749</td>\n",
              "      <td>0.870555</td>\n",
              "      <td>716.00000</td>\n",
              "    </tr>\n",
              "    <tr>\n",
              "      <th>4</th>\n",
              "      <td>4</td>\n",
              "      <td>0.808429</td>\n",
              "      <td>0.907527</td>\n",
              "      <td>0.855117</td>\n",
              "      <td>465.00000</td>\n",
              "    </tr>\n",
              "    <tr>\n",
              "      <th>5</th>\n",
              "      <td>5</td>\n",
              "      <td>0.954545</td>\n",
              "      <td>0.762376</td>\n",
              "      <td>0.847706</td>\n",
              "      <td>303.00000</td>\n",
              "    </tr>\n",
              "    <tr>\n",
              "      <th>6</th>\n",
              "      <td>accuracy</td>\n",
              "      <td>0.833280</td>\n",
              "      <td>0.833280</td>\n",
              "      <td>0.833280</td>\n",
              "      <td>0.83328</td>\n",
              "    </tr>\n",
              "    <tr>\n",
              "      <th>7</th>\n",
              "      <td>macro avg</td>\n",
              "      <td>0.844320</td>\n",
              "      <td>0.829137</td>\n",
              "      <td>0.833967</td>\n",
              "      <td>3137.00000</td>\n",
              "    </tr>\n",
              "    <tr>\n",
              "      <th>8</th>\n",
              "      <td>weighted avg</td>\n",
              "      <td>0.838807</td>\n",
              "      <td>0.833280</td>\n",
              "      <td>0.834059</td>\n",
              "      <td>3137.00000</td>\n",
              "    </tr>\n",
              "  </tbody>\n",
              "</table>\n",
              "</div>"
            ],
            "text/plain": [
              "          index  precision    recall  f1-score     support\n",
              "0             0   0.894531  0.837294  0.864967   547.00000\n",
              "1             1   0.768844  0.790017  0.779287   581.00000\n",
              "2             2   0.752613  0.822857  0.786169   525.00000\n",
              "3             3   0.886957  0.854749  0.870555   716.00000\n",
              "4             4   0.808429  0.907527  0.855117   465.00000\n",
              "5             5   0.954545  0.762376  0.847706   303.00000\n",
              "6      accuracy   0.833280  0.833280  0.833280     0.83328\n",
              "7     macro avg   0.844320  0.829137  0.833967  3137.00000\n",
              "8  weighted avg   0.838807  0.833280  0.834059  3137.00000"
            ]
          },
          "metadata": {},
          "execution_count": 67
        }
      ]
    },
    {
      "cell_type": "code",
      "metadata": {
        "id": "dJj45eFu-ZC7",
        "colab": {
          "base_uri": "https://localhost:8080/",
          "height": 750
        },
        "outputId": "d7390968-030e-4ed0-bb5d-f966ad71dcd1"
      },
      "source": [
        "y = [i.argmax() for i in y_test]\n",
        "pred = [i.argmax() for i in Best_Predict_Test]\n",
        "cf_matrix_test = confusion_matrix(y, pred)\n",
        "make_confusion_matrix_chart2(cf_matrix_test, ocean + 'vanilla_cm_smote_gan')"
      ],
      "execution_count": null,
      "outputs": [
        {
          "output_type": "display_data",
          "data": {
            "image/png": "[encoded data removed]",
            "text/plain": [
              "<Figure size 1440x864 with 2 Axes>"
            ]
          },
          "metadata": {}
        }
      ]
    },
    {
      "cell_type": "code",
      "metadata": {
        "id": "RY4vKsgj-ZF2",
        "colab": {
          "base_uri": "https://localhost:8080/"
        },
        "outputId": "056824b6-17bf-4da3-8f9d-f75b28eae34c"
      },
      "source": [
        "for i in range(report_df.shape[0]):\n",
        "  tmp=\"\"\n",
        "  for j in ['precision', 'recall', 'f1-score', 'support']:\n",
        "    tmp=tmp+ str(round(report_df[j][i],4)) + \" & \"\n",
        "  print(tmp)"
      ],
      "execution_count": null,
      "outputs": [
        {
          "output_type": "stream",
          "text": [
            "0.8945 & 0.8373 & 0.865 & 547.0 & \n",
            "0.7688 & 0.79 & 0.7793 & 581.0 & \n",
            "0.7526 & 0.8229 & 0.7862 & 525.0 & \n",
            "0.887 & 0.8547 & 0.8706 & 716.0 & \n",
            "0.8084 & 0.9075 & 0.8551 & 465.0 & \n",
            "0.9545 & 0.7624 & 0.8477 & 303.0 & \n",
            "0.8333 & 0.8333 & 0.8333 & 0.8333 & \n",
            "0.8443 & 0.8291 & 0.834 & 3137.0 & \n",
            "0.8388 & 0.8333 & 0.8341 & 3137.0 & \n"
          ],
          "name": "stdout"
        }
      ]
    },
    {
      "cell_type": "markdown",
      "metadata": {
        "id": "9GkAz4jH-w-Z"
      },
      "source": [
        "**Recall Precision curves**"
      ]
    },
    {
      "cell_type": "code",
      "metadata": {
        "id": "khyv2yrV54KY",
        "colab": {
          "base_uri": "https://localhost:8080/",
          "height": 178
        },
        "outputId": "a80dda7c-8152-4028-cb8d-d588d7afd39c"
      },
      "source": [
        "with open(ocean + '_original' + '.pkl', 'rb') as f: \n",
        "    predictions_train,actual_train,predictions_test,actual_test,metrics_train,metrics_test=pickle.load(f)"
      ],
      "execution_count": null,
      "outputs": [
        {
          "output_type": "error",
          "ename": "FileNotFoundError",
          "evalue": "ignored",
          "traceback": [
            "\u001b[0;31m---------------------------------------------------------------------------\u001b[0m",
            "\u001b[0;31mFileNotFoundError\u001b[0m                         Traceback (most recent call last)",
            "\u001b[0;32m<ipython-input-77-9b9d3ae52780>\u001b[0m in \u001b[0;36m<module>\u001b[0;34m()\u001b[0m\n\u001b[0;32m----> 1\u001b[0;31m \u001b[0;32mwith\u001b[0m \u001b[0mopen\u001b[0m\u001b[0;34m(\u001b[0m\u001b[0mocean\u001b[0m \u001b[0;34m+\u001b[0m \u001b[0;34m'_original'\u001b[0m \u001b[0;34m+\u001b[0m \u001b[0;34m'.pkl'\u001b[0m\u001b[0;34m,\u001b[0m \u001b[0;34m'rb'\u001b[0m\u001b[0;34m)\u001b[0m \u001b[0;32mas\u001b[0m \u001b[0mf\u001b[0m\u001b[0;34m:\u001b[0m\u001b[0;34m\u001b[0m\u001b[0;34m\u001b[0m\u001b[0m\n\u001b[0m\u001b[1;32m      2\u001b[0m     \u001b[0mpredictions_train\u001b[0m\u001b[0;34m,\u001b[0m\u001b[0mactual_train\u001b[0m\u001b[0;34m,\u001b[0m\u001b[0mpredictions_test\u001b[0m\u001b[0;34m,\u001b[0m\u001b[0mactual_test\u001b[0m\u001b[0;34m,\u001b[0m\u001b[0mmetrics_train\u001b[0m\u001b[0;34m,\u001b[0m\u001b[0mmetrics_test\u001b[0m\u001b[0;34m=\u001b[0m\u001b[0mpickle\u001b[0m\u001b[0;34m.\u001b[0m\u001b[0mload\u001b[0m\u001b[0;34m(\u001b[0m\u001b[0mf\u001b[0m\u001b[0;34m)\u001b[0m\u001b[0;34m\u001b[0m\u001b[0;34m\u001b[0m\u001b[0m\n",
            "\u001b[0;31mFileNotFoundError\u001b[0m: [Errno 2] No such file or directory: 'south_pacific_original.pkl'"
          ]
        }
      ]
    },
    {
      "cell_type": "code",
      "metadata": {
        "id": "RqsMAgWc6brg"
      },
      "source": [
        "lr_probs = predictions_test['1']['vanilla']\n",
        "lr_probs = lr_probs[:, 1]\n",
        "print(lr_probs)\n",
        "testy= [i.argmax() for i in actual_test['1']['vanilla']]\n",
        "yhat= [i.argmax() for i in predictions_test['1']['vanilla']]\n",
        "lr_precision, lr_recall, _ = precision_recall_curve(testy, lr_probs)\n",
        "lr_f1, lr_auc = f1_score(testy, yhat), auc(lr_recall, lr_precision)\n",
        "# summarize scores\n",
        "print('Logistic: f1=%.3f auc=%.3f' % (lr_f1, lr_auc))"
      ],
      "execution_count": null,
      "outputs": []
    },
    {
      "cell_type": "code",
      "metadata": {
        "id": "jEpZdzgO9VLJ"
      },
      "source": [
        "with open(ocean + '_smote' + '.pkl', 'rb') as f: \n",
        "    y_predicttrain, y_train, Best_Predict_Test, y_test, report_train, report_test = pickle.load(f)"
      ],
      "execution_count": null,
      "outputs": []
    },
    {
      "cell_type": "code",
      "metadata": {
        "colab": {
          "base_uri": "https://localhost:8080/"
        },
        "id": "am5a1PRB9ntK",
        "outputId": "2d4489d6-090b-4f3a-bef0-1065d0502670"
      },
      "source": [
        "lr_probs = Best_Predict_Test\n",
        "lr_probs = lr_probs[:, 1]\n",
        "print(lr_probs)\n",
        "testy= [i.argmax() for i in y_test]\n",
        "yhat= [i.argmax() for i in Best_Predict_Test]\n",
        "lr_precision_smote, lr_recall_smote, _ = precision_recall_curve(testy, lr_probs)\n",
        "lr_f1_smote, lr_auc_smote = f1_score(testy, yhat), auc(lr_recall_smote, lr_precision_smote)\n",
        "# summarize scores\n",
        "print('Logistic: f1=%.3f auc=%.3f' % (lr_f1_smote, lr_auc_smote))"
      ],
      "execution_count": null,
      "outputs": [
        {
          "output_type": "stream",
          "text": [
            "[1.1074743e-05 6.3150111e-08 1.6548815e-14 ... 0.0000000e+00 7.0161540e-38\n",
            " 0.0000000e+00]\n",
            "Logistic: f1=0.412 auc=0.441\n"
          ],
          "name": "stdout"
        }
      ]
    },
    {
      "cell_type": "code",
      "metadata": {
        "id": "R9JM_qhXi_LQ"
      },
      "source": [
        "with open(ocean + '_gan' + '.pkl', 'rb') as f: \n",
        "    y_predicttrain, y_train, Best_Predict_Test, y_test, report_train, report_test = pickle.load(f)"
      ],
      "execution_count": null,
      "outputs": []
    },
    {
      "cell_type": "code",
      "metadata": {
        "colab": {
          "base_uri": "https://localhost:8080/"
        },
        "id": "vbYxNZpgi_Pa",
        "outputId": "4fdd7381-713b-4d03-dd43-404bc8355480"
      },
      "source": [
        "lr_probs = Best_Predict_Test\n",
        "lr_probs = lr_probs[:, 1]\n",
        "print(lr_probs)\n",
        "testy= [i.argmax() for i in y_test]\n",
        "yhat= [i.argmax() for i in Best_Predict_Test]\n",
        "lr_precision_gan, lr_recall_gan, _ = precision_recall_curve(testy, lr_probs)\n",
        "lr_f1_gan, lr_auc_gan = f1_score(testy, yhat), auc(lr_recall_gan, lr_precision_gan)\n",
        "# summarize scores\n",
        "print('Logistic: f1=%.3f auc=%.3f' % (lr_f1_gan, lr_auc_gan))"
      ],
      "execution_count": null,
      "outputs": [
        {
          "output_type": "stream",
          "text": [
            "[9.4767656e-06 3.2954503e-08 8.3283688e-14 ... 1.4457894e-24 8.8807153e-18\n",
            " 4.9987783e-08]\n",
            "Logistic: f1=0.414 auc=0.366\n"
          ],
          "name": "stdout"
        }
      ]
    },
    {
      "cell_type": "code",
      "metadata": {
        "id": "B9hIFntB-j1f"
      },
      "source": [
        "with open(ocean + '_smote_gan' + '.pkl', 'rb') as f: \n",
        "    y_predicttrain, y_train, Best_Predict_Test, y_test, report_train, report_test = pickle.load(f)"
      ],
      "execution_count": null,
      "outputs": []
    },
    {
      "cell_type": "code",
      "metadata": {
        "colab": {
          "base_uri": "https://localhost:8080/"
        },
        "id": "RJvPpdCz-j4y",
        "outputId": "d4a9190a-9bea-4429-9b19-cad27e207648"
      },
      "source": [
        "lr_probs = Best_Predict_Test\n",
        "lr_probs = lr_probs[:, 1]\n",
        "print(lr_probs)\n",
        "testy= [i.argmax() for i in y_test]\n",
        "yhat= [i.argmax() for i in Best_Predict_Test]\n",
        "lr_precision_smote_gan, lr_recall_smote_gan, _ = precision_recall_curve(testy, lr_probs)\n",
        "lr_f1_smote_gan, lr_auc_smote_gan = f1_score(testy, yhat), auc(lr_recall_smote_gan, lr_precision_smote_gan)\n",
        "# summarize scores\n",
        "print('Logistic: f1=%.3f auc=%.3f' % (lr_f1_smote_gan, lr_auc_smote_gan))"
      ],
      "execution_count": null,
      "outputs": [
        {
          "output_type": "stream",
          "text": [
            "[3.9632655e-06 2.7184500e-05 2.6135458e-09 ... 1.6819697e-16 3.0762350e-12\n",
            " 7.5718948e-10]\n",
            "Logistic: f1=0.509 auc=0.518\n"
          ],
          "name": "stdout"
        }
      ]
    },
    {
      "cell_type": "code",
      "metadata": {
        "colab": {
          "base_uri": "https://localhost:8080/",
          "height": 694
        },
        "id": "8vjmG5kH7oto",
        "outputId": "b03f64db-b411-453b-febc-3f98b3cf9230"
      },
      "source": [
        "# plot the precision-recall curves\n",
        "fig, ax = pyplot.subplots(figsize = (20,12))\n",
        "no_skill = 135 / len(testy)    #no of one/total\n",
        "pyplot.plot(lr_recall, lr_precision, marker='.',lw=4, label='Original data: ' + str(round(lr_f1,3)))\n",
        "pyplot.plot(lr_recall_smote, lr_precision_smote,lw=4, marker='.', label='SMOTE: ' + str(round(lr_f1_smote,3)))\n",
        "pyplot.plot(lr_recall_gan, lr_precision_gan,lw=4, marker='.', label='GAN: ' + str(round(lr_f1_gan,3)))\n",
        "pyplot.plot(lr_recall_smote_gan, lr_precision_smote_gan,lw=4, marker='.', label='SMOTE-GAN: ' + str(round(lr_f1_smote_gan,3)))\n",
        "# axis labels\n",
        "pyplot.xlabel('Recall', size=40)\n",
        "pyplot.ylabel('Precision', size=40)\n",
        "ax.tick_params(axis='both', which='major', labelsize=30)\n",
        "# show the legend\n",
        "pyplot.legend(loc=\"upper right\", fontsize=30)\n",
        "#save the plot\n",
        "plt.savefig(ocean + '_precision_recall_curve.png', dpi=300, transparent=False, bbox_inches='tight')\n",
        "plt.show()\n",
        "# show the plot\n",
        "pyplot.show()"
      ],
      "execution_count": null,
      "outputs": [
        {
          "output_type": "display_data",
          "data": {
            "image/png": "[encoded data removed]",
            "text/plain": [
              "<Figure size 1440x864 with 1 Axes>"
            ]
          },
          "metadata": {
            "tags": []
          }
        }
      ]
    },
    {
      "cell_type": "code",
      "metadata": {
        "id": "rG0bNjYf78VY"
      },
      "source": [
        ""
      ],
      "execution_count": null,
      "outputs": []
    }
  ]
}