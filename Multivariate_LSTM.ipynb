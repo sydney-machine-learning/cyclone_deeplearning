{
  "cells": [
    {
      "cell_type": "code",
      "execution_count": null,
      "metadata": {
        "id": "YI-BRUdpY__N"
      },
      "outputs": [],
      "source": [
        "# Importing necessary libraries\n",
        "import copy\n",
        "import numpy as np\n",
        "import sklearn\n",
        "import pandas as pd\n",
        "import matplotlib.pyplot as plt\n",
        "from keras.models import Sequential\n",
        "from keras.layers import Dense\n",
        "from keras.layers import Activation\n",
        "from keras.layers import LSTM\n",
        "from keras.layers import Bidirectional\n",
        "from keras.layers import RepeatVector\n",
        "from keras.layers import TimeDistributed\n",
        "from numpy import hstack\n",
        "from sklearn.preprocessing import StandardScaler\n",
        "import datetime\n",
        "import time\n",
        "import joblib\n",
        "from datetime import timedelta, date\n",
        "import tensorflow as tf\n",
        "from sklearn.preprocessing import MinMaxScaler\n",
        "from numpy import array\n",
        "from tensorflow.keras.utils import to_categorical\n",
        "from sklearn.metrics import precision_score, recall_score\n",
        "from sklearn.metrics import f1_score\n",
        "import matplotlib.pyplot as plt\n",
        "import os\n",
        "import seaborn as sns; sns.set_theme()\n",
        "import errno\n",
        "\n",
        "from keras.layers import Flatten\n",
        "from keras.layers import ConvLSTM2D\n",
        "from keras.models import load_model\n",
        "import pickle\n",
        "from sklearn.metrics import accuracy_score, roc_curve, auc, classification_report, confusion_matrix\n",
        "\n",
        "from imblearn.over_sampling import SMOTE\n",
        "from collections import Counter\n",
        "import imblearn\n",
        "import collections\n",
        "from sklearn.datasets import make_classification\n",
        "from sklearn.linear_model import LogisticRegression\n",
        "from sklearn.model_selection import train_test_split\n",
        "from sklearn.metrics import precision_recall_curve\n",
        "from sklearn.metrics import f1_score\n",
        "from matplotlib import pyplot"
      ]
    },
    {
      "cell_type": "code",
      "execution_count": null,
      "metadata": {
        "id": "YOKIE8fMZavh"
      },
      "outputs": [],
      "source": [
        "# Function to load and categorise the data\n",
        "import pandas as pd\n",
        "\n",
        "def load_data_south_indian(url):\n",
        "\n",
        "    df = pd.read_csv(url)\n",
        "\n",
        "    df['category'] = df['Speed(knots)'].apply(lambda x:\n",
        "        0 if x <= 33 else\n",
        "        1 if 34 <= x <= 47 else\n",
        "        2 if 48 <= x <= 63 else\n",
        "        3 if 64 <= x <= 89 else\n",
        "        4 if 90 <= x <= 115 else\n",
        "        5\n",
        "    )\n",
        "    return df\n",
        "\n",
        "def load_data_south_pacific(url):\n",
        "\n",
        "   df = pd.read_csv(url)\n",
        "   df['category'] = df['Speed(knots)'].apply(lambda x:\n",
        "        0 if x <= 33 else\n",
        "        1 if 34 <= x <= 47 else\n",
        "        2 if 48 <= x <= 63 else\n",
        "        3 if 64 <= x <= 85 else\n",
        "        4 if 86 <= x <= 107 else\n",
        "        5\n",
        "    )\n",
        "   return df\n"
      ]
    },
    {
      "cell_type": "code",
      "execution_count": null,
      "metadata": {
        "colab": {
          "base_uri": "https://localhost:8080/"
        },
        "id": "dTndeC9TZj9H",
        "outputId": "4b62c74e-e1fe-482a-c543-64edf150c521"
      },
      "outputs": [
        {
          "output_type": "stream",
          "name": "stdout",
          "text": [
            "Selected ocean: south_indian\n",
            "Data URL: https://raw.githubusercontent.com/sydney-machine-learning/cyclonedatasets/main/SouthIndian-SouthPacific-Ocean/South_indian_hurricane.csv\n",
            "Hot-encoded result file name: south_indian\n",
            "Category result file name: roc_data_south_indian\n"
          ]
        }
      ],
      "source": [
        "ocean = 'south_indian'\n",
        "\n",
        "# Display the selected ocean\n",
        "print(f\"Selected ocean: {ocean}\")\n",
        "\n",
        "# Set the data URL and function based on the selected ocean\n",
        "if ocean == 'south_indian':\n",
        "    url_data = 'https://raw.githubusercontent.com/sydney-machine-learning/cyclonedatasets/main/SouthIndian-SouthPacific-Ocean/South_indian_hurricane.csv'\n",
        "    data_loading_function = load_data_south_indian\n",
        "    hot_encoded_result_file_name = 'south_indian'\n",
        "    category_result_file_name = 'roc_data_south_indian'\n",
        "else:\n",
        "    url_data = 'https://raw.githubusercontent.com/sydney-machine-learning/cyclonedatasets/main/SouthIndian-SouthPacific-Ocean/South_pacific_hurricane.csv'\n",
        "    data_loading_function = load_data_south_pacific\n",
        "    hot_encoded_result_file_name = 'south_pacific'\n",
        "    category_result_file_name = 'roc_data_south_pacific'\n",
        "\n",
        "# Display the data URL\n",
        "print(f\"Data URL: {url_data}\")\n",
        "\n",
        "# Display the result file names\n",
        "print(f\"Hot-encoded result file name: {hot_encoded_result_file_name}\")\n",
        "print(f\"Category result file name: {category_result_file_name}\")\n"
      ]
    },
    {
      "cell_type": "code",
      "execution_count": null,
      "metadata": {
        "colab": {
          "base_uri": "https://localhost:8080/"
        },
        "id": "-7K3WM18ZoYt",
        "outputId": "9994ddbb-b10e-444d-d5fd-ce293a7a45e8"
      },
      "outputs": [
        {
          "output_type": "stream",
          "name": "stdout",
          "text": [
            "DataFrame Head:\n",
            "  Basin  No. of Cycl        Time     V5  V6   Lat   Lon  Speed(knots)  \\\n",
            "0    SI            1  1981072512   BEST   0  11.8  86.7            20   \n",
            "1    SI            1  1981072518   BEST   0  11.6  86.4            25   \n",
            "2    SI            1  1981072600   BEST   0  11.3  86.2            25   \n",
            "3    SI            1  1981072606   BEST   0  10.9  86.2            25   \n",
            "4    SI            1  1981072612   BEST   0  10.4  86.1            25   \n",
            "\n",
            "   lat_tenth  lon_tenth  category  \n",
            "0       11.8       86.7         0  \n",
            "1       11.6       86.4         0  \n",
            "2       11.3       86.2         0  \n",
            "3       10.9       86.2         0  \n",
            "4       10.4       86.1         0  \n"
          ]
        }
      ],
      "source": [
        "# Load data using the specified function and URL\n",
        "df = data_loading_function(url_data)\n",
        "\n",
        "# Latitude and longitude values into int\n",
        "df['Lat'] = df['Lat'].apply(lambda x: -int(x[:-1]) * 0.1 if x.endswith('N') else int(x[:-1]) * 0.1 if x.endswith('S') else 0)\n",
        "df['Lon'] = df['Lon'].apply(lambda x: -int(x[:-1]) * 0.1 if x.endswith('W') else int(x[:-1]) * 0.1 if x.endswith('E') else 0)\n",
        "\n",
        "# Extract 'Speed(knots)' and 'category' columns as lists\n",
        "speed = df['Speed(knots)'].tolist()\n",
        "categories = df['category'].tolist()\n",
        "latitude = df['Lat'].tolist()\n",
        "longitude = df['Lon'].tolist()\n",
        "\n",
        "# Display the first few rows of the DataFrame\n",
        "df_head = df.head()\n",
        "print(\"DataFrame Head:\")\n",
        "print(df_head)"
      ]
    },
    {
      "cell_type": "code",
      "execution_count": null,
      "metadata": {
        "id": "o5muktqFkq7l"
      },
      "outputs": [],
      "source": [
        "# Functions to split cyclone sequences\n",
        "from sklearn.metrics import confusion_matrix, accuracy_score, precision_score, recall_score, f1_score, roc_auc_score\n",
        "import numpy as np\n",
        "import matplotlib.pyplot as plt\n",
        "import seaborn as sns\n",
        "\n",
        "def multivariate_split_sequence(sequence, n_steps):\n",
        "\n",
        "    X, y = list(), list()\n",
        "    for i in range(len(sequence)):\n",
        "        end_ix = i + n_steps\n",
        "        if end_ix > len(sequence) - 1:\n",
        "            break\n",
        "        seq_x, seq_y = sequence[i:end_ix, :], sequence[end_ix, -1]\n",
        "        X.append(seq_x)\n",
        "        y.append(seq_y)\n",
        "    return np.array(X), np.array(y)\n",
        "\n",
        "features_columns = ['Lat', 'Lon','Speed(knots)']\n",
        "target_column = 'category'\n",
        "\n",
        "# Extract features and target\n",
        "features = df[features_columns].values\n",
        "target = df[target_column].values\n",
        "\n",
        "n_steps = 5  # Number of input time steps\n",
        "\n",
        "X, y = multivariate_split_sequence(features, n_steps)\n",
        "\n",
        "# Now X contains sequences of 'Latitude', 'Longitude', and 'Speed(knots)' for each time step,\n",
        "# and y contains the corresponding 'category' values.\n",
        "\n",
        "def rmse(pred, actual):\n",
        "\n",
        "    return np.sqrt(((pred - actual) ** 2).mean())\n",
        "\n",
        "def categorical(pred, actual):\n",
        "\n",
        "    cm = confusion_matrix(pred, actual)\n",
        "    acc = accuracy_score(actual, pred, normalize=True, sample_weight=None)\n",
        "    ps1 = precision_score(pred, actual, average='micro')\n",
        "    rs1 = recall_score(pred, actual, average='micro')\n",
        "    f11 = f1_score(pred, actual, average='micro')\n",
        "    auc = roc_auc_score(actual, pred)\n",
        "    return acc, auc, cm, ps1, rs1, f11\n",
        "def make_confusion_matrix_chart(cf_matrix_test, cmap='Blues', annot_kws=None):\n",
        "\n",
        "    # Set up the figure and axes\n",
        "    plt.figure(figsize=(12, 6))\n",
        "\n",
        "    # Customize the heatmap using seaborn\n",
        "    sns.heatmap(cf_matrix_test, annot=True, cmap=cmap,\n",
        "                yticklabels=['0', '1'], xticklabels=['0', '1'],\n",
        "                fmt='g', annot_kws=annot_kws)\n",
        "\n",
        "    # Customize axis labels and title\n",
        "    plt.ylabel(\"Actual\")\n",
        "    plt.xlabel(\"Predicted\")\n",
        "    plt.title('Confusion Matrix - Test Data')\n",
        "\n",
        "    return None"
      ]
    },
    {
      "cell_type": "code",
      "execution_count": null,
      "metadata": {
        "colab": {
          "base_uri": "https://localhost:8080/"
        },
        "id": "m7tfrs81lDun",
        "outputId": "e70e7c6f-1a92-4dfa-e1b0-9ef982166dec"
      },
      "outputs": [
        {
          "output_type": "stream",
          "name": "stdout",
          "text": [
            "Univariate: False\n",
            "Number of Input Time Steps: 6\n",
            "Number of Input Sequences: 3\n",
            "Number of Output Time Steps: 1\n",
            "Number of Input Features: 3\n",
            "Number of Output Features: 2\n",
            "Number of Hidden Layers: 50\n",
            "Epochs: 100\n",
            "Number of Experiments: 1\n"
          ]
        }
      ],
      "source": [
        "# Define whether it's a univariate or multivariate case\n",
        "univariate = False\n",
        "\n",
        "# Define sequence and time step parameters\n",
        "n_steps_in = 6\n",
        "n_seq = 3\n",
        "n_steps_out = 1\n",
        "\n",
        "# Define the number of features for input and output\n",
        "n_features_in = 3  # Latitude, Longitude, Speed\n",
        "n_features_out = 2  # Considering one-hot encoding\n",
        "\n",
        "# Define the number of hidden layers in the model\n",
        "hidden_layers = 50\n",
        "\n",
        "# Define training parameters\n",
        "epochs = 100\n",
        "No_exp = 30 # Number of experiments\n",
        "\n",
        "# Display the configuration\n",
        "print(f\"Univariate: {univariate}\")\n",
        "print(f\"Number of Input Time Steps: {n_steps_in}\")\n",
        "print(f\"Number of Input Sequences: {n_seq}\")\n",
        "print(f\"Number of Output Time Steps: {n_steps_out}\")\n",
        "print(f\"Number of Input Features: {n_features_in}\")\n",
        "print(f\"Number of Output Features: {n_features_out}\")\n",
        "print(f\"Number of Hidden Layers: {hidden_layers}\")\n",
        "print(f\"Epochs: {epochs}\")\n",
        "print(f\"Number of Experiments: {No_exp}\")\n",
        "\n"
      ]
    },
    {
      "cell_type": "code",
      "execution_count": null,
      "metadata": {
        "colab": {
          "base_uri": "https://localhost:8080/"
        },
        "id": "J8KZqToilGwW",
        "outputId": "e1cb8a1f-0557-4b4f-a764-1b3e6725da83"
      },
      "outputs": [
        {
          "output_type": "stream",
          "name": "stdout",
          "text": [
            "[30. 30. 25. 25. 25. 25. 20.]\n"
          ]
        }
      ],
      "source": [
        "\n",
        "cyclone_id = df['No. of Cycl'][0]\n",
        "X = []\n",
        "Y = []\n",
        "start_index = 0\n",
        "end_index = 0\n",
        "\n",
        "# Iterate through the DataFrame\n",
        "for i in range(1, df.shape[0]):\n",
        "    # Check if the cyclone ID is the same as the previous row\n",
        "    if df['No. of Cycl'][i] == cyclone_id:\n",
        "        end_index += 1\n",
        "    else:\n",
        "        # Split the sequence and append to X and Y\n",
        "        x, y = multivariate_split_sequence(features[start_index:end_index + 1, :], n_steps_in)\n",
        "        X.append(x)\n",
        "        Y.append(y)\n",
        "\n",
        "        # Update start and end indices for the new cyclone\n",
        "        cyclone_id = df['No. of Cycl'][i]\n",
        "        start_index = i\n",
        "        end_index = i\n",
        "\n",
        "    # Check if it's the last row of the DataFrame\n",
        "    if i == df.shape[0] - 1:\n",
        "        # Split the sequence and append to X and Y\n",
        "        x, y = multivariate_split_sequence(features[start_index:end_index + 1, :], n_steps_in)\n",
        "        X.append(x)\n",
        "        Y.append(y)\n",
        "print(Y[0])\n"
      ]
    },
    {
      "cell_type": "code",
      "execution_count": null,
      "metadata": {
        "colab": {
          "base_uri": "https://localhost:8080/"
        },
        "id": "WfkDNbt8lOVQ",
        "outputId": "42aa7df5-3b46-4fae-f7c2-a0341bb388a4"
      },
      "outputs": [
        {
          "output_type": "stream",
          "name": "stdout",
          "text": [
            "Initial Lengths - X: 670 Y: 670\n",
            "Flattened Lengths - X: 20153 Y: 20153\n",
            "[[11.8 86.7 20. ]\n",
            " [11.6 86.4 25. ]\n",
            " [11.3 86.2 25. ]\n",
            " [10.9 86.2 25. ]\n",
            " [10.4 86.1 25. ]\n",
            " [10.1 85.7 30. ]] 30.0\n",
            "Sample Values - Speed: [20, 25, 25, 25, 25, 30, 30, 30, 25, 25]\n"
          ]
        }
      ],
      "source": [
        "# Print the initial lengths of X and Y\n",
        "print(\"Initial Lengths - X:\", len(X), \"Y:\", len(Y))\n",
        "\n",
        "# Flattening X and Y\n",
        "X = [item for sublist in X for item in sublist]\n",
        "Y = [item for sublist in Y for item in sublist]\n",
        "\n",
        "# Print lengths of X and Y after flattening\n",
        "print(\"Flattened Lengths - X:\", len(X), \"Y:\", len(Y))\n",
        "\n",
        "# Print some initial values from X and Y\n",
        "print(X[0], Y[0])\n",
        "\n",
        "# Print some initial values from the 'speed' column\n",
        "print(\"Sample Values - Speed:\", speed[:10])\n",
        "X1 = X\n",
        "Y1 = Y\n",
        "X2 = X\n",
        "Y2 = Y\n"
      ]
    },
    {
      "cell_type": "code",
      "execution_count": null,
      "metadata": {
        "colab": {
          "base_uri": "https://localhost:8080/"
        },
        "id": "b0TjLjUjWx0p",
        "outputId": "2c3712ba-6eea-431c-a07e-38e4ba1ba0ad"
      },
      "outputs": [
        {
          "output_type": "stream",
          "name": "stdout",
          "text": [
            "20153\n"
          ]
        }
      ],
      "source": [
        "# Initialize 'intensify_y' with zeros\n",
        "intensify_y = [0] * len(X)\n",
        "\n",
        "# Add labels for rapid intensification\n",
        "for i in range(len(X)):\n",
        "    for j in range(len(X[0]) - 4, len(X[0])):\n",
        "        if (Y[i] - X[i][j][2]) >= 30:\n",
        "            intensify_y[i] = 1\n",
        "            break\n",
        "\n",
        "print(len(intensify_y))\n",
        "\n",
        "Y = intensify_y\n",
        "\n",
        "\n"
      ]
    },
    {
      "cell_type": "code",
      "execution_count": null,
      "metadata": {
        "colab": {
          "base_uri": "https://localhost:8080/"
        },
        "id": "Hx2Za37MlalZ",
        "outputId": "c03fc572-4051-4542-cd73-ac4bc7357793"
      },
      "outputs": [
        {
          "output_type": "stream",
          "name": "stdout",
          "text": [
            "Training set size: 15114\n"
          ]
        }
      ],
      "source": [
        "# Calculate the training limit as 75% of the total length of X\n",
        "train_limit = int(len(X) * 0.75)\n",
        "print(\"Training set size:\", train_limit)\n"
      ]
    },
    {
      "cell_type": "code",
      "execution_count": null,
      "metadata": {
        "colab": {
          "base_uri": "https://localhost:8080/"
        },
        "id": "nNlc4JoVlbTx",
        "outputId": "4c2dbb93-ff3f-42c6-9771-93c3f7207215"
      },
      "outputs": [
        {
          "output_type": "stream",
          "name": "stdout",
          "text": [
            "Length of X: 20153\n",
            "Length of Y: 20153\n",
            "Length of Test X (for evaluation): 5038\n",
            "Length of Test Y (for evaluation): 5038\n"
          ]
        }
      ],
      "source": [
        "\n",
        "test_X_original = X[train_limit + 1:]\n",
        "test_Y_original = Y[train_limit + 1:]\n",
        "\n",
        "# Display the lengths of the datasets\n",
        "print(\"Length of X:\", len(X))\n",
        "print(\"Length of Y:\", len(Y))\n",
        "print(\"Length of Test X (for evaluation):\", len(test_X_original))\n",
        "print(\"Length of Test Y (for evaluation):\", len(test_Y_original))\n"
      ]
    },
    {
      "cell_type": "code",
      "execution_count": null,
      "metadata": {
        "colab": {
          "base_uri": "https://localhost:8080/"
        },
        "id": "8z3L_WUglf-P",
        "outputId": "e205bff2-1d8b-4e41-fa3a-9dbd54561cf4"
      },
      "outputs": [
        {
          "output_type": "stream",
          "name": "stdout",
          "text": [
            "[[0.55813953 0.8209785  0.06896552]\n",
            " [0.53955375 0.81986657 0.07142857]\n",
            " [0.52054795 0.81912528 0.07142857]\n",
            " [0.51119403 0.81912528 0.07142857]\n",
            " [0.5026738  0.81905821 0.07142857]\n",
            " [0.5        0.81757508 0.13793103]]\n"
          ]
        }
      ],
      "source": [
        "# Normalization\n",
        "from sklearn.preprocessing import MinMaxScaler\n",
        "\n",
        "X = np.array(X)\n",
        "scalers = {}\n",
        "for i in range(X.shape[1]):\n",
        "    scalers[i] = MinMaxScaler()\n",
        "    X[:, i, :] = scalers[i].fit_transform(X[:, i, :])\n",
        "print(X[0])"
      ]
    },
    {
      "cell_type": "code",
      "execution_count": null,
      "metadata": {
        "colab": {
          "base_uri": "https://localhost:8080/"
        },
        "id": "O4ruamx0lifI",
        "outputId": "99bd87ee-4f03-4865-8794-6c72a562a162"
      },
      "outputs": [
        {
          "output_type": "stream",
          "name": "stdout",
          "text": [
            "5038 5038\n"
          ]
        },
        {
          "output_type": "execute_result",
          "data": {
            "text/plain": [
              "(15114, 15114)"
            ]
          },
          "metadata": {},
          "execution_count": 13
        }
      ],
      "source": [
        "# Splitting into train and test sets\n",
        "speed_x = X\n",
        "test_X = X[train_limit+1:]\n",
        "test_X = np.asarray(test_X).astype(float)\n",
        "test_Y = Y[train_limit+1:]\n",
        "X = X[:train_limit]\n",
        "X = np.asarray(X).astype(float)\n",
        "Y = Y[:train_limit]\n",
        "print(len(test_X), len(test_Y))\n",
        "len(X), len(Y)\n"
      ]
    },
    {
      "cell_type": "code",
      "execution_count": null,
      "metadata": {
        "colab": {
          "base_uri": "https://localhost:8080/"
        },
        "id": "Qoy4Jz2MllFT",
        "outputId": "3893016d-7c30-46c3-836f-22c24aba1e9a"
      },
      "outputs": [
        {
          "output_type": "stream",
          "name": "stdout",
          "text": [
            "Class Distribution - Training Data:\n",
            "Counter({0: 14531, 1: 583})\n",
            "\n",
            "Class Distribution - Test Data:\n",
            "Counter({0: 4935, 1: 103})\n"
          ]
        }
      ],
      "source": [
        "# Calculate the class distribution for training and test data\n",
        "counter_train = Counter(Y)\n",
        "counter_test = Counter(test_Y)\n",
        "\n",
        "# Display the class distribution for training data\n",
        "print(\"Class Distribution - Training Data:\")\n",
        "print(counter_train)\n",
        "\n",
        "# Display the class distribution for test data\n",
        "print(\"\\nClass Distribution - Test Data:\")\n",
        "print(counter_test)"
      ]
    },
    {
      "cell_type": "code",
      "source": [
        "import tensorflow.keras.backend as K\n",
        "\n",
        "def focal_loss(alpha=0.75, gamma=2.0):\n",
        "    def loss(y_true, y_pred):\n",
        "        y_pred = K.clip(y_pred, 1e-7, 1 - 1e-7)\n",
        "        cross_entropy = -y_true * K.log(y_pred)\n",
        "        loss = alpha * K.pow(1 - y_pred, gamma) * cross_entropy\n",
        "        return K.sum(loss, axis=1)\n",
        "    return loss"
      ],
      "metadata": {
        "id": "Iz28ASC9tkYA"
      },
      "execution_count": null,
      "outputs": []
    },
    {
      "cell_type": "code",
      "source": [],
      "metadata": {
        "id": "aXQPVbS7tn1d"
      },
      "execution_count": null,
      "outputs": []
    },
    {
      "cell_type": "markdown",
      "source": [
        "# **Multivariate LSTM**"
      ],
      "metadata": {
        "id": "3w_9gfNCWHV7"
      }
    },
    {
      "cell_type": "code",
      "execution_count": null,
      "metadata": {
        "id": "Jr8-n795lvSr"
      },
      "outputs": [],
      "source": [
        "def multivariate_vanilla_lstm(n_steps_in, n_steps_out, n_features_in, n_features_out):\n",
        "    \"\"\"\n",
        "    Create a Multivariate LSTM model for sequence prediction.\n",
        "\n",
        "    Parameters:\n",
        "    - n_steps_in: Number of time steps in the input sequence.\n",
        "    - n_steps_out: Number of time steps in the output sequence.\n",
        "    - n_features_in: Number of input features.\n",
        "    - n_features_out: Number of output features.\n",
        "\n",
        "    Returns:\n",
        "    - model: Compiled Multivariate LSTM model.\n",
        "    \"\"\"\n",
        "    # Initialize a sequential model\n",
        "    model = Sequential()\n",
        "\n",
        "    # Add an LSTM layer with 50 units and ReLU activation\n",
        "    model.add(LSTM(50, activation='relu', input_shape=(n_steps_in, n_features_in)))\n",
        "\n",
        "    # Add a Dense layer with a single unit and sigmoid activation for binary classification\n",
        "    model.add(Dense(2, activation='softmax'))\n",
        "    # Compile the model using Adam optimizer and binary crossentropy loss\n",
        "    model.compile(optimizer='adam', loss=focal_loss(alpha=0.75, gamma=2.0), metrics=['accuracy'])\n",
        "\n",
        "    return model"
      ]
    },
    {
      "cell_type": "code",
      "execution_count": null,
      "metadata": {
        "id": "4ctAKL5el1Gk"
      },
      "outputs": [],
      "source": [
        "\n",
        "def lstm(model_name, method, univariate, x_train, x_test, y_train, y_test, Num_Exp, n_steps_in, n_steps_out, Epochs, Hidden):\n",
        "    # Initialize arrays to store accuracy metrics\n",
        "    train_acc = np.zeros(Num_Exp)\n",
        "    test_acc = np.zeros(Num_Exp)\n",
        "\n",
        "\n",
        "    if model_name == 'vanilla':\n",
        "        model = multivariate_vanilla_lstm(n_steps_in, n_steps_out, n_features_in, n_features_out)\n",
        "    else:\n",
        "        raise ValueError(f\"Unsupported model_name: {model_name}\")\n",
        "\n",
        "    # Display the model summary\n",
        "    model.summary()\n",
        "\n",
        "    # Initialize arrays to store predictions and classification reports\n",
        "    y_predicttest_allruns = np.zeros([Num_Exp, x_test.shape[0], y_test.shape[1]])\n",
        "    Best_f1 = 0  # Initialize the best F1 score\n",
        "\n",
        "    # Extract the actual classes from one-hot encoded vectors for both test and train sets\n",
        "    act_test = [y_test[i].argmax() for i in range(y_test.shape[0])]\n",
        "    act_train = [y_train[i].argmax() for i in range(y_train.shape[0])]\n",
        "\n",
        "    # Initialize dictionaries to store classification reports\n",
        "    Best_report_train = dict()\n",
        "    Best_report_test = dict()\n",
        "    all_report_train = dict()\n",
        "    all_report_test = dict()\n",
        "\n",
        "    # Loop through experiment runs\n",
        "    start_time = time.time()\n",
        "    for run in range(Num_Exp):\n",
        "        print(\"Experiment\", run + 1, \"in progress\")\n",
        "\n",
        "        # Fit the model\n",
        "        model.fit(x_train, y_train, epochs=Epochs, batch_size=10, verbose=0, shuffle=False)\n",
        "        y_predicttrain = model.predict(x_train)\n",
        "        y_predicttest = model.predict(x_test)\n",
        "\n",
        "        # Extract predicted classes from one-hot encoded vectors\n",
        "        pred_test = [y_predicttest[i].argmax() for i in range(y_predicttest.shape[0])]\n",
        "        pred_train = [y_predicttrain[i].argmax() for i in range(y_predicttrain.shape[0])]\n",
        "\n",
        "        # Generate classification reports\n",
        "        report_train = classification_report(act_train, pred_train, labels=[0, 1], output_dict=True)\n",
        "        report_test = classification_report(act_test, pred_test, labels=[0, 1], output_dict=True)\n",
        "\n",
        "        # Store classification reports in dictionaries\n",
        "        all_report_train[run] = report_train\n",
        "        all_report_test[run] = report_test\n",
        "\n",
        "        # Calculate F1-score for the test set\n",
        "        test_acc[run] = report_test['1']['f1-score']\n",
        "        print(\"train acc: \", report_train['1']['f1-score'])\n",
        "        print(\"test acc: \", test_acc[run])\n",
        "\n",
        "        precision_minority = report_test['1']['precision']\n",
        "        recall_minority = report_test['1']['recall']\n",
        "        print(\"Precision (Minority Class):\", precision_minority)\n",
        "        print(\"Recall (Minority Class):\", recall_minority)\n",
        "\n",
        "        macro_avg_precision = report_test['macro avg']['precision']\n",
        "        macro_avg_recall = report_test['macro avg']['recall']\n",
        "        macro_avg_f1 = report_test['macro avg']['f1-score']\n",
        "\n",
        "        weighted_avg_precision = report_test['weighted avg']['precision']\n",
        "        weighted_avg_recall = report_test['weighted avg']['recall']\n",
        "        weighted_avg_f1 = report_test['weighted avg']['f1-score']\n",
        "\n",
        "        # Print or store Macro Avg and Weighted Avg values\n",
        "        print(\"Macro Avg Precision:\", macro_avg_precision)\n",
        "        print(\"Macro Avg Recall:\", macro_avg_recall)\n",
        "        print(\"Macro Avg F1-Score:\", macro_avg_f1)\n",
        "\n",
        "        print(\"Weighted Avg Precision:\", weighted_avg_precision)\n",
        "        print(\"Weighted Avg Recall:\", weighted_avg_recall)\n",
        "        print(\"Weighted Avg F1-Score:\", weighted_avg_f1)\n",
        "\n",
        "\n",
        "\n",
        "        # Update the best F1 score and associated predictions and reports\n",
        "        if test_acc[run] > Best_f1:\n",
        "            Best_f1 = test_acc[run]\n",
        "            Best_Predict_Test = y_predicttest\n",
        "            Best_report_train, Best_report_test = report_train, report_test\n",
        "\n",
        "    # Save the trained model\n",
        "    model.save(\"model_\" + ocean + \"_\" + model_name + \"_\" + method + '.h5')\n",
        "\n",
        "    # Calculate standard deviations of train and test accuracies\n",
        "    train_std = np.std(train_acc)\n",
        "    test_std = np.std(test_acc)\n",
        "\n",
        "    # Display experiment summary\n",
        "    print(\"Total time for\", Num_Exp, \"experiments\", time.time() - start_time)\n",
        "    print(\"F1 scores for test data: \", test_acc)\n",
        "    print(\"Mean: \", np.mean(test_acc), \"Std Dev: \", test_std)\n",
        "\n",
        "    # Return relevant information\n",
        "    return train_acc, test_acc, train_std, test_std, Best_Predict_Test, y_predicttrain, y_predicttest, all_report_train, all_report_test\n",
        "\n",
        "\n"
      ]
    },
    {
      "cell_type": "code",
      "execution_count": null,
      "metadata": {
        "colab": {
          "base_uri": "https://localhost:8080/"
        },
        "id": "YPRO55mHl9Fh",
        "outputId": "6f6c1956-21d7-4b73-9bc7-9849556c539a"
      },
      "outputs": [
        {
          "output_type": "stream",
          "name": "stdout",
          "text": [
            "(15114, 6, 3)\n",
            "(15114, 2) (5038, 2)\n"
          ]
        }
      ],
      "source": [
        "# Create a random permutation of indices for shuffling\n",
        "idx = np.random.permutation(len(X))\n",
        "\n",
        "# Initialize lists to store shuffled data\n",
        "x_shuffled = []\n",
        "y_shuffled = []\n",
        "\n",
        "# Iterate through the shuffled indices\n",
        "for i in idx:\n",
        "    # Append shuffled data to the lists\n",
        "    x_shuffled.append(X[i])\n",
        "    y_shuffled.append(Y[i])\n",
        "x_a = np.array(x_shuffled)\n",
        "print(x_a.shape)\n",
        "\n",
        "\n",
        "# Convert the shuffled labels to one-hot encoded format for training data\n",
        "Y_hot_encoded_train = np.asarray(to_categorical(y_shuffled))\n",
        "\n",
        "# Convert the test labels to one-hot encoded format\n",
        "Y_hot_encoded_test = np.asarray(to_categorical(test_Y))\n",
        "\n",
        "# Print the shapes of the one-hot encoded training and test labels\n",
        "print(Y_hot_encoded_train.shape, Y_hot_encoded_test.shape)\n"
      ]
    },
    {
      "cell_type": "code",
      "execution_count": null,
      "metadata": {
        "id": "ke4YSUqBmAjO"
      },
      "outputs": [],
      "source": [
        "# Testing on all 4 different kinds of LSTMs\n",
        "models = ['vanilla']\n",
        "\n",
        "\n",
        "# Initialize dictionaries to store predictions, actual values, and metrics for training and testing\n",
        "predictions_train = dict()\n",
        "actual_train = dict()\n",
        "predictions_test = dict()\n",
        "actual_test = dict()\n",
        "metrics_train = dict()\n",
        "metrics_test = dict()\n",
        "test_acc_all = dict()\n",
        "test_stddev = dict()\n",
        "train_loss_all = dict()\n",
        "test_loss_all = dict()"
      ]
    },
    {
      "cell_type": "markdown",
      "source": [
        "# **Code to run the Multivariate LSTM**"
      ],
      "metadata": {
        "id": "iiP6IqeRW0GQ"
      }
    },
    {
      "cell_type": "code",
      "execution_count": null,
      "metadata": {
        "colab": {
          "base_uri": "https://localhost:8080/",
          "height": 595
        },
        "id": "8XBf-AoWmDvE",
        "outputId": "71d4ad65-b508-407d-d6df-74caf272f6bf"
      },
      "outputs": [
        {
          "output_type": "stream",
          "name": "stdout",
          "text": [
            "---------------------------------------------------------\n",
            "Number of steps out: 1\n",
            "For vanilla:\n"
          ]
        },
        {
          "output_type": "stream",
          "name": "stderr",
          "text": [
            "/usr/local/lib/python3.11/dist-packages/keras/src/layers/rnn/rnn.py:200: UserWarning: Do not pass an `input_shape`/`input_dim` argument to a layer. When using Sequential models, prefer using an `Input(shape)` object as the first layer in the model instead.\n",
            "  super().__init__(**kwargs)\n"
          ]
        },
        {
          "output_type": "display_data",
          "data": {
            "text/plain": [
              "\u001b[1mModel: \"sequential\"\u001b[0m\n"
            ],
            "text/html": [
              "<pre style=\"white-space:pre;overflow-x:auto;line-height:normal;font-family:Menlo,'DejaVu Sans Mono',consolas,'Courier New',monospace\"><span style=\"font-weight: bold\">Model: \"sequential\"</span>\n",
              "</pre>\n"
            ]
          },
          "metadata": {}
        },
        {
          "output_type": "display_data",
          "data": {
            "text/plain": [
              "┏━━━━━━━━━━━━━━━━━━━━━━━━━━━━━━━━━━━━━━┳━━━━━━━━━━━━━━━━━━━━━━━━━━━━━┳━━━━━━━━━━━━━━━━━┓\n",
              "┃\u001b[1m \u001b[0m\u001b[1mLayer (type)                        \u001b[0m\u001b[1m \u001b[0m┃\u001b[1m \u001b[0m\u001b[1mOutput Shape               \u001b[0m\u001b[1m \u001b[0m┃\u001b[1m \u001b[0m\u001b[1m        Param #\u001b[0m\u001b[1m \u001b[0m┃\n",
              "┡━━━━━━━━━━━━━━━━━━━━━━━━━━━━━━━━━━━━━━╇━━━━━━━━━━━━━━━━━━━━━━━━━━━━━╇━━━━━━━━━━━━━━━━━┩\n",
              "│ lstm (\u001b[38;5;33mLSTM\u001b[0m)                          │ (\u001b[38;5;45mNone\u001b[0m, \u001b[38;5;34m50\u001b[0m)                  │          \u001b[38;5;34m10,800\u001b[0m │\n",
              "├──────────────────────────────────────┼─────────────────────────────┼─────────────────┤\n",
              "│ dense (\u001b[38;5;33mDense\u001b[0m)                        │ (\u001b[38;5;45mNone\u001b[0m, \u001b[38;5;34m2\u001b[0m)                   │             \u001b[38;5;34m102\u001b[0m │\n",
              "└──────────────────────────────────────┴─────────────────────────────┴─────────────────┘\n"
            ],
            "text/html": [
              "<pre style=\"white-space:pre;overflow-x:auto;line-height:normal;font-family:Menlo,'DejaVu Sans Mono',consolas,'Courier New',monospace\">┏━━━━━━━━━━━━━━━━━━━━━━━━━━━━━━━━━━━━━━┳━━━━━━━━━━━━━━━━━━━━━━━━━━━━━┳━━━━━━━━━━━━━━━━━┓\n",
              "┃<span style=\"font-weight: bold\"> Layer (type)                         </span>┃<span style=\"font-weight: bold\"> Output Shape                </span>┃<span style=\"font-weight: bold\">         Param # </span>┃\n",
              "┡━━━━━━━━━━━━━━━━━━━━━━━━━━━━━━━━━━━━━━╇━━━━━━━━━━━━━━━━━━━━━━━━━━━━━╇━━━━━━━━━━━━━━━━━┩\n",
              "│ lstm (<span style=\"color: #0087ff; text-decoration-color: #0087ff\">LSTM</span>)                          │ (<span style=\"color: #00d7ff; text-decoration-color: #00d7ff\">None</span>, <span style=\"color: #00af00; text-decoration-color: #00af00\">50</span>)                  │          <span style=\"color: #00af00; text-decoration-color: #00af00\">10,800</span> │\n",
              "├──────────────────────────────────────┼─────────────────────────────┼─────────────────┤\n",
              "│ dense (<span style=\"color: #0087ff; text-decoration-color: #0087ff\">Dense</span>)                        │ (<span style=\"color: #00d7ff; text-decoration-color: #00d7ff\">None</span>, <span style=\"color: #00af00; text-decoration-color: #00af00\">2</span>)                   │             <span style=\"color: #00af00; text-decoration-color: #00af00\">102</span> │\n",
              "└──────────────────────────────────────┴─────────────────────────────┴─────────────────┘\n",
              "</pre>\n"
            ]
          },
          "metadata": {}
        },
        {
          "output_type": "display_data",
          "data": {
            "text/plain": [
              "\u001b[1m Total params: \u001b[0m\u001b[38;5;34m10,902\u001b[0m (42.59 KB)\n"
            ],
            "text/html": [
              "<pre style=\"white-space:pre;overflow-x:auto;line-height:normal;font-family:Menlo,'DejaVu Sans Mono',consolas,'Courier New',monospace\"><span style=\"font-weight: bold\"> Total params: </span><span style=\"color: #00af00; text-decoration-color: #00af00\">10,902</span> (42.59 KB)\n",
              "</pre>\n"
            ]
          },
          "metadata": {}
        },
        {
          "output_type": "display_data",
          "data": {
            "text/plain": [
              "\u001b[1m Trainable params: \u001b[0m\u001b[38;5;34m10,902\u001b[0m (42.59 KB)\n"
            ],
            "text/html": [
              "<pre style=\"white-space:pre;overflow-x:auto;line-height:normal;font-family:Menlo,'DejaVu Sans Mono',consolas,'Courier New',monospace\"><span style=\"font-weight: bold\"> Trainable params: </span><span style=\"color: #00af00; text-decoration-color: #00af00\">10,902</span> (42.59 KB)\n",
              "</pre>\n"
            ]
          },
          "metadata": {}
        },
        {
          "output_type": "display_data",
          "data": {
            "text/plain": [
              "\u001b[1m Non-trainable params: \u001b[0m\u001b[38;5;34m0\u001b[0m (0.00 B)\n"
            ],
            "text/html": [
              "<pre style=\"white-space:pre;overflow-x:auto;line-height:normal;font-family:Menlo,'DejaVu Sans Mono',consolas,'Courier New',monospace\"><span style=\"font-weight: bold\"> Non-trainable params: </span><span style=\"color: #00af00; text-decoration-color: #00af00\">0</span> (0.00 B)\n",
              "</pre>\n"
            ]
          },
          "metadata": {}
        },
        {
          "output_type": "stream",
          "name": "stdout",
          "text": [
            "Experiment 1 in progress\n",
            "\u001b[1m473/473\u001b[0m \u001b[32m━━━━━━━━━━━━━━━━━━━━\u001b[0m\u001b[37m\u001b[0m \u001b[1m1s\u001b[0m 2ms/step\n",
            "\u001b[1m158/158\u001b[0m \u001b[32m━━━━━━━━━━━━━━━━━━━━\u001b[0m\u001b[37m\u001b[0m \u001b[1m0s\u001b[0m 2ms/step\n"
          ]
        },
        {
          "output_type": "stream",
          "name": "stderr",
          "text": [
            "WARNING:absl:You are saving your model as an HDF5 file via `model.save()` or `keras.saving.save_model(model)`. This file format is considered legacy. We recommend using instead the native Keras format, e.g. `model.save('my_model.keras')` or `keras.saving.save_model(model, 'my_model.keras')`. \n"
          ]
        },
        {
          "output_type": "stream",
          "name": "stdout",
          "text": [
            "train acc:  0.7434656340755083\n",
            "test acc:  0.42857142857142855\n",
            "Precision (Minority Class): 0.5538461538461539\n",
            "Recall (Minority Class): 0.34951456310679613\n",
            "Macro Avg Precision: 0.7701867004903402\n",
            "Macro Avg Recall: 0.6718190849981802\n",
            "Macro Avg F1-Score: 0.7094411442413057\n",
            "Weighted Avg Precision: 0.9776812462197384\n",
            "Weighted Avg Recall: 0.980944819372767\n",
            "Weighted Avg F1-Score: 0.9788263102033633\n",
            "Total time for 1 experiments 842.9072515964508\n",
            "F1 scores for test data:  [0.42857143]\n",
            "Mean:  0.42857142857142855 Std Dev:  0.0\n"
          ]
        }
      ],
      "source": [
        "\n",
        "for j in range(1):\n",
        "\n",
        "  predictions_train_per_step = dict()\n",
        "  actual_train_per_step = dict()\n",
        "  predictions_test_per_step = dict()\n",
        "  actual_test_per_step = dict()\n",
        "  metrics_train_per_step = dict()\n",
        "  metrics_test_per_step = dict()\n",
        "  test_acc_per_step = dict()\n",
        "  test_stddev_per_step = dict()\n",
        "  n_steps_out = j + 1\n",
        "\n",
        "  print('---------------------------------------------------------')\n",
        "  print('Number of steps out:', n_steps_out)\n",
        "\n",
        "  # Loop over different LSTM models\n",
        "  for i in models:\n",
        "    print(\"For \" + i + \":\")\n",
        "\n",
        "    # Reshape data based on the LSTM model type\n",
        "    if i == 'vanilla' or i == 'bidirectional' :\n",
        "        x_train, y_train = np.asarray(x_shuffled), np.asarray(Y_hot_encoded_train)\n",
        "        x_test, y_test = np.asarray(test_X), np.asarray(Y_hot_encoded_test)\n",
        "        x_train = x_train.reshape((x_train.shape[0], x_train.shape[1], n_features_in))\n",
        "        x_test = x_test.reshape((x_test.shape[0], x_test.shape[1], n_features_in))\n",
        "    elif i == 'cnn-lstm':\n",
        "        x_train, y_train = np.asarray(x_shuffled), np.asarray(Y_hot_encoded_train)\n",
        "        x_test, y_test = np.asarray(test_X), np.asarray(Y_hot_encoded_test)\n",
        "        x_train = x_train.reshape((x_train.shape[0], n_seq, int(n_steps_in / n_seq), n_features_in))\n",
        "        x_test = x_test.reshape((x_test.shape[0], n_seq, int(n_steps_in / n_seq), n_features_in))\n",
        "    elif i == 'conv-lstm':\n",
        "        print(\"Original shape of x_shuffled:\", np.array(x_shuffled).shape)\n",
        "        x_train, y_train = np.asarray(x_shuffled), np.asarray(Y_hot_encoded_train)\n",
        "        print(\"Shape after reshape:\", np.array(x_train).shape)\n",
        "        x_test, y_test = np.asarray(test_X), np.asarray(Y_hot_encoded_test)\n",
        "        x_train = x_train.reshape((x_train.shape[0], n_seq, 1, int(n_steps_in/n_seq), n_features_in))\n",
        "        x_test = x_test.reshape(x_test.shape[0], n_seq, 1, int(n_steps_in/n_seq), n_features_in)\n",
        "\n",
        "    # Call the LSTM function and retrieve results\n",
        "    train_acc, test_acc, train_std_dev, test_std_dev, Best_Predict_Test, y_predicttrain, y_predicttest, report_train, report_test = lstm(\n",
        "        i, 'original', univariate, x_train, x_test, y_train, y_test, No_exp, n_steps_in, n_steps_out, epochs, hidden_layers)\n",
        "\n",
        "    # Store results in respective dictionaries\n",
        "    predictions_train_per_step[i] = y_predicttrain\n",
        "    actual_train_per_step[i] = y_train\n",
        "    predictions_test_per_step[i] = Best_Predict_Test\n",
        "    actual_test_per_step[i] = y_test\n",
        "    metrics_train_per_step[i] = report_train\n",
        "    metrics_test_per_step[i] = report_test\n",
        "    test_acc_per_step[i] = test_acc\n",
        "    test_stddev_per_step[i] = test_std_dev\n",
        "\n",
        "# Store results for the current n_steps_out in the overall dictionaries\n",
        "  predictions_train[str(j + 1)] = predictions_train_per_step\n",
        "  actual_train[str(j + 1)] = actual_train_per_step\n",
        "  predictions_test[str(j + 1)] = predictions_test_per_step\n",
        "  actual_test[str(j + 1)] = actual_test_per_step\n",
        "  metrics_train[str(j + 1)] = metrics_train_per_step\n",
        "  metrics_test[str(j + 1)] = metrics_test_per_step\n",
        "  test_acc_all[str(j + 1)] = test_acc_per_step\n",
        "  test_stddev[str(j + 1)] = test_stddev_per_step\n",
        "# Note : Testing done by running on one experiment, can be run for 30 experiments successfully and those results are put in the paper"
      ]
    },
    {
      "cell_type": "code",
      "source": [],
      "metadata": {
        "id": "WFCPfByNxuid"
      },
      "execution_count": null,
      "outputs": []
    },
    {
      "cell_type": "code",
      "execution_count": null,
      "metadata": {
        "id": "l7YaCBl8mG9k"
      },
      "outputs": [],
      "source": [
        "with open(\"predictions_\" + ocean + '_original' + '.pkl', 'wb') as f:\n",
        "    pickle.dump([predictions_train,actual_train,predictions_test,actual_test,metrics_train,metrics_test,test_acc,test_stddev], f)\n"
      ]
    },
    {
      "cell_type": "code",
      "execution_count": null,
      "metadata": {
        "id": "W93WzsCymJeh"
      },
      "outputs": [],
      "source": [
        "# Function to make confusion matrix\n",
        "def make_confusion_matrix_chart(cf_matrix, name):\n",
        "\n",
        "    # Set a Seaborn style with dark grid\n",
        "    sns.set(style=\"darkgrid\", font_scale=1.5)\n",
        "\n",
        "    fig, ax = plt.subplots(figsize=(10, 8))\n",
        "\n",
        "    # Customize the appearance of the heatmap with green colors\n",
        "    sns.heatmap(cf_matrix, annot=True, fmt='d', cmap='Greens',\n",
        "                linewidths=.5, square=True, cbar=False,\n",
        "                annot_kws={\"size\": 16}, ax=ax)\n",
        "\n",
        "    # Set labels and title\n",
        "    plt.ylabel(\"Actual\", size=18)\n",
        "    plt.xlabel(\"Predicted\", size=18)\n",
        "    plt.title(\"Confusion Matrix\", size=20)\n",
        "\n",
        "    # Set tick parameters\n",
        "    ax.tick_params(axis='both', which='major', labelsize=14)\n",
        "\n",
        "    # Save the plot as an image\n",
        "    plt.savefig(name + '.png', dpi=300, transparent=False, bbox_inches='tight')\n",
        "\n",
        "    # Display the plot\n",
        "    plt.show()\n",
        "\n",
        "    return None\n",
        "\n",
        "\n"
      ]
    },
    {
      "cell_type": "code",
      "execution_count": null,
      "metadata": {
        "colab": {
          "base_uri": "https://localhost:8080/",
          "height": 745
        },
        "id": "Ss0D1RYXmO8v",
        "outputId": "03fa398c-d32c-4743-e0f7-2d2382b1f288"
      },
      "outputs": [
        {
          "output_type": "display_data",
          "data": {
            "text/plain": [
              "<Figure size 1000x800 with 1 Axes>"
            ],
            "image/png": "[encoded data removed]"
          },
          "metadata": {}
        }
      ],
      "source": [
        "# Code to display confucion matrix\n",
        "y = [i.argmax() for i in actual_test_per_step['vanilla']]\n",
        "pred = [i.argmax() for i in predictions_test_per_step['vanilla']]\n",
        "cf_matrix_test = confusion_matrix(y, pred)\n",
        "make_confusion_matrix_chart(cf_matrix_test, ocean + 'vanilla_cm_original')\n"
      ]
    },
    {
      "cell_type": "code",
      "execution_count": null,
      "metadata": {
        "id": "EX6dlBEEmSLT"
      },
      "outputs": [],
      "source": [
        "# Code to display results\n",
        "# Initialize lists to store precision, recall, and F1-score metrics for class 0, class 1, overall accuracy,\n",
        "# macro average, and weighted average across multiple experiments\n",
        "precision0 = []\n",
        "precision1 = []\n",
        "precisionacc = []\n",
        "precisionmacavg = []\n",
        "precisionweighavg = []\n",
        "recall0 = []\n",
        "recall1 = []\n",
        "recallacc = []\n",
        "recallmacavg = []\n",
        "recallweighavg = []\n",
        "f10 = []\n",
        "f11 = []\n",
        "f1acc = []\n",
        "f1macavg = []\n",
        "f1weighavg = []\n",
        "\n",
        "\n",
        "for i in range(No_exp):\n",
        "\n",
        "    precision0.append(metrics_test_per_step['vanilla'][i]['0']['precision'])\n",
        "    precision1.append(metrics_test_per_step['vanilla'][i]['1']['precision'])\n",
        "    precisionacc.append(metrics_test_per_step['vanilla'][i]['accuracy'])\n",
        "    precisionmacavg.append(metrics_test_per_step['vanilla'][i]['macro avg']['precision'])\n",
        "    precisionweighavg.append(metrics_test_per_step['vanilla'][i]['weighted avg']['precision'])\n",
        "\n",
        "    recall0.append(metrics_test_per_step['vanilla'][i]['0']['recall'])\n",
        "    recall1.append(metrics_test_per_step['vanilla'][i]['1']['recall'])\n",
        "    recallacc.append(metrics_test_per_step['vanilla'][i]['accuracy'])\n",
        "    recallmacavg.append(metrics_test_per_step['vanilla'][i]['macro avg']['recall'])\n",
        "    recallweighavg.append(metrics_test_per_step['vanilla'][i]['weighted avg']['recall'])\n",
        "\n",
        "    f10.append(metrics_test_per_step['vanilla'][i]['0']['f1-score'])\n",
        "    f11.append(metrics_test_per_step['vanilla'][i]['1']['f1-score'])\n",
        "    f1acc.append(metrics_test_per_step['vanilla'][i]['accuracy'])\n",
        "    f1macavg.append(metrics_test_per_step['vanilla'][i]['macro avg']['f1-score'])\n",
        "    f1weighavg.append(metrics_test_per_step['vanilla'][i]['weighted avg']['f1-score'])\n"
      ]
    },
    {
      "cell_type": "code",
      "execution_count": null,
      "metadata": {
        "colab": {
          "base_uri": "https://localhost:8080/"
        },
        "id": "xrm67mDvmcQm",
        "outputId": "51696046-f1f9-4c5a-f173-7688aff6da94"
      },
      "outputs": [
        {
          "output_type": "stream",
          "name": "stdout",
          "text": [
            "0.9865±0.0  & 0.9941±0.0  & 0.9903±0.0\n",
            "0.5538±0.0  & 0.3495±0.0  & 0.4286±0.0\n",
            "0.9809±0.0  & 0.9809±0.0  & 0.9809±0.0\n",
            "0.7702±0.0  & 0.6718±0.0  & 0.7094±0.0\n",
            "0.9777±0.0  & 0.9809±0.0  & 0.9788±0.0\n"
          ]
        }
      ],
      "source": [
        "print(str(round(np.mean(precision0),4)) + \"±\" + str(round(np.std(precision0),4)),\" & \" + str(round(np.mean(recall0),4)) + \"±\" + str(round(np.std(recall0),4)), \" & \" + str(round(np.mean(f10),4)) + \"±\" + str(round(np.std(f10),4)))\n",
        "print(str(round(np.mean(precision1),4)) + \"±\" + str(round(np.std(precision1),4)),\" & \" + str(round(np.mean(recall1),4)) + \"±\" + str(round(np.std(recall1),4)), \" & \" + str(round(np.mean(f11),4)) + \"±\" + str(round(np.std(f11),4)))\n",
        "print(str(round(np.mean(precisionacc),4)) + \"±\" + str(round(np.std(precisionacc),4)),\" & \" + str(round(np.mean(recallacc),4)) + \"±\" + str(round(np.std(recallacc),4)), \" & \" + str(round(np.mean(f1acc),4)) + \"±\" + str(round(np.std(f1acc),4)))\n",
        "print(str(round(np.mean(precisionmacavg),4)) + \"±\" + str(round(np.std(precisionmacavg),4)),\" & \" + str(round(np.mean(recallmacavg),4)) + \"±\" + str(round(np.std(recallmacavg),4)), \" & \" + str(round(np.mean(f1macavg),4)) + \"±\" + str(round(np.std(f1macavg),4)))\n",
        "print(str(round(np.mean(precisionweighavg),4)) + \"±\" + str(round(np.std(precisionweighavg),4)),\" & \" + str(round(np.mean(recallweighavg),4)) + \"±\" + str(round(np.std(recallweighavg),4)), \" & \" + str(round(np.mean(f1weighavg),4)) + \"±\" + str(round(np.std(f1weighavg),4)))\n",
        "\n"
      ]
    }
  ],
  "metadata": {
    "colab": {
      "provenance": []
    },
    "kernelspec": {
      "display_name": "Python 3",
      "name": "python3"
    },
    "language_info": {
      "name": "python"
    }
  },
  "nbformat": 4,
  "nbformat_minor": 0
}