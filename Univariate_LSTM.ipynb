{
  "cells": [
    {
      "cell_type": "code",
      "execution_count": null,
      "metadata": {
        "id": "PTItQjTjWEWY"
      },
      "outputs": [],
      "source": [
        "# Importing necessary libraries\n",
        "import copy\n",
        "import numpy as np\n",
        "import sklearn\n",
        "import pandas as pd\n",
        "import matplotlib.pyplot as plt\n",
        "from keras.models import Sequential\n",
        "from keras.layers import Dense\n",
        "from keras.layers import Activation\n",
        "from keras.layers import LSTM\n",
        "from keras.layers import Bidirectional\n",
        "from keras.layers import RepeatVector\n",
        "from keras.layers import TimeDistributed\n",
        "from tensorflow.keras.utils import to_categorical\n",
        "from numpy import hstack\n",
        "from sklearn.preprocessing import StandardScaler\n",
        "import datetime\n",
        "import time\n",
        "import joblib\n",
        "from datetime import timedelta, date\n",
        "import tensorflow as tf\n",
        "from sklearn.preprocessing import MinMaxScaler\n",
        "from numpy import array\n",
        "\n",
        "from sklearn.metrics import precision_score, recall_score\n",
        "from sklearn.metrics import f1_score\n",
        "import matplotlib.pyplot as plt\n",
        "import os\n",
        "import seaborn as sns; sns.set_theme()\n",
        "import errno\n",
        "\n",
        "from keras.layers import Flatten\n",
        "from keras.layers import ConvLSTM2D\n",
        "from keras.models import load_model\n",
        "import pickle\n",
        "from sklearn.metrics import accuracy_score, roc_curve, auc, classification_report, confusion_matrix\n",
        "\n",
        "from imblearn.over_sampling import SMOTE\n",
        "from collections import Counter\n",
        "import imblearn\n",
        "import collections\n",
        "from sklearn.datasets import make_classification\n",
        "from sklearn.linear_model import LogisticRegression\n",
        "from sklearn.model_selection import train_test_split\n",
        "from sklearn.metrics import precision_recall_curve\n",
        "from sklearn.metrics import f1_score\n",
        "from matplotlib import pyplot"
      ]
    },
    {
      "cell_type": "code",
      "execution_count": null,
      "metadata": {
        "id": "NwAftFhgWM1d"
      },
      "outputs": [],
      "source": [
        "# Function to load and categorise the data\n",
        "import pandas as pd\n",
        "\n",
        "def load_data_south_indian(url):\n",
        "\n",
        "    df = pd.read_csv(url)\n",
        "\n",
        "    df['category'] = df['Speed(knots)'].apply(lambda x:\n",
        "        0 if x <= 33 else\n",
        "        1 if 34 <= x <= 47 else\n",
        "        2 if 48 <= x <= 63 else\n",
        "        3 if 64 <= x <= 89 else\n",
        "        4 if 90 <= x <= 115 else\n",
        "        5\n",
        "    )\n",
        "\n",
        "    return df\n",
        "\n",
        "def load_data_south_pacific(url):\n",
        "\n",
        "    df = pd.read_csv(url)\n",
        "\n",
        "    df['category'] = df['Speed(knots)'].apply(lambda x:\n",
        "        0 if x <= 33 else\n",
        "        1 if 34 <= x <= 47 else\n",
        "        2 if 48 <= x <= 63 else\n",
        "        3 if 64 <= x <= 85 else\n",
        "        4 if 86 <= x <= 107 else\n",
        "        5\n",
        "    )\n",
        "\n",
        "    return df\n"
      ]
    },
    {
      "cell_type": "code",
      "execution_count": null,
      "metadata": {
        "colab": {
          "base_uri": "https://localhost:8080/"
        },
        "id": "yTModx2jWRto",
        "outputId": "95ea7eec-731f-49ce-91cf-843d242bab75"
      },
      "outputs": [
        {
          "name": "stdout",
          "output_type": "stream",
          "text": [
            "Selected ocean: south_pacific\n",
            "Data URL: https://raw.githubusercontent.com/sydney-machine-learning/cyclonedatasets/main/SouthIndian-SouthPacific-Ocean/South_pacific_hurricane.csv\n",
            "Hot-encoded result file name: south_pacific\n",
            "Category result file name: roc_data_south_pacific\n"
          ]
        }
      ],
      "source": [
        "ocean = 'south_pacific'\n",
        "\n",
        "# Display the selected ocean\n",
        "print(f\"Selected ocean: {ocean}\")\n",
        "\n",
        "# Set the data URL and function based on the selected ocean\n",
        "if ocean == 'south_indian':\n",
        "    url_data = 'https://raw.githubusercontent.com/sydney-machine-learning/cyclonedatasets/main/SouthIndian-SouthPacific-Ocean/South_indian_hurricane.csv'\n",
        "    data_loading_function = load_data_south_indian\n",
        "    hot_encoded_result_file_name = 'south_indian'\n",
        "    category_result_file_name = 'roc_data_south_indian'\n",
        "else:\n",
        "    url_data = 'https://raw.githubusercontent.com/sydney-machine-learning/cyclonedatasets/main/SouthIndian-SouthPacific-Ocean/South_pacific_hurricane.csv'\n",
        "    data_loading_function = load_data_south_pacific\n",
        "    hot_encoded_result_file_name = 'south_pacific'\n",
        "    category_result_file_name = 'roc_data_south_pacific'\n",
        "\n",
        "# Display the data URL for verification\n",
        "print(f\"Data URL: {url_data}\")\n",
        "\n",
        "# Display the result file names\n",
        "print(f\"Hot-encoded result file name: {hot_encoded_result_file_name}\")\n",
        "print(f\"Category result file name: {category_result_file_name}\")"
      ]
    },
    {
      "cell_type": "code",
      "execution_count": null,
      "metadata": {
        "colab": {
          "base_uri": "https://localhost:8080/"
        },
        "id": "stoS1NdCWUvC",
        "outputId": "2682fa94-be32-452b-814f-e4df5f0f4dfe"
      },
      "outputs": [
        {
          "name": "stdout",
          "output_type": "stream",
          "text": [
            "DataFrame Head:\n",
            "  Basin  No. of Cycl        Time     V5  V6    Lat     Lon  Speed(knots)  \\\n",
            "0    SP           14  1982012518   BEST   0   180S   1541E            25   \n",
            "1    SP           14  1982012600   BEST   0   191S   1548E            25   \n",
            "2    SP           14  1982012606   BEST   0   197S   1557E            25   \n",
            "3    SP           14  1982012612   BEST   0   199S   1567E            30   \n",
            "4    SP           14  1982012618   BEST   0   201S   1578E            35   \n",
            "\n",
            "   lat_tenth  lon_tenth  category  \n",
            "0       18.0      154.1         0  \n",
            "1       19.1      154.8         0  \n",
            "2       19.7      155.7         0  \n",
            "3       19.9      156.7         0  \n",
            "4       20.1      157.8         1  \n"
          ]
        }
      ],
      "source": [
        "# Load data using the specified function and URL\n",
        "df = data_loading_function(url_data)\n",
        "\n",
        "# Extract 'Speed(knots)' and 'category' columns as lists\n",
        "speed = df['Speed(knots)'].tolist()\n",
        "categories = df['category'].tolist()\n",
        "\n",
        "# Display the first few rows of the DataFrame\n",
        "df_head = df.head()\n",
        "print(\"DataFrame Head:\")\n",
        "print(df_head)\n"
      ]
    },
    {
      "cell_type": "code",
      "execution_count": null,
      "metadata": {
        "id": "B3KBNZ8ZWeiC"
      },
      "outputs": [],
      "source": [
        "# Functions to split cyclone sequences\n",
        "from sklearn.metrics import confusion_matrix, accuracy_score, precision_score, recall_score, f1_score, roc_auc_score\n",
        "\n",
        "def split_sequence(sequences, n_steps_in, n_steps_out):\n",
        "\n",
        "    X, y = list(), list()\n",
        "    for i in range(len(sequences)):\n",
        "        end_ix = i + n_steps_in\n",
        "        out_end_ix = end_ix + n_steps_out\n",
        "        if out_end_ix > len(sequences):\n",
        "            break\n",
        "        seq_x, seq_y = sequences[i:end_ix, :], sequences[end_ix:out_end_ix, -1]\n",
        "        X.append(seq_x)\n",
        "        y.append(seq_y)\n",
        "    return np.array(X), np.array(y)\n",
        "\n",
        "def uni_split_sequence(sequence, n_steps):\n",
        "\n",
        "    X, y = list(), list()\n",
        "    for i in range(len(sequence)):\n",
        "        end_ix = i + n_steps\n",
        "        if end_ix > len(sequence) - 1:\n",
        "            break\n",
        "        seq_x, seq_y = sequence[i:end_ix], sequence[end_ix]\n",
        "        X.append(seq_x)\n",
        "        y.append(seq_y)\n",
        "    return np.array(X), np.array(y)\n",
        "\n",
        "def rmse(pred, actual):\n",
        "\n",
        "    return np.sqrt(((pred - actual) ** 2).mean())\n",
        "\n",
        "def categorical(pred, actual):\n",
        "\n",
        "    cm = confusion_matrix(pred, actual)\n",
        "    acc = accuracy_score(actual, pred, normalize=True, sample_weight=None)\n",
        "    ps1 = precision_score(pred, actual, average='micro')\n",
        "    rs1 = recall_score(pred, actual, average='micro')\n",
        "    f11 = f1_score(pred, actual, average='micro')\n",
        "    auc = roc_auc_score(actual, pred)\n",
        "    return acc, auc, cm, ps1, rs1, f11\n",
        "\n",
        "def make_confusion_matrix_chart(cf_matrix_test, cmap='Blues', annot_kws=None):\n",
        "\n",
        "    # Set up the figure and axes\n",
        "    plt.figure(figsize=(12, 6))\n",
        "\n",
        "    # Customize the heatmap using seaborn\n",
        "    sns.heatmap(cf_matrix_test, annot=True, cmap=cmap,\n",
        "                yticklabels=['0', '1'], xticklabels=['0', '1'],\n",
        "                fmt='g', annot_kws=annot_kws)\n",
        "\n",
        "    # Customize axis labels and title\n",
        "    plt.ylabel(\"Actual\")\n",
        "    plt.xlabel(\"Predicted\")\n",
        "    plt.title('Confusion Matrix - Test Data')\n",
        "\n",
        "    return None"
      ]
    },
    {
      "cell_type": "code",
      "execution_count": null,
      "metadata": {
        "colab": {
          "base_uri": "https://localhost:8080/"
        },
        "id": "lx2l_qeHWl2f",
        "outputId": "8e3fe08f-a001-421d-fa41-be092b02173a"
      },
      "outputs": [
        {
          "name": "stdout",
          "output_type": "stream",
          "text": [
            "Configuration:\n",
            "Univariate: True\n",
            "Number of Input Time Steps: 6\n",
            "Number of Input Sequences: 2\n",
            "Number of Output Time Steps: 1\n",
            "Number of Input Features: 1\n",
            "Number of Output Features: 2\n",
            "Number of Hidden Layers: 50\n",
            "Epochs: 100\n",
            "Number of Experiments: 30\n"
          ]
        }
      ],
      "source": [
        "# Define that it is a univariate case\n",
        "univariate = True\n",
        "\n",
        "# Define sequence and time step parameters\n",
        "n_steps_in = 6\n",
        "n_seq = 2\n",
        "n_steps_out = 1\n",
        "\n",
        "# Define the number of features for input and output\n",
        "n_features_in = 1  # Speed\n",
        "n_features_out = 2  # One-hot encoding of category\n",
        "\n",
        "# Define the number of hidden layers in the model\n",
        "hidden_layers = 50\n",
        "\n",
        "# Define training parameters\n",
        "epochs = 100\n",
        "No_exp = 30 # Number of experiments\n",
        "\n",
        "# Display the configuration\n",
        "print(\"Configuration:\")\n",
        "print(f\"Univariate: {univariate}\")\n",
        "print(f\"Number of Input Time Steps: {n_steps_in}\")\n",
        "print(f\"Number of Input Sequences: {n_seq}\")\n",
        "print(f\"Number of Output Time Steps: {n_steps_out}\")\n",
        "print(f\"Number of Input Features: {n_features_in}\")\n",
        "print(f\"Number of Output Features: {n_features_out}\")\n",
        "print(f\"Number of Hidden Layers: {hidden_layers}\")\n",
        "print(f\"Epochs: {epochs}\")\n",
        "print(f\"Number of Experiments: {No_exp}\")"
      ]
    },
    {
      "cell_type": "code",
      "execution_count": null,
      "metadata": {
        "id": "bn5f-ukWWpHs"
      },
      "outputs": [],
      "source": [
        "# Initialize variables\n",
        "cyclone_id = df['No. of Cycl'][0]\n",
        "X = []\n",
        "Y = []\n",
        "start_index = 0\n",
        "end_index = 0\n",
        "\n",
        "# Iterate through the DataFrame\n",
        "for i in range(1, df.shape[0]):\n",
        "    # Check if the cyclone ID is the same as the previous row\n",
        "    if df['No. of Cycl'][i] == cyclone_id:\n",
        "        end_index += 1\n",
        "    else:\n",
        "        # Split the sequence and append to X and Y\n",
        "        x, y = uni_split_sequence(speed[start_index:end_index + 1], n_steps_in)\n",
        "        X.append(x)\n",
        "        Y.append(y)\n",
        "\n",
        "        # Update start and end indices for the new cyclone\n",
        "        cyclone_id = df['No. of Cycl'][i]\n",
        "        start_index = i\n",
        "        end_index = i\n",
        "\n",
        "    # Check if it's the last row of the DataFrame\n",
        "    if i == df.shape[0] - 1:\n",
        "        # Split the sequence and append to X and Y\n",
        "        x, y = uni_split_sequence(speed[start_index:end_index + 1], n_steps_in)\n",
        "        X.append(x)\n",
        "        Y.append(y)\n"
      ]
    },
    {
      "cell_type": "code",
      "execution_count": null,
      "metadata": {
        "colab": {
          "base_uri": "https://localhost:8080/"
        },
        "id": "hHGMdMsvWsCl",
        "outputId": "2883ff36-ae62-48e3-ca87-818e772a20b9"
      },
      "outputs": [
        {
          "name": "stdout",
          "output_type": "stream",
          "text": [
            "391 391\n",
            "9697 9697\n",
            "[25 25 25 30 35 40] 40\n",
            "[25, 25, 25, 30, 35, 40, 40, 40, 40, 40]\n"
          ]
        }
      ],
      "source": [
        "# Print the initial lengths of X and Y\n",
        "print(len(X), len(Y))\n",
        "# Flattening X and Y\n",
        "X = [item for sublist in X for item in sublist]\n",
        "Y = [item for sublist in Y for item in sublist]\n",
        "#Print lengths of X and Y after flattening\n",
        "print(len(X), len(Y))\n",
        "print(X[0], Y[0])\n",
        "print(speed[:10])\n"
      ]
    },
    {
      "cell_type": "code",
      "execution_count": null,
      "metadata": {
        "colab": {
          "base_uri": "https://localhost:8080/"
        },
        "id": "b0TjLjUjWx0p",
        "outputId": "4b6fa1e6-847d-4cc6-a6de-72e494bcea0d"
      },
      "outputs": [
        {
          "name": "stdout",
          "output_type": "stream",
          "text": [
            "9697\n"
          ]
        }
      ],
      "source": [
        "# Initialize 'intensify_y' with zeros\n",
        "intensify_y = [0] * len(X)\n",
        "\n",
        "# Iterate through each row in X and update intensify_y based on the condition\n",
        "for i in range(len(X)):\n",
        "    for j in range(len(X[0]) - 4, len(X[0])):\n",
        "        if (Y[i] - X[i][j]) >= 30:\n",
        "            intensify_y[i] = 1\n",
        "            break\n",
        "\n",
        "print(len(intensify_y))\n",
        "Y = intensify_y\n",
        "\n",
        "\n"
      ]
    },
    {
      "cell_type": "code",
      "execution_count": null,
      "metadata": {
        "colab": {
          "base_uri": "https://localhost:8080/"
        },
        "id": "NIMZvd-2W1Uk",
        "outputId": "f6ec2261-0548-4b02-f9e5-baefc2e56336"
      },
      "outputs": [
        {
          "name": "stdout",
          "output_type": "stream",
          "text": [
            "Training Limit: 7272\n"
          ]
        }
      ],
      "source": [
        "# Calculate the training limit as 75% of the total length of X\n",
        "train_limit = int(len(X) * 0.75)\n",
        "\n",
        "# Display the calculated training limit\n",
        "print(\"Training Limit:\", train_limit)\n"
      ]
    },
    {
      "cell_type": "code",
      "execution_count": null,
      "metadata": {
        "colab": {
          "base_uri": "https://localhost:8080/"
        },
        "id": "i6kVtoNYW3yE",
        "outputId": "fdd61e8c-0ba0-4fa8-b623-6ad47395a742"
      },
      "outputs": [
        {
          "name": "stdout",
          "output_type": "stream",
          "text": [
            "Length of X: 9697\n",
            "Length of Y: 9697\n",
            "Length of Test X (for evaluation): [array([ 90,  90,  90,  90, 100, 100]), array([ 90,  90,  90, 100, 100, 100]), array([ 90,  90, 100, 100, 100, 100]), array([ 90, 100, 100, 100, 100, 100]), array([100, 100, 100, 100, 100, 100]), array([100, 100, 100, 100, 100, 100]), array([100, 100, 100, 100, 100, 100]), array([100, 100, 100, 100, 100, 100]), array([100, 100, 100, 100, 100,  95]), array([100, 100, 100, 100,  95,  95]), array([100, 100, 100,  95,  95,  95]), array([100, 100,  95,  95,  95,  90]), array([100,  95,  95,  95,  90,  90]), array([95, 95, 95, 90, 90, 90]), array([95, 95, 90, 90, 90, 90]), array([95, 90, 90, 90, 90, 90]), array([90, 90, 90, 90, 90, 90]), array([90, 90, 90, 90, 90, 90]), array([90, 90, 90, 90, 90, 90]), array([90, 90, 90, 90, 90, 90]), array([ 90,  90,  90,  90,  90, 100]), array([ 90,  90,  90,  90, 100, 100]), array([ 90,  90,  90, 100, 100, 100]), array([ 90,  90, 100, 100, 100, 105]), array([ 90, 100, 100, 100, 105, 105]), array([100, 100, 100, 105, 105, 105]), array([100, 100, 105, 105, 105, 105]), array([100, 105, 105, 105, 105, 105]), array([105, 105, 105, 105, 105, 105]), array([105, 105, 105, 105, 105, 115]), array([105, 105, 105, 105, 115, 115]), array([105, 105, 105, 115, 115, 115]), array([105, 105, 115, 115, 115, 115]), array([105, 115, 115, 115, 115, 115]), array([115, 115, 115, 115, 115, 115]), array([115, 115, 115, 115, 115, 125]), array([115, 115, 115, 115, 125, 125]), array([115, 115, 115, 125, 125, 125]), array([115, 115, 125, 125, 125, 125]), array([115, 125, 125, 125, 125, 125]), array([125, 125, 125, 125, 125, 125]), array([125, 125, 125, 125, 125, 115]), array([125, 125, 125, 125, 115, 115]), array([125, 125, 125, 115, 115, 115]), array([125, 125, 115, 115, 115,  95]), array([125, 115, 115, 115,  95,  95]), array([115, 115, 115,  95,  95,  95]), array([115, 115,  95,  95,  95,  90]), array([115,  95,  95,  95,  90,  90]), array([95, 95, 95, 90, 90, 90]), array([95, 95, 90, 90, 90, 85]), array([95, 90, 90, 90, 85, 85]), array([90, 90, 90, 85, 85, 85]), array([90, 90, 85, 85, 85, 80]), array([90, 85, 85, 85, 80, 80]), array([85, 85, 85, 80, 80, 80]), array([85, 85, 80, 80, 80, 65]), array([85, 80, 80, 80, 65, 65]), array([80, 80, 80, 65, 65, 55]), array([80, 80, 65, 65, 55, 55]), array([80, 65, 65, 55, 55, 40]), array([65, 65, 55, 55, 40, 35]), array([65, 55, 55, 40, 35, 35]), array([55, 55, 40, 35, 35, 35]), array([20, 25, 30, 30, 30, 40]), array([25, 30, 30, 30, 40, 45]), array([30, 30, 30, 40, 45, 55]), array([30, 30, 40, 45, 55, 55]), array([30, 40, 45, 55, 55, 60]), array([40, 45, 55, 55, 60, 60]), array([45, 55, 55, 60, 60, 80]), array([55, 55, 60, 60, 80, 80]), array([55, 60, 60, 80, 80, 80]), array([60, 60, 80, 80, 80, 90]), array([60, 80, 80, 80, 90, 90]), array([80, 80, 80, 90, 90, 90]), array([ 80,  80,  90,  90,  90, 100]), array([ 80,  90,  90,  90, 100, 100]), array([ 90,  90,  90, 100, 100, 100]), array([ 90,  90, 100, 100, 100, 100]), array([ 90, 100, 100, 100, 100, 100]), array([100, 100, 100, 100, 100, 100]), array([100, 100, 100, 100, 100, 105]), array([100, 100, 100, 100, 105, 105]), array([100, 100, 100, 105, 105, 105]), array([100, 100, 105, 105, 105, 110]), array([100, 105, 105, 105, 110, 110]), array([105, 105, 105, 110, 110, 110]), array([105, 105, 110, 110, 110, 105]), array([105, 110, 110, 110, 105, 105]), array([110, 110, 110, 105, 105, 105]), array([110, 110, 105, 105, 105,  95]), array([110, 105, 105, 105,  95,  95]), array([105, 105, 105,  95,  95,  95]), array([105, 105,  95,  95,  95,  90]), array([105,  95,  95,  95,  90,  90]), array([95, 95, 95, 90, 90, 90]), array([95, 95, 90, 90, 90, 80]), array([95, 90, 90, 90, 80, 80]), array([90, 90, 90, 80, 80, 80]), array([90, 90, 80, 80, 80, 70]), array([90, 80, 80, 80, 70, 70]), array([80, 80, 80, 70, 70, 70]), array([80, 80, 70, 70, 70, 65]), array([80, 70, 70, 70, 65, 65]), array([70, 70, 70, 65, 65, 45]), array([70, 70, 65, 65, 45, 40]), array([70, 65, 65, 45, 40, 35]), array([65, 65, 45, 40, 35, 35]), array([65, 45, 40, 35, 35, 35]), array([45, 40, 35, 35, 35, 30]), array([40, 35, 35, 35, 30, 40]), array([35, 35, 35, 30, 40, 45]), array([35, 35, 30, 40, 45, 40]), array([25, 25, 25, 25, 25, 30]), array([25, 25, 25, 25, 30, 30]), array([25, 25, 25, 30, 30, 30]), array([25, 25, 30, 30, 30, 35]), array([25, 30, 30, 30, 35, 35]), array([30, 30, 30, 35, 35, 35]), array([30, 30, 35, 35, 35, 35]), array([30, 35, 35, 35, 35, 40]), array([35, 35, 35, 35, 40, 40]), array([35, 35, 35, 40, 40, 45]), array([35, 35, 40, 40, 45, 45]), array([35, 40, 40, 45, 45, 45]), array([40, 40, 45, 45, 45, 45]), array([40, 45, 45, 45, 45, 45]), array([45, 45, 45, 45, 45, 45]), array([45, 45, 45, 45, 45, 45]), array([45, 45, 45, 45, 45, 45]), array([45, 45, 45, 45, 45, 55]), array([45, 45, 45, 45, 55, 65]), array([45, 45, 45, 55, 65, 65]), array([45, 45, 55, 65, 65, 65]), array([45, 55, 65, 65, 65, 65]), array([55, 65, 65, 65, 65, 80]), array([65, 65, 65, 65, 80, 80]), array([65, 65, 65, 80, 80, 80]), array([65, 65, 80, 80, 80, 85]), array([65, 80, 80, 80, 85, 85]), array([80, 80, 80, 85, 85, 85]), array([80, 80, 85, 85, 85, 80]), array([80, 85, 85, 85, 80, 80]), array([85, 85, 85, 80, 80, 80]), array([85, 85, 80, 80, 80, 75]), array([85, 80, 80, 80, 75, 75]), array([80, 80, 80, 75, 75, 75]), array([80, 80, 75, 75, 75, 65]), array([80, 75, 75, 75, 65, 65]), array([75, 75, 75, 65, 65, 55]), array([75, 75, 65, 65, 55, 55]), array([75, 65, 65, 55, 55, 50]), array([65, 65, 55, 55, 50, 50]), array([65, 55, 55, 50, 50, 50]), array([55, 55, 50, 50, 50, 50]), array([55, 50, 50, 50, 50, 45]), array([50, 50, 50, 50, 45, 40]), array([50, 50, 50, 45, 40, 35]), array([50, 50, 45, 40, 35, 30]), array([50, 45, 40, 35, 30, 30]), array([25, 25, 30, 40, 45, 35]), array([25, 30, 40, 45, 35, 30]), array([30, 40, 45, 35, 30, 30]), array([40, 45, 35, 30, 30, 30]), array([45, 35, 30, 30, 30, 30]), array([35, 30, 30, 30, 30, 25]), array([30, 30, 30, 30, 25, 25]), array([30, 30, 30, 25, 25, 20]), array([15, 25, 30, 30, 40, 45]), array([25, 30, 30, 40, 45, 45]), array([30, 30, 40, 45, 45, 45]), array([30, 40, 45, 45, 45, 45]), array([40, 45, 45, 45, 45, 40]), array([45, 45, 45, 45, 40, 35]), array([45, 45, 45, 40, 35, 30]), array([45, 45, 40, 35, 30, 30]), array([45, 40, 35, 30, 30, 25]), array([40, 35, 30, 30, 25, 20]), array([35, 30, 30, 25, 20, 20]), array([30, 30, 25, 20, 20, 20]), array([30, 25, 20, 20, 20, 20]), array([25, 20, 20, 20, 20, 20]), array([20, 20, 20, 20, 20, 20]), array([20, 20, 20, 20, 20, 20]), array([20, 20, 20, 20, 20, 20]), array([20, 20, 20, 20, 20, 20]), array([20, 20, 20, 20, 20, 20]), array([25, 25, 25, 25, 25, 25]), array([25, 25, 25, 25, 25, 25]), array([25, 25, 25, 25, 25, 30]), array([25, 25, 25, 25, 30, 35]), array([25, 25, 25, 30, 35, 40]), array([25, 25, 30, 35, 40, 45]), array([25, 30, 35, 40, 45, 50]), array([30, 35, 40, 45, 50, 60]), array([35, 40, 45, 50, 60, 60]), array([40, 45, 50, 60, 60, 65]), array([45, 50, 60, 60, 65, 65]), array([50, 60, 60, 65, 65, 65]), array([60, 60, 65, 65, 65, 65]), array([60, 65, 65, 65, 65, 65]), array([65, 65, 65, 65, 65, 65]), array([65, 65, 65, 65, 65, 65]), array([65, 65, 65, 65, 65, 65]), array([65, 65, 65, 65, 65, 75]), array([65, 65, 65, 65, 75, 75]), array([65, 65, 65, 75, 75, 75]), array([65, 65, 75, 75, 75, 85]), array([65, 75, 75, 75, 85, 85]), array([75, 75, 75, 85, 85, 85]), array([75, 75, 85, 85, 85, 95]), array([75, 85, 85, 85, 95, 95]), array([85, 85, 85, 95, 95, 95]), array([ 85,  85,  95,  95,  95, 105]), array([ 85,  95,  95,  95, 105, 105]), array([ 95,  95,  95, 105, 105, 105]), array([ 95,  95, 105, 105, 105, 110]), array([ 95, 105, 105, 105, 110, 110]), array([105, 105, 105, 110, 110, 110]), array([105, 105, 110, 110, 110, 110]), array([105, 110, 110, 110, 110, 110]), array([110, 110, 110, 110, 110, 110]), array([110, 110, 110, 110, 110, 105]), array([110, 110, 110, 110, 105, 105]), array([110, 110, 110, 105, 105, 105]), array([110, 110, 105, 105, 105, 100]), array([110, 105, 105, 105, 100, 100]), array([105, 105, 105, 100, 100, 100]), array([105, 105, 100, 100, 100,  90]), array([105, 100, 100, 100,  90,  90]), array([100, 100, 100,  90,  90,  90]), array([100, 100,  90,  90,  90,  80]), array([100,  90,  90,  90,  80,  80]), array([90, 90, 90, 80, 80, 80]), array([90, 90, 80, 80, 80, 80]), array([90, 80, 80, 80, 80, 80]), array([80, 80, 80, 80, 80, 80]), array([80, 80, 80, 80, 80, 75]), array([80, 80, 80, 80, 75, 75]), array([80, 80, 80, 75, 75, 75]), array([80, 80, 75, 75, 75, 60]), array([80, 75, 75, 75, 60, 60]), array([75, 75, 75, 60, 60, 50]), array([75, 75, 60, 60, 50, 50]), array([75, 60, 60, 50, 50, 40]), array([60, 60, 50, 50, 40, 45]), array([60, 50, 50, 40, 45, 30]), array([50, 50, 40, 45, 30, 25]), array([50, 40, 45, 30, 25, 20]), array([40, 45, 30, 25, 20, 40]), array([45, 30, 25, 20, 40, 35]), array([30, 25, 20, 40, 35, 30]), array([25, 20, 40, 35, 30, 30]), array([20, 40, 35, 30, 30, 30]), array([40, 35, 30, 30, 30, 25]), array([35, 30, 30, 30, 25, 25]), array([30, 30, 30, 25, 25, 25]), array([30, 30, 25, 25, 25, 25]), array([30, 25, 25, 25, 25, 25]), array([25, 25, 25, 25, 25, 25]), array([20, 25, 35, 45, 45, 50]), array([25, 35, 45, 45, 50, 50]), array([35, 45, 45, 50, 50, 50]), array([45, 45, 50, 50, 50, 45]), array([45, 50, 50, 50, 45, 45]), array([50, 50, 50, 45, 45, 45]), array([50, 50, 45, 45, 45, 40]), array([50, 45, 45, 45, 40, 40]), array([45, 45, 45, 40, 40, 35]), array([45, 45, 40, 40, 35, 35]), array([45, 40, 40, 35, 35, 35]), array([40, 40, 35, 35, 35, 35]), array([40, 35, 35, 35, 35, 35]), array([35, 35, 35, 35, 35, 35]), array([35, 35, 35, 35, 35, 30]), array([35, 35, 35, 35, 30, 30]), array([35, 35, 35, 30, 30, 25]), array([35, 35, 30, 30, 25, 25]), array([20, 20, 20, 25, 25, 25]), array([20, 20, 25, 25, 25, 25]), array([20, 25, 25, 25, 25, 25]), array([25, 25, 25, 25, 25, 25]), array([25, 25, 25, 25, 25, 30]), array([25, 25, 25, 25, 30, 30]), array([25, 25, 25, 30, 30, 30]), array([25, 25, 30, 30, 30, 30]), array([25, 30, 30, 30, 30, 35]), array([30, 30, 30, 30, 35, 45]), array([30, 30, 30, 35, 45, 55]), array([30, 30, 35, 45, 55, 55]), array([30, 35, 45, 55, 55, 65]), array([35, 45, 55, 55, 65, 65]), array([45, 55, 55, 65, 65, 60]), array([55, 55, 65, 65, 60, 60]), array([55, 65, 65, 60, 60, 60]), array([65, 65, 60, 60, 60, 60]), array([65, 60, 60, 60, 60, 50]), array([60, 60, 60, 60, 50, 35]), array([60, 60, 60, 50, 35, 25]), array([25, 25, 25, 20, 20, 25]), array([25, 25, 20, 20, 25, 30]), array([25, 20, 20, 25, 30, 35]), array([20, 20, 25, 30, 35, 30]), array([20, 25, 30, 35, 30, 25]), array([25, 30, 35, 30, 25, 25]), array([30, 35, 30, 25, 25, 20]), array([35, 30, 25, 25, 20, 20]), array([30, 25, 25, 20, 20, 20]), array([25, 25, 20, 20, 20, 20]), array([25, 20, 20, 20, 20, 20]), array([20, 20, 20, 20, 20, 20]), array([20, 20, 20, 20, 20, 15]), array([20, 20, 20, 20, 15, 15]), array([20, 20, 20, 15, 15, 15]), array([20, 20, 15, 15, 15, 15]), array([20, 20, 25, 25, 30, 35]), array([20, 25, 25, 30, 35, 35]), array([25, 25, 30, 35, 35, 35]), array([25, 30, 35, 35, 35, 35]), array([30, 35, 35, 35, 35, 35]), array([35, 35, 35, 35, 35, 35]), array([35, 35, 35, 35, 35, 35]), array([35, 35, 35, 35, 35, 35]), array([35, 35, 35, 35, 35, 45]), array([35, 35, 35, 35, 45, 55]), array([35, 35, 35, 45, 55, 55]), array([35, 35, 45, 55, 55, 55]), array([35, 45, 55, 55, 55, 55]), array([45, 55, 55, 55, 55, 55]), array([55, 55, 55, 55, 55, 75]), array([55, 55, 55, 55, 75, 75]), array([55, 55, 55, 75, 75, 80]), array([55, 55, 75, 75, 80, 80]), array([55, 75, 75, 80, 80, 80]), array([75, 75, 80, 80, 80, 90]), array([75, 80, 80, 80, 90, 90]), array([80, 80, 80, 90, 90, 90]), array([80, 80, 90, 90, 90, 90]), array([80, 90, 90, 90, 90, 90]), array([90, 90, 90, 90, 90, 90]), array([90, 90, 90, 90, 90, 90]), array([90, 90, 90, 90, 90, 90]), array([90, 90, 90, 90, 90, 90]), array([90, 90, 90, 90, 90, 90]), array([90, 90, 90, 90, 90, 90]), array([90, 90, 90, 90, 90, 90]), array([ 90,  90,  90,  90,  90, 100]), array([ 90,  90,  90,  90, 100, 100]), array([ 90,  90,  90, 100, 100, 100]), array([ 90,  90, 100, 100, 100, 110]), array([ 90, 100, 100, 100, 110, 110]), array([100, 100, 100, 110, 110, 110]), array([100, 100, 110, 110, 110, 115]), array([100, 110, 110, 110, 115, 115]), array([110, 110, 110, 115, 115, 115]), array([110, 110, 115, 115, 115, 120]), array([110, 115, 115, 115, 120, 120]), array([115, 115, 115, 120, 120, 120]), array([115, 115, 120, 120, 120, 130]), array([115, 120, 120, 120, 130, 130]), array([120, 120, 120, 130, 130, 130]), array([120, 120, 130, 130, 130, 130]), array([120, 130, 130, 130, 130, 130]), array([130, 130, 130, 130, 130, 130]), array([130, 130, 130, 130, 130, 130]), array([130, 130, 130, 130, 130, 130]), array([130, 130, 130, 130, 130, 130]), array([130, 130, 130, 130, 130, 125]), array([130, 130, 130, 130, 125, 125]), array([130, 130, 130, 125, 125, 125]), array([130, 130, 125, 125, 125, 115]), array([130, 125, 125, 125, 115, 115]), array([125, 125, 125, 115, 115, 115]), array([125, 125, 115, 115, 115,  95]), array([125, 115, 115, 115,  95,  95]), array([115, 115, 115,  95,  95,  95]), array([115, 115,  95,  95,  95,  80]), array([115,  95,  95,  95,  80,  80]), array([95, 95, 95, 80, 80, 80]), array([95, 95, 80, 80, 80, 70]), array([95, 80, 80, 80, 70, 70]), array([80, 80, 80, 70, 70, 70]), array([80, 80, 70, 70, 70, 60]), array([80, 70, 70, 70, 60, 60]), array([70, 70, 70, 60, 60, 55]), array([70, 70, 60, 60, 55, 55]), array([70, 60, 60, 55, 55, 50]), array([60, 60, 55, 55, 50, 45]), array([60, 55, 55, 50, 45, 30]), array([55, 55, 50, 45, 30, 30]), array([55, 50, 45, 30, 30, 30]), array([20, 25, 30, 30, 35, 45]), array([25, 30, 30, 35, 45, 45]), array([30, 30, 35, 45, 45, 45]), array([30, 35, 45, 45, 45, 40]), array([35, 45, 45, 45, 40, 40]), array([20, 25, 25, 30, 35, 45]), array([25, 25, 30, 35, 45, 45]), array([25, 30, 35, 45, 45, 40]), array([30, 35, 45, 45, 40, 40]), array([35, 45, 45, 40, 40, 30]), array([20, 20, 25, 25, 25, 25]), array([20, 25, 25, 25, 25, 30]), array([25, 25, 25, 25, 30, 30]), array([25, 25, 25, 30, 30, 30]), array([25, 25, 30, 30, 30, 30]), array([25, 30, 30, 30, 30, 40]), array([30, 30, 30, 30, 40, 50]), array([30, 30, 30, 40, 50, 50]), array([30, 30, 40, 50, 50, 50]), array([30, 40, 50, 50, 50, 55]), array([40, 50, 50, 50, 55, 45]), array([50, 50, 50, 55, 45, 40]), array([20, 20, 25, 20, 20, 25]), array([20, 25, 20, 20, 25, 25]), array([25, 20, 20, 25, 25, 30]), array([20, 20, 25, 25, 30, 30]), array([20, 25, 25, 30, 30, 35]), array([25, 25, 30, 30, 35, 35]), array([25, 30, 30, 35, 35, 40]), array([30, 30, 35, 35, 40, 45]), array([30, 35, 35, 40, 45, 45]), array([35, 35, 40, 45, 45, 45]), array([35, 40, 45, 45, 45, 45]), array([40, 45, 45, 45, 45, 50]), array([45, 45, 45, 45, 50, 50]), array([45, 45, 45, 50, 50, 50]), array([45, 45, 50, 50, 50, 50]), array([45, 50, 50, 50, 50, 50]), array([50, 50, 50, 50, 50, 50]), array([50, 50, 50, 50, 50, 45]), array([50, 50, 50, 50, 45, 40]), array([50, 50, 50, 45, 40, 30]), array([15, 20, 20, 25, 30, 30]), array([20, 20, 25, 30, 30, 35]), array([20, 25, 30, 30, 35, 35]), array([25, 30, 30, 35, 35, 35]), array([30, 30, 35, 35, 35, 35]), array([30, 35, 35, 35, 35, 30]), array([35, 35, 35, 35, 30, 30]), array([35, 35, 35, 30, 30, 30]), array([35, 35, 30, 30, 30, 30]), array([35, 30, 30, 30, 30, 30]), array([30, 30, 30, 30, 30, 25]), array([30, 30, 30, 30, 25, 25]), array([30, 30, 30, 25, 25, 20]), array([30, 30, 25, 25, 20, 20]), array([30, 25, 25, 20, 20, 20]), array([25, 25, 20, 20, 20, 15]), array([25, 20, 20, 20, 15, 15]), array([20, 20, 20, 15, 15, 15]), array([20, 20, 15, 15, 15, 20]), array([20, 15, 15, 15, 20, 20]), array([15, 15, 15, 20, 20, 25]), array([15, 15, 20, 20, 25, 25]), array([15, 20, 20, 25, 25, 25]), array([20, 20, 25, 25, 25, 30]), array([20, 25, 25, 25, 30, 30]), array([25, 25, 25, 30, 30, 30]), array([25, 25, 30, 30, 30, 30]), array([25, 30, 30, 30, 30, 25]), array([30, 30, 30, 30, 25, 25]), array([30, 30, 30, 25, 25, 25]), array([30, 30, 25, 25, 25, 25]), array([30, 25, 25, 25, 25, 25]), array([25, 25, 25, 25, 25, 25]), array([25, 25, 25, 25, 25, 25]), array([25, 25, 25, 25, 25, 25]), array([20, 20, 25, 25, 30, 30]), array([20, 25, 25, 30, 30, 45]), array([25, 25, 30, 30, 45, 40]), array([25, 30, 30, 45, 40, 40]), array([30, 30, 45, 40, 40, 45]), array([30, 45, 40, 40, 45, 45]), array([45, 40, 40, 45, 45, 50]), array([40, 40, 45, 45, 50, 50]), array([40, 45, 45, 50, 50, 55]), array([45, 45, 50, 50, 55, 55]), array([45, 50, 50, 55, 55, 55]), array([50, 50, 55, 55, 55, 55]), array([50, 55, 55, 55, 55, 60]), array([55, 55, 55, 55, 60, 60]), array([55, 55, 55, 60, 60, 65]), array([55, 55, 60, 60, 65, 65]), array([55, 60, 60, 65, 65, 65]), array([60, 60, 65, 65, 65, 65]), array([60, 65, 65, 65, 65, 65]), array([65, 65, 65, 65, 65, 70]), array([65, 65, 65, 65, 70, 70]), array([65, 65, 65, 70, 70, 70]), array([65, 65, 70, 70, 70, 70]), array([65, 70, 70, 70, 70, 70]), array([70, 70, 70, 70, 70, 60]), array([70, 70, 70, 70, 60, 60]), array([70, 70, 70, 60, 60, 45]), array([70, 70, 60, 60, 45, 30]), array([70, 60, 60, 45, 30, 25]), array([15, 20, 20, 20, 25, 30]), array([20, 20, 20, 25, 30, 35]), array([20, 20, 25, 30, 35, 40]), array([20, 25, 30, 35, 40, 35]), array([25, 30, 35, 40, 35, 30]), array([30, 35, 40, 35, 30, 20]), array([35, 40, 35, 30, 20, 20]), array([40, 35, 30, 20, 20, 20]), array([35, 30, 20, 20, 20, 20]), array([20, 25, 25, 30, 30, 30]), array([25, 25, 30, 30, 30, 35]), array([25, 30, 30, 30, 35, 30]), array([30, 30, 30, 35, 30, 30]), array([20, 25, 30, 35, 40, 40]), array([25, 30, 35, 40, 40, 40]), array([30, 35, 40, 40, 40, 40]), array([35, 40, 40, 40, 40, 40]), array([40, 40, 40, 40, 40, 45]), array([40, 40, 40, 40, 45, 45]), array([40, 40, 40, 45, 45, 45]), array([40, 40, 45, 45, 45, 45]), array([40, 45, 45, 45, 45, 45]), array([45, 45, 45, 45, 45, 45]), array([45, 45, 45, 45, 45, 50]), array([45, 45, 45, 45, 50, 55]), array([45, 45, 45, 50, 55, 55]), array([45, 45, 50, 55, 55, 55]), array([45, 50, 55, 55, 55, 60]), array([50, 55, 55, 55, 60, 60]), array([55, 55, 55, 60, 60, 65]), array([55, 55, 60, 60, 65, 65]), array([55, 60, 60, 65, 65, 65]), array([60, 60, 65, 65, 65, 65]), array([60, 65, 65, 65, 65, 65]), array([65, 65, 65, 65, 65, 65]), array([65, 65, 65, 65, 65, 70]), array([65, 65, 65, 65, 70, 70]), array([65, 65, 65, 70, 70, 70]), array([65, 65, 70, 70, 70, 75]), array([65, 70, 70, 70, 75, 75]), array([70, 70, 70, 75, 75, 75]), array([70, 70, 75, 75, 75, 80]), array([70, 75, 75, 75, 80, 80]), array([75, 75, 75, 80, 80, 80]), array([75, 75, 80, 80, 80, 90]), array([75, 80, 80, 80, 90, 90]), array([80, 80, 80, 90, 90, 90]), array([80, 80, 90, 90, 90, 95]), array([80, 90, 90, 90, 95, 95]), array([90, 90, 90, 95, 95, 95]), array([ 90,  90,  95,  95,  95, 105]), array([ 90,  95,  95,  95, 105, 105]), array([ 95,  95,  95, 105, 105, 105]), array([ 95,  95, 105, 105, 105, 120]), array([ 95, 105, 105, 105, 120, 120]), array([105, 105, 105, 120, 120, 120]), array([105, 105, 120, 120, 120, 140]), array([105, 120, 120, 120, 140, 140]), array([120, 120, 120, 140, 140, 140]), array([120, 120, 140, 140, 140, 140]), array([120, 140, 140, 140, 140, 140]), array([140, 140, 140, 140, 140, 140]), array([140, 140, 140, 140, 140, 135]), array([140, 140, 140, 140, 135, 135]), array([140, 140, 140, 135, 135, 135]), array([140, 140, 135, 135, 135, 125]), array([140, 135, 135, 135, 125, 125]), array([135, 135, 135, 125, 125, 125]), array([135, 135, 125, 125, 125,  90]), array([135, 125, 125, 125,  90,  90]), array([125, 125, 125,  90,  90,  90]), array([125, 125,  90,  90,  90,  75]), array([125,  90,  90,  90,  75,  75]), array([90, 90, 90, 75, 75, 75]), array([90, 90, 75, 75, 75, 65]), array([90, 75, 75, 75, 65, 65]), array([75, 75, 75, 65, 65, 50]), array([75, 75, 65, 65, 50, 45]), array([75, 65, 65, 50, 45, 45]), array([65, 65, 50, 45, 45, 45]), array([65, 50, 45, 45, 45, 45]), array([50, 45, 45, 45, 45, 45]), array([45, 45, 45, 45, 45, 45]), array([45, 45, 45, 45, 45, 45]), array([45, 45, 45, 45, 45, 45]), array([45, 45, 45, 45, 45, 45]), array([45, 45, 45, 45, 45, 40]), array([45, 45, 45, 45, 40, 35]), array([45, 45, 45, 40, 35, 30]), array([30, 40, 40, 40, 45, 45]), array([40, 40, 40, 45, 45, 45]), array([40, 40, 45, 45, 45, 45]), array([40, 45, 45, 45, 45, 50]), array([45, 45, 45, 45, 50, 50]), array([45, 45, 45, 50, 50, 50]), array([45, 45, 50, 50, 50, 50]), array([45, 50, 50, 50, 50, 55]), array([50, 50, 50, 50, 55, 55]), array([50, 50, 50, 55, 55, 55]), array([50, 50, 55, 55, 55, 55]), array([50, 55, 55, 55, 55, 50]), array([55, 55, 55, 55, 50, 50]), array([55, 55, 55, 50, 50, 45]), array([55, 55, 50, 50, 45, 40]), array([55, 50, 50, 45, 40, 35]), array([50, 50, 45, 40, 35, 30]), array([50, 45, 40, 35, 30, 30]), array([45, 40, 35, 30, 30, 30]), array([20, 30, 30, 30, 35, 45]), array([30, 30, 30, 35, 45, 45]), array([30, 30, 35, 45, 45, 55]), array([30, 35, 45, 45, 55, 55]), array([35, 45, 45, 55, 55, 65]), array([45, 45, 55, 55, 65, 65]), array([45, 55, 55, 65, 65, 70]), array([55, 55, 65, 65, 70, 70]), array([55, 65, 65, 70, 70, 70]), array([65, 65, 70, 70, 70, 75]), array([65, 70, 70, 70, 75, 75]), array([70, 70, 70, 75, 75, 75]), array([70, 70, 75, 75, 75, 85]), array([70, 75, 75, 75, 85, 85]), array([75, 75, 75, 85, 85, 85]), array([75, 75, 85, 85, 85, 70]), array([75, 85, 85, 85, 70, 70]), array([85, 85, 85, 70, 70, 70]), array([85, 85, 70, 70, 70, 60]), array([85, 70, 70, 70, 60, 60]), array([70, 70, 70, 60, 60, 60]), array([70, 70, 60, 60, 60, 60]), array([70, 60, 60, 60, 60, 60]), array([60, 60, 60, 60, 60, 60]), array([60, 60, 60, 60, 60, 55]), array([60, 60, 60, 60, 55, 55]), array([60, 60, 60, 55, 55, 50]), array([60, 60, 55, 55, 50, 45]), array([25, 30, 35, 45, 55, 55]), array([30, 35, 45, 55, 55, 60]), array([35, 45, 55, 55, 60, 60]), array([45, 55, 55, 60, 60, 60]), array([55, 55, 60, 60, 60, 60]), array([55, 60, 60, 60, 60, 65]), array([60, 60, 60, 60, 65, 65]), array([60, 60, 60, 65, 65, 70]), array([60, 60, 65, 65, 70, 70]), array([60, 65, 65, 70, 70, 70]), array([65, 65, 70, 70, 70, 70]), array([65, 70, 70, 70, 70, 70]), array([70, 70, 70, 70, 70, 75]), array([70, 70, 70, 70, 75, 75]), array([70, 70, 70, 75, 75, 75]), array([70, 70, 75, 75, 75, 80]), array([70, 75, 75, 75, 80, 80]), array([75, 75, 75, 80, 80, 80]), array([75, 75, 80, 80, 80, 90]), array([75, 80, 80, 80, 90, 90]), array([80, 80, 80, 90, 90, 90]), array([ 80,  80,  90,  90,  90, 100]), array([ 80,  90,  90,  90, 100, 100]), array([30, 30, 30, 30, 35, 35]), array([30, 30, 30, 35, 35, 40]), array([30, 30, 35, 35, 40, 45]), array([30, 35, 35, 40, 45, 65]), array([35, 35, 40, 45, 65, 65]), array([35, 40, 45, 65, 65, 90]), array([40, 45, 65, 65, 90, 90]), array([45, 65, 65, 90, 90, 90]), array([ 65,  65,  90,  90,  90, 115]), array([ 65,  90,  90,  90, 115, 115]), array([ 90,  90,  90, 115, 115, 115]), array([ 90,  90, 115, 115, 115, 125]), array([ 90, 115, 115, 115, 125, 125]), array([115, 115, 115, 125, 125, 125]), array([115, 115, 125, 125, 125, 115]), array([115, 125, 125, 125, 115, 115]), array([125, 125, 125, 115, 115, 115]), array([125, 125, 115, 115, 115,  75]), array([125, 115, 115, 115,  75,  75]), array([115, 115, 115,  75,  75,  75]), array([115, 115,  75,  75,  75,  55]), array([115,  75,  75,  75,  55,  55]), array([75, 75, 75, 55, 55, 35]), array([75, 75, 55, 55, 35, 30]), array([75, 55, 55, 35, 30, 30]), array([55, 55, 35, 30, 30, 30]), array([55, 35, 30, 30, 30, 35]), array([35, 30, 30, 30, 35, 35]), array([30, 30, 30, 35, 35, 35]), array([25, 30, 30, 35, 45, 55]), array([30, 30, 35, 45, 55, 55]), array([30, 35, 45, 55, 55, 60]), array([35, 45, 55, 55, 60, 60]), array([45, 55, 55, 60, 60, 65]), array([55, 55, 60, 60, 65, 65]), array([55, 60, 60, 65, 65, 75]), array([60, 60, 65, 65, 75, 75]), array([60, 65, 65, 75, 75, 75]), array([65, 65, 75, 75, 75, 85]), array([65, 75, 75, 75, 85, 85]), array([75, 75, 75, 85, 85, 85]), array([75, 75, 85, 85, 85, 85]), array([75, 85, 85, 85, 85, 85]), array([85, 85, 85, 85, 85, 85]), array([ 85,  85,  85,  85,  85, 100]), array([ 85,  85,  85,  85, 100, 100]), array([ 85,  85,  85, 100, 100, 100]), array([ 85,  85, 100, 100, 100, 105]), array([ 85, 100, 100, 100, 105, 105]), array([100, 100, 100, 105, 105, 105]), array([100, 100, 105, 105, 105, 110]), array([100, 105, 105, 105, 110, 110]), array([105, 105, 105, 110, 110, 110]), array([105, 105, 110, 110, 110, 115]), array([105, 110, 110, 110, 115, 115]), array([110, 110, 110, 115, 115, 115]), array([110, 110, 115, 115, 115, 120]), array([110, 115, 115, 115, 120, 120]), array([115, 115, 115, 120, 120, 120]), array([115, 115, 120, 120, 120, 125]), array([115, 120, 120, 120, 125, 125]), array([120, 120, 120, 125, 125, 125]), array([120, 120, 125, 125, 125, 135]), array([120, 125, 125, 125, 135, 135]), array([125, 125, 125, 135, 135, 135]), array([125, 125, 135, 135, 135, 140]), array([125, 135, 135, 135, 140, 140]), array([135, 135, 135, 140, 140, 140]), array([135, 135, 140, 140, 140, 140]), array([135, 140, 140, 140, 140, 140]), array([140, 140, 140, 140, 140, 140]), array([140, 140, 140, 140, 140, 150]), array([140, 140, 140, 140, 150, 150]), array([140, 140, 140, 150, 150, 150]), array([140, 140, 150, 150, 150, 150]), array([140, 150, 150, 150, 150, 150]), array([150, 150, 150, 150, 150, 150]), array([150, 150, 150, 150, 150, 145]), array([150, 150, 150, 150, 145, 145]), array([150, 150, 150, 145, 145, 145]), array([150, 150, 145, 145, 145, 140]), array([150, 145, 145, 145, 140, 140]), array([145, 145, 145, 140, 140, 140]), array([145, 145, 140, 140, 140, 135]), array([145, 140, 140, 140, 135, 135]), array([140, 140, 140, 135, 135, 135]), array([140, 140, 135, 135, 135, 125]), array([140, 135, 135, 135, 125, 125]), array([135, 135, 135, 125, 125, 125]), array([135, 135, 125, 125, 125, 115]), array([135, 125, 125, 125, 115, 115]), array([125, 125, 125, 115, 115, 115]), array([125, 125, 115, 115, 115,  95]), array([125, 115, 115, 115,  95,  95]), array([115, 115, 115,  95,  95,  95]), array([115, 115,  95,  95,  95,  65]), array([115,  95,  95,  95,  65,  65]), array([95, 95, 95, 65, 65, 65]), array([95, 95, 65, 65, 65, 55]), array([25, 30, 35, 35, 40, 45]), array([30, 35, 35, 40, 45, 45]), array([35, 35, 40, 45, 45, 45]), array([35, 40, 45, 45, 45, 50]), array([40, 45, 45, 45, 50, 55]), array([45, 45, 45, 50, 55, 55]), array([45, 45, 50, 55, 55, 55]), array([45, 50, 55, 55, 55, 55]), array([50, 55, 55, 55, 55, 55]), array([55, 55, 55, 55, 55, 55]), array([55, 55, 55, 55, 55, 55]), array([55, 55, 55, 55, 55, 55]), array([55, 55, 55, 55, 55, 55]), array([55, 55, 55, 55, 55, 55]), array([55, 55, 55, 55, 55, 55]), array([55, 55, 55, 55, 55, 55]), array([55, 55, 55, 55, 55, 55]), array([55, 55, 55, 55, 55, 55]), array([55, 55, 55, 55, 55, 55]), array([55, 55, 55, 55, 55, 55]), array([55, 55, 55, 55, 55, 55]), array([55, 55, 55, 55, 55, 55]), array([55, 55, 55, 55, 55, 50]), array([55, 55, 55, 55, 50, 50]), array([55, 55, 55, 50, 50, 45]), array([55, 55, 50, 50, 45, 45]), array([55, 50, 50, 45, 45, 40]), array([50, 50, 45, 45, 40, 40]), array([50, 45, 45, 40, 40, 45]), array([45, 45, 40, 40, 45, 45]), array([45, 40, 40, 45, 45, 45]), array([40, 40, 45, 45, 45, 50]), array([40, 45, 45, 45, 50, 55]), array([45, 45, 45, 50, 55, 55]), array([45, 45, 50, 55, 55, 50]), array([45, 50, 55, 55, 50, 50]), array([50, 55, 55, 50, 50, 50]), array([55, 55, 50, 50, 50, 50]), array([55, 50, 50, 50, 50, 45]), array([50, 50, 50, 50, 45, 45]), array([50, 50, 50, 45, 45, 45]), array([50, 50, 45, 45, 45, 45]), array([50, 45, 45, 45, 45, 40]), array([45, 45, 45, 45, 40, 40]), array([45, 45, 45, 40, 40, 45]), array([45, 45, 40, 40, 45, 50]), array([45, 40, 40, 45, 50, 65]), array([40, 40, 45, 50, 65, 65]), array([40, 45, 50, 65, 65, 75]), array([45, 50, 65, 65, 75, 75]), array([50, 65, 65, 75, 75, 75]), array([65, 65, 75, 75, 75, 80]), array([65, 75, 75, 75, 80, 80]), array([75, 75, 75, 80, 80, 80]), array([75, 75, 80, 80, 80, 85]), array([75, 80, 80, 80, 85, 85]), array([80, 80, 80, 85, 85, 85]), array([80, 80, 85, 85, 85, 90]), array([80, 85, 85, 85, 90, 90]), array([85, 85, 85, 90, 90, 90]), array([85, 85, 90, 90, 90, 95]), array([85, 90, 90, 90, 95, 95]), array([90, 90, 90, 95, 95, 95]), array([ 90,  90,  95,  95,  95, 100]), array([ 90,  95,  95,  95, 100, 100]), array([ 95,  95,  95, 100, 100, 100]), array([ 95,  95, 100, 100, 100,  80]), array([ 95, 100, 100, 100,  80,  80]), array([100, 100, 100,  80,  80,  80]), array([100, 100,  80,  80,  80,  65]), array([100,  80,  80,  80,  65,  65]), array([80, 80, 80, 65, 65, 50]), array([80, 80, 65, 65, 50, 40]), array([80, 65, 65, 50, 40, 45]), array([65, 65, 50, 40, 45, 50]), array([65, 50, 40, 45, 50, 55]), array([50, 40, 45, 50, 55, 60]), array([40, 45, 50, 55, 60, 60]), array([45, 50, 55, 60, 60, 65]), array([50, 55, 60, 60, 65, 65]), array([55, 60, 60, 65, 65, 65]), array([60, 60, 65, 65, 65, 65]), array([60, 65, 65, 65, 65, 60]), array([65, 65, 65, 65, 60, 60]), array([65, 65, 65, 60, 60, 65]), array([65, 65, 60, 60, 65, 65]), array([65, 60, 60, 65, 65, 65]), array([20, 20, 25, 25, 30, 30]), array([20, 25, 25, 30, 30, 30]), array([25, 25, 30, 30, 30, 35]), array([25, 30, 30, 30, 35, 35]), array([30, 30, 30, 35, 35, 35]), array([30, 30, 35, 35, 35, 40]), array([30, 35, 35, 35, 40, 45]), array([35, 35, 35, 40, 45, 45]), array([35, 35, 40, 45, 45, 40]), array([35, 40, 45, 45, 40, 35]), array([40, 45, 45, 40, 35, 35]), array([45, 45, 40, 35, 35, 35]), array([45, 40, 35, 35, 35, 30]), array([25, 30, 35, 45, 45, 50]), array([30, 35, 45, 45, 50, 55]), array([35, 45, 45, 50, 55, 55]), array([45, 45, 50, 55, 55, 55]), array([45, 50, 55, 55, 55, 55]), array([50, 55, 55, 55, 55, 50]), array([55, 55, 55, 55, 50, 50]), array([55, 55, 55, 50, 50, 50]), array([55, 55, 50, 50, 50, 40]), array([55, 50, 50, 50, 40, 30]), array([50, 50, 50, 40, 30, 30]), array([50, 50, 40, 30, 30, 30]), array([20, 25, 25, 25, 25, 25]), array([25, 25, 25, 25, 25, 25]), array([25, 25, 25, 25, 25, 30]), array([25, 25, 25, 25, 30, 30]), array([25, 25, 25, 30, 30, 35]), array([25, 25, 30, 30, 35, 40]), array([25, 30, 30, 35, 40, 40]), array([30, 30, 35, 40, 40, 45]), array([30, 35, 40, 40, 45, 45]), array([35, 40, 40, 45, 45, 45]), array([40, 40, 45, 45, 45, 45]), array([40, 45, 45, 45, 45, 40]), array([45, 45, 45, 45, 40, 35]), array([45, 45, 45, 40, 35, 35]), array([45, 45, 40, 35, 35, 35]), array([45, 40, 35, 35, 35, 35]), array([40, 35, 35, 35, 35, 35]), array([35, 35, 35, 35, 35, 30]), array([35, 35, 35, 35, 30, 30]), array([35, 35, 35, 30, 30, 25]), array([20, 20, 25, 25, 25, 25]), array([20, 25, 25, 25, 25, 35]), array([25, 25, 25, 25, 35, 40]), array([25, 25, 25, 35, 40, 35]), array([25, 25, 35, 40, 35, 35]), array([25, 35, 40, 35, 35, 35]), array([35, 40, 35, 35, 35, 35]), array([40, 35, 35, 35, 35, 30]), array([35, 35, 35, 35, 30, 25]), array([35, 35, 35, 30, 25, 25]), array([35, 35, 30, 25, 25, 25]), array([35, 30, 25, 25, 25, 25]), array([30, 25, 25, 25, 25, 25]), array([25, 25, 25, 25, 25, 25]), array([25, 25, 25, 25, 25, 20]), array([25, 25, 25, 25, 20, 15]), array([25, 25, 25, 20, 15, 15]), array([25, 25, 20, 15, 15, 15]), array([25, 20, 15, 15, 15, 15]), array([25, 25, 25, 25, 25, 25]), array([25, 25, 25, 25, 25, 30]), array([25, 25, 25, 25, 30, 30]), array([25, 25, 25, 30, 30, 30]), array([25, 25, 30, 30, 30, 30]), array([25, 30, 30, 30, 30, 30]), array([30, 30, 30, 30, 30, 30]), array([30, 30, 30, 30, 30, 30]), array([30, 30, 30, 30, 30, 30]), array([30, 30, 30, 30, 30, 30]), array([30, 30, 30, 30, 30, 35]), array([30, 30, 30, 30, 35, 35]), array([30, 30, 30, 35, 35, 35]), array([30, 30, 35, 35, 35, 35]), array([30, 35, 35, 35, 35, 30]), array([35, 35, 35, 35, 30, 25]), array([20, 20, 20, 20, 25, 30]), array([20, 20, 20, 25, 30, 30]), array([20, 20, 25, 30, 30, 35]), array([20, 25, 30, 30, 35, 40]), array([25, 30, 30, 35, 40, 40]), array([30, 30, 35, 40, 40, 40]), array([30, 35, 40, 40, 40, 40]), array([35, 40, 40, 40, 40, 40]), array([40, 40, 40, 40, 40, 40]), array([40, 40, 40, 40, 40, 35]), array([40, 40, 40, 40, 35, 35]), array([40, 40, 40, 35, 35, 30]), array([40, 40, 35, 35, 30, 30]), array([30, 40, 45, 45, 45, 45]), array([40, 45, 45, 45, 45, 50]), array([45, 45, 45, 45, 50, 50]), array([45, 45, 45, 50, 50, 55]), array([45, 45, 50, 50, 55, 55]), array([45, 50, 50, 55, 55, 60]), array([50, 50, 55, 55, 60, 60]), array([50, 55, 55, 60, 60, 65]), array([55, 55, 60, 60, 65, 65]), array([55, 60, 60, 65, 65, 90]), array([60, 60, 65, 65, 90, 90]), array([60, 65, 65, 90, 90, 90]), array([65, 65, 90, 90, 90, 85]), array([65, 90, 90, 90, 85, 85]), array([90, 90, 90, 85, 85, 85]), array([90, 90, 85, 85, 85, 75]), array([90, 85, 85, 85, 75, 75]), array([85, 85, 85, 75, 75, 75]), array([85, 85, 75, 75, 75, 75]), array([85, 75, 75, 75, 75, 75]), array([75, 75, 75, 75, 75, 75]), array([75, 75, 75, 75, 75, 75]), array([75, 75, 75, 75, 75, 75]), array([75, 75, 75, 75, 75, 75]), array([75, 75, 75, 75, 75, 80]), array([75, 75, 75, 75, 80, 80]), array([75, 75, 75, 80, 80, 80]), array([75, 75, 80, 80, 80, 85]), array([75, 80, 80, 80, 85, 85]), array([80, 80, 80, 85, 85, 85]), array([80, 80, 85, 85, 85, 90]), array([80, 85, 85, 85, 90, 90]), array([85, 85, 85, 90, 90, 90]), array([85, 85, 90, 90, 90, 95]), array([85, 90, 90, 90, 95, 95]), array([90, 90, 90, 95, 95, 95]), array([90, 90, 95, 95, 95, 95]), array([90, 95, 95, 95, 95, 95]), array([95, 95, 95, 95, 95, 95]), array([ 95,  95,  95,  95,  95, 100]), array([ 95,  95,  95,  95, 100, 100]), array([ 95,  95,  95, 100, 100, 100]), array([ 95,  95, 100, 100, 100, 100]), array([ 95, 100, 100, 100, 100, 100]), array([100, 100, 100, 100, 100, 100]), array([100, 100, 100, 100, 100, 105]), array([100, 100, 100, 100, 105, 105]), array([100, 100, 100, 105, 105, 105]), array([100, 100, 105, 105, 105,  95]), array([100, 105, 105, 105,  95,  95]), array([105, 105, 105,  95,  95,  95]), array([105, 105,  95,  95,  95,  85]), array([105,  95,  95,  95,  85,  85]), array([95, 95, 95, 85, 85, 85]), array([95, 95, 85, 85, 85, 75]), array([95, 85, 85, 85, 75, 75]), array([85, 85, 85, 75, 75, 75]), array([85, 85, 75, 75, 75, 70]), array([85, 75, 75, 75, 70, 70]), array([75, 75, 75, 70, 70, 70]), array([75, 75, 70, 70, 70, 60]), array([75, 70, 70, 70, 60, 60]), array([70, 70, 70, 60, 60, 60]), array([70, 70, 60, 60, 60, 60]), array([70, 60, 60, 60, 60, 55]), array([60, 60, 60, 60, 55, 55]), array([60, 60, 60, 55, 55, 50]), array([60, 60, 55, 55, 50, 50]), array([60, 55, 55, 50, 50, 50]), array([55, 55, 50, 50, 50, 45]), array([55, 50, 50, 50, 45, 45]), array([50, 50, 50, 45, 45, 45]), array([50, 50, 45, 45, 45, 45]), array([50, 45, 45, 45, 45, 50]), array([45, 45, 45, 45, 50, 55]), array([45, 45, 45, 50, 55, 55]), array([45, 45, 50, 55, 55, 55]), array([45, 50, 55, 55, 55, 55]), array([50, 55, 55, 55, 55, 55]), array([55, 55, 55, 55, 55, 55]), array([55, 55, 55, 55, 55, 60]), array([55, 55, 55, 55, 60, 60]), array([55, 55, 55, 60, 60, 70]), array([55, 55, 60, 60, 70, 70]), array([55, 60, 60, 70, 70, 70]), array([60, 60, 70, 70, 70, 80]), array([60, 70, 70, 70, 80, 80]), array([70, 70, 70, 80, 80, 80]), array([70, 70, 80, 80, 80, 85]), array([70, 80, 80, 80, 85, 85]), array([80, 80, 80, 85, 85, 85]), array([80, 80, 85, 85, 85, 90]), array([80, 85, 85, 85, 90, 90]), array([85, 85, 85, 90, 90, 90]), array([ 85,  85,  90,  90,  90, 100]), array([ 85,  90,  90,  90, 100, 100]), array([ 90,  90,  90, 100, 100, 100]), array([ 90,  90, 100, 100, 100, 110]), array([ 90, 100, 100, 100, 110, 110]), array([100, 100, 100, 110, 110, 110]), array([100, 100, 110, 110, 110, 120]), array([100, 110, 110, 110, 120, 120]), array([110, 110, 110, 120, 120, 120]), array([110, 110, 120, 120, 120, 115]), array([110, 120, 120, 120, 115, 115]), array([120, 120, 120, 115, 115, 115]), array([120, 120, 115, 115, 115, 110]), array([120, 115, 115, 115, 110, 110]), array([115, 115, 115, 110, 110, 110]), array([115, 115, 110, 110, 110, 105]), array([115, 110, 110, 110, 105, 105]), array([110, 110, 110, 105, 105, 105]), array([110, 110, 105, 105, 105,  95]), array([110, 105, 105, 105,  95,  95]), array([105, 105, 105,  95,  95,  95]), array([105, 105,  95,  95,  95,  90]), array([105,  95,  95,  95,  90,  90]), array([95, 95, 95, 90, 90, 90]), array([95, 95, 90, 90, 90, 75]), array([95, 90, 90, 90, 75, 75]), array([90, 90, 90, 75, 75, 75]), array([90, 90, 75, 75, 75, 65]), array([90, 75, 75, 75, 65, 65]), array([75, 75, 75, 65, 65, 55]), array([75, 75, 65, 65, 55, 55]), array([75, 65, 65, 55, 55, 50]), array([65, 65, 55, 55, 50, 45]), array([65, 55, 55, 50, 45, 35]), array([55, 55, 50, 45, 35, 30]), array([25, 30, 35, 40, 45, 55]), array([30, 35, 40, 45, 55, 55]), array([35, 40, 45, 55, 55, 65]), array([40, 45, 55, 55, 65, 65]), array([45, 55, 55, 65, 65, 70]), array([55, 55, 65, 65, 70, 70]), array([55, 65, 65, 70, 70, 70]), array([65, 65, 70, 70, 70, 75]), array([65, 70, 70, 70, 75, 75]), array([70, 70, 70, 75, 75, 75]), array([70, 70, 75, 75, 75, 75]), array([70, 75, 75, 75, 75, 75]), array([75, 75, 75, 75, 75, 75]), array([75, 75, 75, 75, 75, 75]), array([75, 75, 75, 75, 75, 75]), array([75, 75, 75, 75, 75, 75]), array([75, 75, 75, 75, 75, 70]), array([75, 75, 75, 75, 70, 70]), array([75, 75, 75, 70, 70, 70]), array([75, 75, 70, 70, 70, 70]), array([75, 70, 70, 70, 70, 70]), array([70, 70, 70, 70, 70, 70]), array([70, 70, 70, 70, 70, 70]), array([70, 70, 70, 70, 70, 70]), array([70, 70, 70, 70, 70, 70]), array([70, 70, 70, 70, 70, 65]), array([70, 70, 70, 70, 65, 65]), array([70, 70, 70, 65, 65, 70]), array([70, 70, 65, 65, 70, 70]), array([70, 65, 65, 70, 70, 70]), array([65, 65, 70, 70, 70, 80]), array([65, 70, 70, 70, 80, 80]), array([70, 70, 70, 80, 80, 80]), array([70, 70, 80, 80, 80, 85]), array([70, 80, 80, 80, 85, 85]), array([80, 80, 80, 85, 85, 85]), array([80, 80, 85, 85, 85, 90]), array([80, 85, 85, 85, 90, 90]), array([85, 85, 85, 90, 90, 90]), array([85, 85, 90, 90, 90, 90]), array([85, 90, 90, 90, 90, 90]), array([90, 90, 90, 90, 90, 90]), array([90, 90, 90, 90, 90, 85]), array([90, 90, 90, 90, 85, 85]), array([90, 90, 90, 85, 85, 85]), array([90, 90, 85, 85, 85, 75]), array([90, 85, 85, 85, 75, 75]), array([85, 85, 85, 75, 75, 75]), array([85, 85, 75, 75, 75, 70]), array([85, 75, 75, 75, 70, 70]), array([75, 75, 75, 70, 70, 70]), array([75, 75, 70, 70, 70, 70]), array([75, 70, 70, 70, 70, 70]), array([70, 70, 70, 70, 70, 70]), array([70, 70, 70, 70, 70, 70]), array([70, 70, 70, 70, 70, 70]), array([70, 70, 70, 70, 70, 70]), array([70, 70, 70, 70, 70, 70]), array([70, 70, 70, 70, 70, 70]), array([70, 70, 70, 70, 70, 70]), array([70, 70, 70, 70, 70, 65]), array([70, 70, 70, 70, 65, 65]), array([70, 70, 70, 65, 65, 60]), array([70, 70, 65, 65, 60, 60]), array([70, 65, 65, 60, 60, 55]), array([65, 65, 60, 60, 55, 55]), array([65, 60, 60, 55, 55, 50]), array([60, 60, 55, 55, 50, 40]), array([60, 55, 55, 50, 40, 35]), array([55, 55, 50, 40, 35, 30]), array([55, 50, 40, 35, 30, 25]), array([20, 30, 30, 35, 40, 40]), array([30, 30, 35, 40, 40, 45]), array([30, 35, 40, 40, 45, 55]), array([35, 40, 40, 45, 55, 55]), array([40, 40, 45, 55, 55, 60]), array([40, 45, 55, 55, 60, 60]), array([45, 55, 55, 60, 60, 70]), array([55, 55, 60, 60, 70, 70]), array([55, 60, 60, 70, 70, 70]), array([60, 60, 70, 70, 70, 90]), array([60, 70, 70, 70, 90, 90]), array([70, 70, 70, 90, 90, 90]), array([ 70,  70,  90,  90,  90, 105]), array([ 70,  90,  90,  90, 105, 105]), array([ 90,  90,  90, 105, 105, 105]), array([ 90,  90, 105, 105, 105, 115]), array([ 90, 105, 105, 105, 115, 115]), array([105, 105, 105, 115, 115, 115]), array([105, 105, 115, 115, 115, 115]), array([105, 115, 115, 115, 115, 115]), array([115, 115, 115, 115, 115, 115]), array([115, 115, 115, 115, 115, 100]), array([115, 115, 115, 115, 100, 100]), array([115, 115, 115, 100, 100, 100]), array([115, 115, 100, 100, 100, 100]), array([115, 100, 100, 100, 100, 100]), array([100, 100, 100, 100, 100, 100]), array([100, 100, 100, 100, 100,  95]), array([100, 100, 100, 100,  95,  95]), array([100, 100, 100,  95,  95,  95]), array([100, 100,  95,  95,  95,  90]), array([100,  95,  95,  95,  90,  90]), array([95, 95, 95, 90, 90, 90]), array([95, 95, 90, 90, 90, 80]), array([95, 90, 90, 90, 80, 80]), array([90, 90, 90, 80, 80, 80]), array([90, 90, 80, 80, 80, 70]), array([90, 80, 80, 80, 70, 70]), array([80, 80, 80, 70, 70, 70]), array([80, 80, 70, 70, 70, 65]), array([80, 70, 70, 70, 65, 65]), array([70, 70, 70, 65, 65, 55]), array([70, 70, 65, 65, 55, 55]), array([70, 65, 65, 55, 55, 50]), array([65, 65, 55, 55, 50, 50]), array([65, 55, 55, 50, 50, 45]), array([55, 55, 50, 50, 45, 50]), array([55, 50, 50, 45, 50, 55]), array([50, 50, 45, 50, 55, 55]), array([50, 45, 50, 55, 55, 60]), array([45, 50, 55, 55, 60, 60]), array([50, 55, 55, 60, 60, 70]), array([55, 55, 60, 60, 70, 70]), array([55, 60, 60, 70, 70, 70]), array([60, 60, 70, 70, 70, 80]), array([60, 70, 70, 70, 80, 80]), array([70, 70, 70, 80, 80, 80]), array([70, 70, 80, 80, 80, 85]), array([70, 80, 80, 80, 85, 85]), array([80, 80, 80, 85, 85, 85]), array([80, 80, 85, 85, 85, 90]), array([80, 85, 85, 85, 90, 90]), array([85, 85, 85, 90, 90, 90]), array([85, 85, 90, 90, 90, 90]), array([85, 90, 90, 90, 90, 90]), array([90, 90, 90, 90, 90, 90]), array([ 90,  90,  90,  90,  90, 100]), array([ 90,  90,  90,  90, 100, 100]), array([ 90,  90,  90, 100, 100, 100]), array([ 90,  90, 100, 100, 100, 100]), array([ 90, 100, 100, 100, 100, 100]), array([100, 100, 100, 100, 100, 100]), array([100, 100, 100, 100, 100, 105]), array([100, 100, 100, 100, 105, 105]), array([100, 100, 100, 105, 105, 105]), array([100, 100, 105, 105, 105, 105]), array([100, 105, 105, 105, 105, 105]), array([105, 105, 105, 105, 105, 105]), array([105, 105, 105, 105, 105, 110]), array([105, 105, 105, 105, 110, 110]), array([105, 105, 105, 110, 110, 110]), array([105, 105, 110, 110, 110, 125]), array([105, 110, 110, 110, 125, 125]), array([110, 110, 110, 125, 125, 125]), array([110, 110, 125, 125, 125, 130]), array([110, 125, 125, 125, 130, 130]), array([125, 125, 125, 130, 130, 130]), array([125, 125, 130, 130, 130, 140]), array([125, 130, 130, 130, 140, 140]), array([130, 130, 130, 140, 140, 140]), array([130, 130, 140, 140, 140, 150]), array([130, 140, 140, 140, 150, 150]), array([140, 140, 140, 150, 150, 150]), array([140, 140, 150, 150, 150, 155]), array([140, 150, 150, 150, 155, 155]), array([150, 150, 150, 155, 155, 155]), array([150, 150, 155, 155, 155, 140]), array([150, 155, 155, 155, 140, 140]), array([155, 155, 155, 140, 140, 140]), array([155, 155, 140, 140, 140, 125]), array([155, 140, 140, 140, 125, 125]), array([140, 140, 140, 125, 125, 125]), array([140, 140, 125, 125, 125, 120]), array([140, 125, 125, 125, 120, 120]), array([125, 125, 125, 120, 120, 120]), array([125, 125, 120, 120, 120, 120]), array([125, 120, 120, 120, 120, 120]), array([120, 120, 120, 120, 120, 120]), array([120, 120, 120, 120, 120, 115]), array([120, 120, 120, 120, 115, 115]), array([120, 120, 120, 115, 115, 115]), array([120, 120, 115, 115, 115, 105]), array([120, 115, 115, 115, 105, 105]), array([115, 115, 115, 105, 105, 105]), array([115, 115, 105, 105, 105,  95]), array([115, 105, 105, 105,  95,  95]), array([105, 105, 105,  95,  95,  95]), array([105, 105,  95,  95,  95,  90]), array([105,  95,  95,  95,  90,  90]), array([95, 95, 95, 90, 90, 90]), array([95, 95, 90, 90, 90, 90]), array([95, 90, 90, 90, 90, 90]), array([90, 90, 90, 90, 90, 90]), array([90, 90, 90, 90, 90, 85]), array([90, 90, 90, 90, 85, 85]), array([90, 90, 90, 85, 85, 85]), array([90, 90, 85, 85, 85, 80]), array([90, 85, 85, 85, 80, 80]), array([85, 85, 85, 80, 80, 80]), array([85, 85, 80, 80, 80, 75]), array([85, 80, 80, 80, 75, 75]), array([80, 80, 80, 75, 75, 75]), array([80, 80, 75, 75, 75, 65]), array([80, 75, 75, 75, 65, 65]), array([75, 75, 75, 65, 65, 55]), array([75, 75, 65, 65, 55, 55]), array([75, 65, 65, 55, 55, 50]), array([65, 65, 55, 55, 50, 45]), array([65, 55, 55, 50, 45, 45]), array([55, 55, 50, 45, 45, 40]), array([55, 50, 45, 45, 40, 40]), array([50, 45, 45, 40, 40, 40]), array([45, 45, 40, 40, 40, 40]), array([45, 40, 40, 40, 40, 40]), array([40, 40, 40, 40, 40, 40]), array([40, 40, 40, 40, 40, 40]), array([40, 40, 40, 40, 40, 35]), array([40, 40, 40, 40, 35, 35]), array([40, 40, 40, 35, 35, 30]), array([40, 40, 35, 35, 30, 30]), array([40, 35, 35, 30, 30, 25]), array([35, 35, 30, 30, 25, 25]), array([35, 30, 30, 25, 25, 25]), array([30, 30, 25, 25, 25, 25]), array([20, 25, 30, 30, 30, 30]), array([25, 30, 30, 30, 30, 35]), array([30, 30, 30, 30, 35, 35]), array([30, 30, 30, 35, 35, 40]), array([30, 30, 35, 35, 40, 45]), array([30, 35, 35, 40, 45, 50]), array([35, 35, 40, 45, 50, 50]), array([35, 40, 45, 50, 50, 55]), array([40, 45, 50, 50, 55, 55]), array([45, 50, 50, 55, 55, 55]), array([50, 50, 55, 55, 55, 55]), array([50, 55, 55, 55, 55, 55]), array([55, 55, 55, 55, 55, 55]), array([55, 55, 55, 55, 55, 55]), array([55, 55, 55, 55, 55, 50]), array([55, 55, 55, 55, 50, 45]), array([55, 55, 55, 50, 45, 45]), array([55, 55, 50, 45, 45, 35]), array([25, 25, 30, 30, 30, 35]), array([25, 30, 30, 30, 35, 45]), array([30, 30, 30, 35, 45, 50]), array([30, 30, 35, 45, 50, 55]), array([30, 35, 45, 50, 55, 55]), array([35, 45, 50, 55, 55, 50]), array([45, 50, 55, 55, 50, 45]), array([50, 55, 55, 50, 45, 35]), array([25, 25, 30, 30, 35, 40]), array([25, 30, 30, 35, 40, 40]), array([30, 30, 35, 40, 40, 30]), array([30, 35, 40, 40, 30, 30]), array([35, 40, 40, 30, 30, 25]), array([25, 25, 25, 40, 45, 55]), array([25, 25, 40, 45, 55, 55]), array([25, 40, 45, 55, 55, 65]), array([40, 45, 55, 55, 65, 65]), array([45, 55, 55, 65, 65, 90]), array([55, 55, 65, 65, 90, 90]), array([55, 65, 65, 90, 90, 90]), array([65, 65, 90, 90, 90, 60]), array([65, 90, 90, 90, 60, 60]), array([90, 90, 90, 60, 60, 40]), array([25, 25, 30, 30, 30, 30]), array([25, 30, 30, 30, 30, 30]), array([30, 30, 30, 30, 30, 30]), array([30, 30, 30, 30, 30, 30]), array([30, 30, 30, 30, 30, 30]), array([30, 30, 30, 30, 30, 30]), array([30, 30, 30, 30, 30, 30]), array([30, 30, 30, 30, 30, 35]), array([30, 30, 30, 30, 35, 40]), array([30, 30, 30, 35, 40, 50]), array([30, 30, 35, 40, 50, 50]), array([30, 35, 40, 50, 50, 50]), array([35, 40, 50, 50, 50, 55]), array([40, 50, 50, 50, 55, 55]), array([50, 50, 50, 55, 55, 60]), array([50, 50, 55, 55, 60, 60]), array([50, 55, 55, 60, 60, 70]), array([55, 55, 60, 60, 70, 70]), array([55, 60, 60, 70, 70, 80]), array([60, 60, 70, 70, 80, 80]), array([60, 70, 70, 80, 80, 80]), array([70, 70, 80, 80, 80, 85]), array([70, 80, 80, 80, 85, 85]), array([80, 80, 80, 85, 85, 85]), array([80, 80, 85, 85, 85, 90]), array([80, 85, 85, 85, 90, 90]), array([85, 85, 85, 90, 90, 90]), array([85, 85, 90, 90, 90, 90]), array([85, 90, 90, 90, 90, 90]), array([90, 90, 90, 90, 90, 90]), array([90, 90, 90, 90, 90, 85]), array([90, 90, 90, 90, 85, 85]), array([90, 90, 90, 85, 85, 85]), array([90, 90, 85, 85, 85, 80]), array([90, 85, 85, 85, 80, 80]), array([85, 85, 85, 80, 80, 80]), array([85, 85, 80, 80, 80, 55]), array([85, 80, 80, 80, 55, 55]), array([80, 80, 80, 55, 55, 40]), array([80, 80, 55, 55, 40, 35]), array([25, 30, 30, 35, 35, 30]), array([30, 30, 35, 35, 30, 25]), array([30, 35, 35, 30, 25, 20]), array([35, 35, 30, 25, 20, 20]), array([35, 30, 25, 20, 20, 20]), array([30, 25, 20, 20, 20, 20]), array([25, 20, 20, 20, 20, 20]), array([20, 20, 20, 20, 20, 25]), array([20, 20, 20, 20, 25, 30]), array([20, 20, 20, 25, 30, 35]), array([20, 20, 25, 30, 35, 40]), array([20, 25, 30, 35, 40, 50]), array([25, 30, 35, 40, 50, 50]), array([30, 35, 40, 50, 50, 40]), array([35, 40, 50, 50, 40, 35]), array([40, 50, 50, 40, 35, 35]), array([50, 50, 40, 35, 35, 30]), array([25, 30, 35, 35, 40, 40]), array([30, 35, 35, 40, 40, 40]), array([35, 35, 40, 40, 40, 35]), array([35, 40, 40, 40, 35, 35]), array([25, 30, 35, 45, 45, 40]), array([30, 35, 45, 45, 40, 35]), array([20, 20, 25, 30, 30, 30]), array([20, 25, 30, 30, 30, 35]), array([25, 30, 30, 30, 35, 45]), array([30, 30, 30, 35, 45, 55]), array([30, 30, 35, 45, 55, 55]), array([30, 35, 45, 55, 55, 60]), array([35, 45, 55, 55, 60, 60]), array([45, 55, 55, 60, 60, 65]), array([55, 55, 60, 60, 65, 65]), array([55, 60, 60, 65, 65, 65]), array([60, 60, 65, 65, 65, 65]), array([60, 65, 65, 65, 65, 65]), array([65, 65, 65, 65, 65, 65]), array([65, 65, 65, 65, 65, 65]), array([65, 65, 65, 65, 65, 65]), array([65, 65, 65, 65, 65, 65]), array([65, 65, 65, 65, 65, 65]), array([65, 65, 65, 65, 65, 65]), array([65, 65, 65, 65, 65, 65]), array([65, 65, 65, 65, 65, 70]), array([65, 65, 65, 65, 70, 70]), array([65, 65, 65, 70, 70, 70]), array([65, 65, 70, 70, 70, 80]), array([65, 70, 70, 70, 80, 80]), array([70, 70, 70, 80, 80, 80]), array([70, 70, 80, 80, 80, 95]), array([70, 80, 80, 80, 95, 95]), array([80, 80, 80, 95, 95, 95]), array([ 80,  80,  95,  95,  95, 115]), array([ 80,  95,  95,  95, 115, 115]), array([ 95,  95,  95, 115, 115, 115]), array([ 95,  95, 115, 115, 115, 115]), array([ 95, 115, 115, 115, 115, 115]), array([115, 115, 115, 115, 115, 115]), array([115, 115, 115, 115, 115, 105]), array([115, 115, 115, 115, 105, 105]), array([115, 115, 115, 105, 105, 105]), array([115, 115, 105, 105, 105,  80]), array([115, 105, 105, 105,  80,  80]), array([105, 105, 105,  80,  80,  80]), array([105, 105,  80,  80,  80,  60]), array([105,  80,  80,  80,  60,  40]), array([80, 80, 80, 60, 40, 35]), array([25, 25, 30, 35, 35, 35]), array([25, 30, 35, 35, 35, 35]), array([30, 35, 35, 35, 35, 35]), array([35, 35, 35, 35, 35, 35]), array([35, 35, 35, 35, 35, 35]), array([35, 35, 35, 35, 35, 35]), array([35, 35, 35, 35, 35, 35]), array([35, 35, 35, 35, 35, 35]), array([35, 35, 35, 35, 35, 30]), array([35, 35, 35, 35, 30, 30]), array([35, 35, 35, 30, 30, 25]), array([35, 35, 30, 30, 25, 25]), array([35, 30, 30, 25, 25, 25]), array([30, 30, 25, 25, 25, 25]), array([30, 25, 25, 25, 25, 25]), array([25, 25, 25, 25, 25, 25]), array([25, 25, 25, 25, 25, 25]), array([25, 25, 25, 25, 25, 25]), array([25, 25, 25, 25, 25, 30]), array([25, 25, 25, 25, 30, 30]), array([25, 25, 25, 30, 30, 30]), array([25, 25, 30, 30, 30, 30]), array([25, 30, 30, 30, 30, 30]), array([30, 30, 30, 30, 30, 30]), array([30, 30, 30, 30, 30, 30]), array([30, 30, 30, 30, 30, 35]), array([30, 30, 30, 30, 35, 35]), array([20, 25, 25, 25, 30, 35]), array([25, 25, 25, 30, 35, 40]), array([25, 25, 30, 35, 40, 50]), array([25, 30, 35, 40, 50, 50]), array([30, 35, 40, 50, 50, 55]), array([35, 40, 50, 50, 55, 55]), array([40, 50, 50, 55, 55, 60]), array([50, 50, 55, 55, 60, 60]), array([50, 55, 55, 60, 60, 65]), array([55, 55, 60, 60, 65, 65]), array([55, 60, 60, 65, 65, 65]), array([60, 60, 65, 65, 65, 70]), array([60, 65, 65, 65, 70, 70]), array([65, 65, 65, 70, 70, 70]), array([65, 65, 70, 70, 70, 80]), array([65, 70, 70, 70, 80, 80]), array([70, 70, 70, 80, 80, 80]), array([70, 70, 80, 80, 80, 90]), array([70, 80, 80, 80, 90, 90]), array([80, 80, 80, 90, 90, 90]), array([80, 80, 90, 90, 90, 85]), array([80, 90, 90, 90, 85, 85]), array([90, 90, 90, 85, 85, 85]), array([90, 90, 85, 85, 85, 75]), array([90, 85, 85, 85, 75, 75]), array([85, 85, 85, 75, 75, 75]), array([85, 85, 75, 75, 75, 65]), array([85, 75, 75, 75, 65, 65]), array([75, 75, 75, 65, 65, 65]), array([75, 75, 65, 65, 65, 55]), array([75, 65, 65, 65, 55, 55]), array([65, 65, 65, 55, 55, 50]), array([65, 65, 55, 55, 50, 50]), array([65, 55, 55, 50, 50, 45]), array([55, 55, 50, 50, 45, 45]), array([55, 50, 50, 45, 45, 45]), array([25, 30, 35, 50, 55, 55]), array([30, 35, 50, 55, 55, 55]), array([35, 50, 55, 55, 55, 55]), array([50, 55, 55, 55, 55, 60]), array([55, 55, 55, 55, 60, 60]), array([55, 55, 55, 60, 60, 70]), array([55, 55, 60, 60, 70, 70]), array([55, 60, 60, 70, 70, 70]), array([60, 60, 70, 70, 70, 80]), array([60, 70, 70, 70, 80, 80]), array([70, 70, 70, 80, 80, 80]), array([70, 70, 80, 80, 80, 80]), array([70, 80, 80, 80, 80, 80]), array([80, 80, 80, 80, 80, 80]), array([80, 80, 80, 80, 80, 85]), array([80, 80, 80, 80, 85, 85]), array([80, 80, 80, 85, 85, 85]), array([80, 80, 85, 85, 85, 80]), array([80, 85, 85, 85, 80, 80]), array([85, 85, 85, 80, 80, 80]), array([85, 85, 80, 80, 80, 80]), array([85, 80, 80, 80, 80, 80]), array([80, 80, 80, 80, 80, 80]), array([80, 80, 80, 80, 80, 85]), array([80, 80, 80, 80, 85, 85]), array([80, 80, 80, 85, 85, 85]), array([80, 80, 85, 85, 85, 90]), array([80, 85, 85, 85, 90, 90]), array([85, 85, 85, 90, 90, 90]), array([85, 85, 90, 90, 90, 90]), array([85, 90, 90, 90, 90, 90]), array([90, 90, 90, 90, 90, 90]), array([90, 90, 90, 90, 90, 80]), array([90, 90, 90, 90, 80, 80]), array([90, 90, 90, 80, 80, 80]), array([90, 90, 80, 80, 80, 85]), array([90, 80, 80, 80, 85, 85]), array([80, 80, 80, 85, 85, 85]), array([80, 80, 85, 85, 85, 90]), array([80, 85, 85, 85, 90, 90]), array([85, 85, 85, 90, 90, 90]), array([85, 85, 90, 90, 90, 90]), array([85, 90, 90, 90, 90, 90]), array([90, 90, 90, 90, 90, 90]), array([90, 90, 90, 90, 90, 90]), array([90, 90, 90, 90, 90, 90]), array([90, 90, 90, 90, 90, 90]), array([ 90,  90,  90,  90,  90, 100]), array([ 90,  90,  90,  90, 100, 100]), array([ 90,  90,  90, 100, 100, 100]), array([ 90,  90, 100, 100, 100, 115]), array([ 90, 100, 100, 100, 115, 115]), array([100, 100, 100, 115, 115, 115]), array([100, 100, 115, 115, 115, 125]), array([100, 115, 115, 115, 125, 125]), array([115, 115, 115, 125, 125, 125]), array([115, 115, 125, 125, 125, 120]), array([115, 125, 125, 125, 120, 120]), array([125, 125, 125, 120, 120, 120]), array([125, 125, 120, 120, 120, 110]), array([125, 120, 120, 120, 110, 110]), array([120, 120, 120, 110, 110, 110]), array([120, 120, 110, 110, 110, 100]), array([120, 110, 110, 110, 100, 100]), array([110, 110, 110, 100, 100, 100]), array([110, 110, 100, 100, 100,  90]), array([110, 100, 100, 100,  90,  90]), array([100, 100, 100,  90,  90,  90]), array([100, 100,  90,  90,  90,  80]), array([100,  90,  90,  90,  80,  80]), array([90, 90, 90, 80, 80, 80]), array([90, 90, 80, 80, 80, 75]), array([90, 80, 80, 80, 75, 70]), array([80, 80, 80, 75, 70, 70]), array([80, 80, 75, 70, 70, 70]), array([80, 75, 70, 70, 70, 65]), array([75, 70, 70, 70, 65, 55]), array([70, 70, 70, 65, 55, 55]), array([70, 70, 65, 55, 55, 40]), array([70, 65, 55, 55, 40, 35]), array([65, 55, 55, 40, 35, 35]), array([20, 25, 30, 35, 40, 40]), array([25, 30, 35, 40, 40, 40]), array([30, 35, 40, 40, 40, 45]), array([35, 40, 40, 40, 45, 45]), array([40, 40, 40, 45, 45, 45]), array([40, 40, 45, 45, 45, 45]), array([40, 45, 45, 45, 45, 50]), array([45, 45, 45, 45, 50, 50]), array([45, 45, 45, 50, 50, 50]), array([45, 45, 50, 50, 50, 50]), array([45, 50, 50, 50, 50, 55]), array([50, 50, 50, 50, 55, 55]), array([50, 50, 50, 55, 55, 55]), array([50, 50, 55, 55, 55, 55]), array([50, 55, 55, 55, 55, 60]), array([55, 55, 55, 55, 60, 60]), array([55, 55, 55, 60, 60, 65]), array([55, 55, 60, 60, 65, 65]), array([55, 60, 60, 65, 65, 65]), array([60, 60, 65, 65, 65, 65]), array([60, 65, 65, 65, 65, 70]), array([65, 65, 65, 65, 70, 70]), array([65, 65, 65, 70, 70, 70]), array([65, 65, 70, 70, 70, 70]), array([65, 70, 70, 70, 70, 70]), array([70, 70, 70, 70, 70, 70]), array([70, 70, 70, 70, 70, 70]), array([70, 70, 70, 70, 70, 70]), array([70, 70, 70, 70, 70, 70]), array([70, 70, 70, 70, 70, 65]), array([70, 70, 70, 70, 65, 65]), array([70, 70, 70, 65, 65, 65]), array([70, 70, 65, 65, 65, 60]), array([70, 65, 65, 65, 60, 60]), array([65, 65, 65, 60, 60, 55]), array([65, 65, 60, 60, 55, 55]), array([65, 60, 60, 55, 55, 50]), array([60, 60, 55, 55, 50, 50]), array([60, 55, 55, 50, 50, 45]), array([55, 55, 50, 50, 45, 40]), array([55, 50, 50, 45, 40, 30]), array([50, 50, 45, 40, 30, 25]), array([50, 45, 40, 30, 25, 20]), array([45, 40, 30, 25, 20, 20]), array([40, 30, 25, 20, 20, 20]), array([30, 30, 30, 30, 35, 40]), array([30, 30, 30, 35, 40, 45]), array([30, 30, 35, 40, 45, 45]), array([30, 35, 40, 45, 45, 45]), array([35, 40, 45, 45, 45, 50]), array([40, 45, 45, 45, 50, 50]), array([45, 45, 45, 50, 50, 50]), array([45, 45, 50, 50, 50, 50]), array([45, 50, 50, 50, 50, 45]), array([50, 50, 50, 50, 45, 45]), array([50, 50, 50, 45, 45, 40]), array([50, 50, 45, 45, 40, 40]), array([50, 45, 45, 40, 40, 40]), array([45, 45, 40, 40, 40, 45]), array([45, 40, 40, 40, 45, 45]), array([40, 40, 40, 45, 45, 45]), array([40, 40, 45, 45, 45, 45]), array([40, 45, 45, 45, 45, 50]), array([45, 45, 45, 45, 50, 50]), array([45, 45, 45, 50, 50, 55]), array([20, 20, 25, 25, 30, 35]), array([20, 25, 25, 30, 35, 45]), array([25, 25, 30, 35, 45, 45]), array([25, 30, 35, 45, 45, 45]), array([30, 35, 45, 45, 45, 50]), array([35, 45, 45, 45, 50, 50]), array([45, 45, 45, 50, 50, 55]), array([45, 45, 50, 50, 55, 55]), array([45, 50, 50, 55, 55, 60]), array([50, 50, 55, 55, 60, 60]), array([50, 55, 55, 60, 60, 65]), array([55, 55, 60, 60, 65, 65]), array([55, 60, 60, 65, 65, 65]), array([60, 60, 65, 65, 65, 70]), array([60, 65, 65, 65, 70, 70]), array([65, 65, 65, 70, 70, 70]), array([65, 65, 70, 70, 70, 75]), array([65, 70, 70, 70, 75, 75]), array([70, 70, 70, 75, 75, 75]), array([70, 70, 75, 75, 75, 85]), array([70, 75, 75, 75, 85, 85]), array([75, 75, 75, 85, 85, 85]), array([75, 75, 85, 85, 85, 90]), array([75, 85, 85, 85, 90, 90]), array([85, 85, 85, 90, 90, 90]), array([85, 85, 90, 90, 90, 95]), array([85, 90, 90, 90, 95, 95]), array([90, 90, 90, 95, 95, 95]), array([ 90,  90,  95,  95,  95, 100]), array([ 90,  95,  95,  95, 100, 100]), array([ 95,  95,  95, 100, 100, 100]), array([ 95,  95, 100, 100, 100, 115]), array([ 95, 100, 100, 100, 115, 115]), array([100, 100, 100, 115, 115, 115]), array([100, 100, 115, 115, 115, 125]), array([100, 115, 115, 115, 125, 125]), array([115, 115, 115, 125, 125, 125]), array([115, 115, 125, 125, 125, 120]), array([115, 125, 125, 125, 120, 120]), array([125, 125, 125, 120, 120, 120]), array([125, 125, 120, 120, 120, 115]), array([125, 120, 120, 120, 115, 115]), array([120, 120, 120, 115, 115, 115]), array([120, 120, 115, 115, 115, 110]), array([120, 115, 115, 115, 110, 110]), array([115, 115, 115, 110, 110, 110]), array([115, 115, 110, 110, 110, 110]), array([115, 110, 110, 110, 110, 110]), array([110, 110, 110, 110, 110, 110]), array([110, 110, 110, 110, 110, 110]), array([110, 110, 110, 110, 110, 110]), array([110, 110, 110, 110, 110, 110]), array([110, 110, 110, 110, 110, 115]), array([110, 110, 110, 110, 115, 115]), array([110, 110, 110, 115, 115, 115]), array([110, 110, 115, 115, 115, 115]), array([110, 115, 115, 115, 115, 115]), array([115, 115, 115, 115, 115, 115]), array([115, 115, 115, 115, 115, 110]), array([115, 115, 115, 115, 110, 110]), array([115, 115, 115, 110, 110, 110]), array([115, 115, 110, 110, 110, 110]), array([115, 110, 110, 110, 110, 110]), array([110, 110, 110, 110, 110, 110]), array([110, 110, 110, 110, 110, 100]), array([110, 110, 110, 110, 100, 100]), array([110, 110, 110, 100, 100, 100]), array([110, 110, 100, 100, 100,  95]), array([110, 100, 100, 100,  95,  95]), array([100, 100, 100,  95,  95,  95]), array([100, 100,  95,  95,  95,  95]), array([100,  95,  95,  95,  95,  95]), array([95, 95, 95, 95, 95, 95]), array([ 95,  95,  95,  95,  95, 100]), array([ 95,  95,  95,  95, 100, 100]), array([ 95,  95,  95, 100, 100, 100]), array([ 95,  95, 100, 100, 100, 100]), array([ 95, 100, 100, 100, 100, 100]), array([100, 100, 100, 100, 100, 100]), array([100, 100, 100, 100, 100,  95]), array([100, 100, 100, 100,  95,  95]), array([100, 100, 100,  95,  95,  95]), array([100, 100,  95,  95,  95,  90]), array([100,  95,  95,  95,  90,  90]), array([95, 95, 95, 90, 90, 90]), array([95, 95, 90, 90, 90, 80]), array([95, 90, 90, 90, 80, 80]), array([90, 90, 90, 80, 80, 80]), array([90, 90, 80, 80, 80, 75]), array([90, 80, 80, 80, 75, 75]), array([80, 80, 80, 75, 75, 75]), array([80, 80, 75, 75, 75, 70]), array([80, 75, 75, 75, 70, 70]), array([75, 75, 75, 70, 70, 70]), array([75, 75, 70, 70, 70, 65]), array([75, 70, 70, 70, 65, 65]), array([70, 70, 70, 65, 65, 65]), array([70, 70, 65, 65, 65, 55]), array([70, 65, 65, 65, 55, 55]), array([65, 65, 65, 55, 55, 55]), array([65, 65, 55, 55, 55, 55]), array([65, 55, 55, 55, 55, 55]), array([55, 55, 55, 55, 55, 55]), array([55, 55, 55, 55, 55, 55]), array([55, 55, 55, 55, 55, 55]), array([55, 55, 55, 55, 55, 55]), array([55, 55, 55, 55, 55, 55]), array([55, 55, 55, 55, 55, 55]), array([55, 55, 55, 55, 55, 55]), array([55, 55, 55, 55, 55, 55]), array([55, 55, 55, 55, 55, 55]), array([55, 55, 55, 55, 55, 55]), array([55, 55, 55, 55, 55, 55]), array([55, 55, 55, 55, 55, 55]), array([55, 55, 55, 55, 55, 55]), array([55, 55, 55, 55, 55, 55]), array([55, 55, 55, 55, 55, 55]), array([55, 55, 55, 55, 55, 50]), array([25, 30, 30, 30, 35, 40]), array([30, 30, 30, 35, 40, 45]), array([30, 30, 35, 40, 45, 50]), array([30, 35, 40, 45, 50, 50]), array([35, 40, 45, 50, 50, 60]), array([40, 45, 50, 50, 60, 60]), array([45, 50, 50, 60, 60, 70]), array([50, 50, 60, 60, 70, 70]), array([50, 60, 60, 70, 70, 70]), array([60, 60, 70, 70, 70, 90]), array([60, 70, 70, 70, 90, 90]), array([70, 70, 70, 90, 90, 90]), array([ 70,  70,  90,  90,  90, 105]), array([ 70,  90,  90,  90, 105, 105]), array([ 90,  90,  90, 105, 105, 105]), array([ 90,  90, 105, 105, 105, 100]), array([ 90, 105, 105, 105, 100, 100]), array([105, 105, 105, 100, 100, 100]), array([105, 105, 100, 100, 100, 100]), array([105, 100, 100, 100, 100, 100]), array([100, 100, 100, 100, 100, 100]), array([100, 100, 100, 100, 100,  90]), array([100, 100, 100, 100,  90,  90]), array([100, 100, 100,  90,  90,  90]), array([100, 100,  90,  90,  90,  80]), array([100,  90,  90,  90,  80,  80]), array([90, 90, 90, 80, 80, 80]), array([90, 90, 80, 80, 80, 75]), array([90, 80, 80, 80, 75, 75]), array([80, 80, 80, 75, 75, 75]), array([80, 80, 75, 75, 75, 85]), array([80, 75, 75, 75, 85, 85]), array([75, 75, 75, 85, 85, 85]), array([75, 75, 85, 85, 85, 90]), array([75, 85, 85, 85, 90, 90]), array([85, 85, 85, 90, 90, 90]), array([85, 85, 90, 90, 90, 85]), array([85, 90, 90, 90, 85, 85]), array([90, 90, 90, 85, 85, 85]), array([90, 90, 85, 85, 85, 70]), array([90, 85, 85, 85, 70, 70]), array([85, 85, 85, 70, 70, 70]), array([85, 85, 70, 70, 70, 60]), array([85, 70, 70, 70, 60, 60]), array([70, 70, 70, 60, 60, 50]), array([70, 70, 60, 60, 50, 50]), array([70, 60, 60, 50, 50, 45]), array([60, 60, 50, 50, 45, 40]), array([60, 50, 50, 45, 40, 35]), array([50, 50, 45, 40, 35, 30]), array([15, 15, 20, 25, 30, 35]), array([15, 20, 25, 30, 35, 40]), array([20, 25, 30, 35, 40, 45]), array([25, 30, 35, 40, 45, 50]), array([30, 35, 40, 45, 50, 50]), array([35, 40, 45, 50, 50, 55]), array([40, 45, 50, 50, 55, 55]), array([45, 50, 50, 55, 55, 50]), array([50, 50, 55, 55, 50, 50]), array([50, 55, 55, 50, 50, 45]), array([55, 55, 50, 50, 45, 40]), array([55, 50, 50, 45, 40, 40]), array([50, 50, 45, 40, 40, 35]), array([50, 45, 40, 40, 35, 30]), array([45, 40, 40, 35, 30, 25]), array([40, 40, 35, 30, 25, 25]), array([30, 35, 35, 45, 50, 50]), array([35, 35, 45, 50, 50, 70]), array([35, 45, 50, 50, 70, 70]), array([45, 50, 50, 70, 70, 70]), array([50, 50, 70, 70, 70, 95]), array([50, 70, 70, 70, 95, 95]), array([70, 70, 70, 95, 95, 95]), array([ 70,  70,  95,  95,  95, 100]), array([ 70,  95,  95,  95, 100, 100]), array([ 95,  95,  95, 100, 100, 100]), array([ 95,  95, 100, 100, 100, 100]), array([ 95, 100, 100, 100, 100, 100]), array([100, 100, 100, 100, 100, 100]), array([100, 100, 100, 100, 100,  90]), array([100, 100, 100, 100,  90,  90]), array([100, 100, 100,  90,  90,  90]), array([100, 100,  90,  90,  90,  80]), array([100,  90,  90,  90,  80,  80]), array([90, 90, 90, 80, 80, 80]), array([90, 90, 80, 80, 80, 65]), array([90, 80, 80, 80, 65, 65]), array([80, 80, 80, 65, 65, 65]), array([80, 80, 65, 65, 65, 50]), array([80, 65, 65, 65, 50, 50]), array([65, 65, 65, 50, 50, 30]), array([65, 65, 50, 50, 30, 25]), array([65, 50, 50, 30, 25, 25]), array([50, 50, 30, 25, 25, 25]), array([25, 25, 25, 25, 30, 30]), array([25, 25, 25, 30, 30, 30]), array([25, 25, 30, 30, 30, 30]), array([25, 30, 30, 30, 30, 30]), array([30, 30, 30, 30, 30, 30]), array([30, 30, 30, 30, 30, 30]), array([30, 30, 30, 30, 30, 30]), array([30, 30, 30, 30, 30, 30]), array([30, 30, 30, 30, 30, 30]), array([30, 30, 30, 30, 30, 30]), array([30, 30, 30, 30, 30, 30]), array([30, 30, 30, 30, 30, 25]), array([30, 30, 30, 30, 25, 25]), array([30, 30, 30, 25, 25, 25]), array([30, 30, 25, 25, 25, 25]), array([30, 25, 25, 25, 25, 25]), array([25, 25, 25, 25, 25, 25]), array([25, 25, 25, 25, 25, 25]), array([25, 25, 25, 25, 25, 30]), array([25, 25, 25, 25, 30, 35]), array([25, 25, 25, 30, 35, 40]), array([25, 25, 30, 35, 40, 40]), array([25, 30, 35, 40, 40, 35]), array([30, 35, 40, 40, 35, 30]), array([35, 40, 40, 35, 30, 30]), array([40, 40, 35, 30, 30, 30]), array([40, 35, 30, 30, 30, 30]), array([35, 30, 30, 30, 30, 30]), array([30, 30, 30, 30, 30, 30]), array([30, 30, 30, 30, 30, 25]), array([30, 30, 30, 30, 25, 25]), array([30, 30, 30, 25, 25, 25]), array([30, 30, 25, 25, 25, 25]), array([30, 25, 25, 25, 25, 25]), array([25, 25, 25, 25, 25, 25]), array([25, 25, 25, 25, 25, 25]), array([25, 25, 25, 25, 25, 30]), array([25, 25, 25, 25, 30, 35]), array([25, 25, 25, 30, 35, 35]), array([25, 25, 30, 35, 35, 40]), array([25, 30, 35, 35, 40, 40]), array([30, 35, 35, 40, 40, 45]), array([35, 35, 40, 40, 45, 45]), array([35, 40, 40, 45, 45, 45]), array([40, 40, 45, 45, 45, 50]), array([40, 45, 45, 45, 50, 50]), array([45, 45, 45, 50, 50, 55]), array([45, 45, 50, 50, 55, 55]), array([45, 50, 50, 55, 55, 55]), array([50, 50, 55, 55, 55, 55]), array([50, 55, 55, 55, 55, 50]), array([55, 55, 55, 55, 50, 50]), array([55, 55, 55, 50, 50, 45]), array([55, 55, 50, 50, 45, 45]), array([55, 50, 50, 45, 45, 40]), array([50, 50, 45, 45, 40, 40]), array([50, 45, 45, 40, 40, 40]), array([45, 45, 40, 40, 40, 40]), array([45, 40, 40, 40, 40, 40]), array([40, 40, 40, 40, 40, 35]), array([40, 40, 40, 40, 35, 30]), array([40, 40, 40, 35, 30, 25]), array([40, 40, 35, 30, 25, 20]), array([40, 35, 30, 25, 20, 20]), array([35, 30, 25, 20, 20, 20]), array([30, 25, 20, 20, 20, 20]), array([25, 20, 20, 20, 20, 20]), array([20, 20, 20, 20, 20, 20]), array([20, 30, 30, 35, 40, 45]), array([30, 30, 35, 40, 45, 50]), array([30, 35, 40, 45, 50, 50]), array([35, 40, 45, 50, 50, 45]), array([40, 45, 50, 50, 45, 40]), array([45, 50, 50, 45, 40, 40]), array([50, 50, 45, 40, 40, 40]), array([50, 45, 40, 40, 40, 35]), array([45, 40, 40, 40, 35, 35]), array([40, 40, 40, 35, 35, 35]), array([40, 40, 35, 35, 35, 35]), array([40, 35, 35, 35, 35, 30]), array([35, 35, 35, 35, 30, 25]), array([35, 35, 35, 30, 25, 25]), array([35, 35, 30, 25, 25, 25]), array([35, 30, 25, 25, 25, 20]), array([30, 25, 25, 25, 20, 20]), array([20, 20, 25, 30, 30, 30]), array([20, 25, 30, 30, 30, 30]), array([25, 30, 30, 30, 30, 30]), array([30, 30, 30, 30, 30, 30]), array([30, 30, 30, 30, 30, 30]), array([30, 30, 30, 30, 30, 30]), array([30, 30, 30, 30, 30, 35]), array([30, 30, 30, 30, 35, 40]), array([30, 30, 30, 35, 40, 45]), array([30, 30, 35, 40, 45, 55]), array([30, 35, 40, 45, 55, 55]), array([35, 40, 45, 55, 55, 65]), array([40, 45, 55, 55, 65, 65]), array([45, 55, 55, 65, 65, 65]), array([55, 55, 65, 65, 65, 75]), array([55, 65, 65, 65, 75, 75]), array([65, 65, 65, 75, 75, 75]), array([65, 65, 75, 75, 75, 90]), array([65, 75, 75, 75, 90, 90]), array([75, 75, 75, 90, 90, 90]), array([75, 75, 90, 90, 90, 85]), array([75, 90, 90, 90, 85, 85]), array([90, 90, 90, 85, 85, 85]), array([90, 90, 85, 85, 85, 75]), array([90, 85, 85, 85, 75, 75]), array([85, 85, 85, 75, 75, 75]), array([85, 85, 75, 75, 75, 65]), array([85, 75, 75, 75, 65, 65]), array([75, 75, 75, 65, 65, 65]), array([75, 75, 65, 65, 65, 60]), array([75, 65, 65, 65, 60, 60]), array([65, 65, 65, 60, 60, 55]), array([65, 65, 60, 60, 55, 55]), array([65, 60, 60, 55, 55, 50]), array([25, 25, 30, 30, 30, 35]), array([25, 30, 30, 30, 35, 45]), array([30, 30, 30, 35, 45, 45]), array([30, 30, 35, 45, 45, 45]), array([30, 35, 45, 45, 45, 45]), array([35, 45, 45, 45, 45, 40]), array([45, 45, 45, 45, 40, 40]), array([45, 45, 45, 40, 40, 40]), array([45, 45, 40, 40, 40, 40]), array([45, 40, 40, 40, 40, 35]), array([40, 40, 40, 40, 35, 30]), array([40, 40, 40, 35, 30, 30]), array([40, 40, 35, 30, 30, 30]), array([40, 35, 30, 30, 30, 25]), array([35, 30, 30, 30, 25, 25]), array([30, 30, 30, 25, 25, 25]), array([20, 20, 25, 25, 30, 30]), array([20, 25, 25, 30, 30, 30]), array([25, 25, 30, 30, 30, 30]), array([25, 30, 30, 30, 30, 35]), array([30, 30, 30, 30, 35, 40]), array([30, 30, 30, 35, 40, 45]), array([30, 30, 35, 40, 45, 45]), array([30, 35, 40, 45, 45, 45]), array([35, 40, 45, 45, 45, 55]), array([40, 45, 45, 45, 55, 55]), array([45, 45, 45, 55, 55, 55]), array([45, 45, 55, 55, 55, 55]), array([45, 55, 55, 55, 55, 45]), array([55, 55, 55, 55, 45, 40]), array([55, 55, 55, 45, 40, 35]), array([55, 55, 45, 40, 35, 30]), array([55, 45, 40, 35, 30, 25]), array([45, 40, 35, 30, 25, 20]), array([40, 35, 30, 25, 20, 25]), array([35, 30, 25, 20, 25, 20]), array([30, 25, 20, 25, 20, 20]), array([25, 20, 25, 20, 20, 20]), array([20, 25, 20, 20, 20, 20]), array([25, 20, 20, 20, 20, 20]), array([20, 20, 20, 20, 20, 20]), array([20, 20, 20, 20, 20, 20]), array([20, 20, 20, 20, 20, 20]), array([20, 20, 20, 20, 20, 20]), array([20, 20, 20, 20, 20, 20]), array([20, 20, 20, 20, 20, 20]), array([20, 20, 20, 20, 20, 20]), array([20, 20, 20, 20, 20, 25]), array([20, 20, 20, 20, 25, 25]), array([20, 20, 20, 25, 25, 30]), array([20, 20, 25, 25, 30, 30]), array([20, 25, 25, 30, 30, 30]), array([25, 25, 30, 30, 30, 40]), array([25, 30, 30, 30, 40, 35]), array([30, 30, 30, 40, 35, 30]), array([30, 30, 40, 35, 30, 25]), array([30, 40, 35, 30, 25, 20]), array([40, 35, 30, 25, 20, 30]), array([35, 30, 25, 20, 30, 35]), array([30, 25, 20, 30, 35, 35]), array([25, 20, 30, 35, 35, 45]), array([20, 30, 35, 35, 45, 50]), array([30, 35, 35, 45, 50, 55]), array([35, 35, 45, 50, 55, 55]), array([35, 45, 50, 55, 55, 60]), array([45, 50, 55, 55, 60, 60]), array([50, 55, 55, 60, 60, 65]), array([55, 55, 60, 60, 65, 65]), array([55, 60, 60, 65, 65, 70]), array([60, 60, 65, 65, 70, 70]), array([60, 65, 65, 70, 70, 70]), array([65, 65, 70, 70, 70, 85]), array([65, 70, 70, 70, 85, 85]), array([70, 70, 70, 85, 85, 85]), array([70, 70, 85, 85, 85, 85]), array([70, 85, 85, 85, 85, 85]), array([85, 85, 85, 85, 85, 85]), array([85, 85, 85, 85, 85, 80]), array([85, 85, 85, 85, 80, 80]), array([85, 85, 85, 80, 80, 80]), array([85, 85, 80, 80, 80, 80]), array([85, 80, 80, 80, 80, 80]), array([80, 80, 80, 80, 80, 80]), array([80, 80, 80, 80, 80, 75]), array([80, 80, 80, 80, 75, 75]), array([80, 80, 80, 75, 75, 75]), array([80, 80, 75, 75, 75, 80]), array([80, 75, 75, 75, 80, 80]), array([75, 75, 75, 80, 80, 80]), array([75, 75, 80, 80, 80, 80]), array([75, 80, 80, 80, 80, 80]), array([80, 80, 80, 80, 80, 80]), array([80, 80, 80, 80, 80, 75]), array([80, 80, 80, 80, 75, 75]), array([80, 80, 80, 75, 75, 75]), array([80, 80, 75, 75, 75, 70]), array([80, 75, 75, 75, 70, 70]), array([75, 75, 75, 70, 70, 70]), array([75, 75, 70, 70, 70, 60]), array([75, 70, 70, 70, 60, 60]), array([70, 70, 70, 60, 60, 45]), array([70, 70, 60, 60, 45, 35]), array([70, 60, 60, 45, 35, 30]), array([60, 60, 45, 35, 30, 30]), array([60, 45, 35, 30, 30, 30]), array([45, 35, 30, 30, 30, 30]), array([35, 30, 30, 30, 30, 25]), array([30, 30, 30, 30, 25, 25]), array([30, 30, 30, 25, 25, 30]), array([30, 30, 25, 25, 30, 30]), array([30, 25, 25, 30, 30, 30]), array([25, 25, 30, 30, 30, 25]), array([25, 30, 30, 30, 25, 25]), array([30, 30, 30, 25, 25, 25]), array([30, 30, 25, 25, 25, 25]), array([30, 25, 25, 25, 25, 25]), array([25, 25, 25, 25, 25, 25]), array([25, 25, 25, 25, 25, 20]), array([25, 25, 25, 25, 20, 20]), array([25, 25, 25, 20, 20, 20]), array([25, 25, 20, 20, 20, 20]), array([25, 20, 20, 20, 20, 20]), array([20, 20, 20, 20, 20, 20]), array([20, 20, 20, 20, 20, 20]), array([20, 20, 20, 20, 20, 20]), array([20, 20, 20, 20, 20, 15]), array([20, 20, 20, 20, 15, 15]), array([20, 20, 20, 15, 15, 15]), array([20, 20, 15, 15, 15, 15]), array([15, 25, 25, 15, 25, 25]), array([25, 25, 15, 25, 25, 25]), array([25, 15, 25, 25, 25, 25]), array([15, 25, 25, 25, 25, 25]), array([25, 25, 25, 25, 25, 30]), array([25, 25, 25, 25, 30, 30]), array([25, 25, 25, 30, 30, 40]), array([25, 25, 30, 30, 40, 40]), array([25, 30, 30, 40, 40, 40]), array([30, 30, 40, 40, 40, 45]), array([30, 40, 40, 40, 45, 45]), array([40, 40, 40, 45, 45, 40]), array([40, 40, 45, 45, 40, 30]), array([40, 45, 45, 40, 30, 40]), array([45, 45, 40, 30, 40, 40]), array([45, 40, 30, 40, 40, 45]), array([40, 30, 40, 40, 45, 45]), array([30, 40, 40, 45, 45, 45]), array([40, 40, 45, 45, 45, 45]), array([40, 45, 45, 45, 45, 50]), array([45, 45, 45, 45, 50, 50]), array([45, 45, 45, 50, 50, 55]), array([45, 45, 50, 50, 55, 55]), array([45, 50, 50, 55, 55, 55]), array([50, 50, 55, 55, 55, 55]), array([50, 55, 55, 55, 55, 50]), array([55, 55, 55, 55, 50, 50]), array([55, 55, 55, 50, 50, 45]), array([55, 55, 50, 50, 45, 45]), array([55, 50, 50, 45, 45, 40]), array([50, 50, 45, 45, 40, 40]), array([50, 45, 45, 40, 40, 40]), array([45, 45, 40, 40, 40, 45]), array([45, 40, 40, 40, 45, 45]), array([40, 40, 40, 45, 45, 40]), array([40, 40, 45, 45, 40, 35]), array([40, 45, 45, 40, 35, 35]), array([45, 45, 40, 35, 35, 35]), array([45, 40, 35, 35, 35, 40]), array([40, 35, 35, 35, 40, 35]), array([35, 35, 35, 40, 35, 35]), array([35, 35, 40, 35, 35, 30]), array([35, 40, 35, 35, 30, 25]), array([40, 35, 35, 30, 25, 25]), array([35, 35, 30, 25, 25, 25]), array([35, 30, 25, 25, 25, 25]), array([30, 25, 25, 25, 25, 25]), array([20, 20, 25, 25, 25, 30]), array([20, 25, 25, 25, 30, 35]), array([25, 25, 25, 30, 35, 35]), array([25, 25, 30, 35, 35, 35]), array([25, 30, 35, 35, 35, 35]), array([30, 35, 35, 35, 35, 40]), array([35, 35, 35, 35, 40, 45]), array([35, 35, 35, 40, 45, 50]), array([35, 35, 40, 45, 50, 45]), array([35, 40, 45, 50, 45, 40]), array([40, 45, 50, 45, 40, 35]), array([45, 50, 45, 40, 35, 30]), array([50, 45, 40, 35, 30, 30]), array([45, 40, 35, 30, 30, 30]), array([40, 35, 30, 30, 30, 30]), array([35, 30, 30, 30, 30, 30]), array([30, 30, 30, 30, 30, 35]), array([30, 30, 30, 30, 35, 40]), array([30, 30, 30, 35, 40, 50]), array([30, 30, 35, 40, 50, 50]), array([30, 35, 40, 50, 50, 45]), array([35, 40, 50, 50, 45, 45]), array([40, 50, 50, 45, 45, 40]), array([50, 50, 45, 45, 40, 35]), array([50, 45, 45, 40, 35, 30]), array([45, 45, 40, 35, 30, 25]), array([45, 40, 35, 30, 25, 25]), array([40, 35, 30, 25, 25, 25]), array([35, 30, 25, 25, 25, 20]), array([30, 25, 25, 25, 20, 20]), array([35, 35, 35, 40, 35, 30]), array([25, 25, 25, 30, 35, 40]), array([25, 25, 30, 35, 40, 45]), array([25, 30, 35, 40, 45, 50]), array([30, 35, 40, 45, 50, 50]), array([35, 40, 45, 50, 50, 50]), array([40, 45, 50, 50, 50, 50]), array([45, 50, 50, 50, 50, 50]), array([50, 50, 50, 50, 50, 55]), array([50, 50, 50, 50, 55, 55]), array([50, 50, 50, 55, 55, 55]), array([50, 50, 55, 55, 55, 55]), array([50, 55, 55, 55, 55, 60]), array([55, 55, 55, 55, 60, 60]), array([55, 55, 55, 60, 60, 60]), array([55, 55, 60, 60, 60, 60]), array([55, 60, 60, 60, 60, 60]), array([60, 60, 60, 60, 60, 60]), array([60, 60, 60, 60, 60, 60]), array([60, 60, 60, 60, 60, 60]), array([60, 60, 60, 60, 60, 65]), array([60, 60, 60, 60, 65, 65]), array([60, 60, 60, 65, 65, 65]), array([60, 60, 65, 65, 65, 65]), array([60, 65, 65, 65, 65, 65]), array([65, 65, 65, 65, 65, 65]), array([65, 65, 65, 65, 65, 65]), array([65, 65, 65, 65, 65, 65]), array([65, 65, 65, 65, 65, 65]), array([65, 65, 65, 65, 65, 65]), array([65, 65, 65, 65, 65, 65]), array([65, 65, 65, 65, 65, 65]), array([65, 65, 65, 65, 65, 65]), array([65, 65, 65, 65, 65, 65]), array([65, 65, 65, 65, 65, 65]), array([65, 65, 65, 65, 65, 60]), array([65, 65, 65, 65, 60, 60]), array([65, 65, 65, 60, 60, 55]), array([65, 65, 60, 60, 55, 55]), array([65, 60, 60, 55, 55, 55]), array([60, 60, 55, 55, 55, 55]), array([60, 55, 55, 55, 55, 55]), array([55, 55, 55, 55, 55, 55]), array([55, 55, 55, 55, 55, 50]), array([55, 55, 55, 55, 50, 50]), array([55, 55, 55, 50, 50, 50]), array([55, 55, 50, 50, 50, 50]), array([55, 50, 50, 50, 50, 45]), array([50, 50, 50, 50, 45, 45]), array([50, 50, 50, 45, 45, 50]), array([50, 50, 45, 45, 50, 50]), array([50, 45, 45, 50, 50, 55]), array([45, 45, 50, 50, 55, 55]), array([45, 50, 50, 55, 55, 75]), array([50, 50, 55, 55, 75, 75]), array([50, 55, 55, 75, 75, 75]), array([55, 55, 75, 75, 75, 75]), array([55, 75, 75, 75, 75, 75]), array([75, 75, 75, 75, 75, 75]), array([75, 75, 75, 75, 75, 75]), array([75, 75, 75, 75, 75, 75]), array([75, 75, 75, 75, 75, 75]), array([75, 75, 75, 75, 75, 70]), array([75, 75, 75, 75, 70, 70]), array([75, 75, 75, 70, 70, 70]), array([75, 75, 70, 70, 70, 65]), array([75, 70, 70, 70, 65, 65]), array([70, 70, 70, 65, 65, 65]), array([70, 70, 65, 65, 65, 65]), array([70, 65, 65, 65, 65, 65]), array([65, 65, 65, 65, 65, 65]), array([65, 65, 65, 65, 65, 60]), array([65, 65, 65, 65, 60, 60]), array([65, 65, 65, 60, 60, 60]), array([65, 65, 60, 60, 60, 60]), array([65, 60, 60, 60, 60, 55]), array([60, 60, 60, 60, 55, 55]), array([60, 60, 60, 55, 55, 55]), array([60, 60, 55, 55, 55, 55]), array([60, 55, 55, 55, 55, 50]), array([55, 55, 55, 55, 50, 50]), array([55, 55, 55, 50, 50, 50]), array([55, 55, 50, 50, 50, 45]), array([55, 50, 50, 50, 45, 40]), array([50, 50, 50, 45, 40, 35]), array([50, 50, 45, 40, 35, 35]), array([50, 45, 40, 35, 35, 35]), array([45, 40, 35, 35, 35, 40]), array([40, 35, 35, 35, 40, 40]), array([35, 35, 35, 40, 40, 40]), array([35, 35, 40, 40, 40, 45]), array([35, 40, 40, 40, 45, 45]), array([40, 40, 40, 45, 45, 45]), array([40, 40, 45, 45, 45, 45]), array([40, 45, 45, 45, 45, 40]), array([45, 45, 45, 45, 40, 35]), array([45, 45, 45, 40, 35, 25]), array([45, 45, 40, 35, 25, 25]), array([45, 40, 35, 25, 25, 20]), array([40, 35, 25, 25, 20, 20]), array([35, 25, 25, 20, 20, 20]), array([25, 25, 20, 20, 20, 20]), array([25, 20, 20, 20, 20, 20]), array([20, 20, 20, 20, 20, 20]), array([20, 20, 20, 20, 20, 20]), array([20, 20, 20, 20, 20, 20]), array([20, 20, 20, 20, 20, 20]), array([25, 30, 35, 40, 45, 55]), array([30, 35, 40, 45, 55, 55]), array([35, 40, 45, 55, 55, 70]), array([40, 45, 55, 55, 70, 70]), array([45, 55, 55, 70, 70, 70]), array([55, 55, 70, 70, 70, 75]), array([55, 70, 70, 70, 75, 75]), array([70, 70, 70, 75, 75, 75]), array([70, 70, 75, 75, 75, 80]), array([70, 75, 75, 75, 80, 80]), array([75, 75, 75, 80, 80, 80]), array([75, 75, 80, 80, 80, 85]), array([75, 80, 80, 80, 85, 85]), array([80, 80, 80, 85, 85, 85]), array([80, 80, 85, 85, 85, 95]), array([80, 85, 85, 85, 95, 95]), array([85, 85, 85, 95, 95, 95]), array([ 85,  85,  95,  95,  95, 100]), array([ 85,  95,  95,  95, 100, 100]), array([ 95,  95,  95, 100, 100, 100]), array([ 95,  95, 100, 100, 100,  95]), array([ 95, 100, 100, 100,  95,  95]), array([100, 100, 100,  95,  95,  95]), array([100, 100,  95,  95,  95,  85]), array([100,  95,  95,  95,  85,  85]), array([95, 95, 95, 85, 85, 85]), array([95, 95, 85, 85, 85, 70]), array([95, 85, 85, 85, 70, 70]), array([85, 85, 85, 70, 70, 70]), array([85, 85, 70, 70, 70, 65]), array([85, 70, 70, 70, 65, 65]), array([70, 70, 70, 65, 65, 65]), array([70, 70, 65, 65, 65, 60]), array([70, 65, 65, 65, 60, 60]), array([65, 65, 65, 60, 60, 55]), array([65, 65, 60, 60, 55, 55]), array([25, 30, 30, 30, 35, 35]), array([30, 30, 30, 35, 35, 35]), array([30, 30, 35, 35, 35, 25]), array([30, 35, 35, 35, 25, 25]), array([35, 35, 35, 25, 25, 30]), array([35, 35, 25, 25, 30, 30]), array([35, 25, 25, 30, 30, 30]), array([25, 25, 30, 30, 30, 35]), array([25, 30, 30, 30, 35, 45]), array([30, 30, 30, 35, 45, 55]), array([30, 30, 35, 45, 55, 55]), array([30, 35, 45, 55, 55, 65]), array([35, 45, 55, 55, 65, 65]), array([45, 55, 55, 65, 65, 90]), array([55, 55, 65, 65, 90, 90]), array([55, 65, 65, 90, 90, 90]), array([65, 65, 90, 90, 90, 95]), array([65, 90, 90, 90, 95, 95]), array([90, 90, 90, 95, 95, 95]), array([ 90,  90,  95,  95,  95, 105]), array([ 90,  95,  95,  95, 105, 105]), array([ 95,  95,  95, 105, 105, 105]), array([ 95,  95, 105, 105, 105,  90]), array([ 95, 105, 105, 105,  90,  90]), array([105, 105, 105,  90,  90,  90]), array([105, 105,  90,  90,  90,  80]), array([105,  90,  90,  90,  80,  80]), array([90, 90, 90, 80, 80, 80]), array([90, 90, 80, 80, 80, 65]), array([90, 80, 80, 80, 65, 65]), array([80, 80, 80, 65, 65, 65]), array([80, 80, 65, 65, 65, 60]), array([80, 65, 65, 65, 60, 60]), array([65, 65, 65, 60, 60, 45]), array([65, 65, 60, 60, 45, 50]), array([65, 60, 60, 45, 50, 50]), array([60, 60, 45, 50, 50, 55]), array([60, 45, 50, 50, 55, 55]), array([45, 50, 50, 55, 55, 65]), array([50, 50, 55, 55, 65, 65]), array([50, 55, 55, 65, 65, 70]), array([55, 55, 65, 65, 70, 70]), array([55, 65, 65, 70, 70, 70]), array([65, 65, 70, 70, 70, 80]), array([65, 70, 70, 70, 80, 80]), array([70, 70, 70, 80, 80, 80]), array([70, 70, 80, 80, 80, 90]), array([70, 80, 80, 80, 90, 90]), array([80, 80, 80, 90, 90, 90]), array([80, 80, 90, 90, 90, 95]), array([80, 90, 90, 90, 95, 95]), array([90, 90, 90, 95, 95, 95]), array([ 90,  90,  95,  95,  95, 110]), array([ 90,  95,  95,  95, 110, 110]), array([ 95,  95,  95, 110, 110, 110]), array([ 95,  95, 110, 110, 110, 105]), array([ 95, 110, 110, 110, 105, 105]), array([110, 110, 110, 105, 105, 105]), array([110, 110, 105, 105, 105,  95]), array([110, 105, 105, 105,  95,  95]), array([105, 105, 105,  95,  95,  95]), array([105, 105,  95,  95,  95,  75]), array([105,  95,  95,  95,  75,  75]), array([95, 95, 95, 75, 75, 75]), array([95, 95, 75, 75, 75, 60]), array([95, 75, 75, 75, 60, 60]), array([75, 75, 75, 60, 60, 50]), array([75, 75, 60, 60, 50, 50]), array([75, 60, 60, 50, 50, 45]), array([60, 60, 50, 50, 45, 35]), array([60, 50, 50, 45, 35, 30]), array([50, 50, 45, 35, 30, 30]), array([50, 45, 35, 30, 30, 20]), array([45, 35, 30, 30, 20, 20]), array([15, 20, 25, 30, 35, 40]), array([20, 25, 30, 35, 40, 45]), array([25, 30, 35, 40, 45, 55]), array([30, 35, 40, 45, 55, 55]), array([35, 40, 45, 55, 55, 55]), array([40, 45, 55, 55, 55, 55]), array([45, 55, 55, 55, 55, 60]), array([55, 55, 55, 55, 60, 60]), array([55, 55, 55, 60, 60, 55]), array([55, 55, 60, 60, 55, 55]), array([55, 60, 60, 55, 55, 50]), array([60, 60, 55, 55, 50, 45]), array([60, 55, 55, 50, 45, 45]), array([55, 55, 50, 45, 45, 40]), array([55, 50, 45, 45, 40, 35]), array([50, 45, 45, 40, 35, 30]), array([45, 45, 40, 35, 30, 35]), array([45, 40, 35, 30, 35, 30]), array([40, 35, 30, 35, 30, 25]), array([35, 30, 35, 30, 25, 25]), array([30, 35, 30, 25, 25, 25]), array([35, 30, 25, 25, 25, 25]), array([30, 25, 25, 25, 25, 20]), array([25, 25, 25, 25, 20, 20])]\n",
            "Length of Test Y (for evaluation): [0, 0, 0, 0, 0, 0, 0, 0, 0, 0, 0, 0, 0, 0, 0, 0, 0, 0, 0, 0, 0, 0, 0, 0, 0, 0, 0, 0, 0, 0, 0, 0, 0, 0, 0, 0, 0, 0, 0, 0, 0, 0, 0, 0, 0, 0, 0, 0, 0, 0, 0, 0, 0, 0, 0, 0, 0, 0, 0, 0, 0, 0, 0, 0, 0, 0, 0, 0, 0, 0, 0, 0, 1, 0, 0, 0, 0, 0, 0, 0, 0, 0, 0, 0, 0, 0, 0, 0, 0, 0, 0, 0, 0, 0, 0, 0, 0, 0, 0, 0, 0, 0, 0, 0, 0, 0, 0, 0, 0, 0, 0, 0, 0, 0, 0, 0, 0, 0, 0, 0, 0, 0, 0, 0, 0, 0, 0, 0, 0, 0, 0, 0, 0, 0, 0, 0, 0, 0, 0, 0, 0, 0, 0, 0, 0, 0, 0, 0, 0, 0, 0, 0, 0, 0, 0, 0, 0, 0, 0, 0, 0, 0, 0, 0, 0, 0, 0, 0, 0, 0, 0, 0, 0, 0, 0, 0, 0, 0, 0, 0, 0, 0, 0, 0, 0, 0, 0, 0, 0, 0, 0, 0, 0, 0, 0, 0, 0, 0, 0, 0, 0, 0, 0, 0, 0, 0, 0, 0, 0, 0, 0, 0, 0, 0, 0, 0, 0, 0, 0, 0, 0, 0, 0, 0, 0, 0, 0, 0, 0, 0, 0, 0, 0, 0, 0, 0, 0, 0, 0, 0, 0, 0, 0, 0, 0, 0, 0, 0, 0, 0, 0, 0, 0, 0, 0, 0, 0, 0, 0, 0, 0, 0, 0, 0, 0, 0, 0, 0, 0, 0, 0, 0, 0, 0, 0, 0, 0, 0, 0, 0, 0, 0, 0, 0, 0, 0, 0, 0, 0, 0, 1, 0, 0, 0, 0, 0, 0, 0, 0, 0, 0, 0, 0, 0, 0, 0, 0, 0, 0, 0, 0, 0, 0, 0, 0, 0, 0, 0, 0, 0, 0, 0, 0, 0, 0, 0, 0, 0, 0, 0, 0, 0, 0, 0, 0, 0, 0, 0, 0, 0, 0, 0, 0, 0, 0, 0, 0, 0, 0, 0, 0, 0, 0, 0, 0, 0, 0, 0, 0, 0, 0, 0, 0, 0, 0, 0, 0, 0, 0, 0, 0, 0, 0, 0, 0, 0, 0, 0, 0, 0, 0, 0, 0, 0, 0, 0, 0, 0, 0, 0, 0, 0, 0, 0, 0, 0, 0, 0, 0, 0, 0, 0, 0, 0, 0, 0, 0, 0, 0, 0, 0, 0, 0, 0, 0, 0, 0, 0, 0, 0, 0, 0, 0, 0, 0, 0, 0, 0, 0, 0, 0, 0, 0, 0, 0, 0, 0, 0, 0, 0, 0, 0, 0, 0, 0, 0, 0, 0, 0, 0, 0, 0, 0, 0, 0, 0, 0, 0, 0, 0, 0, 0, 0, 0, 0, 0, 0, 0, 0, 0, 0, 0, 0, 0, 0, 0, 0, 0, 0, 0, 0, 0, 0, 0, 0, 0, 0, 0, 0, 0, 0, 0, 0, 0, 0, 0, 0, 0, 0, 0, 0, 0, 0, 0, 0, 0, 0, 0, 0, 0, 0, 0, 0, 0, 0, 0, 0, 0, 0, 0, 0, 0, 0, 0, 0, 0, 0, 0, 0, 0, 0, 0, 0, 0, 0, 0, 0, 0, 0, 0, 0, 0, 0, 0, 0, 0, 0, 0, 0, 0, 0, 0, 0, 1, 0, 0, 0, 0, 0, 0, 0, 0, 0, 0, 0, 0, 0, 0, 0, 0, 0, 0, 0, 0, 0, 0, 0, 0, 0, 0, 0, 0, 0, 0, 0, 0, 0, 0, 0, 0, 0, 0, 0, 0, 0, 0, 0, 0, 0, 0, 0, 0, 0, 0, 0, 0, 0, 0, 0, 0, 0, 0, 0, 0, 0, 0, 0, 0, 0, 0, 0, 0, 0, 0, 0, 0, 0, 0, 0, 0, 0, 0, 0, 0, 0, 0, 0, 0, 0, 0, 0, 0, 0, 0, 0, 0, 0, 0, 0, 0, 0, 0, 0, 0, 0, 0, 0, 0, 0, 1, 1, 1, 1, 0, 1, 0, 0, 1, 0, 0, 0, 0, 0, 0, 0, 0, 0, 0, 0, 0, 0, 0, 0, 0, 0, 0, 0, 0, 0, 0, 0, 0, 0, 0, 0, 0, 0, 0, 0, 0, 0, 0, 0, 0, 0, 0, 0, 0, 0, 0, 0, 0, 0, 0, 0, 0, 0, 0, 0, 0, 0, 0, 0, 0, 0, 0, 0, 0, 0, 0, 0, 0, 0, 0, 0, 0, 0, 0, 0, 0, 0, 0, 0, 0, 0, 0, 0, 0, 0, 0, 0, 0, 0, 0, 0, 0, 0, 0, 0, 0, 0, 0, 0, 0, 0, 0, 0, 0, 0, 0, 0, 0, 0, 0, 0, 0, 0, 0, 0, 0, 0, 0, 0, 0, 0, 0, 0, 0, 0, 0, 0, 0, 0, 0, 0, 0, 0, 0, 0, 0, 0, 0, 0, 1, 0, 0, 0, 0, 0, 0, 0, 0, 0, 0, 0, 0, 0, 0, 0, 0, 0, 0, 0, 0, 0, 0, 0, 0, 0, 0, 0, 0, 0, 0, 0, 0, 0, 0, 0, 0, 0, 0, 0, 0, 0, 0, 0, 0, 0, 0, 0, 0, 0, 0, 0, 0, 0, 0, 0, 0, 0, 0, 0, 0, 0, 0, 0, 0, 0, 0, 0, 0, 0, 0, 0, 0, 0, 0, 0, 0, 0, 0, 0, 0, 0, 0, 0, 0, 0, 0, 0, 0, 0, 0, 0, 0, 0, 0, 0, 0, 0, 0, 0, 0, 0, 0, 0, 0, 0, 0, 0, 0, 0, 0, 0, 0, 0, 0, 0, 0, 0, 0, 0, 0, 0, 0, 0, 0, 0, 0, 0, 0, 0, 0, 0, 0, 0, 0, 0, 0, 0, 0, 0, 0, 1, 1, 0, 0, 0, 0, 0, 0, 0, 0, 0, 0, 0, 0, 0, 0, 0, 0, 0, 0, 0, 0, 0, 0, 0, 0, 0, 0, 0, 0, 0, 0, 0, 0, 0, 0, 0, 0, 0, 0, 0, 0, 0, 0, 0, 0, 0, 0, 0, 0, 0, 0, 0, 0, 0, 0, 0, 0, 0, 0, 0, 0, 0, 0, 0, 0, 0, 0, 0, 0, 0, 0, 0, 0, 0, 0, 0, 0, 0, 0, 0, 0, 0, 0, 0, 0, 0, 0, 0, 0, 0, 0, 0, 0, 0, 0, 0, 0, 0, 0, 0, 0, 0, 0, 0, 0, 0, 0, 0, 0, 0, 0, 0, 0, 0, 0, 0, 0, 0, 0, 0, 0, 0, 0, 0, 0, 0, 0, 0, 0, 0, 0, 0, 0, 0, 0, 0, 0, 0, 0, 0, 0, 0, 0, 0, 0, 0, 0, 0, 0, 0, 0, 0, 0, 0, 0, 0, 0, 0, 0, 0, 0, 0, 0, 0, 0, 0, 0, 0, 0, 0, 0, 0, 0, 0, 0, 0, 0, 0, 0, 0, 0, 0, 0, 0, 0, 0, 0, 0, 0, 0, 0, 0, 0, 0, 0, 0, 0, 0, 0, 1, 0, 0, 1, 0, 0, 0, 0, 0, 0, 0, 0, 0, 0, 0, 0, 0, 0, 0, 0, 0, 0, 0, 0, 0, 0, 0, 0, 0, 0, 0, 0, 0, 0, 0, 0, 0, 0, 0, 0, 0, 0, 0, 0, 0, 0, 0, 0, 0, 0, 0, 0, 0, 0, 0, 0, 0, 0, 0, 0, 0, 0, 0, 0, 0, 0, 0, 0, 0, 0, 0, 0, 0, 0, 0, 0, 0, 0, 0, 0, 0, 0, 0, 0, 0, 0, 0, 0, 0, 0, 0, 0, 0, 0, 0, 0, 0, 0, 0, 0, 0, 0, 0, 0, 0, 0, 0, 0, 0, 0, 0, 0, 0, 0, 0, 0, 0, 0, 0, 0, 0, 0, 0, 0, 0, 0, 0, 0, 0, 0, 0, 0, 0, 0, 0, 0, 0, 0, 0, 0, 0, 0, 0, 0, 0, 0, 0, 0, 0, 0, 0, 0, 0, 0, 0, 0, 0, 0, 0, 0, 0, 0, 0, 0, 0, 0, 0, 0, 0, 0, 0, 0, 0, 0, 0, 0, 0, 1, 0, 0, 1, 1, 0, 0, 0, 0, 0, 0, 0, 0, 0, 0, 0, 0, 0, 0, 0, 0, 0, 0, 0, 0, 0, 0, 0, 0, 0, 0, 0, 0, 0, 0, 0, 0, 0, 0, 0, 0, 0, 0, 0, 0, 0, 0, 0, 0, 0, 0, 0, 0, 0, 0, 0, 0, 0, 0, 0, 0, 0, 0, 0, 0, 0, 0, 0, 0, 0, 0, 0, 0, 0, 0, 0, 0, 0, 0, 0, 0, 0, 0, 0, 0, 0, 0, 0, 0, 0, 0, 0, 0, 0, 0, 0, 0, 0, 0, 0, 1, 0, 0, 0, 0, 0, 0, 0, 0, 0, 0, 0, 0, 0, 0, 0, 0, 0, 0, 0, 0, 0, 0, 0, 0, 0, 0, 0, 0, 0, 0, 0, 0, 0, 0, 0, 0, 0, 0, 0, 0, 0, 0, 0, 0, 0, 0, 0, 0, 0, 0, 0, 0, 0, 0, 0, 0, 0, 0, 0, 0, 0, 0, 0, 0, 0, 0, 0, 0, 0, 0, 0, 0, 0, 0, 0, 0, 0, 0, 0, 0, 0, 0, 0, 0, 0, 0, 0, 0, 0, 0, 0, 0, 0, 0, 0, 0, 0, 0, 0, 0, 0, 0, 0, 0, 0, 0, 0, 0, 0, 0, 0, 0, 0, 0, 0, 0, 0, 0, 0, 0, 0, 0, 0, 0, 0, 0, 0, 0, 0, 0, 0, 0, 0, 0, 0, 0, 0, 0, 0, 0, 0, 0, 0, 0, 0, 0, 0, 0, 0, 0, 0, 0, 0, 0, 0, 0, 0, 0, 0, 0, 0, 0, 0, 0, 0, 0, 0, 0, 0, 0, 0, 0, 0, 0, 0, 0, 0, 0, 0, 0, 0, 0, 0, 0, 0, 0, 0, 0, 0, 0, 0, 0, 0, 0, 0, 0, 0, 0, 0, 0, 0, 0, 0, 0, 0, 0, 0, 0, 0, 0, 0, 0, 0, 0, 0, 0, 0, 0, 0, 0, 0, 0, 0, 0, 0, 0, 0, 0, 0, 0, 0, 0, 0, 0, 0, 0, 0, 0, 0, 0, 0, 0, 0, 0, 0, 0, 0, 0, 0, 0, 0, 0, 0, 0, 0, 0, 0, 0, 0, 0, 0, 0, 0, 0, 0, 0, 0, 0, 0, 0, 0, 0, 0, 0, 0, 0, 0, 0, 0, 0, 0, 0, 0, 0, 0, 0, 0, 0, 0, 0, 0, 0, 0, 0, 0, 0, 0, 0, 0, 0, 0, 0, 0, 0, 0, 0, 0, 0, 0, 0, 0, 0, 0, 0, 0, 0, 0, 0, 0, 0, 0, 0, 0, 0, 0, 0, 0, 0, 0, 0, 0, 0, 0, 0, 0, 0, 0, 0, 0, 0, 0, 0, 0, 0, 0, 0, 0, 0, 0, 0, 1, 0, 0, 1, 0, 0, 0, 0, 0, 0, 0, 0, 0, 0, 0, 0, 0, 0, 0, 0, 0, 0, 0, 0, 0, 0, 0, 0, 0, 0, 0, 0, 0, 0, 0, 0, 0, 0, 0, 0, 0, 0, 0, 0, 0, 0, 0, 0, 0, 0, 0, 0, 0, 0, 0, 0, 0, 0, 1, 0, 0, 1, 0, 0, 1, 0, 0, 0, 0, 0, 0, 0, 0, 0, 0, 0, 0, 0, 0, 0, 0, 0, 0, 0, 0, 0, 0, 0, 0, 0, 0, 0, 0, 0, 0, 0, 0, 0, 0, 0, 0, 0, 0, 0, 0, 0, 0, 0, 0, 0, 0, 0, 0, 0, 0, 0, 0, 0, 0, 0, 0, 0, 0, 0, 0, 0, 0, 0, 0, 0, 0, 0, 0, 0, 0, 0, 0, 0, 0, 0, 0, 0, 0, 0, 0, 0, 0, 0, 0, 0, 0, 0, 0, 0, 0, 0, 0, 0, 0, 0, 0, 0, 0, 0, 0, 0, 0, 0, 0, 0, 0, 0, 0, 0, 0, 0, 0, 0, 0, 0, 0, 0, 0, 0, 0, 0, 0, 0, 0, 0, 0, 0, 0, 0, 0, 0, 0, 0, 0, 0, 0, 0, 0, 0, 0, 0, 0, 0, 0, 0, 0, 0, 0, 0, 0, 0, 0, 0, 0, 0, 0, 0, 0, 0, 0, 0, 0, 0, 0, 0, 0, 0, 0, 0, 0, 0, 0, 0, 0, 0, 0, 0, 0, 0, 0, 0, 0, 0, 0, 0, 0, 0, 0, 0, 0, 0, 0, 0, 0, 0, 0, 0, 0, 0, 0, 0, 0, 0, 0, 0, 0, 0, 0, 0, 0, 0, 0, 0, 0, 0, 0, 0, 0, 0, 0, 0, 0, 0, 0, 0, 0, 0, 0, 0, 0, 0, 0, 0, 0, 0, 0, 0, 0, 0, 0, 0, 0, 0, 0, 0, 0, 0, 0, 0, 0, 0, 0, 0, 0, 0, 0, 0, 0, 0, 0, 0, 0, 0, 0, 0, 0, 0, 0, 0, 0, 0, 0, 0, 0, 0, 0, 0, 0, 0, 0, 0, 0, 0, 0, 0, 0, 0, 0, 0, 0, 0, 0, 0, 0, 0, 0, 0, 0, 0, 0, 0, 0, 0, 0, 0, 0, 0, 0, 0, 0, 0, 0, 0, 0, 0, 0, 0, 0, 0, 0, 0, 0, 0, 0, 0, 0, 0, 0, 0, 0, 0, 0, 0, 0, 0, 0, 0, 0, 0, 0, 0, 0, 0, 0, 0, 0, 0, 0, 0, 0, 0, 0, 0, 0, 0, 0, 0, 0, 0, 0, 0, 0, 0, 0, 0, 0, 0, 0, 0, 0, 0, 0, 0, 0, 0, 0, 0, 0, 0, 0, 0, 0, 0, 0, 0, 0, 0, 0, 0, 0, 0, 0, 0, 0, 0, 0, 0, 0, 0, 0, 0, 0, 0, 0, 0, 0, 0, 0, 0, 0, 0, 0, 0, 0, 0, 0, 0, 0, 0, 0, 0, 0, 0, 0, 0, 0, 0, 0, 0, 0, 0, 0, 0, 0, 0, 0, 0, 0, 0, 0, 0, 0, 0, 0, 0, 0, 0, 0, 0, 0, 0, 0, 0, 0, 1, 0, 0, 0, 0, 0, 0, 0, 0, 0, 0, 0, 0, 0, 0, 0, 0, 0, 0, 0, 0, 0, 0, 0, 0, 0, 0, 0, 0, 0, 0, 0, 0, 0, 0, 0, 0, 0, 0, 0, 0, 0, 0, 0, 0, 1, 0, 1, 1, 0, 1, 0, 0, 0, 0, 0, 0, 0, 0, 0, 0, 0, 0, 0, 0, 0, 0, 0, 0, 0, 0, 0, 0, 0, 0, 0, 0, 0, 0, 0, 0, 0, 0, 0, 0, 0, 0, 0, 0, 0, 0, 0, 0, 0, 0, 0, 0, 0, 0, 0, 0, 0, 0, 0, 0, 0, 0, 0, 0, 0, 0, 0, 0, 0, 0, 0, 0, 0, 0, 0, 0, 0, 0, 0, 0, 0, 0, 0, 0, 0, 0, 0, 0]\n"
          ]
        }
      ],
      "source": [
        "# Extract test data for evaluation\n",
        "test_X_original = X[train_limit + 1:]\n",
        "test_Y_original = Y[train_limit + 1:]\n",
        "\n",
        "# Display the lengths of the datasets\n",
        "print(\"Length of X:\", len(X))\n",
        "print(\"Length of Y:\", len(Y))\n",
        "print(\"Length of Test X (for evaluation):\", test_X_original)\n",
        "print(\"Length of Test Y (for evaluation):\", test_Y_original)"
      ]
    },
    {
      "cell_type": "code",
      "execution_count": null,
      "metadata": {
        "colab": {
          "base_uri": "https://localhost:8080/"
        },
        "id": "t5RrV-K2W6s4",
        "outputId": "f349efed-1e56-4855-bbf5-393539d99d01"
      },
      "outputs": [
        {
          "name": "stdout",
          "output_type": "stream",
          "text": [
            "[[0.07142857 0.07142857 0.07142857 0.10714286 0.14285714 0.17857143]\n",
            " [0.07142857 0.07142857 0.10714286 0.14285714 0.17857143 0.17857143]\n",
            " [0.07142857 0.10714286 0.14285714 0.17857143 0.17857143 0.17857143]\n",
            " ...\n",
            " [0.14285714 0.10714286 0.07142857 0.07142857 0.07142857 0.07142857]\n",
            " [0.10714286 0.07142857 0.07142857 0.07142857 0.07142857 0.03571429]\n",
            " [0.07142857 0.07142857 0.07142857 0.07142857 0.03571429 0.03571429]]\n"
          ]
        }
      ],
      "source": [
        "# Normalize the sequences in X using Min-Max scaling\n",
        "X = MinMaxScaler().fit_transform(np.asarray(X))\n",
        "print(X)"
      ]
    },
    {
      "cell_type": "code",
      "execution_count": null,
      "metadata": {
        "colab": {
          "base_uri": "https://localhost:8080/"
        },
        "id": "6I6eeJJqW9UE",
        "outputId": "963caffc-29d6-4ecc-dfd7-e9a080c56ac0"
      },
      "outputs": [
        {
          "name": "stdout",
          "output_type": "stream",
          "text": [
            "2424 2424\n"
          ]
        },
        {
          "data": {
            "text/plain": [
              "(7272, 7272)"
            ]
          },
          "execution_count": 13,
          "metadata": {},
          "output_type": "execute_result"
        }
      ],
      "source": [
        "# Save the original X (speed) values before splitting\n",
        "speed_x = X\n",
        "test_X = X[train_limit+1:]\n",
        "test_X = np.asarray(test_X).astype(float)\n",
        "test_Y = Y[train_limit+1:]\n",
        "X = X[:train_limit]\n",
        "X = np.asarray(X).astype(float)\n",
        "Y = Y[:train_limit]\n",
        "print(len(test_X), len(test_Y))\n",
        "len(X), len(Y)\n"
      ]
    },
    {
      "cell_type": "code",
      "execution_count": null,
      "metadata": {
        "colab": {
          "base_uri": "https://localhost:8080/"
        },
        "id": "UdZkQEQIXAaR",
        "outputId": "c74d04f2-bbd5-4120-b754-869a3d916bf3"
      },
      "outputs": [
        {
          "name": "stdout",
          "output_type": "stream",
          "text": [
            "Class Distribution - Training Data:\n",
            "Counter({0: 6897, 1: 375})\n",
            "\n",
            "Class Distribution - Test Data:\n",
            "Counter({0: 2396, 1: 28})\n"
          ]
        }
      ],
      "source": [
        "# Calculate the class distribution for training and test data\n",
        "counter_train = Counter(Y)\n",
        "counter_test = Counter(test_Y)\n",
        "\n",
        "# Display the class distribution for training data\n",
        "print(\"Class Distribution - Training Data:\")\n",
        "print(counter_train)\n",
        "\n",
        "# Display the class distribution for test data\n",
        "print(\"\\nClass Distribution - Test Data:\")\n",
        "print(counter_test)\n"
      ]
    },
    {
      "cell_type": "markdown",
      "source": [
        "# **Code for Univariate LSTM**"
      ],
      "metadata": {
        "id": "hOW7A4w_bo6S"
      }
    },
    {
      "cell_type": "code",
      "execution_count": null,
      "metadata": {
        "id": "BliL00b8XJbF"
      },
      "outputs": [],
      "source": [
        "# Function for Univariate LSTM\n",
        "def vanilla_lstm(n_steps_in,n_steps_out,n_features_in, n_features_out):\n",
        "  model = Sequential()\n",
        "  model.add(LSTM(50, activation='relu', input_shape=(n_steps_in, n_features_in)))\n",
        "  model.add(Dense(n_features_out, activation = \"softmax\"))\n",
        "  model.compile(optimizer='adam', loss='binary_crossentropy')\n",
        "  return model\n",
        "\n"
      ]
    },
    {
      "cell_type": "code",
      "execution_count": null,
      "metadata": {
        "id": "NnJTi4ePXMfN"
      },
      "outputs": [],
      "source": [
        "\n",
        "def lstm(model_name, method, univariate, x_train, x_test, y_train, y_test, Num_Exp, n_steps_in, n_steps_out, Epochs, Hidden):\n",
        "\n",
        "    train_acc = np.zeros(Num_Exp)\n",
        "    test_acc = np.zeros(Num_Exp)\n",
        "\n",
        "    if model_name == 'vanilla':\n",
        "        model = vanilla_lstm(n_steps_in, n_steps_out, n_features_in, n_features_out)\n",
        "\n",
        "    # Display the model summary\n",
        "    model.summary()\n",
        "\n",
        "    y_predicttest_allruns = np.zeros([Num_Exp, x_test.shape[0], y_test.shape[1]])\n",
        "    Best_f1 = 0  # Initialize the best F1 score\n",
        "    Best_Predict_Test = 0\n",
        "\n",
        "    # Extract the actual classes from one-hot encoded vectors for both test and train sets\n",
        "    act_test = [y_test[i].argmax() for i in range(y_test.shape[0])]\n",
        "    act_train = [y_train[i].argmax() for i in range(y_train.shape[0])]\n",
        "\n",
        "    # Initialize dictionaries to store classification reports\n",
        "    Best_report_train = dict()\n",
        "    Best_report_test = dict()\n",
        "    all_report_train = dict()\n",
        "    all_report_test = dict()\n",
        "\n",
        "    # Loop through experiment runs\n",
        "    start_time = time.time()\n",
        "    for run in range(Num_Exp):\n",
        "        print(\"Experiment\", run + 1, \"in progress\")\n",
        "\n",
        "        # Fit the model\n",
        "        model.fit(x_train, y_train, epochs=Epochs, batch_size=10, verbose=0, shuffle=False)\n",
        "        y_predicttrain = model.predict(x_train)\n",
        "        y_predicttest = model.predict(x_test)\n",
        "\n",
        "        # Extract predicted classes from one-hot encoded vectors\n",
        "        pred_test = [y_predicttest[i].argmax() for i in range(y_predicttest.shape[0])]\n",
        "        pred_train = [y_predicttrain[i].argmax() for i in range(y_predicttrain.shape[0])]\n",
        "\n",
        "        # Generate classification reports\n",
        "        report_train = classification_report(act_train, pred_train, labels=[0, 1], output_dict=True)\n",
        "        report_test = classification_report(act_test, pred_test, labels=[0, 1], output_dict=True)\n",
        "\n",
        "        # Store classification reports in dictionaries\n",
        "        all_report_train[run] = report_train\n",
        "        all_report_test[run] = report_test\n",
        "\n",
        "        # Calculate F1-score for the test set\n",
        "        test_acc[run] = report_test['1']['f1-score']\n",
        "        print(\"train acc: \", report_train['1']['f1-score'])\n",
        "        print(\"test acc: \", test_acc[run])\n",
        "\n",
        "        # Update the best F1 score and associated predictions and reports\n",
        "        if test_acc[run] > Best_f1:\n",
        "            Best_f1 = test_acc[run]\n",
        "            Best_Predict_Test = y_predicttest\n",
        "            Best_report_train, Best_report_test = report_train, report_test\n",
        "\n",
        "    # Save the trained model\n",
        "    model.save(\"model_\" + ocean + \"_\" + model_name + \"_\" + method + '.h5')\n",
        "\n",
        "    # Calculate standard deviations of train and test accuracies\n",
        "    train_std = np.std(train_acc)\n",
        "    test_std = np.std(test_acc)\n",
        "\n",
        "    # Display experiment summary\n",
        "    print(\"Total time for\", Num_Exp, \"experiments\", time.time() - start_time)\n",
        "    print(\"F1 scores for test data: \", test_acc)\n",
        "    print(\"Mean: \", np.mean(test_acc), \"Std Dev: \", test_std)\n",
        "\n",
        "    # Return relevant information\n",
        "    return train_acc, test_acc, train_std, test_std, Best_Predict_Test, y_predicttrain, y_predicttest, all_report_train, all_report_test\n"
      ]
    },
    {
      "cell_type": "code",
      "execution_count": null,
      "metadata": {
        "colab": {
          "base_uri": "https://localhost:8080/"
        },
        "id": "CTrMqM6AXRwe",
        "outputId": "c9ca509f-a111-46bf-86a6-d7f38f1dee0c"
      },
      "outputs": [
        {
          "name": "stdout",
          "output_type": "stream",
          "text": [
            "7272\n"
          ]
        }
      ],
      "source": [
        "\n",
        "idx = np.random.permutation(len(X))\n",
        "print(len(idx))\n",
        "\n",
        "# Initialize lists to store shuffled data\n",
        "x_shuffled = []\n",
        "y_shuffled = []\n",
        "\n",
        "# Iterate through the shuffled indices\n",
        "for i in idx:\n",
        "\n",
        "    x_shuffled.append(X[i])\n",
        "    y_shuffled.append(Y[i])"
      ]
    },
    {
      "cell_type": "code",
      "execution_count": null,
      "metadata": {
        "colab": {
          "base_uri": "https://localhost:8080/"
        },
        "id": "fQFQN-hpXnA4",
        "outputId": "b3ebddab-bac2-4512-957d-ebfb8f27ffeb"
      },
      "outputs": [
        {
          "name": "stdout",
          "output_type": "stream",
          "text": [
            "(7272, 2) (2424, 2)\n"
          ]
        }
      ],
      "source": [
        "# Convert the shuffled labels to one-hot encoded format for training data\n",
        "Y_hot_encoded_train = np.asarray(to_categorical(y_shuffled))\n",
        "\n",
        "# Convert the test labels to one-hot encoded format\n",
        "Y_hot_encoded_test = np.asarray(to_categorical(test_Y))\n",
        "\n",
        "# Print the shapes of the one-hot encoded training and test labels\n",
        "print(Y_hot_encoded_train.shape, Y_hot_encoded_test.shape)\n"
      ]
    },
    {
      "cell_type": "code",
      "execution_count": null,
      "metadata": {
        "colab": {
          "base_uri": "https://localhost:8080/"
        },
        "id": "DpwGARS9Xp6z",
        "outputId": "60a1da35-ab63-4676-d853-4ff52c7b6bb8"
      },
      "outputs": [
        {
          "data": {
            "text/plain": [
              "(7272, 6)"
            ]
          },
          "execution_count": 19,
          "metadata": {},
          "output_type": "execute_result"
        }
      ],
      "source": [
        "len(x_shuffled), len(test_X[0])"
      ]
    },
    {
      "cell_type": "code",
      "execution_count": null,
      "metadata": {
        "id": "L_1ym4KHXshz"
      },
      "outputs": [],
      "source": [
        "# Testing on all 4 different kinds of LSTMs\n",
        "models = ['vanilla']\n",
        "\n",
        "\n",
        "# Initialize dictionaries to store predictions, actual values, and metrics for training and testing\n",
        "predictions_train = dict()\n",
        "actual_train = dict()\n",
        "predictions_test = dict()\n",
        "actual_test = dict()\n",
        "metrics_train = dict()\n",
        "metrics_test = dict()\n",
        "test_acc_all = dict()\n",
        "test_stddev = dict()"
      ]
    },
    {
      "cell_type": "markdown",
      "source": [
        "# **Code to run the model**"
      ],
      "metadata": {
        "id": "oTl12GsBdfAG"
      }
    },
    {
      "cell_type": "code",
      "execution_count": null,
      "metadata": {
        "colab": {
          "background_save": true,
          "base_uri": "https://localhost:8080/",
          "height": 1000
        },
        "id": "f8Pt-T3mXvXC",
        "outputId": "306596a6-799c-427d-a6a9-fb056ea074a6"
      },
      "outputs": [
        {
          "name": "stdout",
          "output_type": "stream",
          "text": [
            "---------------------------------------------------------\n",
            "Number of steps out: 1\n",
            "For vanilla:\n"
          ]
        },
        {
          "name": "stderr",
          "output_type": "stream",
          "text": [
            "/usr/local/lib/python3.10/dist-packages/keras/src/layers/rnn/rnn.py:204: UserWarning: Do not pass an `input_shape`/`input_dim` argument to a layer. When using Sequential models, prefer using an `Input(shape)` object as the first layer in the model instead.\n",
            "  super().__init__(**kwargs)\n"
          ]
        },
        {
          "data": {
            "text/html": [
              "<pre style=\"white-space:pre;overflow-x:auto;line-height:normal;font-family:Menlo,'DejaVu Sans Mono',consolas,'Courier New',monospace\"><span style=\"font-weight: bold\">Model: \"sequential\"</span>\n",
              "</pre>\n"
            ],
            "text/plain": [
              "\u001b[1mModel: \"sequential\"\u001b[0m\n"
            ]
          },
          "metadata": {},
          "output_type": "display_data"
        },
        {
          "data": {
            "text/html": [
              "<pre style=\"white-space:pre;overflow-x:auto;line-height:normal;font-family:Menlo,'DejaVu Sans Mono',consolas,'Courier New',monospace\">┏━━━━━━━━━━━━━━━━━━━━━━━━━━━━━━━━━━━━━━┳━━━━━━━━━━━━━━━━━━━━━━━━━━━━━┳━━━━━━━━━━━━━━━━━┓\n",
              "┃<span style=\"font-weight: bold\"> Layer (type)                         </span>┃<span style=\"font-weight: bold\"> Output Shape                </span>┃<span style=\"font-weight: bold\">         Param # </span>┃\n",
              "┡━━━━━━━━━━━━━━━━━━━━━━━━━━━━━━━━━━━━━━╇━━━━━━━━━━━━━━━━━━━━━━━━━━━━━╇━━━━━━━━━━━━━━━━━┩\n",
              "│ lstm (<span style=\"color: #0087ff; text-decoration-color: #0087ff\">LSTM</span>)                          │ (<span style=\"color: #00d7ff; text-decoration-color: #00d7ff\">None</span>, <span style=\"color: #00af00; text-decoration-color: #00af00\">50</span>)                  │          <span style=\"color: #00af00; text-decoration-color: #00af00\">10,400</span> │\n",
              "├──────────────────────────────────────┼─────────────────────────────┼─────────────────┤\n",
              "│ dense (<span style=\"color: #0087ff; text-decoration-color: #0087ff\">Dense</span>)                        │ (<span style=\"color: #00d7ff; text-decoration-color: #00d7ff\">None</span>, <span style=\"color: #00af00; text-decoration-color: #00af00\">2</span>)                   │             <span style=\"color: #00af00; text-decoration-color: #00af00\">102</span> │\n",
              "└──────────────────────────────────────┴─────────────────────────────┴─────────────────┘\n",
              "</pre>\n"
            ],
            "text/plain": [
              "┏━━━━━━━━━━━━━━━━━━━━━━━━━━━━━━━━━━━━━━┳━━━━━━━━━━━━━━━━━━━━━━━━━━━━━┳━━━━━━━━━━━━━━━━━┓\n",
              "┃\u001b[1m \u001b[0m\u001b[1mLayer (type)                        \u001b[0m\u001b[1m \u001b[0m┃\u001b[1m \u001b[0m\u001b[1mOutput Shape               \u001b[0m\u001b[1m \u001b[0m┃\u001b[1m \u001b[0m\u001b[1m        Param #\u001b[0m\u001b[1m \u001b[0m┃\n",
              "┡━━━━━━━━━━━━━━━━━━━━━━━━━━━━━━━━━━━━━━╇━━━━━━━━━━━━━━━━━━━━━━━━━━━━━╇━━━━━━━━━━━━━━━━━┩\n",
              "│ lstm (\u001b[38;5;33mLSTM\u001b[0m)                          │ (\u001b[38;5;45mNone\u001b[0m, \u001b[38;5;34m50\u001b[0m)                  │          \u001b[38;5;34m10,400\u001b[0m │\n",
              "├──────────────────────────────────────┼─────────────────────────────┼─────────────────┤\n",
              "│ dense (\u001b[38;5;33mDense\u001b[0m)                        │ (\u001b[38;5;45mNone\u001b[0m, \u001b[38;5;34m2\u001b[0m)                   │             \u001b[38;5;34m102\u001b[0m │\n",
              "└──────────────────────────────────────┴─────────────────────────────┴─────────────────┘\n"
            ]
          },
          "metadata": {},
          "output_type": "display_data"
        },
        {
          "data": {
            "text/html": [
              "<pre style=\"white-space:pre;overflow-x:auto;line-height:normal;font-family:Menlo,'DejaVu Sans Mono',consolas,'Courier New',monospace\"><span style=\"font-weight: bold\"> Total params: </span><span style=\"color: #00af00; text-decoration-color: #00af00\">10,502</span> (41.02 KB)\n",
              "</pre>\n"
            ],
            "text/plain": [
              "\u001b[1m Total params: \u001b[0m\u001b[38;5;34m10,502\u001b[0m (41.02 KB)\n"
            ]
          },
          "metadata": {},
          "output_type": "display_data"
        },
        {
          "data": {
            "text/html": [
              "<pre style=\"white-space:pre;overflow-x:auto;line-height:normal;font-family:Menlo,'DejaVu Sans Mono',consolas,'Courier New',monospace\"><span style=\"font-weight: bold\"> Trainable params: </span><span style=\"color: #00af00; text-decoration-color: #00af00\">10,502</span> (41.02 KB)\n",
              "</pre>\n"
            ],
            "text/plain": [
              "\u001b[1m Trainable params: \u001b[0m\u001b[38;5;34m10,502\u001b[0m (41.02 KB)\n"
            ]
          },
          "metadata": {},
          "output_type": "display_data"
        },
        {
          "data": {
            "text/html": [
              "<pre style=\"white-space:pre;overflow-x:auto;line-height:normal;font-family:Menlo,'DejaVu Sans Mono',consolas,'Courier New',monospace\"><span style=\"font-weight: bold\"> Non-trainable params: </span><span style=\"color: #00af00; text-decoration-color: #00af00\">0</span> (0.00 B)\n",
              "</pre>\n"
            ],
            "text/plain": [
              "\u001b[1m Non-trainable params: \u001b[0m\u001b[38;5;34m0\u001b[0m (0.00 B)\n"
            ]
          },
          "metadata": {},
          "output_type": "display_data"
        },
        {
          "name": "stdout",
          "output_type": "stream",
          "text": [
            "Experiment 1 in progress\n",
            "\u001b[1m228/228\u001b[0m \u001b[32m━━━━━━━━━━━━━━━━━━━━\u001b[0m\u001b[37m\u001b[0m \u001b[1m1s\u001b[0m 4ms/step\n",
            "\u001b[1m76/76\u001b[0m \u001b[32m━━━━━━━━━━━━━━━━━━━━\u001b[0m\u001b[37m\u001b[0m \u001b[1m0s\u001b[0m 4ms/step\n",
            "train acc:  0.7702702702702703\n",
            "test acc:  0.4225352112676056\n",
            "Experiment 2 in progress\n",
            "\u001b[1m228/228\u001b[0m \u001b[32m━━━━━━━━━━━━━━━━━━━━\u001b[0m\u001b[37m\u001b[0m \u001b[1m0s\u001b[0m 2ms/step\n",
            "\u001b[1m76/76\u001b[0m \u001b[32m━━━━━━━━━━━━━━━━━━━━\u001b[0m\u001b[37m\u001b[0m \u001b[1m0s\u001b[0m 2ms/step\n",
            "train acc:  0.7936507936507936\n",
            "test acc:  0.39473684210526316\n",
            "Experiment 3 in progress\n",
            "\u001b[1m228/228\u001b[0m \u001b[32m━━━━━━━━━━━━━━━━━━━━\u001b[0m\u001b[37m\u001b[0m \u001b[1m1s\u001b[0m 2ms/step\n",
            "\u001b[1m76/76\u001b[0m \u001b[32m━━━━━━━━━━━━━━━━━━━━\u001b[0m\u001b[37m\u001b[0m \u001b[1m0s\u001b[0m 2ms/step\n",
            "train acc:  0.7894736842105263\n",
            "test acc:  0.4918032786885246\n",
            "Experiment 4 in progress\n",
            "\u001b[1m228/228\u001b[0m \u001b[32m━━━━━━━━━━━━━━━━━━━━\u001b[0m\u001b[37m\u001b[0m \u001b[1m1s\u001b[0m 2ms/step\n",
            "\u001b[1m76/76\u001b[0m \u001b[32m━━━━━━━━━━━━━━━━━━━━\u001b[0m\u001b[37m\u001b[0m \u001b[1m0s\u001b[0m 2ms/step\n",
            "train acc:  0.8101983002832861\n",
            "test acc:  0.46875\n",
            "Experiment 5 in progress\n",
            "\u001b[1m228/228\u001b[0m \u001b[32m━━━━━━━━━━━━━━━━━━━━\u001b[0m\u001b[37m\u001b[0m \u001b[1m1s\u001b[0m 2ms/step\n",
            "\u001b[1m76/76\u001b[0m \u001b[32m━━━━━━━━━━━━━━━━━━━━\u001b[0m\u001b[37m\u001b[0m \u001b[1m0s\u001b[0m 2ms/step\n",
            "train acc:  0.815028901734104\n",
            "test acc:  0.47619047619047616\n",
            "Experiment 6 in progress\n",
            "\u001b[1m228/228\u001b[0m \u001b[32m━━━━━━━━━━━━━━━━━━━━\u001b[0m\u001b[37m\u001b[0m \u001b[1m1s\u001b[0m 2ms/step\n",
            "\u001b[1m76/76\u001b[0m \u001b[32m━━━━━━━━━━━━━━━━━━━━\u001b[0m\u001b[37m\u001b[0m \u001b[1m0s\u001b[0m 2ms/step\n",
            "train acc:  0.8105849582172702\n",
            "test acc:  0.4838709677419355\n",
            "Experiment 7 in progress\n",
            "\u001b[1m228/228\u001b[0m \u001b[32m━━━━━━━━━━━━━━━━━━━━\u001b[0m\u001b[37m\u001b[0m \u001b[1m1s\u001b[0m 2ms/step\n",
            "\u001b[1m76/76\u001b[0m \u001b[32m━━━━━━━━━━━━━━━━━━━━\u001b[0m\u001b[37m\u001b[0m \u001b[1m0s\u001b[0m 2ms/step\n",
            "train acc:  0.834054834054834\n",
            "test acc:  0.46875\n",
            "Experiment 8 in progress\n",
            "\u001b[1m228/228\u001b[0m \u001b[32m━━━━━━━━━━━━━━━━━━━━\u001b[0m\u001b[37m\u001b[0m \u001b[1m1s\u001b[0m 2ms/step\n",
            "\u001b[1m76/76\u001b[0m \u001b[32m━━━━━━━━━━━━━━━━━━━━\u001b[0m\u001b[37m\u001b[0m \u001b[1m0s\u001b[0m 2ms/step\n",
            "train acc:  0.8166189111747851\n",
            "test acc:  0.4444444444444444\n",
            "Experiment 9 in progress\n",
            "\u001b[1m228/228\u001b[0m \u001b[32m━━━━━━━━━━━━━━━━━━━━\u001b[0m\u001b[37m\u001b[0m \u001b[1m1s\u001b[0m 2ms/step\n",
            "\u001b[1m76/76\u001b[0m \u001b[32m━━━━━━━━━━━━━━━━━━━━\u001b[0m\u001b[37m\u001b[0m \u001b[1m0s\u001b[0m 3ms/step\n",
            "train acc:  0.8493543758967002\n",
            "test acc:  0.3728813559322034\n",
            "Experiment 10 in progress\n",
            "\u001b[1m228/228\u001b[0m \u001b[32m━━━━━━━━━━━━━━━━━━━━\u001b[0m\u001b[37m\u001b[0m \u001b[1m1s\u001b[0m 2ms/step\n",
            "\u001b[1m76/76\u001b[0m \u001b[32m━━━━━━━━━━━━━━━━━━━━\u001b[0m\u001b[37m\u001b[0m \u001b[1m0s\u001b[0m 2ms/step\n",
            "train acc:  0.874095513748191\n",
            "test acc:  0.4067796610169492\n",
            "Experiment 11 in progress\n",
            "\u001b[1m228/228\u001b[0m \u001b[32m━━━━━━━━━━━━━━━━━━━━\u001b[0m\u001b[37m\u001b[0m \u001b[1m0s\u001b[0m 2ms/step\n",
            "\u001b[1m76/76\u001b[0m \u001b[32m━━━━━━━━━━━━━━━━━━━━\u001b[0m\u001b[37m\u001b[0m \u001b[1m0s\u001b[0m 2ms/step\n",
            "train acc:  0.8533724340175953\n",
            "test acc:  0.3508771929824561\n",
            "Experiment 12 in progress\n",
            "\u001b[1m228/228\u001b[0m \u001b[32m━━━━━━━━━━━━━━━━━━━━\u001b[0m\u001b[37m\u001b[0m \u001b[1m0s\u001b[0m 2ms/step\n",
            "\u001b[1m76/76\u001b[0m \u001b[32m━━━━━━━━━━━━━━━━━━━━\u001b[0m\u001b[37m\u001b[0m \u001b[1m0s\u001b[0m 2ms/step\n",
            "train acc:  0.8220689655172414\n",
            "test acc:  0.3157894736842105\n",
            "Experiment 13 in progress\n",
            "\u001b[1m228/228\u001b[0m \u001b[32m━━━━━━━━━━━━━━━━━━━━\u001b[0m\u001b[37m\u001b[0m \u001b[1m1s\u001b[0m 2ms/step\n",
            "\u001b[1m76/76\u001b[0m \u001b[32m━━━━━━━━━━━━━━━━━━━━\u001b[0m\u001b[37m\u001b[0m \u001b[1m0s\u001b[0m 2ms/step\n",
            "train acc:  0.8529411764705882\n",
            "test acc:  0.27450980392156865\n",
            "Experiment 14 in progress\n",
            "\u001b[1m228/228\u001b[0m \u001b[32m━━━━━━━━━━━━━━━━━━━━\u001b[0m\u001b[37m\u001b[0m \u001b[1m1s\u001b[0m 2ms/step\n",
            "\u001b[1m76/76\u001b[0m \u001b[32m━━━━━━━━━━━━━━━━━━━━\u001b[0m\u001b[37m\u001b[0m \u001b[1m0s\u001b[0m 2ms/step\n",
            "train acc:  0.8730385164051355\n",
            "test acc:  0.45901639344262296\n",
            "Experiment 15 in progress\n",
            "\u001b[1m228/228\u001b[0m \u001b[32m━━━━━━━━━━━━━━━━━━━━\u001b[0m\u001b[37m\u001b[0m \u001b[1m0s\u001b[0m 2ms/step\n",
            "\u001b[1m76/76\u001b[0m \u001b[32m━━━━━━━━━━━━━━━━━━━━\u001b[0m\u001b[37m\u001b[0m \u001b[1m0s\u001b[0m 2ms/step\n",
            "train acc:  0.8762446657183499\n",
            "test acc:  0.3548387096774194\n",
            "Experiment 16 in progress\n",
            "\u001b[1m228/228\u001b[0m \u001b[32m━━━━━━━━━━━━━━━━━━━━\u001b[0m\u001b[37m\u001b[0m \u001b[1m0s\u001b[0m 2ms/step\n",
            "\u001b[1m76/76\u001b[0m \u001b[32m━━━━━━━━━━━━━━━━━━━━\u001b[0m\u001b[37m\u001b[0m \u001b[1m0s\u001b[0m 2ms/step\n",
            "train acc:  0.8851063829787233\n",
            "test acc:  0.3389830508474576\n",
            "Experiment 17 in progress\n",
            "\u001b[1m228/228\u001b[0m \u001b[32m━━━━━━━━━━━━━━━━━━━━\u001b[0m\u001b[37m\u001b[0m \u001b[1m0s\u001b[0m 2ms/step\n",
            "\u001b[1m76/76\u001b[0m \u001b[32m━━━━━━━━━━━━━━━━━━━━\u001b[0m\u001b[37m\u001b[0m \u001b[1m0s\u001b[0m 2ms/step\n",
            "train acc:  0.8771428571428571\n",
            "test acc:  0.25396825396825395\n",
            "Experiment 18 in progress\n",
            "\u001b[1m228/228\u001b[0m \u001b[32m━━━━━━━━━━━━━━━━━━━━\u001b[0m\u001b[37m\u001b[0m \u001b[1m0s\u001b[0m 2ms/step\n",
            "\u001b[1m76/76\u001b[0m \u001b[32m━━━━━━━━━━━━━━━━━━━━\u001b[0m\u001b[37m\u001b[0m \u001b[1m0s\u001b[0m 2ms/step\n",
            "train acc:  0.886685552407932\n",
            "test acc:  0.3050847457627119\n",
            "Experiment 19 in progress\n",
            "\u001b[1m228/228\u001b[0m \u001b[32m━━━━━━━━━━━━━━━━━━━━\u001b[0m\u001b[37m\u001b[0m \u001b[1m1s\u001b[0m 2ms/step\n",
            "\u001b[1m76/76\u001b[0m \u001b[32m━━━━━━━━━━━━━━━━━━━━\u001b[0m\u001b[37m\u001b[0m \u001b[1m0s\u001b[0m 3ms/step\n",
            "train acc:  0.8926553672316384\n",
            "test acc:  0.23728813559322035\n",
            "Experiment 20 in progress\n",
            "\u001b[1m228/228\u001b[0m \u001b[32m━━━━━━━━━━━━━━━━━━━━\u001b[0m\u001b[37m\u001b[0m \u001b[1m0s\u001b[0m 2ms/step\n",
            "\u001b[1m76/76\u001b[0m \u001b[32m━━━━━━━━━━━━━━━━━━━━\u001b[0m\u001b[37m\u001b[0m \u001b[1m0s\u001b[0m 2ms/step\n",
            "train acc:  0.8907801418439716\n",
            "test acc:  0.29850746268656714\n",
            "Experiment 21 in progress\n",
            "\u001b[1m228/228\u001b[0m \u001b[32m━━━━━━━━━━━━━━━━━━━━\u001b[0m\u001b[37m\u001b[0m \u001b[1m1s\u001b[0m 2ms/step\n",
            "\u001b[1m76/76\u001b[0m \u001b[32m━━━━━━━━━━━━━━━━━━━━\u001b[0m\u001b[37m\u001b[0m \u001b[1m0s\u001b[0m 2ms/step\n",
            "train acc:  0.8888888888888888\n",
            "test acc:  0.26666666666666666\n",
            "Experiment 22 in progress\n",
            "\u001b[1m228/228\u001b[0m \u001b[32m━━━━━━━━━━━━━━━━━━━━\u001b[0m\u001b[37m\u001b[0m \u001b[1m1s\u001b[0m 2ms/step\n",
            "\u001b[1m76/76\u001b[0m \u001b[32m━━━━━━━━━━━━━━━━━━━━\u001b[0m\u001b[37m\u001b[0m \u001b[1m0s\u001b[0m 3ms/step\n",
            "train acc:  0.872992700729927\n",
            "test acc:  0.21428571428571427\n",
            "Experiment 23 in progress\n",
            "\u001b[1m228/228\u001b[0m \u001b[32m━━━━━━━━━━━━━━━━━━━━\u001b[0m\u001b[37m\u001b[0m \u001b[1m0s\u001b[0m 2ms/step\n",
            "\u001b[1m76/76\u001b[0m \u001b[32m━━━━━━━━━━━━━━━━━━━━\u001b[0m\u001b[37m\u001b[0m \u001b[1m0s\u001b[0m 2ms/step\n",
            "train acc:  0.8867403314917127\n",
            "test acc:  0.3142857142857143\n",
            "Experiment 24 in progress\n",
            "\u001b[1m228/228\u001b[0m \u001b[32m━━━━━━━━━━━━━━━━━━━━\u001b[0m\u001b[37m\u001b[0m \u001b[1m1s\u001b[0m 2ms/step\n",
            "\u001b[1m76/76\u001b[0m \u001b[32m━━━━━━━━━━━━━━━━━━━━\u001b[0m\u001b[37m\u001b[0m \u001b[1m0s\u001b[0m 2ms/step\n",
            "train acc:  0.8733624454148472\n",
            "test acc:  0.22641509433962265\n",
            "Experiment 25 in progress\n",
            "\u001b[1m228/228\u001b[0m \u001b[32m━━━━━━━━━━━━━━━━━━━━\u001b[0m\u001b[37m\u001b[0m \u001b[1m1s\u001b[0m 2ms/step\n",
            "\u001b[1m76/76\u001b[0m \u001b[32m━━━━━━━━━━━━━━━━━━━━\u001b[0m\u001b[37m\u001b[0m \u001b[1m0s\u001b[0m 2ms/step\n",
            "train acc:  0.875\n",
            "test acc:  0.21428571428571427\n",
            "Experiment 26 in progress\n",
            "\u001b[1m228/228\u001b[0m \u001b[32m━━━━━━━━━━━━━━━━━━━━\u001b[0m\u001b[37m\u001b[0m \u001b[1m1s\u001b[0m 2ms/step\n",
            "\u001b[1m76/76\u001b[0m \u001b[32m━━━━━━━━━━━━━━━━━━━━\u001b[0m\u001b[37m\u001b[0m \u001b[1m0s\u001b[0m 2ms/step\n",
            "train acc:  0.8854314002828855\n",
            "test acc:  0.24561403508771928\n",
            "Experiment 27 in progress\n",
            "\u001b[1m228/228\u001b[0m \u001b[32m━━━━━━━━━━━━━━━━━━━━\u001b[0m\u001b[37m\u001b[0m \u001b[1m1s\u001b[0m 2ms/step\n",
            "\u001b[1m76/76\u001b[0m \u001b[32m━━━━━━━━━━━━━━━━━━━━\u001b[0m\u001b[37m\u001b[0m \u001b[1m0s\u001b[0m 2ms/step\n",
            "train acc:  0.8863309352517985\n",
            "test acc:  0.29508196721311475\n",
            "Experiment 28 in progress\n",
            "\u001b[1m228/228\u001b[0m \u001b[32m━━━━━━━━━━━━━━━━━━━━\u001b[0m\u001b[37m\u001b[0m \u001b[1m0s\u001b[0m 2ms/step\n",
            "\u001b[1m76/76\u001b[0m \u001b[32m━━━━━━━━━━━━━━━━━━━━\u001b[0m\u001b[37m\u001b[0m \u001b[1m0s\u001b[0m 2ms/step\n",
            "train acc:  0.8948863636363636\n",
            "test acc:  0.2222222222222222\n",
            "Experiment 29 in progress\n",
            "\u001b[1m228/228\u001b[0m \u001b[32m━━━━━━━━━━━━━━━━━━━━\u001b[0m\u001b[37m\u001b[0m \u001b[1m0s\u001b[0m 2ms/step\n",
            "\u001b[1m76/76\u001b[0m \u001b[32m━━━━━━━━━━━━━━━━━━━━\u001b[0m\u001b[37m\u001b[0m \u001b[1m0s\u001b[0m 2ms/step\n",
            "train acc:  0.8914285714285715\n",
            "test acc:  0.2711864406779661\n",
            "Experiment 30 in progress\n",
            "\u001b[1m228/228\u001b[0m \u001b[32m━━━━━━━━━━━━━━━━━━━━\u001b[0m\u001b[37m\u001b[0m \u001b[1m1s\u001b[0m 2ms/step\n",
            "\u001b[1m76/76\u001b[0m \u001b[32m━━━━━━━━━━━━━━━━━━━━\u001b[0m\u001b[37m\u001b[0m \u001b[1m0s\u001b[0m 2ms/step\n"
          ]
        },
        {
          "name": "stderr",
          "output_type": "stream",
          "text": [
            "WARNING:absl:You are saving your model as an HDF5 file via `model.save()` or `keras.saving.save_model(model)`. This file format is considered legacy. We recommend using instead the native Keras format, e.g. `model.save('my_model.keras')` or `keras.saving.save_model(model, 'my_model.keras')`. \n"
          ]
        },
        {
          "name": "stdout",
          "output_type": "stream",
          "text": [
            "train acc:  0.8920454545454546\n",
            "test acc:  0.21428571428571427\n",
            "Total time for 30 experiments 11482.643671035767\n",
            "F1 scores for test data:  [0.42253521 0.39473684 0.49180328 0.46875    0.47619048 0.48387097\n",
            " 0.46875    0.44444444 0.37288136 0.40677966 0.35087719 0.31578947\n",
            " 0.2745098  0.45901639 0.35483871 0.33898305 0.25396825 0.30508475\n",
            " 0.23728814 0.29850746 0.26666667 0.21428571 0.31428571 0.22641509\n",
            " 0.21428571 0.24561404 0.29508197 0.22222222 0.27118644 0.21428571]\n",
            "Mean:  0.33679782477680187 Std Dev:  0.09265553598792399\n"
          ]
        }
      ],
      "source": [
        "\n",
        "for j in range(1):\n",
        "    # Initialize dictionaries to store results for each model\n",
        "    predictions_train_per_step = dict()\n",
        "    actual_train_per_step = dict()\n",
        "    predictions_test_per_step = dict()\n",
        "    actual_test_per_step = dict()\n",
        "    metrics_train_per_step = dict()\n",
        "    metrics_test_per_step = dict()\n",
        "    test_acc_per_step = dict()\n",
        "    test_stddev_per_step = dict()\n",
        "    n_steps_out = j + 1\n",
        "\n",
        "    print('---------------------------------------------------------')\n",
        "    print('Number of steps out:', n_steps_out)\n",
        "\n",
        "    # Loop over different LSTM models\n",
        "    for i in models:\n",
        "        print(\"For \" + i + \":\")\n",
        "\n",
        "        # Reshape data based on the LSTM model type\n",
        "        if i == 'vanilla' or i == 'bidirectional':\n",
        "            x_train, y_train = np.asarray(x_shuffled), np.asarray(Y_hot_encoded_train)\n",
        "            x_test, y_test = np.asarray(test_X), np.asarray(Y_hot_encoded_test)\n",
        "            x_train = x_train.reshape((x_train.shape[0], x_train.shape[1], n_features_in))\n",
        "            x_test = x_test.reshape((x_test.shape[0], x_test.shape[1], n_features_in))\n",
        "        elif i == 'cnn-lstm':\n",
        "            x_train, y_train = np.asarray(x_shuffled), np.asarray(Y_hot_encoded_train)\n",
        "            x_test, y_test = np.asarray(test_X), np.asarray(Y_hot_encoded_test)\n",
        "            x_train = x_train.reshape((x_train.shape[0], n_seq, int(n_steps_in / n_seq), n_features_in))\n",
        "            x_test = x_test.reshape((x_test.shape[0], n_seq, int(n_steps_in / n_seq), n_features_in))\n",
        "        elif i == 'conv-lstm':\n",
        "            x_train, y_train = np.asarray(x_shuffled), np.asarray(Y_hot_encoded_train)\n",
        "            x_test, y_test = np.asarray(test_X), np.asarray(Y_hot_encoded_test)\n",
        "            x_train = x_train.reshape((x_train.shape[0], n_seq, 1, int(n_steps_in / n_seq), n_features_in))\n",
        "            x_test = x_test.reshape((x_test.shape[0], n_seq, 1, int(n_steps_in / n_seq), n_features_in))\n",
        "\n",
        "        # Call the LSTM function and retrieve results\n",
        "        train_acc, test_acc, train_std_dev, test_std_dev, Best_Predict_Test, y_predicttrain, y_predicttest, report_train, report_test = lstm(\n",
        "            i, 'original', univariate, x_train, x_test, y_train, y_test, No_exp, n_steps_in, n_steps_out, epochs, hidden_layers)\n",
        "\n",
        "        # Store results in respective dictionaries\n",
        "        predictions_train_per_step[i] = y_predicttrain\n",
        "        actual_train_per_step[i] = y_train\n",
        "        predictions_test_per_step[i] = Best_Predict_Test\n",
        "        actual_test_per_step[i] = y_test\n",
        "        metrics_train_per_step[i] = report_train\n",
        "        metrics_test_per_step[i] = report_test\n",
        "        test_acc_per_step[i] = test_acc\n",
        "        test_stddev_per_step[i] = test_std_dev\n",
        "\n",
        "    # Store results for the current n_steps_out in the overall dictionaries\n",
        "    predictions_train[str(j + 1)] = predictions_train_per_step\n",
        "    actual_train[str(j + 1)] = actual_train_per_step\n",
        "    predictions_test[str(j + 1)] = predictions_test_per_step\n",
        "    actual_test[str(j + 1)] = actual_test_per_step\n",
        "    metrics_train[str(j + 1)] = metrics_train_per_step\n",
        "    metrics_test[str(j + 1)] = metrics_test_per_step\n",
        "    test_acc_all[str(j + 1)] = test_acc_per_step\n",
        "    test_stddev[str(j + 1)] = test_stddev_per_step"
      ]
    },
    {
      "cell_type": "code",
      "execution_count": null,
      "metadata": {
        "id": "D03sWvDgX33b"
      },
      "outputs": [],
      "source": [
        "with open(\"predictions_\" + ocean + '_original' + '.pkl', 'wb') as f:\n",
        "    pickle.dump([predictions_train,actual_train,predictions_test,actual_test,metrics_train,metrics_test,test_acc,test_stddev], f)\n"
      ]
    },
    {
      "cell_type": "code",
      "execution_count": null,
      "metadata": {
        "id": "GDoRKwgjX66-"
      },
      "outputs": [],
      "source": [
        "# Function to make confusion matrix\n",
        "def make_confusion_matrix_chart(cf_matrix, name):\n",
        "\n",
        "    sns.set(style=\"darkgrid\", font_scale=1.5)\n",
        "\n",
        "    fig, ax = plt.subplots(figsize=(10, 8))\n",
        "\n",
        "    sns.heatmap(cf_matrix, annot=True, fmt='d', cmap='Greens',\n",
        "                linewidths=.5, square=True, cbar=False,\n",
        "                annot_kws={\"size\": 16}, ax=ax)\n",
        "\n",
        "    plt.ylabel(\"Actual\", size=18)\n",
        "    plt.xlabel(\"Predicted\", size=18)\n",
        "    plt.title(\"Confusion Matrix\", size=20)\n",
        "\n",
        "    ax.tick_params(axis='both', which='major', labelsize=14)\n",
        "\n",
        "    plt.savefig(name + '.png', dpi=300, transparent=False, bbox_inches='tight')\n",
        "\n",
        "    plt.show()\n",
        "\n",
        "    return None"
      ]
    },
    {
      "cell_type": "code",
      "execution_count": null,
      "metadata": {
        "colab": {
          "base_uri": "https://localhost:8080/",
          "height": 745
        },
        "id": "GkxFCwWlX-S7",
        "outputId": "54921c5d-9ab0-407f-8929-7e1cdd02e500"
      },
      "outputs": [
        {
          "data": {
            "image/png": "[encoded data removed]",
            "text/plain": [
              "<Figure size 1000x800 with 1 Axes>"
            ]
          },
          "metadata": {},
          "output_type": "display_data"
        }
      ],
      "source": [
        "# Code to display confusion matrix\n",
        "y = [i.argmax() for i in actual_test_per_step['vanilla']]\n",
        "pred = [i.argmax() for i in predictions_test_per_step['vanilla']]\n",
        "cf_matrix_test = confusion_matrix(y, pred)\n",
        "make_confusion_matrix_chart(cf_matrix_test, ocean + '_vanilla_cm_original')\n"
      ]
    },
    {
      "cell_type": "code",
      "execution_count": null,
      "metadata": {
        "id": "HUJarrQRYDuK"
      },
      "outputs": [],
      "source": [
        "# Code to display results\n",
        "# Initialize lists to store precision, recall, and F1-score metrics for class 0, class 1, overall accuracy,\n",
        "# macro average, and weighted average across multiple experiments\n",
        "precision0 = []\n",
        "precision1 = []\n",
        "precisionacc = []\n",
        "precisionmacavg = []\n",
        "precisionweighavg = []\n",
        "recall0 = []\n",
        "recall1 = []\n",
        "recallacc = []\n",
        "recallmacavg = []\n",
        "recallweighavg = []\n",
        "f10 = []\n",
        "f11 = []\n",
        "f1acc = []\n",
        "f1macavg = []\n",
        "f1weighavg = []\n",
        "\n",
        "# Loop through the results of multiple experiments\n",
        "for i in range(No_exp):\n",
        "    # Append precision, recall, and F1-score metrics for class 0, class 1, overall accuracy,\n",
        "    # macro average, and weighted average from the 'vanilla' model results\n",
        "    precision0.append(metrics_test_per_step['vanilla'][i]['0']['precision'])\n",
        "    precision1.append(metrics_test_per_step['vanilla'][i]['1']['precision'])\n",
        "    precisionacc.append(metrics_test_per_step['vanilla'][i]['accuracy'])\n",
        "    precisionmacavg.append(metrics_test_per_step['vanilla'][i]['macro avg']['precision'])\n",
        "    precisionweighavg.append(metrics_test_per_step['vanilla'][i]['weighted avg']['precision'])\n",
        "\n",
        "    recall0.append(metrics_test_per_step['vanilla'][i]['0']['recall'])\n",
        "    recall1.append(metrics_test_per_step['vanilla'][i]['1']['recall'])\n",
        "    recallacc.append(metrics_test_per_step['vanilla'][i]['accuracy'])\n",
        "    recallmacavg.append(metrics_test_per_step['vanilla'][i]['macro avg']['recall'])\n",
        "    recallweighavg.append(metrics_test_per_step['vanilla'][i]['weighted avg']['recall'])\n",
        "\n",
        "    f10.append(metrics_test_per_step['vanilla'][i]['0']['f1-score'])\n",
        "    f11.append(metrics_test_per_step['vanilla'][i]['1']['f1-score'])\n",
        "    f1acc.append(metrics_test_per_step['vanilla'][i]['accuracy'])\n",
        "    f1macavg.append(metrics_test_per_step['vanilla'][i]['macro avg']['f1-score'])\n",
        "    f1weighavg.append(metrics_test_per_step['vanilla'][i]['weighted avg']['f1-score'])\n"
      ]
    },
    {
      "cell_type": "code",
      "execution_count": null,
      "metadata": {
        "colab": {
          "base_uri": "https://localhost:8080/"
        },
        "id": "70pubKkDYH8g",
        "outputId": "b97f84be-a9a2-4ed1-90cb-aa2791fdbd1a"
      },
      "outputs": [
        {
          "name": "stdout",
          "output_type": "stream",
          "text": [
            "0.9888±0.0005  & 0.9892±0.0017  & 0.989±0.0007\n",
            "0.4747±0.0346  & 0.4644±0.0265  & 0.4683±0.0186\n",
            "0.9784±0.0014  & 0.9784±0.0014  & 0.9784±0.0014\n",
            "0.7318±0.0173  & 0.7268±0.0128  & 0.7286±0.0096\n",
            "0.9783±0.0008  & 0.9784±0.0014  & 0.9783±0.001\n"
          ]
        }
      ],
      "source": [
        "# Displaying results\n",
        "print(str(round(np.mean(precision0),4)) + \"±\" + str(round(np.std(precision0),4)),\" & \" + str(round(np.mean(recall0),4)) + \"±\" + str(round(np.std(recall0),4)), \" & \" + str(round(np.mean(f10),4)) + \"±\" + str(round(np.std(f10),4)))\n",
        "print(str(round(np.mean(precision1),4)) + \"±\" + str(round(np.std(precision1),4)),\" & \" + str(round(np.mean(recall1),4)) + \"±\" + str(round(np.std(recall1),4)), \" & \" + str(round(np.mean(f11),4)) + \"±\" + str(round(np.std(f11),4)))\n",
        "print(str(round(np.mean(precisionacc),4)) + \"±\" + str(round(np.std(precisionacc),4)),\" & \" + str(round(np.mean(recallacc),4)) + \"±\" + str(round(np.std(recallacc),4)), \" & \" + str(round(np.mean(f1acc),4)) + \"±\" + str(round(np.std(f1acc),4)))\n",
        "print(str(round(np.mean(precisionmacavg),4)) + \"±\" + str(round(np.std(precisionmacavg),4)),\" & \" + str(round(np.mean(recallmacavg),4)) + \"±\" + str(round(np.std(recallmacavg),4)), \" & \" + str(round(np.mean(f1macavg),4)) + \"±\" + str(round(np.std(f1macavg),4)))\n",
        "print(str(round(np.mean(precisionweighavg),4)) + \"±\" + str(round(np.std(precisionweighavg),4)),\" & \" + str(round(np.mean(recallweighavg),4)) + \"±\" + str(round(np.std(recallweighavg),4)), \" & \" + str(round(np.mean(f1weighavg),4)) + \"±\" + str(round(np.std(f1weighavg),4)))"
      ]
    }
  ],
  "metadata": {
    "colab": {
      "provenance": []
    },
    "kernelspec": {
      "display_name": "Python 3",
      "name": "python3"
    },
    "language_info": {
      "name": "python"
    }
  },
  "nbformat": 4,
  "nbformat_minor": 0
}