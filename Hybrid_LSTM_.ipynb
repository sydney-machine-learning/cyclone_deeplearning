{
  "cells": [
    {
      "cell_type": "code",
      "execution_count": null,
      "metadata": {
        "id": "0CaoxOvK2pwX"
      },
      "outputs": [],
      "source": [
        "import copy\n",
        "import numpy as np\n",
        "import sklearn\n",
        "import pandas as pd\n",
        "import matplotlib.pyplot as plt\n",
        "from keras.models import Sequential\n",
        "from keras.layers import Dense\n",
        "from keras.layers import Activation\n",
        "from keras.layers import LSTM\n",
        "from keras.layers import Bidirectional\n",
        "from keras.layers import RepeatVector\n",
        "from keras.layers import TimeDistributed\n",
        "from numpy import hstack\n",
        "from sklearn.preprocessing import StandardScaler\n",
        "import datetime\n",
        "import time\n",
        "import joblib\n",
        "from datetime import timedelta, date\n",
        "import tensorflow as tf\n",
        "from sklearn.preprocessing import MinMaxScaler\n",
        "from numpy import array\n",
        "from tensorflow.keras.utils import to_categorical\n",
        "from sklearn.metrics import precision_score, recall_score\n",
        "from sklearn.metrics import f1_score\n",
        "import matplotlib.pyplot as plt\n",
        "import os\n",
        "import seaborn as sns; sns.set_theme()\n",
        "import errno\n",
        "\n",
        "from keras.layers import Flatten\n",
        "from keras.layers import ConvLSTM2D\n",
        "from keras.models import load_model\n",
        "import pickle\n",
        "from sklearn.metrics import accuracy_score, roc_curve, auc, classification_report, confusion_matrix\n",
        "\n",
        "from imblearn.over_sampling import SMOTE\n",
        "from collections import Counter\n",
        "import imblearn\n",
        "import collections\n",
        "from sklearn.datasets import make_classification\n",
        "from sklearn.linear_model import LogisticRegression\n",
        "from sklearn.model_selection import train_test_split\n",
        "from sklearn.metrics import precision_recall_curve\n",
        "from sklearn.metrics import f1_score\n",
        "from matplotlib import pyplot"
      ]
    },
    {
      "cell_type": "code",
      "execution_count": null,
      "metadata": {
        "id": "KOUhxJrD24c-"
      },
      "outputs": [],
      "source": [
        "import pandas as pd\n",
        "\n",
        "def load_data_south_indian(url):\n",
        "    \"\"\"\n",
        "    Load and preprocess data for South Indian region.\n",
        "\n",
        "    Parameters:\n",
        "    - url (str): URL or file path to the CSV file.\n",
        "\n",
        "    Returns:\n",
        "    - pd.DataFrame: Processed DataFrame with a 'category' column.\n",
        "    \"\"\"\n",
        "    # Load data from CSV\n",
        "    df = pd.read_csv(url)\n",
        "\n",
        "    # Add a 'category' column based on speed ranges\n",
        "    df['category'] = df['Speed(knots)'].apply(lambda x:\n",
        "        0 if x <= 33 else\n",
        "        1 if 34 <= x <= 47 else\n",
        "        2 if 48 <= x <= 63 else\n",
        "        3 if 64 <= x <= 89 else\n",
        "        4 if 90 <= x <= 115 else\n",
        "        5\n",
        "    )\n",
        "\n",
        "    return df\n",
        "\n",
        "def load_data_south_pacific(url):\n",
        "    \"\"\"\n",
        "    Load and preprocess data for South Pacific region.\n",
        "\n",
        "    Parameters:\n",
        "    - url (str): URL or file path to the CSV file.\n",
        "\n",
        "    Returns:\n",
        "    - pd.DataFrame: Processed DataFrame with a 'category' column.\n",
        "    \"\"\"\n",
        "    # Load data from CSV\n",
        "    df = pd.read_csv(url)\n",
        "\n",
        "    # Add a 'category' column based on speed ranges\n",
        "    df['category'] = df['Speed(knots)'].apply(lambda x:\n",
        "        0 if x <= 33 else\n",
        "        1 if 34 <= x <= 47 else\n",
        "        2 if 48 <= x <= 63 else\n",
        "        3 if 64 <= x <= 85 else\n",
        "        4 if 86 <= x <= 107 else\n",
        "        5\n",
        "    )\n",
        "\n",
        "    return df"
      ]
    },
    {
      "cell_type": "code",
      "execution_count": null,
      "metadata": {
        "colab": {
          "base_uri": "https://localhost:8080/"
        },
        "id": "OCsjC7N13a2A",
        "outputId": "74a526f6-b5b8-4e1b-a502-d21683644fc4"
      },
      "outputs": [
        {
          "output_type": "stream",
          "name": "stdout",
          "text": [
            "Selected ocean: south_pacific\n",
            "Data URL: https://raw.githubusercontent.com/sydney-machine-learning/cyclonedatasets/main/SouthIndian-SouthPacific-Ocean/South_pacific_hurricane.csv\n",
            "Hot-encoded result file name: south_pacific\n",
            "Category result file name: roc_data_south_pacific\n"
          ]
        }
      ],
      "source": [
        "ocean = 'south_pacific'\n",
        "\n",
        "# Display the selected ocean\n",
        "print(f\"Selected ocean: {ocean}\")\n",
        "\n",
        "# Set the data URL and function based on the selected ocean\n",
        "if ocean == 'south_indian':\n",
        "    url_data = 'https://raw.githubusercontent.com/sydney-machine-learning/cyclonedatasets/main/SouthIndian-SouthPacific-Ocean/South_indian_hurricane.csv'\n",
        "    data_loading_function = load_data_south_indian\n",
        "    hot_encoded_result_file_name = 'south_indian'\n",
        "    category_result_file_name = 'roc_data_south_indian'\n",
        "else:\n",
        "    url_data = 'https://raw.githubusercontent.com/sydney-machine-learning/cyclonedatasets/main/SouthIndian-SouthPacific-Ocean/South_pacific_hurricane.csv'\n",
        "    data_loading_function = load_data_south_pacific\n",
        "    hot_encoded_result_file_name = 'south_pacific'\n",
        "    category_result_file_name = 'roc_data_south_pacific'\n",
        "\n",
        "# Display the data URL for verification\n",
        "print(f\"Data URL: {url_data}\")\n",
        "\n",
        "# Display the result file names\n",
        "print(f\"Hot-encoded result file name: {hot_encoded_result_file_name}\")\n",
        "print(f\"Category result file name: {category_result_file_name}\")"
      ]
    },
    {
      "cell_type": "code",
      "execution_count": null,
      "metadata": {
        "colab": {
          "base_uri": "https://localhost:8080/"
        },
        "id": "ZTV9sdXL3dFu",
        "outputId": "5795ca01-bd36-43df-ecdb-c897e5c7db8c"
      },
      "outputs": [
        {
          "output_type": "stream",
          "name": "stdout",
          "text": [
            "DataFrame Head:\n",
            "  Basin  No. of Cycl        Time     V5  V6   Lat    Lon  Speed(knots)  \\\n",
            "0    SP           14  1982012518   BEST   0  18.0  154.1            25   \n",
            "1    SP           14  1982012600   BEST   0  19.1  154.8            25   \n",
            "2    SP           14  1982012606   BEST   0  19.7  155.7            25   \n",
            "3    SP           14  1982012612   BEST   0  19.9  156.7            30   \n",
            "4    SP           14  1982012618   BEST   0  20.1  157.8            35   \n",
            "\n",
            "   lat_tenth  lon_tenth  category  \n",
            "0       18.0      154.1         0  \n",
            "1       19.1      154.8         0  \n",
            "2       19.7      155.7         0  \n",
            "3       19.9      156.7         0  \n",
            "4       20.1      157.8         1  \n"
          ]
        }
      ],
      "source": [
        "# Load data using the specified function and URL\n",
        "df = data_loading_function(url_data)\n",
        "\n",
        "# Latitude and longitude values into int\n",
        "df['Lat'] = df['Lat'].apply(lambda x: -int(x[:-1]) * 0.1 if x.endswith('N') else int(x[:-1]) * 0.1 if x.endswith('S') else 0)\n",
        "df['Lon'] = df['Lon'].apply(lambda x: -int(x[:-1]) * 0.1 if x.endswith('W') else int(x[:-1]) * 0.1 if x.endswith('E') else 0)\n",
        "\n",
        "# Extract 'Speed(knots)' and 'category' columns as lists\n",
        "speed = df['Speed(knots)'].tolist()\n",
        "categories = df['category'].tolist()\n",
        "latitude = df['Lat'].tolist()\n",
        "longitude = df['Lon'].tolist()\n",
        "\n",
        "\n",
        "# Display the first few rows of the DataFrame\n",
        "df_head = df.head()\n",
        "print(\"DataFrame Head:\")\n",
        "print(df_head)\n"
      ]
    },
    {
      "cell_type": "code",
      "execution_count": null,
      "metadata": {
        "id": "xLvRTLtL3f93"
      },
      "outputs": [],
      "source": [
        "from sklearn.metrics import confusion_matrix, accuracy_score, precision_score, recall_score, f1_score, roc_auc_score\n",
        "import numpy as np\n",
        "import matplotlib.pyplot as plt\n",
        "import seaborn as sns\n",
        "\n",
        "def split_sequence(sequences, n_steps_in, n_steps_out):\n",
        "    \"\"\"\n",
        "    Split multivariate sequences into input and output parts.\n",
        "\n",
        "    Parameters:\n",
        "    - sequences (numpy.ndarray): Multivariate time series data.\n",
        "    - n_steps_in (int): Number of input time steps.\n",
        "    - n_steps_out (int): Number of output time steps.\n",
        "\n",
        "    Returns:\n",
        "    - tuple: Input sequences (X) and output sequences (y) as numpy arrays.\n",
        "    \"\"\"\n",
        "    X, y = list(), list()\n",
        "    for i in range(len(sequences)):\n",
        "        end_ix = i + n_steps_in\n",
        "        out_end_ix = end_ix + n_steps_out\n",
        "        if out_end_ix > len(sequences):\n",
        "            break\n",
        "        seq_x, seq_y = sequences[i:end_ix, :], sequences[end_ix:out_end_ix, -1]\n",
        "        X.append(seq_x)\n",
        "        y.append(seq_y)\n",
        "    return np.array(X), np.array(y)\n",
        "\n",
        "def uni_split_sequence(sequence, n_steps):\n",
        "    \"\"\"\n",
        "    Split univariate sequence into input and output parts.\n",
        "\n",
        "    Parameters:\n",
        "    - sequence (list): Univariate time series data.\n",
        "    - n_steps (int): Number of input time steps.\n",
        "\n",
        "    Returns:\n",
        "    - tuple: Input sequences (X) and output sequences (y) as numpy arrays.\n",
        "    \"\"\"\n",
        "    X, y = list(), list()\n",
        "    for i in range(len(sequence)):\n",
        "        end_ix = i + n_steps\n",
        "        if end_ix > len(sequence) - 1:\n",
        "            break\n",
        "        seq_x, seq_y = sequence[i:end_ix], sequence[end_ix]\n",
        "        X.append(seq_x)\n",
        "        y.append(seq_y)\n",
        "    return np.array(X), np.array(y)\n",
        "\n",
        "\n",
        "def multivariate_split_sequence(sequence, n_steps):\n",
        "    \"\"\"\n",
        "    Split multivariate sequence into input and output parts.\n",
        "\n",
        "    Parameters:\n",
        "    - sequence (numpy.ndarray): Multivariate time series data.\n",
        "    - n_steps (int): Number of input time steps.\n",
        "\n",
        "    Returns:\n",
        "    - tuple: Input sequences (X) and output sequences (y) as numpy arrays.\n",
        "    \"\"\"\n",
        "    X, y = list(), list()\n",
        "    for i in range(len(sequence)):\n",
        "        end_ix = i + n_steps\n",
        "        if end_ix > len(sequence) - 1:\n",
        "            break\n",
        "        seq_x, seq_y = sequence[i:end_ix, :], sequence[end_ix, -1]\n",
        "        X.append(seq_x)\n",
        "        y.append(seq_y)\n",
        "    return np.array(X), np.array(y)\n",
        "\n",
        "# Example usage:\n",
        "# Assuming df is your DataFrame with 'Latitude', 'Longitude', 'Speed(knots)', and 'category' columns\n",
        "features_columns = ['Lat', 'Lon']\n",
        "target_column = 'category'\n",
        "\n",
        "# Extract features and target\n",
        "features = df[features_columns].values\n",
        "target = df[target_column].values\n",
        "\n",
        "n_steps = 5  # Number of input time steps\n",
        "\n",
        "X, y = multivariate_split_sequence(features, n_steps)\n",
        "\n",
        "# Now X contains sequences of 'Latitude', 'Longitude', and 'Speed(knots)' for each time step,\n",
        "# and y contains the corresponding 'category' values.\n",
        "\n",
        "def rmse(pred, actual):\n",
        "    \"\"\"\n",
        "    Calculate the Root Mean Squared Error (RMSE) between two arrays.\n",
        "\n",
        "    Parameters:\n",
        "    - pred (numpy.ndarray): Predicted values.\n",
        "    - actual (numpy.ndarray): Actual values.\n",
        "\n",
        "    Returns:\n",
        "    - float: Root Mean Squared Error.\n",
        "    \"\"\"\n",
        "    return np.sqrt(((pred - actual) ** 2).mean())\n",
        "\n",
        "def categorical(pred, actual):\n",
        "    \"\"\"\n",
        "    Compute classification metrics for categorical values.\n",
        "\n",
        "    Parameters:\n",
        "    - pred (numpy.ndarray): Predicted categorical values.\n",
        "    - actual (numpy.ndarray): Actual categorical values.\n",
        "\n",
        "    Returns:\n",
        "    - tuple: Accuracy, AUC, Confusion Matrix, Precision, Recall, F1 Score.\n",
        "    \"\"\"\n",
        "    cm = confusion_matrix(pred, actual)\n",
        "    acc = accuracy_score(actual, pred, normalize=True, sample_weight=None)\n",
        "    ps1 = precision_score(pred, actual, average='micro')\n",
        "    rs1 = recall_score(pred, actual, average='micro')\n",
        "    f11 = f1_score(pred, actual, average='micro')\n",
        "    auc = roc_auc_score(actual, pred)\n",
        "    return acc, auc, cm, ps1, rs1, f11\n",
        "\n",
        "def make_confusion_matrix_chart(cf_matrix_test, cmap='Blues', annot_kws=None):\n",
        "    \"\"\"\n",
        "    Generate and display a heatmap-style confusion matrix chart.\n",
        "\n",
        "    Parameters:\n",
        "    - cf_matrix_test (numpy.ndarray): Confusion matrix.\n",
        "    - cmap (str): Colormap for the heatmap.\n",
        "    - annot_kws (dict): Additional keyword arguments for annotation customization.\n",
        "\n",
        "    Returns:\n",
        "    - None\n",
        "    \"\"\"\n",
        "    # Set up the figure and axes\n",
        "    plt.figure(figsize=(12, 6))\n",
        "\n",
        "    # Customize the heatmap using seaborn\n",
        "    sns.heatmap(cf_matrix_test, annot=True, cmap=cmap,\n",
        "                yticklabels=['0', '1'], xticklabels=['0', '1'],\n",
        "                fmt='g', annot_kws=annot_kws)\n",
        "\n",
        "    # Customize axis labels and title\n",
        "    plt.ylabel(\"Actual\")\n",
        "    plt.xlabel(\"Predicted\")\n",
        "    plt.title('Confusion Matrix - Test Data')\n",
        "\n",
        "    return None\n"
      ]
    },
    {
      "cell_type": "code",
      "execution_count": null,
      "metadata": {
        "id": "sXlHEMGB3kpZ"
      },
      "outputs": [],
      "source": [
        "# Define whether it's a univariate or multivariate case\n",
        "univariate_1 = False  # If True, it's a multivariate case\n",
        "\n",
        "# Define sequence and time step parameters\n",
        "n_steps_in_1 = 6 # Adjust based on the number of time steps you want to consider for input\n",
        "n_seq_1= 2  # Adjust based on your specific needs\n",
        "n_steps_out_1 = 1  # Number of output time steps\n",
        "\n",
        "# Define the number of features for input and output\n",
        "n_features_in_1 = 2  # Latitude, Longitude\n",
        "n_features_out_1 = 2  # 'category'\n",
        "\n",
        "# Define whether it's a univariate or multivariate case\n",
        "univariate_2 = True  # If not True, it's a multivariate case\n",
        "\n",
        "# Define sequence and time step parameters\n",
        "n_steps_in_2  = 8  # Adjust based on the number of time steps you want to consider for input\n",
        "n_seq_2 = 2  # Adjust based on your specific needs\n",
        "n_steps_out_2 = 1  # Number of output time steps\n",
        "\n",
        "# Define the number of features for input and output\n",
        "n_features_in_2 = 1  # Latitude, Longitude, Speed\n",
        "n_features_out_2 = 2  # 'category'\n",
        "\n",
        "# Define the number of hidden layers in the model\n",
        "hidden_layers = 50\n",
        "\n",
        "# Define training parameters\n",
        "epochs = 100\n",
        "No_exp = 30 # Number of experiments\n",
        "\n",
        "# Display the configuration\n"
      ]
    },
    {
      "cell_type": "code",
      "execution_count": null,
      "metadata": {
        "id": "frodZUc13scG"
      },
      "outputs": [],
      "source": [
        "# Initialize variables\n",
        "cyclone_id = df['No. of Cycl'][0]\n",
        "X1= []\n",
        "Y1 = []\n",
        "start_index = 0\n",
        "end_index = 0\n",
        "\n",
        "# Iterate through the DataFrame\n",
        "for i in range(1, df.shape[0]):\n",
        "    # Check if the cyclone ID is the same as the previous row\n",
        "    if df['No. of Cycl'][i] == cyclone_id:\n",
        "        end_index += 1\n",
        "    else:\n",
        "        # Split the sequence and append to X and Y\n",
        "        x, y = multivariate_split_sequence(features[start_index:end_index + 1, :], n_steps_in_1)\n",
        "        X1.append(x)\n",
        "        Y1.append(y)\n",
        "\n",
        "        # Update start and end indices for the new cyclone\n",
        "        cyclone_id = df['No. of Cycl'][i]\n",
        "        start_index = i\n",
        "        end_index = i\n",
        "\n",
        "    # Check if it's the last row of the DataFrame\n",
        "    if i == df.shape[0] - 1:\n",
        "        # Split the sequence and append to X and Y\n",
        "        x, y = multivariate_split_sequence(features[start_index:end_index + 1, :], n_steps_in_1)\n",
        "        X1.append(x)\n",
        "        Y1.append(y)\n"
      ]
    },
    {
      "cell_type": "code",
      "execution_count": null,
      "metadata": {
        "colab": {
          "base_uri": "https://localhost:8080/"
        },
        "id": "mTLC93op3wHR",
        "outputId": "0c09bac2-d239-41db-9dde-00ccb3dad73b"
      },
      "outputs": [
        {
          "output_type": "stream",
          "name": "stdout",
          "text": [
            "Initial Lengths - X: 391 Y: 391\n",
            "Flattened Lengths - X: 9697 Y: 9697\n",
            "159.10000000000002\n"
          ]
        }
      ],
      "source": [
        "# Print the initial lengths of X and Y\n",
        "print(\"Initial Lengths - X:\", len(X1), \"Y:\", len(Y1))\n",
        "\n",
        "# Flattening X and Y\n",
        "X1 = [item for sublist in X1 for item in sublist]\n",
        "Y1 = [item for sublist in Y1 for item in sublist]\n",
        "\n",
        "# Print lengths of X and Y after flattening\n",
        "print(\"Flattened Lengths - X:\", len(X1), \"Y:\", len(Y1))\n",
        "\n",
        "# Print some initial values from X and Y\n",
        "print(Y1[0])\n",
        "\n",
        "# Print some initial values from the 'speed' column\n"
      ]
    },
    {
      "cell_type": "code",
      "execution_count": null,
      "metadata": {
        "id": "2m1aUDHR3zqk"
      },
      "outputs": [],
      "source": [
        "# Initialize variables\n",
        "cyclone_id = df['No. of Cycl'][0]\n",
        "X = []\n",
        "Y = []\n",
        "start_index = 0\n",
        "end_index = 0\n",
        "\n",
        "# Iterate through the DataFrame\n",
        "for i in range(1, df.shape[0]):\n",
        "    # Check if the cyclone ID is the same as the previous row\n",
        "    if df['No. of Cycl'][i] == cyclone_id:\n",
        "        end_index += 1\n",
        "    else:\n",
        "        # Split the sequence and append to X and Y\n",
        "        x, y = uni_split_sequence(speed[start_index:end_index + 1], n_steps_in_1)\n",
        "        X.append(x)\n",
        "        Y.append(y)\n",
        "\n",
        "        # Update start and end indices for the new cyclone\n",
        "        cyclone_id = df['No. of Cycl'][i]\n",
        "        start_index = i\n",
        "        end_index = i\n",
        "\n",
        "    # Check if it's the last row of the DataFrame\n",
        "    if i == df.shape[0] - 1:\n",
        "        # Split the sequence and append to X and Y\n",
        "        x, y = uni_split_sequence(speed[start_index:end_index + 1], n_steps_in_1)\n",
        "        X.append(x)\n",
        "        Y.append(y)"
      ]
    },
    {
      "cell_type": "code",
      "execution_count": null,
      "metadata": {
        "colab": {
          "base_uri": "https://localhost:8080/"
        },
        "id": "Uvz8_w_h32-U",
        "outputId": "c04a79e0-16a5-4aaa-b836-537f2fa8ee2a"
      },
      "outputs": [
        {
          "output_type": "stream",
          "name": "stdout",
          "text": [
            "391 391\n",
            "9697 9697\n",
            "<class 'list'> 40\n",
            "[25, 25, 25, 30, 35, 40, 40, 40, 40, 40]\n"
          ]
        }
      ],
      "source": [
        "# Print the initial lengths of X and Y\n",
        "print(len(X), len(Y))\n",
        "# Flattening X and Y\n",
        "X = [item for sublist in X for item in sublist]\n",
        "Y = [item for sublist in Y for item in sublist]\n",
        "# Print lengths of X and Y after flattening\n",
        "print(len(X), len(Y))\n",
        "print(type(X), Y[0])\n",
        "print(speed[:10])\n"
      ]
    },
    {
      "cell_type": "code",
      "execution_count": null,
      "metadata": {
        "colab": {
          "base_uri": "https://localhost:8080/"
        },
        "id": "StJf70Nk36B6",
        "outputId": "5e0445f7-2e7e-41cc-9627-a617c6c73c20"
      },
      "outputs": [
        {
          "name": "stdout",
          "output_type": "stream",
          "text": [
            "18863\n"
          ]
        }
      ],
      "source": []
    },
    {
      "cell_type": "code",
      "execution_count": null,
      "metadata": {
        "colab": {
          "base_uri": "https://localhost:8080/"
        },
        "id": "abT14GsW9sx7",
        "outputId": "395f3ee3-2786-4319-fd28-4702723c337b"
      },
      "outputs": [
        {
          "output_type": "stream",
          "name": "stdout",
          "text": [
            "9697\n"
          ]
        }
      ],
      "source": [
        "\n",
        "# Initialize 'intensify_y' with zeros\n",
        "intensify_y = [0] * len(X)\n",
        "\n",
        "# Iterate through each row in X and update intensify_y based on the condition\n",
        "for i in range(len(X)):\n",
        "    for j in range(len(X[0]) - 4, len(X[0])):\n",
        "        if (Y[i] - X[i][j]) >= 30:\n",
        "            intensify_y[i] = 1\n",
        "            break\n",
        "\n",
        "print(len(intensify_y))\n",
        "\n",
        "# Use 'intensify_y' as the updated target variable\n",
        "Y = intensify_y\n",
        "Y1 = Y\n"
      ]
    },
    {
      "cell_type": "code",
      "execution_count": null,
      "metadata": {
        "colab": {
          "base_uri": "https://localhost:8080/"
        },
        "id": "4aM-YiXm4LMn",
        "outputId": "aa916779-d0fa-46d6-e298-edd253c8557d"
      },
      "outputs": [
        {
          "output_type": "stream",
          "name": "stdout",
          "text": [
            "Training set size: 7272\n"
          ]
        }
      ],
      "source": [
        "# Calculate the training limit as 75% of the total length of X\n",
        "train_limit = int(len(X) * 0.75)\n",
        "\n",
        "# Display the calculated training limit\n",
        "print(\"Training set size:\", train_limit)"
      ]
    },
    {
      "cell_type": "code",
      "execution_count": null,
      "metadata": {
        "colab": {
          "base_uri": "https://localhost:8080/"
        },
        "id": "-jbqZnwi4OZk",
        "outputId": "7a6d53cd-3a8a-4df3-b01d-3d43edfe7415"
      },
      "outputs": [
        {
          "output_type": "stream",
          "name": "stdout",
          "text": [
            "[[ 18.  154.1]\n",
            " [ 19.1 154.8]\n",
            " [ 19.7 155.7]\n",
            " [ 19.9 156.7]\n",
            " [ 20.1 157.8]\n",
            " [ 20.4 158.6]] [25 25 25 30 35 40]\n"
          ]
        }
      ],
      "source": [
        "print(X1[0], X[0])"
      ]
    },
    {
      "cell_type": "code",
      "execution_count": null,
      "metadata": {
        "colab": {
          "base_uri": "https://localhost:8080/"
        },
        "id": "31UW_LE44TEW",
        "outputId": "a9cec1cd-66c0-4efa-80c2-da326175d3d7"
      },
      "outputs": [
        {
          "output_type": "stream",
          "name": "stdout",
          "text": [
            "Length of X: 9697\n",
            "Length of Y: 9697\n",
            "Length of Test X (for evaluation): [[  13.7 -171.6]\n",
            " [  13.4 -171.7]\n",
            " [  13.4 -171.7]\n",
            " [  13.4 -171.7]\n",
            " [  13.  -171.9]\n",
            " [  13.  -171.9]]\n",
            "Length of Test Y (for evaluation): 0\n",
            "Length of X: 9697\n",
            "Length of Y: 9697\n",
            "Length of Test X (for evaluation): [array([ 90,  90,  90,  90, 100, 100]), array([ 90,  90,  90, 100, 100, 100]), array([ 90,  90, 100, 100, 100, 100]), array([ 90, 100, 100, 100, 100, 100]), array([100, 100, 100, 100, 100, 100]), array([100, 100, 100, 100, 100, 100]), array([100, 100, 100, 100, 100, 100]), array([100, 100, 100, 100, 100, 100]), array([100, 100, 100, 100, 100,  95]), array([100, 100, 100, 100,  95,  95]), array([100, 100, 100,  95,  95,  95]), array([100, 100,  95,  95,  95,  90]), array([100,  95,  95,  95,  90,  90]), array([95, 95, 95, 90, 90, 90]), array([95, 95, 90, 90, 90, 90]), array([95, 90, 90, 90, 90, 90]), array([90, 90, 90, 90, 90, 90]), array([90, 90, 90, 90, 90, 90]), array([90, 90, 90, 90, 90, 90]), array([90, 90, 90, 90, 90, 90]), array([ 90,  90,  90,  90,  90, 100]), array([ 90,  90,  90,  90, 100, 100]), array([ 90,  90,  90, 100, 100, 100]), array([ 90,  90, 100, 100, 100, 105]), array([ 90, 100, 100, 100, 105, 105]), array([100, 100, 100, 105, 105, 105]), array([100, 100, 105, 105, 105, 105]), array([100, 105, 105, 105, 105, 105]), array([105, 105, 105, 105, 105, 105]), array([105, 105, 105, 105, 105, 115]), array([105, 105, 105, 105, 115, 115]), array([105, 105, 105, 115, 115, 115]), array([105, 105, 115, 115, 115, 115]), array([105, 115, 115, 115, 115, 115]), array([115, 115, 115, 115, 115, 115]), array([115, 115, 115, 115, 115, 125]), array([115, 115, 115, 115, 125, 125]), array([115, 115, 115, 125, 125, 125]), array([115, 115, 125, 125, 125, 125]), array([115, 125, 125, 125, 125, 125]), array([125, 125, 125, 125, 125, 125]), array([125, 125, 125, 125, 125, 115]), array([125, 125, 125, 125, 115, 115]), array([125, 125, 125, 115, 115, 115]), array([125, 125, 115, 115, 115,  95]), array([125, 115, 115, 115,  95,  95]), array([115, 115, 115,  95,  95,  95]), array([115, 115,  95,  95,  95,  90]), array([115,  95,  95,  95,  90,  90]), array([95, 95, 95, 90, 90, 90]), array([95, 95, 90, 90, 90, 85]), array([95, 90, 90, 90, 85, 85]), array([90, 90, 90, 85, 85, 85]), array([90, 90, 85, 85, 85, 80]), array([90, 85, 85, 85, 80, 80]), array([85, 85, 85, 80, 80, 80]), array([85, 85, 80, 80, 80, 65]), array([85, 80, 80, 80, 65, 65]), array([80, 80, 80, 65, 65, 55]), array([80, 80, 65, 65, 55, 55]), array([80, 65, 65, 55, 55, 40]), array([65, 65, 55, 55, 40, 35]), array([65, 55, 55, 40, 35, 35]), array([55, 55, 40, 35, 35, 35]), array([20, 25, 30, 30, 30, 40]), array([25, 30, 30, 30, 40, 45]), array([30, 30, 30, 40, 45, 55]), array([30, 30, 40, 45, 55, 55]), array([30, 40, 45, 55, 55, 60]), array([40, 45, 55, 55, 60, 60]), array([45, 55, 55, 60, 60, 80]), array([55, 55, 60, 60, 80, 80]), array([55, 60, 60, 80, 80, 80]), array([60, 60, 80, 80, 80, 90]), array([60, 80, 80, 80, 90, 90]), array([80, 80, 80, 90, 90, 90]), array([ 80,  80,  90,  90,  90, 100]), array([ 80,  90,  90,  90, 100, 100]), array([ 90,  90,  90, 100, 100, 100]), array([ 90,  90, 100, 100, 100, 100]), array([ 90, 100, 100, 100, 100, 100]), array([100, 100, 100, 100, 100, 100]), array([100, 100, 100, 100, 100, 105]), array([100, 100, 100, 100, 105, 105]), array([100, 100, 100, 105, 105, 105]), array([100, 100, 105, 105, 105, 110]), array([100, 105, 105, 105, 110, 110]), array([105, 105, 105, 110, 110, 110]), array([105, 105, 110, 110, 110, 105]), array([105, 110, 110, 110, 105, 105]), array([110, 110, 110, 105, 105, 105]), array([110, 110, 105, 105, 105,  95]), array([110, 105, 105, 105,  95,  95]), array([105, 105, 105,  95,  95,  95]), array([105, 105,  95,  95,  95,  90]), array([105,  95,  95,  95,  90,  90]), array([95, 95, 95, 90, 90, 90]), array([95, 95, 90, 90, 90, 80]), array([95, 90, 90, 90, 80, 80]), array([90, 90, 90, 80, 80, 80]), array([90, 90, 80, 80, 80, 70]), array([90, 80, 80, 80, 70, 70]), array([80, 80, 80, 70, 70, 70]), array([80, 80, 70, 70, 70, 65]), array([80, 70, 70, 70, 65, 65]), array([70, 70, 70, 65, 65, 45]), array([70, 70, 65, 65, 45, 40]), array([70, 65, 65, 45, 40, 35]), array([65, 65, 45, 40, 35, 35]), array([65, 45, 40, 35, 35, 35]), array([45, 40, 35, 35, 35, 30]), array([40, 35, 35, 35, 30, 40]), array([35, 35, 35, 30, 40, 45]), array([35, 35, 30, 40, 45, 40]), array([25, 25, 25, 25, 25, 30]), array([25, 25, 25, 25, 30, 30]), array([25, 25, 25, 30, 30, 30]), array([25, 25, 30, 30, 30, 35]), array([25, 30, 30, 30, 35, 35]), array([30, 30, 30, 35, 35, 35]), array([30, 30, 35, 35, 35, 35]), array([30, 35, 35, 35, 35, 40]), array([35, 35, 35, 35, 40, 40]), array([35, 35, 35, 40, 40, 45]), array([35, 35, 40, 40, 45, 45]), array([35, 40, 40, 45, 45, 45]), array([40, 40, 45, 45, 45, 45]), array([40, 45, 45, 45, 45, 45]), array([45, 45, 45, 45, 45, 45]), array([45, 45, 45, 45, 45, 45]), array([45, 45, 45, 45, 45, 45]), array([45, 45, 45, 45, 45, 55]), array([45, 45, 45, 45, 55, 65]), array([45, 45, 45, 55, 65, 65]), array([45, 45, 55, 65, 65, 65]), array([45, 55, 65, 65, 65, 65]), array([55, 65, 65, 65, 65, 80]), array([65, 65, 65, 65, 80, 80]), array([65, 65, 65, 80, 80, 80]), array([65, 65, 80, 80, 80, 85]), array([65, 80, 80, 80, 85, 85]), array([80, 80, 80, 85, 85, 85]), array([80, 80, 85, 85, 85, 80]), array([80, 85, 85, 85, 80, 80]), array([85, 85, 85, 80, 80, 80]), array([85, 85, 80, 80, 80, 75]), array([85, 80, 80, 80, 75, 75]), array([80, 80, 80, 75, 75, 75]), array([80, 80, 75, 75, 75, 65]), array([80, 75, 75, 75, 65, 65]), array([75, 75, 75, 65, 65, 55]), array([75, 75, 65, 65, 55, 55]), array([75, 65, 65, 55, 55, 50]), array([65, 65, 55, 55, 50, 50]), array([65, 55, 55, 50, 50, 50]), array([55, 55, 50, 50, 50, 50]), array([55, 50, 50, 50, 50, 45]), array([50, 50, 50, 50, 45, 40]), array([50, 50, 50, 45, 40, 35]), array([50, 50, 45, 40, 35, 30]), array([50, 45, 40, 35, 30, 30]), array([25, 25, 30, 40, 45, 35]), array([25, 30, 40, 45, 35, 30]), array([30, 40, 45, 35, 30, 30]), array([40, 45, 35, 30, 30, 30]), array([45, 35, 30, 30, 30, 30]), array([35, 30, 30, 30, 30, 25]), array([30, 30, 30, 30, 25, 25]), array([30, 30, 30, 25, 25, 20]), array([15, 25, 30, 30, 40, 45]), array([25, 30, 30, 40, 45, 45]), array([30, 30, 40, 45, 45, 45]), array([30, 40, 45, 45, 45, 45]), array([40, 45, 45, 45, 45, 40]), array([45, 45, 45, 45, 40, 35]), array([45, 45, 45, 40, 35, 30]), array([45, 45, 40, 35, 30, 30]), array([45, 40, 35, 30, 30, 25]), array([40, 35, 30, 30, 25, 20]), array([35, 30, 30, 25, 20, 20]), array([30, 30, 25, 20, 20, 20]), array([30, 25, 20, 20, 20, 20]), array([25, 20, 20, 20, 20, 20]), array([20, 20, 20, 20, 20, 20]), array([20, 20, 20, 20, 20, 20]), array([20, 20, 20, 20, 20, 20]), array([20, 20, 20, 20, 20, 20]), array([20, 20, 20, 20, 20, 20]), array([25, 25, 25, 25, 25, 25]), array([25, 25, 25, 25, 25, 25]), array([25, 25, 25, 25, 25, 30]), array([25, 25, 25, 25, 30, 35]), array([25, 25, 25, 30, 35, 40]), array([25, 25, 30, 35, 40, 45]), array([25, 30, 35, 40, 45, 50]), array([30, 35, 40, 45, 50, 60]), array([35, 40, 45, 50, 60, 60]), array([40, 45, 50, 60, 60, 65]), array([45, 50, 60, 60, 65, 65]), array([50, 60, 60, 65, 65, 65]), array([60, 60, 65, 65, 65, 65]), array([60, 65, 65, 65, 65, 65]), array([65, 65, 65, 65, 65, 65]), array([65, 65, 65, 65, 65, 65]), array([65, 65, 65, 65, 65, 65]), array([65, 65, 65, 65, 65, 75]), array([65, 65, 65, 65, 75, 75]), array([65, 65, 65, 75, 75, 75]), array([65, 65, 75, 75, 75, 85]), array([65, 75, 75, 75, 85, 85]), array([75, 75, 75, 85, 85, 85]), array([75, 75, 85, 85, 85, 95]), array([75, 85, 85, 85, 95, 95]), array([85, 85, 85, 95, 95, 95]), array([ 85,  85,  95,  95,  95, 105]), array([ 85,  95,  95,  95, 105, 105]), array([ 95,  95,  95, 105, 105, 105]), array([ 95,  95, 105, 105, 105, 110]), array([ 95, 105, 105, 105, 110, 110]), array([105, 105, 105, 110, 110, 110]), array([105, 105, 110, 110, 110, 110]), array([105, 110, 110, 110, 110, 110]), array([110, 110, 110, 110, 110, 110]), array([110, 110, 110, 110, 110, 105]), array([110, 110, 110, 110, 105, 105]), array([110, 110, 110, 105, 105, 105]), array([110, 110, 105, 105, 105, 100]), array([110, 105, 105, 105, 100, 100]), array([105, 105, 105, 100, 100, 100]), array([105, 105, 100, 100, 100,  90]), array([105, 100, 100, 100,  90,  90]), array([100, 100, 100,  90,  90,  90]), array([100, 100,  90,  90,  90,  80]), array([100,  90,  90,  90,  80,  80]), array([90, 90, 90, 80, 80, 80]), array([90, 90, 80, 80, 80, 80]), array([90, 80, 80, 80, 80, 80]), array([80, 80, 80, 80, 80, 80]), array([80, 80, 80, 80, 80, 75]), array([80, 80, 80, 80, 75, 75]), array([80, 80, 80, 75, 75, 75]), array([80, 80, 75, 75, 75, 60]), array([80, 75, 75, 75, 60, 60]), array([75, 75, 75, 60, 60, 50]), array([75, 75, 60, 60, 50, 50]), array([75, 60, 60, 50, 50, 40]), array([60, 60, 50, 50, 40, 45]), array([60, 50, 50, 40, 45, 30]), array([50, 50, 40, 45, 30, 25]), array([50, 40, 45, 30, 25, 20]), array([40, 45, 30, 25, 20, 40]), array([45, 30, 25, 20, 40, 35]), array([30, 25, 20, 40, 35, 30]), array([25, 20, 40, 35, 30, 30]), array([20, 40, 35, 30, 30, 30]), array([40, 35, 30, 30, 30, 25]), array([35, 30, 30, 30, 25, 25]), array([30, 30, 30, 25, 25, 25]), array([30, 30, 25, 25, 25, 25]), array([30, 25, 25, 25, 25, 25]), array([25, 25, 25, 25, 25, 25]), array([20, 25, 35, 45, 45, 50]), array([25, 35, 45, 45, 50, 50]), array([35, 45, 45, 50, 50, 50]), array([45, 45, 50, 50, 50, 45]), array([45, 50, 50, 50, 45, 45]), array([50, 50, 50, 45, 45, 45]), array([50, 50, 45, 45, 45, 40]), array([50, 45, 45, 45, 40, 40]), array([45, 45, 45, 40, 40, 35]), array([45, 45, 40, 40, 35, 35]), array([45, 40, 40, 35, 35, 35]), array([40, 40, 35, 35, 35, 35]), array([40, 35, 35, 35, 35, 35]), array([35, 35, 35, 35, 35, 35]), array([35, 35, 35, 35, 35, 30]), array([35, 35, 35, 35, 30, 30]), array([35, 35, 35, 30, 30, 25]), array([35, 35, 30, 30, 25, 25]), array([20, 20, 20, 25, 25, 25]), array([20, 20, 25, 25, 25, 25]), array([20, 25, 25, 25, 25, 25]), array([25, 25, 25, 25, 25, 25]), array([25, 25, 25, 25, 25, 30]), array([25, 25, 25, 25, 30, 30]), array([25, 25, 25, 30, 30, 30]), array([25, 25, 30, 30, 30, 30]), array([25, 30, 30, 30, 30, 35]), array([30, 30, 30, 30, 35, 45]), array([30, 30, 30, 35, 45, 55]), array([30, 30, 35, 45, 55, 55]), array([30, 35, 45, 55, 55, 65]), array([35, 45, 55, 55, 65, 65]), array([45, 55, 55, 65, 65, 60]), array([55, 55, 65, 65, 60, 60]), array([55, 65, 65, 60, 60, 60]), array([65, 65, 60, 60, 60, 60]), array([65, 60, 60, 60, 60, 50]), array([60, 60, 60, 60, 50, 35]), array([60, 60, 60, 50, 35, 25]), array([25, 25, 25, 20, 20, 25]), array([25, 25, 20, 20, 25, 30]), array([25, 20, 20, 25, 30, 35]), array([20, 20, 25, 30, 35, 30]), array([20, 25, 30, 35, 30, 25]), array([25, 30, 35, 30, 25, 25]), array([30, 35, 30, 25, 25, 20]), array([35, 30, 25, 25, 20, 20]), array([30, 25, 25, 20, 20, 20]), array([25, 25, 20, 20, 20, 20]), array([25, 20, 20, 20, 20, 20]), array([20, 20, 20, 20, 20, 20]), array([20, 20, 20, 20, 20, 15]), array([20, 20, 20, 20, 15, 15]), array([20, 20, 20, 15, 15, 15]), array([20, 20, 15, 15, 15, 15]), array([20, 20, 25, 25, 30, 35]), array([20, 25, 25, 30, 35, 35]), array([25, 25, 30, 35, 35, 35]), array([25, 30, 35, 35, 35, 35]), array([30, 35, 35, 35, 35, 35]), array([35, 35, 35, 35, 35, 35]), array([35, 35, 35, 35, 35, 35]), array([35, 35, 35, 35, 35, 35]), array([35, 35, 35, 35, 35, 45]), array([35, 35, 35, 35, 45, 55]), array([35, 35, 35, 45, 55, 55]), array([35, 35, 45, 55, 55, 55]), array([35, 45, 55, 55, 55, 55]), array([45, 55, 55, 55, 55, 55]), array([55, 55, 55, 55, 55, 75]), array([55, 55, 55, 55, 75, 75]), array([55, 55, 55, 75, 75, 80]), array([55, 55, 75, 75, 80, 80]), array([55, 75, 75, 80, 80, 80]), array([75, 75, 80, 80, 80, 90]), array([75, 80, 80, 80, 90, 90]), array([80, 80, 80, 90, 90, 90]), array([80, 80, 90, 90, 90, 90]), array([80, 90, 90, 90, 90, 90]), array([90, 90, 90, 90, 90, 90]), array([90, 90, 90, 90, 90, 90]), array([90, 90, 90, 90, 90, 90]), array([90, 90, 90, 90, 90, 90]), array([90, 90, 90, 90, 90, 90]), array([90, 90, 90, 90, 90, 90]), array([90, 90, 90, 90, 90, 90]), array([ 90,  90,  90,  90,  90, 100]), array([ 90,  90,  90,  90, 100, 100]), array([ 90,  90,  90, 100, 100, 100]), array([ 90,  90, 100, 100, 100, 110]), array([ 90, 100, 100, 100, 110, 110]), array([100, 100, 100, 110, 110, 110]), array([100, 100, 110, 110, 110, 115]), array([100, 110, 110, 110, 115, 115]), array([110, 110, 110, 115, 115, 115]), array([110, 110, 115, 115, 115, 120]), array([110, 115, 115, 115, 120, 120]), array([115, 115, 115, 120, 120, 120]), array([115, 115, 120, 120, 120, 130]), array([115, 120, 120, 120, 130, 130]), array([120, 120, 120, 130, 130, 130]), array([120, 120, 130, 130, 130, 130]), array([120, 130, 130, 130, 130, 130]), array([130, 130, 130, 130, 130, 130]), array([130, 130, 130, 130, 130, 130]), array([130, 130, 130, 130, 130, 130]), array([130, 130, 130, 130, 130, 130]), array([130, 130, 130, 130, 130, 125]), array([130, 130, 130, 130, 125, 125]), array([130, 130, 130, 125, 125, 125]), array([130, 130, 125, 125, 125, 115]), array([130, 125, 125, 125, 115, 115]), array([125, 125, 125, 115, 115, 115]), array([125, 125, 115, 115, 115,  95]), array([125, 115, 115, 115,  95,  95]), array([115, 115, 115,  95,  95,  95]), array([115, 115,  95,  95,  95,  80]), array([115,  95,  95,  95,  80,  80]), array([95, 95, 95, 80, 80, 80]), array([95, 95, 80, 80, 80, 70]), array([95, 80, 80, 80, 70, 70]), array([80, 80, 80, 70, 70, 70]), array([80, 80, 70, 70, 70, 60]), array([80, 70, 70, 70, 60, 60]), array([70, 70, 70, 60, 60, 55]), array([70, 70, 60, 60, 55, 55]), array([70, 60, 60, 55, 55, 50]), array([60, 60, 55, 55, 50, 45]), array([60, 55, 55, 50, 45, 30]), array([55, 55, 50, 45, 30, 30]), array([55, 50, 45, 30, 30, 30]), array([20, 25, 30, 30, 35, 45]), array([25, 30, 30, 35, 45, 45]), array([30, 30, 35, 45, 45, 45]), array([30, 35, 45, 45, 45, 40]), array([35, 45, 45, 45, 40, 40]), array([20, 25, 25, 30, 35, 45]), array([25, 25, 30, 35, 45, 45]), array([25, 30, 35, 45, 45, 40]), array([30, 35, 45, 45, 40, 40]), array([35, 45, 45, 40, 40, 30]), array([20, 20, 25, 25, 25, 25]), array([20, 25, 25, 25, 25, 30]), array([25, 25, 25, 25, 30, 30]), array([25, 25, 25, 30, 30, 30]), array([25, 25, 30, 30, 30, 30]), array([25, 30, 30, 30, 30, 40]), array([30, 30, 30, 30, 40, 50]), array([30, 30, 30, 40, 50, 50]), array([30, 30, 40, 50, 50, 50]), array([30, 40, 50, 50, 50, 55]), array([40, 50, 50, 50, 55, 45]), array([50, 50, 50, 55, 45, 40]), array([20, 20, 25, 20, 20, 25]), array([20, 25, 20, 20, 25, 25]), array([25, 20, 20, 25, 25, 30]), array([20, 20, 25, 25, 30, 30]), array([20, 25, 25, 30, 30, 35]), array([25, 25, 30, 30, 35, 35]), array([25, 30, 30, 35, 35, 40]), array([30, 30, 35, 35, 40, 45]), array([30, 35, 35, 40, 45, 45]), array([35, 35, 40, 45, 45, 45]), array([35, 40, 45, 45, 45, 45]), array([40, 45, 45, 45, 45, 50]), array([45, 45, 45, 45, 50, 50]), array([45, 45, 45, 50, 50, 50]), array([45, 45, 50, 50, 50, 50]), array([45, 50, 50, 50, 50, 50]), array([50, 50, 50, 50, 50, 50]), array([50, 50, 50, 50, 50, 45]), array([50, 50, 50, 50, 45, 40]), array([50, 50, 50, 45, 40, 30]), array([15, 20, 20, 25, 30, 30]), array([20, 20, 25, 30, 30, 35]), array([20, 25, 30, 30, 35, 35]), array([25, 30, 30, 35, 35, 35]), array([30, 30, 35, 35, 35, 35]), array([30, 35, 35, 35, 35, 30]), array([35, 35, 35, 35, 30, 30]), array([35, 35, 35, 30, 30, 30]), array([35, 35, 30, 30, 30, 30]), array([35, 30, 30, 30, 30, 30]), array([30, 30, 30, 30, 30, 25]), array([30, 30, 30, 30, 25, 25]), array([30, 30, 30, 25, 25, 20]), array([30, 30, 25, 25, 20, 20]), array([30, 25, 25, 20, 20, 20]), array([25, 25, 20, 20, 20, 15]), array([25, 20, 20, 20, 15, 15]), array([20, 20, 20, 15, 15, 15]), array([20, 20, 15, 15, 15, 20]), array([20, 15, 15, 15, 20, 20]), array([15, 15, 15, 20, 20, 25]), array([15, 15, 20, 20, 25, 25]), array([15, 20, 20, 25, 25, 25]), array([20, 20, 25, 25, 25, 30]), array([20, 25, 25, 25, 30, 30]), array([25, 25, 25, 30, 30, 30]), array([25, 25, 30, 30, 30, 30]), array([25, 30, 30, 30, 30, 25]), array([30, 30, 30, 30, 25, 25]), array([30, 30, 30, 25, 25, 25]), array([30, 30, 25, 25, 25, 25]), array([30, 25, 25, 25, 25, 25]), array([25, 25, 25, 25, 25, 25]), array([25, 25, 25, 25, 25, 25]), array([25, 25, 25, 25, 25, 25]), array([20, 20, 25, 25, 30, 30]), array([20, 25, 25, 30, 30, 45]), array([25, 25, 30, 30, 45, 40]), array([25, 30, 30, 45, 40, 40]), array([30, 30, 45, 40, 40, 45]), array([30, 45, 40, 40, 45, 45]), array([45, 40, 40, 45, 45, 50]), array([40, 40, 45, 45, 50, 50]), array([40, 45, 45, 50, 50, 55]), array([45, 45, 50, 50, 55, 55]), array([45, 50, 50, 55, 55, 55]), array([50, 50, 55, 55, 55, 55]), array([50, 55, 55, 55, 55, 60]), array([55, 55, 55, 55, 60, 60]), array([55, 55, 55, 60, 60, 65]), array([55, 55, 60, 60, 65, 65]), array([55, 60, 60, 65, 65, 65]), array([60, 60, 65, 65, 65, 65]), array([60, 65, 65, 65, 65, 65]), array([65, 65, 65, 65, 65, 70]), array([65, 65, 65, 65, 70, 70]), array([65, 65, 65, 70, 70, 70]), array([65, 65, 70, 70, 70, 70]), array([65, 70, 70, 70, 70, 70]), array([70, 70, 70, 70, 70, 60]), array([70, 70, 70, 70, 60, 60]), array([70, 70, 70, 60, 60, 45]), array([70, 70, 60, 60, 45, 30]), array([70, 60, 60, 45, 30, 25]), array([15, 20, 20, 20, 25, 30]), array([20, 20, 20, 25, 30, 35]), array([20, 20, 25, 30, 35, 40]), array([20, 25, 30, 35, 40, 35]), array([25, 30, 35, 40, 35, 30]), array([30, 35, 40, 35, 30, 20]), array([35, 40, 35, 30, 20, 20]), array([40, 35, 30, 20, 20, 20]), array([35, 30, 20, 20, 20, 20]), array([20, 25, 25, 30, 30, 30]), array([25, 25, 30, 30, 30, 35]), array([25, 30, 30, 30, 35, 30]), array([30, 30, 30, 35, 30, 30]), array([20, 25, 30, 35, 40, 40]), array([25, 30, 35, 40, 40, 40]), array([30, 35, 40, 40, 40, 40]), array([35, 40, 40, 40, 40, 40]), array([40, 40, 40, 40, 40, 45]), array([40, 40, 40, 40, 45, 45]), array([40, 40, 40, 45, 45, 45]), array([40, 40, 45, 45, 45, 45]), array([40, 45, 45, 45, 45, 45]), array([45, 45, 45, 45, 45, 45]), array([45, 45, 45, 45, 45, 50]), array([45, 45, 45, 45, 50, 55]), array([45, 45, 45, 50, 55, 55]), array([45, 45, 50, 55, 55, 55]), array([45, 50, 55, 55, 55, 60]), array([50, 55, 55, 55, 60, 60]), array([55, 55, 55, 60, 60, 65]), array([55, 55, 60, 60, 65, 65]), array([55, 60, 60, 65, 65, 65]), array([60, 60, 65, 65, 65, 65]), array([60, 65, 65, 65, 65, 65]), array([65, 65, 65, 65, 65, 65]), array([65, 65, 65, 65, 65, 70]), array([65, 65, 65, 65, 70, 70]), array([65, 65, 65, 70, 70, 70]), array([65, 65, 70, 70, 70, 75]), array([65, 70, 70, 70, 75, 75]), array([70, 70, 70, 75, 75, 75]), array([70, 70, 75, 75, 75, 80]), array([70, 75, 75, 75, 80, 80]), array([75, 75, 75, 80, 80, 80]), array([75, 75, 80, 80, 80, 90]), array([75, 80, 80, 80, 90, 90]), array([80, 80, 80, 90, 90, 90]), array([80, 80, 90, 90, 90, 95]), array([80, 90, 90, 90, 95, 95]), array([90, 90, 90, 95, 95, 95]), array([ 90,  90,  95,  95,  95, 105]), array([ 90,  95,  95,  95, 105, 105]), array([ 95,  95,  95, 105, 105, 105]), array([ 95,  95, 105, 105, 105, 120]), array([ 95, 105, 105, 105, 120, 120]), array([105, 105, 105, 120, 120, 120]), array([105, 105, 120, 120, 120, 140]), array([105, 120, 120, 120, 140, 140]), array([120, 120, 120, 140, 140, 140]), array([120, 120, 140, 140, 140, 140]), array([120, 140, 140, 140, 140, 140]), array([140, 140, 140, 140, 140, 140]), array([140, 140, 140, 140, 140, 135]), array([140, 140, 140, 140, 135, 135]), array([140, 140, 140, 135, 135, 135]), array([140, 140, 135, 135, 135, 125]), array([140, 135, 135, 135, 125, 125]), array([135, 135, 135, 125, 125, 125]), array([135, 135, 125, 125, 125,  90]), array([135, 125, 125, 125,  90,  90]), array([125, 125, 125,  90,  90,  90]), array([125, 125,  90,  90,  90,  75]), array([125,  90,  90,  90,  75,  75]), array([90, 90, 90, 75, 75, 75]), array([90, 90, 75, 75, 75, 65]), array([90, 75, 75, 75, 65, 65]), array([75, 75, 75, 65, 65, 50]), array([75, 75, 65, 65, 50, 45]), array([75, 65, 65, 50, 45, 45]), array([65, 65, 50, 45, 45, 45]), array([65, 50, 45, 45, 45, 45]), array([50, 45, 45, 45, 45, 45]), array([45, 45, 45, 45, 45, 45]), array([45, 45, 45, 45, 45, 45]), array([45, 45, 45, 45, 45, 45]), array([45, 45, 45, 45, 45, 45]), array([45, 45, 45, 45, 45, 40]), array([45, 45, 45, 45, 40, 35]), array([45, 45, 45, 40, 35, 30]), array([30, 40, 40, 40, 45, 45]), array([40, 40, 40, 45, 45, 45]), array([40, 40, 45, 45, 45, 45]), array([40, 45, 45, 45, 45, 50]), array([45, 45, 45, 45, 50, 50]), array([45, 45, 45, 50, 50, 50]), array([45, 45, 50, 50, 50, 50]), array([45, 50, 50, 50, 50, 55]), array([50, 50, 50, 50, 55, 55]), array([50, 50, 50, 55, 55, 55]), array([50, 50, 55, 55, 55, 55]), array([50, 55, 55, 55, 55, 50]), array([55, 55, 55, 55, 50, 50]), array([55, 55, 55, 50, 50, 45]), array([55, 55, 50, 50, 45, 40]), array([55, 50, 50, 45, 40, 35]), array([50, 50, 45, 40, 35, 30]), array([50, 45, 40, 35, 30, 30]), array([45, 40, 35, 30, 30, 30]), array([20, 30, 30, 30, 35, 45]), array([30, 30, 30, 35, 45, 45]), array([30, 30, 35, 45, 45, 55]), array([30, 35, 45, 45, 55, 55]), array([35, 45, 45, 55, 55, 65]), array([45, 45, 55, 55, 65, 65]), array([45, 55, 55, 65, 65, 70]), array([55, 55, 65, 65, 70, 70]), array([55, 65, 65, 70, 70, 70]), array([65, 65, 70, 70, 70, 75]), array([65, 70, 70, 70, 75, 75]), array([70, 70, 70, 75, 75, 75]), array([70, 70, 75, 75, 75, 85]), array([70, 75, 75, 75, 85, 85]), array([75, 75, 75, 85, 85, 85]), array([75, 75, 85, 85, 85, 70]), array([75, 85, 85, 85, 70, 70]), array([85, 85, 85, 70, 70, 70]), array([85, 85, 70, 70, 70, 60]), array([85, 70, 70, 70, 60, 60]), array([70, 70, 70, 60, 60, 60]), array([70, 70, 60, 60, 60, 60]), array([70, 60, 60, 60, 60, 60]), array([60, 60, 60, 60, 60, 60]), array([60, 60, 60, 60, 60, 55]), array([60, 60, 60, 60, 55, 55]), array([60, 60, 60, 55, 55, 50]), array([60, 60, 55, 55, 50, 45]), array([25, 30, 35, 45, 55, 55]), array([30, 35, 45, 55, 55, 60]), array([35, 45, 55, 55, 60, 60]), array([45, 55, 55, 60, 60, 60]), array([55, 55, 60, 60, 60, 60]), array([55, 60, 60, 60, 60, 65]), array([60, 60, 60, 60, 65, 65]), array([60, 60, 60, 65, 65, 70]), array([60, 60, 65, 65, 70, 70]), array([60, 65, 65, 70, 70, 70]), array([65, 65, 70, 70, 70, 70]), array([65, 70, 70, 70, 70, 70]), array([70, 70, 70, 70, 70, 75]), array([70, 70, 70, 70, 75, 75]), array([70, 70, 70, 75, 75, 75]), array([70, 70, 75, 75, 75, 80]), array([70, 75, 75, 75, 80, 80]), array([75, 75, 75, 80, 80, 80]), array([75, 75, 80, 80, 80, 90]), array([75, 80, 80, 80, 90, 90]), array([80, 80, 80, 90, 90, 90]), array([ 80,  80,  90,  90,  90, 100]), array([ 80,  90,  90,  90, 100, 100]), array([30, 30, 30, 30, 35, 35]), array([30, 30, 30, 35, 35, 40]), array([30, 30, 35, 35, 40, 45]), array([30, 35, 35, 40, 45, 65]), array([35, 35, 40, 45, 65, 65]), array([35, 40, 45, 65, 65, 90]), array([40, 45, 65, 65, 90, 90]), array([45, 65, 65, 90, 90, 90]), array([ 65,  65,  90,  90,  90, 115]), array([ 65,  90,  90,  90, 115, 115]), array([ 90,  90,  90, 115, 115, 115]), array([ 90,  90, 115, 115, 115, 125]), array([ 90, 115, 115, 115, 125, 125]), array([115, 115, 115, 125, 125, 125]), array([115, 115, 125, 125, 125, 115]), array([115, 125, 125, 125, 115, 115]), array([125, 125, 125, 115, 115, 115]), array([125, 125, 115, 115, 115,  75]), array([125, 115, 115, 115,  75,  75]), array([115, 115, 115,  75,  75,  75]), array([115, 115,  75,  75,  75,  55]), array([115,  75,  75,  75,  55,  55]), array([75, 75, 75, 55, 55, 35]), array([75, 75, 55, 55, 35, 30]), array([75, 55, 55, 35, 30, 30]), array([55, 55, 35, 30, 30, 30]), array([55, 35, 30, 30, 30, 35]), array([35, 30, 30, 30, 35, 35]), array([30, 30, 30, 35, 35, 35]), array([25, 30, 30, 35, 45, 55]), array([30, 30, 35, 45, 55, 55]), array([30, 35, 45, 55, 55, 60]), array([35, 45, 55, 55, 60, 60]), array([45, 55, 55, 60, 60, 65]), array([55, 55, 60, 60, 65, 65]), array([55, 60, 60, 65, 65, 75]), array([60, 60, 65, 65, 75, 75]), array([60, 65, 65, 75, 75, 75]), array([65, 65, 75, 75, 75, 85]), array([65, 75, 75, 75, 85, 85]), array([75, 75, 75, 85, 85, 85]), array([75, 75, 85, 85, 85, 85]), array([75, 85, 85, 85, 85, 85]), array([85, 85, 85, 85, 85, 85]), array([ 85,  85,  85,  85,  85, 100]), array([ 85,  85,  85,  85, 100, 100]), array([ 85,  85,  85, 100, 100, 100]), array([ 85,  85, 100, 100, 100, 105]), array([ 85, 100, 100, 100, 105, 105]), array([100, 100, 100, 105, 105, 105]), array([100, 100, 105, 105, 105, 110]), array([100, 105, 105, 105, 110, 110]), array([105, 105, 105, 110, 110, 110]), array([105, 105, 110, 110, 110, 115]), array([105, 110, 110, 110, 115, 115]), array([110, 110, 110, 115, 115, 115]), array([110, 110, 115, 115, 115, 120]), array([110, 115, 115, 115, 120, 120]), array([115, 115, 115, 120, 120, 120]), array([115, 115, 120, 120, 120, 125]), array([115, 120, 120, 120, 125, 125]), array([120, 120, 120, 125, 125, 125]), array([120, 120, 125, 125, 125, 135]), array([120, 125, 125, 125, 135, 135]), array([125, 125, 125, 135, 135, 135]), array([125, 125, 135, 135, 135, 140]), array([125, 135, 135, 135, 140, 140]), array([135, 135, 135, 140, 140, 140]), array([135, 135, 140, 140, 140, 140]), array([135, 140, 140, 140, 140, 140]), array([140, 140, 140, 140, 140, 140]), array([140, 140, 140, 140, 140, 150]), array([140, 140, 140, 140, 150, 150]), array([140, 140, 140, 150, 150, 150]), array([140, 140, 150, 150, 150, 150]), array([140, 150, 150, 150, 150, 150]), array([150, 150, 150, 150, 150, 150]), array([150, 150, 150, 150, 150, 145]), array([150, 150, 150, 150, 145, 145]), array([150, 150, 150, 145, 145, 145]), array([150, 150, 145, 145, 145, 140]), array([150, 145, 145, 145, 140, 140]), array([145, 145, 145, 140, 140, 140]), array([145, 145, 140, 140, 140, 135]), array([145, 140, 140, 140, 135, 135]), array([140, 140, 140, 135, 135, 135]), array([140, 140, 135, 135, 135, 125]), array([140, 135, 135, 135, 125, 125]), array([135, 135, 135, 125, 125, 125]), array([135, 135, 125, 125, 125, 115]), array([135, 125, 125, 125, 115, 115]), array([125, 125, 125, 115, 115, 115]), array([125, 125, 115, 115, 115,  95]), array([125, 115, 115, 115,  95,  95]), array([115, 115, 115,  95,  95,  95]), array([115, 115,  95,  95,  95,  65]), array([115,  95,  95,  95,  65,  65]), array([95, 95, 95, 65, 65, 65]), array([95, 95, 65, 65, 65, 55]), array([25, 30, 35, 35, 40, 45]), array([30, 35, 35, 40, 45, 45]), array([35, 35, 40, 45, 45, 45]), array([35, 40, 45, 45, 45, 50]), array([40, 45, 45, 45, 50, 55]), array([45, 45, 45, 50, 55, 55]), array([45, 45, 50, 55, 55, 55]), array([45, 50, 55, 55, 55, 55]), array([50, 55, 55, 55, 55, 55]), array([55, 55, 55, 55, 55, 55]), array([55, 55, 55, 55, 55, 55]), array([55, 55, 55, 55, 55, 55]), array([55, 55, 55, 55, 55, 55]), array([55, 55, 55, 55, 55, 55]), array([55, 55, 55, 55, 55, 55]), array([55, 55, 55, 55, 55, 55]), array([55, 55, 55, 55, 55, 55]), array([55, 55, 55, 55, 55, 55]), array([55, 55, 55, 55, 55, 55]), array([55, 55, 55, 55, 55, 55]), array([55, 55, 55, 55, 55, 55]), array([55, 55, 55, 55, 55, 55]), array([55, 55, 55, 55, 55, 50]), array([55, 55, 55, 55, 50, 50]), array([55, 55, 55, 50, 50, 45]), array([55, 55, 50, 50, 45, 45]), array([55, 50, 50, 45, 45, 40]), array([50, 50, 45, 45, 40, 40]), array([50, 45, 45, 40, 40, 45]), array([45, 45, 40, 40, 45, 45]), array([45, 40, 40, 45, 45, 45]), array([40, 40, 45, 45, 45, 50]), array([40, 45, 45, 45, 50, 55]), array([45, 45, 45, 50, 55, 55]), array([45, 45, 50, 55, 55, 50]), array([45, 50, 55, 55, 50, 50]), array([50, 55, 55, 50, 50, 50]), array([55, 55, 50, 50, 50, 50]), array([55, 50, 50, 50, 50, 45]), array([50, 50, 50, 50, 45, 45]), array([50, 50, 50, 45, 45, 45]), array([50, 50, 45, 45, 45, 45]), array([50, 45, 45, 45, 45, 40]), array([45, 45, 45, 45, 40, 40]), array([45, 45, 45, 40, 40, 45]), array([45, 45, 40, 40, 45, 50]), array([45, 40, 40, 45, 50, 65]), array([40, 40, 45, 50, 65, 65]), array([40, 45, 50, 65, 65, 75]), array([45, 50, 65, 65, 75, 75]), array([50, 65, 65, 75, 75, 75]), array([65, 65, 75, 75, 75, 80]), array([65, 75, 75, 75, 80, 80]), array([75, 75, 75, 80, 80, 80]), array([75, 75, 80, 80, 80, 85]), array([75, 80, 80, 80, 85, 85]), array([80, 80, 80, 85, 85, 85]), array([80, 80, 85, 85, 85, 90]), array([80, 85, 85, 85, 90, 90]), array([85, 85, 85, 90, 90, 90]), array([85, 85, 90, 90, 90, 95]), array([85, 90, 90, 90, 95, 95]), array([90, 90, 90, 95, 95, 95]), array([ 90,  90,  95,  95,  95, 100]), array([ 90,  95,  95,  95, 100, 100]), array([ 95,  95,  95, 100, 100, 100]), array([ 95,  95, 100, 100, 100,  80]), array([ 95, 100, 100, 100,  80,  80]), array([100, 100, 100,  80,  80,  80]), array([100, 100,  80,  80,  80,  65]), array([100,  80,  80,  80,  65,  65]), array([80, 80, 80, 65, 65, 50]), array([80, 80, 65, 65, 50, 40]), array([80, 65, 65, 50, 40, 45]), array([65, 65, 50, 40, 45, 50]), array([65, 50, 40, 45, 50, 55]), array([50, 40, 45, 50, 55, 60]), array([40, 45, 50, 55, 60, 60]), array([45, 50, 55, 60, 60, 65]), array([50, 55, 60, 60, 65, 65]), array([55, 60, 60, 65, 65, 65]), array([60, 60, 65, 65, 65, 65]), array([60, 65, 65, 65, 65, 60]), array([65, 65, 65, 65, 60, 60]), array([65, 65, 65, 60, 60, 65]), array([65, 65, 60, 60, 65, 65]), array([65, 60, 60, 65, 65, 65]), array([20, 20, 25, 25, 30, 30]), array([20, 25, 25, 30, 30, 30]), array([25, 25, 30, 30, 30, 35]), array([25, 30, 30, 30, 35, 35]), array([30, 30, 30, 35, 35, 35]), array([30, 30, 35, 35, 35, 40]), array([30, 35, 35, 35, 40, 45]), array([35, 35, 35, 40, 45, 45]), array([35, 35, 40, 45, 45, 40]), array([35, 40, 45, 45, 40, 35]), array([40, 45, 45, 40, 35, 35]), array([45, 45, 40, 35, 35, 35]), array([45, 40, 35, 35, 35, 30]), array([25, 30, 35, 45, 45, 50]), array([30, 35, 45, 45, 50, 55]), array([35, 45, 45, 50, 55, 55]), array([45, 45, 50, 55, 55, 55]), array([45, 50, 55, 55, 55, 55]), array([50, 55, 55, 55, 55, 50]), array([55, 55, 55, 55, 50, 50]), array([55, 55, 55, 50, 50, 50]), array([55, 55, 50, 50, 50, 40]), array([55, 50, 50, 50, 40, 30]), array([50, 50, 50, 40, 30, 30]), array([50, 50, 40, 30, 30, 30]), array([20, 25, 25, 25, 25, 25]), array([25, 25, 25, 25, 25, 25]), array([25, 25, 25, 25, 25, 30]), array([25, 25, 25, 25, 30, 30]), array([25, 25, 25, 30, 30, 35]), array([25, 25, 30, 30, 35, 40]), array([25, 30, 30, 35, 40, 40]), array([30, 30, 35, 40, 40, 45]), array([30, 35, 40, 40, 45, 45]), array([35, 40, 40, 45, 45, 45]), array([40, 40, 45, 45, 45, 45]), array([40, 45, 45, 45, 45, 40]), array([45, 45, 45, 45, 40, 35]), array([45, 45, 45, 40, 35, 35]), array([45, 45, 40, 35, 35, 35]), array([45, 40, 35, 35, 35, 35]), array([40, 35, 35, 35, 35, 35]), array([35, 35, 35, 35, 35, 30]), array([35, 35, 35, 35, 30, 30]), array([35, 35, 35, 30, 30, 25]), array([20, 20, 25, 25, 25, 25]), array([20, 25, 25, 25, 25, 35]), array([25, 25, 25, 25, 35, 40]), array([25, 25, 25, 35, 40, 35]), array([25, 25, 35, 40, 35, 35]), array([25, 35, 40, 35, 35, 35]), array([35, 40, 35, 35, 35, 35]), array([40, 35, 35, 35, 35, 30]), array([35, 35, 35, 35, 30, 25]), array([35, 35, 35, 30, 25, 25]), array([35, 35, 30, 25, 25, 25]), array([35, 30, 25, 25, 25, 25]), array([30, 25, 25, 25, 25, 25]), array([25, 25, 25, 25, 25, 25]), array([25, 25, 25, 25, 25, 20]), array([25, 25, 25, 25, 20, 15]), array([25, 25, 25, 20, 15, 15]), array([25, 25, 20, 15, 15, 15]), array([25, 20, 15, 15, 15, 15]), array([25, 25, 25, 25, 25, 25]), array([25, 25, 25, 25, 25, 30]), array([25, 25, 25, 25, 30, 30]), array([25, 25, 25, 30, 30, 30]), array([25, 25, 30, 30, 30, 30]), array([25, 30, 30, 30, 30, 30]), array([30, 30, 30, 30, 30, 30]), array([30, 30, 30, 30, 30, 30]), array([30, 30, 30, 30, 30, 30]), array([30, 30, 30, 30, 30, 30]), array([30, 30, 30, 30, 30, 35]), array([30, 30, 30, 30, 35, 35]), array([30, 30, 30, 35, 35, 35]), array([30, 30, 35, 35, 35, 35]), array([30, 35, 35, 35, 35, 30]), array([35, 35, 35, 35, 30, 25]), array([20, 20, 20, 20, 25, 30]), array([20, 20, 20, 25, 30, 30]), array([20, 20, 25, 30, 30, 35]), array([20, 25, 30, 30, 35, 40]), array([25, 30, 30, 35, 40, 40]), array([30, 30, 35, 40, 40, 40]), array([30, 35, 40, 40, 40, 40]), array([35, 40, 40, 40, 40, 40]), array([40, 40, 40, 40, 40, 40]), array([40, 40, 40, 40, 40, 35]), array([40, 40, 40, 40, 35, 35]), array([40, 40, 40, 35, 35, 30]), array([40, 40, 35, 35, 30, 30]), array([30, 40, 45, 45, 45, 45]), array([40, 45, 45, 45, 45, 50]), array([45, 45, 45, 45, 50, 50]), array([45, 45, 45, 50, 50, 55]), array([45, 45, 50, 50, 55, 55]), array([45, 50, 50, 55, 55, 60]), array([50, 50, 55, 55, 60, 60]), array([50, 55, 55, 60, 60, 65]), array([55, 55, 60, 60, 65, 65]), array([55, 60, 60, 65, 65, 90]), array([60, 60, 65, 65, 90, 90]), array([60, 65, 65, 90, 90, 90]), array([65, 65, 90, 90, 90, 85]), array([65, 90, 90, 90, 85, 85]), array([90, 90, 90, 85, 85, 85]), array([90, 90, 85, 85, 85, 75]), array([90, 85, 85, 85, 75, 75]), array([85, 85, 85, 75, 75, 75]), array([85, 85, 75, 75, 75, 75]), array([85, 75, 75, 75, 75, 75]), array([75, 75, 75, 75, 75, 75]), array([75, 75, 75, 75, 75, 75]), array([75, 75, 75, 75, 75, 75]), array([75, 75, 75, 75, 75, 75]), array([75, 75, 75, 75, 75, 80]), array([75, 75, 75, 75, 80, 80]), array([75, 75, 75, 80, 80, 80]), array([75, 75, 80, 80, 80, 85]), array([75, 80, 80, 80, 85, 85]), array([80, 80, 80, 85, 85, 85]), array([80, 80, 85, 85, 85, 90]), array([80, 85, 85, 85, 90, 90]), array([85, 85, 85, 90, 90, 90]), array([85, 85, 90, 90, 90, 95]), array([85, 90, 90, 90, 95, 95]), array([90, 90, 90, 95, 95, 95]), array([90, 90, 95, 95, 95, 95]), array([90, 95, 95, 95, 95, 95]), array([95, 95, 95, 95, 95, 95]), array([ 95,  95,  95,  95,  95, 100]), array([ 95,  95,  95,  95, 100, 100]), array([ 95,  95,  95, 100, 100, 100]), array([ 95,  95, 100, 100, 100, 100]), array([ 95, 100, 100, 100, 100, 100]), array([100, 100, 100, 100, 100, 100]), array([100, 100, 100, 100, 100, 105]), array([100, 100, 100, 100, 105, 105]), array([100, 100, 100, 105, 105, 105]), array([100, 100, 105, 105, 105,  95]), array([100, 105, 105, 105,  95,  95]), array([105, 105, 105,  95,  95,  95]), array([105, 105,  95,  95,  95,  85]), array([105,  95,  95,  95,  85,  85]), array([95, 95, 95, 85, 85, 85]), array([95, 95, 85, 85, 85, 75]), array([95, 85, 85, 85, 75, 75]), array([85, 85, 85, 75, 75, 75]), array([85, 85, 75, 75, 75, 70]), array([85, 75, 75, 75, 70, 70]), array([75, 75, 75, 70, 70, 70]), array([75, 75, 70, 70, 70, 60]), array([75, 70, 70, 70, 60, 60]), array([70, 70, 70, 60, 60, 60]), array([70, 70, 60, 60, 60, 60]), array([70, 60, 60, 60, 60, 55]), array([60, 60, 60, 60, 55, 55]), array([60, 60, 60, 55, 55, 50]), array([60, 60, 55, 55, 50, 50]), array([60, 55, 55, 50, 50, 50]), array([55, 55, 50, 50, 50, 45]), array([55, 50, 50, 50, 45, 45]), array([50, 50, 50, 45, 45, 45]), array([50, 50, 45, 45, 45, 45]), array([50, 45, 45, 45, 45, 50]), array([45, 45, 45, 45, 50, 55]), array([45, 45, 45, 50, 55, 55]), array([45, 45, 50, 55, 55, 55]), array([45, 50, 55, 55, 55, 55]), array([50, 55, 55, 55, 55, 55]), array([55, 55, 55, 55, 55, 55]), array([55, 55, 55, 55, 55, 60]), array([55, 55, 55, 55, 60, 60]), array([55, 55, 55, 60, 60, 70]), array([55, 55, 60, 60, 70, 70]), array([55, 60, 60, 70, 70, 70]), array([60, 60, 70, 70, 70, 80]), array([60, 70, 70, 70, 80, 80]), array([70, 70, 70, 80, 80, 80]), array([70, 70, 80, 80, 80, 85]), array([70, 80, 80, 80, 85, 85]), array([80, 80, 80, 85, 85, 85]), array([80, 80, 85, 85, 85, 90]), array([80, 85, 85, 85, 90, 90]), array([85, 85, 85, 90, 90, 90]), array([ 85,  85,  90,  90,  90, 100]), array([ 85,  90,  90,  90, 100, 100]), array([ 90,  90,  90, 100, 100, 100]), array([ 90,  90, 100, 100, 100, 110]), array([ 90, 100, 100, 100, 110, 110]), array([100, 100, 100, 110, 110, 110]), array([100, 100, 110, 110, 110, 120]), array([100, 110, 110, 110, 120, 120]), array([110, 110, 110, 120, 120, 120]), array([110, 110, 120, 120, 120, 115]), array([110, 120, 120, 120, 115, 115]), array([120, 120, 120, 115, 115, 115]), array([120, 120, 115, 115, 115, 110]), array([120, 115, 115, 115, 110, 110]), array([115, 115, 115, 110, 110, 110]), array([115, 115, 110, 110, 110, 105]), array([115, 110, 110, 110, 105, 105]), array([110, 110, 110, 105, 105, 105]), array([110, 110, 105, 105, 105,  95]), array([110, 105, 105, 105,  95,  95]), array([105, 105, 105,  95,  95,  95]), array([105, 105,  95,  95,  95,  90]), array([105,  95,  95,  95,  90,  90]), array([95, 95, 95, 90, 90, 90]), array([95, 95, 90, 90, 90, 75]), array([95, 90, 90, 90, 75, 75]), array([90, 90, 90, 75, 75, 75]), array([90, 90, 75, 75, 75, 65]), array([90, 75, 75, 75, 65, 65]), array([75, 75, 75, 65, 65, 55]), array([75, 75, 65, 65, 55, 55]), array([75, 65, 65, 55, 55, 50]), array([65, 65, 55, 55, 50, 45]), array([65, 55, 55, 50, 45, 35]), array([55, 55, 50, 45, 35, 30]), array([25, 30, 35, 40, 45, 55]), array([30, 35, 40, 45, 55, 55]), array([35, 40, 45, 55, 55, 65]), array([40, 45, 55, 55, 65, 65]), array([45, 55, 55, 65, 65, 70]), array([55, 55, 65, 65, 70, 70]), array([55, 65, 65, 70, 70, 70]), array([65, 65, 70, 70, 70, 75]), array([65, 70, 70, 70, 75, 75]), array([70, 70, 70, 75, 75, 75]), array([70, 70, 75, 75, 75, 75]), array([70, 75, 75, 75, 75, 75]), array([75, 75, 75, 75, 75, 75]), array([75, 75, 75, 75, 75, 75]), array([75, 75, 75, 75, 75, 75]), array([75, 75, 75, 75, 75, 75]), array([75, 75, 75, 75, 75, 70]), array([75, 75, 75, 75, 70, 70]), array([75, 75, 75, 70, 70, 70]), array([75, 75, 70, 70, 70, 70]), array([75, 70, 70, 70, 70, 70]), array([70, 70, 70, 70, 70, 70]), array([70, 70, 70, 70, 70, 70]), array([70, 70, 70, 70, 70, 70]), array([70, 70, 70, 70, 70, 70]), array([70, 70, 70, 70, 70, 65]), array([70, 70, 70, 70, 65, 65]), array([70, 70, 70, 65, 65, 70]), array([70, 70, 65, 65, 70, 70]), array([70, 65, 65, 70, 70, 70]), array([65, 65, 70, 70, 70, 80]), array([65, 70, 70, 70, 80, 80]), array([70, 70, 70, 80, 80, 80]), array([70, 70, 80, 80, 80, 85]), array([70, 80, 80, 80, 85, 85]), array([80, 80, 80, 85, 85, 85]), array([80, 80, 85, 85, 85, 90]), array([80, 85, 85, 85, 90, 90]), array([85, 85, 85, 90, 90, 90]), array([85, 85, 90, 90, 90, 90]), array([85, 90, 90, 90, 90, 90]), array([90, 90, 90, 90, 90, 90]), array([90, 90, 90, 90, 90, 85]), array([90, 90, 90, 90, 85, 85]), array([90, 90, 90, 85, 85, 85]), array([90, 90, 85, 85, 85, 75]), array([90, 85, 85, 85, 75, 75]), array([85, 85, 85, 75, 75, 75]), array([85, 85, 75, 75, 75, 70]), array([85, 75, 75, 75, 70, 70]), array([75, 75, 75, 70, 70, 70]), array([75, 75, 70, 70, 70, 70]), array([75, 70, 70, 70, 70, 70]), array([70, 70, 70, 70, 70, 70]), array([70, 70, 70, 70, 70, 70]), array([70, 70, 70, 70, 70, 70]), array([70, 70, 70, 70, 70, 70]), array([70, 70, 70, 70, 70, 70]), array([70, 70, 70, 70, 70, 70]), array([70, 70, 70, 70, 70, 70]), array([70, 70, 70, 70, 70, 65]), array([70, 70, 70, 70, 65, 65]), array([70, 70, 70, 65, 65, 60]), array([70, 70, 65, 65, 60, 60]), array([70, 65, 65, 60, 60, 55]), array([65, 65, 60, 60, 55, 55]), array([65, 60, 60, 55, 55, 50]), array([60, 60, 55, 55, 50, 40]), array([60, 55, 55, 50, 40, 35]), array([55, 55, 50, 40, 35, 30]), array([55, 50, 40, 35, 30, 25]), array([20, 30, 30, 35, 40, 40]), array([30, 30, 35, 40, 40, 45]), array([30, 35, 40, 40, 45, 55]), array([35, 40, 40, 45, 55, 55]), array([40, 40, 45, 55, 55, 60]), array([40, 45, 55, 55, 60, 60]), array([45, 55, 55, 60, 60, 70]), array([55, 55, 60, 60, 70, 70]), array([55, 60, 60, 70, 70, 70]), array([60, 60, 70, 70, 70, 90]), array([60, 70, 70, 70, 90, 90]), array([70, 70, 70, 90, 90, 90]), array([ 70,  70,  90,  90,  90, 105]), array([ 70,  90,  90,  90, 105, 105]), array([ 90,  90,  90, 105, 105, 105]), array([ 90,  90, 105, 105, 105, 115]), array([ 90, 105, 105, 105, 115, 115]), array([105, 105, 105, 115, 115, 115]), array([105, 105, 115, 115, 115, 115]), array([105, 115, 115, 115, 115, 115]), array([115, 115, 115, 115, 115, 115]), array([115, 115, 115, 115, 115, 100]), array([115, 115, 115, 115, 100, 100]), array([115, 115, 115, 100, 100, 100]), array([115, 115, 100, 100, 100, 100]), array([115, 100, 100, 100, 100, 100]), array([100, 100, 100, 100, 100, 100]), array([100, 100, 100, 100, 100,  95]), array([100, 100, 100, 100,  95,  95]), array([100, 100, 100,  95,  95,  95]), array([100, 100,  95,  95,  95,  90]), array([100,  95,  95,  95,  90,  90]), array([95, 95, 95, 90, 90, 90]), array([95, 95, 90, 90, 90, 80]), array([95, 90, 90, 90, 80, 80]), array([90, 90, 90, 80, 80, 80]), array([90, 90, 80, 80, 80, 70]), array([90, 80, 80, 80, 70, 70]), array([80, 80, 80, 70, 70, 70]), array([80, 80, 70, 70, 70, 65]), array([80, 70, 70, 70, 65, 65]), array([70, 70, 70, 65, 65, 55]), array([70, 70, 65, 65, 55, 55]), array([70, 65, 65, 55, 55, 50]), array([65, 65, 55, 55, 50, 50]), array([65, 55, 55, 50, 50, 45]), array([55, 55, 50, 50, 45, 50]), array([55, 50, 50, 45, 50, 55]), array([50, 50, 45, 50, 55, 55]), array([50, 45, 50, 55, 55, 60]), array([45, 50, 55, 55, 60, 60]), array([50, 55, 55, 60, 60, 70]), array([55, 55, 60, 60, 70, 70]), array([55, 60, 60, 70, 70, 70]), array([60, 60, 70, 70, 70, 80]), array([60, 70, 70, 70, 80, 80]), array([70, 70, 70, 80, 80, 80]), array([70, 70, 80, 80, 80, 85]), array([70, 80, 80, 80, 85, 85]), array([80, 80, 80, 85, 85, 85]), array([80, 80, 85, 85, 85, 90]), array([80, 85, 85, 85, 90, 90]), array([85, 85, 85, 90, 90, 90]), array([85, 85, 90, 90, 90, 90]), array([85, 90, 90, 90, 90, 90]), array([90, 90, 90, 90, 90, 90]), array([ 90,  90,  90,  90,  90, 100]), array([ 90,  90,  90,  90, 100, 100]), array([ 90,  90,  90, 100, 100, 100]), array([ 90,  90, 100, 100, 100, 100]), array([ 90, 100, 100, 100, 100, 100]), array([100, 100, 100, 100, 100, 100]), array([100, 100, 100, 100, 100, 105]), array([100, 100, 100, 100, 105, 105]), array([100, 100, 100, 105, 105, 105]), array([100, 100, 105, 105, 105, 105]), array([100, 105, 105, 105, 105, 105]), array([105, 105, 105, 105, 105, 105]), array([105, 105, 105, 105, 105, 110]), array([105, 105, 105, 105, 110, 110]), array([105, 105, 105, 110, 110, 110]), array([105, 105, 110, 110, 110, 125]), array([105, 110, 110, 110, 125, 125]), array([110, 110, 110, 125, 125, 125]), array([110, 110, 125, 125, 125, 130]), array([110, 125, 125, 125, 130, 130]), array([125, 125, 125, 130, 130, 130]), array([125, 125, 130, 130, 130, 140]), array([125, 130, 130, 130, 140, 140]), array([130, 130, 130, 140, 140, 140]), array([130, 130, 140, 140, 140, 150]), array([130, 140, 140, 140, 150, 150]), array([140, 140, 140, 150, 150, 150]), array([140, 140, 150, 150, 150, 155]), array([140, 150, 150, 150, 155, 155]), array([150, 150, 150, 155, 155, 155]), array([150, 150, 155, 155, 155, 140]), array([150, 155, 155, 155, 140, 140]), array([155, 155, 155, 140, 140, 140]), array([155, 155, 140, 140, 140, 125]), array([155, 140, 140, 140, 125, 125]), array([140, 140, 140, 125, 125, 125]), array([140, 140, 125, 125, 125, 120]), array([140, 125, 125, 125, 120, 120]), array([125, 125, 125, 120, 120, 120]), array([125, 125, 120, 120, 120, 120]), array([125, 120, 120, 120, 120, 120]), array([120, 120, 120, 120, 120, 120]), array([120, 120, 120, 120, 120, 115]), array([120, 120, 120, 120, 115, 115]), array([120, 120, 120, 115, 115, 115]), array([120, 120, 115, 115, 115, 105]), array([120, 115, 115, 115, 105, 105]), array([115, 115, 115, 105, 105, 105]), array([115, 115, 105, 105, 105,  95]), array([115, 105, 105, 105,  95,  95]), array([105, 105, 105,  95,  95,  95]), array([105, 105,  95,  95,  95,  90]), array([105,  95,  95,  95,  90,  90]), array([95, 95, 95, 90, 90, 90]), array([95, 95, 90, 90, 90, 90]), array([95, 90, 90, 90, 90, 90]), array([90, 90, 90, 90, 90, 90]), array([90, 90, 90, 90, 90, 85]), array([90, 90, 90, 90, 85, 85]), array([90, 90, 90, 85, 85, 85]), array([90, 90, 85, 85, 85, 80]), array([90, 85, 85, 85, 80, 80]), array([85, 85, 85, 80, 80, 80]), array([85, 85, 80, 80, 80, 75]), array([85, 80, 80, 80, 75, 75]), array([80, 80, 80, 75, 75, 75]), array([80, 80, 75, 75, 75, 65]), array([80, 75, 75, 75, 65, 65]), array([75, 75, 75, 65, 65, 55]), array([75, 75, 65, 65, 55, 55]), array([75, 65, 65, 55, 55, 50]), array([65, 65, 55, 55, 50, 45]), array([65, 55, 55, 50, 45, 45]), array([55, 55, 50, 45, 45, 40]), array([55, 50, 45, 45, 40, 40]), array([50, 45, 45, 40, 40, 40]), array([45, 45, 40, 40, 40, 40]), array([45, 40, 40, 40, 40, 40]), array([40, 40, 40, 40, 40, 40]), array([40, 40, 40, 40, 40, 40]), array([40, 40, 40, 40, 40, 35]), array([40, 40, 40, 40, 35, 35]), array([40, 40, 40, 35, 35, 30]), array([40, 40, 35, 35, 30, 30]), array([40, 35, 35, 30, 30, 25]), array([35, 35, 30, 30, 25, 25]), array([35, 30, 30, 25, 25, 25]), array([30, 30, 25, 25, 25, 25]), array([20, 25, 30, 30, 30, 30]), array([25, 30, 30, 30, 30, 35]), array([30, 30, 30, 30, 35, 35]), array([30, 30, 30, 35, 35, 40]), array([30, 30, 35, 35, 40, 45]), array([30, 35, 35, 40, 45, 50]), array([35, 35, 40, 45, 50, 50]), array([35, 40, 45, 50, 50, 55]), array([40, 45, 50, 50, 55, 55]), array([45, 50, 50, 55, 55, 55]), array([50, 50, 55, 55, 55, 55]), array([50, 55, 55, 55, 55, 55]), array([55, 55, 55, 55, 55, 55]), array([55, 55, 55, 55, 55, 55]), array([55, 55, 55, 55, 55, 50]), array([55, 55, 55, 55, 50, 45]), array([55, 55, 55, 50, 45, 45]), array([55, 55, 50, 45, 45, 35]), array([25, 25, 30, 30, 30, 35]), array([25, 30, 30, 30, 35, 45]), array([30, 30, 30, 35, 45, 50]), array([30, 30, 35, 45, 50, 55]), array([30, 35, 45, 50, 55, 55]), array([35, 45, 50, 55, 55, 50]), array([45, 50, 55, 55, 50, 45]), array([50, 55, 55, 50, 45, 35]), array([25, 25, 30, 30, 35, 40]), array([25, 30, 30, 35, 40, 40]), array([30, 30, 35, 40, 40, 30]), array([30, 35, 40, 40, 30, 30]), array([35, 40, 40, 30, 30, 25]), array([25, 25, 25, 40, 45, 55]), array([25, 25, 40, 45, 55, 55]), array([25, 40, 45, 55, 55, 65]), array([40, 45, 55, 55, 65, 65]), array([45, 55, 55, 65, 65, 90]), array([55, 55, 65, 65, 90, 90]), array([55, 65, 65, 90, 90, 90]), array([65, 65, 90, 90, 90, 60]), array([65, 90, 90, 90, 60, 60]), array([90, 90, 90, 60, 60, 40]), array([25, 25, 30, 30, 30, 30]), array([25, 30, 30, 30, 30, 30]), array([30, 30, 30, 30, 30, 30]), array([30, 30, 30, 30, 30, 30]), array([30, 30, 30, 30, 30, 30]), array([30, 30, 30, 30, 30, 30]), array([30, 30, 30, 30, 30, 30]), array([30, 30, 30, 30, 30, 35]), array([30, 30, 30, 30, 35, 40]), array([30, 30, 30, 35, 40, 50]), array([30, 30, 35, 40, 50, 50]), array([30, 35, 40, 50, 50, 50]), array([35, 40, 50, 50, 50, 55]), array([40, 50, 50, 50, 55, 55]), array([50, 50, 50, 55, 55, 60]), array([50, 50, 55, 55, 60, 60]), array([50, 55, 55, 60, 60, 70]), array([55, 55, 60, 60, 70, 70]), array([55, 60, 60, 70, 70, 80]), array([60, 60, 70, 70, 80, 80]), array([60, 70, 70, 80, 80, 80]), array([70, 70, 80, 80, 80, 85]), array([70, 80, 80, 80, 85, 85]), array([80, 80, 80, 85, 85, 85]), array([80, 80, 85, 85, 85, 90]), array([80, 85, 85, 85, 90, 90]), array([85, 85, 85, 90, 90, 90]), array([85, 85, 90, 90, 90, 90]), array([85, 90, 90, 90, 90, 90]), array([90, 90, 90, 90, 90, 90]), array([90, 90, 90, 90, 90, 85]), array([90, 90, 90, 90, 85, 85]), array([90, 90, 90, 85, 85, 85]), array([90, 90, 85, 85, 85, 80]), array([90, 85, 85, 85, 80, 80]), array([85, 85, 85, 80, 80, 80]), array([85, 85, 80, 80, 80, 55]), array([85, 80, 80, 80, 55, 55]), array([80, 80, 80, 55, 55, 40]), array([80, 80, 55, 55, 40, 35]), array([25, 30, 30, 35, 35, 30]), array([30, 30, 35, 35, 30, 25]), array([30, 35, 35, 30, 25, 20]), array([35, 35, 30, 25, 20, 20]), array([35, 30, 25, 20, 20, 20]), array([30, 25, 20, 20, 20, 20]), array([25, 20, 20, 20, 20, 20]), array([20, 20, 20, 20, 20, 25]), array([20, 20, 20, 20, 25, 30]), array([20, 20, 20, 25, 30, 35]), array([20, 20, 25, 30, 35, 40]), array([20, 25, 30, 35, 40, 50]), array([25, 30, 35, 40, 50, 50]), array([30, 35, 40, 50, 50, 40]), array([35, 40, 50, 50, 40, 35]), array([40, 50, 50, 40, 35, 35]), array([50, 50, 40, 35, 35, 30]), array([25, 30, 35, 35, 40, 40]), array([30, 35, 35, 40, 40, 40]), array([35, 35, 40, 40, 40, 35]), array([35, 40, 40, 40, 35, 35]), array([25, 30, 35, 45, 45, 40]), array([30, 35, 45, 45, 40, 35]), array([20, 20, 25, 30, 30, 30]), array([20, 25, 30, 30, 30, 35]), array([25, 30, 30, 30, 35, 45]), array([30, 30, 30, 35, 45, 55]), array([30, 30, 35, 45, 55, 55]), array([30, 35, 45, 55, 55, 60]), array([35, 45, 55, 55, 60, 60]), array([45, 55, 55, 60, 60, 65]), array([55, 55, 60, 60, 65, 65]), array([55, 60, 60, 65, 65, 65]), array([60, 60, 65, 65, 65, 65]), array([60, 65, 65, 65, 65, 65]), array([65, 65, 65, 65, 65, 65]), array([65, 65, 65, 65, 65, 65]), array([65, 65, 65, 65, 65, 65]), array([65, 65, 65, 65, 65, 65]), array([65, 65, 65, 65, 65, 65]), array([65, 65, 65, 65, 65, 65]), array([65, 65, 65, 65, 65, 65]), array([65, 65, 65, 65, 65, 70]), array([65, 65, 65, 65, 70, 70]), array([65, 65, 65, 70, 70, 70]), array([65, 65, 70, 70, 70, 80]), array([65, 70, 70, 70, 80, 80]), array([70, 70, 70, 80, 80, 80]), array([70, 70, 80, 80, 80, 95]), array([70, 80, 80, 80, 95, 95]), array([80, 80, 80, 95, 95, 95]), array([ 80,  80,  95,  95,  95, 115]), array([ 80,  95,  95,  95, 115, 115]), array([ 95,  95,  95, 115, 115, 115]), array([ 95,  95, 115, 115, 115, 115]), array([ 95, 115, 115, 115, 115, 115]), array([115, 115, 115, 115, 115, 115]), array([115, 115, 115, 115, 115, 105]), array([115, 115, 115, 115, 105, 105]), array([115, 115, 115, 105, 105, 105]), array([115, 115, 105, 105, 105,  80]), array([115, 105, 105, 105,  80,  80]), array([105, 105, 105,  80,  80,  80]), array([105, 105,  80,  80,  80,  60]), array([105,  80,  80,  80,  60,  40]), array([80, 80, 80, 60, 40, 35]), array([25, 25, 30, 35, 35, 35]), array([25, 30, 35, 35, 35, 35]), array([30, 35, 35, 35, 35, 35]), array([35, 35, 35, 35, 35, 35]), array([35, 35, 35, 35, 35, 35]), array([35, 35, 35, 35, 35, 35]), array([35, 35, 35, 35, 35, 35]), array([35, 35, 35, 35, 35, 35]), array([35, 35, 35, 35, 35, 30]), array([35, 35, 35, 35, 30, 30]), array([35, 35, 35, 30, 30, 25]), array([35, 35, 30, 30, 25, 25]), array([35, 30, 30, 25, 25, 25]), array([30, 30, 25, 25, 25, 25]), array([30, 25, 25, 25, 25, 25]), array([25, 25, 25, 25, 25, 25]), array([25, 25, 25, 25, 25, 25]), array([25, 25, 25, 25, 25, 25]), array([25, 25, 25, 25, 25, 30]), array([25, 25, 25, 25, 30, 30]), array([25, 25, 25, 30, 30, 30]), array([25, 25, 30, 30, 30, 30]), array([25, 30, 30, 30, 30, 30]), array([30, 30, 30, 30, 30, 30]), array([30, 30, 30, 30, 30, 30]), array([30, 30, 30, 30, 30, 35]), array([30, 30, 30, 30, 35, 35]), array([20, 25, 25, 25, 30, 35]), array([25, 25, 25, 30, 35, 40]), array([25, 25, 30, 35, 40, 50]), array([25, 30, 35, 40, 50, 50]), array([30, 35, 40, 50, 50, 55]), array([35, 40, 50, 50, 55, 55]), array([40, 50, 50, 55, 55, 60]), array([50, 50, 55, 55, 60, 60]), array([50, 55, 55, 60, 60, 65]), array([55, 55, 60, 60, 65, 65]), array([55, 60, 60, 65, 65, 65]), array([60, 60, 65, 65, 65, 70]), array([60, 65, 65, 65, 70, 70]), array([65, 65, 65, 70, 70, 70]), array([65, 65, 70, 70, 70, 80]), array([65, 70, 70, 70, 80, 80]), array([70, 70, 70, 80, 80, 80]), array([70, 70, 80, 80, 80, 90]), array([70, 80, 80, 80, 90, 90]), array([80, 80, 80, 90, 90, 90]), array([80, 80, 90, 90, 90, 85]), array([80, 90, 90, 90, 85, 85]), array([90, 90, 90, 85, 85, 85]), array([90, 90, 85, 85, 85, 75]), array([90, 85, 85, 85, 75, 75]), array([85, 85, 85, 75, 75, 75]), array([85, 85, 75, 75, 75, 65]), array([85, 75, 75, 75, 65, 65]), array([75, 75, 75, 65, 65, 65]), array([75, 75, 65, 65, 65, 55]), array([75, 65, 65, 65, 55, 55]), array([65, 65, 65, 55, 55, 50]), array([65, 65, 55, 55, 50, 50]), array([65, 55, 55, 50, 50, 45]), array([55, 55, 50, 50, 45, 45]), array([55, 50, 50, 45, 45, 45]), array([25, 30, 35, 50, 55, 55]), array([30, 35, 50, 55, 55, 55]), array([35, 50, 55, 55, 55, 55]), array([50, 55, 55, 55, 55, 60]), array([55, 55, 55, 55, 60, 60]), array([55, 55, 55, 60, 60, 70]), array([55, 55, 60, 60, 70, 70]), array([55, 60, 60, 70, 70, 70]), array([60, 60, 70, 70, 70, 80]), array([60, 70, 70, 70, 80, 80]), array([70, 70, 70, 80, 80, 80]), array([70, 70, 80, 80, 80, 80]), array([70, 80, 80, 80, 80, 80]), array([80, 80, 80, 80, 80, 80]), array([80, 80, 80, 80, 80, 85]), array([80, 80, 80, 80, 85, 85]), array([80, 80, 80, 85, 85, 85]), array([80, 80, 85, 85, 85, 80]), array([80, 85, 85, 85, 80, 80]), array([85, 85, 85, 80, 80, 80]), array([85, 85, 80, 80, 80, 80]), array([85, 80, 80, 80, 80, 80]), array([80, 80, 80, 80, 80, 80]), array([80, 80, 80, 80, 80, 85]), array([80, 80, 80, 80, 85, 85]), array([80, 80, 80, 85, 85, 85]), array([80, 80, 85, 85, 85, 90]), array([80, 85, 85, 85, 90, 90]), array([85, 85, 85, 90, 90, 90]), array([85, 85, 90, 90, 90, 90]), array([85, 90, 90, 90, 90, 90]), array([90, 90, 90, 90, 90, 90]), array([90, 90, 90, 90, 90, 80]), array([90, 90, 90, 90, 80, 80]), array([90, 90, 90, 80, 80, 80]), array([90, 90, 80, 80, 80, 85]), array([90, 80, 80, 80, 85, 85]), array([80, 80, 80, 85, 85, 85]), array([80, 80, 85, 85, 85, 90]), array([80, 85, 85, 85, 90, 90]), array([85, 85, 85, 90, 90, 90]), array([85, 85, 90, 90, 90, 90]), array([85, 90, 90, 90, 90, 90]), array([90, 90, 90, 90, 90, 90]), array([90, 90, 90, 90, 90, 90]), array([90, 90, 90, 90, 90, 90]), array([90, 90, 90, 90, 90, 90]), array([ 90,  90,  90,  90,  90, 100]), array([ 90,  90,  90,  90, 100, 100]), array([ 90,  90,  90, 100, 100, 100]), array([ 90,  90, 100, 100, 100, 115]), array([ 90, 100, 100, 100, 115, 115]), array([100, 100, 100, 115, 115, 115]), array([100, 100, 115, 115, 115, 125]), array([100, 115, 115, 115, 125, 125]), array([115, 115, 115, 125, 125, 125]), array([115, 115, 125, 125, 125, 120]), array([115, 125, 125, 125, 120, 120]), array([125, 125, 125, 120, 120, 120]), array([125, 125, 120, 120, 120, 110]), array([125, 120, 120, 120, 110, 110]), array([120, 120, 120, 110, 110, 110]), array([120, 120, 110, 110, 110, 100]), array([120, 110, 110, 110, 100, 100]), array([110, 110, 110, 100, 100, 100]), array([110, 110, 100, 100, 100,  90]), array([110, 100, 100, 100,  90,  90]), array([100, 100, 100,  90,  90,  90]), array([100, 100,  90,  90,  90,  80]), array([100,  90,  90,  90,  80,  80]), array([90, 90, 90, 80, 80, 80]), array([90, 90, 80, 80, 80, 75]), array([90, 80, 80, 80, 75, 70]), array([80, 80, 80, 75, 70, 70]), array([80, 80, 75, 70, 70, 70]), array([80, 75, 70, 70, 70, 65]), array([75, 70, 70, 70, 65, 55]), array([70, 70, 70, 65, 55, 55]), array([70, 70, 65, 55, 55, 40]), array([70, 65, 55, 55, 40, 35]), array([65, 55, 55, 40, 35, 35]), array([20, 25, 30, 35, 40, 40]), array([25, 30, 35, 40, 40, 40]), array([30, 35, 40, 40, 40, 45]), array([35, 40, 40, 40, 45, 45]), array([40, 40, 40, 45, 45, 45]), array([40, 40, 45, 45, 45, 45]), array([40, 45, 45, 45, 45, 50]), array([45, 45, 45, 45, 50, 50]), array([45, 45, 45, 50, 50, 50]), array([45, 45, 50, 50, 50, 50]), array([45, 50, 50, 50, 50, 55]), array([50, 50, 50, 50, 55, 55]), array([50, 50, 50, 55, 55, 55]), array([50, 50, 55, 55, 55, 55]), array([50, 55, 55, 55, 55, 60]), array([55, 55, 55, 55, 60, 60]), array([55, 55, 55, 60, 60, 65]), array([55, 55, 60, 60, 65, 65]), array([55, 60, 60, 65, 65, 65]), array([60, 60, 65, 65, 65, 65]), array([60, 65, 65, 65, 65, 70]), array([65, 65, 65, 65, 70, 70]), array([65, 65, 65, 70, 70, 70]), array([65, 65, 70, 70, 70, 70]), array([65, 70, 70, 70, 70, 70]), array([70, 70, 70, 70, 70, 70]), array([70, 70, 70, 70, 70, 70]), array([70, 70, 70, 70, 70, 70]), array([70, 70, 70, 70, 70, 70]), array([70, 70, 70, 70, 70, 65]), array([70, 70, 70, 70, 65, 65]), array([70, 70, 70, 65, 65, 65]), array([70, 70, 65, 65, 65, 60]), array([70, 65, 65, 65, 60, 60]), array([65, 65, 65, 60, 60, 55]), array([65, 65, 60, 60, 55, 55]), array([65, 60, 60, 55, 55, 50]), array([60, 60, 55, 55, 50, 50]), array([60, 55, 55, 50, 50, 45]), array([55, 55, 50, 50, 45, 40]), array([55, 50, 50, 45, 40, 30]), array([50, 50, 45, 40, 30, 25]), array([50, 45, 40, 30, 25, 20]), array([45, 40, 30, 25, 20, 20]), array([40, 30, 25, 20, 20, 20]), array([30, 30, 30, 30, 35, 40]), array([30, 30, 30, 35, 40, 45]), array([30, 30, 35, 40, 45, 45]), array([30, 35, 40, 45, 45, 45]), array([35, 40, 45, 45, 45, 50]), array([40, 45, 45, 45, 50, 50]), array([45, 45, 45, 50, 50, 50]), array([45, 45, 50, 50, 50, 50]), array([45, 50, 50, 50, 50, 45]), array([50, 50, 50, 50, 45, 45]), array([50, 50, 50, 45, 45, 40]), array([50, 50, 45, 45, 40, 40]), array([50, 45, 45, 40, 40, 40]), array([45, 45, 40, 40, 40, 45]), array([45, 40, 40, 40, 45, 45]), array([40, 40, 40, 45, 45, 45]), array([40, 40, 45, 45, 45, 45]), array([40, 45, 45, 45, 45, 50]), array([45, 45, 45, 45, 50, 50]), array([45, 45, 45, 50, 50, 55]), array([20, 20, 25, 25, 30, 35]), array([20, 25, 25, 30, 35, 45]), array([25, 25, 30, 35, 45, 45]), array([25, 30, 35, 45, 45, 45]), array([30, 35, 45, 45, 45, 50]), array([35, 45, 45, 45, 50, 50]), array([45, 45, 45, 50, 50, 55]), array([45, 45, 50, 50, 55, 55]), array([45, 50, 50, 55, 55, 60]), array([50, 50, 55, 55, 60, 60]), array([50, 55, 55, 60, 60, 65]), array([55, 55, 60, 60, 65, 65]), array([55, 60, 60, 65, 65, 65]), array([60, 60, 65, 65, 65, 70]), array([60, 65, 65, 65, 70, 70]), array([65, 65, 65, 70, 70, 70]), array([65, 65, 70, 70, 70, 75]), array([65, 70, 70, 70, 75, 75]), array([70, 70, 70, 75, 75, 75]), array([70, 70, 75, 75, 75, 85]), array([70, 75, 75, 75, 85, 85]), array([75, 75, 75, 85, 85, 85]), array([75, 75, 85, 85, 85, 90]), array([75, 85, 85, 85, 90, 90]), array([85, 85, 85, 90, 90, 90]), array([85, 85, 90, 90, 90, 95]), array([85, 90, 90, 90, 95, 95]), array([90, 90, 90, 95, 95, 95]), array([ 90,  90,  95,  95,  95, 100]), array([ 90,  95,  95,  95, 100, 100]), array([ 95,  95,  95, 100, 100, 100]), array([ 95,  95, 100, 100, 100, 115]), array([ 95, 100, 100, 100, 115, 115]), array([100, 100, 100, 115, 115, 115]), array([100, 100, 115, 115, 115, 125]), array([100, 115, 115, 115, 125, 125]), array([115, 115, 115, 125, 125, 125]), array([115, 115, 125, 125, 125, 120]), array([115, 125, 125, 125, 120, 120]), array([125, 125, 125, 120, 120, 120]), array([125, 125, 120, 120, 120, 115]), array([125, 120, 120, 120, 115, 115]), array([120, 120, 120, 115, 115, 115]), array([120, 120, 115, 115, 115, 110]), array([120, 115, 115, 115, 110, 110]), array([115, 115, 115, 110, 110, 110]), array([115, 115, 110, 110, 110, 110]), array([115, 110, 110, 110, 110, 110]), array([110, 110, 110, 110, 110, 110]), array([110, 110, 110, 110, 110, 110]), array([110, 110, 110, 110, 110, 110]), array([110, 110, 110, 110, 110, 110]), array([110, 110, 110, 110, 110, 115]), array([110, 110, 110, 110, 115, 115]), array([110, 110, 110, 115, 115, 115]), array([110, 110, 115, 115, 115, 115]), array([110, 115, 115, 115, 115, 115]), array([115, 115, 115, 115, 115, 115]), array([115, 115, 115, 115, 115, 110]), array([115, 115, 115, 115, 110, 110]), array([115, 115, 115, 110, 110, 110]), array([115, 115, 110, 110, 110, 110]), array([115, 110, 110, 110, 110, 110]), array([110, 110, 110, 110, 110, 110]), array([110, 110, 110, 110, 110, 100]), array([110, 110, 110, 110, 100, 100]), array([110, 110, 110, 100, 100, 100]), array([110, 110, 100, 100, 100,  95]), array([110, 100, 100, 100,  95,  95]), array([100, 100, 100,  95,  95,  95]), array([100, 100,  95,  95,  95,  95]), array([100,  95,  95,  95,  95,  95]), array([95, 95, 95, 95, 95, 95]), array([ 95,  95,  95,  95,  95, 100]), array([ 95,  95,  95,  95, 100, 100]), array([ 95,  95,  95, 100, 100, 100]), array([ 95,  95, 100, 100, 100, 100]), array([ 95, 100, 100, 100, 100, 100]), array([100, 100, 100, 100, 100, 100]), array([100, 100, 100, 100, 100,  95]), array([100, 100, 100, 100,  95,  95]), array([100, 100, 100,  95,  95,  95]), array([100, 100,  95,  95,  95,  90]), array([100,  95,  95,  95,  90,  90]), array([95, 95, 95, 90, 90, 90]), array([95, 95, 90, 90, 90, 80]), array([95, 90, 90, 90, 80, 80]), array([90, 90, 90, 80, 80, 80]), array([90, 90, 80, 80, 80, 75]), array([90, 80, 80, 80, 75, 75]), array([80, 80, 80, 75, 75, 75]), array([80, 80, 75, 75, 75, 70]), array([80, 75, 75, 75, 70, 70]), array([75, 75, 75, 70, 70, 70]), array([75, 75, 70, 70, 70, 65]), array([75, 70, 70, 70, 65, 65]), array([70, 70, 70, 65, 65, 65]), array([70, 70, 65, 65, 65, 55]), array([70, 65, 65, 65, 55, 55]), array([65, 65, 65, 55, 55, 55]), array([65, 65, 55, 55, 55, 55]), array([65, 55, 55, 55, 55, 55]), array([55, 55, 55, 55, 55, 55]), array([55, 55, 55, 55, 55, 55]), array([55, 55, 55, 55, 55, 55]), array([55, 55, 55, 55, 55, 55]), array([55, 55, 55, 55, 55, 55]), array([55, 55, 55, 55, 55, 55]), array([55, 55, 55, 55, 55, 55]), array([55, 55, 55, 55, 55, 55]), array([55, 55, 55, 55, 55, 55]), array([55, 55, 55, 55, 55, 55]), array([55, 55, 55, 55, 55, 55]), array([55, 55, 55, 55, 55, 55]), array([55, 55, 55, 55, 55, 55]), array([55, 55, 55, 55, 55, 55]), array([55, 55, 55, 55, 55, 55]), array([55, 55, 55, 55, 55, 50]), array([25, 30, 30, 30, 35, 40]), array([30, 30, 30, 35, 40, 45]), array([30, 30, 35, 40, 45, 50]), array([30, 35, 40, 45, 50, 50]), array([35, 40, 45, 50, 50, 60]), array([40, 45, 50, 50, 60, 60]), array([45, 50, 50, 60, 60, 70]), array([50, 50, 60, 60, 70, 70]), array([50, 60, 60, 70, 70, 70]), array([60, 60, 70, 70, 70, 90]), array([60, 70, 70, 70, 90, 90]), array([70, 70, 70, 90, 90, 90]), array([ 70,  70,  90,  90,  90, 105]), array([ 70,  90,  90,  90, 105, 105]), array([ 90,  90,  90, 105, 105, 105]), array([ 90,  90, 105, 105, 105, 100]), array([ 90, 105, 105, 105, 100, 100]), array([105, 105, 105, 100, 100, 100]), array([105, 105, 100, 100, 100, 100]), array([105, 100, 100, 100, 100, 100]), array([100, 100, 100, 100, 100, 100]), array([100, 100, 100, 100, 100,  90]), array([100, 100, 100, 100,  90,  90]), array([100, 100, 100,  90,  90,  90]), array([100, 100,  90,  90,  90,  80]), array([100,  90,  90,  90,  80,  80]), array([90, 90, 90, 80, 80, 80]), array([90, 90, 80, 80, 80, 75]), array([90, 80, 80, 80, 75, 75]), array([80, 80, 80, 75, 75, 75]), array([80, 80, 75, 75, 75, 85]), array([80, 75, 75, 75, 85, 85]), array([75, 75, 75, 85, 85, 85]), array([75, 75, 85, 85, 85, 90]), array([75, 85, 85, 85, 90, 90]), array([85, 85, 85, 90, 90, 90]), array([85, 85, 90, 90, 90, 85]), array([85, 90, 90, 90, 85, 85]), array([90, 90, 90, 85, 85, 85]), array([90, 90, 85, 85, 85, 70]), array([90, 85, 85, 85, 70, 70]), array([85, 85, 85, 70, 70, 70]), array([85, 85, 70, 70, 70, 60]), array([85, 70, 70, 70, 60, 60]), array([70, 70, 70, 60, 60, 50]), array([70, 70, 60, 60, 50, 50]), array([70, 60, 60, 50, 50, 45]), array([60, 60, 50, 50, 45, 40]), array([60, 50, 50, 45, 40, 35]), array([50, 50, 45, 40, 35, 30]), array([15, 15, 20, 25, 30, 35]), array([15, 20, 25, 30, 35, 40]), array([20, 25, 30, 35, 40, 45]), array([25, 30, 35, 40, 45, 50]), array([30, 35, 40, 45, 50, 50]), array([35, 40, 45, 50, 50, 55]), array([40, 45, 50, 50, 55, 55]), array([45, 50, 50, 55, 55, 50]), array([50, 50, 55, 55, 50, 50]), array([50, 55, 55, 50, 50, 45]), array([55, 55, 50, 50, 45, 40]), array([55, 50, 50, 45, 40, 40]), array([50, 50, 45, 40, 40, 35]), array([50, 45, 40, 40, 35, 30]), array([45, 40, 40, 35, 30, 25]), array([40, 40, 35, 30, 25, 25]), array([30, 35, 35, 45, 50, 50]), array([35, 35, 45, 50, 50, 70]), array([35, 45, 50, 50, 70, 70]), array([45, 50, 50, 70, 70, 70]), array([50, 50, 70, 70, 70, 95]), array([50, 70, 70, 70, 95, 95]), array([70, 70, 70, 95, 95, 95]), array([ 70,  70,  95,  95,  95, 100]), array([ 70,  95,  95,  95, 100, 100]), array([ 95,  95,  95, 100, 100, 100]), array([ 95,  95, 100, 100, 100, 100]), array([ 95, 100, 100, 100, 100, 100]), array([100, 100, 100, 100, 100, 100]), array([100, 100, 100, 100, 100,  90]), array([100, 100, 100, 100,  90,  90]), array([100, 100, 100,  90,  90,  90]), array([100, 100,  90,  90,  90,  80]), array([100,  90,  90,  90,  80,  80]), array([90, 90, 90, 80, 80, 80]), array([90, 90, 80, 80, 80, 65]), array([90, 80, 80, 80, 65, 65]), array([80, 80, 80, 65, 65, 65]), array([80, 80, 65, 65, 65, 50]), array([80, 65, 65, 65, 50, 50]), array([65, 65, 65, 50, 50, 30]), array([65, 65, 50, 50, 30, 25]), array([65, 50, 50, 30, 25, 25]), array([50, 50, 30, 25, 25, 25]), array([25, 25, 25, 25, 30, 30]), array([25, 25, 25, 30, 30, 30]), array([25, 25, 30, 30, 30, 30]), array([25, 30, 30, 30, 30, 30]), array([30, 30, 30, 30, 30, 30]), array([30, 30, 30, 30, 30, 30]), array([30, 30, 30, 30, 30, 30]), array([30, 30, 30, 30, 30, 30]), array([30, 30, 30, 30, 30, 30]), array([30, 30, 30, 30, 30, 30]), array([30, 30, 30, 30, 30, 30]), array([30, 30, 30, 30, 30, 25]), array([30, 30, 30, 30, 25, 25]), array([30, 30, 30, 25, 25, 25]), array([30, 30, 25, 25, 25, 25]), array([30, 25, 25, 25, 25, 25]), array([25, 25, 25, 25, 25, 25]), array([25, 25, 25, 25, 25, 25]), array([25, 25, 25, 25, 25, 30]), array([25, 25, 25, 25, 30, 35]), array([25, 25, 25, 30, 35, 40]), array([25, 25, 30, 35, 40, 40]), array([25, 30, 35, 40, 40, 35]), array([30, 35, 40, 40, 35, 30]), array([35, 40, 40, 35, 30, 30]), array([40, 40, 35, 30, 30, 30]), array([40, 35, 30, 30, 30, 30]), array([35, 30, 30, 30, 30, 30]), array([30, 30, 30, 30, 30, 30]), array([30, 30, 30, 30, 30, 25]), array([30, 30, 30, 30, 25, 25]), array([30, 30, 30, 25, 25, 25]), array([30, 30, 25, 25, 25, 25]), array([30, 25, 25, 25, 25, 25]), array([25, 25, 25, 25, 25, 25]), array([25, 25, 25, 25, 25, 25]), array([25, 25, 25, 25, 25, 30]), array([25, 25, 25, 25, 30, 35]), array([25, 25, 25, 30, 35, 35]), array([25, 25, 30, 35, 35, 40]), array([25, 30, 35, 35, 40, 40]), array([30, 35, 35, 40, 40, 45]), array([35, 35, 40, 40, 45, 45]), array([35, 40, 40, 45, 45, 45]), array([40, 40, 45, 45, 45, 50]), array([40, 45, 45, 45, 50, 50]), array([45, 45, 45, 50, 50, 55]), array([45, 45, 50, 50, 55, 55]), array([45, 50, 50, 55, 55, 55]), array([50, 50, 55, 55, 55, 55]), array([50, 55, 55, 55, 55, 50]), array([55, 55, 55, 55, 50, 50]), array([55, 55, 55, 50, 50, 45]), array([55, 55, 50, 50, 45, 45]), array([55, 50, 50, 45, 45, 40]), array([50, 50, 45, 45, 40, 40]), array([50, 45, 45, 40, 40, 40]), array([45, 45, 40, 40, 40, 40]), array([45, 40, 40, 40, 40, 40]), array([40, 40, 40, 40, 40, 35]), array([40, 40, 40, 40, 35, 30]), array([40, 40, 40, 35, 30, 25]), array([40, 40, 35, 30, 25, 20]), array([40, 35, 30, 25, 20, 20]), array([35, 30, 25, 20, 20, 20]), array([30, 25, 20, 20, 20, 20]), array([25, 20, 20, 20, 20, 20]), array([20, 20, 20, 20, 20, 20]), array([20, 30, 30, 35, 40, 45]), array([30, 30, 35, 40, 45, 50]), array([30, 35, 40, 45, 50, 50]), array([35, 40, 45, 50, 50, 45]), array([40, 45, 50, 50, 45, 40]), array([45, 50, 50, 45, 40, 40]), array([50, 50, 45, 40, 40, 40]), array([50, 45, 40, 40, 40, 35]), array([45, 40, 40, 40, 35, 35]), array([40, 40, 40, 35, 35, 35]), array([40, 40, 35, 35, 35, 35]), array([40, 35, 35, 35, 35, 30]), array([35, 35, 35, 35, 30, 25]), array([35, 35, 35, 30, 25, 25]), array([35, 35, 30, 25, 25, 25]), array([35, 30, 25, 25, 25, 20]), array([30, 25, 25, 25, 20, 20]), array([20, 20, 25, 30, 30, 30]), array([20, 25, 30, 30, 30, 30]), array([25, 30, 30, 30, 30, 30]), array([30, 30, 30, 30, 30, 30]), array([30, 30, 30, 30, 30, 30]), array([30, 30, 30, 30, 30, 30]), array([30, 30, 30, 30, 30, 35]), array([30, 30, 30, 30, 35, 40]), array([30, 30, 30, 35, 40, 45]), array([30, 30, 35, 40, 45, 55]), array([30, 35, 40, 45, 55, 55]), array([35, 40, 45, 55, 55, 65]), array([40, 45, 55, 55, 65, 65]), array([45, 55, 55, 65, 65, 65]), array([55, 55, 65, 65, 65, 75]), array([55, 65, 65, 65, 75, 75]), array([65, 65, 65, 75, 75, 75]), array([65, 65, 75, 75, 75, 90]), array([65, 75, 75, 75, 90, 90]), array([75, 75, 75, 90, 90, 90]), array([75, 75, 90, 90, 90, 85]), array([75, 90, 90, 90, 85, 85]), array([90, 90, 90, 85, 85, 85]), array([90, 90, 85, 85, 85, 75]), array([90, 85, 85, 85, 75, 75]), array([85, 85, 85, 75, 75, 75]), array([85, 85, 75, 75, 75, 65]), array([85, 75, 75, 75, 65, 65]), array([75, 75, 75, 65, 65, 65]), array([75, 75, 65, 65, 65, 60]), array([75, 65, 65, 65, 60, 60]), array([65, 65, 65, 60, 60, 55]), array([65, 65, 60, 60, 55, 55]), array([65, 60, 60, 55, 55, 50]), array([25, 25, 30, 30, 30, 35]), array([25, 30, 30, 30, 35, 45]), array([30, 30, 30, 35, 45, 45]), array([30, 30, 35, 45, 45, 45]), array([30, 35, 45, 45, 45, 45]), array([35, 45, 45, 45, 45, 40]), array([45, 45, 45, 45, 40, 40]), array([45, 45, 45, 40, 40, 40]), array([45, 45, 40, 40, 40, 40]), array([45, 40, 40, 40, 40, 35]), array([40, 40, 40, 40, 35, 30]), array([40, 40, 40, 35, 30, 30]), array([40, 40, 35, 30, 30, 30]), array([40, 35, 30, 30, 30, 25]), array([35, 30, 30, 30, 25, 25]), array([30, 30, 30, 25, 25, 25]), array([20, 20, 25, 25, 30, 30]), array([20, 25, 25, 30, 30, 30]), array([25, 25, 30, 30, 30, 30]), array([25, 30, 30, 30, 30, 35]), array([30, 30, 30, 30, 35, 40]), array([30, 30, 30, 35, 40, 45]), array([30, 30, 35, 40, 45, 45]), array([30, 35, 40, 45, 45, 45]), array([35, 40, 45, 45, 45, 55]), array([40, 45, 45, 45, 55, 55]), array([45, 45, 45, 55, 55, 55]), array([45, 45, 55, 55, 55, 55]), array([45, 55, 55, 55, 55, 45]), array([55, 55, 55, 55, 45, 40]), array([55, 55, 55, 45, 40, 35]), array([55, 55, 45, 40, 35, 30]), array([55, 45, 40, 35, 30, 25]), array([45, 40, 35, 30, 25, 20]), array([40, 35, 30, 25, 20, 25]), array([35, 30, 25, 20, 25, 20]), array([30, 25, 20, 25, 20, 20]), array([25, 20, 25, 20, 20, 20]), array([20, 25, 20, 20, 20, 20]), array([25, 20, 20, 20, 20, 20]), array([20, 20, 20, 20, 20, 20]), array([20, 20, 20, 20, 20, 20]), array([20, 20, 20, 20, 20, 20]), array([20, 20, 20, 20, 20, 20]), array([20, 20, 20, 20, 20, 20]), array([20, 20, 20, 20, 20, 20]), array([20, 20, 20, 20, 20, 20]), array([20, 20, 20, 20, 20, 25]), array([20, 20, 20, 20, 25, 25]), array([20, 20, 20, 25, 25, 30]), array([20, 20, 25, 25, 30, 30]), array([20, 25, 25, 30, 30, 30]), array([25, 25, 30, 30, 30, 40]), array([25, 30, 30, 30, 40, 35]), array([30, 30, 30, 40, 35, 30]), array([30, 30, 40, 35, 30, 25]), array([30, 40, 35, 30, 25, 20]), array([40, 35, 30, 25, 20, 30]), array([35, 30, 25, 20, 30, 35]), array([30, 25, 20, 30, 35, 35]), array([25, 20, 30, 35, 35, 45]), array([20, 30, 35, 35, 45, 50]), array([30, 35, 35, 45, 50, 55]), array([35, 35, 45, 50, 55, 55]), array([35, 45, 50, 55, 55, 60]), array([45, 50, 55, 55, 60, 60]), array([50, 55, 55, 60, 60, 65]), array([55, 55, 60, 60, 65, 65]), array([55, 60, 60, 65, 65, 70]), array([60, 60, 65, 65, 70, 70]), array([60, 65, 65, 70, 70, 70]), array([65, 65, 70, 70, 70, 85]), array([65, 70, 70, 70, 85, 85]), array([70, 70, 70, 85, 85, 85]), array([70, 70, 85, 85, 85, 85]), array([70, 85, 85, 85, 85, 85]), array([85, 85, 85, 85, 85, 85]), array([85, 85, 85, 85, 85, 80]), array([85, 85, 85, 85, 80, 80]), array([85, 85, 85, 80, 80, 80]), array([85, 85, 80, 80, 80, 80]), array([85, 80, 80, 80, 80, 80]), array([80, 80, 80, 80, 80, 80]), array([80, 80, 80, 80, 80, 75]), array([80, 80, 80, 80, 75, 75]), array([80, 80, 80, 75, 75, 75]), array([80, 80, 75, 75, 75, 80]), array([80, 75, 75, 75, 80, 80]), array([75, 75, 75, 80, 80, 80]), array([75, 75, 80, 80, 80, 80]), array([75, 80, 80, 80, 80, 80]), array([80, 80, 80, 80, 80, 80]), array([80, 80, 80, 80, 80, 75]), array([80, 80, 80, 80, 75, 75]), array([80, 80, 80, 75, 75, 75]), array([80, 80, 75, 75, 75, 70]), array([80, 75, 75, 75, 70, 70]), array([75, 75, 75, 70, 70, 70]), array([75, 75, 70, 70, 70, 60]), array([75, 70, 70, 70, 60, 60]), array([70, 70, 70, 60, 60, 45]), array([70, 70, 60, 60, 45, 35]), array([70, 60, 60, 45, 35, 30]), array([60, 60, 45, 35, 30, 30]), array([60, 45, 35, 30, 30, 30]), array([45, 35, 30, 30, 30, 30]), array([35, 30, 30, 30, 30, 25]), array([30, 30, 30, 30, 25, 25]), array([30, 30, 30, 25, 25, 30]), array([30, 30, 25, 25, 30, 30]), array([30, 25, 25, 30, 30, 30]), array([25, 25, 30, 30, 30, 25]), array([25, 30, 30, 30, 25, 25]), array([30, 30, 30, 25, 25, 25]), array([30, 30, 25, 25, 25, 25]), array([30, 25, 25, 25, 25, 25]), array([25, 25, 25, 25, 25, 25]), array([25, 25, 25, 25, 25, 20]), array([25, 25, 25, 25, 20, 20]), array([25, 25, 25, 20, 20, 20]), array([25, 25, 20, 20, 20, 20]), array([25, 20, 20, 20, 20, 20]), array([20, 20, 20, 20, 20, 20]), array([20, 20, 20, 20, 20, 20]), array([20, 20, 20, 20, 20, 20]), array([20, 20, 20, 20, 20, 15]), array([20, 20, 20, 20, 15, 15]), array([20, 20, 20, 15, 15, 15]), array([20, 20, 15, 15, 15, 15]), array([15, 25, 25, 15, 25, 25]), array([25, 25, 15, 25, 25, 25]), array([25, 15, 25, 25, 25, 25]), array([15, 25, 25, 25, 25, 25]), array([25, 25, 25, 25, 25, 30]), array([25, 25, 25, 25, 30, 30]), array([25, 25, 25, 30, 30, 40]), array([25, 25, 30, 30, 40, 40]), array([25, 30, 30, 40, 40, 40]), array([30, 30, 40, 40, 40, 45]), array([30, 40, 40, 40, 45, 45]), array([40, 40, 40, 45, 45, 40]), array([40, 40, 45, 45, 40, 30]), array([40, 45, 45, 40, 30, 40]), array([45, 45, 40, 30, 40, 40]), array([45, 40, 30, 40, 40, 45]), array([40, 30, 40, 40, 45, 45]), array([30, 40, 40, 45, 45, 45]), array([40, 40, 45, 45, 45, 45]), array([40, 45, 45, 45, 45, 50]), array([45, 45, 45, 45, 50, 50]), array([45, 45, 45, 50, 50, 55]), array([45, 45, 50, 50, 55, 55]), array([45, 50, 50, 55, 55, 55]), array([50, 50, 55, 55, 55, 55]), array([50, 55, 55, 55, 55, 50]), array([55, 55, 55, 55, 50, 50]), array([55, 55, 55, 50, 50, 45]), array([55, 55, 50, 50, 45, 45]), array([55, 50, 50, 45, 45, 40]), array([50, 50, 45, 45, 40, 40]), array([50, 45, 45, 40, 40, 40]), array([45, 45, 40, 40, 40, 45]), array([45, 40, 40, 40, 45, 45]), array([40, 40, 40, 45, 45, 40]), array([40, 40, 45, 45, 40, 35]), array([40, 45, 45, 40, 35, 35]), array([45, 45, 40, 35, 35, 35]), array([45, 40, 35, 35, 35, 40]), array([40, 35, 35, 35, 40, 35]), array([35, 35, 35, 40, 35, 35]), array([35, 35, 40, 35, 35, 30]), array([35, 40, 35, 35, 30, 25]), array([40, 35, 35, 30, 25, 25]), array([35, 35, 30, 25, 25, 25]), array([35, 30, 25, 25, 25, 25]), array([30, 25, 25, 25, 25, 25]), array([20, 20, 25, 25, 25, 30]), array([20, 25, 25, 25, 30, 35]), array([25, 25, 25, 30, 35, 35]), array([25, 25, 30, 35, 35, 35]), array([25, 30, 35, 35, 35, 35]), array([30, 35, 35, 35, 35, 40]), array([35, 35, 35, 35, 40, 45]), array([35, 35, 35, 40, 45, 50]), array([35, 35, 40, 45, 50, 45]), array([35, 40, 45, 50, 45, 40]), array([40, 45, 50, 45, 40, 35]), array([45, 50, 45, 40, 35, 30]), array([50, 45, 40, 35, 30, 30]), array([45, 40, 35, 30, 30, 30]), array([40, 35, 30, 30, 30, 30]), array([35, 30, 30, 30, 30, 30]), array([30, 30, 30, 30, 30, 35]), array([30, 30, 30, 30, 35, 40]), array([30, 30, 30, 35, 40, 50]), array([30, 30, 35, 40, 50, 50]), array([30, 35, 40, 50, 50, 45]), array([35, 40, 50, 50, 45, 45]), array([40, 50, 50, 45, 45, 40]), array([50, 50, 45, 45, 40, 35]), array([50, 45, 45, 40, 35, 30]), array([45, 45, 40, 35, 30, 25]), array([45, 40, 35, 30, 25, 25]), array([40, 35, 30, 25, 25, 25]), array([35, 30, 25, 25, 25, 20]), array([30, 25, 25, 25, 20, 20]), array([35, 35, 35, 40, 35, 30]), array([25, 25, 25, 30, 35, 40]), array([25, 25, 30, 35, 40, 45]), array([25, 30, 35, 40, 45, 50]), array([30, 35, 40, 45, 50, 50]), array([35, 40, 45, 50, 50, 50]), array([40, 45, 50, 50, 50, 50]), array([45, 50, 50, 50, 50, 50]), array([50, 50, 50, 50, 50, 55]), array([50, 50, 50, 50, 55, 55]), array([50, 50, 50, 55, 55, 55]), array([50, 50, 55, 55, 55, 55]), array([50, 55, 55, 55, 55, 60]), array([55, 55, 55, 55, 60, 60]), array([55, 55, 55, 60, 60, 60]), array([55, 55, 60, 60, 60, 60]), array([55, 60, 60, 60, 60, 60]), array([60, 60, 60, 60, 60, 60]), array([60, 60, 60, 60, 60, 60]), array([60, 60, 60, 60, 60, 60]), array([60, 60, 60, 60, 60, 65]), array([60, 60, 60, 60, 65, 65]), array([60, 60, 60, 65, 65, 65]), array([60, 60, 65, 65, 65, 65]), array([60, 65, 65, 65, 65, 65]), array([65, 65, 65, 65, 65, 65]), array([65, 65, 65, 65, 65, 65]), array([65, 65, 65, 65, 65, 65]), array([65, 65, 65, 65, 65, 65]), array([65, 65, 65, 65, 65, 65]), array([65, 65, 65, 65, 65, 65]), array([65, 65, 65, 65, 65, 65]), array([65, 65, 65, 65, 65, 65]), array([65, 65, 65, 65, 65, 65]), array([65, 65, 65, 65, 65, 65]), array([65, 65, 65, 65, 65, 60]), array([65, 65, 65, 65, 60, 60]), array([65, 65, 65, 60, 60, 55]), array([65, 65, 60, 60, 55, 55]), array([65, 60, 60, 55, 55, 55]), array([60, 60, 55, 55, 55, 55]), array([60, 55, 55, 55, 55, 55]), array([55, 55, 55, 55, 55, 55]), array([55, 55, 55, 55, 55, 50]), array([55, 55, 55, 55, 50, 50]), array([55, 55, 55, 50, 50, 50]), array([55, 55, 50, 50, 50, 50]), array([55, 50, 50, 50, 50, 45]), array([50, 50, 50, 50, 45, 45]), array([50, 50, 50, 45, 45, 50]), array([50, 50, 45, 45, 50, 50]), array([50, 45, 45, 50, 50, 55]), array([45, 45, 50, 50, 55, 55]), array([45, 50, 50, 55, 55, 75]), array([50, 50, 55, 55, 75, 75]), array([50, 55, 55, 75, 75, 75]), array([55, 55, 75, 75, 75, 75]), array([55, 75, 75, 75, 75, 75]), array([75, 75, 75, 75, 75, 75]), array([75, 75, 75, 75, 75, 75]), array([75, 75, 75, 75, 75, 75]), array([75, 75, 75, 75, 75, 75]), array([75, 75, 75, 75, 75, 70]), array([75, 75, 75, 75, 70, 70]), array([75, 75, 75, 70, 70, 70]), array([75, 75, 70, 70, 70, 65]), array([75, 70, 70, 70, 65, 65]), array([70, 70, 70, 65, 65, 65]), array([70, 70, 65, 65, 65, 65]), array([70, 65, 65, 65, 65, 65]), array([65, 65, 65, 65, 65, 65]), array([65, 65, 65, 65, 65, 60]), array([65, 65, 65, 65, 60, 60]), array([65, 65, 65, 60, 60, 60]), array([65, 65, 60, 60, 60, 60]), array([65, 60, 60, 60, 60, 55]), array([60, 60, 60, 60, 55, 55]), array([60, 60, 60, 55, 55, 55]), array([60, 60, 55, 55, 55, 55]), array([60, 55, 55, 55, 55, 50]), array([55, 55, 55, 55, 50, 50]), array([55, 55, 55, 50, 50, 50]), array([55, 55, 50, 50, 50, 45]), array([55, 50, 50, 50, 45, 40]), array([50, 50, 50, 45, 40, 35]), array([50, 50, 45, 40, 35, 35]), array([50, 45, 40, 35, 35, 35]), array([45, 40, 35, 35, 35, 40]), array([40, 35, 35, 35, 40, 40]), array([35, 35, 35, 40, 40, 40]), array([35, 35, 40, 40, 40, 45]), array([35, 40, 40, 40, 45, 45]), array([40, 40, 40, 45, 45, 45]), array([40, 40, 45, 45, 45, 45]), array([40, 45, 45, 45, 45, 40]), array([45, 45, 45, 45, 40, 35]), array([45, 45, 45, 40, 35, 25]), array([45, 45, 40, 35, 25, 25]), array([45, 40, 35, 25, 25, 20]), array([40, 35, 25, 25, 20, 20]), array([35, 25, 25, 20, 20, 20]), array([25, 25, 20, 20, 20, 20]), array([25, 20, 20, 20, 20, 20]), array([20, 20, 20, 20, 20, 20]), array([20, 20, 20, 20, 20, 20]), array([20, 20, 20, 20, 20, 20]), array([20, 20, 20, 20, 20, 20]), array([25, 30, 35, 40, 45, 55]), array([30, 35, 40, 45, 55, 55]), array([35, 40, 45, 55, 55, 70]), array([40, 45, 55, 55, 70, 70]), array([45, 55, 55, 70, 70, 70]), array([55, 55, 70, 70, 70, 75]), array([55, 70, 70, 70, 75, 75]), array([70, 70, 70, 75, 75, 75]), array([70, 70, 75, 75, 75, 80]), array([70, 75, 75, 75, 80, 80]), array([75, 75, 75, 80, 80, 80]), array([75, 75, 80, 80, 80, 85]), array([75, 80, 80, 80, 85, 85]), array([80, 80, 80, 85, 85, 85]), array([80, 80, 85, 85, 85, 95]), array([80, 85, 85, 85, 95, 95]), array([85, 85, 85, 95, 95, 95]), array([ 85,  85,  95,  95,  95, 100]), array([ 85,  95,  95,  95, 100, 100]), array([ 95,  95,  95, 100, 100, 100]), array([ 95,  95, 100, 100, 100,  95]), array([ 95, 100, 100, 100,  95,  95]), array([100, 100, 100,  95,  95,  95]), array([100, 100,  95,  95,  95,  85]), array([100,  95,  95,  95,  85,  85]), array([95, 95, 95, 85, 85, 85]), array([95, 95, 85, 85, 85, 70]), array([95, 85, 85, 85, 70, 70]), array([85, 85, 85, 70, 70, 70]), array([85, 85, 70, 70, 70, 65]), array([85, 70, 70, 70, 65, 65]), array([70, 70, 70, 65, 65, 65]), array([70, 70, 65, 65, 65, 60]), array([70, 65, 65, 65, 60, 60]), array([65, 65, 65, 60, 60, 55]), array([65, 65, 60, 60, 55, 55]), array([25, 30, 30, 30, 35, 35]), array([30, 30, 30, 35, 35, 35]), array([30, 30, 35, 35, 35, 25]), array([30, 35, 35, 35, 25, 25]), array([35, 35, 35, 25, 25, 30]), array([35, 35, 25, 25, 30, 30]), array([35, 25, 25, 30, 30, 30]), array([25, 25, 30, 30, 30, 35]), array([25, 30, 30, 30, 35, 45]), array([30, 30, 30, 35, 45, 55]), array([30, 30, 35, 45, 55, 55]), array([30, 35, 45, 55, 55, 65]), array([35, 45, 55, 55, 65, 65]), array([45, 55, 55, 65, 65, 90]), array([55, 55, 65, 65, 90, 90]), array([55, 65, 65, 90, 90, 90]), array([65, 65, 90, 90, 90, 95]), array([65, 90, 90, 90, 95, 95]), array([90, 90, 90, 95, 95, 95]), array([ 90,  90,  95,  95,  95, 105]), array([ 90,  95,  95,  95, 105, 105]), array([ 95,  95,  95, 105, 105, 105]), array([ 95,  95, 105, 105, 105,  90]), array([ 95, 105, 105, 105,  90,  90]), array([105, 105, 105,  90,  90,  90]), array([105, 105,  90,  90,  90,  80]), array([105,  90,  90,  90,  80,  80]), array([90, 90, 90, 80, 80, 80]), array([90, 90, 80, 80, 80, 65]), array([90, 80, 80, 80, 65, 65]), array([80, 80, 80, 65, 65, 65]), array([80, 80, 65, 65, 65, 60]), array([80, 65, 65, 65, 60, 60]), array([65, 65, 65, 60, 60, 45]), array([65, 65, 60, 60, 45, 50]), array([65, 60, 60, 45, 50, 50]), array([60, 60, 45, 50, 50, 55]), array([60, 45, 50, 50, 55, 55]), array([45, 50, 50, 55, 55, 65]), array([50, 50, 55, 55, 65, 65]), array([50, 55, 55, 65, 65, 70]), array([55, 55, 65, 65, 70, 70]), array([55, 65, 65, 70, 70, 70]), array([65, 65, 70, 70, 70, 80]), array([65, 70, 70, 70, 80, 80]), array([70, 70, 70, 80, 80, 80]), array([70, 70, 80, 80, 80, 90]), array([70, 80, 80, 80, 90, 90]), array([80, 80, 80, 90, 90, 90]), array([80, 80, 90, 90, 90, 95]), array([80, 90, 90, 90, 95, 95]), array([90, 90, 90, 95, 95, 95]), array([ 90,  90,  95,  95,  95, 110]), array([ 90,  95,  95,  95, 110, 110]), array([ 95,  95,  95, 110, 110, 110]), array([ 95,  95, 110, 110, 110, 105]), array([ 95, 110, 110, 110, 105, 105]), array([110, 110, 110, 105, 105, 105]), array([110, 110, 105, 105, 105,  95]), array([110, 105, 105, 105,  95,  95]), array([105, 105, 105,  95,  95,  95]), array([105, 105,  95,  95,  95,  75]), array([105,  95,  95,  95,  75,  75]), array([95, 95, 95, 75, 75, 75]), array([95, 95, 75, 75, 75, 60]), array([95, 75, 75, 75, 60, 60]), array([75, 75, 75, 60, 60, 50]), array([75, 75, 60, 60, 50, 50]), array([75, 60, 60, 50, 50, 45]), array([60, 60, 50, 50, 45, 35]), array([60, 50, 50, 45, 35, 30]), array([50, 50, 45, 35, 30, 30]), array([50, 45, 35, 30, 30, 20]), array([45, 35, 30, 30, 20, 20]), array([15, 20, 25, 30, 35, 40]), array([20, 25, 30, 35, 40, 45]), array([25, 30, 35, 40, 45, 55]), array([30, 35, 40, 45, 55, 55]), array([35, 40, 45, 55, 55, 55]), array([40, 45, 55, 55, 55, 55]), array([45, 55, 55, 55, 55, 60]), array([55, 55, 55, 55, 60, 60]), array([55, 55, 55, 60, 60, 55]), array([55, 55, 60, 60, 55, 55]), array([55, 60, 60, 55, 55, 50]), array([60, 60, 55, 55, 50, 45]), array([60, 55, 55, 50, 45, 45]), array([55, 55, 50, 45, 45, 40]), array([55, 50, 45, 45, 40, 35]), array([50, 45, 45, 40, 35, 30]), array([45, 45, 40, 35, 30, 35]), array([45, 40, 35, 30, 35, 30]), array([40, 35, 30, 35, 30, 25]), array([35, 30, 35, 30, 25, 25]), array([30, 35, 30, 25, 25, 25]), array([35, 30, 25, 25, 25, 25]), array([30, 25, 25, 25, 25, 20]), array([25, 25, 25, 25, 20, 20])]\n",
            "Length of Test Y (for evaluation): [0, 0, 0, 0, 0, 0, 0, 0, 0, 0, 0, 0, 0, 0, 0, 0, 0, 0, 0, 0, 0, 0, 0, 0, 0, 0, 0, 0, 0, 0, 0, 0, 0, 0, 0, 0, 0, 0, 0, 0, 0, 0, 0, 0, 0, 0, 0, 0, 0, 0, 0, 0, 0, 0, 0, 0, 0, 0, 0, 0, 0, 0, 0, 0, 0, 0, 0, 0, 0, 0, 0, 0, 1, 0, 0, 0, 0, 0, 0, 0, 0, 0, 0, 0, 0, 0, 0, 0, 0, 0, 0, 0, 0, 0, 0, 0, 0, 0, 0, 0, 0, 0, 0, 0, 0, 0, 0, 0, 0, 0, 0, 0, 0, 0, 0, 0, 0, 0, 0, 0, 0, 0, 0, 0, 0, 0, 0, 0, 0, 0, 0, 0, 0, 0, 0, 0, 0, 0, 0, 0, 0, 0, 0, 0, 0, 0, 0, 0, 0, 0, 0, 0, 0, 0, 0, 0, 0, 0, 0, 0, 0, 0, 0, 0, 0, 0, 0, 0, 0, 0, 0, 0, 0, 0, 0, 0, 0, 0, 0, 0, 0, 0, 0, 0, 0, 0, 0, 0, 0, 0, 0, 0, 0, 0, 0, 0, 0, 0, 0, 0, 0, 0, 0, 0, 0, 0, 0, 0, 0, 0, 0, 0, 0, 0, 0, 0, 0, 0, 0, 0, 0, 0, 0, 0, 0, 0, 0, 0, 0, 0, 0, 0, 0, 0, 0, 0, 0, 0, 0, 0, 0, 0, 0, 0, 0, 0, 0, 0, 0, 0, 0, 0, 0, 0, 0, 0, 0, 0, 0, 0, 0, 0, 0, 0, 0, 0, 0, 0, 0, 0, 0, 0, 0, 0, 0, 0, 0, 0, 0, 0, 0, 0, 0, 0, 0, 0, 0, 0, 0, 0, 1, 0, 0, 0, 0, 0, 0, 0, 0, 0, 0, 0, 0, 0, 0, 0, 0, 0, 0, 0, 0, 0, 0, 0, 0, 0, 0, 0, 0, 0, 0, 0, 0, 0, 0, 0, 0, 0, 0, 0, 0, 0, 0, 0, 0, 0, 0, 0, 0, 0, 0, 0, 0, 0, 0, 0, 0, 0, 0, 0, 0, 0, 0, 0, 0, 0, 0, 0, 0, 0, 0, 0, 0, 0, 0, 0, 0, 0, 0, 0, 0, 0, 0, 0, 0, 0, 0, 0, 0, 0, 0, 0, 0, 0, 0, 0, 0, 0, 0, 0, 0, 0, 0, 0, 0, 0, 0, 0, 0, 0, 0, 0, 0, 0, 0, 0, 0, 0, 0, 0, 0, 0, 0, 0, 0, 0, 0, 0, 0, 0, 0, 0, 0, 0, 0, 0, 0, 0, 0, 0, 0, 0, 0, 0, 0, 0, 0, 0, 0, 0, 0, 0, 0, 0, 0, 0, 0, 0, 0, 0, 0, 0, 0, 0, 0, 0, 0, 0, 0, 0, 0, 0, 0, 0, 0, 0, 0, 0, 0, 0, 0, 0, 0, 0, 0, 0, 0, 0, 0, 0, 0, 0, 0, 0, 0, 0, 0, 0, 0, 0, 0, 0, 0, 0, 0, 0, 0, 0, 0, 0, 0, 0, 0, 0, 0, 0, 0, 0, 0, 0, 0, 0, 0, 0, 0, 0, 0, 0, 0, 0, 0, 0, 0, 0, 0, 0, 0, 0, 0, 0, 0, 0, 0, 0, 0, 0, 0, 0, 0, 0, 0, 0, 0, 0, 0, 0, 0, 0, 0, 0, 0, 0, 0, 1, 0, 0, 0, 0, 0, 0, 0, 0, 0, 0, 0, 0, 0, 0, 0, 0, 0, 0, 0, 0, 0, 0, 0, 0, 0, 0, 0, 0, 0, 0, 0, 0, 0, 0, 0, 0, 0, 0, 0, 0, 0, 0, 0, 0, 0, 0, 0, 0, 0, 0, 0, 0, 0, 0, 0, 0, 0, 0, 0, 0, 0, 0, 0, 0, 0, 0, 0, 0, 0, 0, 0, 0, 0, 0, 0, 0, 0, 0, 0, 0, 0, 0, 0, 0, 0, 0, 0, 0, 0, 0, 0, 0, 0, 0, 0, 0, 0, 0, 0, 0, 0, 0, 0, 0, 0, 1, 1, 1, 1, 0, 1, 0, 0, 1, 0, 0, 0, 0, 0, 0, 0, 0, 0, 0, 0, 0, 0, 0, 0, 0, 0, 0, 0, 0, 0, 0, 0, 0, 0, 0, 0, 0, 0, 0, 0, 0, 0, 0, 0, 0, 0, 0, 0, 0, 0, 0, 0, 0, 0, 0, 0, 0, 0, 0, 0, 0, 0, 0, 0, 0, 0, 0, 0, 0, 0, 0, 0, 0, 0, 0, 0, 0, 0, 0, 0, 0, 0, 0, 0, 0, 0, 0, 0, 0, 0, 0, 0, 0, 0, 0, 0, 0, 0, 0, 0, 0, 0, 0, 0, 0, 0, 0, 0, 0, 0, 0, 0, 0, 0, 0, 0, 0, 0, 0, 0, 0, 0, 0, 0, 0, 0, 0, 0, 0, 0, 0, 0, 0, 0, 0, 0, 0, 0, 0, 0, 0, 0, 0, 0, 1, 0, 0, 0, 0, 0, 0, 0, 0, 0, 0, 0, 0, 0, 0, 0, 0, 0, 0, 0, 0, 0, 0, 0, 0, 0, 0, 0, 0, 0, 0, 0, 0, 0, 0, 0, 0, 0, 0, 0, 0, 0, 0, 0, 0, 0, 0, 0, 0, 0, 0, 0, 0, 0, 0, 0, 0, 0, 0, 0, 0, 0, 0, 0, 0, 0, 0, 0, 0, 0, 0, 0, 0, 0, 0, 0, 0, 0, 0, 0, 0, 0, 0, 0, 0, 0, 0, 0, 0, 0, 0, 0, 0, 0, 0, 0, 0, 0, 0, 0, 0, 0, 0, 0, 0, 0, 0, 0, 0, 0, 0, 0, 0, 0, 0, 0, 0, 0, 0, 0, 0, 0, 0, 0, 0, 0, 0, 0, 0, 0, 0, 0, 0, 0, 0, 0, 0, 0, 0, 0, 0, 1, 1, 0, 0, 0, 0, 0, 0, 0, 0, 0, 0, 0, 0, 0, 0, 0, 0, 0, 0, 0, 0, 0, 0, 0, 0, 0, 0, 0, 0, 0, 0, 0, 0, 0, 0, 0, 0, 0, 0, 0, 0, 0, 0, 0, 0, 0, 0, 0, 0, 0, 0, 0, 0, 0, 0, 0, 0, 0, 0, 0, 0, 0, 0, 0, 0, 0, 0, 0, 0, 0, 0, 0, 0, 0, 0, 0, 0, 0, 0, 0, 0, 0, 0, 0, 0, 0, 0, 0, 0, 0, 0, 0, 0, 0, 0, 0, 0, 0, 0, 0, 0, 0, 0, 0, 0, 0, 0, 0, 0, 0, 0, 0, 0, 0, 0, 0, 0, 0, 0, 0, 0, 0, 0, 0, 0, 0, 0, 0, 0, 0, 0, 0, 0, 0, 0, 0, 0, 0, 0, 0, 0, 0, 0, 0, 0, 0, 0, 0, 0, 0, 0, 0, 0, 0, 0, 0, 0, 0, 0, 0, 0, 0, 0, 0, 0, 0, 0, 0, 0, 0, 0, 0, 0, 0, 0, 0, 0, 0, 0, 0, 0, 0, 0, 0, 0, 0, 0, 0, 0, 0, 0, 0, 0, 0, 0, 0, 0, 0, 0, 1, 0, 0, 1, 0, 0, 0, 0, 0, 0, 0, 0, 0, 0, 0, 0, 0, 0, 0, 0, 0, 0, 0, 0, 0, 0, 0, 0, 0, 0, 0, 0, 0, 0, 0, 0, 0, 0, 0, 0, 0, 0, 0, 0, 0, 0, 0, 0, 0, 0, 0, 0, 0, 0, 0, 0, 0, 0, 0, 0, 0, 0, 0, 0, 0, 0, 0, 0, 0, 0, 0, 0, 0, 0, 0, 0, 0, 0, 0, 0, 0, 0, 0, 0, 0, 0, 0, 0, 0, 0, 0, 0, 0, 0, 0, 0, 0, 0, 0, 0, 0, 0, 0, 0, 0, 0, 0, 0, 0, 0, 0, 0, 0, 0, 0, 0, 0, 0, 0, 0, 0, 0, 0, 0, 0, 0, 0, 0, 0, 0, 0, 0, 0, 0, 0, 0, 0, 0, 0, 0, 0, 0, 0, 0, 0, 0, 0, 0, 0, 0, 0, 0, 0, 0, 0, 0, 0, 0, 0, 0, 0, 0, 0, 0, 0, 0, 0, 0, 0, 0, 0, 0, 0, 0, 0, 0, 0, 1, 0, 0, 1, 1, 0, 0, 0, 0, 0, 0, 0, 0, 0, 0, 0, 0, 0, 0, 0, 0, 0, 0, 0, 0, 0, 0, 0, 0, 0, 0, 0, 0, 0, 0, 0, 0, 0, 0, 0, 0, 0, 0, 0, 0, 0, 0, 0, 0, 0, 0, 0, 0, 0, 0, 0, 0, 0, 0, 0, 0, 0, 0, 0, 0, 0, 0, 0, 0, 0, 0, 0, 0, 0, 0, 0, 0, 0, 0, 0, 0, 0, 0, 0, 0, 0, 0, 0, 0, 0, 0, 0, 0, 0, 0, 0, 0, 0, 0, 0, 1, 0, 0, 0, 0, 0, 0, 0, 0, 0, 0, 0, 0, 0, 0, 0, 0, 0, 0, 0, 0, 0, 0, 0, 0, 0, 0, 0, 0, 0, 0, 0, 0, 0, 0, 0, 0, 0, 0, 0, 0, 0, 0, 0, 0, 0, 0, 0, 0, 0, 0, 0, 0, 0, 0, 0, 0, 0, 0, 0, 0, 0, 0, 0, 0, 0, 0, 0, 0, 0, 0, 0, 0, 0, 0, 0, 0, 0, 0, 0, 0, 0, 0, 0, 0, 0, 0, 0, 0, 0, 0, 0, 0, 0, 0, 0, 0, 0, 0, 0, 0, 0, 0, 0, 0, 0, 0, 0, 0, 0, 0, 0, 0, 0, 0, 0, 0, 0, 0, 0, 0, 0, 0, 0, 0, 0, 0, 0, 0, 0, 0, 0, 0, 0, 0, 0, 0, 0, 0, 0, 0, 0, 0, 0, 0, 0, 0, 0, 0, 0, 0, 0, 0, 0, 0, 0, 0, 0, 0, 0, 0, 0, 0, 0, 0, 0, 0, 0, 0, 0, 0, 0, 0, 0, 0, 0, 0, 0, 0, 0, 0, 0, 0, 0, 0, 0, 0, 0, 0, 0, 0, 0, 0, 0, 0, 0, 0, 0, 0, 0, 0, 0, 0, 0, 0, 0, 0, 0, 0, 0, 0, 0, 0, 0, 0, 0, 0, 0, 0, 0, 0, 0, 0, 0, 0, 0, 0, 0, 0, 0, 0, 0, 0, 0, 0, 0, 0, 0, 0, 0, 0, 0, 0, 0, 0, 0, 0, 0, 0, 0, 0, 0, 0, 0, 0, 0, 0, 0, 0, 0, 0, 0, 0, 0, 0, 0, 0, 0, 0, 0, 0, 0, 0, 0, 0, 0, 0, 0, 0, 0, 0, 0, 0, 0, 0, 0, 0, 0, 0, 0, 0, 0, 0, 0, 0, 0, 0, 0, 0, 0, 0, 0, 0, 0, 0, 0, 0, 0, 0, 0, 0, 0, 0, 0, 0, 0, 0, 0, 0, 0, 0, 0, 0, 0, 0, 0, 0, 0, 0, 0, 0, 0, 0, 0, 0, 0, 0, 0, 0, 0, 0, 0, 0, 0, 0, 0, 0, 0, 0, 0, 0, 1, 0, 0, 1, 0, 0, 0, 0, 0, 0, 0, 0, 0, 0, 0, 0, 0, 0, 0, 0, 0, 0, 0, 0, 0, 0, 0, 0, 0, 0, 0, 0, 0, 0, 0, 0, 0, 0, 0, 0, 0, 0, 0, 0, 0, 0, 0, 0, 0, 0, 0, 0, 0, 0, 0, 0, 0, 0, 1, 0, 0, 1, 0, 0, 1, 0, 0, 0, 0, 0, 0, 0, 0, 0, 0, 0, 0, 0, 0, 0, 0, 0, 0, 0, 0, 0, 0, 0, 0, 0, 0, 0, 0, 0, 0, 0, 0, 0, 0, 0, 0, 0, 0, 0, 0, 0, 0, 0, 0, 0, 0, 0, 0, 0, 0, 0, 0, 0, 0, 0, 0, 0, 0, 0, 0, 0, 0, 0, 0, 0, 0, 0, 0, 0, 0, 0, 0, 0, 0, 0, 0, 0, 0, 0, 0, 0, 0, 0, 0, 0, 0, 0, 0, 0, 0, 0, 0, 0, 0, 0, 0, 0, 0, 0, 0, 0, 0, 0, 0, 0, 0, 0, 0, 0, 0, 0, 0, 0, 0, 0, 0, 0, 0, 0, 0, 0, 0, 0, 0, 0, 0, 0, 0, 0, 0, 0, 0, 0, 0, 0, 0, 0, 0, 0, 0, 0, 0, 0, 0, 0, 0, 0, 0, 0, 0, 0, 0, 0, 0, 0, 0, 0, 0, 0, 0, 0, 0, 0, 0, 0, 0, 0, 0, 0, 0, 0, 0, 0, 0, 0, 0, 0, 0, 0, 0, 0, 0, 0, 0, 0, 0, 0, 0, 0, 0, 0, 0, 0, 0, 0, 0, 0, 0, 0, 0, 0, 0, 0, 0, 0, 0, 0, 0, 0, 0, 0, 0, 0, 0, 0, 0, 0, 0, 0, 0, 0, 0, 0, 0, 0, 0, 0, 0, 0, 0, 0, 0, 0, 0, 0, 0, 0, 0, 0, 0, 0, 0, 0, 0, 0, 0, 0, 0, 0, 0, 0, 0, 0, 0, 0, 0, 0, 0, 0, 0, 0, 0, 0, 0, 0, 0, 0, 0, 0, 0, 0, 0, 0, 0, 0, 0, 0, 0, 0, 0, 0, 0, 0, 0, 0, 0, 0, 0, 0, 0, 0, 0, 0, 0, 0, 0, 0, 0, 0, 0, 0, 0, 0, 0, 0, 0, 0, 0, 0, 0, 0, 0, 0, 0, 0, 0, 0, 0, 0, 0, 0, 0, 0, 0, 0, 0, 0, 0, 0, 0, 0, 0, 0, 0, 0, 0, 0, 0, 0, 0, 0, 0, 0, 0, 0, 0, 0, 0, 0, 0, 0, 0, 0, 0, 0, 0, 0, 0, 0, 0, 0, 0, 0, 0, 0, 0, 0, 0, 0, 0, 0, 0, 0, 0, 0, 0, 0, 0, 0, 0, 0, 0, 0, 0, 0, 0, 0, 0, 0, 0, 0, 0, 0, 0, 0, 0, 0, 0, 0, 0, 0, 0, 0, 0, 0, 0, 0, 0, 0, 0, 0, 0, 0, 0, 0, 0, 0, 0, 0, 0, 0, 0, 0, 0, 0, 0, 0, 0, 0, 0, 0, 0, 0, 0, 0, 0, 0, 0, 0, 0, 0, 0, 0, 0, 0, 0, 0, 0, 0, 0, 0, 0, 0, 0, 1, 0, 0, 0, 0, 0, 0, 0, 0, 0, 0, 0, 0, 0, 0, 0, 0, 0, 0, 0, 0, 0, 0, 0, 0, 0, 0, 0, 0, 0, 0, 0, 0, 0, 0, 0, 0, 0, 0, 0, 0, 0, 0, 0, 0, 1, 0, 1, 1, 0, 1, 0, 0, 0, 0, 0, 0, 0, 0, 0, 0, 0, 0, 0, 0, 0, 0, 0, 0, 0, 0, 0, 0, 0, 0, 0, 0, 0, 0, 0, 0, 0, 0, 0, 0, 0, 0, 0, 0, 0, 0, 0, 0, 0, 0, 0, 0, 0, 0, 0, 0, 0, 0, 0, 0, 0, 0, 0, 0, 0, 0, 0, 0, 0, 0, 0, 0, 0, 0, 0, 0, 0, 0, 0, 0, 0, 0, 0, 0, 0, 0, 0, 0]\n"
          ]
        }
      ],
      "source": [
        "# Extract test data for evaluation\n",
        "test_X_original_1 = X1[train_limit + 1:]\n",
        "test_Y_original_1 = Y1[train_limit + 1:]\n",
        "\n",
        "# Display the lengths of the datasets\n",
        "print(\"Length of X:\", len(X1))\n",
        "print(\"Length of Y:\", len(Y1))\n",
        "print(\"Length of Test X (for evaluation):\", (test_X_original_1[0]))\n",
        "print(\"Length of Test Y (for evaluation):\", (test_Y_original_1[0]))\n",
        "\n",
        "# Extract test data for evaluation\n",
        "test_X_original = X[train_limit + 1:]\n",
        "test_Y_original = Y[train_limit + 1:]\n",
        "\n",
        "# Display the lengths of the datasets\n",
        "print(\"Length of X:\", len(X))\n",
        "print(\"Length of Y:\", len(Y))\n",
        "print(\"Length of Test X (for evaluation):\", test_X_original)\n",
        "print(\"Length of Test Y (for evaluation):\", test_Y_original)"
      ]
    },
    {
      "cell_type": "code",
      "execution_count": null,
      "metadata": {
        "colab": {
          "base_uri": "https://localhost:8080/"
        },
        "id": "F0M6lb6s4UED",
        "outputId": "ee9bfe8e-590d-4a37-8ddc-9ca9b508a0a5"
      },
      "outputs": [
        {
          "output_type": "stream",
          "name": "stdout",
          "text": [
            "[[0.39892183 0.92805556]\n",
            " [0.40526316 0.93      ]\n",
            " [0.40458015 0.9325    ]\n",
            " [0.3955774  0.93527778]\n",
            " [0.38625592 0.93833333]\n",
            " [0.37813212 0.94055556]]\n"
          ]
        }
      ],
      "source": [
        "from sklearn.preprocessing import MinMaxScaler\n",
        "\n",
        "X1 = np.array(X1)\n",
        "scalers = {}\n",
        "for i in range(X1.shape[1]):\n",
        "    scalers[i] = MinMaxScaler()\n",
        "    X1[:, i, :] = scalers[i].fit_transform(X1[:, i, :])\n",
        "print(X1[0])"
      ]
    },
    {
      "cell_type": "code",
      "execution_count": null,
      "metadata": {
        "colab": {
          "base_uri": "https://localhost:8080/"
        },
        "id": "20XzhRN84W16",
        "outputId": "cc5f04d8-9c66-4680-b64d-48b34c9acb30"
      },
      "outputs": [
        {
          "output_type": "stream",
          "name": "stdout",
          "text": [
            "[[0.07142857 0.07142857 0.07142857 0.10714286 0.14285714 0.17857143]\n",
            " [0.07142857 0.07142857 0.10714286 0.14285714 0.17857143 0.17857143]\n",
            " [0.07142857 0.10714286 0.14285714 0.17857143 0.17857143 0.17857143]\n",
            " ...\n",
            " [0.14285714 0.10714286 0.07142857 0.07142857 0.07142857 0.07142857]\n",
            " [0.10714286 0.07142857 0.07142857 0.07142857 0.07142857 0.03571429]\n",
            " [0.07142857 0.07142857 0.07142857 0.07142857 0.03571429 0.03571429]]\n"
          ]
        }
      ],
      "source": [
        "# Normalize the sequences in X using Min-Max scaling\n",
        "X = MinMaxScaler().fit_transform(np.asarray(X))\n",
        "print(X)"
      ]
    },
    {
      "cell_type": "code",
      "execution_count": null,
      "metadata": {
        "colab": {
          "base_uri": "https://localhost:8080/"
        },
        "id": "_Glvl4Y04ZiG",
        "outputId": "defe79a1-de49-44ac-d396-4a60455c70ec"
      },
      "outputs": [
        {
          "output_type": "stream",
          "name": "stdout",
          "text": [
            "[0, 0, 0, 0, 0, 0, 0, 0, 0, 0, 0, 0, 0, 0, 0, 0, 0, 0, 0, 0, 0, 0, 0, 0, 0, 0, 0, 0, 0, 0, 0, 0, 0, 0, 0, 0, 0, 0, 0, 0, 0, 0, 0, 0, 0, 0, 0, 0, 0, 0, 0, 0, 0, 0, 0, 0, 0, 0, 0, 0, 0, 0, 0, 0, 0, 0, 0, 0, 0, 0, 0, 0, 1, 0, 0, 0, 0, 0, 0, 0, 0, 0, 0, 0, 0, 0, 0, 0, 0, 0, 0, 0, 0, 0, 0, 0, 0, 0, 0, 0, 0, 0, 0, 0, 0, 0, 0, 0, 0, 0, 0, 0, 0, 0, 0, 0, 0, 0, 0, 0, 0, 0, 0, 0, 0, 0, 0, 0, 0, 0, 0, 0, 0, 0, 0, 0, 0, 0, 0, 0, 0, 0, 0, 0, 0, 0, 0, 0, 0, 0, 0, 0, 0, 0, 0, 0, 0, 0, 0, 0, 0, 0, 0, 0, 0, 0, 0, 0, 0, 0, 0, 0, 0, 0, 0, 0, 0, 0, 0, 0, 0, 0, 0, 0, 0, 0, 0, 0, 0, 0, 0, 0, 0, 0, 0, 0, 0, 0, 0, 0, 0, 0, 0, 0, 0, 0, 0, 0, 0, 0, 0, 0, 0, 0, 0, 0, 0, 0, 0, 0, 0, 0, 0, 0, 0, 0, 0, 0, 0, 0, 0, 0, 0, 0, 0, 0, 0, 0, 0, 0, 0, 0, 0, 0, 0, 0, 0, 0, 0, 0, 0, 0, 0, 0, 0, 0, 0, 0, 0, 0, 0, 0, 0, 0, 0, 0, 0, 0, 0, 0, 0, 0, 0, 0, 0, 0, 0, 0, 0, 0, 0, 0, 0, 0, 0, 0, 0, 0, 0, 0, 1, 0, 0, 0, 0, 0, 0, 0, 0, 0, 0, 0, 0, 0, 0, 0, 0, 0, 0, 0, 0, 0, 0, 0, 0, 0, 0, 0, 0, 0, 0, 0, 0, 0, 0, 0, 0, 0, 0, 0, 0, 0, 0, 0, 0, 0, 0, 0, 0, 0, 0, 0, 0, 0, 0, 0, 0, 0, 0, 0, 0, 0, 0, 0, 0, 0, 0, 0, 0, 0, 0, 0, 0, 0, 0, 0, 0, 0, 0, 0, 0, 0, 0, 0, 0, 0, 0, 0, 0, 0, 0, 0, 0, 0, 0, 0, 0, 0, 0, 0, 0, 0, 0, 0, 0, 0, 0, 0, 0, 0, 0, 0, 0, 0, 0, 0, 0, 0, 0, 0, 0, 0, 0, 0, 0, 0, 0, 0, 0, 0, 0, 0, 0, 0, 0, 0, 0, 0, 0, 0, 0, 0, 0, 0, 0, 0, 0, 0, 0, 0, 0, 0, 0, 0, 0, 0, 0, 0, 0, 0, 0, 0, 0, 0, 0, 0, 0, 0, 0, 0, 0, 0, 0, 0, 0, 0, 0, 0, 0, 0, 0, 0, 0, 0, 0, 0, 0, 0, 0, 0, 0, 0, 0, 0, 0, 0, 0, 0, 0, 0, 0, 0, 0, 0, 0, 0, 0, 0, 0, 0, 0, 0, 0, 0, 0, 0, 0, 0, 0, 0, 0, 0, 0, 0, 0, 0, 0, 0, 0, 0, 0, 0, 0, 0, 0, 0, 0, 0, 0, 0, 0, 0, 0, 0, 0, 0, 0, 0, 0, 0, 0, 0, 0, 0, 0, 0, 0, 0, 0, 0, 0, 0, 0, 1, 0, 0, 0, 0, 0, 0, 0, 0, 0, 0, 0, 0, 0, 0, 0, 0, 0, 0, 0, 0, 0, 0, 0, 0, 0, 0, 0, 0, 0, 0, 0, 0, 0, 0, 0, 0, 0, 0, 0, 0, 0, 0, 0, 0, 0, 0, 0, 0, 0, 0, 0, 0, 0, 0, 0, 0, 0, 0, 0, 0, 0, 0, 0, 0, 0, 0, 0, 0, 0, 0, 0, 0, 0, 0, 0, 0, 0, 0, 0, 0, 0, 0, 0, 0, 0, 0, 0, 0, 0, 0, 0, 0, 0, 0, 0, 0, 0, 0, 0, 0, 0, 0, 0, 0, 0, 1, 1, 1, 1, 0, 1, 0, 0, 1, 0, 0, 0, 0, 0, 0, 0, 0, 0, 0, 0, 0, 0, 0, 0, 0, 0, 0, 0, 0, 0, 0, 0, 0, 0, 0, 0, 0, 0, 0, 0, 0, 0, 0, 0, 0, 0, 0, 0, 0, 0, 0, 0, 0, 0, 0, 0, 0, 0, 0, 0, 0, 0, 0, 0, 0, 0, 0, 0, 0, 0, 0, 0, 0, 0, 0, 0, 0, 0, 0, 0, 0, 0, 0, 0, 0, 0, 0, 0, 0, 0, 0, 0, 0, 0, 0, 0, 0, 0, 0, 0, 0, 0, 0, 0, 0, 0, 0, 0, 0, 0, 0, 0, 0, 0, 0, 0, 0, 0, 0, 0, 0, 0, 0, 0, 0, 0, 0, 0, 0, 0, 0, 0, 0, 0, 0, 0, 0, 0, 0, 0, 0, 0, 0, 0, 1, 0, 0, 0, 0, 0, 0, 0, 0, 0, 0, 0, 0, 0, 0, 0, 0, 0, 0, 0, 0, 0, 0, 0, 0, 0, 0, 0, 0, 0, 0, 0, 0, 0, 0, 0, 0, 0, 0, 0, 0, 0, 0, 0, 0, 0, 0, 0, 0, 0, 0, 0, 0, 0, 0, 0, 0, 0, 0, 0, 0, 0, 0, 0, 0, 0, 0, 0, 0, 0, 0, 0, 0, 0, 0, 0, 0, 0, 0, 0, 0, 0, 0, 0, 0, 0, 0, 0, 0, 0, 0, 0, 0, 0, 0, 0, 0, 0, 0, 0, 0, 0, 0, 0, 0, 0, 0, 0, 0, 0, 0, 0, 0, 0, 0, 0, 0, 0, 0, 0, 0, 0, 0, 0, 0, 0, 0, 0, 0, 0, 0, 0, 0, 0, 0, 0, 0, 0, 0, 0, 0, 1, 1, 0, 0, 0, 0, 0, 0, 0, 0, 0, 0, 0, 0, 0, 0, 0, 0, 0, 0, 0, 0, 0, 0, 0, 0, 0, 0, 0, 0, 0, 0, 0, 0, 0, 0, 0, 0, 0, 0, 0, 0, 0, 0, 0, 0, 0, 0, 0, 0, 0, 0, 0, 0, 0, 0, 0, 0, 0, 0, 0, 0, 0, 0, 0, 0, 0, 0, 0, 0, 0, 0, 0, 0, 0, 0, 0, 0, 0, 0, 0, 0, 0, 0, 0, 0, 0, 0, 0, 0, 0, 0, 0, 0, 0, 0, 0, 0, 0, 0, 0, 0, 0, 0, 0, 0, 0, 0, 0, 0, 0, 0, 0, 0, 0, 0, 0, 0, 0, 0, 0, 0, 0, 0, 0, 0, 0, 0, 0, 0, 0, 0, 0, 0, 0, 0, 0, 0, 0, 0, 0, 0, 0, 0, 0, 0, 0, 0, 0, 0, 0, 0, 0, 0, 0, 0, 0, 0, 0, 0, 0, 0, 0, 0, 0, 0, 0, 0, 0, 0, 0, 0, 0, 0, 0, 0, 0, 0, 0, 0, 0, 0, 0, 0, 0, 0, 0, 0, 0, 0, 0, 0, 0, 0, 0, 0, 0, 0, 0, 0, 1, 0, 0, 1, 0, 0, 0, 0, 0, 0, 0, 0, 0, 0, 0, 0, 0, 0, 0, 0, 0, 0, 0, 0, 0, 0, 0, 0, 0, 0, 0, 0, 0, 0, 0, 0, 0, 0, 0, 0, 0, 0, 0, 0, 0, 0, 0, 0, 0, 0, 0, 0, 0, 0, 0, 0, 0, 0, 0, 0, 0, 0, 0, 0, 0, 0, 0, 0, 0, 0, 0, 0, 0, 0, 0, 0, 0, 0, 0, 0, 0, 0, 0, 0, 0, 0, 0, 0, 0, 0, 0, 0, 0, 0, 0, 0, 0, 0, 0, 0, 0, 0, 0, 0, 0, 0, 0, 0, 0, 0, 0, 0, 0, 0, 0, 0, 0, 0, 0, 0, 0, 0, 0, 0, 0, 0, 0, 0, 0, 0, 0, 0, 0, 0, 0, 0, 0, 0, 0, 0, 0, 0, 0, 0, 0, 0, 0, 0, 0, 0, 0, 0, 0, 0, 0, 0, 0, 0, 0, 0, 0, 0, 0, 0, 0, 0, 0, 0, 0, 0, 0, 0, 0, 0, 0, 0, 0, 1, 0, 0, 1, 1, 0, 0, 0, 0, 0, 0, 0, 0, 0, 0, 0, 0, 0, 0, 0, 0, 0, 0, 0, 0, 0, 0, 0, 0, 0, 0, 0, 0, 0, 0, 0, 0, 0, 0, 0, 0, 0, 0, 0, 0, 0, 0, 0, 0, 0, 0, 0, 0, 0, 0, 0, 0, 0, 0, 0, 0, 0, 0, 0, 0, 0, 0, 0, 0, 0, 0, 0, 0, 0, 0, 0, 0, 0, 0, 0, 0, 0, 0, 0, 0, 0, 0, 0, 0, 0, 0, 0, 0, 0, 0, 0, 0, 0, 0, 0, 1, 0, 0, 0, 0, 0, 0, 0, 0, 0, 0, 0, 0, 0, 0, 0, 0, 0, 0, 0, 0, 0, 0, 0, 0, 0, 0, 0, 0, 0, 0, 0, 0, 0, 0, 0, 0, 0, 0, 0, 0, 0, 0, 0, 0, 0, 0, 0, 0, 0, 0, 0, 0, 0, 0, 0, 0, 0, 0, 0, 0, 0, 0, 0, 0, 0, 0, 0, 0, 0, 0, 0, 0, 0, 0, 0, 0, 0, 0, 0, 0, 0, 0, 0, 0, 0, 0, 0, 0, 0, 0, 0, 0, 0, 0, 0, 0, 0, 0, 0, 0, 0, 0, 0, 0, 0, 0, 0, 0, 0, 0, 0, 0, 0, 0, 0, 0, 0, 0, 0, 0, 0, 0, 0, 0, 0, 0, 0, 0, 0, 0, 0, 0, 0, 0, 0, 0, 0, 0, 0, 0, 0, 0, 0, 0, 0, 0, 0, 0, 0, 0, 0, 0, 0, 0, 0, 0, 0, 0, 0, 0, 0, 0, 0, 0, 0, 0, 0, 0, 0, 0, 0, 0, 0, 0, 0, 0, 0, 0, 0, 0, 0, 0, 0, 0, 0, 0, 0, 0, 0, 0, 0, 0, 0, 0, 0, 0, 0, 0, 0, 0, 0, 0, 0, 0, 0, 0, 0, 0, 0, 0, 0, 0, 0, 0, 0, 0, 0, 0, 0, 0, 0, 0, 0, 0, 0, 0, 0, 0, 0, 0, 0, 0, 0, 0, 0, 0, 0, 0, 0, 0, 0, 0, 0, 0, 0, 0, 0, 0, 0, 0, 0, 0, 0, 0, 0, 0, 0, 0, 0, 0, 0, 0, 0, 0, 0, 0, 0, 0, 0, 0, 0, 0, 0, 0, 0, 0, 0, 0, 0, 0, 0, 0, 0, 0, 0, 0, 0, 0, 0, 0, 0, 0, 0, 0, 0, 0, 0, 0, 0, 0, 0, 0, 0, 0, 0, 0, 0, 0, 0, 0, 0, 0, 0, 0, 0, 0, 0, 0, 0, 0, 0, 0, 0, 0, 0, 0, 0, 0, 0, 0, 0, 0, 0, 0, 0, 0, 0, 0, 0, 0, 0, 0, 0, 0, 0, 0, 0, 0, 0, 0, 1, 0, 0, 1, 0, 0, 0, 0, 0, 0, 0, 0, 0, 0, 0, 0, 0, 0, 0, 0, 0, 0, 0, 0, 0, 0, 0, 0, 0, 0, 0, 0, 0, 0, 0, 0, 0, 0, 0, 0, 0, 0, 0, 0, 0, 0, 0, 0, 0, 0, 0, 0, 0, 0, 0, 0, 0, 0, 1, 0, 0, 1, 0, 0, 1, 0, 0, 0, 0, 0, 0, 0, 0, 0, 0, 0, 0, 0, 0, 0, 0, 0, 0, 0, 0, 0, 0, 0, 0, 0, 0, 0, 0, 0, 0, 0, 0, 0, 0, 0, 0, 0, 0, 0, 0, 0, 0, 0, 0, 0, 0, 0, 0, 0, 0, 0, 0, 0, 0, 0, 0, 0, 0, 0, 0, 0, 0, 0, 0, 0, 0, 0, 0, 0, 0, 0, 0, 0, 0, 0, 0, 0, 0, 0, 0, 0, 0, 0, 0, 0, 0, 0, 0, 0, 0, 0, 0, 0, 0, 0, 0, 0, 0, 0, 0, 0, 0, 0, 0, 0, 0, 0, 0, 0, 0, 0, 0, 0, 0, 0, 0, 0, 0, 0, 0, 0, 0, 0, 0, 0, 0, 0, 0, 0, 0, 0, 0, 0, 0, 0, 0, 0, 0, 0, 0, 0, 0, 0, 0, 0, 0, 0, 0, 0, 0, 0, 0, 0, 0, 0, 0, 0, 0, 0, 0, 0, 0, 0, 0, 0, 0, 0, 0, 0, 0, 0, 0, 0, 0, 0, 0, 0, 0, 0, 0, 0, 0, 0, 0, 0, 0, 0, 0, 0, 0, 0, 0, 0, 0, 0, 0, 0, 0, 0, 0, 0, 0, 0, 0, 0, 0, 0, 0, 0, 0, 0, 0, 0, 0, 0, 0, 0, 0, 0, 0, 0, 0, 0, 0, 0, 0, 0, 0, 0, 0, 0, 0, 0, 0, 0, 0, 0, 0, 0, 0, 0, 0, 0, 0, 0, 0, 0, 0, 0, 0, 0, 0, 0, 0, 0, 0, 0, 0, 0, 0, 0, 0, 0, 0, 0, 0, 0, 0, 0, 0, 0, 0, 0, 0, 0, 0, 0, 0, 0, 0, 0, 0, 0, 0, 0, 0, 0, 0, 0, 0, 0, 0, 0, 0, 0, 0, 0, 0, 0, 0, 0, 0, 0, 0, 0, 0, 0, 0, 0, 0, 0, 0, 0, 0, 0, 0, 0, 0, 0, 0, 0, 0, 0, 0, 0, 0, 0, 0, 0, 0, 0, 0, 0, 0, 0, 0, 0, 0, 0, 0, 0, 0, 0, 0, 0, 0, 0, 0, 0, 0, 0, 0, 0, 0, 0, 0, 0, 0, 0, 0, 0, 0, 0, 0, 0, 0, 0, 0, 0, 0, 0, 0, 0, 0, 0, 0, 0, 0, 0, 0, 0, 0, 0, 0, 0, 0, 0, 0, 0, 0, 0, 0, 0, 0, 0, 0, 0, 0, 0, 0, 0, 0, 0, 0, 0, 0, 0, 0, 0, 0, 0, 0, 0, 0, 0, 0, 0, 0, 0, 0, 0, 0, 0, 0, 0, 0, 0, 0, 0, 0, 0, 0, 0, 0, 0, 0, 0, 0, 0, 0, 0, 0, 0, 0, 0, 0, 0, 0, 0, 0, 0, 0, 0, 0, 1, 0, 0, 0, 0, 0, 0, 0, 0, 0, 0, 0, 0, 0, 0, 0, 0, 0, 0, 0, 0, 0, 0, 0, 0, 0, 0, 0, 0, 0, 0, 0, 0, 0, 0, 0, 0, 0, 0, 0, 0, 0, 0, 0, 0, 1, 0, 1, 1, 0, 1, 0, 0, 0, 0, 0, 0, 0, 0, 0, 0, 0, 0, 0, 0, 0, 0, 0, 0, 0, 0, 0, 0, 0, 0, 0, 0, 0, 0, 0, 0, 0, 0, 0, 0, 0, 0, 0, 0, 0, 0, 0, 0, 0, 0, 0, 0, 0, 0, 0, 0, 0, 0, 0, 0, 0, 0, 0, 0, 0, 0, 0, 0, 0, 0, 0, 0, 0, 0, 0, 0, 0, 0, 0, 0, 0, 0, 0, 0, 0, 0, 0, 0]\n",
            "28\n"
          ]
        },
        {
          "output_type": "execute_result",
          "data": {
            "text/plain": [
              "(7272, 7272)"
            ]
          },
          "metadata": {},
          "execution_count": 19
        }
      ],
      "source": [
        "speed_x = X1\n",
        "test_X_1 = X1[train_limit+1:]\n",
        "test_X_1 = np.asarray(test_X_1).astype(float)\n",
        "test_Y_1 = Y1[train_limit+1:]\n",
        "X1 = X1[:train_limit]\n",
        "X1 = np.asarray(X1).astype(float)\n",
        "Y1 = Y1[:train_limit]\n",
        "print(test_Y_1)\n",
        "c = 0\n",
        "for i in test_Y_1:\n",
        "  if(i==1):\n",
        "    c = c+1\n",
        "\n",
        "print(c)\n",
        "\n",
        "\n",
        "len(X1), len(Y1)\n",
        "\n",
        "\n",
        "\n",
        "\n",
        "# Similarly, you can do the same for the training set (X and Y) before splitting"
      ]
    },
    {
      "cell_type": "code",
      "execution_count": null,
      "metadata": {
        "colab": {
          "base_uri": "https://localhost:8080/"
        },
        "id": "6R3ugAAK4fNa",
        "outputId": "14c4b8ce-f882-44e7-9c89-dbe1a0cb36a3"
      },
      "outputs": [
        {
          "output_type": "stream",
          "name": "stdout",
          "text": [
            "[0, 0, 0, 0, 0, 0, 0, 0, 0, 0, 0, 0, 0, 0, 0, 0, 0, 0, 0, 0, 0, 0, 0, 0, 0, 0, 0, 0, 0, 0, 0, 0, 0, 0, 0, 0, 0, 0, 0, 0, 0, 0, 0, 0, 0, 0, 0, 0, 0, 0, 0, 0, 0, 0, 0, 0, 0, 0, 0, 0, 0, 0, 0, 0, 0, 0, 0, 0, 0, 0, 0, 0, 1, 0, 0, 0, 0, 0, 0, 0, 0, 0, 0, 0, 0, 0, 0, 0, 0, 0, 0, 0, 0, 0, 0, 0, 0, 0, 0, 0, 0, 0, 0, 0, 0, 0, 0, 0, 0, 0, 0, 0, 0, 0, 0, 0, 0, 0, 0, 0, 0, 0, 0, 0, 0, 0, 0, 0, 0, 0, 0, 0, 0, 0, 0, 0, 0, 0, 0, 0, 0, 0, 0, 0, 0, 0, 0, 0, 0, 0, 0, 0, 0, 0, 0, 0, 0, 0, 0, 0, 0, 0, 0, 0, 0, 0, 0, 0, 0, 0, 0, 0, 0, 0, 0, 0, 0, 0, 0, 0, 0, 0, 0, 0, 0, 0, 0, 0, 0, 0, 0, 0, 0, 0, 0, 0, 0, 0, 0, 0, 0, 0, 0, 0, 0, 0, 0, 0, 0, 0, 0, 0, 0, 0, 0, 0, 0, 0, 0, 0, 0, 0, 0, 0, 0, 0, 0, 0, 0, 0, 0, 0, 0, 0, 0, 0, 0, 0, 0, 0, 0, 0, 0, 0, 0, 0, 0, 0, 0, 0, 0, 0, 0, 0, 0, 0, 0, 0, 0, 0, 0, 0, 0, 0, 0, 0, 0, 0, 0, 0, 0, 0, 0, 0, 0, 0, 0, 0, 0, 0, 0, 0, 0, 0, 0, 0, 0, 0, 0, 0, 1, 0, 0, 0, 0, 0, 0, 0, 0, 0, 0, 0, 0, 0, 0, 0, 0, 0, 0, 0, 0, 0, 0, 0, 0, 0, 0, 0, 0, 0, 0, 0, 0, 0, 0, 0, 0, 0, 0, 0, 0, 0, 0, 0, 0, 0, 0, 0, 0, 0, 0, 0, 0, 0, 0, 0, 0, 0, 0, 0, 0, 0, 0, 0, 0, 0, 0, 0, 0, 0, 0, 0, 0, 0, 0, 0, 0, 0, 0, 0, 0, 0, 0, 0, 0, 0, 0, 0, 0, 0, 0, 0, 0, 0, 0, 0, 0, 0, 0, 0, 0, 0, 0, 0, 0, 0, 0, 0, 0, 0, 0, 0, 0, 0, 0, 0, 0, 0, 0, 0, 0, 0, 0, 0, 0, 0, 0, 0, 0, 0, 0, 0, 0, 0, 0, 0, 0, 0, 0, 0, 0, 0, 0, 0, 0, 0, 0, 0, 0, 0, 0, 0, 0, 0, 0, 0, 0, 0, 0, 0, 0, 0, 0, 0, 0, 0, 0, 0, 0, 0, 0, 0, 0, 0, 0, 0, 0, 0, 0, 0, 0, 0, 0, 0, 0, 0, 0, 0, 0, 0, 0, 0, 0, 0, 0, 0, 0, 0, 0, 0, 0, 0, 0, 0, 0, 0, 0, 0, 0, 0, 0, 0, 0, 0, 0, 0, 0, 0, 0, 0, 0, 0, 0, 0, 0, 0, 0, 0, 0, 0, 0, 0, 0, 0, 0, 0, 0, 0, 0, 0, 0, 0, 0, 0, 0, 0, 0, 0, 0, 0, 0, 0, 0, 0, 0, 0, 0, 0, 0, 0, 0, 0, 0, 1, 0, 0, 0, 0, 0, 0, 0, 0, 0, 0, 0, 0, 0, 0, 0, 0, 0, 0, 0, 0, 0, 0, 0, 0, 0, 0, 0, 0, 0, 0, 0, 0, 0, 0, 0, 0, 0, 0, 0, 0, 0, 0, 0, 0, 0, 0, 0, 0, 0, 0, 0, 0, 0, 0, 0, 0, 0, 0, 0, 0, 0, 0, 0, 0, 0, 0, 0, 0, 0, 0, 0, 0, 0, 0, 0, 0, 0, 0, 0, 0, 0, 0, 0, 0, 0, 0, 0, 0, 0, 0, 0, 0, 0, 0, 0, 0, 0, 0, 0, 0, 0, 0, 0, 0, 0, 1, 1, 1, 1, 0, 1, 0, 0, 1, 0, 0, 0, 0, 0, 0, 0, 0, 0, 0, 0, 0, 0, 0, 0, 0, 0, 0, 0, 0, 0, 0, 0, 0, 0, 0, 0, 0, 0, 0, 0, 0, 0, 0, 0, 0, 0, 0, 0, 0, 0, 0, 0, 0, 0, 0, 0, 0, 0, 0, 0, 0, 0, 0, 0, 0, 0, 0, 0, 0, 0, 0, 0, 0, 0, 0, 0, 0, 0, 0, 0, 0, 0, 0, 0, 0, 0, 0, 0, 0, 0, 0, 0, 0, 0, 0, 0, 0, 0, 0, 0, 0, 0, 0, 0, 0, 0, 0, 0, 0, 0, 0, 0, 0, 0, 0, 0, 0, 0, 0, 0, 0, 0, 0, 0, 0, 0, 0, 0, 0, 0, 0, 0, 0, 0, 0, 0, 0, 0, 0, 0, 0, 0, 0, 0, 1, 0, 0, 0, 0, 0, 0, 0, 0, 0, 0, 0, 0, 0, 0, 0, 0, 0, 0, 0, 0, 0, 0, 0, 0, 0, 0, 0, 0, 0, 0, 0, 0, 0, 0, 0, 0, 0, 0, 0, 0, 0, 0, 0, 0, 0, 0, 0, 0, 0, 0, 0, 0, 0, 0, 0, 0, 0, 0, 0, 0, 0, 0, 0, 0, 0, 0, 0, 0, 0, 0, 0, 0, 0, 0, 0, 0, 0, 0, 0, 0, 0, 0, 0, 0, 0, 0, 0, 0, 0, 0, 0, 0, 0, 0, 0, 0, 0, 0, 0, 0, 0, 0, 0, 0, 0, 0, 0, 0, 0, 0, 0, 0, 0, 0, 0, 0, 0, 0, 0, 0, 0, 0, 0, 0, 0, 0, 0, 0, 0, 0, 0, 0, 0, 0, 0, 0, 0, 0, 0, 0, 1, 1, 0, 0, 0, 0, 0, 0, 0, 0, 0, 0, 0, 0, 0, 0, 0, 0, 0, 0, 0, 0, 0, 0, 0, 0, 0, 0, 0, 0, 0, 0, 0, 0, 0, 0, 0, 0, 0, 0, 0, 0, 0, 0, 0, 0, 0, 0, 0, 0, 0, 0, 0, 0, 0, 0, 0, 0, 0, 0, 0, 0, 0, 0, 0, 0, 0, 0, 0, 0, 0, 0, 0, 0, 0, 0, 0, 0, 0, 0, 0, 0, 0, 0, 0, 0, 0, 0, 0, 0, 0, 0, 0, 0, 0, 0, 0, 0, 0, 0, 0, 0, 0, 0, 0, 0, 0, 0, 0, 0, 0, 0, 0, 0, 0, 0, 0, 0, 0, 0, 0, 0, 0, 0, 0, 0, 0, 0, 0, 0, 0, 0, 0, 0, 0, 0, 0, 0, 0, 0, 0, 0, 0, 0, 0, 0, 0, 0, 0, 0, 0, 0, 0, 0, 0, 0, 0, 0, 0, 0, 0, 0, 0, 0, 0, 0, 0, 0, 0, 0, 0, 0, 0, 0, 0, 0, 0, 0, 0, 0, 0, 0, 0, 0, 0, 0, 0, 0, 0, 0, 0, 0, 0, 0, 0, 0, 0, 0, 0, 0, 1, 0, 0, 1, 0, 0, 0, 0, 0, 0, 0, 0, 0, 0, 0, 0, 0, 0, 0, 0, 0, 0, 0, 0, 0, 0, 0, 0, 0, 0, 0, 0, 0, 0, 0, 0, 0, 0, 0, 0, 0, 0, 0, 0, 0, 0, 0, 0, 0, 0, 0, 0, 0, 0, 0, 0, 0, 0, 0, 0, 0, 0, 0, 0, 0, 0, 0, 0, 0, 0, 0, 0, 0, 0, 0, 0, 0, 0, 0, 0, 0, 0, 0, 0, 0, 0, 0, 0, 0, 0, 0, 0, 0, 0, 0, 0, 0, 0, 0, 0, 0, 0, 0, 0, 0, 0, 0, 0, 0, 0, 0, 0, 0, 0, 0, 0, 0, 0, 0, 0, 0, 0, 0, 0, 0, 0, 0, 0, 0, 0, 0, 0, 0, 0, 0, 0, 0, 0, 0, 0, 0, 0, 0, 0, 0, 0, 0, 0, 0, 0, 0, 0, 0, 0, 0, 0, 0, 0, 0, 0, 0, 0, 0, 0, 0, 0, 0, 0, 0, 0, 0, 0, 0, 0, 0, 0, 0, 1, 0, 0, 1, 1, 0, 0, 0, 0, 0, 0, 0, 0, 0, 0, 0, 0, 0, 0, 0, 0, 0, 0, 0, 0, 0, 0, 0, 0, 0, 0, 0, 0, 0, 0, 0, 0, 0, 0, 0, 0, 0, 0, 0, 0, 0, 0, 0, 0, 0, 0, 0, 0, 0, 0, 0, 0, 0, 0, 0, 0, 0, 0, 0, 0, 0, 0, 0, 0, 0, 0, 0, 0, 0, 0, 0, 0, 0, 0, 0, 0, 0, 0, 0, 0, 0, 0, 0, 0, 0, 0, 0, 0, 0, 0, 0, 0, 0, 0, 0, 1, 0, 0, 0, 0, 0, 0, 0, 0, 0, 0, 0, 0, 0, 0, 0, 0, 0, 0, 0, 0, 0, 0, 0, 0, 0, 0, 0, 0, 0, 0, 0, 0, 0, 0, 0, 0, 0, 0, 0, 0, 0, 0, 0, 0, 0, 0, 0, 0, 0, 0, 0, 0, 0, 0, 0, 0, 0, 0, 0, 0, 0, 0, 0, 0, 0, 0, 0, 0, 0, 0, 0, 0, 0, 0, 0, 0, 0, 0, 0, 0, 0, 0, 0, 0, 0, 0, 0, 0, 0, 0, 0, 0, 0, 0, 0, 0, 0, 0, 0, 0, 0, 0, 0, 0, 0, 0, 0, 0, 0, 0, 0, 0, 0, 0, 0, 0, 0, 0, 0, 0, 0, 0, 0, 0, 0, 0, 0, 0, 0, 0, 0, 0, 0, 0, 0, 0, 0, 0, 0, 0, 0, 0, 0, 0, 0, 0, 0, 0, 0, 0, 0, 0, 0, 0, 0, 0, 0, 0, 0, 0, 0, 0, 0, 0, 0, 0, 0, 0, 0, 0, 0, 0, 0, 0, 0, 0, 0, 0, 0, 0, 0, 0, 0, 0, 0, 0, 0, 0, 0, 0, 0, 0, 0, 0, 0, 0, 0, 0, 0, 0, 0, 0, 0, 0, 0, 0, 0, 0, 0, 0, 0, 0, 0, 0, 0, 0, 0, 0, 0, 0, 0, 0, 0, 0, 0, 0, 0, 0, 0, 0, 0, 0, 0, 0, 0, 0, 0, 0, 0, 0, 0, 0, 0, 0, 0, 0, 0, 0, 0, 0, 0, 0, 0, 0, 0, 0, 0, 0, 0, 0, 0, 0, 0, 0, 0, 0, 0, 0, 0, 0, 0, 0, 0, 0, 0, 0, 0, 0, 0, 0, 0, 0, 0, 0, 0, 0, 0, 0, 0, 0, 0, 0, 0, 0, 0, 0, 0, 0, 0, 0, 0, 0, 0, 0, 0, 0, 0, 0, 0, 0, 0, 0, 0, 0, 0, 0, 0, 0, 0, 0, 0, 0, 0, 0, 0, 0, 0, 0, 0, 0, 0, 0, 0, 0, 0, 0, 0, 0, 0, 0, 0, 0, 0, 0, 0, 0, 0, 0, 0, 0, 1, 0, 0, 1, 0, 0, 0, 0, 0, 0, 0, 0, 0, 0, 0, 0, 0, 0, 0, 0, 0, 0, 0, 0, 0, 0, 0, 0, 0, 0, 0, 0, 0, 0, 0, 0, 0, 0, 0, 0, 0, 0, 0, 0, 0, 0, 0, 0, 0, 0, 0, 0, 0, 0, 0, 0, 0, 0, 1, 0, 0, 1, 0, 0, 1, 0, 0, 0, 0, 0, 0, 0, 0, 0, 0, 0, 0, 0, 0, 0, 0, 0, 0, 0, 0, 0, 0, 0, 0, 0, 0, 0, 0, 0, 0, 0, 0, 0, 0, 0, 0, 0, 0, 0, 0, 0, 0, 0, 0, 0, 0, 0, 0, 0, 0, 0, 0, 0, 0, 0, 0, 0, 0, 0, 0, 0, 0, 0, 0, 0, 0, 0, 0, 0, 0, 0, 0, 0, 0, 0, 0, 0, 0, 0, 0, 0, 0, 0, 0, 0, 0, 0, 0, 0, 0, 0, 0, 0, 0, 0, 0, 0, 0, 0, 0, 0, 0, 0, 0, 0, 0, 0, 0, 0, 0, 0, 0, 0, 0, 0, 0, 0, 0, 0, 0, 0, 0, 0, 0, 0, 0, 0, 0, 0, 0, 0, 0, 0, 0, 0, 0, 0, 0, 0, 0, 0, 0, 0, 0, 0, 0, 0, 0, 0, 0, 0, 0, 0, 0, 0, 0, 0, 0, 0, 0, 0, 0, 0, 0, 0, 0, 0, 0, 0, 0, 0, 0, 0, 0, 0, 0, 0, 0, 0, 0, 0, 0, 0, 0, 0, 0, 0, 0, 0, 0, 0, 0, 0, 0, 0, 0, 0, 0, 0, 0, 0, 0, 0, 0, 0, 0, 0, 0, 0, 0, 0, 0, 0, 0, 0, 0, 0, 0, 0, 0, 0, 0, 0, 0, 0, 0, 0, 0, 0, 0, 0, 0, 0, 0, 0, 0, 0, 0, 0, 0, 0, 0, 0, 0, 0, 0, 0, 0, 0, 0, 0, 0, 0, 0, 0, 0, 0, 0, 0, 0, 0, 0, 0, 0, 0, 0, 0, 0, 0, 0, 0, 0, 0, 0, 0, 0, 0, 0, 0, 0, 0, 0, 0, 0, 0, 0, 0, 0, 0, 0, 0, 0, 0, 0, 0, 0, 0, 0, 0, 0, 0, 0, 0, 0, 0, 0, 0, 0, 0, 0, 0, 0, 0, 0, 0, 0, 0, 0, 0, 0, 0, 0, 0, 0, 0, 0, 0, 0, 0, 0, 0, 0, 0, 0, 0, 0, 0, 0, 0, 0, 0, 0, 0, 0, 0, 0, 0, 0, 0, 0, 0, 0, 0, 0, 0, 0, 0, 0, 0, 0, 0, 0, 0, 0, 0, 0, 0, 0, 0, 0, 0, 0, 0, 0, 0, 0, 0, 0, 0, 0, 0, 0, 0, 0, 0, 0, 0, 0, 0, 0, 0, 0, 0, 0, 0, 0, 0, 0, 0, 0, 0, 0, 0, 0, 0, 0, 0, 0, 0, 0, 0, 0, 0, 0, 0, 0, 0, 0, 0, 0, 0, 0, 0, 0, 0, 0, 0, 0, 0, 0, 0, 0, 0, 0, 0, 0, 0, 0, 0, 0, 0, 0, 0, 0, 0, 0, 0, 0, 0, 0, 0, 0, 0, 0, 1, 0, 0, 0, 0, 0, 0, 0, 0, 0, 0, 0, 0, 0, 0, 0, 0, 0, 0, 0, 0, 0, 0, 0, 0, 0, 0, 0, 0, 0, 0, 0, 0, 0, 0, 0, 0, 0, 0, 0, 0, 0, 0, 0, 0, 1, 0, 1, 1, 0, 1, 0, 0, 0, 0, 0, 0, 0, 0, 0, 0, 0, 0, 0, 0, 0, 0, 0, 0, 0, 0, 0, 0, 0, 0, 0, 0, 0, 0, 0, 0, 0, 0, 0, 0, 0, 0, 0, 0, 0, 0, 0, 0, 0, 0, 0, 0, 0, 0, 0, 0, 0, 0, 0, 0, 0, 0, 0, 0, 0, 0, 0, 0, 0, 0, 0, 0, 0, 0, 0, 0, 0, 0, 0, 0, 0, 0, 0, 0, 0, 0, 0, 0]\n",
            "28\n"
          ]
        },
        {
          "output_type": "execute_result",
          "data": {
            "text/plain": [
              "(7272, 7272)"
            ]
          },
          "metadata": {},
          "execution_count": 20
        }
      ],
      "source": [
        "speed_x = X\n",
        "test_X = X[train_limit+1:]\n",
        "test_X = np.asarray(test_X).astype(float)\n",
        "test_Y = Y[train_limit+1:]\n",
        "X = X[:train_limit]\n",
        "X = np.asarray(X).astype(float)\n",
        "Y = Y[:train_limit]\n",
        "print(test_Y)\n",
        "c = 0\n",
        "for i in test_Y:\n",
        "  if(i==1):\n",
        "    c = c+1\n",
        "\n",
        "print(c)\n",
        "len(X), len(Y)\n"
      ]
    },
    {
      "cell_type": "code",
      "execution_count": null,
      "metadata": {
        "colab": {
          "base_uri": "https://localhost:8080/"
        },
        "id": "CbPuB_Vi4iQ9",
        "outputId": "2f8a7619-7421-4da7-e3cc-18f5e55a2c5e"
      },
      "outputs": [
        {
          "output_type": "stream",
          "name": "stdout",
          "text": [
            "375\n"
          ]
        }
      ],
      "source": [
        "c = 0\n",
        "for i in Y1:\n",
        "  if(i==1):\n",
        "    c = c+1\n",
        "\n",
        "print(c)"
      ]
    },
    {
      "cell_type": "code",
      "execution_count": null,
      "metadata": {
        "colab": {
          "base_uri": "https://localhost:8080/"
        },
        "id": "K8DEJxsk4lF-",
        "outputId": "f378692e-aabe-4828-e91e-74aef016be21"
      },
      "outputs": [
        {
          "output_type": "stream",
          "name": "stdout",
          "text": [
            "Class Distribution - Training Data:\n",
            "Counter({0: 6897, 1: 375})\n",
            "\n",
            "Class Distribution - Test Data:\n",
            "Counter({0: 2396, 1: 28})\n"
          ]
        }
      ],
      "source": [
        "# Calculate the class distribution for training and test data\n",
        "counter_train_1 = Counter(Y1)\n",
        "counter_test_1 = Counter(test_Y_1)\n",
        "\n",
        "# Display the class distribution for training data\n",
        "print(\"Class Distribution - Training Data:\")\n",
        "print(counter_train_1)\n",
        "\n",
        "# Display the class distribution for test data\n",
        "print(\"\\nClass Distribution - Test Data:\")\n",
        "print(counter_test_1)"
      ]
    },
    {
      "cell_type": "code",
      "execution_count": null,
      "metadata": {
        "colab": {
          "base_uri": "https://localhost:8080/",
          "height": 425
        },
        "id": "4sSRLW-54mH7",
        "outputId": "5010a6e5-f8f6-4bd8-9aa6-a69655bbb8f7"
      },
      "outputs": [
        {
          "output_type": "error",
          "ename": "OSError",
          "evalue": "'seaborn-darkgrid' is not a valid package style, path of style file, URL of style file, or library style name (library styles are listed in `style.available`)",
          "traceback": [
            "\u001b[0;31m---------------------------------------------------------------------------\u001b[0m",
            "\u001b[0;31mFileNotFoundError\u001b[0m                         Traceback (most recent call last)",
            "\u001b[0;32m/usr/local/lib/python3.10/dist-packages/matplotlib/style/core.py\u001b[0m in \u001b[0;36muse\u001b[0;34m(style)\u001b[0m\n\u001b[1;32m    136\u001b[0m             \u001b[0;32mtry\u001b[0m\u001b[0;34m:\u001b[0m\u001b[0;34m\u001b[0m\u001b[0;34m\u001b[0m\u001b[0m\n\u001b[0;32m--> 137\u001b[0;31m                 \u001b[0mstyle\u001b[0m \u001b[0;34m=\u001b[0m \u001b[0m_rc_params_in_file\u001b[0m\u001b[0;34m(\u001b[0m\u001b[0mstyle\u001b[0m\u001b[0;34m)\u001b[0m\u001b[0;34m\u001b[0m\u001b[0;34m\u001b[0m\u001b[0m\n\u001b[0m\u001b[1;32m    138\u001b[0m             \u001b[0;32mexcept\u001b[0m \u001b[0mOSError\u001b[0m \u001b[0;32mas\u001b[0m \u001b[0merr\u001b[0m\u001b[0;34m:\u001b[0m\u001b[0;34m\u001b[0m\u001b[0;34m\u001b[0m\u001b[0m\n",
            "\u001b[0;32m/usr/local/lib/python3.10/dist-packages/matplotlib/__init__.py\u001b[0m in \u001b[0;36m_rc_params_in_file\u001b[0;34m(fname, transform, fail_on_error)\u001b[0m\n\u001b[1;32m    865\u001b[0m     \u001b[0mrc_temp\u001b[0m \u001b[0;34m=\u001b[0m \u001b[0;34m{\u001b[0m\u001b[0;34m}\u001b[0m\u001b[0;34m\u001b[0m\u001b[0;34m\u001b[0m\u001b[0m\n\u001b[0;32m--> 866\u001b[0;31m     \u001b[0;32mwith\u001b[0m \u001b[0m_open_file_or_url\u001b[0m\u001b[0;34m(\u001b[0m\u001b[0mfname\u001b[0m\u001b[0;34m)\u001b[0m \u001b[0;32mas\u001b[0m \u001b[0mfd\u001b[0m\u001b[0;34m:\u001b[0m\u001b[0;34m\u001b[0m\u001b[0;34m\u001b[0m\u001b[0m\n\u001b[0m\u001b[1;32m    867\u001b[0m         \u001b[0;32mtry\u001b[0m\u001b[0;34m:\u001b[0m\u001b[0;34m\u001b[0m\u001b[0;34m\u001b[0m\u001b[0m\n",
            "\u001b[0;32m/usr/lib/python3.10/contextlib.py\u001b[0m in \u001b[0;36m__enter__\u001b[0;34m(self)\u001b[0m\n\u001b[1;32m    134\u001b[0m         \u001b[0;32mtry\u001b[0m\u001b[0;34m:\u001b[0m\u001b[0;34m\u001b[0m\u001b[0;34m\u001b[0m\u001b[0m\n\u001b[0;32m--> 135\u001b[0;31m             \u001b[0;32mreturn\u001b[0m \u001b[0mnext\u001b[0m\u001b[0;34m(\u001b[0m\u001b[0mself\u001b[0m\u001b[0;34m.\u001b[0m\u001b[0mgen\u001b[0m\u001b[0;34m)\u001b[0m\u001b[0;34m\u001b[0m\u001b[0;34m\u001b[0m\u001b[0m\n\u001b[0m\u001b[1;32m    136\u001b[0m         \u001b[0;32mexcept\u001b[0m \u001b[0mStopIteration\u001b[0m\u001b[0;34m:\u001b[0m\u001b[0;34m\u001b[0m\u001b[0;34m\u001b[0m\u001b[0m\n",
            "\u001b[0;32m/usr/local/lib/python3.10/dist-packages/matplotlib/__init__.py\u001b[0m in \u001b[0;36m_open_file_or_url\u001b[0;34m(fname)\u001b[0m\n\u001b[1;32m    842\u001b[0m         \u001b[0mfname\u001b[0m \u001b[0;34m=\u001b[0m \u001b[0mos\u001b[0m\u001b[0;34m.\u001b[0m\u001b[0mpath\u001b[0m\u001b[0;34m.\u001b[0m\u001b[0mexpanduser\u001b[0m\u001b[0;34m(\u001b[0m\u001b[0mfname\u001b[0m\u001b[0;34m)\u001b[0m\u001b[0;34m\u001b[0m\u001b[0;34m\u001b[0m\u001b[0m\n\u001b[0;32m--> 843\u001b[0;31m         \u001b[0;32mwith\u001b[0m \u001b[0mopen\u001b[0m\u001b[0;34m(\u001b[0m\u001b[0mfname\u001b[0m\u001b[0;34m,\u001b[0m \u001b[0mencoding\u001b[0m\u001b[0;34m=\u001b[0m\u001b[0;34m'utf-8'\u001b[0m\u001b[0;34m)\u001b[0m \u001b[0;32mas\u001b[0m \u001b[0mf\u001b[0m\u001b[0;34m:\u001b[0m\u001b[0;34m\u001b[0m\u001b[0;34m\u001b[0m\u001b[0m\n\u001b[0m\u001b[1;32m    844\u001b[0m             \u001b[0;32myield\u001b[0m \u001b[0mf\u001b[0m\u001b[0;34m\u001b[0m\u001b[0;34m\u001b[0m\u001b[0m\n",
            "\u001b[0;31mFileNotFoundError\u001b[0m: [Errno 2] No such file or directory: 'seaborn-darkgrid'",
            "\nThe above exception was the direct cause of the following exception:\n",
            "\u001b[0;31mOSError\u001b[0m                                   Traceback (most recent call last)",
            "\u001b[0;32m<ipython-input-32-a2b12f28641d>\u001b[0m in \u001b[0;36m<cell line: 6>\u001b[0;34m()\u001b[0m\n\u001b[1;32m      4\u001b[0m \u001b[0;34m\u001b[0m\u001b[0m\n\u001b[1;32m      5\u001b[0m \u001b[0;31m# Set\u001b[0m\u001b[0;34m\u001b[0m\u001b[0;34m\u001b[0m\u001b[0m\n\u001b[0;32m----> 6\u001b[0;31m \u001b[0mplt\u001b[0m\u001b[0;34m.\u001b[0m\u001b[0mstyle\u001b[0m\u001b[0;34m.\u001b[0m\u001b[0muse\u001b[0m\u001b[0;34m(\u001b[0m\u001b[0;34m'seaborn-darkgrid'\u001b[0m\u001b[0;34m)\u001b[0m\u001b[0;34m\u001b[0m\u001b[0;34m\u001b[0m\u001b[0m\n\u001b[0m\u001b[1;32m      7\u001b[0m \u001b[0;34m\u001b[0m\u001b[0m\n\u001b[1;32m      8\u001b[0m \u001b[0;31m# Create a figure and axis\u001b[0m\u001b[0;34m\u001b[0m\u001b[0;34m\u001b[0m\u001b[0m\n",
            "\u001b[0;32m/usr/local/lib/python3.10/dist-packages/matplotlib/style/core.py\u001b[0m in \u001b[0;36muse\u001b[0;34m(style)\u001b[0m\n\u001b[1;32m    137\u001b[0m                 \u001b[0mstyle\u001b[0m \u001b[0;34m=\u001b[0m \u001b[0m_rc_params_in_file\u001b[0m\u001b[0;34m(\u001b[0m\u001b[0mstyle\u001b[0m\u001b[0;34m)\u001b[0m\u001b[0;34m\u001b[0m\u001b[0;34m\u001b[0m\u001b[0m\n\u001b[1;32m    138\u001b[0m             \u001b[0;32mexcept\u001b[0m \u001b[0mOSError\u001b[0m \u001b[0;32mas\u001b[0m \u001b[0merr\u001b[0m\u001b[0;34m:\u001b[0m\u001b[0;34m\u001b[0m\u001b[0;34m\u001b[0m\u001b[0m\n\u001b[0;32m--> 139\u001b[0;31m                 raise OSError(\n\u001b[0m\u001b[1;32m    140\u001b[0m                     \u001b[0;34mf\"{style!r} is not a valid package style, path of style \"\u001b[0m\u001b[0;34m\u001b[0m\u001b[0;34m\u001b[0m\u001b[0m\n\u001b[1;32m    141\u001b[0m                     \u001b[0;34mf\"file, URL of style file, or library style name (library \"\u001b[0m\u001b[0;34m\u001b[0m\u001b[0;34m\u001b[0m\u001b[0m\n",
            "\u001b[0;31mOSError\u001b[0m: 'seaborn-darkgrid' is not a valid package style, path of style file, URL of style file, or library style name (library styles are listed in `style.available`)"
          ]
        }
      ],
      "source": [
        "import matplotlib.pyplot as plt\n",
        "\n",
        "# Assuming counter_train is already defined\n",
        "\n",
        "# Set\n",
        "plt.style.use('seaborn-darkgrid')\n",
        "\n",
        "# Create a figure and axis\n",
        "fig, ax = plt.subplots(figsize=(10,5))\n",
        "\n",
        "# Bar plot with red bars\n",
        "bars = plt.bar(range(len(counter_train_1)), list(counter_train_1.values()), color='lightcoral', edgecolor='black', align='center')\n",
        "\n",
        "# Customizing individual bars\n",
        "for bar in bars:\n",
        "    yvar = bar.get_height()\n",
        "    plt.text(bar.get_x() + bar.get_width()/2, yvar + 50, round(yvar, 2), ha='center', va='bottom', fontsize=12, color='#2E4053')\n",
        "\n",
        "# X-axis and Y-axis labels\n",
        "plt.xlabel('Category', size=16, labelpad=15)\n",
        "plt.ylabel('Number of cyclones', size=16, labelpad=15)\n",
        "\n",
        "# Title\n",
        "plt.title('Majority and Minority class distribution in Training Data', size=20, pad=20)\n",
        "\n",
        "# Tick parameters with only '0' and '1' on the x-axis\n",
        "plt.xticks(range(2), ['0', '1'], fontsize=12)\n",
        "\n",
        "# Tick parameters for y-axis\n",
        "ax.tick_params(axis='y', which='major', labelsize=12)\n",
        "\n",
        "# Adding grid lines\n",
        "plt.grid(axis='y', linestyle='--', alpha=0.7)\n",
        "\n",
        "# Save figure\n",
        "plt.savefig('class_distribution_red.png', dpi=300, bbox_inches='tight')\n",
        "\n",
        "# Show plot\n",
        "plt.show()\n",
        "\n",
        "\n"
      ]
    },
    {
      "cell_type": "code",
      "execution_count": null,
      "metadata": {
        "id": "lyUigm8H4pTA"
      },
      "outputs": [],
      "source": [
        "from keras.models import Model\n",
        "from keras.layers import Input, LSTM, Dense, concatenate\n",
        "\n",
        "def stacked_lstm(n_steps_in_1, n_features_in_1, n_steps_in_2, n_features_in_2):\n",
        "    input_1 = Input(shape=(n_steps_in_1, n_features_in_1))\n",
        "    lstm_1 = LSTM(50, activation='relu')(input_1)\n",
        "\n",
        "    input_2 = Input(shape=(n_steps_in_2, n_features_in_2))\n",
        "    lstm_2 = LSTM(50, activation='relu')(input_2)\n",
        "\n",
        "    concat = concatenate([lstm_1, lstm_2])\n",
        "    output = Dense(2, activation='softmax')(concat)\n",
        "\n",
        "    model = Model(inputs=[input_1, input_2], outputs=output)\n",
        "    model.compile(optimizer='adam', loss='binary_crossentropy', metrics=['accuracy'])\n",
        "    return model\n"
      ]
    },
    {
      "cell_type": "code",
      "execution_count": null,
      "metadata": {
        "id": "4_-6nej-4roO"
      },
      "outputs": [],
      "source": [
        "from sklearn.ensemble import VotingClassifier\n",
        "from sklearn.metrics import classification_report\n",
        "import time\n",
        "\n",
        "def lstm(x_train, x_train_1, y_train, x_test_1, x_test, y_test, Num_Exp, n_steps_in_1, n_steps_in_2, n_steps_out_1, n_steps_out_2, n_features_in_1, n_features_in_2, n_features_out_1, n_features_out_2, Epochs, hidden_layers):\n",
        "    # Initialize arrays to store accuracy metrics\n",
        "    train_acc = np.zeros(Num_Exp)\n",
        "    test_acc = np.zeros(Num_Exp)\n",
        "\n",
        "    stacked_model = stacked_lstm(6, 2, 6, 1)\n",
        "    stacked_model.summary()\n",
        "    # Initialize arrays to store predictions and classification reports\n",
        "\n",
        "    y_predicttest_allruns = np.zeros([Num_Exp, x_test.shape[0], y_test.shape[1]])\n",
        "    Best_f1 = 0  # Initialize the best F1 score\n",
        "    Best_Predict_Test = 0\n",
        "\n",
        "    # Extract the actual classes from one-hot encoded vectors for both test and train sets\n",
        "    act_test = [y_test[i].argmax() for i in range(y_test.shape[0])]\n",
        "    act_train = [y_train[i].argmax() for i in range(y_train.shape[0])]\n",
        "\n",
        "    # Initialize dictionaries to store classification reports\n",
        "    Best_report_train = dict()\n",
        "    Best_report_test = dict()\n",
        "    all_report_train = dict()\n",
        "    all_report_test = dict()\n",
        "\n",
        "    # Loop through experiment runs\n",
        "    start_time = time.time()\n",
        "    for run in range(Num_Exp):\n",
        "        print(\"Experiment\", run + 1, \"in progress\")\n",
        "\n",
        "        # Fit the stacked model\n",
        "\n",
        "        stacked_model.fit([x_train_1, x_train], y_train, epochs=Epochs, batch_size=10, verbose=0, shuffle=False)\n",
        "        y_predicttrain = stacked_model.predict([x_train_1, x_train])\n",
        "        y_predicttest = stacked_model.predict([x_test_1, x_test])\n",
        "        print(y_predicttrain[0])\n",
        "        print(y_predicttest[0])\n",
        "\n",
        "        # Extract predicted classes from one-hot encoded vectors\n",
        "        pred_test = [y_predicttest[i].argmax() for i in range(y_predicttest.shape[0])]\n",
        "        pred_train = [y_predicttrain[i].argmax() for i in range(y_predicttrain.shape[0])]\n",
        "\n",
        "        c = 0\n",
        "        for i in pred_test:\n",
        "           if i==1:\n",
        "             c = c+1\n",
        "\n",
        "        print(c)\n",
        "        d = 0\n",
        "        for i in pred_train:\n",
        "           if i==1:\n",
        "             d = d+1\n",
        "\n",
        "        print(d)\n",
        "\n",
        "        # Generate classification reports\n",
        "        report_train = classification_report(act_train, pred_train, labels=[0, 1], output_dict=True)\n",
        "        report_test = classification_report(act_test, pred_test, labels=[0, 1], output_dict=True)\n",
        "\n",
        "        # Store classification reports in dictionaries\n",
        "        all_report_train[run] = report_train\n",
        "        all_report_test[run] = report_test\n",
        "\n",
        "        # Calculate F1-score for the test set\n",
        "        test_acc[run] = report_test['1']['f1-score']\n",
        "        print(\"train acc: \", report_train['1']['f1-score'])\n",
        "        print(\"test acc: \", test_acc[run])\n",
        "\n",
        "    # Update the best F1 score and associated predictions and reports\n",
        "    if test_acc[run] > Best_f1:\n",
        "        Best_f1 = test_acc[run]\n",
        "        Best_Predict_Test = y_predicttest\n",
        "        Best_report_train, Best_report_test = report_train, report_test\n",
        "\n",
        "    # Save the trained model (assuming you have the 'ocean' variable)\n",
        "    stacked_model.save(\"model_\" + ocean + \"_stacked_lstm.h5\")\n",
        "\n",
        "    # Calculate standard deviations of train and test accuracies\n",
        "    train_std = np.std(train_acc)\n",
        "    test_std = np.std(test_acc)\n",
        "\n",
        "    # Display experiment summary\n",
        "    print(\"Total time for\", Num_Exp, \"experiments\", time.time() - start_time)\n",
        "    print(\"F1 scores for test data: \", test_acc)\n",
        "    print(\"Mean: \", np.mean(test_acc), \"Std Dev: \", test_std)\n",
        "\n",
        "    # Return relevant information\n",
        "    return train_acc, test_acc, train_std, test_std, Best_Predict_Test, y_predicttrain, y_predicttest, all_report_train, all_report_test\n"
      ]
    },
    {
      "cell_type": "code",
      "execution_count": null,
      "metadata": {
        "colab": {
          "base_uri": "https://localhost:8080/"
        },
        "id": "xB1GVQYh4zOn",
        "outputId": "be2dad43-1192-4ef3-c6ac-36f63df6d992"
      },
      "outputs": [
        {
          "output_type": "stream",
          "name": "stdout",
          "text": [
            "7272\n"
          ]
        }
      ],
      "source": [
        "# Create a random permutation of indices for shuffling\n",
        "# idx = np.random.permutation(len(X_smote))\n",
        "idx = np.random.permutation(len(X))\n",
        "print(len(idx))\n",
        "\n",
        "# Initialize lists to store shuffled data\n",
        "x_shuffled = []\n",
        "y_shuffled = []\n",
        "\n",
        "# Iterate through the shuffled indices\n",
        "for i in idx:\n",
        "    # Append shuffled data to the lists\n",
        "    # x_shuffled.append(X_smote[i])\n",
        "    # y_shuffled.append(Y_smote[i])\n",
        "    x_shuffled.append(X[i])\n",
        "    y_shuffled.append(Y[i])"
      ]
    },
    {
      "cell_type": "code",
      "execution_count": null,
      "metadata": {
        "colab": {
          "base_uri": "https://localhost:8080/"
        },
        "id": "4XlHbQwo427T",
        "outputId": "37d8059f-caf4-422f-d4dc-c51a84d0e4a6"
      },
      "outputs": [
        {
          "output_type": "stream",
          "name": "stdout",
          "text": [
            "7272\n"
          ]
        }
      ],
      "source": [
        "# Create a random permutation of indices for shuffling\n",
        "# idx = np.random.permutation(len(X_smote))\n",
        "idx = np.random.permutation(len(X1))\n",
        "print(len(idx))\n",
        "\n",
        "# Initialize lists to store shuffled data\n",
        "x_shuffled_1 = []\n",
        "y_shuffled_1  = []\n",
        "\n",
        "# Iterate through the shuffled indices\n",
        "for i in idx:\n",
        "    # Append shuffled data to the lists\n",
        "    # x_shuffled.append(X_smote[i])\n",
        "    # y_shuffled.append(Y_smote[i])\n",
        "    x_shuffled_1.append(X1[i])\n",
        "    y_shuffled_1.append(Y1[i])"
      ]
    },
    {
      "cell_type": "code",
      "execution_count": null,
      "metadata": {
        "colab": {
          "base_uri": "https://localhost:8080/"
        },
        "id": "aNi5M9cb45YW",
        "outputId": "abff6e20-6fc3-4ecd-bd8a-72b1e73783a8"
      },
      "outputs": [
        {
          "output_type": "stream",
          "name": "stdout",
          "text": [
            "(7272, 2) (2424, 2)\n"
          ]
        }
      ],
      "source": [
        "# Convert the shuffled labels to one-hot encoded format for training data\n",
        "Y_hot_encoded_train = np.asarray(to_categorical(y_shuffled))\n",
        "\n",
        "# Convert the test labels to one-hot encoded format\n",
        "Y_hot_encoded_test = np.asarray(to_categorical(test_Y))\n",
        "\n",
        "# Print the shapes of the one-hot encoded training and test labels\n",
        "print(Y_hot_encoded_train.shape, Y_hot_encoded_test.shape)\n"
      ]
    },
    {
      "cell_type": "code",
      "execution_count": null,
      "metadata": {
        "colab": {
          "base_uri": "https://localhost:8080/"
        },
        "id": "ySHrFCD947pv",
        "outputId": "79db993f-706b-4b4b-d1b6-27c3930bf1f0"
      },
      "outputs": [
        {
          "output_type": "stream",
          "name": "stdout",
          "text": [
            "(7272, 2) (2424, 2)\n"
          ]
        }
      ],
      "source": [
        "# Convert the shuffled labels to one-hot encoded format for training data\n",
        "Y_hot_encoded_train_1 = np.asarray(to_categorical(y_shuffled_1))\n",
        "\n",
        "# Convert the test labels to one-hot encoded format\n",
        "Y_hot_encoded_test_1 = np.asarray(to_categorical(test_Y_1))\n",
        "\n",
        "# Print the shapes of the one-hot encoded training and test labels\n",
        "print(Y_hot_encoded_train_1.shape, Y_hot_encoded_test_1.shape)"
      ]
    },
    {
      "cell_type": "code",
      "execution_count": null,
      "metadata": {
        "id": "C7Lu43nz4-XM"
      },
      "outputs": [],
      "source": [
        "predictions_train = dict()\n",
        "actual_train = dict()\n",
        "predictions_test = dict()\n",
        "actual_test = dict()\n",
        "metrics_train = dict()\n",
        "metrics_test = dict()\n",
        "test_acc_all = dict()\n",
        "test_stddev = dict()"
      ]
    },
    {
      "cell_type": "code",
      "execution_count": null,
      "metadata": {
        "colab": {
          "base_uri": "https://localhost:8080/",
          "height": 1000
        },
        "id": "-eujUmVT5Ad3",
        "outputId": "dbbc70a8-e2bf-4a93-fdce-16767ce8e0cf"
      },
      "outputs": [
        {
          "metadata": {
            "tags": null
          },
          "name": "stdout",
          "output_type": "stream",
          "text": [
            "---------------------------------------------------------\n",
            "Number of steps out: 1\n"
          ]
        },
        {
          "data": {
            "text/html": [
              "<pre style=\"white-space:pre;overflow-x:auto;line-height:normal;font-family:Menlo,'DejaVu Sans Mono',consolas,'Courier New',monospace\"><span style=\"font-weight: bold\">Model: \"functional_1\"</span>\n",
              "</pre>\n"
            ],
            "text/plain": [
              "\u001b[1mModel: \"functional_1\"\u001b[0m\n"
            ]
          },
          "metadata": {},
          "output_type": "display_data"
        },
        {
          "data": {
            "text/html": [
              "<pre style=\"white-space:pre;overflow-x:auto;line-height:normal;font-family:Menlo,'DejaVu Sans Mono',consolas,'Courier New',monospace\">┏━━━━━━━━━━━━━━━━━━━━━━━━━━━┳━━━━━━━━━━━━━━━━━━━━━━━━┳━━━━━━━━━━━━━━━━┳━━━━━━━━━━━━━━━━━━━━━━━━┓\n",
              "┃<span style=\"font-weight: bold\"> Layer (type)              </span>┃<span style=\"font-weight: bold\"> Output Shape           </span>┃<span style=\"font-weight: bold\">        Param # </span>┃<span style=\"font-weight: bold\"> Connected to           </span>┃\n",
              "┡━━━━━━━━━━━━━━━━━━━━━━━━━━━╇━━━━━━━━━━━━━━━━━━━━━━━━╇━━━━━━━━━━━━━━━━╇━━━━━━━━━━━━━━━━━━━━━━━━┩\n",
              "│ input_layer_2             │ (<span style=\"color: #00d7ff; text-decoration-color: #00d7ff\">None</span>, <span style=\"color: #00af00; text-decoration-color: #00af00\">6</span>, <span style=\"color: #00af00; text-decoration-color: #00af00\">2</span>)           │              <span style=\"color: #00af00; text-decoration-color: #00af00\">0</span> │ -                      │\n",
              "│ (<span style=\"color: #0087ff; text-decoration-color: #0087ff\">InputLayer</span>)              │                        │                │                        │\n",
              "├───────────────────────────┼────────────────────────┼────────────────┼────────────────────────┤\n",
              "│ input_layer_3             │ (<span style=\"color: #00d7ff; text-decoration-color: #00d7ff\">None</span>, <span style=\"color: #00af00; text-decoration-color: #00af00\">6</span>, <span style=\"color: #00af00; text-decoration-color: #00af00\">1</span>)           │              <span style=\"color: #00af00; text-decoration-color: #00af00\">0</span> │ -                      │\n",
              "│ (<span style=\"color: #0087ff; text-decoration-color: #0087ff\">InputLayer</span>)              │                        │                │                        │\n",
              "├───────────────────────────┼────────────────────────┼────────────────┼────────────────────────┤\n",
              "│ lstm_2 (<span style=\"color: #0087ff; text-decoration-color: #0087ff\">LSTM</span>)             │ (<span style=\"color: #00d7ff; text-decoration-color: #00d7ff\">None</span>, <span style=\"color: #00af00; text-decoration-color: #00af00\">50</span>)             │         <span style=\"color: #00af00; text-decoration-color: #00af00\">10,600</span> │ input_layer_2[<span style=\"color: #00af00; text-decoration-color: #00af00\">0</span>][<span style=\"color: #00af00; text-decoration-color: #00af00\">0</span>]    │\n",
              "├───────────────────────────┼────────────────────────┼────────────────┼────────────────────────┤\n",
              "│ lstm_3 (<span style=\"color: #0087ff; text-decoration-color: #0087ff\">LSTM</span>)             │ (<span style=\"color: #00d7ff; text-decoration-color: #00d7ff\">None</span>, <span style=\"color: #00af00; text-decoration-color: #00af00\">50</span>)             │         <span style=\"color: #00af00; text-decoration-color: #00af00\">10,400</span> │ input_layer_3[<span style=\"color: #00af00; text-decoration-color: #00af00\">0</span>][<span style=\"color: #00af00; text-decoration-color: #00af00\">0</span>]    │\n",
              "├───────────────────────────┼────────────────────────┼────────────────┼────────────────────────┤\n",
              "│ concatenate_1             │ (<span style=\"color: #00d7ff; text-decoration-color: #00d7ff\">None</span>, <span style=\"color: #00af00; text-decoration-color: #00af00\">100</span>)            │              <span style=\"color: #00af00; text-decoration-color: #00af00\">0</span> │ lstm_2[<span style=\"color: #00af00; text-decoration-color: #00af00\">0</span>][<span style=\"color: #00af00; text-decoration-color: #00af00\">0</span>],          │\n",
              "│ (<span style=\"color: #0087ff; text-decoration-color: #0087ff\">Concatenate</span>)             │                        │                │ lstm_3[<span style=\"color: #00af00; text-decoration-color: #00af00\">0</span>][<span style=\"color: #00af00; text-decoration-color: #00af00\">0</span>]           │\n",
              "├───────────────────────────┼────────────────────────┼────────────────┼────────────────────────┤\n",
              "│ dense_1 (<span style=\"color: #0087ff; text-decoration-color: #0087ff\">Dense</span>)           │ (<span style=\"color: #00d7ff; text-decoration-color: #00d7ff\">None</span>, <span style=\"color: #00af00; text-decoration-color: #00af00\">2</span>)              │            <span style=\"color: #00af00; text-decoration-color: #00af00\">202</span> │ concatenate_1[<span style=\"color: #00af00; text-decoration-color: #00af00\">0</span>][<span style=\"color: #00af00; text-decoration-color: #00af00\">0</span>]    │\n",
              "└───────────────────────────┴────────────────────────┴────────────────┴────────────────────────┘\n",
              "</pre>\n"
            ],
            "text/plain": [
              "┏━━━━━━━━━━━━━━━━━━━━━━━━━━━┳━━━━━━━━━━━━━━━━━━━━━━━━┳━━━━━━━━━━━━━━━━┳━━━━━━━━━━━━━━━━━━━━━━━━┓\n",
              "┃\u001b[1m \u001b[0m\u001b[1mLayer (type)             \u001b[0m\u001b[1m \u001b[0m┃\u001b[1m \u001b[0m\u001b[1mOutput Shape          \u001b[0m\u001b[1m \u001b[0m┃\u001b[1m \u001b[0m\u001b[1m       Param #\u001b[0m\u001b[1m \u001b[0m┃\u001b[1m \u001b[0m\u001b[1mConnected to          \u001b[0m\u001b[1m \u001b[0m┃\n",
              "┡━━━━━━━━━━━━━━━━━━━━━━━━━━━╇━━━━━━━━━━━━━━━━━━━━━━━━╇━━━━━━━━━━━━━━━━╇━━━━━━━━━━━━━━━━━━━━━━━━┩\n",
              "│ input_layer_2             │ (\u001b[38;5;45mNone\u001b[0m, \u001b[38;5;34m6\u001b[0m, \u001b[38;5;34m2\u001b[0m)           │              \u001b[38;5;34m0\u001b[0m │ -                      │\n",
              "│ (\u001b[38;5;33mInputLayer\u001b[0m)              │                        │                │                        │\n",
              "├───────────────────────────┼────────────────────────┼────────────────┼────────────────────────┤\n",
              "│ input_layer_3             │ (\u001b[38;5;45mNone\u001b[0m, \u001b[38;5;34m6\u001b[0m, \u001b[38;5;34m1\u001b[0m)           │              \u001b[38;5;34m0\u001b[0m │ -                      │\n",
              "│ (\u001b[38;5;33mInputLayer\u001b[0m)              │                        │                │                        │\n",
              "├───────────────────────────┼────────────────────────┼────────────────┼────────────────────────┤\n",
              "│ lstm_2 (\u001b[38;5;33mLSTM\u001b[0m)             │ (\u001b[38;5;45mNone\u001b[0m, \u001b[38;5;34m50\u001b[0m)             │         \u001b[38;5;34m10,600\u001b[0m │ input_layer_2[\u001b[38;5;34m0\u001b[0m][\u001b[38;5;34m0\u001b[0m]    │\n",
              "├───────────────────────────┼────────────────────────┼────────────────┼────────────────────────┤\n",
              "│ lstm_3 (\u001b[38;5;33mLSTM\u001b[0m)             │ (\u001b[38;5;45mNone\u001b[0m, \u001b[38;5;34m50\u001b[0m)             │         \u001b[38;5;34m10,400\u001b[0m │ input_layer_3[\u001b[38;5;34m0\u001b[0m][\u001b[38;5;34m0\u001b[0m]    │\n",
              "├───────────────────────────┼────────────────────────┼────────────────┼────────────────────────┤\n",
              "│ concatenate_1             │ (\u001b[38;5;45mNone\u001b[0m, \u001b[38;5;34m100\u001b[0m)            │              \u001b[38;5;34m0\u001b[0m │ lstm_2[\u001b[38;5;34m0\u001b[0m][\u001b[38;5;34m0\u001b[0m],          │\n",
              "│ (\u001b[38;5;33mConcatenate\u001b[0m)             │                        │                │ lstm_3[\u001b[38;5;34m0\u001b[0m][\u001b[38;5;34m0\u001b[0m]           │\n",
              "├───────────────────────────┼────────────────────────┼────────────────┼────────────────────────┤\n",
              "│ dense_1 (\u001b[38;5;33mDense\u001b[0m)           │ (\u001b[38;5;45mNone\u001b[0m, \u001b[38;5;34m2\u001b[0m)              │            \u001b[38;5;34m202\u001b[0m │ concatenate_1[\u001b[38;5;34m0\u001b[0m][\u001b[38;5;34m0\u001b[0m]    │\n",
              "└───────────────────────────┴────────────────────────┴────────────────┴────────────────────────┘\n"
            ]
          },
          "metadata": {},
          "output_type": "display_data"
        },
        {
          "data": {
            "text/html": [
              "<pre style=\"white-space:pre;overflow-x:auto;line-height:normal;font-family:Menlo,'DejaVu Sans Mono',consolas,'Courier New',monospace\"><span style=\"font-weight: bold\"> Total params: </span><span style=\"color: #00af00; text-decoration-color: #00af00\">21,202</span> (82.82 KB)\n",
              "</pre>\n"
            ],
            "text/plain": [
              "\u001b[1m Total params: \u001b[0m\u001b[38;5;34m21,202\u001b[0m (82.82 KB)\n"
            ]
          },
          "metadata": {},
          "output_type": "display_data"
        },
        {
          "data": {
            "text/html": [
              "<pre style=\"white-space:pre;overflow-x:auto;line-height:normal;font-family:Menlo,'DejaVu Sans Mono',consolas,'Courier New',monospace\"><span style=\"font-weight: bold\"> Trainable params: </span><span style=\"color: #00af00; text-decoration-color: #00af00\">21,202</span> (82.82 KB)\n",
              "</pre>\n"
            ],
            "text/plain": [
              "\u001b[1m Trainable params: \u001b[0m\u001b[38;5;34m21,202\u001b[0m (82.82 KB)\n"
            ]
          },
          "metadata": {},
          "output_type": "display_data"
        },
        {
          "data": {
            "text/html": [
              "<pre style=\"white-space:pre;overflow-x:auto;line-height:normal;font-family:Menlo,'DejaVu Sans Mono',consolas,'Courier New',monospace\"><span style=\"font-weight: bold\"> Non-trainable params: </span><span style=\"color: #00af00; text-decoration-color: #00af00\">0</span> (0.00 B)\n",
              "</pre>\n"
            ],
            "text/plain": [
              "\u001b[1m Non-trainable params: \u001b[0m\u001b[38;5;34m0\u001b[0m (0.00 B)\n"
            ]
          },
          "metadata": {},
          "output_type": "display_data"
        },
        {
          "output_type": "stream",
          "name": "stdout",
          "text": [
            "Experiment 1 in progress\n",
            "\u001b[1m228/228\u001b[0m \u001b[32m━━━━━━━━━━━━━━━━━━━━\u001b[0m\u001b[37m\u001b[0m \u001b[1m1s\u001b[0m 4ms/step\n",
            "\u001b[1m76/76\u001b[0m \u001b[32m━━━━━━━━━━━━━━━━━━━━\u001b[0m\u001b[37m\u001b[0m \u001b[1m0s\u001b[0m 2ms/step\n",
            "[9.9999994e-01 7.2078126e-09]\n",
            "[9.999923e-01 7.679951e-06]\n",
            "19\n",
            "264\n",
            "train acc:  0.7511737089201878\n",
            "test acc:  0.3829787234042553\n",
            "Experiment 2 in progress\n",
            "\u001b[1m228/228\u001b[0m \u001b[32m━━━━━━━━━━━━━━━━━━━━\u001b[0m\u001b[37m\u001b[0m \u001b[1m1s\u001b[0m 2ms/step\n",
            "\u001b[1m76/76\u001b[0m \u001b[32m━━━━━━━━━━━━━━━━━━━━\u001b[0m\u001b[37m\u001b[0m \u001b[1m0s\u001b[0m 3ms/step\n",
            "[9.9999994e-01 1.4343472e-08]\n",
            "[9.9998277e-01 1.7147919e-05]\n",
            "18\n",
            "291\n",
            "train acc:  0.7867867867867868\n",
            "test acc:  0.43478260869565216\n",
            "Experiment 3 in progress\n",
            "\u001b[1m228/228\u001b[0m \u001b[32m━━━━━━━━━━━━━━━━━━━━\u001b[0m\u001b[37m\u001b[0m \u001b[1m1s\u001b[0m 2ms/step\n",
            "\u001b[1m76/76\u001b[0m \u001b[32m━━━━━━━━━━━━━━━━━━━━\u001b[0m\u001b[37m\u001b[0m \u001b[1m0s\u001b[0m 2ms/step\n",
            "[9.9999994e-01 2.8681293e-10]\n",
            "[9.9999994e-01 2.9804010e-08]\n",
            "15\n",
            "286\n",
            "train acc:  0.8048411497730711\n",
            "test acc:  0.4186046511627907\n",
            "Experiment 4 in progress\n",
            "\u001b[1m228/228\u001b[0m \u001b[32m━━━━━━━━━━━━━━━━━━━━\u001b[0m\u001b[37m\u001b[0m \u001b[1m1s\u001b[0m 2ms/step\n",
            "\u001b[1m76/76\u001b[0m \u001b[32m━━━━━━━━━━━━━━━━━━━━\u001b[0m\u001b[37m\u001b[0m \u001b[1m0s\u001b[0m 2ms/step\n",
            "[9.9999994e-01 7.0908035e-20]\n",
            "[9.9999994e-01 2.2535458e-09]\n",
            "20\n",
            "275\n",
            "train acc:  0.8\n",
            "test acc:  0.4166666666666667\n",
            "Experiment 5 in progress\n",
            "\u001b[1m228/228\u001b[0m \u001b[32m━━━━━━━━━━━━━━━━━━━━\u001b[0m\u001b[37m\u001b[0m \u001b[1m1s\u001b[0m 2ms/step\n",
            "\u001b[1m76/76\u001b[0m \u001b[32m━━━━━━━━━━━━━━━━━━━━\u001b[0m\u001b[37m\u001b[0m \u001b[1m0s\u001b[0m 2ms/step\n",
            "[9.9999994e-01 1.5764800e-26]\n",
            "[9.9999994e-01 7.1641137e-10]\n",
            "22\n",
            "288\n",
            "train acc:  0.8265460030165912\n",
            "test acc:  0.4\n",
            "Experiment 6 in progress\n",
            "\u001b[1m228/228\u001b[0m \u001b[32m━━━━━━━━━━━━━━━━━━━━\u001b[0m\u001b[37m\u001b[0m \u001b[1m1s\u001b[0m 2ms/step\n",
            "\u001b[1m76/76\u001b[0m \u001b[32m━━━━━━━━━━━━━━━━━━━━\u001b[0m\u001b[37m\u001b[0m \u001b[1m0s\u001b[0m 2ms/step\n",
            "[9.9999994e-01 3.6100397e-36]\n",
            "[9.9999994e-01 6.5112548e-13]\n",
            "29\n",
            "302\n",
            "train acc:  0.8419497784342689\n",
            "test acc:  0.38596491228070173\n",
            "Experiment 7 in progress\n",
            "\u001b[1m228/228\u001b[0m \u001b[32m━━━━━━━━━━━━━━━━━━━━\u001b[0m\u001b[37m\u001b[0m \u001b[1m1s\u001b[0m 2ms/step\n",
            "\u001b[1m76/76\u001b[0m \u001b[32m━━━━━━━━━━━━━━━━━━━━\u001b[0m\u001b[37m\u001b[0m \u001b[1m0s\u001b[0m 2ms/step\n",
            "[0.99999994 0.        ]\n",
            "[9.9999994e-01 3.8679381e-16]\n",
            "16\n",
            "276\n",
            "train acc:  0.8233486943164362\n",
            "test acc:  0.36363636363636365\n",
            "Experiment 8 in progress\n",
            "\u001b[1m228/228\u001b[0m \u001b[32m━━━━━━━━━━━━━━━━━━━━\u001b[0m\u001b[37m\u001b[0m \u001b[1m1s\u001b[0m 3ms/step\n",
            "\u001b[1m76/76\u001b[0m \u001b[32m━━━━━━━━━━━━━━━━━━━━\u001b[0m\u001b[37m\u001b[0m \u001b[1m0s\u001b[0m 2ms/step\n",
            "[0.99999994 0.        ]\n",
            "[9.9999994e-01 1.7495292e-27]\n",
            "24\n",
            "300\n",
            "train acc:  0.8651851851851852\n",
            "test acc:  0.3076923076923077\n",
            "Experiment 9 in progress\n",
            "\u001b[1m228/228\u001b[0m \u001b[32m━━━━━━━━━━━━━━━━━━━━\u001b[0m\u001b[37m\u001b[0m \u001b[1m1s\u001b[0m 3ms/step\n",
            "\u001b[1m76/76\u001b[0m \u001b[32m━━━━━━━━━━━━━━━━━━━━\u001b[0m\u001b[37m\u001b[0m \u001b[1m0s\u001b[0m 3ms/step\n",
            "[0.99999994 0.        ]\n",
            "[9.9999994e-01 1.0632460e-12]\n",
            "27\n",
            "330\n",
            "train acc:  0.8851063829787233\n",
            "test acc:  0.32727272727272727\n",
            "Experiment 10 in progress\n",
            "\u001b[1m228/228\u001b[0m \u001b[32m━━━━━━━━━━━━━━━━━━━━\u001b[0m\u001b[37m\u001b[0m \u001b[1m1s\u001b[0m 2ms/step\n",
            "\u001b[1m76/76\u001b[0m \u001b[32m━━━━━━━━━━━━━━━━━━━━\u001b[0m\u001b[37m\u001b[0m \u001b[1m0s\u001b[0m 3ms/step\n",
            "[0.99999994 0.        ]\n",
            "[9.9999994e-01 1.2238438e-21]\n",
            "28\n",
            "321\n",
            "train acc:  0.896551724137931\n",
            "test acc:  0.39285714285714285\n",
            "Experiment 11 in progress\n",
            "\u001b[1m228/228\u001b[0m \u001b[32m━━━━━━━━━━━━━━━━━━━━\u001b[0m\u001b[37m\u001b[0m \u001b[1m1s\u001b[0m 2ms/step\n",
            "\u001b[1m76/76\u001b[0m \u001b[32m━━━━━━━━━━━━━━━━━━━━\u001b[0m\u001b[37m\u001b[0m \u001b[1m0s\u001b[0m 2ms/step\n",
            "[0.99999994 0.        ]\n",
            "[9.9999994e-01 2.5776312e-26]\n",
            "38\n",
            "339\n",
            "train acc:  0.8935574229691877\n",
            "test acc:  0.42424242424242425\n",
            "Experiment 12 in progress\n",
            "\u001b[1m228/228\u001b[0m \u001b[32m━━━━━━━━━━━━━━━━━━━━\u001b[0m\u001b[37m\u001b[0m \u001b[1m1s\u001b[0m 4ms/step\n",
            "\u001b[1m76/76\u001b[0m \u001b[32m━━━━━━━━━━━━━━━━━━━━\u001b[0m\u001b[37m\u001b[0m \u001b[1m0s\u001b[0m 3ms/step\n",
            "[0.99999994 0.        ]\n",
            "[9.9999994e-01 1.3795442e-25]\n",
            "21\n",
            "323\n",
            "train acc:  0.8911174785100286\n",
            "test acc:  0.3673469387755102\n",
            "Experiment 13 in progress\n",
            "\u001b[1m228/228\u001b[0m \u001b[32m━━━━━━━━━━━━━━━━━━━━\u001b[0m\u001b[37m\u001b[0m \u001b[1m1s\u001b[0m 2ms/step\n",
            "\u001b[1m76/76\u001b[0m \u001b[32m━━━━━━━━━━━━━━━━━━━━\u001b[0m\u001b[37m\u001b[0m \u001b[1m0s\u001b[0m 2ms/step\n",
            "[0.99999994 0.        ]\n",
            "[9.9999994e-01 1.7406886e-27]\n",
            "28\n",
            "327\n",
            "train acc:  0.9088319088319088\n",
            "test acc:  0.35714285714285715\n",
            "Experiment 14 in progress\n",
            "\u001b[1m228/228\u001b[0m \u001b[32m━━━━━━━━━━━━━━━━━━━━\u001b[0m\u001b[37m\u001b[0m \u001b[1m1s\u001b[0m 2ms/step\n",
            "\u001b[1m76/76\u001b[0m \u001b[32m━━━━━━━━━━━━━━━━━━━━\u001b[0m\u001b[37m\u001b[0m \u001b[1m0s\u001b[0m 2ms/step\n",
            "[0.99999994 0.        ]\n",
            "[9.9999994e-01 6.8458622e-16]\n",
            "39\n",
            "340\n",
            "train acc:  0.9118881118881119\n",
            "test acc:  0.3880597014925373\n",
            "Experiment 15 in progress\n",
            "\u001b[1m228/228\u001b[0m \u001b[32m━━━━━━━━━━━━━━━━━━━━\u001b[0m\u001b[37m\u001b[0m \u001b[1m1s\u001b[0m 4ms/step\n",
            "\u001b[1m76/76\u001b[0m \u001b[32m━━━━━━━━━━━━━━━━━━━━\u001b[0m\u001b[37m\u001b[0m \u001b[1m0s\u001b[0m 5ms/step\n",
            "[0.99999994 0.        ]\n",
            "[9.99999940e-01 1.05589565e-16]\n",
            "32\n",
            "323\n",
            "train acc:  0.8911174785100286\n",
            "test acc:  0.3333333333333333\n",
            "Experiment 16 in progress\n",
            "\u001b[1m228/228\u001b[0m \u001b[32m━━━━━━━━━━━━━━━━━━━━\u001b[0m\u001b[37m\u001b[0m \u001b[1m1s\u001b[0m 2ms/step\n",
            "\u001b[1m76/76\u001b[0m \u001b[32m━━━━━━━━━━━━━━━━━━━━\u001b[0m\u001b[37m\u001b[0m \u001b[1m0s\u001b[0m 3ms/step\n",
            "[0.99999994 0.        ]\n",
            "[9.9999994e-01 9.8335376e-19]\n",
            "33\n",
            "335\n",
            "train acc:  0.9267605633802817\n",
            "test acc:  0.39344262295081966\n",
            "Experiment 17 in progress\n",
            "\u001b[1m228/228\u001b[0m \u001b[32m━━━━━━━━━━━━━━━━━━━━\u001b[0m\u001b[37m\u001b[0m \u001b[1m1s\u001b[0m 3ms/step\n",
            "\u001b[1m76/76\u001b[0m \u001b[32m━━━━━━━━━━━━━━━━━━━━\u001b[0m\u001b[37m\u001b[0m \u001b[1m0s\u001b[0m 2ms/step\n",
            "[0.99999994 0.        ]\n",
            "[9.9999994e-01 1.6787309e-18]\n",
            "31\n",
            "328\n",
            "train acc:  0.9132290184921764\n",
            "test acc:  0.3389830508474576\n",
            "Experiment 18 in progress\n",
            "\u001b[1m228/228\u001b[0m \u001b[32m━━━━━━━━━━━━━━━━━━━━\u001b[0m\u001b[37m\u001b[0m \u001b[1m1s\u001b[0m 2ms/step\n",
            "\u001b[1m76/76\u001b[0m \u001b[32m━━━━━━━━━━━━━━━━━━━━\u001b[0m\u001b[37m\u001b[0m \u001b[1m0s\u001b[0m 2ms/step\n",
            "[0.99999994 0.        ]\n",
            "[9.9999994e-01 2.7132656e-24]\n",
            "30\n",
            "333\n",
            "train acc:  0.9124293785310734\n",
            "test acc:  0.3103448275862069\n",
            "Experiment 19 in progress\n",
            "\u001b[1m228/228\u001b[0m \u001b[32m━━━━━━━━━━━━━━━━━━━━\u001b[0m\u001b[37m\u001b[0m \u001b[1m1s\u001b[0m 2ms/step\n",
            "\u001b[1m76/76\u001b[0m \u001b[32m━━━━━━━━━━━━━━━━━━━━\u001b[0m\u001b[37m\u001b[0m \u001b[1m0s\u001b[0m 3ms/step\n",
            "[0.99999994 0.        ]\n",
            "[9.9999994e-01 1.9927308e-16]\n",
            "34\n",
            "352\n",
            "train acc:  0.938101788170564\n",
            "test acc:  0.41935483870967744\n",
            "Experiment 20 in progress\n",
            "\u001b[1m228/228\u001b[0m \u001b[32m━━━━━━━━━━━━━━━━━━━━\u001b[0m\u001b[37m\u001b[0m \u001b[1m1s\u001b[0m 2ms/step\n",
            "\u001b[1m76/76\u001b[0m \u001b[32m━━━━━━━━━━━━━━━━━━━━\u001b[0m\u001b[37m\u001b[0m \u001b[1m0s\u001b[0m 2ms/step\n",
            "[0.99999994 0.        ]\n",
            "[9.9999994e-01 5.3020904e-17]\n",
            "37\n",
            "348\n",
            "train acc:  0.946058091286307\n",
            "test acc:  0.3384615384615385\n",
            "Experiment 21 in progress\n",
            "\u001b[1m228/228\u001b[0m \u001b[32m━━━━━━━━━━━━━━━━━━━━\u001b[0m\u001b[37m\u001b[0m \u001b[1m1s\u001b[0m 2ms/step\n",
            "\u001b[1m76/76\u001b[0m \u001b[32m━━━━━━━━━━━━━━━━━━━━\u001b[0m\u001b[37m\u001b[0m \u001b[1m0s\u001b[0m 3ms/step\n",
            "[0.99999994 0.        ]\n",
            "[9.9999994e-01 1.4926739e-24]\n",
            "44\n",
            "355\n",
            "train acc:  0.9287671232876712\n",
            "test acc:  0.2777777777777778\n",
            "Experiment 22 in progress\n",
            "\u001b[1m228/228\u001b[0m \u001b[32m━━━━━━━━━━━━━━━━━━━━\u001b[0m\u001b[37m\u001b[0m \u001b[1m1s\u001b[0m 2ms/step\n",
            "\u001b[1m76/76\u001b[0m \u001b[32m━━━━━━━━━━━━━━━━━━━━\u001b[0m\u001b[37m\u001b[0m \u001b[1m0s\u001b[0m 3ms/step\n",
            "[0.99999994 0.        ]\n",
            "[9.9999994e-01 2.2003436e-35]\n",
            "38\n",
            "353\n",
            "train acc:  0.9505494505494505\n",
            "test acc:  0.36363636363636365\n",
            "Experiment 23 in progress\n",
            "\u001b[1m228/228\u001b[0m \u001b[32m━━━━━━━━━━━━━━━━━━━━\u001b[0m\u001b[37m\u001b[0m \u001b[1m1s\u001b[0m 3ms/step\n",
            "\u001b[1m76/76\u001b[0m \u001b[32m━━━━━━━━━━━━━━━━━━━━\u001b[0m\u001b[37m\u001b[0m \u001b[1m0s\u001b[0m 2ms/step\n",
            "[0.99999994 0.        ]\n",
            "[9.9999994e-01 4.5112450e-29]\n",
            "34\n",
            "351\n",
            "train acc:  0.9449035812672176\n",
            "test acc:  0.3548387096774194\n",
            "Experiment 24 in progress\n",
            "\u001b[1m228/228\u001b[0m \u001b[32m━━━━━━━━━━━━━━━━━━━━\u001b[0m\u001b[37m\u001b[0m \u001b[1m1s\u001b[0m 2ms/step\n",
            "\u001b[1m76/76\u001b[0m \u001b[32m━━━━━━━━━━━━━━━━━━━━\u001b[0m\u001b[37m\u001b[0m \u001b[1m0s\u001b[0m 3ms/step\n",
            "[0.99999994 0.        ]\n",
            "[9.9999994e-01 6.8245388e-37]\n",
            "30\n",
            "359\n",
            "train acc:  0.9482288828337875\n",
            "test acc:  0.27586206896551724\n",
            "Experiment 25 in progress\n",
            "\u001b[1m228/228\u001b[0m \u001b[32m━━━━━━━━━━━━━━━━━━━━\u001b[0m\u001b[37m\u001b[0m \u001b[1m1s\u001b[0m 2ms/step\n",
            "\u001b[1m76/76\u001b[0m \u001b[32m━━━━━━━━━━━━━━━━━━━━\u001b[0m\u001b[37m\u001b[0m \u001b[1m0s\u001b[0m 3ms/step\n",
            "[0.99999994 0.        ]\n",
            "[0.99999994 0.        ]\n",
            "40\n",
            "339\n",
            "train acc:  0.9047619047619048\n",
            "test acc:  0.4411764705882353\n",
            "Experiment 26 in progress\n",
            "\u001b[1m228/228\u001b[0m \u001b[32m━━━━━━━━━━━━━━━━━━━━\u001b[0m\u001b[37m\u001b[0m \u001b[1m1s\u001b[0m 3ms/step\n",
            "\u001b[1m76/76\u001b[0m \u001b[32m━━━━━━━━━━━━━━━━━━━━\u001b[0m\u001b[37m\u001b[0m \u001b[1m0s\u001b[0m 2ms/step\n",
            "[0.99999994 0.        ]\n",
            "[9.9999994e-01 1.3941686e-30]\n",
            "42\n",
            "350\n",
            "train acc:  0.9324137931034483\n",
            "test acc:  0.34285714285714286\n",
            "Experiment 27 in progress\n",
            "\u001b[1m228/228\u001b[0m \u001b[32m━━━━━━━━━━━━━━━━━━━━\u001b[0m\u001b[37m\u001b[0m \u001b[1m1s\u001b[0m 3ms/step\n",
            "\u001b[1m76/76\u001b[0m \u001b[32m━━━━━━━━━━━━━━━━━━━━\u001b[0m\u001b[37m\u001b[0m \u001b[1m0s\u001b[0m 2ms/step\n",
            "[0.99999994 0.        ]\n",
            "[9.9999994e-01 6.7158128e-37]\n",
            "44\n",
            "360\n",
            "train acc:  0.9496598639455782\n",
            "test acc:  0.3611111111111111\n",
            "Experiment 28 in progress\n",
            "\u001b[1m228/228\u001b[0m \u001b[32m━━━━━━━━━━━━━━━━━━━━\u001b[0m\u001b[37m\u001b[0m \u001b[1m1s\u001b[0m 3ms/step\n",
            "\u001b[1m76/76\u001b[0m \u001b[32m━━━━━━━━━━━━━━━━━━━━\u001b[0m\u001b[37m\u001b[0m \u001b[1m0s\u001b[0m 4ms/step\n",
            "[0.99999994 0.        ]\n",
            "[9.9999994e-01 1.0130755e-34]\n",
            "43\n",
            "355\n",
            "train acc:  0.8767123287671232\n",
            "test acc:  0.4507042253521127\n",
            "Experiment 29 in progress\n",
            "\u001b[1m228/228\u001b[0m \u001b[32m━━━━━━━━━━━━━━━━━━━━\u001b[0m\u001b[37m\u001b[0m \u001b[1m1s\u001b[0m 2ms/step\n",
            "\u001b[1m76/76\u001b[0m \u001b[32m━━━━━━━━━━━━━━━━━━━━\u001b[0m\u001b[37m\u001b[0m \u001b[1m0s\u001b[0m 2ms/step\n",
            "[0.99999994 0.        ]\n",
            "[9.9999994e-01 2.8621267e-34]\n",
            "38\n",
            "353\n",
            "train acc:  0.9532967032967034\n",
            "test acc:  0.30303030303030304\n",
            "Experiment 30 in progress\n",
            "\u001b[1m228/228\u001b[0m \u001b[32m━━━━━━━━━━━━━━━━━━━━\u001b[0m\u001b[37m\u001b[0m \u001b[1m1s\u001b[0m 2ms/step\n",
            "\u001b[1m76/76\u001b[0m \u001b[32m━━━━━━━━━━━━━━━━━━━━\u001b[0m\u001b[37m\u001b[0m \u001b[1m0s\u001b[0m 3ms/step\n",
            "[0.99999994 0.        ]\n",
            "[9.9999994e-01 2.1821452e-36]\n",
            "38\n",
            "351\n"
          ]
        },
        {
          "output_type": "stream",
          "name": "stderr",
          "text": [
            "WARNING:absl:You are saving your model as an HDF5 file via `model.save()` or `keras.saving.save_model(model)`. This file format is considered legacy. We recommend using instead the native Keras format, e.g. `model.save('my_model.keras')` or `keras.saving.save_model(model, 'my_model.keras')`. \n"
          ]
        },
        {
          "output_type": "stream",
          "name": "stdout",
          "text": [
            "train acc:  0.9504132231404959\n",
            "test acc:  0.3333333333333333\n",
            "Total time for 30 experiments 13031.604271888733\n",
            "F1 scores for test data:  [0.38297872 0.43478261 0.41860465 0.41666667 0.4        0.38596491\n",
            " 0.36363636 0.30769231 0.32727273 0.39285714 0.42424242 0.36734694\n",
            " 0.35714286 0.3880597  0.33333333 0.39344262 0.33898305 0.31034483\n",
            " 0.41935484 0.33846154 0.27777778 0.36363636 0.35483871 0.27586207\n",
            " 0.44117647 0.34285714 0.36111111 0.45070423 0.3030303  0.33333333]\n",
            "Mean:  0.3668498581180095 Std Dev:  0.046612287613181355\n"
          ]
        }
      ],
      "source": [
        "# Loop over different values of n_steps_out (in this case, only 1)\n",
        "for j in range(1):\n",
        "    # Initialize dictionaries to store results for the ensemble model\n",
        "    predictions_train_per_step = dict()\n",
        "    actual_train_per_step = dict()\n",
        "    predictions_test_per_step = dict()\n",
        "    actual_test_per_step = dict()\n",
        "    metrics_train_per_step = dict()\n",
        "    metrics_test_per_step = dict()\n",
        "    test_acc_per_step = dict()\n",
        "    test_stddev_per_step = dict()\n",
        "    n_steps_out = j + 1\n",
        "\n",
        "    print('---------------------------------------------------------')\n",
        "    print('Number of steps out:', n_steps_out)\n",
        "\n",
        "    # Reshape data based on the ensemble model type\n",
        "    x_train_1, y_train_1 = np.asarray(x_shuffled_1), np.asarray(Y_hot_encoded_train_1)\n",
        "    x_test_1, y_test_1 = np.asarray(test_X_1), np.asarray(Y_hot_encoded_test_1)\n",
        "\n",
        "    x_train, y_train = np.asarray(x_shuffled), np.asarray(Y_hot_encoded_train)\n",
        "    x_test, y_test = np.asarray(test_X), np.asarray(Y_hot_encoded_test)\n",
        "\n",
        "    # Call ensemble_lstm to create the ensemble model\n",
        "\n",
        "\n",
        "    # Call the lstm function with the ensemble model and retrieve results\n",
        "    train_acc, test_acc, train_std_dev, test_std_dev, Best_Predict_Test, y_predicttrain, y_predicttest, report_train, report_test = lstm(x_train, x_train_1, y_train, x_test_1, x_test,  y_test, No_exp, n_steps_in_1, n_steps_in_2, n_steps_out_1, n_steps_out_2, n_features_in_1, n_features_in_2, n_features_out_1, n_features_out_2, epochs, hidden_layers)\n",
        "    # Store results in respective dictionaries\n",
        "    predictions_train_per_step['ensemble'] = Best_Predict_Test\n",
        "    actual_train_per_step['ensemble'] = y_train\n",
        "    predictions_test_per_step['ensemble'] = Best_Predict_Test\n",
        "    actual_test_per_step['ensemble'] = y_test\n",
        "    metrics_train_per_step['ensemble'] = report_train\n",
        "    metrics_test_per_step['ensemble'] = report_test\n",
        "    test_acc_per_step['ensemble'] = test_acc\n",
        "    test_stddev_per_step['ensemble'] = test_std_dev\n",
        "\n",
        "    # Store results for the current n_steps_out in the overall dictionaries\n",
        "    predictions_train[str(j + 1)] = predictions_train_per_step\n",
        "    actual_train[str(j + 1)] = actual_train_per_step\n",
        "    predictions_test[str(j + 1)] = predictions_test_per_step\n",
        "    actual_test[str(j + 1)] = actual_test_per_step\n",
        "    metrics_train[str(j + 1)] = metrics_train_per_step\n",
        "    metrics_test[str(j + 1)] = metrics_test_per_step\n",
        "    test_acc_all[str(j + 1)] = test_acc_per_step\n",
        "    test_stddev[str(j + 1)] = test_stddev_per_step\n"
      ]
    },
    {
      "cell_type": "code",
      "execution_count": null,
      "metadata": {
        "id": "zsm8ZKGL5DhM"
      },
      "outputs": [],
      "source": [
        "with open(\"predictions_\" + ocean + '_original' + '.pkl', 'wb') as f:\n",
        "    pickle.dump([predictions_train,actual_train,predictions_test,actual_test,metrics_train,metrics_test,test_acc,test_stddev], f)\n"
      ]
    },
    {
      "cell_type": "code",
      "execution_count": null,
      "metadata": {
        "id": "1gY0PQQI5FqE"
      },
      "outputs": [],
      "source": [
        "def make_confusion_matrix_chart(cf_matrix, name):\n",
        "    \"\"\"\n",
        "    Create and save a well-formatted confusion matrix heatmap.\n",
        "\n",
        "    Parameters:\n",
        "    - cf_matrix: Confusion matrix\n",
        "    - name: Name of the file to save the plot\n",
        "\n",
        "    Returns:\n",
        "    - None\n",
        "    \"\"\"\n",
        "\n",
        "    # Set a Seaborn style with dark grid\n",
        "    sns.set(style=\"darkgrid\", font_scale=1.5)\n",
        "\n",
        "    # Create a figure and axis\n",
        "    fig, ax = plt.subplots(figsize=(10, 8))\n",
        "\n",
        "    # Customize the appearance of the heatmap with green colors\n",
        "    sns.heatmap(cf_matrix, annot=True, fmt='d', cmap='Greens',\n",
        "                linewidths=.5, square=True, cbar=False,\n",
        "                annot_kws={\"size\": 16}, ax=ax)\n",
        "\n",
        "    # Set labels and title\n",
        "    plt.ylabel(\"Actual\", size=18)\n",
        "    plt.xlabel(\"Predicted\", size=18)\n",
        "    plt.title(\"Confusion Matrix\", size=20)\n",
        "\n",
        "    # Set tick parameters\n",
        "    ax.tick_params(axis='both', which='major', labelsize=14)\n",
        "\n",
        "    # Save the plot as an image\n",
        "    plt.savefig(name + '.png', dpi=300, transparent=False, bbox_inches='tight')\n",
        "\n",
        "    # Display the plot\n",
        "    plt.show()\n",
        "\n",
        "    # Return None\n",
        "    return None\n",
        "\n",
        "\n"
      ]
    },
    {
      "cell_type": "code",
      "execution_count": null,
      "metadata": {
        "colab": {
          "base_uri": "https://localhost:8080/",
          "height": 745
        },
        "id": "4CzHKFOS5IHr",
        "outputId": "85fa5338-9f40-4471-8243-7dcb7e5d46c8"
      },
      "outputs": [
        {
          "output_type": "display_data",
          "data": {
            "text/plain": [
              "<Figure size 1000x800 with 1 Axes>"
            ],
            "image/png": "[encoded data removed]"
          },
          "metadata": {}
        }
      ],
      "source": [
        "y = [i.argmax() for i in actual_test_per_step['ensemble']]\n",
        "pred = [i.argmax() for i in predictions_test_per_step['ensemble']]\n",
        "cf_matrix_test = confusion_matrix(y, pred)\n",
        "make_confusion_matrix_chart(cf_matrix_test, ocean + '_ensemble_cm_original')"
      ]
    },
    {
      "cell_type": "code",
      "execution_count": null,
      "metadata": {
        "id": "I5nTS6nT5KhT"
      },
      "outputs": [],
      "source": [
        "# Initialize lists to store precision, recall, and F1-score metrics for class 0, class 1, overall accuracy,\n",
        "# macro average, and weighted average across multiple experiments\n",
        "precision0 = []\n",
        "precision1 = []\n",
        "precisionacc = []\n",
        "precisionmacavg = []\n",
        "precisionweighavg = []\n",
        "recall0 = []\n",
        "recall1 = []\n",
        "recallacc = []\n",
        "recallmacavg = []\n",
        "recallweighavg = []\n",
        "f10 = []\n",
        "f11 = []\n",
        "f1acc = []\n",
        "f1macavg = []\n",
        "f1weighavg = []\n",
        "\n",
        "# Loop through the results of multiple experiments\n",
        "for i in range(No_exp):\n",
        "    # Append precision, recall, and F1-score metrics for class 0, class 1, overall accuracy,\n",
        "    # macro average, and weighted average from the 'vanilla' model results\n",
        "    precision0.append(metrics_test_per_step['ensemble'][i]['0']['precision'])\n",
        "    precision1.append(metrics_test_per_step['ensemble'][i]['1']['precision'])\n",
        "    precisionacc.append(metrics_test_per_step['ensemble'][i]['accuracy'])\n",
        "    precisionmacavg.append(metrics_test_per_step['ensemble'][i]['macro avg']['precision'])\n",
        "    precisionweighavg.append(metrics_test_per_step['ensemble'][i]['weighted avg']['precision'])\n",
        "\n",
        "    recall0.append(metrics_test_per_step['ensemble'][i]['0']['recall'])\n",
        "    recall1.append(metrics_test_per_step['ensemble'][i]['1']['recall'])\n",
        "    recallacc.append(metrics_test_per_step['ensemble'][i]['accuracy'])\n",
        "    recallmacavg.append(metrics_test_per_step['ensemble'][i]['macro avg']['recall'])\n",
        "    recallweighavg.append(metrics_test_per_step['ensemble'][i]['weighted avg']['recall'])\n",
        "\n",
        "    f10.append(metrics_test_per_step['ensemble'][i]['0']['f1-score'])\n",
        "    f11.append(metrics_test_per_step['ensemble'][i]['1']['f1-score'])\n",
        "    f1acc.append(metrics_test_per_step['ensemble'][i]['accuracy'])\n",
        "    f1macavg.append(metrics_test_per_step['ensemble'][i]['macro avg']['f1-score'])\n",
        "    f1weighavg.append(metrics_test_per_step['ensemble'][i]['weighted avg']['f1-score'])\n"
      ]
    },
    {
      "cell_type": "code",
      "execution_count": null,
      "metadata": {
        "colab": {
          "base_uri": "https://localhost:8080/"
        },
        "id": "9oELmekU5NQj",
        "outputId": "496375f6-22dc-4833-db83-fba12ea24efd"
      },
      "outputs": [
        {
          "output_type": "stream",
          "name": "stdout",
          "text": [
            "0.9928±0.0008  & 0.9915±0.003  & 0.9922±0.0014\n",
            "0.3668±0.0875  & 0.3857±0.0711  & 0.3668±0.0466\n",
            "0.9845±0.0027  & 0.9845±0.0027  & 0.9845±0.0027\n",
            "0.6798±0.0437  & 0.6886±0.0347  & 0.6795±0.0237\n",
            "0.9856±0.0012  & 0.9845±0.0027  & 0.985±0.0017\n"
          ]
        }
      ],
      "source": [
        "print(str(round(np.mean(precision0),4)) + \"±\" + str(round(np.std(precision0),4)),\" & \" + str(round(np.mean(recall0),4)) + \"±\" + str(round(np.std(recall0),4)), \" & \" + str(round(np.mean(f10),4)) + \"±\" + str(round(np.std(f10),4)))\n",
        "print(str(round(np.mean(precision1),4)) + \"±\" + str(round(np.std(precision1),4)),\" & \" + str(round(np.mean(recall1),4)) + \"±\" + str(round(np.std(recall1),4)), \" & \" + str(round(np.mean(f11),4)) + \"±\" + str(round(np.std(f11),4)))\n",
        "print(str(round(np.mean(precisionacc),4)) + \"±\" + str(round(np.std(precisionacc),4)),\" & \" + str(round(np.mean(recallacc),4)) + \"±\" + str(round(np.std(recallacc),4)), \" & \" + str(round(np.mean(f1acc),4)) + \"±\" + str(round(np.std(f1acc),4)))\n",
        "print(str(round(np.mean(precisionmacavg),4)) + \"±\" + str(round(np.std(precisionmacavg),4)),\" & \" + str(round(np.mean(recallmacavg),4)) + \"±\" + str(round(np.std(recallmacavg),4)), \" & \" + str(round(np.mean(f1macavg),4)) + \"±\" + str(round(np.std(f1macavg),4)))\n",
        "print(str(round(np.mean(precisionweighavg),4)) + \"±\" + str(round(np.std(precisionweighavg),4)),\" & \" + str(round(np.mean(recallweighavg),4)) + \"±\" + str(round(np.std(recallweighavg),4)), \" & \" + str(round(np.mean(f1weighavg),4)) + \"±\" + str(round(np.std(f1weighavg),4)))\n",
        "\n"
      ]
    }
  ],
  "metadata": {
    "colab": {
      "provenance": []
    },
    "kernelspec": {
      "display_name": "Python 3",
      "name": "python3"
    },
    "language_info": {
      "name": "python"
    }
  },
  "nbformat": 4,
  "nbformat_minor": 0
}