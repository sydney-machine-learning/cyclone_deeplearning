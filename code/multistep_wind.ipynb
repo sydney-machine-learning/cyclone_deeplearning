{
  "nbformat": 4,
  "nbformat_minor": 0,
  "metadata": {
    "colab": {
      "name": "multistep_wind.ipynb",
      "provenance": [],
      "collapsed_sections": []
    },
    "kernelspec": {
      "display_name": "Python 3",
      "name": "python3"
    },
    "language_info": {
      "name": "python"
    }
  },
  "cells": [
    {
      "cell_type": "code",
      "metadata": {
        "id": "o9t9xeBcQw-j"
      },
      "source": [
        "import copy\n",
        "import numpy as np\n",
        "import sklearn\n",
        "import pandas as pd\n",
        "import matplotlib.pyplot as plt\n",
        "from keras.models import Sequential\n",
        "from keras.layers import Dense\n",
        "from keras.layers import LSTM\n",
        "from keras.layers import Bidirectional\n",
        "from keras.layers import RepeatVector\n",
        "from keras.layers import TimeDistributed\n",
        "from numpy import hstack\n",
        "from sklearn.preprocessing import StandardScaler\n",
        "import datetime\n",
        "import time\n",
        "import joblib\n",
        "from datetime import timedelta, date\n",
        "import tensorflow as tf\n",
        "from sklearn.preprocessing import MinMaxScaler\n",
        "from numpy import array\n",
        "import os\n",
        "import seaborn as sns; sns.set_theme() \n",
        "import errno"
      ],
      "execution_count": null,
      "outputs": []
    },
    {
      "cell_type": "code",
      "metadata": {
        "colab": {
          "base_uri": "https://localhost:8080/",
          "height": 402
        },
        "id": "Jh6KHX69Q1BR",
        "outputId": "c6510d9e-913f-4392-ead6-6436d8367ad6"
      },
      "source": [
        "url = \"https://raw.githubusercontent.com/rohitash-chandra/CMTL_dynamictimeseries/master/IndianOcean/rawtrain1985-2001.txt\"\n",
        "df = pd.read_csv(url, sep = \"\\t\", header = None)\n",
        "df.columns = ['id','date','longitude','latitude','speed']\n",
        "df = df.drop(['date'], axis = 1)\n",
        "df.to_csv('adjusted.csv')\n",
        "df"
      ],
      "execution_count": null,
      "outputs": [
        {
          "output_type": "execute_result",
          "data": {
            "text/html": [
              "<div>\n",
              "<style scoped>\n",
              "    .dataframe tbody tr th:only-of-type {\n",
              "        vertical-align: middle;\n",
              "    }\n",
              "\n",
              "    .dataframe tbody tr th {\n",
              "        vertical-align: top;\n",
              "    }\n",
              "\n",
              "    .dataframe thead th {\n",
              "        text-align: right;\n",
              "    }\n",
              "</style>\n",
              "<table border=\"1\" class=\"dataframe\">\n",
              "  <thead>\n",
              "    <tr style=\"text-align: right;\">\n",
              "      <th></th>\n",
              "      <th>id</th>\n",
              "      <th>longitude</th>\n",
              "      <th>latitude</th>\n",
              "      <th>speed</th>\n",
              "    </tr>\n",
              "  </thead>\n",
              "  <tbody>\n",
              "    <tr>\n",
              "      <th>0</th>\n",
              "      <td>1</td>\n",
              "      <td>7.7</td>\n",
              "      <td>80.9</td>\n",
              "      <td>20</td>\n",
              "    </tr>\n",
              "    <tr>\n",
              "      <th>1</th>\n",
              "      <td>1</td>\n",
              "      <td>8.1</td>\n",
              "      <td>79.9</td>\n",
              "      <td>20</td>\n",
              "    </tr>\n",
              "    <tr>\n",
              "      <th>2</th>\n",
              "      <td>1</td>\n",
              "      <td>8.5</td>\n",
              "      <td>78.8</td>\n",
              "      <td>25</td>\n",
              "    </tr>\n",
              "    <tr>\n",
              "      <th>3</th>\n",
              "      <td>1</td>\n",
              "      <td>8.8</td>\n",
              "      <td>77.7</td>\n",
              "      <td>25</td>\n",
              "    </tr>\n",
              "    <tr>\n",
              "      <th>4</th>\n",
              "      <td>1</td>\n",
              "      <td>9.0</td>\n",
              "      <td>76.6</td>\n",
              "      <td>30</td>\n",
              "    </tr>\n",
              "    <tr>\n",
              "      <th>...</th>\n",
              "      <td>...</td>\n",
              "      <td>...</td>\n",
              "      <td>...</td>\n",
              "      <td>...</td>\n",
              "    </tr>\n",
              "    <tr>\n",
              "      <th>9360</th>\n",
              "      <td>21</td>\n",
              "      <td>25.9</td>\n",
              "      <td>38.9</td>\n",
              "      <td>35</td>\n",
              "    </tr>\n",
              "    <tr>\n",
              "      <th>9361</th>\n",
              "      <td>21</td>\n",
              "      <td>25.9</td>\n",
              "      <td>40.2</td>\n",
              "      <td>35</td>\n",
              "    </tr>\n",
              "    <tr>\n",
              "      <th>9362</th>\n",
              "      <td>21</td>\n",
              "      <td>25.5</td>\n",
              "      <td>41.0</td>\n",
              "      <td>35</td>\n",
              "    </tr>\n",
              "    <tr>\n",
              "      <th>9363</th>\n",
              "      <td>21</td>\n",
              "      <td>25.1</td>\n",
              "      <td>41.7</td>\n",
              "      <td>30</td>\n",
              "    </tr>\n",
              "    <tr>\n",
              "      <th>9364</th>\n",
              "      <td>21</td>\n",
              "      <td>24.6</td>\n",
              "      <td>41.9</td>\n",
              "      <td>25</td>\n",
              "    </tr>\n",
              "  </tbody>\n",
              "</table>\n",
              "<p>9365 rows × 4 columns</p>\n",
              "</div>"
            ],
            "text/plain": [
              "      id  longitude  latitude  speed\n",
              "0      1        7.7      80.9     20\n",
              "1      1        8.1      79.9     20\n",
              "2      1        8.5      78.8     25\n",
              "3      1        8.8      77.7     25\n",
              "4      1        9.0      76.6     30\n",
              "...   ..        ...       ...    ...\n",
              "9360  21       25.9      38.9     35\n",
              "9361  21       25.9      40.2     35\n",
              "9362  21       25.5      41.0     35\n",
              "9363  21       25.1      41.7     30\n",
              "9364  21       24.6      41.9     25\n",
              "\n",
              "[9365 rows x 4 columns]"
            ]
          },
          "metadata": {
            "tags": []
          },
          "execution_count": 2
        }
      ]
    },
    {
      "cell_type": "code",
      "metadata": {
        "colab": {
          "base_uri": "https://localhost:8080/"
        },
        "id": "PUoFgRYsQ3Od",
        "outputId": "6633e3a4-add5-4566-a27a-6e80d3418504"
      },
      "source": [
        "#making starting point of every cyclone same, spatial bias removed\n",
        "id = 1\n",
        "x0 = df['longitude'][0]\n",
        "y0 = df['latitude'][0]\n",
        "df['longitude'][0] = 0\n",
        "df['latitude'][0] = 0\n",
        "for i in range(1, df.shape[0]):\n",
        "  if df['id'][i] == id :\n",
        "    df['longitude'][i] = df['longitude'][i] - x0\n",
        "    df['latitude'][i] = df['latitude'][i] - y0\n",
        "  else:\n",
        "    x0 = df['longitude'][i]\n",
        "    y0 = df['latitude'][i]\n",
        "    df['longitude'][i] = 0\n",
        "    df['latitude'][i] = 0\n",
        "    id = df['id'][i]"
      ],
      "execution_count": null,
      "outputs": [
        {
          "output_type": "stream",
          "text": [
            "/usr/local/lib/python3.7/dist-packages/ipykernel_launcher.py:5: SettingWithCopyWarning: \n",
            "A value is trying to be set on a copy of a slice from a DataFrame\n",
            "\n",
            "See the caveats in the documentation: https://pandas.pydata.org/pandas-docs/stable/user_guide/indexing.html#returning-a-view-versus-a-copy\n",
            "  \"\"\"\n",
            "/usr/local/lib/python3.7/dist-packages/ipykernel_launcher.py:6: SettingWithCopyWarning: \n",
            "A value is trying to be set on a copy of a slice from a DataFrame\n",
            "\n",
            "See the caveats in the documentation: https://pandas.pydata.org/pandas-docs/stable/user_guide/indexing.html#returning-a-view-versus-a-copy\n",
            "  \n",
            "/usr/local/lib/python3.7/dist-packages/ipykernel_launcher.py:9: SettingWithCopyWarning: \n",
            "A value is trying to be set on a copy of a slice from a DataFrame\n",
            "\n",
            "See the caveats in the documentation: https://pandas.pydata.org/pandas-docs/stable/user_guide/indexing.html#returning-a-view-versus-a-copy\n",
            "  if __name__ == '__main__':\n",
            "/usr/local/lib/python3.7/dist-packages/ipykernel_launcher.py:10: SettingWithCopyWarning: \n",
            "A value is trying to be set on a copy of a slice from a DataFrame\n",
            "\n",
            "See the caveats in the documentation: https://pandas.pydata.org/pandas-docs/stable/user_guide/indexing.html#returning-a-view-versus-a-copy\n",
            "  # Remove the CWD from sys.path while we load stuff.\n",
            "/usr/local/lib/python3.7/dist-packages/ipykernel_launcher.py:14: SettingWithCopyWarning: \n",
            "A value is trying to be set on a copy of a slice from a DataFrame\n",
            "\n",
            "See the caveats in the documentation: https://pandas.pydata.org/pandas-docs/stable/user_guide/indexing.html#returning-a-view-versus-a-copy\n",
            "  \n",
            "/usr/local/lib/python3.7/dist-packages/ipykernel_launcher.py:15: SettingWithCopyWarning: \n",
            "A value is trying to be set on a copy of a slice from a DataFrame\n",
            "\n",
            "See the caveats in the documentation: https://pandas.pydata.org/pandas-docs/stable/user_guide/indexing.html#returning-a-view-versus-a-copy\n",
            "  from ipykernel import kernelapp as app\n"
          ],
          "name": "stderr"
        }
      ]
    },
    {
      "cell_type": "code",
      "metadata": {
        "colab": {
          "base_uri": "https://localhost:8080/"
        },
        "id": "ULYnSF0AQ43m",
        "outputId": "a37dc895-0c23-4047-b84c-12c8b71761f3"
      },
      "source": [
        "longi = array(df['longitude'])\n",
        "lat = array(df['latitude'])\n",
        "speed = array(df['speed'])\n",
        "longi = longi.reshape((len(longi), 1))\n",
        "lat = lat.reshape((len(lat), 1))\n",
        "speed = speed.reshape((len(speed), 1))\n",
        "longi.shape, lat.shape, speed.shape"
      ],
      "execution_count": null,
      "outputs": [
        {
          "output_type": "execute_result",
          "data": {
            "text/plain": [
              "((9365, 1), (9365, 1), (9365, 1))"
            ]
          },
          "metadata": {
            "tags": []
          },
          "execution_count": 4
        }
      ]
    },
    {
      "cell_type": "code",
      "metadata": {
        "colab": {
          "base_uri": "https://localhost:8080/"
        },
        "id": "AgHGTYLCRPl3",
        "outputId": "aed421f1-0f2e-4fa7-d136-037c7c8b65df"
      },
      "source": [
        "sc = StandardScaler()\n",
        "longi_scaled = sc.fit_transform(longi)\n",
        "lat_scaled = sc.fit_transform(lat)\n",
        "speed_scaled = sc.fit_transform(speed)\n",
        "speed_scaled"
      ],
      "execution_count": null,
      "outputs": [
        {
          "output_type": "execute_result",
          "data": {
            "text/plain": [
              "array([[-0.98138094],\n",
              "       [-0.98138094],\n",
              "       [-0.78866885],\n",
              "       ...,\n",
              "       [-0.40324466],\n",
              "       [-0.59595675],\n",
              "       [-0.78866885]])"
            ]
          },
          "metadata": {
            "tags": []
          },
          "execution_count": 5
        }
      ]
    },
    {
      "cell_type": "code",
      "metadata": {
        "id": "wX-DF_S7RwEB"
      },
      "source": [
        "#for univariate\n",
        "def split_sequence(sequence, n_steps_in, n_steps_out):\n",
        "\tX, y = list(), list()\n",
        "\tfor i in range(len(sequence)):\n",
        "\t\t# find the end of this pattern\n",
        "\t\tend_ix = i + n_steps_in\n",
        "\t\tout_end_ix = end_ix + n_steps_out\n",
        "\t\t# check if we are beyond the sequence\n",
        "\t\tif out_end_ix > len(sequence):\n",
        "\t\t\tbreak\n",
        "\t\t# gather input and output parts of the pattern\n",
        "\t\tseq_x, seq_y = sequence[i:end_ix], sequence[end_ix:out_end_ix]\n",
        "\t\tX.append(seq_x)\n",
        "\t\ty.append(seq_y)\n",
        "\treturn np.array(X), np.array(y)\n",
        " \n",
        "def rmse(pred, actual):\n",
        "\treturn np.sqrt(((pred - actual) ** 2).mean())"
      ],
      "execution_count": null,
      "outputs": []
    },
    {
      "cell_type": "code",
      "metadata": {
        "colab": {
          "background_save": true,
          "base_uri": "https://localhost:8080/"
        },
        "id": "qKZUdQ9fR8Rg",
        "outputId": "e858a63a-3aeb-4b70-fcef-714ba2619c62"
      },
      "source": [
        "univariate = True # if false, its multivariate case\n",
        "n_steps_in = 5\n",
        "n_steps_out = 3\n",
        "n_features = 1\n",
        "Hidden = 10\n",
        "Epochs = 50\n",
        "Num_Exp = 10\n",
        "dataset = hstack((longi_scaled, lat_scaled, speed_scaled))\n",
        "dataset.shape"
      ],
      "execution_count": null,
      "outputs": [
        {
          "output_type": "execute_result",
          "data": {
            "text/plain": [
              "(9365, 3)"
            ]
          },
          "metadata": {
            "tags": []
          },
          "execution_count": 0
        }
      ]
    },
    {
      "cell_type": "code",
      "metadata": {
        "colab": {
          "background_save": true,
          "base_uri": "https://localhost:8080/"
        },
        "id": "EdY4PUIoSB5K",
        "outputId": "46b8d62e-ca28-49a9-8ac0-8f55433100f3"
      },
      "source": [
        "if univariate is True:  \n",
        "  train = speed_scaled[0:8628]\n",
        "  test = speed_scaled[8629:9364]\n",
        "  x_train, y_train = split_sequence(train, n_steps_in, n_steps_out)\n",
        "  x_test, y_test = split_sequence(test, n_steps_in, n_steps_out)\n",
        "  x_train = x_train.reshape((x_train.shape[0], x_train.shape[1], n_features))\n",
        "  print(x_train.shape)\n",
        "  x_test = x_test.reshape((x_test.shape[0], x_test.shape[1], n_features))\n",
        "  print(x_test.shape)\n",
        "  print(y_train.shape)\n",
        "  y_train = y_train.reshape((y_train.shape[0],y_train.shape[1]))\n",
        "  print(y_train.shape)\n",
        "  y_test = y_test.reshape((y_test.shape[0],y_test.shape[1]))\n",
        "  print(y_test.shape)\n",
        "\n",
        "else:\n",
        "  train = dataset[0:8628]\n",
        "  test = dataset[8629:9364]\n",
        "  x_train, y_train = msplit_sequence(train, n_steps_in, n_steps_out)\n",
        "  x_test, y_test = msplit_sequence(test, n_steps_in, n_steps_out)\n",
        "  x_train = x_train.reshape((x_train.shape[0], x_train.shape[1], n_features))\n",
        "  print(x_train.shape)\n",
        "  x_test = x_test.reshape((x_test.shape[0], x_test.shape[1], n_features))\n",
        "  print(x_test.shape)\n",
        "  y_train = y_train.reshape((y_train.shape[0]))\n",
        "  print(y_train.shape)\n",
        "  y_test = y_test.reshape((y_test.shape[0]))\n",
        "  print(y_test.shape)\n"
      ],
      "execution_count": null,
      "outputs": [
        {
          "output_type": "stream",
          "text": [
            "(8621, 5, 1)\n",
            "(728, 5, 1)\n",
            "(8621, 3, 1)\n",
            "(8621, 3)\n",
            "(728, 3)\n"
          ],
          "name": "stdout"
        }
      ]
    },
    {
      "cell_type": "code",
      "metadata": {
        "colab": {
          "background_save": true
        },
        "id": "x7cyWzWISHB4"
      },
      "source": [
        "model = Sequential()\n",
        "\n",
        "def MODEL_LSTM(univariate, x_train, x_test, y_train, y_test, Num_Exp, n_steps_in, n_steps_out, Epochs, Hidden):\n",
        "\n",
        "  train_acc = np.zeros(Num_Exp)\n",
        "  test_acc = np.zeros(Num_Exp)\n",
        " \n",
        "  model.add(LSTM(Hidden, activation='relu', input_shape=(n_steps_in, n_features), dropout=0.2))\n",
        "  # model.add(Dense(Hidden)) (No particular need of this)\n",
        "  model.add(Dense(n_steps_out))\n",
        "  model.compile(optimizer='adam', loss='mse')\n",
        "  model.summary()\n",
        "\n",
        "  y_predicttest_allruns = np.zeros([Num_Exp, x_test.shape[0], n_steps_out])\n",
        "\n",
        "  print(y_predicttest_allruns.shape, ' shape ')\n",
        "\n",
        "\n",
        "  Best_RMSE = 1000  # Assigning a large number\n",
        "\n",
        "  start_time = time.time()\n",
        "  for run in range(Num_Exp):\n",
        "    print(\"Experiment\", run + 1, \"in progress\")\n",
        "    # fit model\n",
        "    model.fit(x_train, y_train, epochs=Epochs, batch_size=10, verbose=0, shuffle=False)\n",
        "    y_predicttrain = model.predict(x_train)\n",
        "    y_predicttest = model.predict(x_test)\n",
        "    y_predicttest_allruns[run,:,:] = y_predicttest\n",
        "    train_acc[run] = rmse(y_predicttrain, y_train)\n",
        "    print(train_acc[run], 'train accuracy')\n",
        "    test_acc[run] = rmse(y_predicttest, y_test)\n",
        "    if test_acc[run] < Best_RMSE:\n",
        "      Best_RMSE = test_acc[run]\n",
        "      Best_Predict_Test = y_predicttest\n",
        "\n",
        "  print(\"Total time for\", Num_Exp, \"experiments\", time.time() - start_time)\n",
        "  return train_acc, test_acc, Best_Predict_Test, y_predicttrain, y_predicttest, y_predicttest_allruns"
      ],
      "execution_count": null,
      "outputs": []
    },
    {
      "cell_type": "code",
      "metadata": {
        "colab": {
          "base_uri": "https://localhost:8080/"
        },
        "id": "0eRbiJMD3-Ho",
        "outputId": "16498076-ae25-49ab-c163-85a42c7c08ad"
      },
      "source": [
        "train_acc, test_acc,Best_Predict_Test, y_predicttrain, y_predicttest, y_predicttest_allruns = MODEL_LSTM(univariate,x_train,x_test,y_train,y_test,Num_Exp,n_steps_in,n_steps_out,Epochs, Hidden)\n"
      ],
      "execution_count": null,
      "outputs": [
        {
          "output_type": "stream",
          "text": [
            "Model: \"sequential_5\"\n",
            "_________________________________________________________________\n",
            "Layer (type)                 Output Shape              Param #   \n",
            "=================================================================\n",
            "lstm_8 (LSTM)                (None, 10)                480       \n",
            "_________________________________________________________________\n",
            "dense_5 (Dense)              (None, 3)                 33        \n",
            "=================================================================\n",
            "Total params: 513\n",
            "Trainable params: 513\n",
            "Non-trainable params: 0\n",
            "_________________________________________________________________\n",
            "(2, 728, 3)  shape \n",
            "Experiment 1 in progress\n",
            "0.3685741749734835 train accuracy\n",
            "Experiment 2 in progress\n",
            "0.3608747686976727 train accuracy\n",
            "Total time for 2 experiments 197.0345594882965\n"
          ],
          "name": "stdout"
        }
      ]
    },
    {
      "cell_type": "code",
      "metadata": {
        "colab": {
          "base_uri": "https://localhost:8080/"
        },
        "id": "95t29XWX4B9K",
        "outputId": "c6a38484-4073-4b8c-e217-3c27d9f921cc"
      },
      "source": [
        "print(train_acc, test_acc) \n",
        "mean_train = np.mean(train_acc, axis=0)\n",
        "mean_test = np.mean(test_acc, axis=0)\n",
        "print(mean_train, 'mean rmse train') \n",
        "print(mean_test, 'mean rmse test')"
      ],
      "execution_count": null,
      "outputs": [
        {
          "output_type": "stream",
          "text": [
            "[0.36857417 0.36087477] [0.44055375 0.43570608]\n",
            "0.3647244718355781 mean rmse train\n",
            "0.4381299127685311 mean rmse test\n"
          ],
          "name": "stdout"
        }
      ]
    },
    {
      "cell_type": "code",
      "metadata": {
        "colab": {
          "base_uri": "https://localhost:8080/"
        },
        "id": "ywhrY2g-4EAg",
        "outputId": "9f938302-2067-4165-ea23-006ba9cde62a"
      },
      "source": [
        "y_predicttrain.shape"
      ],
      "execution_count": null,
      "outputs": [
        {
          "output_type": "execute_result",
          "data": {
            "text/plain": [
              "(8626, 1)"
            ]
          },
          "metadata": {
            "tags": []
          },
          "execution_count": 31
        }
      ]
    },
    {
      "cell_type": "code",
      "metadata": {
        "colab": {
          "base_uri": "https://localhost:8080/"
        },
        "id": "m1HyYc4B8iC_",
        "outputId": "031ae611-3b4c-46bb-c6fb-4737610e6c87"
      },
      "source": [
        "y_train.shape"
      ],
      "execution_count": null,
      "outputs": [
        {
          "output_type": "execute_result",
          "data": {
            "text/plain": [
              "(8626, 1)"
            ]
          },
          "metadata": {
            "tags": []
          },
          "execution_count": 32
        }
      ]
    },
    {
      "cell_type": "code",
      "metadata": {
        "colab": {
          "base_uri": "https://localhost:8080/"
        },
        "id": "8lqws86e9Ius",
        "outputId": "30ab6369-d4b0-49e4-b3a7-3d80ea7c25ce"
      },
      "source": [
        "dataset"
      ],
      "execution_count": null,
      "outputs": [
        {
          "output_type": "execute_result",
          "data": {
            "text/plain": [
              "array([[-0.94358799,  0.66878293, -0.98138094],\n",
              "       [-0.86136489,  0.58367639, -0.98138094],\n",
              "       [-0.77914179,  0.49005919, -0.78866885],\n",
              "       ...,\n",
              "       [-1.86859786,  1.24750741, -0.40324466],\n",
              "       [-1.95082096,  1.30708199, -0.59595675],\n",
              "       [-2.05359984,  1.3241033 , -0.78866885]])"
            ]
          },
          "metadata": {
            "tags": []
          },
          "execution_count": 33
        }
      ]
    },
    {
      "cell_type": "code",
      "metadata": {
        "colab": {
          "base_uri": "https://localhost:8080/"
        },
        "id": "BX6U9SeB9O71",
        "outputId": "cff24653-ac43-437a-dcb5-7e3bc2c21ed1"
      },
      "source": [
        "x_train"
      ],
      "execution_count": null,
      "outputs": [
        {
          "output_type": "execute_result",
          "data": {
            "text/plain": [
              "array([[[-0.94358799,  0.66878293],\n",
              "        [-0.86136489,  0.58367639],\n",
              "        [-0.77914179,  0.49005919]],\n",
              "\n",
              "       [[-0.86136489,  0.58367639],\n",
              "        [-0.77914179,  0.49005919],\n",
              "        [-0.71747447,  0.39644199]],\n",
              "\n",
              "       [[-0.77914179,  0.49005919],\n",
              "        [-0.71747447,  0.39644199],\n",
              "        [-0.67636292,  0.3028248 ]],\n",
              "\n",
              "       ...,\n",
              "\n",
              "       [[-0.18302432,  1.06027302],\n",
              "        [-0.03913389,  1.04325171],\n",
              "        [ 0.02253343,  0.99218779]],\n",
              "\n",
              "       [[-0.03913389,  1.04325171],\n",
              "        [ 0.02253343,  0.99218779],\n",
              "        [ 0.08420076,  0.94963452]],\n",
              "\n",
              "       [[ 0.02253343,  0.99218779],\n",
              "        [ 0.08420076,  0.94963452],\n",
              "        [ 0.18697963,  0.9155919 ]]])"
            ]
          },
          "metadata": {
            "tags": []
          },
          "execution_count": 43
        }
      ]
    },
    {
      "cell_type": "code",
      "metadata": {
        "id": "xetm5SHt_Re8"
      },
      "source": [
        ""
      ],
      "execution_count": null,
      "outputs": []
    },
    {
      "cell_type": "code",
      "metadata": {
        "id": "s7SFH22W_Fp-"
      },
      "source": [
        ""
      ],
      "execution_count": null,
      "outputs": []
    }
  ]
}