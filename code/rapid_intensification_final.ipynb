{
  "nbformat": 4,
  "nbformat_minor": 0,
  "metadata": {
    "accelerator": "GPU",
    "colab": {
      "name": "ri_sp.ipynb",
      "provenance": [],
      "collapsed_sections": []
    },
    "kernelspec": {
      "display_name": "Python 3",
      "name": "python3"
    },
    "language_info": {
      "name": "python"
    }
  },
  "cells": [
    {
      "cell_type": "code",
      "metadata": {
        "id": "AOAN2U2x9JrA"
      },
      "source": [
        "import copy\n",
        "import numpy as np\n",
        "import sklearn\n",
        "import pandas as pd\n",
        "import matplotlib.pyplot as plt\n",
        "from keras.models import Sequential\n",
        "from keras.layers import Dense\n",
        "from keras.layers import Activation\n",
        "from keras.layers import LSTM\n",
        "from keras.layers import Bidirectional\n",
        "from keras.layers import RepeatVector\n",
        "from keras.layers import TimeDistributed\n",
        "from numpy import hstack\n",
        "from sklearn.preprocessing import StandardScaler\n",
        "import datetime\n",
        "import time\n",
        "import joblib\n",
        "from datetime import timedelta, date\n",
        "import tensorflow as tf\n",
        "from sklearn.preprocessing import MinMaxScaler\n",
        "from numpy import array\n",
        "from tensorflow.keras.utils import to_categorical\n",
        "from sklearn.metrics import precision_score, recall_score\n",
        "from sklearn.metrics import f1_score\n",
        "import matplotlib.pyplot as plt\n",
        "import os\n",
        "import seaborn as sns; sns.set_theme() \n",
        "import errno\n",
        "from keras.layers.convolutional import Conv1D\n",
        "from keras.layers.convolutional import MaxPooling1D\n",
        "from keras.layers import Flatten\n",
        "from keras.layers import ConvLSTM2D\n",
        "from keras.models import load_model\n",
        "import pickle\n",
        "from sklearn.metrics import accuracy_score, roc_curve, auc, classification_report, confusion_matrix\n",
        "from scipy import interp\n",
        "from imblearn.over_sampling import SMOTE\n",
        "from collections import Counter\n",
        "import imblearn\n",
        "import collections\n",
        "from sklearn.datasets import make_classification\n",
        "from sklearn.linear_model import LogisticRegression\n",
        "from sklearn.model_selection import train_test_split\n",
        "from sklearn.metrics import precision_recall_curve\n",
        "from sklearn.metrics import f1_score\n",
        "from matplotlib import pyplot"
      ],
      "execution_count": null,
      "outputs": []
    },
    {
      "cell_type": "code",
      "metadata": {
        "id": "JPL7ejJ69Qvo"
      },
      "source": [
        "def load_data_south_indian(url):\n",
        "  df = pd.read_csv(url)\n",
        "  #df.columns = ['id','date','longitude','latitude','speed']\n",
        "  #df = df.drop(['date'], axis = 1)\n",
        "  df['category'] = df['Speed(knots)'].apply(lambda x: \n",
        "  0 if x<=33 else 1  if x<=47 and x>=34 else 2 if x<=63 and x>=48 else 3 if x<=89 and x>=64 else 4 if x<=115 and x>=90 else 5 )\n",
        "  return df\n",
        "\n",
        "def load_data_south_pacific(url):\n",
        "  df = pd.read_csv(url)\n",
        "  #df.columns = ['id','date','longitude','latitude','speed']\n",
        "  #df = df.drop(['date'], axis = 1)\n",
        "  df['category'] = df['Speed(knots)'].apply(lambda x: \n",
        "  0 if x<=33 else 1  if x<=47 and x>=34 else 2 if x<=63 and x>=48 else 3 if x<=85 and x>=64 else 4 if x<=107 and x>=86 else 5 )\n",
        "  return df"
      ],
      "execution_count": null,
      "outputs": []
    },
    {
      "cell_type": "code",
      "metadata": {
        "colab": {
          "base_uri": "https://localhost:8080/"
        },
        "id": "7EvJumXX9WWC",
        "outputId": "ff6b575b-35c7-48e2-b707-641da473a6da"
      },
      "source": [
        "ocean = 'south_pacific'  #south_indian or south_pacific\n",
        "print(ocean)\n",
        "\n",
        "if ocean == 'south_indian':\n",
        "    url_data = 'https://raw.githubusercontent.com/sydney-machine-learning/cyclonedatasets/main/SouthIndian-SouthPacific-Ocean/South_indian_hurricane.csv'\n",
        "    function = load_data_south_indian\n",
        "    hot_encoded_result_file_name = 'south_indian'\n",
        "    category_result_file_name = 'roc_data_south_indian'\n",
        "else:\n",
        "    url_data = 'https://raw.githubusercontent.com/sydney-machine-learning/cyclonedatasets/main/SouthIndian-SouthPacific-Ocean/South_pacific_hurricane.csv'\n",
        "    function = load_data_south_pacific\n",
        "    hot_encoded_result_file_name = 'south_pacific'\n",
        "    category_result_file_name = 'roc_data_south_pacific' "
      ],
      "execution_count": null,
      "outputs": [
        {
          "name": "stdout",
          "output_type": "stream",
          "text": [
            "south_pacific\n"
          ]
        }
      ]
    },
    {
      "cell_type": "code",
      "metadata": {
        "colab": {
          "base_uri": "https://localhost:8080/",
          "height": 206
        },
        "id": "P5GxeAk79bKE",
        "outputId": "69d2fd7a-7ece-4536-edde-aa84fbe25e81"
      },
      "source": [
        "df = function(url_data)\n",
        "speed = df['Speed(knots)'].tolist()\n",
        "categories = df['category'].tolist()\n",
        "df.head()"
      ],
      "execution_count": null,
      "outputs": [
        {
          "data": {
            "text/html": [
              "<div>\n",
              "<style scoped>\n",
              "    .dataframe tbody tr th:only-of-type {\n",
              "        vertical-align: middle;\n",
              "    }\n",
              "\n",
              "    .dataframe tbody tr th {\n",
              "        vertical-align: top;\n",
              "    }\n",
              "\n",
              "    .dataframe thead th {\n",
              "        text-align: right;\n",
              "    }\n",
              "</style>\n",
              "<table border=\"1\" class=\"dataframe\">\n",
              "  <thead>\n",
              "    <tr style=\"text-align: right;\">\n",
              "      <th></th>\n",
              "      <th>Basin</th>\n",
              "      <th>No. of Cycl</th>\n",
              "      <th>Time</th>\n",
              "      <th>V5</th>\n",
              "      <th>V6</th>\n",
              "      <th>Lat</th>\n",
              "      <th>Lon</th>\n",
              "      <th>Speed(knots)</th>\n",
              "      <th>lat_tenth</th>\n",
              "      <th>lon_tenth</th>\n",
              "      <th>category</th>\n",
              "    </tr>\n",
              "  </thead>\n",
              "  <tbody>\n",
              "    <tr>\n",
              "      <th>0</th>\n",
              "      <td>SP</td>\n",
              "      <td>14</td>\n",
              "      <td>1982012518</td>\n",
              "      <td>BEST</td>\n",
              "      <td>0</td>\n",
              "      <td>180S</td>\n",
              "      <td>1541E</td>\n",
              "      <td>25</td>\n",
              "      <td>18.0</td>\n",
              "      <td>154.1</td>\n",
              "      <td>0</td>\n",
              "    </tr>\n",
              "    <tr>\n",
              "      <th>1</th>\n",
              "      <td>SP</td>\n",
              "      <td>14</td>\n",
              "      <td>1982012600</td>\n",
              "      <td>BEST</td>\n",
              "      <td>0</td>\n",
              "      <td>191S</td>\n",
              "      <td>1548E</td>\n",
              "      <td>25</td>\n",
              "      <td>19.1</td>\n",
              "      <td>154.8</td>\n",
              "      <td>0</td>\n",
              "    </tr>\n",
              "    <tr>\n",
              "      <th>2</th>\n",
              "      <td>SP</td>\n",
              "      <td>14</td>\n",
              "      <td>1982012606</td>\n",
              "      <td>BEST</td>\n",
              "      <td>0</td>\n",
              "      <td>197S</td>\n",
              "      <td>1557E</td>\n",
              "      <td>25</td>\n",
              "      <td>19.7</td>\n",
              "      <td>155.7</td>\n",
              "      <td>0</td>\n",
              "    </tr>\n",
              "    <tr>\n",
              "      <th>3</th>\n",
              "      <td>SP</td>\n",
              "      <td>14</td>\n",
              "      <td>1982012612</td>\n",
              "      <td>BEST</td>\n",
              "      <td>0</td>\n",
              "      <td>199S</td>\n",
              "      <td>1567E</td>\n",
              "      <td>30</td>\n",
              "      <td>19.9</td>\n",
              "      <td>156.7</td>\n",
              "      <td>0</td>\n",
              "    </tr>\n",
              "    <tr>\n",
              "      <th>4</th>\n",
              "      <td>SP</td>\n",
              "      <td>14</td>\n",
              "      <td>1982012618</td>\n",
              "      <td>BEST</td>\n",
              "      <td>0</td>\n",
              "      <td>201S</td>\n",
              "      <td>1578E</td>\n",
              "      <td>35</td>\n",
              "      <td>20.1</td>\n",
              "      <td>157.8</td>\n",
              "      <td>1</td>\n",
              "    </tr>\n",
              "  </tbody>\n",
              "</table>\n",
              "</div>"
            ],
            "text/plain": [
              "  Basin  No. of Cycl        Time  ... lat_tenth  lon_tenth category\n",
              "0    SP           14  1982012518  ...      18.0      154.1        0\n",
              "1    SP           14  1982012600  ...      19.1      154.8        0\n",
              "2    SP           14  1982012606  ...      19.7      155.7        0\n",
              "3    SP           14  1982012612  ...      19.9      156.7        0\n",
              "4    SP           14  1982012618  ...      20.1      157.8        1\n",
              "\n",
              "[5 rows x 11 columns]"
            ]
          },
          "execution_count": 60,
          "metadata": {},
          "output_type": "execute_result"
        }
      ]
    },
    {
      "cell_type": "code",
      "metadata": {
        "id": "U3ifbDar9ecd"
      },
      "source": [
        "def split_sequence(sequences, n_steps_in, n_steps_out):\n",
        "\tX, y = list(), list()\n",
        "\tfor i in range(len(sequences)):\n",
        "\t\t# find the end of this pattern\n",
        "\t\tend_ix = i + n_steps_in\n",
        "\t\tout_end_ix = end_ix + n_steps_out\n",
        "\t\t# check if we are beyond the dataset\n",
        "\t\tif out_end_ix > len(sequences):\n",
        "\t\t\tbreak\n",
        "\t\t# gather input and output parts of the pattern\n",
        "\t\tseq_x, seq_y = sequences[i:end_ix, :], sequences[end_ix:out_end_ix, -1 ]\n",
        "\t\tX.append(seq_x)\n",
        "\t\ty.append(seq_y)\n",
        "\treturn array(X), array(y)\n",
        " \n",
        "# split a univariate sequence into samples\n",
        "def uni_split_sequence(sequence, n_steps):\n",
        "\tX, y = list(), list()\n",
        "\tfor i in range(len(sequence)):\n",
        "\t\t# find the end of this pattern\n",
        "\t\tend_ix = i + n_steps\n",
        "\t\t# check if we are beyond the sequence\n",
        "\t\tif end_ix > len(sequence)-1:\n",
        "\t\t\tbreak\n",
        "\t\t# gather input and output parts of the pattern\n",
        "\t\tseq_x, seq_y = sequence[i:end_ix], sequence[end_ix]\n",
        "\t\tX.append(seq_x)\n",
        "\t\ty.append(seq_y)\n",
        "\treturn array(X), array(y) \n",
        " \n",
        "def rmse(pred, actual):\n",
        "    return np.sqrt(((pred-actual) ** 2).mean())\n",
        "\n",
        "def categorical(pred, actual):\n",
        "  cm = confusion_matrix(pred,actual)\n",
        "  ps = precision_score(pred,actual,average='micro')\n",
        "  rs = recall_score(pred,actual,average='micro')\n",
        "  f1 = f1_score(pred,actual, average = 'micro')\n",
        "  return cm,ps,rs,f1\n",
        "\n",
        "def make_confusion_matrix_chart(cf_matrix_test):\n",
        "    plt.figure(1, figsize=(10,5))\n",
        "    sns.heatmap(cf_matrix_test, annot=True, yticklabels=['0','1'], \n",
        "                                xticklabels=['0','1'], fmt='g')\n",
        "    plt.ylabel(\"Actual\")\n",
        "    plt.xlabel(\"Pred\")\n",
        "    plt.title('Test data')\n",
        "    return None  "
      ],
      "execution_count": null,
      "outputs": []
    },
    {
      "cell_type": "code",
      "metadata": {
        "id": "yvKP7IKqymiw"
      },
      "source": [
        "univariate = True # if false, its multivariate case\n",
        "n_steps_in = 4\n",
        "n_seq = 2\n",
        "n_steps_out = 1\n",
        "n_features_in = 1 #speed\n",
        "n_features_out = 2 # one hot encoding of category\n",
        "Hidden = 10\n",
        "Epochs = 100\n",
        "Num_Exp = 30"
      ],
      "execution_count": null,
      "outputs": []
    },
    {
      "cell_type": "code",
      "metadata": {
        "id": "-j1-OIjJ9nA8"
      },
      "source": [
        "id = df['No. of Cycl'][0]\n",
        "count = 0\n",
        "X = []\n",
        "Y = []\n",
        "start_index=0\n",
        "end_index=0\n",
        "for i in range(1, df.shape[0]):\n",
        "  if df['No. of Cycl'][i] == id :\n",
        "    end_index+=1\n",
        "  else:\n",
        "    x,y = uni_split_sequence(speed[start_index:end_index+1], n_steps_in)\n",
        "    X.append(x)\n",
        "    Y.append(y)\n",
        "    id = df['No. of Cycl'][i]\n",
        "    start_index=i\n",
        "    end_index=i\n",
        "  if i == df.shape[0]-1:   \n",
        "    x,y = uni_split_sequence(speed[start_index:end_index+1], n_steps_in)\n",
        "    X.append(x)\n",
        "    Y.append(y)    "
      ],
      "execution_count": null,
      "outputs": []
    },
    {
      "cell_type": "code",
      "metadata": {
        "colab": {
          "base_uri": "https://localhost:8080/"
        },
        "id": "aoEReuBL9rCr",
        "outputId": "5b9e3cd5-7da4-4836-fd7c-a88e917eaa3f"
      },
      "source": [
        "print(len(X), len(Y))\n",
        "X = [item for sublist in X for item in sublist]\n",
        "Y = [item for sublist in Y for item in sublist]\n",
        "print(len(X), len(Y))\n",
        "print(X[0], Y[0], X[1], Y[1])\n",
        "print(speed[:10])"
      ],
      "execution_count": null,
      "outputs": [
        {
          "name": "stdout",
          "output_type": "stream",
          "text": [
            "391 391\n",
            "10460 10460\n",
            "[25 25 25 30] 35 [25 25 30 35] 40\n",
            "[25, 25, 25, 30, 35, 40, 40, 40, 40, 40]\n"
          ]
        }
      ]
    },
    {
      "cell_type": "code",
      "metadata": {
        "colab": {
          "base_uri": "https://localhost:8080/"
        },
        "id": "abT14GsW9sx7",
        "outputId": "ae16867d-c3ab-43d7-924c-1fbbdb00e151"
      },
      "source": [
        "intensify_y = []\n",
        "for i in range(len(X)):\n",
        "  if Y[i]-X[i][0]>=30:\n",
        "    intensify_y.append(1)\n",
        "  else:\n",
        "    intensify_y.append(0)\n",
        "print(len(intensify_y))\n",
        "speed_y = Y\n",
        "Y=intensify_y"
      ],
      "execution_count": null,
      "outputs": [
        {
          "name": "stdout",
          "output_type": "stream",
          "text": [
            "10460\n"
          ]
        }
      ]
    },
    {
      "cell_type": "code",
      "metadata": {
        "colab": {
          "base_uri": "https://localhost:8080/"
        },
        "id": "lpAc1ilO-xWk",
        "outputId": "f1ac4a30-9298-4289-dbd1-e0079e594160"
      },
      "source": [
        "train_limit = int(len(X)*70/100)\n",
        "train_limit"
      ],
      "execution_count": null,
      "outputs": [
        {
          "data": {
            "text/plain": [
              "7322"
            ]
          },
          "execution_count": 66,
          "metadata": {},
          "output_type": "execute_result"
        }
      ]
    },
    {
      "cell_type": "code",
      "metadata": {
        "colab": {
          "base_uri": "https://localhost:8080/"
        },
        "id": "FqzfTLPbgnxt",
        "outputId": "c21d9472-0eb0-4f4a-d8e2-7e611bc66a34"
      },
      "source": [
        "test_X_original = X[train_limit+1:]\n",
        "#X_original = X[:train_limit]\n",
        "#X_original = np.asarray(X_original).astype(float)\n",
        "test_Y_original = Y[train_limit+1:]\n",
        "#Y_original = Y[:train_limit]\n",
        "len(X), len(Y), len(test_X_original), len(test_Y_original)"
      ],
      "execution_count": null,
      "outputs": [
        {
          "data": {
            "text/plain": [
              "(10460, 10460, 3137, 3137)"
            ]
          },
          "execution_count": 67,
          "metadata": {},
          "output_type": "execute_result"
        }
      ]
    },
    {
      "cell_type": "code",
      "metadata": {
        "id": "aknEoD6dXGde"
      },
      "source": [
        "X = MinMaxScaler().fit_transform(np.asarray(X))"
      ],
      "execution_count": null,
      "outputs": []
    },
    {
      "cell_type": "code",
      "metadata": {
        "colab": {
          "base_uri": "https://localhost:8080/"
        },
        "id": "lNQvG3PZ-3I4",
        "outputId": "e83f6481-7c67-4613-ef6c-a9d4b9ae40bf"
      },
      "source": [
        "speed_x = X\n",
        "test_X = X[train_limit+1:]\n",
        "test_X = np.asarray(test_X).astype(float)\n",
        "test_Y = Y[train_limit+1:]\n",
        "X = X[:train_limit]\n",
        "X = np.asarray(X).astype(float)\n",
        "Y = Y[:train_limit]\n",
        "print(len(test_X), len(test_Y))\n",
        "len(X), len(Y)"
      ],
      "execution_count": null,
      "outputs": [
        {
          "name": "stdout",
          "output_type": "stream",
          "text": [
            "3137 3137\n"
          ]
        },
        {
          "data": {
            "text/plain": [
              "(7322, 7322)"
            ]
          },
          "execution_count": 69,
          "metadata": {},
          "output_type": "execute_result"
        }
      ]
    },
    {
      "cell_type": "code",
      "metadata": {
        "colab": {
          "base_uri": "https://localhost:8080/"
        },
        "id": "Rn2Xw0vDAZ4n",
        "outputId": "db5206bb-cf9b-4773-d2c3-15f1fa5adb2e"
      },
      "source": [
        "counter_train = Counter(Y)\n",
        "counter_test = Counter(test_Y)\n",
        "#counter = collections.OrderedDict(sorted(counter.items()))\n",
        "print(\"train data: \", counter_train)\n",
        "print(\"test data: \", counter_test)"
      ],
      "execution_count": null,
      "outputs": [
        {
          "name": "stdout",
          "output_type": "stream",
          "text": [
            "train data:  Counter({0: 6934, 1: 388})\n",
            "test data:  Counter({0: 3095, 1: 42})\n"
          ]
        }
      ]
    },
    {
      "cell_type": "code",
      "metadata": {
        "colab": {
          "base_uri": "https://localhost:8080/",
          "height": 566
        },
        "id": "Viy_k8szAeRi",
        "outputId": "2280bffa-64b3-4f98-b39e-a022160b8af0"
      },
      "source": [
        "plt.figure()\n",
        "#fig = plt.subplots(figsize =(20, 12))\n",
        "fig, ax = plt.subplots(figsize = (12,8))\n",
        "plt.bar(range(len(counter_train)), list(counter_train.values()), align='center')\n",
        "plt.xticks(range(len(counter_train)), list(counter_train.keys()))\n",
        "plt.xlabel('Category', size=40)\n",
        "plt.ylabel('Number', size=40)\n",
        "#plt.title('ROC' + ' (' + str(no_of_output_steps) + ' steps ahead, ' + model.capitalize() + ', Time step: ' + str(time_step) + ') - ' + train_or_test.capitalize() + ' (' + ocean + '_ocean)')\n",
        "ax.tick_params(axis='both', which='major', labelsize=30)\n",
        "plt.savefig(ocean + '_class_dist.png', dpi=300, transparent=False, bbox_inches='tight')\n",
        "plt.show()"
      ],
      "execution_count": null,
      "outputs": [
        {
          "data": {
            "text/plain": [
              "<Figure size 432x288 with 0 Axes>"
            ]
          },
          "metadata": {},
          "output_type": "display_data"
        },
        {
          "data": {
            "image/png": "[encoded data removed]",
            "text/plain": [
              "<Figure size 864x576 with 1 Axes>"
            ]
          },
          "metadata": {},
          "output_type": "display_data"
        }
      ]
    },
    {
      "cell_type": "code",
      "metadata": {
        "id": "Iw5div8vBVfa"
      },
      "source": [
        "def vanilla(n_steps_in,n_steps_out,n_features_in, n_features_out):\n",
        "  model = Sequential()\n",
        "  model.add(LSTM(50, activation='relu', input_shape=(n_steps_in, n_features_in)))\n",
        "  model.add(Dense(n_features_out, activation = \"softmax\"))\n",
        "  model.compile(optimizer='adam', loss='binary_crossentropy')\n",
        "  return model\n",
        " \n",
        "  #model = Sequential()\n",
        "  #model.add(LSTM(Hidden, activation='relu', input_shape=(n_steps_in, n_features_in)))\n",
        "  #model.add(RepeatVector(n_steps_out))\n",
        "  #model.add(LSTM(Hidden, activation='relu', return_sequences=True))\n",
        "  #model.add(TimeDistributed(Dense(n_features_out, activation = \"softmax\")))\n",
        "  #model.compile(optimizer='adam', loss='categorical_crossentropy')\n",
        "  #return model\n",
        "\n",
        "def bidirectional(n_steps_in,n_steps_out,n_features_in, n_features_out):\n",
        "  model = Sequential()\n",
        "  model.add(Bidirectional(LSTM(Hidden, activation='relu', input_shape=(n_steps_in, n_features_in))))\n",
        "  model.add(Dense(n_features_out, activation = \"softmax\"))\n",
        "  model.compile(optimizer='adam', loss='binary_crossentropy')\n",
        "  return model\n",
        "\n",
        "def cnn_lstm(n_steps_in,n_steps_out,n_features_in, n_features_out, n_seq):\n",
        "  model = Sequential()\n",
        "  model.add(TimeDistributed(Conv1D(filters=64, kernel_size=1, activation='relu'), input_shape=(None, int(n_steps_in/n_seq), n_features_in)))\n",
        "  model.add(TimeDistributed(MaxPooling1D(pool_size=2)))\n",
        "  model.add(TimeDistributed(Flatten()))\n",
        "  model.add(LSTM(Hidden, activation='relu'))\n",
        "  model.add(Dense(n_features_out, activation = \"softmax\"))\n",
        "  model.compile(optimizer='adam', loss='binary_crossentropy')\n",
        "  return model\n",
        "\n",
        "def conv_lstm(n_steps_in,n_steps_out,n_features_in, n_features_out, n_seq):\n",
        "  model = Sequential()\n",
        "  model.add(ConvLSTM2D(filters=64, kernel_size=(1,2), activation='relu', input_shape=(n_seq, 1, int(n_steps_in/n_seq), n_features_in)))\n",
        "  model.add(Flatten())\n",
        "  model.add(Dense(n_features_out, activation = \"softmax\"))\n",
        "  model.compile(optimizer='adam', loss='binary_crossentropy')\n",
        "  return model"
      ],
      "execution_count": null,
      "outputs": []
    },
    {
      "cell_type": "code",
      "metadata": {
        "id": "bUwvDk52JTbt"
      },
      "source": [
        "#all models\n",
        "def MODEL_LSTM(model_name, method, univariate, x_train, x_test, y_train, y_test, Num_Exp, n_steps_in, n_steps_out, Epochs, Hidden):\n",
        "\n",
        "    train_acc = np.zeros(Num_Exp)\n",
        "    test_acc = np.zeros(Num_Exp)\n",
        "\n",
        "    if model_name == 'vanilla':\n",
        "      model = vanilla(n_steps_in,n_steps_out,n_features_in, n_features_out)\n",
        "    elif model_name == 'bidirectional':\n",
        "      model = bidirectional(n_steps_in,n_steps_out,n_features_in, n_features_out)\n",
        "    elif model_name == 'cnn-lstm':\n",
        "      model = cnn_lstm(n_steps_in,n_steps_out,n_features_in,n_features_out,n_seq)\n",
        "    elif model_name == 'conv-lstm':\n",
        "      model = conv_lstm(n_steps_in,n_steps_out,n_features_in,n_features_out,n_seq)\n",
        "    \n",
        "    model.summary()\n",
        "\n",
        "    y_predicttest_allruns = np.zeros([Num_Exp, x_test.shape[0], y_test.shape[1]])\n",
        "\n",
        "    #print(y_predicttest_allruns.shape, ' shape ')\n",
        "\n",
        "\n",
        "    Best_f1 = 0  # Assigning a small number\n",
        "    act_test = [y_test[i].argmax() for i in range(y_test.shape[0])]\n",
        "    act_train = [y_train[i].argmax() for i in range(y_train.shape[0])]\n",
        "    start_time = time.time()\n",
        "    Best_report_train = dict()\n",
        "    Best_report_test = dict()\n",
        "    all_report_train=dict()\n",
        "    all_report_test=dict()\n",
        "    for run in range(Num_Exp):\n",
        "        print(\"Experiment\", run + 1, \"in progress\")\n",
        "        # fit model\n",
        "        model.fit(x_train, y_train, epochs=Epochs, batch_size=10, verbose=0, shuffle=False)\n",
        "        #scores = model.predict_proba(x_test)\n",
        "        y_predicttrain = model.predict(x_train)\n",
        "        y_predicttest = model.predict(x_test)\n",
        "        #y_predicttest_allruns[run,:,:] = y_predicttest\n",
        "        #train_acc[run] = rmse(y_predicttrain, y_train)\n",
        "        #print(train_acc[run], 'train accuracy')\n",
        "        #test_acc[run] = rmse(y_predicttest, y_test)\n",
        "        pred_test = [y_predicttest[i].argmax() for i in range(y_predicttest.shape[0])]\n",
        "        pred_train = [y_predicttrain[i].argmax() for i in range(y_predicttrain.shape[0])]\n",
        "        report_train = classification_report(act_train, pred_train, labels=[0,1], output_dict=True)\n",
        "        report_test = classification_report(act_test, pred_test, labels=[0,1], output_dict=True)\n",
        "        #test_acc[run] = f1_score(pred,act, average = 'binary')\n",
        "        all_report_train[run] = report_train\n",
        "        all_report_test[run] = report_test\n",
        "        test_acc[run] = report_test['1']['f1-score']\n",
        "        print(\"train acc: \", report_train['1']['f1-score'])        \n",
        "        print(\"test acc: \", test_acc[run])\n",
        "        if test_acc[run] > Best_f1:\n",
        "            Best_f1 = test_acc[run]\n",
        "            Best_Predict_Test = y_predicttest\n",
        "            Best_report_train, Best_report_test = report_train, report_test\n",
        "    model.save(\"model_\" + ocean+\"_\"+model_name+\"_\"+method+'.h5')  \n",
        "    train_std = np.std(train_acc)\n",
        "    test_std = np.std(test_acc)\n",
        "    print(\"Total time for\", Num_Exp, \"experiments\", time.time() - start_time)\n",
        "    print(\"f1 scores for test data: \", test_acc)\n",
        "    print(\"mean: \", np.mean(test_acc), \"std dev: \", test_std)\n",
        "    return train_acc, test_acc, train_std, test_std, Best_Predict_Test, y_predicttrain, y_predicttest, all_report_train, all_report_test"
      ],
      "execution_count": null,
      "outputs": []
    },
    {
      "cell_type": "code",
      "metadata": {
        "colab": {
          "base_uri": "https://localhost:8080/"
        },
        "id": "GCcCV5jyFE5A",
        "outputId": "0025772d-2579-4c41-b64f-73edd012e894"
      },
      "source": [
        "#idx = np.random.permutation(len(X_smote))\n",
        "idx = np.random.permutation(len(X))\n",
        "print(len(idx))\n",
        "x_shuffled = []\n",
        "y_shuffled = []\n",
        "for i in idx:\n",
        "  #x_shuffled.append(X_smote[i])\n",
        "  #y_shuffled.append(Y_smote[i])\n",
        "  x_shuffled.append(X[i])\n",
        "  y_shuffled.append(Y[i])"
      ],
      "execution_count": null,
      "outputs": [
        {
          "name": "stdout",
          "output_type": "stream",
          "text": [
            "7322\n"
          ]
        }
      ]
    },
    {
      "cell_type": "code",
      "metadata": {
        "colab": {
          "base_uri": "https://localhost:8080/"
        },
        "id": "L8uZm8wWIpM1",
        "outputId": "ee90df25-e1d7-4bac-8399-89977c6405be"
      },
      "source": [
        "Y_hot_encoded_train =  np.asarray(to_categorical(y_shuffled))\n",
        "#Y_hot_encoded_train = Y_hot_encoded_train.reshape(len(y_shuffled), n_steps_out, n_features_out)\n",
        "\n",
        "Y_hot_encoded_test =  np.asarray(to_categorical(test_Y))\n",
        "#Y_hot_encoded_test = Y_hot_encoded_test.reshape(len(test_Y), n_steps_out, n_features_out)\n",
        "\n",
        "print(Y_hot_encoded_train.shape, Y_hot_encoded_test.shape)"
      ],
      "execution_count": null,
      "outputs": [
        {
          "name": "stdout",
          "output_type": "stream",
          "text": [
            "(7322, 2) (3137, 2)\n"
          ]
        }
      ]
    },
    {
      "cell_type": "code",
      "metadata": {
        "colab": {
          "base_uri": "https://localhost:8080/"
        },
        "id": "fUUYK__AVFV5",
        "outputId": "ccb11f61-bd50-457f-e03a-924836af32c9"
      },
      "source": [
        "x_shuffled[0], test_X[0]"
      ],
      "execution_count": null,
      "outputs": [
        {
          "data": {
            "text/plain": [
              "(array([0.57142857, 0.57142857, 0.60714286, 0.60714286]),\n",
              " array([0.07142857, 0.07142857, 0.10714286, 0.10714286]))"
            ]
          },
          "execution_count": 76,
          "metadata": {},
          "output_type": "execute_result"
        }
      ]
    },
    {
      "cell_type": "code",
      "metadata": {
        "id": "cwrbaCjXIpR6"
      },
      "source": [
        "#models = ['vanilla', 'bidirectional', 'cnn-lstm', 'conv-lstm']\n",
        "models = ['vanilla']\n",
        "predictions_train = dict()\n",
        "actual_train = dict()\n",
        "predictions_test = dict()\n",
        "actual_test = dict()\n",
        "metrics_train = dict()\n",
        "metrics_test = dict()\n",
        "test_acc_all = dict()\n",
        "test_stddev = dict()"
      ],
      "execution_count": null,
      "outputs": []
    },
    {
      "cell_type": "code",
      "metadata": {
        "colab": {
          "base_uri": "https://localhost:8080/"
        },
        "id": "UQ_9wHhVI2q2",
        "outputId": "73852c09-8bad-4a83-bf86-b56cd1c2b0ee"
      },
      "source": [
        "for j in range(1):\n",
        "    predictions_train_per_step = dict()\n",
        "    actual_train_per_step = dict()  \n",
        "    predictions_test_per_step = dict()\n",
        "    actual_test_per_step = dict()\n",
        "    metrics_train_per_step = dict()\n",
        "    metrics_test_per_step = dict()\n",
        "    test_acc_per_step = dict()\n",
        "    test_stddev_per_step = dict()\n",
        "    n_steps_out = j+1\n",
        "    print('---------------------------------------------------------')\n",
        "    print('no of steps out: ', n_steps_out)\n",
        "\n",
        "    for i in models:\n",
        "        print(\"for \" + i + \":\")\n",
        "\n",
        "        if i == 'vanilla' or i=='bidirectional':\n",
        "            x_train, y_train = np.asarray(x_shuffled), np.asarray(Y_hot_encoded_train)\n",
        "            x_test, y_test = np.asarray(test_X), np.asarray(Y_hot_encoded_test)\n",
        "            x_train = x_train.reshape((x_train.shape[0], x_train.shape[1], n_features_in))\n",
        "            x_test = x_test.reshape((x_test.shape[0], x_test.shape[1], n_features_in))\n",
        "        elif i == 'cnn-lstm':\n",
        "            x_train, y_train = np.asarray(x_shuffled), np.asarray(Y_hot_encoded_train)\n",
        "            x_test, y_test = np.asarray(test_X), np.asarray(Y_hot_encoded_test)\n",
        "            x_train = x_train.reshape((x_train.shape[0], n_seq, int(n_steps_in/n_seq), n_features_in))\n",
        "            x_test = x_test.reshape((x_test.shape[0], n_seq, int(n_steps_in/n_seq), n_features_in))\n",
        "        elif i=='conv-lstm':\n",
        "            x_train, y_train = np.asarray(x_shuffled), np.asarray(Y_hot_encoded_train)\n",
        "            x_test, y_test = np.asarray(test_X), np.asarray(Y_hot_encoded_test)\n",
        "            x_train = x_train.reshape((x_train.shape[0], n_seq, 1, int(n_steps_in/n_seq), n_features_in))\n",
        "            x_test = x_test.reshape((x_test.shape[0], n_seq, 1, int(n_steps_in/n_seq), n_features_in))\n",
        "        \n",
        "        #print(x_train.shape, x_test.shape, y_train.shape, y_test.shape)\n",
        "        train_acc, test_acc, train_std_dev, test_std_dev, Best_Predict_Test, y_predicttrain, y_predicttest, report_train, report_test = MODEL_LSTM(i,'original', univariate,x_train,x_test,y_train,y_test,Num_Exp,n_steps_in,n_steps_out,Epochs, Hidden)\n",
        "        predictions_train_per_step[i] = y_predicttrain\n",
        "        actual_train_per_step[i] = y_train\n",
        "        predictions_test_per_step[i] = Best_Predict_Test\n",
        "        actual_test_per_step[i] = y_test\n",
        "        metrics_train_per_step[i] = report_train\n",
        "        metrics_test_per_step[i] = report_test \n",
        "        test_acc_per_step[i] = test_acc\n",
        "        test_stddev_per_step[i] = test_std_dev\n",
        "    predictions_train[str(j+1)] = predictions_train_per_step \n",
        "    actual_train[str(j+1)] = actual_train_per_step\n",
        "    predictions_test[str(j+1)] = predictions_test_per_step \n",
        "    actual_test[str(j+1)] = actual_test_per_step\n",
        "    metrics_train[str(j+1)] = metrics_train_per_step\n",
        "    metrics_test[str(j+1)] = metrics_test_per_step\n",
        "    test_acc_all[str(j+1)] = test_acc_per_step\n",
        "    test_stddev[str(j+1)] = test_stddev_per_step\n",
        "  "
      ],
      "execution_count": null,
      "outputs": [
        {
          "name": "stdout",
          "output_type": "stream",
          "text": [
            "---------------------------------------------------------\n",
            "no of steps out:  1\n",
            "for vanilla:\n",
            "Model: \"sequential\"\n",
            "_________________________________________________________________\n",
            " Layer (type)                Output Shape              Param #   \n",
            "=================================================================\n",
            " lstm (LSTM)                 (None, 50)                10400     \n",
            "                                                                 \n",
            " dense (Dense)               (None, 2)                 102       \n",
            "                                                                 \n",
            "=================================================================\n",
            "Total params: 10,502\n",
            "Trainable params: 10,502\n",
            "Non-trainable params: 0\n",
            "_________________________________________________________________\n",
            "Experiment 1 in progress\n",
            "train acc:  0.7648578811369509\n",
            "test acc:  0.3516483516483516\n",
            "Experiment 2 in progress\n",
            "train acc:  0.7896174863387978\n",
            "test acc:  0.29629629629629634\n",
            "Experiment 3 in progress\n",
            "train acc:  0.7944055944055943\n",
            "test acc:  0.4155844155844156\n",
            "Total time for 3 experiments 565.9081189632416\n",
            "f1 scores for test data:  [0.35164835 0.2962963  0.41558442]\n",
            "mean:  0.3545096878430212 std dev:  0.04874118234401198\n"
          ]
        }
      ]
    },
    {
      "cell_type": "code",
      "metadata": {
        "id": "KAPDtCyDZ8bO"
      },
      "source": [
        "with open(\"predictions_\" + ocean + '_original' + '.pkl', 'wb') as f: \n",
        "    pickle.dump([predictions_train,actual_train,predictions_test,actual_test,metrics_train,metrics_test,test_acc,test_stddev], f)"
      ],
      "execution_count": null,
      "outputs": []
    },
    {
      "cell_type": "code",
      "metadata": {
        "id": "pIa4gujF1p3U"
      },
      "source": [
        "def make_confusion_matrix_chart2(cf_matrix_test, name):\n",
        "    #plt.figure(figsize=(20,12))\n",
        "    sns.set(font_scale=2.5)\n",
        "    fig, ax = plt.subplots(figsize = (20,12))\n",
        "    sns.heatmap(cf_matrix_test, annot=True, yticklabels=['0','1'], \n",
        "                                xticklabels=['0','1'], fmt='g')\n",
        "    plt.ylabel(\"Actual\", size=30)\n",
        "    plt.xlabel(\"Pred\", size=30)\n",
        "    ax.tick_params(axis='both', which='major', labelsize=25)\n",
        "    plt.savefig(name + '.png', dpi=300, transparent=False, bbox_inches='tight')\n",
        "    return None "
      ],
      "execution_count": null,
      "outputs": []
    },
    {
      "cell_type": "code",
      "metadata": {
        "colab": {
          "base_uri": "https://localhost:8080/",
          "height": 732
        },
        "id": "3Z7iGdidk1_I",
        "outputId": "aad0a0a1-b0b5-446c-9c18-46f9b94cf391"
      },
      "source": [
        "y = [i.argmax() for i in actual_test_per_step['vanilla']]\n",
        "pred = [i.argmax() for i in predictions_test_per_step['vanilla']]\n",
        "cf_matrix_test = confusion_matrix(y, pred)\n",
        "make_confusion_matrix_chart2(cf_matrix_test, ocean + '_vanilla_cm_original')"
      ],
      "execution_count": null,
      "outputs": [
        {
          "data": {
            "image/png": "[encoded data removed]",
            "text/plain": [
              "<Figure size 1440x864 with 2 Axes>"
            ]
          },
          "metadata": {},
          "output_type": "display_data"
        }
      ]
    },
    {
      "cell_type": "code",
      "metadata": {
        "id": "dYbsZbTVAZzf"
      },
      "source": [
        "precision0=[]\n",
        "precision1=[]\n",
        "precisionacc=[]\n",
        "precisionmacavg=[]\n",
        "precisionweighavg=[]\n",
        "recall0=[]\n",
        "recall1=[]\n",
        "recallacc=[]\n",
        "recallmacavg=[]\n",
        "recallweighavg=[]\n",
        "f10=[]\n",
        "f11=[]\n",
        "f1acc=[]\n",
        "f1macavg=[]\n",
        "f1weighavg=[]\n",
        "for i in range(Num_Exp):\n",
        "  precision0.append(metrics_test_per_step['vanilla'][i]['0']['precision'])\n",
        "  precision1.append(metrics_test_per_step['vanilla'][i]['1']['precision'])\n",
        "  precisionacc.append(metrics_test_per_step['vanilla'][i]['accuracy'])\n",
        "  precisionmacavg.append(metrics_test_per_step['vanilla'][i]['macro avg']['precision'])\n",
        "  precisionweighavg.append(metrics_test_per_step['vanilla'][i]['weighted avg']['precision'])\n",
        "  recall0.append(metrics_test_per_step['vanilla'][i]['0']['recall'])\n",
        "  recall1.append(metrics_test_per_step['vanilla'][i]['1']['recall'])\n",
        "  recallacc.append(metrics_test_per_step['vanilla'][i]['accuracy'])\n",
        "  recallmacavg.append(metrics_test_per_step['vanilla'][i]['macro avg']['recall'])\n",
        "  recallweighavg.append(metrics_test_per_step['vanilla'][i]['weighted avg']['recall'])  \n",
        "  f10.append(metrics_test_per_step['vanilla'][i]['0']['f1-score'])\n",
        "  f11.append(metrics_test_per_step['vanilla'][i]['1']['f1-score'])\n",
        "  f1acc.append(metrics_test_per_step['vanilla'][i]['accuracy'])\n",
        "  f1macavg.append(metrics_test_per_step['vanilla'][i]['macro avg']['f1-score'])\n",
        "  f1weighavg.append(metrics_test_per_step['vanilla'][i]['weighted avg']['f1-score'])    "
      ],
      "execution_count": null,
      "outputs": []
    },
    {
      "cell_type": "code",
      "metadata": {
        "colab": {
          "base_uri": "https://localhost:8080/"
        },
        "id": "u2sVq2AWG0kp",
        "outputId": "bd54e9f0-024e-4cda-909e-e37fba04f2d2"
      },
      "source": [
        "print(str(round(np.mean(precision0),4)) + \"±\" + str(round(np.std(precision0),4)),\" & \" + str(round(np.mean(recall0),4)) + \"±\" + str(round(np.std(recall0),4)), \" & \" + str(round(np.mean(f10),4)) + \"±\" + str(round(np.std(f10),4)))\n",
        "print(str(round(np.mean(precision1),4)) + \"±\" + str(round(np.std(precision1),4)),\" & \" + str(round(np.mean(recall1),4)) + \"±\" + str(round(np.std(recall1),4)), \" & \" + str(round(np.mean(f11),4)) + \"±\" + str(round(np.std(f11),4)))\n",
        "print(str(round(np.mean(precisionacc),4)) + \"±\" + str(round(np.std(precisionacc),4)),\" & \" + str(round(np.mean(recallacc),4)) + \"±\" + str(round(np.std(recallacc),4)), \" & \" + str(round(np.mean(f1acc),4)) + \"±\" + str(round(np.std(f1acc),4)))\n",
        "print(str(round(np.mean(precisionmacavg),4)) + \"±\" + str(round(np.std(precisionmacavg),4)),\" & \" + str(round(np.mean(recallmacavg),4)) + \"±\" + str(round(np.std(recallmacavg),4)), \" & \" + str(round(np.mean(f1macavg),4)) + \"±\" + str(round(np.std(f1macavg),4)))\n",
        "print(str(round(np.mean(precisionweighavg),4)) + \"±\" + str(round(np.std(precisionweighavg),4)),\" & \" + str(round(np.mean(recallweighavg),4)) + \"±\" + str(round(np.std(recallweighavg),4)), \" & \" + str(round(np.mean(f1weighavg),4)) + \"±\" + str(round(np.std(f1weighavg),4)))\n"
      ],
      "execution_count": null,
      "outputs": [
        {
          "name": "stdout",
          "output_type": "stream",
          "text": [
            "0.9912 ± 0.0006  & 0.9915±0.0019  & 0.9913±0.001\n",
            "0.3638 ± 0.0665  & 0.3492±0.0449  & 0.3545±0.0487\n",
            "0.9829 ± 0.002  & 0.9829±0.002  & 0.9829±0.002\n",
            "0.6775 ± 0.0334  & 0.6703±0.0225  & 0.6729±0.0248\n",
            "0.9828 ± 0.0013  & 0.9829±0.002  & 0.9828±0.0016\n"
          ]
        }
      ]
    },
    {
      "cell_type": "code",
      "metadata": {
        "id": "JGoUFqyTlp3O"
      },
      "source": [
        "oversample = SMOTE()\n",
        "X_smote, Y_smote = oversample.fit_resample(X, Y)\n",
        "X_smote = X_smote.astype(np.float)"
      ],
      "execution_count": null,
      "outputs": []
    },
    {
      "cell_type": "code",
      "metadata": {
        "colab": {
          "base_uri": "https://localhost:8080/"
        },
        "id": "5Rrh9EplhNTx",
        "outputId": "d957d870-6686-4c74-8aef-4997cfb7976a"
      },
      "source": [
        "X.shape, test_X.shape, X_smote.shape"
      ],
      "execution_count": null,
      "outputs": [
        {
          "data": {
            "text/plain": [
              "((7322, 4), (3137, 4), (13868, 4))"
            ]
          },
          "execution_count": 81,
          "metadata": {},
          "output_type": "execute_result"
        }
      ]
    },
    {
      "cell_type": "code",
      "metadata": {
        "colab": {
          "base_uri": "https://localhost:8080/"
        },
        "id": "kCqk9Lqll_c4",
        "outputId": "8849b325-805e-4e0e-f826-375911e7f056"
      },
      "source": [
        "counter = Counter(Y_smote)\n",
        "print(counter)\n",
        "print(len(X_smote), len(X))\n",
        "print(\"old smote data after 10000 index: \", Counter(Y_smote[10000:]))\n",
        "\n",
        "idx = np.random.permutation(len(X_smote))\n",
        "print(len(idx))\n",
        "\n",
        "x_shuffled = []\n",
        "y_shuffled = []\n",
        "for i in idx:\n",
        "  x_shuffled.append(X_smote[i])\n",
        "  y_shuffled.append(Y_smote[i])\n",
        "\n",
        "print(\"shuffled smote data after 10000 index: \", Counter(y_shuffled[10000:]))\n",
        "Y_hot_encoded_train =  np.asarray(to_categorical(y_shuffled))\n",
        "#Y_hot_encoded_train = Y_hot_encoded_train.reshape(len(y_shuffled), n_steps_out, n_features_out)\n",
        "\n",
        "Y_hot_encoded_test =  np.asarray(to_categorical(test_Y))\n",
        "#Y_hot_encoded_test = Y_hot_encoded_test.reshape(len(test_Y), n_steps_out, n_features_out)\n",
        "\n",
        "Y_hot_encoded_train.shape, Y_hot_encoded_test.shape"
      ],
      "execution_count": null,
      "outputs": [
        {
          "name": "stdout",
          "output_type": "stream",
          "text": [
            "Counter({0: 6934, 1: 6934})\n",
            "13868 7322\n",
            "old smote data after 10000 index:  Counter({1: 3868})\n",
            "13868\n",
            "shuffled smote data after 10000 index:  Counter({1: 1940, 0: 1928})\n"
          ]
        },
        {
          "data": {
            "text/plain": [
              "((13868, 2), (3137, 2))"
            ]
          },
          "execution_count": 82,
          "metadata": {},
          "output_type": "execute_result"
        }
      ]
    },
    {
      "cell_type": "code",
      "metadata": {
        "id": "speG9FzmmOOt"
      },
      "source": [
        "            x_train, y_train = np.asarray(x_shuffled), np.asarray(Y_hot_encoded_train)\n",
        "            x_test, y_test = np.asarray(test_X), np.asarray(Y_hot_encoded_test)\n",
        "            x_train = x_train.reshape((x_train.shape[0], x_train.shape[1], n_features_in))\n",
        "            x_test = x_test.reshape((x_test.shape[0], x_test.shape[1], n_features_in))"
      ],
      "execution_count": null,
      "outputs": []
    },
    {
      "cell_type": "code",
      "metadata": {
        "colab": {
          "base_uri": "https://localhost:8080/",
          "height": 712
        },
        "id": "5TBkBXgomjLE",
        "outputId": "f015dba7-a463-4e2a-c9e8-b0971e917846"
      },
      "source": [
        "train_acc, test_acc, train_std_dev, test_std_dev, Best_Predict_Test, y_predicttrain, y_predicttest, report_train, report_test = MODEL_LSTM('vanilla', 'smote', univariate,x_train,x_test,y_train,y_test,Num_Exp,n_steps_in,n_steps_out,Epochs, Hidden)"
      ],
      "execution_count": null,
      "outputs": [
        {
          "name": "stdout",
          "output_type": "stream",
          "text": [
            "WARNING:tensorflow:Layer lstm will not use cuDNN kernels since it doesn't meet the criteria. It will use a generic GPU kernel as fallback when running on GPU.\n",
            "Model: \"sequential\"\n",
            "_________________________________________________________________\n",
            " Layer (type)                Output Shape              Param #   \n",
            "=================================================================\n",
            " lstm (LSTM)                 (None, 50)                10400     \n",
            "                                                                 \n",
            " dense (Dense)               (None, 2)                 102       \n",
            "                                                                 \n",
            "=================================================================\n",
            "Total params: 10,502\n",
            "Trainable params: 10,502\n",
            "Non-trainable params: 0\n",
            "_________________________________________________________________\n",
            "Experiment 1 in progress\n"
          ]
        },
        {
          "ename": "KeyboardInterrupt",
          "evalue": "ignored",
          "output_type": "error",
          "traceback": [
            "\u001b[0;31m---------------------------------------------------------------------------\u001b[0m",
            "\u001b[0;31mInvalidArgumentError\u001b[0m                      Traceback (most recent call last)",
            "\u001b[0;32m/usr/local/lib/python3.7/dist-packages/tensorflow/python/framework/ops.py\u001b[0m in \u001b[0;36mget_attr\u001b[0;34m(self, name)\u001b[0m\n\u001b[1;32m   2615\u001b[0m       \u001b[0;32mwith\u001b[0m \u001b[0mc_api_util\u001b[0m\u001b[0;34m.\u001b[0m\u001b[0mtf_buffer\u001b[0m\u001b[0;34m(\u001b[0m\u001b[0;34m)\u001b[0m \u001b[0;32mas\u001b[0m \u001b[0mbuf\u001b[0m\u001b[0;34m:\u001b[0m\u001b[0;34m\u001b[0m\u001b[0;34m\u001b[0m\u001b[0m\n\u001b[0;32m-> 2616\u001b[0;31m         \u001b[0mpywrap_tf_session\u001b[0m\u001b[0;34m.\u001b[0m\u001b[0mTF_OperationGetAttrValueProto\u001b[0m\u001b[0;34m(\u001b[0m\u001b[0mself\u001b[0m\u001b[0;34m.\u001b[0m\u001b[0m_c_op\u001b[0m\u001b[0;34m,\u001b[0m \u001b[0mname\u001b[0m\u001b[0;34m,\u001b[0m \u001b[0mbuf\u001b[0m\u001b[0;34m)\u001b[0m\u001b[0;34m\u001b[0m\u001b[0;34m\u001b[0m\u001b[0m\n\u001b[0m\u001b[1;32m   2617\u001b[0m         \u001b[0mdata\u001b[0m \u001b[0;34m=\u001b[0m \u001b[0mpywrap_tf_session\u001b[0m\u001b[0;34m.\u001b[0m\u001b[0mTF_GetBuffer\u001b[0m\u001b[0;34m(\u001b[0m\u001b[0mbuf\u001b[0m\u001b[0;34m)\u001b[0m\u001b[0;34m\u001b[0m\u001b[0;34m\u001b[0m\u001b[0m\n",
            "\u001b[0;31mInvalidArgumentError\u001b[0m: Operation 'sequential/lstm/while/Identity_5' has no attr named '_XlaCompile'.",
            "\nDuring handling of the above exception, another exception occurred:\n",
            "\u001b[0;31mKeyboardInterrupt\u001b[0m                         Traceback (most recent call last)",
            "\u001b[0;32m<ipython-input-26-ac0d58017c7c>\u001b[0m in \u001b[0;36m<module>\u001b[0;34m()\u001b[0m\n\u001b[0;32m----> 1\u001b[0;31m \u001b[0mtrain_acc\u001b[0m\u001b[0;34m,\u001b[0m \u001b[0mtest_acc\u001b[0m\u001b[0;34m,\u001b[0m \u001b[0mtrain_std_dev\u001b[0m\u001b[0;34m,\u001b[0m \u001b[0mtest_std_dev\u001b[0m\u001b[0;34m,\u001b[0m \u001b[0mBest_Predict_Test\u001b[0m\u001b[0;34m,\u001b[0m \u001b[0my_predicttrain\u001b[0m\u001b[0;34m,\u001b[0m \u001b[0my_predicttest\u001b[0m\u001b[0;34m,\u001b[0m \u001b[0mreport_train\u001b[0m\u001b[0;34m,\u001b[0m \u001b[0mreport_test\u001b[0m \u001b[0;34m=\u001b[0m \u001b[0mMODEL_LSTM\u001b[0m\u001b[0;34m(\u001b[0m\u001b[0;34m'vanilla'\u001b[0m\u001b[0;34m,\u001b[0m \u001b[0;34m'smote'\u001b[0m\u001b[0;34m,\u001b[0m \u001b[0munivariate\u001b[0m\u001b[0;34m,\u001b[0m\u001b[0mx_train\u001b[0m\u001b[0;34m,\u001b[0m\u001b[0mx_test\u001b[0m\u001b[0;34m,\u001b[0m\u001b[0my_train\u001b[0m\u001b[0;34m,\u001b[0m\u001b[0my_test\u001b[0m\u001b[0;34m,\u001b[0m\u001b[0mNum_Exp\u001b[0m\u001b[0;34m,\u001b[0m\u001b[0mn_steps_in\u001b[0m\u001b[0;34m,\u001b[0m\u001b[0mn_steps_out\u001b[0m\u001b[0;34m,\u001b[0m\u001b[0mEpochs\u001b[0m\u001b[0;34m,\u001b[0m \u001b[0mHidden\u001b[0m\u001b[0;34m)\u001b[0m\u001b[0;34m\u001b[0m\u001b[0;34m\u001b[0m\u001b[0m\n\u001b[0m",
            "\u001b[0;32m<ipython-input-17-fff60047dadc>\u001b[0m in \u001b[0;36mMODEL_LSTM\u001b[0;34m(model_name, method, univariate, x_train, x_test, y_train, y_test, Num_Exp, n_steps_in, n_steps_out, Epochs, Hidden)\u001b[0m\n\u001b[1;32m     32\u001b[0m         \u001b[0mprint\u001b[0m\u001b[0;34m(\u001b[0m\u001b[0;34m\"Experiment\"\u001b[0m\u001b[0;34m,\u001b[0m \u001b[0mrun\u001b[0m \u001b[0;34m+\u001b[0m \u001b[0;36m1\u001b[0m\u001b[0;34m,\u001b[0m \u001b[0;34m\"in progress\"\u001b[0m\u001b[0;34m)\u001b[0m\u001b[0;34m\u001b[0m\u001b[0;34m\u001b[0m\u001b[0m\n\u001b[1;32m     33\u001b[0m         \u001b[0;31m# fit model\u001b[0m\u001b[0;34m\u001b[0m\u001b[0;34m\u001b[0m\u001b[0;34m\u001b[0m\u001b[0m\n\u001b[0;32m---> 34\u001b[0;31m         \u001b[0mmodel\u001b[0m\u001b[0;34m.\u001b[0m\u001b[0mfit\u001b[0m\u001b[0;34m(\u001b[0m\u001b[0mx_train\u001b[0m\u001b[0;34m,\u001b[0m \u001b[0my_train\u001b[0m\u001b[0;34m,\u001b[0m \u001b[0mepochs\u001b[0m\u001b[0;34m=\u001b[0m\u001b[0mEpochs\u001b[0m\u001b[0;34m,\u001b[0m \u001b[0mbatch_size\u001b[0m\u001b[0;34m=\u001b[0m\u001b[0;36m10\u001b[0m\u001b[0;34m,\u001b[0m \u001b[0mverbose\u001b[0m\u001b[0;34m=\u001b[0m\u001b[0;36m0\u001b[0m\u001b[0;34m,\u001b[0m \u001b[0mshuffle\u001b[0m\u001b[0;34m=\u001b[0m\u001b[0;32mFalse\u001b[0m\u001b[0;34m)\u001b[0m\u001b[0;34m\u001b[0m\u001b[0;34m\u001b[0m\u001b[0m\n\u001b[0m\u001b[1;32m     35\u001b[0m         \u001b[0;31m#scores = model.predict_proba(x_test)\u001b[0m\u001b[0;34m\u001b[0m\u001b[0;34m\u001b[0m\u001b[0;34m\u001b[0m\u001b[0m\n\u001b[1;32m     36\u001b[0m         \u001b[0my_predicttrain\u001b[0m \u001b[0;34m=\u001b[0m \u001b[0mmodel\u001b[0m\u001b[0;34m.\u001b[0m\u001b[0mpredict\u001b[0m\u001b[0;34m(\u001b[0m\u001b[0mx_train\u001b[0m\u001b[0;34m)\u001b[0m\u001b[0;34m\u001b[0m\u001b[0;34m\u001b[0m\u001b[0m\n",
            "\u001b[0;32m/usr/local/lib/python3.7/dist-packages/keras/utils/traceback_utils.py\u001b[0m in \u001b[0;36merror_handler\u001b[0;34m(*args, **kwargs)\u001b[0m\n\u001b[1;32m     62\u001b[0m     \u001b[0mfiltered_tb\u001b[0m \u001b[0;34m=\u001b[0m \u001b[0;32mNone\u001b[0m\u001b[0;34m\u001b[0m\u001b[0;34m\u001b[0m\u001b[0m\n\u001b[1;32m     63\u001b[0m     \u001b[0;32mtry\u001b[0m\u001b[0;34m:\u001b[0m\u001b[0;34m\u001b[0m\u001b[0;34m\u001b[0m\u001b[0m\n\u001b[0;32m---> 64\u001b[0;31m       \u001b[0;32mreturn\u001b[0m \u001b[0mfn\u001b[0m\u001b[0;34m(\u001b[0m\u001b[0;34m*\u001b[0m\u001b[0margs\u001b[0m\u001b[0;34m,\u001b[0m \u001b[0;34m**\u001b[0m\u001b[0mkwargs\u001b[0m\u001b[0;34m)\u001b[0m\u001b[0;34m\u001b[0m\u001b[0;34m\u001b[0m\u001b[0m\n\u001b[0m\u001b[1;32m     65\u001b[0m     \u001b[0;32mexcept\u001b[0m \u001b[0mException\u001b[0m \u001b[0;32mas\u001b[0m \u001b[0me\u001b[0m\u001b[0;34m:\u001b[0m  \u001b[0;31m# pylint: disable=broad-except\u001b[0m\u001b[0;34m\u001b[0m\u001b[0;34m\u001b[0m\u001b[0m\n\u001b[1;32m     66\u001b[0m       \u001b[0mfiltered_tb\u001b[0m \u001b[0;34m=\u001b[0m \u001b[0m_process_traceback_frames\u001b[0m\u001b[0;34m(\u001b[0m\u001b[0me\u001b[0m\u001b[0;34m.\u001b[0m\u001b[0m__traceback__\u001b[0m\u001b[0;34m)\u001b[0m\u001b[0;34m\u001b[0m\u001b[0;34m\u001b[0m\u001b[0m\n",
            "\u001b[0;32m/usr/local/lib/python3.7/dist-packages/keras/engine/training.py\u001b[0m in \u001b[0;36mfit\u001b[0;34m(self, x, y, batch_size, epochs, verbose, callbacks, validation_split, validation_data, shuffle, class_weight, sample_weight, initial_epoch, steps_per_epoch, validation_steps, validation_batch_size, validation_freq, max_queue_size, workers, use_multiprocessing)\u001b[0m\n\u001b[1;32m   1214\u001b[0m                 _r=1):\n\u001b[1;32m   1215\u001b[0m               \u001b[0mcallbacks\u001b[0m\u001b[0;34m.\u001b[0m\u001b[0mon_train_batch_begin\u001b[0m\u001b[0;34m(\u001b[0m\u001b[0mstep\u001b[0m\u001b[0;34m)\u001b[0m\u001b[0;34m\u001b[0m\u001b[0;34m\u001b[0m\u001b[0m\n\u001b[0;32m-> 1216\u001b[0;31m               \u001b[0mtmp_logs\u001b[0m \u001b[0;34m=\u001b[0m \u001b[0mself\u001b[0m\u001b[0;34m.\u001b[0m\u001b[0mtrain_function\u001b[0m\u001b[0;34m(\u001b[0m\u001b[0miterator\u001b[0m\u001b[0;34m)\u001b[0m\u001b[0;34m\u001b[0m\u001b[0;34m\u001b[0m\u001b[0m\n\u001b[0m\u001b[1;32m   1217\u001b[0m               \u001b[0;32mif\u001b[0m \u001b[0mdata_handler\u001b[0m\u001b[0;34m.\u001b[0m\u001b[0mshould_sync\u001b[0m\u001b[0;34m:\u001b[0m\u001b[0;34m\u001b[0m\u001b[0;34m\u001b[0m\u001b[0m\n\u001b[1;32m   1218\u001b[0m                 \u001b[0mcontext\u001b[0m\u001b[0;34m.\u001b[0m\u001b[0masync_wait\u001b[0m\u001b[0;34m(\u001b[0m\u001b[0;34m)\u001b[0m\u001b[0;34m\u001b[0m\u001b[0;34m\u001b[0m\u001b[0m\n",
            "\u001b[0;32m/usr/local/lib/python3.7/dist-packages/tensorflow/python/util/traceback_utils.py\u001b[0m in \u001b[0;36merror_handler\u001b[0;34m(*args, **kwargs)\u001b[0m\n\u001b[1;32m    148\u001b[0m     \u001b[0mfiltered_tb\u001b[0m \u001b[0;34m=\u001b[0m \u001b[0;32mNone\u001b[0m\u001b[0;34m\u001b[0m\u001b[0;34m\u001b[0m\u001b[0m\n\u001b[1;32m    149\u001b[0m     \u001b[0;32mtry\u001b[0m\u001b[0;34m:\u001b[0m\u001b[0;34m\u001b[0m\u001b[0;34m\u001b[0m\u001b[0m\n\u001b[0;32m--> 150\u001b[0;31m       \u001b[0;32mreturn\u001b[0m \u001b[0mfn\u001b[0m\u001b[0;34m(\u001b[0m\u001b[0;34m*\u001b[0m\u001b[0margs\u001b[0m\u001b[0;34m,\u001b[0m \u001b[0;34m**\u001b[0m\u001b[0mkwargs\u001b[0m\u001b[0;34m)\u001b[0m\u001b[0;34m\u001b[0m\u001b[0;34m\u001b[0m\u001b[0m\n\u001b[0m\u001b[1;32m    151\u001b[0m     \u001b[0;32mexcept\u001b[0m \u001b[0mException\u001b[0m \u001b[0;32mas\u001b[0m \u001b[0me\u001b[0m\u001b[0;34m:\u001b[0m\u001b[0;34m\u001b[0m\u001b[0;34m\u001b[0m\u001b[0m\n\u001b[1;32m    152\u001b[0m       \u001b[0mfiltered_tb\u001b[0m \u001b[0;34m=\u001b[0m \u001b[0m_process_traceback_frames\u001b[0m\u001b[0;34m(\u001b[0m\u001b[0me\u001b[0m\u001b[0;34m.\u001b[0m\u001b[0m__traceback__\u001b[0m\u001b[0;34m)\u001b[0m\u001b[0;34m\u001b[0m\u001b[0;34m\u001b[0m\u001b[0m\n",
            "\u001b[0;32m/usr/local/lib/python3.7/dist-packages/tensorflow/python/eager/def_function.py\u001b[0m in \u001b[0;36m__call__\u001b[0;34m(self, *args, **kwds)\u001b[0m\n\u001b[1;32m    908\u001b[0m \u001b[0;34m\u001b[0m\u001b[0m\n\u001b[1;32m    909\u001b[0m       \u001b[0;32mwith\u001b[0m \u001b[0mOptionalXlaContext\u001b[0m\u001b[0;34m(\u001b[0m\u001b[0mself\u001b[0m\u001b[0;34m.\u001b[0m\u001b[0m_jit_compile\u001b[0m\u001b[0;34m)\u001b[0m\u001b[0;34m:\u001b[0m\u001b[0;34m\u001b[0m\u001b[0;34m\u001b[0m\u001b[0m\n\u001b[0;32m--> 910\u001b[0;31m         \u001b[0mresult\u001b[0m \u001b[0;34m=\u001b[0m \u001b[0mself\u001b[0m\u001b[0;34m.\u001b[0m\u001b[0m_call\u001b[0m\u001b[0;34m(\u001b[0m\u001b[0;34m*\u001b[0m\u001b[0margs\u001b[0m\u001b[0;34m,\u001b[0m \u001b[0;34m**\u001b[0m\u001b[0mkwds\u001b[0m\u001b[0;34m)\u001b[0m\u001b[0;34m\u001b[0m\u001b[0;34m\u001b[0m\u001b[0m\n\u001b[0m\u001b[1;32m    911\u001b[0m \u001b[0;34m\u001b[0m\u001b[0m\n\u001b[1;32m    912\u001b[0m       \u001b[0mnew_tracing_count\u001b[0m \u001b[0;34m=\u001b[0m \u001b[0mself\u001b[0m\u001b[0;34m.\u001b[0m\u001b[0mexperimental_get_tracing_count\u001b[0m\u001b[0;34m(\u001b[0m\u001b[0;34m)\u001b[0m\u001b[0;34m\u001b[0m\u001b[0;34m\u001b[0m\u001b[0m\n",
            "\u001b[0;32m/usr/local/lib/python3.7/dist-packages/tensorflow/python/eager/def_function.py\u001b[0m in \u001b[0;36m_call\u001b[0;34m(self, *args, **kwds)\u001b[0m\n\u001b[1;32m    973\u001b[0m         \u001b[0;31m# Lifting succeeded, so variables are initialized and we can run the\u001b[0m\u001b[0;34m\u001b[0m\u001b[0;34m\u001b[0m\u001b[0;34m\u001b[0m\u001b[0m\n\u001b[1;32m    974\u001b[0m         \u001b[0;31m# stateless function.\u001b[0m\u001b[0;34m\u001b[0m\u001b[0;34m\u001b[0m\u001b[0;34m\u001b[0m\u001b[0m\n\u001b[0;32m--> 975\u001b[0;31m         \u001b[0;32mreturn\u001b[0m \u001b[0mself\u001b[0m\u001b[0;34m.\u001b[0m\u001b[0m_stateless_fn\u001b[0m\u001b[0;34m(\u001b[0m\u001b[0;34m*\u001b[0m\u001b[0margs\u001b[0m\u001b[0;34m,\u001b[0m \u001b[0;34m**\u001b[0m\u001b[0mkwds\u001b[0m\u001b[0;34m)\u001b[0m\u001b[0;34m\u001b[0m\u001b[0;34m\u001b[0m\u001b[0m\n\u001b[0m\u001b[1;32m    976\u001b[0m     \u001b[0;32melse\u001b[0m\u001b[0;34m:\u001b[0m\u001b[0;34m\u001b[0m\u001b[0;34m\u001b[0m\u001b[0m\n\u001b[1;32m    977\u001b[0m       \u001b[0m_\u001b[0m\u001b[0;34m,\u001b[0m \u001b[0m_\u001b[0m\u001b[0;34m,\u001b[0m \u001b[0m_\u001b[0m\u001b[0;34m,\u001b[0m \u001b[0mfiltered_flat_args\u001b[0m \u001b[0;34m=\u001b[0m\u001b[0;31m \u001b[0m\u001b[0;31m\\\u001b[0m\u001b[0;34m\u001b[0m\u001b[0;34m\u001b[0m\u001b[0m\n",
            "\u001b[0;32m/usr/local/lib/python3.7/dist-packages/tensorflow/python/eager/function.py\u001b[0m in \u001b[0;36m__call__\u001b[0;34m(self, *args, **kwargs)\u001b[0m\n\u001b[1;32m   3127\u001b[0m     \u001b[0;32mwith\u001b[0m \u001b[0mself\u001b[0m\u001b[0;34m.\u001b[0m\u001b[0m_lock\u001b[0m\u001b[0;34m:\u001b[0m\u001b[0;34m\u001b[0m\u001b[0;34m\u001b[0m\u001b[0m\n\u001b[1;32m   3128\u001b[0m       (graph_function,\n\u001b[0;32m-> 3129\u001b[0;31m        filtered_flat_args) = self._maybe_define_function(args, kwargs)\n\u001b[0m\u001b[1;32m   3130\u001b[0m     return graph_function._call_flat(\n\u001b[1;32m   3131\u001b[0m         filtered_flat_args, captured_inputs=graph_function.captured_inputs)  # pylint: disable=protected-access\n",
            "\u001b[0;32m/usr/local/lib/python3.7/dist-packages/tensorflow/python/eager/function.py\u001b[0m in \u001b[0;36m_maybe_define_function\u001b[0;34m(self, args, kwargs)\u001b[0m\n\u001b[1;32m   3555\u001b[0m \u001b[0;34m\u001b[0m\u001b[0m\n\u001b[1;32m   3556\u001b[0m           \u001b[0mself\u001b[0m\u001b[0;34m.\u001b[0m\u001b[0m_function_cache\u001b[0m\u001b[0;34m.\u001b[0m\u001b[0mmissed\u001b[0m\u001b[0;34m.\u001b[0m\u001b[0madd\u001b[0m\u001b[0;34m(\u001b[0m\u001b[0mcall_context_key\u001b[0m\u001b[0;34m)\u001b[0m\u001b[0;34m\u001b[0m\u001b[0;34m\u001b[0m\u001b[0m\n\u001b[0;32m-> 3557\u001b[0;31m           \u001b[0mgraph_function\u001b[0m \u001b[0;34m=\u001b[0m \u001b[0mself\u001b[0m\u001b[0;34m.\u001b[0m\u001b[0m_create_graph_function\u001b[0m\u001b[0;34m(\u001b[0m\u001b[0margs\u001b[0m\u001b[0;34m,\u001b[0m \u001b[0mkwargs\u001b[0m\u001b[0;34m)\u001b[0m\u001b[0;34m\u001b[0m\u001b[0;34m\u001b[0m\u001b[0m\n\u001b[0m\u001b[1;32m   3558\u001b[0m           \u001b[0mself\u001b[0m\u001b[0;34m.\u001b[0m\u001b[0m_function_cache\u001b[0m\u001b[0;34m.\u001b[0m\u001b[0mprimary\u001b[0m\u001b[0;34m[\u001b[0m\u001b[0mcache_key\u001b[0m\u001b[0;34m]\u001b[0m \u001b[0;34m=\u001b[0m \u001b[0mgraph_function\u001b[0m\u001b[0;34m\u001b[0m\u001b[0;34m\u001b[0m\u001b[0m\n\u001b[1;32m   3559\u001b[0m \u001b[0;34m\u001b[0m\u001b[0m\n",
            "\u001b[0;32m/usr/local/lib/python3.7/dist-packages/tensorflow/python/eager/function.py\u001b[0m in \u001b[0;36m_create_graph_function\u001b[0;34m(self, args, kwargs, override_flat_arg_shapes)\u001b[0m\n\u001b[1;32m   3400\u001b[0m             \u001b[0marg_names\u001b[0m\u001b[0;34m=\u001b[0m\u001b[0marg_names\u001b[0m\u001b[0;34m,\u001b[0m\u001b[0;34m\u001b[0m\u001b[0;34m\u001b[0m\u001b[0m\n\u001b[1;32m   3401\u001b[0m             \u001b[0moverride_flat_arg_shapes\u001b[0m\u001b[0;34m=\u001b[0m\u001b[0moverride_flat_arg_shapes\u001b[0m\u001b[0;34m,\u001b[0m\u001b[0;34m\u001b[0m\u001b[0;34m\u001b[0m\u001b[0m\n\u001b[0;32m-> 3402\u001b[0;31m             capture_by_value=self._capture_by_value),\n\u001b[0m\u001b[1;32m   3403\u001b[0m         \u001b[0mself\u001b[0m\u001b[0;34m.\u001b[0m\u001b[0m_function_attributes\u001b[0m\u001b[0;34m,\u001b[0m\u001b[0;34m\u001b[0m\u001b[0;34m\u001b[0m\u001b[0m\n\u001b[1;32m   3404\u001b[0m         \u001b[0mfunction_spec\u001b[0m\u001b[0;34m=\u001b[0m\u001b[0mself\u001b[0m\u001b[0;34m.\u001b[0m\u001b[0mfunction_spec\u001b[0m\u001b[0;34m,\u001b[0m\u001b[0;34m\u001b[0m\u001b[0;34m\u001b[0m\u001b[0m\n",
            "\u001b[0;32m/usr/local/lib/python3.7/dist-packages/tensorflow/python/framework/func_graph.py\u001b[0m in \u001b[0;36mfunc_graph_from_py_func\u001b[0;34m(name, python_func, args, kwargs, signature, func_graph, autograph, autograph_options, add_control_dependencies, arg_names, op_return_value, collections, capture_by_value, override_flat_arg_shapes, acd_record_initial_resource_uses)\u001b[0m\n\u001b[1;32m   1141\u001b[0m         \u001b[0m_\u001b[0m\u001b[0;34m,\u001b[0m \u001b[0moriginal_func\u001b[0m \u001b[0;34m=\u001b[0m \u001b[0mtf_decorator\u001b[0m\u001b[0;34m.\u001b[0m\u001b[0munwrap\u001b[0m\u001b[0;34m(\u001b[0m\u001b[0mpython_func\u001b[0m\u001b[0;34m)\u001b[0m\u001b[0;34m\u001b[0m\u001b[0;34m\u001b[0m\u001b[0m\n\u001b[1;32m   1142\u001b[0m \u001b[0;34m\u001b[0m\u001b[0m\n\u001b[0;32m-> 1143\u001b[0;31m       \u001b[0mfunc_outputs\u001b[0m \u001b[0;34m=\u001b[0m \u001b[0mpython_func\u001b[0m\u001b[0;34m(\u001b[0m\u001b[0;34m*\u001b[0m\u001b[0mfunc_args\u001b[0m\u001b[0;34m,\u001b[0m \u001b[0;34m**\u001b[0m\u001b[0mfunc_kwargs\u001b[0m\u001b[0;34m)\u001b[0m\u001b[0;34m\u001b[0m\u001b[0;34m\u001b[0m\u001b[0m\n\u001b[0m\u001b[1;32m   1144\u001b[0m \u001b[0;34m\u001b[0m\u001b[0m\n\u001b[1;32m   1145\u001b[0m       \u001b[0;31m# invariant: `func_outputs` contains only Tensors, CompositeTensors,\u001b[0m\u001b[0;34m\u001b[0m\u001b[0;34m\u001b[0m\u001b[0;34m\u001b[0m\u001b[0m\n",
            "\u001b[0;32m/usr/local/lib/python3.7/dist-packages/tensorflow/python/eager/def_function.py\u001b[0m in \u001b[0;36mwrapped_fn\u001b[0;34m(*args, **kwds)\u001b[0m\n\u001b[1;32m    670\u001b[0m         \u001b[0;31m# the function a weak reference to itself to avoid a reference cycle.\u001b[0m\u001b[0;34m\u001b[0m\u001b[0;34m\u001b[0m\u001b[0;34m\u001b[0m\u001b[0m\n\u001b[1;32m    671\u001b[0m         \u001b[0;32mwith\u001b[0m \u001b[0mOptionalXlaContext\u001b[0m\u001b[0;34m(\u001b[0m\u001b[0mcompile_with_xla\u001b[0m\u001b[0;34m)\u001b[0m\u001b[0;34m:\u001b[0m\u001b[0;34m\u001b[0m\u001b[0;34m\u001b[0m\u001b[0m\n\u001b[0;32m--> 672\u001b[0;31m           \u001b[0mout\u001b[0m \u001b[0;34m=\u001b[0m \u001b[0mweak_wrapped_fn\u001b[0m\u001b[0;34m(\u001b[0m\u001b[0;34m)\u001b[0m\u001b[0;34m.\u001b[0m\u001b[0m__wrapped__\u001b[0m\u001b[0;34m(\u001b[0m\u001b[0;34m*\u001b[0m\u001b[0margs\u001b[0m\u001b[0;34m,\u001b[0m \u001b[0;34m**\u001b[0m\u001b[0mkwds\u001b[0m\u001b[0;34m)\u001b[0m\u001b[0;34m\u001b[0m\u001b[0;34m\u001b[0m\u001b[0m\n\u001b[0m\u001b[1;32m    673\u001b[0m         \u001b[0;32mreturn\u001b[0m \u001b[0mout\u001b[0m\u001b[0;34m\u001b[0m\u001b[0;34m\u001b[0m\u001b[0m\n\u001b[1;32m    674\u001b[0m \u001b[0;34m\u001b[0m\u001b[0m\n",
            "\u001b[0;32m/usr/local/lib/python3.7/dist-packages/tensorflow/python/framework/func_graph.py\u001b[0m in \u001b[0;36mautograph_handler\u001b[0;34m(*args, **kwargs)\u001b[0m\n\u001b[1;32m   1123\u001b[0m                     \u001b[0mrecursive\u001b[0m\u001b[0;34m=\u001b[0m\u001b[0;32mTrue\u001b[0m\u001b[0;34m,\u001b[0m\u001b[0;34m\u001b[0m\u001b[0;34m\u001b[0m\u001b[0m\n\u001b[1;32m   1124\u001b[0m                     \u001b[0moptional_features\u001b[0m\u001b[0;34m=\u001b[0m\u001b[0mautograph_options\u001b[0m\u001b[0;34m,\u001b[0m\u001b[0;34m\u001b[0m\u001b[0;34m\u001b[0m\u001b[0m\n\u001b[0;32m-> 1125\u001b[0;31m                     \u001b[0muser_requested\u001b[0m\u001b[0;34m=\u001b[0m\u001b[0;32mTrue\u001b[0m\u001b[0;34m,\u001b[0m\u001b[0;34m\u001b[0m\u001b[0;34m\u001b[0m\u001b[0m\n\u001b[0m\u001b[1;32m   1126\u001b[0m                 ))\n\u001b[1;32m   1127\u001b[0m           \u001b[0;32mexcept\u001b[0m \u001b[0mException\u001b[0m \u001b[0;32mas\u001b[0m \u001b[0me\u001b[0m\u001b[0;34m:\u001b[0m  \u001b[0;31m# pylint:disable=broad-except\u001b[0m\u001b[0;34m\u001b[0m\u001b[0;34m\u001b[0m\u001b[0m\n",
            "\u001b[0;32m/usr/local/lib/python3.7/dist-packages/tensorflow/python/autograph/impl/api.py\u001b[0m in \u001b[0;36mconverted_call\u001b[0;34m(f, args, kwargs, caller_fn_scope, options)\u001b[0m\n\u001b[1;32m    443\u001b[0m     \u001b[0;32mtry\u001b[0m\u001b[0;34m:\u001b[0m\u001b[0;34m\u001b[0m\u001b[0;34m\u001b[0m\u001b[0m\n\u001b[1;32m    444\u001b[0m       \u001b[0;32mif\u001b[0m \u001b[0mkwargs\u001b[0m \u001b[0;32mis\u001b[0m \u001b[0;32mnot\u001b[0m \u001b[0;32mNone\u001b[0m\u001b[0;34m:\u001b[0m\u001b[0;34m\u001b[0m\u001b[0;34m\u001b[0m\u001b[0m\n\u001b[0;32m--> 445\u001b[0;31m         \u001b[0mresult\u001b[0m \u001b[0;34m=\u001b[0m \u001b[0mconverted_f\u001b[0m\u001b[0;34m(\u001b[0m\u001b[0;34m*\u001b[0m\u001b[0meffective_args\u001b[0m\u001b[0;34m,\u001b[0m \u001b[0;34m**\u001b[0m\u001b[0mkwargs\u001b[0m\u001b[0;34m)\u001b[0m\u001b[0;34m\u001b[0m\u001b[0;34m\u001b[0m\u001b[0m\n\u001b[0m\u001b[1;32m    446\u001b[0m       \u001b[0;32melse\u001b[0m\u001b[0;34m:\u001b[0m\u001b[0;34m\u001b[0m\u001b[0;34m\u001b[0m\u001b[0m\n\u001b[1;32m    447\u001b[0m         \u001b[0mresult\u001b[0m \u001b[0;34m=\u001b[0m \u001b[0mconverted_f\u001b[0m\u001b[0;34m(\u001b[0m\u001b[0;34m*\u001b[0m\u001b[0meffective_args\u001b[0m\u001b[0;34m)\u001b[0m\u001b[0;34m\u001b[0m\u001b[0;34m\u001b[0m\u001b[0m\n",
            "\u001b[0;32m/usr/local/lib/python3.7/dist-packages/keras/engine/training.py\u001b[0m in \u001b[0;36mtf__train_function\u001b[0;34m(iterator)\u001b[0m\n\u001b[1;32m     13\u001b[0m                 \u001b[0;32mtry\u001b[0m\u001b[0;34m:\u001b[0m\u001b[0;34m\u001b[0m\u001b[0;34m\u001b[0m\u001b[0m\n\u001b[1;32m     14\u001b[0m                     \u001b[0mdo_return\u001b[0m \u001b[0;34m=\u001b[0m \u001b[0;32mTrue\u001b[0m\u001b[0;34m\u001b[0m\u001b[0;34m\u001b[0m\u001b[0m\n\u001b[0;32m---> 15\u001b[0;31m                     \u001b[0mretval_\u001b[0m \u001b[0;34m=\u001b[0m \u001b[0mag__\u001b[0m\u001b[0;34m.\u001b[0m\u001b[0mconverted_call\u001b[0m\u001b[0;34m(\u001b[0m\u001b[0mag__\u001b[0m\u001b[0;34m.\u001b[0m\u001b[0mld\u001b[0m\u001b[0;34m(\u001b[0m\u001b[0mstep_function\u001b[0m\u001b[0;34m)\u001b[0m\u001b[0;34m,\u001b[0m \u001b[0;34m(\u001b[0m\u001b[0mag__\u001b[0m\u001b[0;34m.\u001b[0m\u001b[0mld\u001b[0m\u001b[0;34m(\u001b[0m\u001b[0mself\u001b[0m\u001b[0;34m)\u001b[0m\u001b[0;34m,\u001b[0m \u001b[0mag__\u001b[0m\u001b[0;34m.\u001b[0m\u001b[0mld\u001b[0m\u001b[0;34m(\u001b[0m\u001b[0miterator\u001b[0m\u001b[0;34m)\u001b[0m\u001b[0;34m)\u001b[0m\u001b[0;34m,\u001b[0m \u001b[0;32mNone\u001b[0m\u001b[0;34m,\u001b[0m \u001b[0mfscope\u001b[0m\u001b[0;34m)\u001b[0m\u001b[0;34m\u001b[0m\u001b[0;34m\u001b[0m\u001b[0m\n\u001b[0m\u001b[1;32m     16\u001b[0m                 \u001b[0;32mexcept\u001b[0m\u001b[0;34m:\u001b[0m\u001b[0;34m\u001b[0m\u001b[0;34m\u001b[0m\u001b[0m\n\u001b[1;32m     17\u001b[0m                     \u001b[0mdo_return\u001b[0m \u001b[0;34m=\u001b[0m \u001b[0;32mFalse\u001b[0m\u001b[0;34m\u001b[0m\u001b[0;34m\u001b[0m\u001b[0m\n",
            "\u001b[0;32m/usr/local/lib/python3.7/dist-packages/tensorflow/python/autograph/impl/api.py\u001b[0m in \u001b[0;36mconverted_call\u001b[0;34m(f, args, kwargs, caller_fn_scope, options)\u001b[0m\n\u001b[1;32m    335\u001b[0m   \u001b[0;32mif\u001b[0m \u001b[0mconversion\u001b[0m\u001b[0;34m.\u001b[0m\u001b[0mis_in_allowlist_cache\u001b[0m\u001b[0;34m(\u001b[0m\u001b[0mf\u001b[0m\u001b[0;34m,\u001b[0m \u001b[0moptions\u001b[0m\u001b[0;34m)\u001b[0m\u001b[0;34m:\u001b[0m\u001b[0;34m\u001b[0m\u001b[0;34m\u001b[0m\u001b[0m\n\u001b[1;32m    336\u001b[0m     \u001b[0mlogging\u001b[0m\u001b[0;34m.\u001b[0m\u001b[0mlog\u001b[0m\u001b[0;34m(\u001b[0m\u001b[0;36m2\u001b[0m\u001b[0;34m,\u001b[0m \u001b[0;34m'Allowlisted %s: from cache'\u001b[0m\u001b[0;34m,\u001b[0m \u001b[0mf\u001b[0m\u001b[0;34m)\u001b[0m\u001b[0;34m\u001b[0m\u001b[0;34m\u001b[0m\u001b[0m\n\u001b[0;32m--> 337\u001b[0;31m     \u001b[0;32mreturn\u001b[0m \u001b[0m_call_unconverted\u001b[0m\u001b[0;34m(\u001b[0m\u001b[0mf\u001b[0m\u001b[0;34m,\u001b[0m \u001b[0margs\u001b[0m\u001b[0;34m,\u001b[0m \u001b[0mkwargs\u001b[0m\u001b[0;34m,\u001b[0m \u001b[0moptions\u001b[0m\u001b[0;34m,\u001b[0m \u001b[0;32mFalse\u001b[0m\u001b[0;34m)\u001b[0m\u001b[0;34m\u001b[0m\u001b[0;34m\u001b[0m\u001b[0m\n\u001b[0m\u001b[1;32m    338\u001b[0m \u001b[0;34m\u001b[0m\u001b[0m\n\u001b[1;32m    339\u001b[0m   \u001b[0;32mif\u001b[0m \u001b[0mag_ctx\u001b[0m\u001b[0;34m.\u001b[0m\u001b[0mcontrol_status_ctx\u001b[0m\u001b[0;34m(\u001b[0m\u001b[0;34m)\u001b[0m\u001b[0;34m.\u001b[0m\u001b[0mstatus\u001b[0m \u001b[0;34m==\u001b[0m \u001b[0mag_ctx\u001b[0m\u001b[0;34m.\u001b[0m\u001b[0mStatus\u001b[0m\u001b[0;34m.\u001b[0m\u001b[0mDISABLED\u001b[0m\u001b[0;34m:\u001b[0m\u001b[0;34m\u001b[0m\u001b[0;34m\u001b[0m\u001b[0m\n",
            "\u001b[0;32m/usr/local/lib/python3.7/dist-packages/tensorflow/python/autograph/impl/api.py\u001b[0m in \u001b[0;36m_call_unconverted\u001b[0;34m(f, args, kwargs, options, update_cache)\u001b[0m\n\u001b[1;32m    463\u001b[0m   \u001b[0;32mif\u001b[0m \u001b[0mkwargs\u001b[0m \u001b[0;32mis\u001b[0m \u001b[0;32mnot\u001b[0m \u001b[0;32mNone\u001b[0m\u001b[0;34m:\u001b[0m\u001b[0;34m\u001b[0m\u001b[0;34m\u001b[0m\u001b[0m\n\u001b[1;32m    464\u001b[0m     \u001b[0;32mreturn\u001b[0m \u001b[0mf\u001b[0m\u001b[0;34m(\u001b[0m\u001b[0;34m*\u001b[0m\u001b[0margs\u001b[0m\u001b[0;34m,\u001b[0m \u001b[0;34m**\u001b[0m\u001b[0mkwargs\u001b[0m\u001b[0;34m)\u001b[0m\u001b[0;34m\u001b[0m\u001b[0;34m\u001b[0m\u001b[0m\n\u001b[0;32m--> 465\u001b[0;31m   \u001b[0;32mreturn\u001b[0m \u001b[0mf\u001b[0m\u001b[0;34m(\u001b[0m\u001b[0;34m*\u001b[0m\u001b[0margs\u001b[0m\u001b[0;34m)\u001b[0m\u001b[0;34m\u001b[0m\u001b[0;34m\u001b[0m\u001b[0m\n\u001b[0m\u001b[1;32m    466\u001b[0m \u001b[0;34m\u001b[0m\u001b[0m\n\u001b[1;32m    467\u001b[0m \u001b[0;34m\u001b[0m\u001b[0m\n",
            "\u001b[0;32m/usr/local/lib/python3.7/dist-packages/keras/engine/training.py\u001b[0m in \u001b[0;36mstep_function\u001b[0;34m(model, iterator)\u001b[0m\n\u001b[1;32m    865\u001b[0m \u001b[0;34m\u001b[0m\u001b[0m\n\u001b[1;32m    866\u001b[0m       \u001b[0mdata\u001b[0m \u001b[0;34m=\u001b[0m \u001b[0mnext\u001b[0m\u001b[0;34m(\u001b[0m\u001b[0miterator\u001b[0m\u001b[0;34m)\u001b[0m\u001b[0;34m\u001b[0m\u001b[0;34m\u001b[0m\u001b[0m\n\u001b[0;32m--> 867\u001b[0;31m       \u001b[0moutputs\u001b[0m \u001b[0;34m=\u001b[0m \u001b[0mmodel\u001b[0m\u001b[0;34m.\u001b[0m\u001b[0mdistribute_strategy\u001b[0m\u001b[0;34m.\u001b[0m\u001b[0mrun\u001b[0m\u001b[0;34m(\u001b[0m\u001b[0mrun_step\u001b[0m\u001b[0;34m,\u001b[0m \u001b[0margs\u001b[0m\u001b[0;34m=\u001b[0m\u001b[0;34m(\u001b[0m\u001b[0mdata\u001b[0m\u001b[0;34m,\u001b[0m\u001b[0;34m)\u001b[0m\u001b[0;34m)\u001b[0m\u001b[0;34m\u001b[0m\u001b[0;34m\u001b[0m\u001b[0m\n\u001b[0m\u001b[1;32m    868\u001b[0m       outputs = reduce_per_replica(\n\u001b[1;32m    869\u001b[0m           outputs, self.distribute_strategy, reduction='first')\n",
            "\u001b[0;32m/usr/local/lib/python3.7/dist-packages/tensorflow/python/distribute/distribute_lib.py\u001b[0m in \u001b[0;36mrun\u001b[0;34m(***failed resolving arguments***)\u001b[0m\n\u001b[1;32m   1314\u001b[0m       fn = autograph.tf_convert(\n\u001b[1;32m   1315\u001b[0m           fn, autograph_ctx.control_status_ctx(), convert_by_default=False)\n\u001b[0;32m-> 1316\u001b[0;31m       \u001b[0;32mreturn\u001b[0m \u001b[0mself\u001b[0m\u001b[0;34m.\u001b[0m\u001b[0m_extended\u001b[0m\u001b[0;34m.\u001b[0m\u001b[0mcall_for_each_replica\u001b[0m\u001b[0;34m(\u001b[0m\u001b[0mfn\u001b[0m\u001b[0;34m,\u001b[0m \u001b[0margs\u001b[0m\u001b[0;34m=\u001b[0m\u001b[0margs\u001b[0m\u001b[0;34m,\u001b[0m \u001b[0mkwargs\u001b[0m\u001b[0;34m=\u001b[0m\u001b[0mkwargs\u001b[0m\u001b[0;34m)\u001b[0m\u001b[0;34m\u001b[0m\u001b[0;34m\u001b[0m\u001b[0m\n\u001b[0m\u001b[1;32m   1317\u001b[0m \u001b[0;34m\u001b[0m\u001b[0m\n\u001b[1;32m   1318\u001b[0m   \u001b[0;32mdef\u001b[0m \u001b[0mreduce\u001b[0m\u001b[0;34m(\u001b[0m\u001b[0mself\u001b[0m\u001b[0;34m,\u001b[0m \u001b[0mreduce_op\u001b[0m\u001b[0;34m,\u001b[0m \u001b[0mvalue\u001b[0m\u001b[0;34m,\u001b[0m \u001b[0maxis\u001b[0m\u001b[0;34m)\u001b[0m\u001b[0;34m:\u001b[0m\u001b[0;34m\u001b[0m\u001b[0;34m\u001b[0m\u001b[0m\n",
            "\u001b[0;32m/usr/local/lib/python3.7/dist-packages/tensorflow/python/distribute/distribute_lib.py\u001b[0m in \u001b[0;36mcall_for_each_replica\u001b[0;34m(self, fn, args, kwargs)\u001b[0m\n\u001b[1;32m   2890\u001b[0m       \u001b[0mkwargs\u001b[0m \u001b[0;34m=\u001b[0m \u001b[0;34m{\u001b[0m\u001b[0;34m}\u001b[0m\u001b[0;34m\u001b[0m\u001b[0;34m\u001b[0m\u001b[0m\n\u001b[1;32m   2891\u001b[0m     \u001b[0;32mwith\u001b[0m \u001b[0mself\u001b[0m\u001b[0;34m.\u001b[0m\u001b[0m_container_strategy\u001b[0m\u001b[0;34m(\u001b[0m\u001b[0;34m)\u001b[0m\u001b[0;34m.\u001b[0m\u001b[0mscope\u001b[0m\u001b[0;34m(\u001b[0m\u001b[0;34m)\u001b[0m\u001b[0;34m:\u001b[0m\u001b[0;34m\u001b[0m\u001b[0;34m\u001b[0m\u001b[0m\n\u001b[0;32m-> 2892\u001b[0;31m       \u001b[0;32mreturn\u001b[0m \u001b[0mself\u001b[0m\u001b[0;34m.\u001b[0m\u001b[0m_call_for_each_replica\u001b[0m\u001b[0;34m(\u001b[0m\u001b[0mfn\u001b[0m\u001b[0;34m,\u001b[0m \u001b[0margs\u001b[0m\u001b[0;34m,\u001b[0m \u001b[0mkwargs\u001b[0m\u001b[0;34m)\u001b[0m\u001b[0;34m\u001b[0m\u001b[0;34m\u001b[0m\u001b[0m\n\u001b[0m\u001b[1;32m   2893\u001b[0m \u001b[0;34m\u001b[0m\u001b[0m\n\u001b[1;32m   2894\u001b[0m   \u001b[0;32mdef\u001b[0m \u001b[0m_call_for_each_replica\u001b[0m\u001b[0;34m(\u001b[0m\u001b[0mself\u001b[0m\u001b[0;34m,\u001b[0m \u001b[0mfn\u001b[0m\u001b[0;34m,\u001b[0m \u001b[0margs\u001b[0m\u001b[0;34m,\u001b[0m \u001b[0mkwargs\u001b[0m\u001b[0;34m)\u001b[0m\u001b[0;34m:\u001b[0m\u001b[0;34m\u001b[0m\u001b[0;34m\u001b[0m\u001b[0m\n",
            "\u001b[0;32m/usr/local/lib/python3.7/dist-packages/tensorflow/python/distribute/distribute_lib.py\u001b[0m in \u001b[0;36m_call_for_each_replica\u001b[0;34m(self, fn, args, kwargs)\u001b[0m\n\u001b[1;32m   3693\u001b[0m   \u001b[0;32mdef\u001b[0m \u001b[0m_call_for_each_replica\u001b[0m\u001b[0;34m(\u001b[0m\u001b[0mself\u001b[0m\u001b[0;34m,\u001b[0m \u001b[0mfn\u001b[0m\u001b[0;34m,\u001b[0m \u001b[0margs\u001b[0m\u001b[0;34m,\u001b[0m \u001b[0mkwargs\u001b[0m\u001b[0;34m)\u001b[0m\u001b[0;34m:\u001b[0m\u001b[0;34m\u001b[0m\u001b[0;34m\u001b[0m\u001b[0m\n\u001b[1;32m   3694\u001b[0m     \u001b[0;32mwith\u001b[0m \u001b[0mReplicaContext\u001b[0m\u001b[0;34m(\u001b[0m\u001b[0mself\u001b[0m\u001b[0;34m.\u001b[0m\u001b[0m_container_strategy\u001b[0m\u001b[0;34m(\u001b[0m\u001b[0;34m)\u001b[0m\u001b[0;34m,\u001b[0m \u001b[0mreplica_id_in_sync_group\u001b[0m\u001b[0;34m=\u001b[0m\u001b[0;36m0\u001b[0m\u001b[0;34m)\u001b[0m\u001b[0;34m:\u001b[0m\u001b[0;34m\u001b[0m\u001b[0;34m\u001b[0m\u001b[0m\n\u001b[0;32m-> 3695\u001b[0;31m       \u001b[0;32mreturn\u001b[0m \u001b[0mfn\u001b[0m\u001b[0;34m(\u001b[0m\u001b[0;34m*\u001b[0m\u001b[0margs\u001b[0m\u001b[0;34m,\u001b[0m \u001b[0;34m**\u001b[0m\u001b[0mkwargs\u001b[0m\u001b[0;34m)\u001b[0m\u001b[0;34m\u001b[0m\u001b[0;34m\u001b[0m\u001b[0m\n\u001b[0m\u001b[1;32m   3696\u001b[0m \u001b[0;34m\u001b[0m\u001b[0m\n\u001b[1;32m   3697\u001b[0m   \u001b[0;32mdef\u001b[0m \u001b[0m_reduce_to\u001b[0m\u001b[0;34m(\u001b[0m\u001b[0mself\u001b[0m\u001b[0;34m,\u001b[0m \u001b[0mreduce_op\u001b[0m\u001b[0;34m,\u001b[0m \u001b[0mvalue\u001b[0m\u001b[0;34m,\u001b[0m \u001b[0mdestinations\u001b[0m\u001b[0;34m,\u001b[0m \u001b[0moptions\u001b[0m\u001b[0;34m)\u001b[0m\u001b[0;34m:\u001b[0m\u001b[0;34m\u001b[0m\u001b[0;34m\u001b[0m\u001b[0m\n",
            "\u001b[0;32m/usr/local/lib/python3.7/dist-packages/tensorflow/python/autograph/impl/api.py\u001b[0m in \u001b[0;36mwrapper\u001b[0;34m(*args, **kwargs)\u001b[0m\n\u001b[1;32m    694\u001b[0m       \u001b[0;32mtry\u001b[0m\u001b[0;34m:\u001b[0m\u001b[0;34m\u001b[0m\u001b[0;34m\u001b[0m\u001b[0m\n\u001b[1;32m    695\u001b[0m         \u001b[0;32mwith\u001b[0m \u001b[0mconversion_ctx\u001b[0m\u001b[0;34m:\u001b[0m\u001b[0;34m\u001b[0m\u001b[0;34m\u001b[0m\u001b[0m\n\u001b[0;32m--> 696\u001b[0;31m           \u001b[0;32mreturn\u001b[0m \u001b[0mconverted_call\u001b[0m\u001b[0;34m(\u001b[0m\u001b[0mf\u001b[0m\u001b[0;34m,\u001b[0m \u001b[0margs\u001b[0m\u001b[0;34m,\u001b[0m \u001b[0mkwargs\u001b[0m\u001b[0;34m,\u001b[0m \u001b[0moptions\u001b[0m\u001b[0;34m=\u001b[0m\u001b[0moptions\u001b[0m\u001b[0;34m)\u001b[0m\u001b[0;34m\u001b[0m\u001b[0;34m\u001b[0m\u001b[0m\n\u001b[0m\u001b[1;32m    697\u001b[0m       \u001b[0;32mexcept\u001b[0m \u001b[0mException\u001b[0m \u001b[0;32mas\u001b[0m \u001b[0me\u001b[0m\u001b[0;34m:\u001b[0m  \u001b[0;31m# pylint:disable=broad-except\u001b[0m\u001b[0;34m\u001b[0m\u001b[0;34m\u001b[0m\u001b[0m\n\u001b[1;32m    698\u001b[0m         \u001b[0;32mif\u001b[0m \u001b[0mhasattr\u001b[0m\u001b[0;34m(\u001b[0m\u001b[0me\u001b[0m\u001b[0;34m,\u001b[0m \u001b[0;34m'ag_error_metadata'\u001b[0m\u001b[0;34m)\u001b[0m\u001b[0;34m:\u001b[0m\u001b[0;34m\u001b[0m\u001b[0;34m\u001b[0m\u001b[0m\n",
            "\u001b[0;32m/usr/local/lib/python3.7/dist-packages/tensorflow/python/autograph/impl/api.py\u001b[0m in \u001b[0;36mconverted_call\u001b[0;34m(f, args, kwargs, caller_fn_scope, options)\u001b[0m\n\u001b[1;32m    381\u001b[0m \u001b[0;34m\u001b[0m\u001b[0m\n\u001b[1;32m    382\u001b[0m   \u001b[0;32mif\u001b[0m \u001b[0;32mnot\u001b[0m \u001b[0moptions\u001b[0m\u001b[0;34m.\u001b[0m\u001b[0muser_requested\u001b[0m \u001b[0;32mand\u001b[0m \u001b[0mconversion\u001b[0m\u001b[0;34m.\u001b[0m\u001b[0mis_allowlisted\u001b[0m\u001b[0;34m(\u001b[0m\u001b[0mf\u001b[0m\u001b[0;34m)\u001b[0m\u001b[0;34m:\u001b[0m\u001b[0;34m\u001b[0m\u001b[0;34m\u001b[0m\u001b[0m\n\u001b[0;32m--> 383\u001b[0;31m     \u001b[0;32mreturn\u001b[0m \u001b[0m_call_unconverted\u001b[0m\u001b[0;34m(\u001b[0m\u001b[0mf\u001b[0m\u001b[0;34m,\u001b[0m \u001b[0margs\u001b[0m\u001b[0;34m,\u001b[0m \u001b[0mkwargs\u001b[0m\u001b[0;34m,\u001b[0m \u001b[0moptions\u001b[0m\u001b[0;34m)\u001b[0m\u001b[0;34m\u001b[0m\u001b[0;34m\u001b[0m\u001b[0m\n\u001b[0m\u001b[1;32m    384\u001b[0m \u001b[0;34m\u001b[0m\u001b[0m\n\u001b[1;32m    385\u001b[0m   \u001b[0;31m# internal_convert_user_code is for example turned off when issuing a dynamic\u001b[0m\u001b[0;34m\u001b[0m\u001b[0;34m\u001b[0m\u001b[0;34m\u001b[0m\u001b[0m\n",
            "\u001b[0;32m/usr/local/lib/python3.7/dist-packages/tensorflow/python/autograph/impl/api.py\u001b[0m in \u001b[0;36m_call_unconverted\u001b[0;34m(f, args, kwargs, options, update_cache)\u001b[0m\n\u001b[1;32m    462\u001b[0m \u001b[0;34m\u001b[0m\u001b[0m\n\u001b[1;32m    463\u001b[0m   \u001b[0;32mif\u001b[0m \u001b[0mkwargs\u001b[0m \u001b[0;32mis\u001b[0m \u001b[0;32mnot\u001b[0m \u001b[0;32mNone\u001b[0m\u001b[0;34m:\u001b[0m\u001b[0;34m\u001b[0m\u001b[0;34m\u001b[0m\u001b[0m\n\u001b[0;32m--> 464\u001b[0;31m     \u001b[0;32mreturn\u001b[0m \u001b[0mf\u001b[0m\u001b[0;34m(\u001b[0m\u001b[0;34m*\u001b[0m\u001b[0margs\u001b[0m\u001b[0;34m,\u001b[0m \u001b[0;34m**\u001b[0m\u001b[0mkwargs\u001b[0m\u001b[0;34m)\u001b[0m\u001b[0;34m\u001b[0m\u001b[0;34m\u001b[0m\u001b[0m\n\u001b[0m\u001b[1;32m    465\u001b[0m   \u001b[0;32mreturn\u001b[0m \u001b[0mf\u001b[0m\u001b[0;34m(\u001b[0m\u001b[0;34m*\u001b[0m\u001b[0margs\u001b[0m\u001b[0;34m)\u001b[0m\u001b[0;34m\u001b[0m\u001b[0;34m\u001b[0m\u001b[0m\n\u001b[1;32m    466\u001b[0m \u001b[0;34m\u001b[0m\u001b[0m\n",
            "\u001b[0;32m/usr/local/lib/python3.7/dist-packages/keras/engine/training.py\u001b[0m in \u001b[0;36mrun_step\u001b[0;34m(data)\u001b[0m\n\u001b[1;32m    858\u001b[0m \u001b[0;34m\u001b[0m\u001b[0m\n\u001b[1;32m    859\u001b[0m       \u001b[0;32mdef\u001b[0m \u001b[0mrun_step\u001b[0m\u001b[0;34m(\u001b[0m\u001b[0mdata\u001b[0m\u001b[0;34m)\u001b[0m\u001b[0;34m:\u001b[0m\u001b[0;34m\u001b[0m\u001b[0;34m\u001b[0m\u001b[0m\n\u001b[0;32m--> 860\u001b[0;31m         \u001b[0moutputs\u001b[0m \u001b[0;34m=\u001b[0m \u001b[0mmodel\u001b[0m\u001b[0;34m.\u001b[0m\u001b[0mtrain_step\u001b[0m\u001b[0;34m(\u001b[0m\u001b[0mdata\u001b[0m\u001b[0;34m)\u001b[0m\u001b[0;34m\u001b[0m\u001b[0;34m\u001b[0m\u001b[0m\n\u001b[0m\u001b[1;32m    861\u001b[0m         \u001b[0;31m# Ensure counter is updated only if `train_step` succeeds.\u001b[0m\u001b[0;34m\u001b[0m\u001b[0;34m\u001b[0m\u001b[0;34m\u001b[0m\u001b[0m\n\u001b[1;32m    862\u001b[0m         \u001b[0;32mwith\u001b[0m \u001b[0mtf\u001b[0m\u001b[0;34m.\u001b[0m\u001b[0mcontrol_dependencies\u001b[0m\u001b[0;34m(\u001b[0m\u001b[0m_minimum_control_deps\u001b[0m\u001b[0;34m(\u001b[0m\u001b[0moutputs\u001b[0m\u001b[0;34m)\u001b[0m\u001b[0;34m)\u001b[0m\u001b[0;34m:\u001b[0m\u001b[0;34m\u001b[0m\u001b[0;34m\u001b[0m\u001b[0m\n",
            "\u001b[0;32m/usr/local/lib/python3.7/dist-packages/keras/engine/training.py\u001b[0m in \u001b[0;36mtrain_step\u001b[0;34m(self, data)\u001b[0m\n\u001b[1;32m    814\u001b[0m           'and therefore expects target data to be passed in `fit()`.')\n\u001b[1;32m    815\u001b[0m     \u001b[0;31m# Run backwards pass.\u001b[0m\u001b[0;34m\u001b[0m\u001b[0;34m\u001b[0m\u001b[0;34m\u001b[0m\u001b[0m\n\u001b[0;32m--> 816\u001b[0;31m     \u001b[0mself\u001b[0m\u001b[0;34m.\u001b[0m\u001b[0moptimizer\u001b[0m\u001b[0;34m.\u001b[0m\u001b[0mminimize\u001b[0m\u001b[0;34m(\u001b[0m\u001b[0mloss\u001b[0m\u001b[0;34m,\u001b[0m \u001b[0mself\u001b[0m\u001b[0;34m.\u001b[0m\u001b[0mtrainable_variables\u001b[0m\u001b[0;34m,\u001b[0m \u001b[0mtape\u001b[0m\u001b[0;34m=\u001b[0m\u001b[0mtape\u001b[0m\u001b[0;34m)\u001b[0m\u001b[0;34m\u001b[0m\u001b[0;34m\u001b[0m\u001b[0m\n\u001b[0m\u001b[1;32m    817\u001b[0m     \u001b[0mself\u001b[0m\u001b[0;34m.\u001b[0m\u001b[0mcompiled_metrics\u001b[0m\u001b[0;34m.\u001b[0m\u001b[0mupdate_state\u001b[0m\u001b[0;34m(\u001b[0m\u001b[0my\u001b[0m\u001b[0;34m,\u001b[0m \u001b[0my_pred\u001b[0m\u001b[0;34m,\u001b[0m \u001b[0msample_weight\u001b[0m\u001b[0;34m)\u001b[0m\u001b[0;34m\u001b[0m\u001b[0;34m\u001b[0m\u001b[0m\n\u001b[1;32m    818\u001b[0m     \u001b[0;31m# Collect metrics to return\u001b[0m\u001b[0;34m\u001b[0m\u001b[0;34m\u001b[0m\u001b[0;34m\u001b[0m\u001b[0m\n",
            "\u001b[0;32m/usr/local/lib/python3.7/dist-packages/keras/optimizer_v2/optimizer_v2.py\u001b[0m in \u001b[0;36mminimize\u001b[0;34m(self, loss, var_list, grad_loss, name, tape)\u001b[0m\n\u001b[1;32m    529\u001b[0m     \"\"\"\n\u001b[1;32m    530\u001b[0m     grads_and_vars = self._compute_gradients(\n\u001b[0;32m--> 531\u001b[0;31m         loss, var_list=var_list, grad_loss=grad_loss, tape=tape)\n\u001b[0m\u001b[1;32m    532\u001b[0m     \u001b[0;32mreturn\u001b[0m \u001b[0mself\u001b[0m\u001b[0;34m.\u001b[0m\u001b[0mapply_gradients\u001b[0m\u001b[0;34m(\u001b[0m\u001b[0mgrads_and_vars\u001b[0m\u001b[0;34m,\u001b[0m \u001b[0mname\u001b[0m\u001b[0;34m=\u001b[0m\u001b[0mname\u001b[0m\u001b[0;34m)\u001b[0m\u001b[0;34m\u001b[0m\u001b[0;34m\u001b[0m\u001b[0m\n\u001b[1;32m    533\u001b[0m \u001b[0;34m\u001b[0m\u001b[0m\n",
            "\u001b[0;32m/usr/local/lib/python3.7/dist-packages/keras/optimizer_v2/optimizer_v2.py\u001b[0m in \u001b[0;36m_compute_gradients\u001b[0;34m(self, loss, var_list, grad_loss, tape)\u001b[0m\n\u001b[1;32m    581\u001b[0m     \u001b[0mvar_list\u001b[0m \u001b[0;34m=\u001b[0m \u001b[0mtf\u001b[0m\u001b[0;34m.\u001b[0m\u001b[0mnest\u001b[0m\u001b[0;34m.\u001b[0m\u001b[0mflatten\u001b[0m\u001b[0;34m(\u001b[0m\u001b[0mvar_list\u001b[0m\u001b[0;34m)\u001b[0m\u001b[0;34m\u001b[0m\u001b[0;34m\u001b[0m\u001b[0m\n\u001b[1;32m    582\u001b[0m     \u001b[0;32mwith\u001b[0m \u001b[0mtf\u001b[0m\u001b[0;34m.\u001b[0m\u001b[0mname_scope\u001b[0m\u001b[0;34m(\u001b[0m\u001b[0mself\u001b[0m\u001b[0;34m.\u001b[0m\u001b[0m_name\u001b[0m \u001b[0;34m+\u001b[0m \u001b[0;34m\"/gradients\"\u001b[0m\u001b[0;34m)\u001b[0m\u001b[0;34m:\u001b[0m\u001b[0;34m\u001b[0m\u001b[0;34m\u001b[0m\u001b[0m\n\u001b[0;32m--> 583\u001b[0;31m       \u001b[0mgrads_and_vars\u001b[0m \u001b[0;34m=\u001b[0m \u001b[0mself\u001b[0m\u001b[0;34m.\u001b[0m\u001b[0m_get_gradients\u001b[0m\u001b[0;34m(\u001b[0m\u001b[0mtape\u001b[0m\u001b[0;34m,\u001b[0m \u001b[0mloss\u001b[0m\u001b[0;34m,\u001b[0m \u001b[0mvar_list\u001b[0m\u001b[0;34m,\u001b[0m \u001b[0mgrad_loss\u001b[0m\u001b[0;34m)\u001b[0m\u001b[0;34m\u001b[0m\u001b[0;34m\u001b[0m\u001b[0m\n\u001b[0m\u001b[1;32m    584\u001b[0m \u001b[0;34m\u001b[0m\u001b[0m\n\u001b[1;32m    585\u001b[0m     self._assert_valid_dtypes([\n",
            "\u001b[0;32m/usr/local/lib/python3.7/dist-packages/keras/optimizer_v2/optimizer_v2.py\u001b[0m in \u001b[0;36m_get_gradients\u001b[0;34m(self, tape, loss, var_list, grad_loss)\u001b[0m\n\u001b[1;32m    462\u001b[0m   \u001b[0;32mdef\u001b[0m \u001b[0m_get_gradients\u001b[0m\u001b[0;34m(\u001b[0m\u001b[0mself\u001b[0m\u001b[0;34m,\u001b[0m \u001b[0mtape\u001b[0m\u001b[0;34m,\u001b[0m \u001b[0mloss\u001b[0m\u001b[0;34m,\u001b[0m \u001b[0mvar_list\u001b[0m\u001b[0;34m,\u001b[0m \u001b[0mgrad_loss\u001b[0m\u001b[0;34m=\u001b[0m\u001b[0;32mNone\u001b[0m\u001b[0;34m)\u001b[0m\u001b[0;34m:\u001b[0m\u001b[0;34m\u001b[0m\u001b[0;34m\u001b[0m\u001b[0m\n\u001b[1;32m    463\u001b[0m     \u001b[0;34m\"\"\"Called in `minimize` to compute gradients from loss.\"\"\"\u001b[0m\u001b[0;34m\u001b[0m\u001b[0;34m\u001b[0m\u001b[0m\n\u001b[0;32m--> 464\u001b[0;31m     \u001b[0mgrads\u001b[0m \u001b[0;34m=\u001b[0m \u001b[0mtape\u001b[0m\u001b[0;34m.\u001b[0m\u001b[0mgradient\u001b[0m\u001b[0;34m(\u001b[0m\u001b[0mloss\u001b[0m\u001b[0;34m,\u001b[0m \u001b[0mvar_list\u001b[0m\u001b[0;34m,\u001b[0m \u001b[0mgrad_loss\u001b[0m\u001b[0;34m)\u001b[0m\u001b[0;34m\u001b[0m\u001b[0;34m\u001b[0m\u001b[0m\n\u001b[0m\u001b[1;32m    465\u001b[0m     \u001b[0;32mreturn\u001b[0m \u001b[0mlist\u001b[0m\u001b[0;34m(\u001b[0m\u001b[0mzip\u001b[0m\u001b[0;34m(\u001b[0m\u001b[0mgrads\u001b[0m\u001b[0;34m,\u001b[0m \u001b[0mvar_list\u001b[0m\u001b[0;34m)\u001b[0m\u001b[0;34m)\u001b[0m\u001b[0;34m\u001b[0m\u001b[0;34m\u001b[0m\u001b[0m\n\u001b[1;32m    466\u001b[0m \u001b[0;34m\u001b[0m\u001b[0m\n",
            "\u001b[0;32m/usr/local/lib/python3.7/dist-packages/tensorflow/python/eager/backprop.py\u001b[0m in \u001b[0;36mgradient\u001b[0;34m(self, target, sources, output_gradients, unconnected_gradients)\u001b[0m\n\u001b[1;32m   1088\u001b[0m         \u001b[0moutput_gradients\u001b[0m\u001b[0;34m=\u001b[0m\u001b[0moutput_gradients\u001b[0m\u001b[0;34m,\u001b[0m\u001b[0;34m\u001b[0m\u001b[0;34m\u001b[0m\u001b[0m\n\u001b[1;32m   1089\u001b[0m         \u001b[0msources_raw\u001b[0m\u001b[0;34m=\u001b[0m\u001b[0mflat_sources_raw\u001b[0m\u001b[0;34m,\u001b[0m\u001b[0;34m\u001b[0m\u001b[0;34m\u001b[0m\u001b[0m\n\u001b[0;32m-> 1090\u001b[0;31m         unconnected_gradients=unconnected_gradients)\n\u001b[0m\u001b[1;32m   1091\u001b[0m \u001b[0;34m\u001b[0m\u001b[0m\n\u001b[1;32m   1092\u001b[0m     \u001b[0;32mif\u001b[0m \u001b[0;32mnot\u001b[0m \u001b[0mself\u001b[0m\u001b[0;34m.\u001b[0m\u001b[0m_persistent\u001b[0m\u001b[0;34m:\u001b[0m\u001b[0;34m\u001b[0m\u001b[0;34m\u001b[0m\u001b[0m\n",
            "\u001b[0;32m/usr/local/lib/python3.7/dist-packages/tensorflow/python/eager/imperative_grad.py\u001b[0m in \u001b[0;36mimperative_grad\u001b[0;34m(tape, target, sources, output_gradients, sources_raw, unconnected_gradients)\u001b[0m\n\u001b[1;32m     75\u001b[0m       \u001b[0moutput_gradients\u001b[0m\u001b[0;34m,\u001b[0m\u001b[0;34m\u001b[0m\u001b[0;34m\u001b[0m\u001b[0m\n\u001b[1;32m     76\u001b[0m       \u001b[0msources_raw\u001b[0m\u001b[0;34m,\u001b[0m\u001b[0;34m\u001b[0m\u001b[0;34m\u001b[0m\u001b[0m\n\u001b[0;32m---> 77\u001b[0;31m       compat.as_str(unconnected_gradients.value))\n\u001b[0m",
            "\u001b[0;32m/usr/local/lib/python3.7/dist-packages/tensorflow/python/eager/backprop.py\u001b[0m in \u001b[0;36m_gradient_function\u001b[0;34m(op_name, attr_tuple, num_inputs, inputs, outputs, out_grads, skip_input_indices, forward_pass_name_scope)\u001b[0m\n\u001b[1;32m    157\u001b[0m       \u001b[0mgradient_name_scope\u001b[0m \u001b[0;34m+=\u001b[0m \u001b[0mforward_pass_name_scope\u001b[0m \u001b[0;34m+\u001b[0m \u001b[0;34m\"/\"\u001b[0m\u001b[0;34m\u001b[0m\u001b[0;34m\u001b[0m\u001b[0m\n\u001b[1;32m    158\u001b[0m     \u001b[0;32mwith\u001b[0m \u001b[0mops\u001b[0m\u001b[0;34m.\u001b[0m\u001b[0mname_scope\u001b[0m\u001b[0;34m(\u001b[0m\u001b[0mgradient_name_scope\u001b[0m\u001b[0;34m)\u001b[0m\u001b[0;34m:\u001b[0m\u001b[0;34m\u001b[0m\u001b[0;34m\u001b[0m\u001b[0m\n\u001b[0;32m--> 159\u001b[0;31m       \u001b[0;32mreturn\u001b[0m \u001b[0mgrad_fn\u001b[0m\u001b[0;34m(\u001b[0m\u001b[0mmock_op\u001b[0m\u001b[0;34m,\u001b[0m \u001b[0;34m*\u001b[0m\u001b[0mout_grads\u001b[0m\u001b[0;34m)\u001b[0m\u001b[0;34m\u001b[0m\u001b[0;34m\u001b[0m\u001b[0m\n\u001b[0m\u001b[1;32m    160\u001b[0m   \u001b[0;32melse\u001b[0m\u001b[0;34m:\u001b[0m\u001b[0;34m\u001b[0m\u001b[0;34m\u001b[0m\u001b[0m\n\u001b[1;32m    161\u001b[0m     \u001b[0;32mreturn\u001b[0m \u001b[0mgrad_fn\u001b[0m\u001b[0;34m(\u001b[0m\u001b[0mmock_op\u001b[0m\u001b[0;34m,\u001b[0m \u001b[0;34m*\u001b[0m\u001b[0mout_grads\u001b[0m\u001b[0;34m)\u001b[0m\u001b[0;34m\u001b[0m\u001b[0;34m\u001b[0m\u001b[0m\n",
            "\u001b[0;32m/usr/local/lib/python3.7/dist-packages/tensorflow/python/ops/while_v2.py\u001b[0m in \u001b[0;36m_WhileGrad\u001b[0;34m(op, *grads)\u001b[0m\n\u001b[1;32m    388\u001b[0m       \u001b[0mys\u001b[0m\u001b[0;34m,\u001b[0m \u001b[0mxs\u001b[0m\u001b[0;34m,\u001b[0m \u001b[0mnon_none_grads\u001b[0m\u001b[0;34m,\u001b[0m \u001b[0mcond_graph\u001b[0m\u001b[0;34m,\u001b[0m \u001b[0mbody_graph\u001b[0m\u001b[0;34m,\u001b[0m\u001b[0;34m\u001b[0m\u001b[0;34m\u001b[0m\u001b[0m\n\u001b[1;32m    389\u001b[0m       \u001b[0mutil\u001b[0m\u001b[0;34m.\u001b[0m\u001b[0munique_grad_fn_name\u001b[0m\u001b[0;34m(\u001b[0m\u001b[0mbody_graph\u001b[0m\u001b[0;34m.\u001b[0m\u001b[0mname\u001b[0m\u001b[0;34m)\u001b[0m\u001b[0;34m,\u001b[0m \u001b[0mop\u001b[0m\u001b[0;34m,\u001b[0m \u001b[0mmaximum_iterations\u001b[0m\u001b[0;34m,\u001b[0m\u001b[0;34m\u001b[0m\u001b[0;34m\u001b[0m\u001b[0m\n\u001b[0;32m--> 390\u001b[0;31m       stateful_parallelism)\n\u001b[0m\u001b[1;32m    391\u001b[0m \u001b[0;34m\u001b[0m\u001b[0m\n\u001b[1;32m    392\u001b[0m   \u001b[0;32mif\u001b[0m \u001b[0mbody_grad_graph\u001b[0m\u001b[0;34m.\u001b[0m\u001b[0mwhile_op_needs_rewrite\u001b[0m\u001b[0;34m:\u001b[0m\u001b[0;34m\u001b[0m\u001b[0;34m\u001b[0m\u001b[0m\n",
            "\u001b[0;32m/usr/local/lib/python3.7/dist-packages/tensorflow/python/ops/while_v2.py\u001b[0m in \u001b[0;36m_create_grad_func\u001b[0;34m(ys, xs, grads, cond_graph, body_graph, name, while_op, maximum_iterations, stateful_parallelism)\u001b[0m\n\u001b[1;32m    694\u001b[0m                                          \u001b[0mmaximum_iterations\u001b[0m\u001b[0;34m,\u001b[0m \u001b[0mwhile_op\u001b[0m\u001b[0;34m,\u001b[0m\u001b[0;34m\u001b[0m\u001b[0;34m\u001b[0m\u001b[0m\n\u001b[1;32m    695\u001b[0m                                          body_graph_inputs, body_graph_outputs),\n\u001b[0;32m--> 696\u001b[0;31m       acd_record_initial_resource_uses=stateful_parallelism)\n\u001b[0m\u001b[1;32m    697\u001b[0m \u001b[0;34m\u001b[0m\u001b[0m\n\u001b[1;32m    698\u001b[0m   \u001b[0;31m# Update the list of outputs with tensors corresponding to the captured\u001b[0m\u001b[0;34m\u001b[0m\u001b[0;34m\u001b[0m\u001b[0;34m\u001b[0m\u001b[0m\n",
            "\u001b[0;32m/usr/local/lib/python3.7/dist-packages/tensorflow/python/framework/func_graph.py\u001b[0m in \u001b[0;36mfunc_graph_from_py_func\u001b[0;34m(name, python_func, args, kwargs, signature, func_graph, autograph, autograph_options, add_control_dependencies, arg_names, op_return_value, collections, capture_by_value, override_flat_arg_shapes, acd_record_initial_resource_uses)\u001b[0m\n\u001b[1;32m   1141\u001b[0m         \u001b[0m_\u001b[0m\u001b[0;34m,\u001b[0m \u001b[0moriginal_func\u001b[0m \u001b[0;34m=\u001b[0m \u001b[0mtf_decorator\u001b[0m\u001b[0;34m.\u001b[0m\u001b[0munwrap\u001b[0m\u001b[0;34m(\u001b[0m\u001b[0mpython_func\u001b[0m\u001b[0;34m)\u001b[0m\u001b[0;34m\u001b[0m\u001b[0;34m\u001b[0m\u001b[0m\n\u001b[1;32m   1142\u001b[0m \u001b[0;34m\u001b[0m\u001b[0m\n\u001b[0;32m-> 1143\u001b[0;31m       \u001b[0mfunc_outputs\u001b[0m \u001b[0;34m=\u001b[0m \u001b[0mpython_func\u001b[0m\u001b[0;34m(\u001b[0m\u001b[0;34m*\u001b[0m\u001b[0mfunc_args\u001b[0m\u001b[0;34m,\u001b[0m \u001b[0;34m**\u001b[0m\u001b[0mfunc_kwargs\u001b[0m\u001b[0;34m)\u001b[0m\u001b[0;34m\u001b[0m\u001b[0;34m\u001b[0m\u001b[0m\n\u001b[0m\u001b[1;32m   1144\u001b[0m \u001b[0;34m\u001b[0m\u001b[0m\n\u001b[1;32m   1145\u001b[0m       \u001b[0;31m# invariant: `func_outputs` contains only Tensors, CompositeTensors,\u001b[0m\u001b[0;34m\u001b[0m\u001b[0;34m\u001b[0m\u001b[0;34m\u001b[0m\u001b[0m\n",
            "\u001b[0;32m/usr/local/lib/python3.7/dist-packages/tensorflow/python/ops/while_v2.py\u001b[0m in \u001b[0;36m<lambda>\u001b[0;34m(*args)\u001b[0m\n\u001b[1;32m    689\u001b[0m   grad_func_graph = func_graph_module.func_graph_from_py_func(\n\u001b[1;32m    690\u001b[0m       \u001b[0mname\u001b[0m\u001b[0;34m,\u001b[0m\u001b[0;34m\u001b[0m\u001b[0;34m\u001b[0m\u001b[0m\n\u001b[0;32m--> 691\u001b[0;31m       \u001b[0;32mlambda\u001b[0m \u001b[0;34m*\u001b[0m\u001b[0margs\u001b[0m\u001b[0;34m:\u001b[0m \u001b[0m_grad_fn\u001b[0m\u001b[0;34m(\u001b[0m\u001b[0mys\u001b[0m\u001b[0;34m,\u001b[0m \u001b[0mxs\u001b[0m\u001b[0;34m,\u001b[0m \u001b[0margs\u001b[0m\u001b[0;34m,\u001b[0m \u001b[0mbody_graph\u001b[0m\u001b[0;34m)\u001b[0m\u001b[0;34m,\u001b[0m\u001b[0;34m\u001b[0m\u001b[0;34m\u001b[0m\u001b[0m\n\u001b[0m\u001b[1;32m    692\u001b[0m       \u001b[0margs\u001b[0m\u001b[0;34m,\u001b[0m \u001b[0;34m{\u001b[0m\u001b[0;34m}\u001b[0m\u001b[0;34m,\u001b[0m\u001b[0;34m\u001b[0m\u001b[0;34m\u001b[0m\u001b[0m\n\u001b[1;32m    693\u001b[0m       func_graph=_WhileBodyGradFuncGraph(name, cond_graph, body_graph,\n",
            "\u001b[0;32m/usr/local/lib/python3.7/dist-packages/tensorflow/python/ops/while_v2.py\u001b[0m in \u001b[0;36m_grad_fn\u001b[0;34m(ys, xs, args, func_graph)\u001b[0m\n\u001b[1;32m    747\u001b[0m   grad_outs = gradients_util._GradientsHelper(\n\u001b[1;32m    748\u001b[0m       \u001b[0mys\u001b[0m\u001b[0;34m,\u001b[0m \u001b[0mxs\u001b[0m\u001b[0;34m,\u001b[0m \u001b[0mgrad_ys\u001b[0m\u001b[0;34m=\u001b[0m\u001b[0mgrad_ys\u001b[0m\u001b[0;34m,\u001b[0m \u001b[0msrc_graph\u001b[0m\u001b[0;34m=\u001b[0m\u001b[0mfunc_graph\u001b[0m\u001b[0;34m,\u001b[0m\u001b[0;34m\u001b[0m\u001b[0;34m\u001b[0m\u001b[0m\n\u001b[0;32m--> 749\u001b[0;31m       unconnected_gradients=\"zero\")\n\u001b[0m\u001b[1;32m    750\u001b[0m \u001b[0;34m\u001b[0m\u001b[0m\n\u001b[1;32m    751\u001b[0m   \u001b[0;31m# TODO(b/118712257): Handle the case when grad_outs has None's e.g. when there\u001b[0m\u001b[0;34m\u001b[0m\u001b[0;34m\u001b[0m\u001b[0;34m\u001b[0m\u001b[0m\n",
            "\u001b[0;32m/usr/local/lib/python3.7/dist-packages/tensorflow/python/ops/gradients_util.py\u001b[0m in \u001b[0;36m_GradientsHelper\u001b[0;34m(ys, xs, grad_ys, name, colocate_gradients_with_ops, gate_gradients, aggregation_method, stop_gradients, unconnected_gradients, src_graph)\u001b[0m\n\u001b[1;32m    681\u001b[0m                 \u001b[0;31m# functions.\u001b[0m\u001b[0;34m\u001b[0m\u001b[0;34m\u001b[0m\u001b[0;34m\u001b[0m\u001b[0m\n\u001b[1;32m    682\u001b[0m                 in_grads = _MaybeCompile(grad_scope, op, func_call,\n\u001b[0;32m--> 683\u001b[0;31m                                          lambda: grad_fn(op, *out_grads))\n\u001b[0m\u001b[1;32m    684\u001b[0m               \u001b[0;32melse\u001b[0m\u001b[0;34m:\u001b[0m\u001b[0;34m\u001b[0m\u001b[0;34m\u001b[0m\u001b[0m\n\u001b[1;32m    685\u001b[0m                 \u001b[0;31m# For function call ops, we add a 'SymbolicGradient'\u001b[0m\u001b[0;34m\u001b[0m\u001b[0;34m\u001b[0m\u001b[0;34m\u001b[0m\u001b[0m\n",
            "\u001b[0;32m/usr/local/lib/python3.7/dist-packages/tensorflow/python/ops/gradients_util.py\u001b[0m in \u001b[0;36m_MaybeCompile\u001b[0;34m(scope, op, func, grad_fn)\u001b[0m\n\u001b[1;32m    321\u001b[0m   \u001b[0;32melse\u001b[0m\u001b[0;34m:\u001b[0m\u001b[0;34m\u001b[0m\u001b[0;34m\u001b[0m\u001b[0m\n\u001b[1;32m    322\u001b[0m     \u001b[0;32mtry\u001b[0m\u001b[0;34m:\u001b[0m\u001b[0;34m\u001b[0m\u001b[0;34m\u001b[0m\u001b[0m\n\u001b[0;32m--> 323\u001b[0;31m       \u001b[0mxla_compile\u001b[0m \u001b[0;34m=\u001b[0m \u001b[0mop\u001b[0m\u001b[0;34m.\u001b[0m\u001b[0mget_attr\u001b[0m\u001b[0;34m(\u001b[0m\u001b[0;34m\"_XlaCompile\"\u001b[0m\u001b[0;34m)\u001b[0m\u001b[0;34m\u001b[0m\u001b[0;34m\u001b[0m\u001b[0m\n\u001b[0m\u001b[1;32m    324\u001b[0m       xla_separate_compiled_gradients = op.get_attr(\n\u001b[1;32m    325\u001b[0m           \"_XlaSeparateCompiledGradients\")\n",
            "\u001b[0;32m/usr/local/lib/python3.7/dist-packages/tensorflow/python/framework/ops.py\u001b[0m in \u001b[0;36mget_attr\u001b[0;34m(self, name)\u001b[0m\n\u001b[1;32m   2614\u001b[0m     \u001b[0;32mtry\u001b[0m\u001b[0;34m:\u001b[0m\u001b[0;34m\u001b[0m\u001b[0;34m\u001b[0m\u001b[0m\n\u001b[1;32m   2615\u001b[0m       \u001b[0;32mwith\u001b[0m \u001b[0mc_api_util\u001b[0m\u001b[0;34m.\u001b[0m\u001b[0mtf_buffer\u001b[0m\u001b[0;34m(\u001b[0m\u001b[0;34m)\u001b[0m \u001b[0;32mas\u001b[0m \u001b[0mbuf\u001b[0m\u001b[0;34m:\u001b[0m\u001b[0;34m\u001b[0m\u001b[0;34m\u001b[0m\u001b[0m\n\u001b[0;32m-> 2616\u001b[0;31m         \u001b[0mpywrap_tf_session\u001b[0m\u001b[0;34m.\u001b[0m\u001b[0mTF_OperationGetAttrValueProto\u001b[0m\u001b[0;34m(\u001b[0m\u001b[0mself\u001b[0m\u001b[0;34m.\u001b[0m\u001b[0m_c_op\u001b[0m\u001b[0;34m,\u001b[0m \u001b[0mname\u001b[0m\u001b[0;34m,\u001b[0m \u001b[0mbuf\u001b[0m\u001b[0;34m)\u001b[0m\u001b[0;34m\u001b[0m\u001b[0;34m\u001b[0m\u001b[0m\n\u001b[0m\u001b[1;32m   2617\u001b[0m         \u001b[0mdata\u001b[0m \u001b[0;34m=\u001b[0m \u001b[0mpywrap_tf_session\u001b[0m\u001b[0;34m.\u001b[0m\u001b[0mTF_GetBuffer\u001b[0m\u001b[0;34m(\u001b[0m\u001b[0mbuf\u001b[0m\u001b[0;34m)\u001b[0m\u001b[0;34m\u001b[0m\u001b[0;34m\u001b[0m\u001b[0m\n\u001b[1;32m   2618\u001b[0m     \u001b[0;32mexcept\u001b[0m \u001b[0merrors\u001b[0m\u001b[0;34m.\u001b[0m\u001b[0mInvalidArgumentError\u001b[0m \u001b[0;32mas\u001b[0m \u001b[0me\u001b[0m\u001b[0;34m:\u001b[0m\u001b[0;34m\u001b[0m\u001b[0;34m\u001b[0m\u001b[0m\n",
            "\u001b[0;31mKeyboardInterrupt\u001b[0m: "
          ]
        }
      ]
    },
    {
      "cell_type": "markdown",
      "metadata": {
        "id": "GE8NJQd511Gs"
      },
      "source": [
        "**SMOTE Results**"
      ]
    },
    {
      "cell_type": "code",
      "metadata": {
        "colab": {
          "base_uri": "https://localhost:8080/",
          "height": 732
        },
        "id": "c96OMCh_nTwi",
        "outputId": "21be6188-79d4-402b-9752-446f1506d0db"
      },
      "source": [
        "y = [i.argmax() for i in y_test]\n",
        "pred = [i.argmax() for i in Best_Predict_Test]\n",
        "cf_matrix_test = confusion_matrix(y, pred)\n",
        "make_confusion_matrix_chart2(cf_matrix_test, ocean + '_vanilla_cm_smote')"
      ],
      "execution_count": null,
      "outputs": [
        {
          "data": {
            "image/png": "[encoded data removed]",
            "text/plain": [
              "<Figure size 1440x864 with 2 Axes>"
            ]
          },
          "metadata": {},
          "output_type": "display_data"
        }
      ]
    },
    {
      "cell_type": "code",
      "metadata": {
        "id": "a0EZ7hlpbgHT"
      },
      "source": [
        "with open(\"predictions_\" + ocean + '_smote' + '.pkl', 'wb') as f: \n",
        "    pickle.dump([y_predicttrain, y_train, Best_Predict_Test, y_test, report_train, report_test, test_acc, test_std_dev], f)"
      ],
      "execution_count": null,
      "outputs": []
    },
    {
      "cell_type": "code",
      "metadata": {
        "colab": {
          "base_uri": "https://localhost:8080/"
        },
        "id": "7qHOrn2_Jh1j",
        "outputId": "19fd984c-961e-4118-b651-f4836d70806b"
      },
      "source": [
        "precision0=[]\n",
        "precision1=[]\n",
        "precisionacc=[]\n",
        "precisionmacavg=[]\n",
        "precisionweighavg=[]\n",
        "recall0=[]\n",
        "recall1=[]\n",
        "recallacc=[]\n",
        "recallmacavg=[]\n",
        "recallweighavg=[]\n",
        "f10=[]\n",
        "f11=[]\n",
        "f1acc=[]\n",
        "f1macavg=[]\n",
        "f1weighavg=[]\n",
        "for i in range(Num_Exp):\n",
        "  precision0.append(report_test[i]['0']['precision'])\n",
        "  precision1.append(report_test[i]['1']['precision'])\n",
        "  precisionacc.append(report_test[i]['accuracy'])\n",
        "  precisionmacavg.append(report_test[i]['macro avg']['precision'])\n",
        "  precisionweighavg.append(report_test[i]['weighted avg']['precision'])\n",
        "  recall0.append(report_test[i]['0']['recall'])\n",
        "  recall1.append(report_test[i]['1']['recall'])\n",
        "  recallacc.append(report_test[i]['accuracy'])\n",
        "  recallmacavg.append(report_test[i]['macro avg']['recall'])\n",
        "  recallweighavg.append(report_test[i]['weighted avg']['recall'])  \n",
        "  f10.append(report_test[i]['0']['f1-score'])\n",
        "  f11.append(report_test[i]['1']['f1-score'])\n",
        "  f1acc.append(report_test[i]['accuracy'])\n",
        "  f1macavg.append(report_test[i]['macro avg']['f1-score'])\n",
        "  f1weighavg.append(report_test[i]['weighted avg']['f1-score'])    \n",
        "print(str(round(np.mean(precision0),4)) + \"±\" + str(round(np.std(precision0),4)),\" & \" + str(round(np.mean(recall0),4)) + \"±\" + str(round(np.std(recall0),4)), \" & \" + str(round(np.mean(f10),4)) + \"±\" + str(round(np.std(f10),4)))\n",
        "print(str(round(np.mean(precision1),4)) + \"±\" + str(round(np.std(precision1),4)),\" & \" + str(round(np.mean(recall1),4)) + \"±\" + str(round(np.std(recall1),4)), \" & \" + str(round(np.mean(f11),4)) + \"±\" + str(round(np.std(f11),4)))\n",
        "print(str(round(np.mean(precisionacc),4)) + \"±\" + str(round(np.std(precisionacc),4)),\" & \" + str(round(np.mean(recallacc),4)) + \"±\" + str(round(np.std(recallacc),4)), \" & \" + str(round(np.mean(f1acc),4)) + \"±\" + str(round(np.std(f1acc),4)))\n",
        "print(str(round(np.mean(precisionmacavg),4)) + \"±\" + str(round(np.std(precisionmacavg),4)),\" & \" + str(round(np.mean(recallmacavg),4)) + \"±\" + str(round(np.std(recallmacavg),4)), \" & \" + str(round(np.mean(f1macavg),4)) + \"±\" + str(round(np.std(f1macavg),4)))\n",
        "print(str(round(np.mean(precisionweighavg),4)) + \"±\" + str(round(np.std(precisionweighavg),4)),\" & \" + str(round(np.mean(recallweighavg),4)) + \"±\" + str(round(np.std(recallweighavg),4)), \" & \" + str(round(np.mean(f1weighavg),4)) + \"±\" + str(round(np.std(f1weighavg),4)))\n"
      ],
      "execution_count": null,
      "outputs": [
        {
          "name": "stdout",
          "output_type": "stream",
          "text": [
            "0.9959 ± 0.0002  & 0.9619±0.0014  & 0.9786±0.0007\n",
            "0.201 ± 0.0056  & 0.7063±0.0112  & 0.313±0.007\n",
            "0.9585 ± 0.0013  & 0.9585±0.0013  & 0.9585±0.0013\n",
            "0.5985 ± 0.0028  & 0.8341±0.0054  & 0.6458±0.0038\n",
            "0.9852 ± 0.0002  & 0.9585±0.0013  & 0.9697±0.0008\n"
          ]
        }
      ]
    },
    {
      "cell_type": "code",
      "metadata": {
        "id": "Tdj32cFmuhes"
      },
      "source": [
        "# report_df = pd.DataFrame(report_test).transpose()\n",
        "# report_df = report_df.reset_index()\n",
        "# model_eval  = report_df[report_df['index'].str.contains('1')][['precision','recall','f1-score']]\n",
        "# model_eval['accuracy']  = list(report_df[report_df['index'].str.contains('accuracy')]['support'])\n",
        "# report_df"
      ],
      "execution_count": null,
      "outputs": []
    },
    {
      "cell_type": "code",
      "metadata": {
        "id": "MkKHvNFDbE_o"
      },
      "source": [
        "# for i in range(report_df.shape[0]):\n",
        "#   tmp=\"\"\n",
        "#   for j in ['precision', 'recall', 'f1-score', 'support']:\n",
        "#     tmp=tmp+ str(round(report_df[j][i],4)) + \" & \"\n",
        "#   print(tmp)"
      ],
      "execution_count": null,
      "outputs": []
    },
    {
      "cell_type": "markdown",
      "metadata": {
        "id": "I4KRjr4L7SBF"
      },
      "source": [
        "**Simple GAN**"
      ]
    },
    {
      "cell_type": "code",
      "metadata": {
        "id": "YMg3CTUMwE5n"
      },
      "source": [
        "import torch\n",
        "from torch import nn\n",
        "from tqdm.auto import tqdm\n",
        "from torchvision import transforms\n",
        "from torchvision.utils import make_grid\n",
        "from torch.utils.data import DataLoader\n",
        "import matplotlib.pyplot as plt\n",
        "torch.cuda.empty_cache()"
      ],
      "execution_count": null,
      "outputs": []
    },
    {
      "cell_type": "code",
      "metadata": {
        "id": "H9CRsu637Pc7"
      },
      "source": [
        "x_shuffled = X\n",
        "y_shuffled = Y"
      ],
      "execution_count": null,
      "outputs": []
    },
    {
      "cell_type": "code",
      "metadata": {
        "colab": {
          "base_uri": "https://localhost:8080/"
        },
        "id": "eELOYics7V_B",
        "outputId": "ef9a0f00-aabf-4e09-e507-3b1ce2cbf2ea"
      },
      "source": [
        "len(x_shuffled), len(X), len(y_shuffled)"
      ],
      "execution_count": null,
      "outputs": [
        {
          "data": {
            "text/plain": [
              "(7322, 7322, 7322)"
            ]
          },
          "execution_count": 24,
          "metadata": {},
          "output_type": "execute_result"
        }
      ]
    },
    {
      "cell_type": "code",
      "metadata": {
        "id": "ZBKGQkAx_h7q"
      },
      "source": [
        "t2 = np.asarray(x_shuffled).shape\n",
        "X_oversampled = torch.from_numpy(np.asarray(x_shuffled))"
      ],
      "execution_count": null,
      "outputs": []
    },
    {
      "cell_type": "code",
      "metadata": {
        "id": "JZ8aigTu_Vqb"
      },
      "source": [
        "def get_generator_block(input_dim, output_dim):\n",
        "    return nn.Sequential(\n",
        "        nn.Linear(input_dim, output_dim),\n",
        "        nn.BatchNorm1d(output_dim),\n",
        "        nn.ReLU(inplace=True),\n",
        "    )\n",
        "class Generator(nn.Module):\n",
        "\n",
        "    def __init__(self, z_dim=t2[1], im_dim=t2[1], hidden_dim=128):\n",
        "        super(Generator, self).__init__()\n",
        "        self.gen = nn.Sequential(\n",
        "            get_generator_block(z_dim, hidden_dim),\n",
        "            get_generator_block(hidden_dim, hidden_dim * 2),\n",
        "            get_generator_block(hidden_dim * 2, hidden_dim * 4),\n",
        "            get_generator_block(hidden_dim * 4, hidden_dim * 8),\n",
        "            nn.Linear(hidden_dim * 8, im_dim),\n",
        "            nn.Sigmoid()\n",
        "        )\n",
        "    def forward(self, noise):\n",
        "        return self.gen(noise)\n",
        "    \n",
        "    \n",
        "    def get_gen(self):\n",
        "\n",
        "        return self.gen\n",
        "def get_discriminator_block(input_dim, output_dim):\n",
        "    return nn.Sequential(\n",
        "        nn.Linear(input_dim, output_dim),\n",
        "        nn.LeakyReLU(0.2, inplace=True)        \n",
        "    )\n",
        "class Discriminator(nn.Module):\n",
        "    def __init__(self, im_dim=t2[1], hidden_dim=128):\n",
        "        super(Discriminator, self).__init__()\n",
        "        self.disc = nn.Sequential(\n",
        "            get_discriminator_block(im_dim, hidden_dim * 4),\n",
        "            get_discriminator_block(hidden_dim * 4, hidden_dim * 2),\n",
        "            get_discriminator_block(hidden_dim * 2, hidden_dim),\n",
        "            nn.Linear(hidden_dim, 1)\n",
        "        )\n",
        "\n",
        "    def forward(self, image):\n",
        "\n",
        "        return self.disc(image)\n",
        "    \n",
        "    def get_disc(self):\n",
        "\n",
        "        return self.dis\n",
        "def get_noise(n_samples, z_dim, device='cuda'):\n",
        "\n",
        "    return torch.randn(n_samples,z_dim,device=device) "
      ],
      "execution_count": null,
      "outputs": []
    },
    {
      "cell_type": "code",
      "metadata": {
        "id": "BM5WSPh2_bRW"
      },
      "source": [
        "criterion = nn.BCEWithLogitsLoss()\n",
        "n_epochs = 1000\n",
        "z_dim = t2[1]\n",
        "batch_size = 128\n",
        "lr = 0.00001\n",
        "display_step = 1\n",
        "device = 'cuda'\n",
        "gen = Generator(z_dim).to(device)\n",
        "gen_opt = torch.optim.Adam(gen.parameters(), lr=lr)\n",
        "disc = Discriminator().to(device) \n",
        "disc_opt = torch.optim.Adam(disc.parameters(), lr=lr)"
      ],
      "execution_count": null,
      "outputs": []
    },
    {
      "cell_type": "code",
      "metadata": {
        "id": "C4uFa0ysAorI"
      },
      "source": [
        "def get_disc_loss(gen, disc, criterion, real, num_images, z_dim, device):\n",
        "\n",
        "    fake_noise = get_noise(num_images, z_dim, device=device)\n",
        "    fake = gen(fake_noise)\n",
        "    disc_fake_pred = disc(fake.detach())\n",
        "    disc_fake_loss = criterion(disc_fake_pred, torch.zeros_like(disc_fake_pred))\n",
        "    disc_real_pred = disc(real)\n",
        "    disc_real_loss = criterion(disc_real_pred, torch.ones_like(disc_real_pred))\n",
        "    disc_loss = (disc_fake_loss + disc_real_loss) / 2\n",
        "\n",
        "    return disc_loss\n",
        "\n",
        "def get_gen_loss(gen, disc, criterion, num_images, z_dim, device):\n",
        "\n",
        "    fake_noise = get_noise(num_images, z_dim, device=device)\n",
        "    fake = gen(fake_noise)\n",
        "    disc_fake_pred = disc(fake)\n",
        "    gen_loss = criterion(disc_fake_pred, torch.ones_like(disc_fake_pred))\n",
        "    return gen_loss"
      ],
      "execution_count": null,
      "outputs": []
    },
    {
      "cell_type": "code",
      "metadata": {
        "colab": {
          "base_uri": "https://localhost:8080/"
        },
        "id": "LHvN5pdJBnj9",
        "outputId": "85973e38-85eb-4c63-ccd7-d7f612e38150"
      },
      "source": [
        "li=[]\n",
        "for i in range(len(y_shuffled)):\n",
        "    if int(y_shuffled[i])==1:\n",
        "        li.append(x_shuffled[i])\n",
        "        \n",
        "len(y_shuffled), len(li)"
      ],
      "execution_count": null,
      "outputs": [
        {
          "data": {
            "text/plain": [
              "(7322, 388)"
            ]
          },
          "execution_count": 29,
          "metadata": {},
          "output_type": "execute_result"
        }
      ]
    },
    {
      "cell_type": "code",
      "metadata": {
        "colab": {
          "base_uri": "https://localhost:8080/"
        },
        "id": "51T3WTghBuP6",
        "outputId": "714dee01-07a6-44c5-bab7-24bab76d90ad"
      },
      "source": [
        "X_real=np.array(li)\n",
        "t3=X_real.shape\n",
        "li2=[1]*(t3[0])\n",
        "y_real=np.array(li2)\n",
        "y_real.shape"
      ],
      "execution_count": null,
      "outputs": [
        {
          "data": {
            "text/plain": [
              "(388,)"
            ]
          },
          "execution_count": 30,
          "metadata": {},
          "output_type": "execute_result"
        }
      ]
    },
    {
      "cell_type": "code",
      "metadata": {
        "id": "qtL0Qv9pG9Vb"
      },
      "source": [
        "from torch.utils.data import TensorDataset, DataLoader\n",
        "tensor_x = torch.Tensor(X_real) \n",
        "tensor_y = torch.Tensor(y_real)\n",
        "my_dataset = TensorDataset(tensor_x,tensor_y)\n",
        "dataloader = DataLoader(\n",
        "    my_dataset,\n",
        "    batch_size=batch_size,\n",
        "    shuffle=True)\n",
        "\n",
        "cur_step = 0\n",
        "mean_generator_loss = 0\n",
        "mean_discriminator_loss = 0\n",
        "test_generator = True \n",
        "gen_loss = False\n",
        "error = False"
      ],
      "execution_count": null,
      "outputs": []
    },
    {
      "cell_type": "code",
      "metadata": {
        "colab": {
          "base_uri": "https://localhost:8080/"
        },
        "id": "WCKyNS3zwa2i",
        "outputId": "3666ef73-1081-4c79-d9f9-e6fc84315ea3"
      },
      "source": [
        "samples_to_generate = X_oversampled.shape[0]-X_real.shape[0]\n",
        "print(samples_to_generate)"
      ],
      "execution_count": null,
      "outputs": [
        {
          "name": "stdout",
          "output_type": "stream",
          "text": [
            "6934\n"
          ]
        }
      ]
    },
    {
      "cell_type": "code",
      "metadata": {
        "id": "MLMqmAvksXs0"
      },
      "source": [
        "#epochs = [100,500,1000,2000,3000,4000,5000]\n",
        "epochs = [10000]"
      ],
      "execution_count": null,
      "outputs": []
    },
    {
      "cell_type": "code",
      "metadata": {
        "id": "gZw97bqSxx6l"
      },
      "source": [
        "original_gan_data = dict()"
      ],
      "execution_count": null,
      "outputs": []
    },
    {
      "cell_type": "code",
      "metadata": {
        "colab": {
          "base_uri": "https://localhost:8080/"
        },
        "id": "KUK0LHadsThN",
        "outputId": "f73a71e5-6479-4abb-cc4e-ba0484b193a5"
      },
      "source": [
        "for no_epoch in epochs:\n",
        "  print(\"no of epochs: \", no_epoch)\n",
        "  for epoch in range(no_epoch):\n",
        "  \n",
        "   \n",
        "    for real, _ in tqdm(dataloader, disable=True):\n",
        "        cur_batch_size = len(real)\n",
        "\n",
        "       \n",
        "        real = real.view(cur_batch_size, -1).to(device)\n",
        "\n",
        "      \n",
        "       \n",
        "        disc_opt.zero_grad()\n",
        "\n",
        "       \n",
        "        disc_loss = get_disc_loss(gen, disc, criterion, real, cur_batch_size, z_dim, device)\n",
        "\n",
        "        \n",
        "        disc_loss.backward(retain_graph=True)\n",
        "\n",
        "       \n",
        "        disc_opt.step()\n",
        "\n",
        "      \n",
        "        if test_generator:\n",
        "            old_generator_weights = gen.gen[0][0].weight.detach().clone()\n",
        "\n",
        "        gen_opt.zero_grad()\n",
        "        gen_loss = get_gen_loss(gen, disc, criterion, cur_batch_size, z_dim, device)\n",
        "        gen_loss.backward()\n",
        "        gen_opt.step()\n",
        "\n",
        "        if test_generator:\n",
        "            try:\n",
        "                assert lr > 0.0000002 or (gen.gen[0][0].weight.grad.abs().max() < 0.0005 and epoch == 0)\n",
        "                assert torch.any(gen.gen[0][0].weight.detach().clone() != old_generator_weights)\n",
        "            except:\n",
        "                error = True\n",
        "                print(\"Runtime tests have failed\")\n",
        "\n",
        "     \n",
        "        mean_discriminator_loss += disc_loss.item() / display_step\n",
        "\n",
        "  \n",
        "        mean_generator_loss += gen_loss.item() / display_step\n",
        "\n",
        "        if epoch%500==0:\n",
        "            print(f\"Epoch {epoch}: Step {cur_step}: Generator loss: {mean_generator_loss}, discriminator loss: {mean_discriminator_loss}\")\n",
        "\n",
        "        if cur_step % display_step == 0 and cur_step > 0:\n",
        "            mean_generator_loss = 0\n",
        "            mean_discriminator_loss = 0\n",
        "        cur_step += 1\n",
        "  fake_noise = get_noise(samples_to_generate, z_dim, device=device)\n",
        "  res=gen(fake_noise)\n",
        "  fres=res.cpu().detach().numpy()\n",
        "  X_old=X\n",
        "  finX=np.concatenate((X_old, fres), axis=0)\n",
        "  y_fake = np.ones(samples_to_generate)\n",
        "  Y_old=np.asarray(Y)\n",
        "  finY = np.append(Y_old, y_fake, axis=0)\n",
        "  print(finX.shape, finY.shape)\n",
        "  #idx = np.random.permutation(len(X_smote))\n",
        "  idx = np.random.permutation(finX.shape[0])\n",
        "  print(len(idx))\n",
        "  x_shuffled = []\n",
        "  y_shuffled = []\n",
        "  xy=dict()\n",
        "  for i in idx:\n",
        "    #x_shuffled.append(X_smote[i])\n",
        "    #y_shuffled.append(Y_smote[i])\n",
        "    x_shuffled.append(finX[i])\n",
        "    y_shuffled.append(finY[i])\n",
        "  xy['x_shuffled']=x_shuffled\n",
        "  xy['y_shuffled']=y_shuffled\n",
        "  original_gan_data[no_epoch]=xy"
      ],
      "execution_count": null,
      "outputs": [
        {
          "name": "stdout",
          "output_type": "stream",
          "text": [
            "no of epochs:  10000\n",
            "Epoch 0: Step 0: Generator loss: 0.6737641096115112, discriminator loss: 0.6919612884521484\n",
            "Epoch 0: Step 1: Generator loss: 1.3486132621765137, discriminator loss: 1.3837006092071533\n",
            "Epoch 0: Step 2: Generator loss: 0.6758953332901001, discriminator loss: 0.6915901303291321\n",
            "Epoch 0: Step 3: Generator loss: 0.6770355701446533, discriminator loss: 0.6911181211471558\n",
            "Epoch 500: Step 2000: Generator loss: 0.6933384537696838, discriminator loss: 0.694525420665741\n",
            "Epoch 500: Step 2001: Generator loss: 0.693406343460083, discriminator loss: 0.6949276924133301\n",
            "Epoch 500: Step 2002: Generator loss: 0.693828821182251, discriminator loss: 0.6948552131652832\n",
            "Epoch 500: Step 2003: Generator loss: 0.6949641704559326, discriminator loss: 0.6937575936317444\n",
            "Epoch 1000: Step 4000: Generator loss: 0.7061876058578491, discriminator loss: 0.6932172179222107\n",
            "Epoch 1000: Step 4001: Generator loss: 0.7062022686004639, discriminator loss: 0.6932715773582458\n",
            "Epoch 1000: Step 4002: Generator loss: 0.7062625885009766, discriminator loss: 0.693143367767334\n",
            "Epoch 1000: Step 4003: Generator loss: 0.7063421607017517, discriminator loss: 0.6929335594177246\n",
            "Epoch 1500: Step 6000: Generator loss: 0.6864613890647888, discriminator loss: 0.6952321529388428\n",
            "Epoch 1500: Step 6001: Generator loss: 0.6864780187606812, discriminator loss: 0.6948904991149902\n",
            "Epoch 1500: Step 6002: Generator loss: 0.6862159371376038, discriminator loss: 0.6954077482223511\n",
            "Epoch 1500: Step 6003: Generator loss: 0.6853272914886475, discriminator loss: 0.6906355023384094\n",
            "Epoch 2000: Step 8000: Generator loss: 0.6874561309814453, discriminator loss: 0.6931813955307007\n",
            "Epoch 2000: Step 8001: Generator loss: 0.6874678730964661, discriminator loss: 0.6932346224784851\n",
            "Epoch 2000: Step 8002: Generator loss: 0.6877284049987793, discriminator loss: 0.6937066316604614\n",
            "Epoch 2000: Step 8003: Generator loss: 0.6875065565109253, discriminator loss: 0.6930592060089111\n",
            "Epoch 2500: Step 10000: Generator loss: 0.6871296167373657, discriminator loss: 0.6932694911956787\n",
            "Epoch 2500: Step 10001: Generator loss: 0.6871656775474548, discriminator loss: 0.6931015253067017\n",
            "Epoch 2500: Step 10002: Generator loss: 0.6868833303451538, discriminator loss: 0.6931692957878113\n",
            "Epoch 2500: Step 10003: Generator loss: 0.6862496137619019, discriminator loss: 0.6934832334518433\n",
            "Epoch 3000: Step 12000: Generator loss: 0.6836634874343872, discriminator loss: 0.693107545375824\n",
            "Epoch 3000: Step 12001: Generator loss: 0.6837780475616455, discriminator loss: 0.6931090354919434\n",
            "Epoch 3000: Step 12002: Generator loss: 0.6838317513465881, discriminator loss: 0.6930490732192993\n",
            "Epoch 3000: Step 12003: Generator loss: 0.6845222115516663, discriminator loss: 0.6927094459533691\n",
            "Epoch 3500: Step 14000: Generator loss: 0.6821379065513611, discriminator loss: 0.6924879550933838\n",
            "Epoch 3500: Step 14001: Generator loss: 0.6820443868637085, discriminator loss: 0.6923125982284546\n",
            "Epoch 3500: Step 14002: Generator loss: 0.6821473836898804, discriminator loss: 0.6929534673690796\n",
            "Epoch 3500: Step 14003: Generator loss: 0.6822105050086975, discriminator loss: 0.6946413516998291\n",
            "Epoch 4000: Step 16000: Generator loss: 0.6947852373123169, discriminator loss: 0.6936037540435791\n",
            "Epoch 4000: Step 16001: Generator loss: 0.6945810317993164, discriminator loss: 0.693400502204895\n",
            "Epoch 4000: Step 16002: Generator loss: 0.6942998170852661, discriminator loss: 0.6930788159370422\n",
            "Epoch 4000: Step 16003: Generator loss: 0.6934292912483215, discriminator loss: 0.693145751953125\n",
            "Epoch 4500: Step 18000: Generator loss: 0.7073122262954712, discriminator loss: 0.6930568814277649\n",
            "Epoch 4500: Step 18001: Generator loss: 0.707621693611145, discriminator loss: 0.6929805874824524\n",
            "Epoch 4500: Step 18002: Generator loss: 0.7079375982284546, discriminator loss: 0.6929568648338318\n",
            "Epoch 4500: Step 18003: Generator loss: 0.7076733708381653, discriminator loss: 0.692988395690918\n",
            "Epoch 5000: Step 20000: Generator loss: 0.6737301349639893, discriminator loss: 0.6927514672279358\n",
            "Epoch 5000: Step 20001: Generator loss: 0.673966646194458, discriminator loss: 0.6927201747894287\n",
            "Epoch 5000: Step 20002: Generator loss: 0.6738470792770386, discriminator loss: 0.6924102306365967\n",
            "Epoch 5000: Step 20003: Generator loss: 0.6743949055671692, discriminator loss: 0.6930696964263916\n",
            "Epoch 5500: Step 22000: Generator loss: 0.6882356405258179, discriminator loss: 0.6935151815414429\n",
            "Epoch 5500: Step 22001: Generator loss: 0.6882203221321106, discriminator loss: 0.693288266658783\n",
            "Epoch 5500: Step 22002: Generator loss: 0.6881706714630127, discriminator loss: 0.6933110356330872\n",
            "Epoch 5500: Step 22003: Generator loss: 0.6887855529785156, discriminator loss: 0.6871522665023804\n",
            "Epoch 6000: Step 24000: Generator loss: 0.6843065023422241, discriminator loss: 0.693243145942688\n",
            "Epoch 6000: Step 24001: Generator loss: 0.6842512488365173, discriminator loss: 0.6932172179222107\n",
            "Epoch 6000: Step 24002: Generator loss: 0.6840283870697021, discriminator loss: 0.6932417154312134\n",
            "Epoch 6000: Step 24003: Generator loss: 0.68343585729599, discriminator loss: 0.6938822269439697\n",
            "Epoch 6500: Step 26000: Generator loss: 0.7012326717376709, discriminator loss: 0.6935299634933472\n",
            "Epoch 6500: Step 26001: Generator loss: 0.7009431719779968, discriminator loss: 0.6930070519447327\n",
            "Epoch 6500: Step 26002: Generator loss: 0.7011218070983887, discriminator loss: 0.6933046579360962\n",
            "Epoch 6500: Step 26003: Generator loss: 0.6997976303100586, discriminator loss: 0.6922881007194519\n",
            "Epoch 7000: Step 28000: Generator loss: 0.6934350728988647, discriminator loss: 0.6931723356246948\n",
            "Epoch 7000: Step 28001: Generator loss: 0.6932113766670227, discriminator loss: 0.693029522895813\n",
            "Epoch 7000: Step 28002: Generator loss: 0.6932326555252075, discriminator loss: 0.6931531429290771\n",
            "Epoch 7000: Step 28003: Generator loss: 0.6929009556770325, discriminator loss: 0.6923176646232605\n",
            "Epoch 7500: Step 30000: Generator loss: 0.6880417466163635, discriminator loss: 0.6938764452934265\n",
            "Epoch 7500: Step 30001: Generator loss: 0.6883732080459595, discriminator loss: 0.693267285823822\n",
            "Epoch 7500: Step 30002: Generator loss: 0.6885989308357239, discriminator loss: 0.693676233291626\n",
            "Epoch 7500: Step 30003: Generator loss: 0.689387321472168, discriminator loss: 0.6952311992645264\n",
            "Epoch 8000: Step 32000: Generator loss: 0.6976581811904907, discriminator loss: 0.6930909156799316\n",
            "Epoch 8000: Step 32001: Generator loss: 0.6976721286773682, discriminator loss: 0.6931057572364807\n",
            "Epoch 8000: Step 32002: Generator loss: 0.6976956725120544, discriminator loss: 0.6931018233299255\n",
            "Epoch 8000: Step 32003: Generator loss: 0.697742223739624, discriminator loss: 0.6931973695755005\n",
            "Epoch 8500: Step 34000: Generator loss: 0.6930994987487793, discriminator loss: 0.6937174797058105\n",
            "Epoch 8500: Step 34001: Generator loss: 0.6934617161750793, discriminator loss: 0.6936899423599243\n",
            "Epoch 8500: Step 34002: Generator loss: 0.6938797235488892, discriminator loss: 0.693601667881012\n",
            "Epoch 8500: Step 34003: Generator loss: 0.6935777068138123, discriminator loss: 0.6915216445922852\n",
            "Epoch 9000: Step 36000: Generator loss: 0.6859804391860962, discriminator loss: 0.6934179067611694\n",
            "Epoch 9000: Step 36001: Generator loss: 0.6859352588653564, discriminator loss: 0.6934813261032104\n",
            "Epoch 9000: Step 36002: Generator loss: 0.6857554912567139, discriminator loss: 0.6936624050140381\n",
            "Epoch 9000: Step 36003: Generator loss: 0.6865825653076172, discriminator loss: 0.6936780214309692\n",
            "Epoch 9500: Step 38000: Generator loss: 0.6802514791488647, discriminator loss: 0.6923657059669495\n",
            "Epoch 9500: Step 38001: Generator loss: 0.6805498003959656, discriminator loss: 0.6930361986160278\n",
            "Epoch 9500: Step 38002: Generator loss: 0.6806935667991638, discriminator loss: 0.6939361095428467\n",
            "Epoch 9500: Step 38003: Generator loss: 0.681178092956543, discriminator loss: 0.6886100769042969\n",
            "(14256, 4) (14256,)\n",
            "14256\n"
          ]
        }
      ]
    },
    {
      "cell_type": "code",
      "metadata": {
        "id": "AE9DiJqGz81i"
      },
      "source": [
        "with open(ocean + '_original_gan_data' + '.pkl', 'wb') as f: \n",
        "    pickle.dump([original_gan_data], f)"
      ],
      "execution_count": null,
      "outputs": []
    },
    {
      "cell_type": "code",
      "metadata": {
        "colab": {
          "base_uri": "https://localhost:8080/"
        },
        "id": "We-qlDTsHCbT",
        "outputId": "c765aa06-7d30-4ec0-a9aa-b68cbf7f15a7"
      },
      "source": [
        "len(original_gan_data[10000]['x_shuffled']), len(original_gan_data[10000]['y_shuffled'])"
      ],
      "execution_count": null,
      "outputs": [
        {
          "data": {
            "text/plain": [
              "(14256, 14256)"
            ]
          },
          "execution_count": 37,
          "metadata": {},
          "output_type": "execute_result"
        }
      ]
    },
    {
      "cell_type": "code",
      "metadata": {
        "id": "XRiGcYo_HCjM"
      },
      "source": [
        "x_shuffled = original_gan_data[10000]['x_shuffled']\n",
        "y_shuffled = original_gan_data[10000]['y_shuffled']"
      ],
      "execution_count": null,
      "outputs": []
    },
    {
      "cell_type": "code",
      "metadata": {
        "colab": {
          "base_uri": "https://localhost:8080/"
        },
        "id": "gxazLTx77GT8",
        "outputId": "f7d86f2e-8ad6-433b-b013-9dca512d0790"
      },
      "source": [
        "len(test_Y), test_X.shape"
      ],
      "execution_count": null,
      "outputs": [
        {
          "data": {
            "text/plain": [
              "(3137, (3137, 4))"
            ]
          },
          "execution_count": 39,
          "metadata": {},
          "output_type": "execute_result"
        }
      ]
    },
    {
      "cell_type": "code",
      "metadata": {
        "colab": {
          "base_uri": "https://localhost:8080/"
        },
        "id": "LpXgLEQHSw4A",
        "outputId": "c50e2166-fe7b-4ae6-ac01-4f7bfcf985cd"
      },
      "source": [
        "Y_hot_encoded_train =  np.asarray(to_categorical(y_shuffled))\n",
        "#Y_hot_encoded_train = Y_hot_encoded_train.reshape(len(y_shuffled), n_steps_out, n_features_out)\n",
        "\n",
        "Y_hot_encoded_test =  np.asarray(to_categorical(test_Y))\n",
        "#Y_hot_encoded_test = Y_hot_encoded_test.reshape(len(test_Y), n_steps_out, n_features_out)\n",
        "\n",
        "print(Y_hot_encoded_train.shape, Y_hot_encoded_test.shape)"
      ],
      "execution_count": null,
      "outputs": [
        {
          "name": "stdout",
          "output_type": "stream",
          "text": [
            "(14256, 2) (3137, 2)\n"
          ]
        }
      ]
    },
    {
      "cell_type": "code",
      "metadata": {
        "colab": {
          "base_uri": "https://localhost:8080/"
        },
        "id": "pgA86CoS7PQi",
        "outputId": "62f69fd9-ef9f-4c5f-f73a-90a3a60acb53"
      },
      "source": [
        "test_X"
      ],
      "execution_count": null,
      "outputs": [
        {
          "data": {
            "text/plain": [
              "array([[0.07142857, 0.07142857, 0.10714286, 0.10714286],\n",
              "       [0.07142857, 0.10714286, 0.10714286, 0.14285714],\n",
              "       [0.10714286, 0.10714286, 0.14285714, 0.17857143],\n",
              "       ...,\n",
              "       [0.07142857, 0.07142857, 0.07142857, 0.07142857],\n",
              "       [0.07142857, 0.07142857, 0.07142857, 0.03571429],\n",
              "       [0.07142857, 0.07142857, 0.03571429, 0.03571429]])"
            ]
          },
          "execution_count": 41,
          "metadata": {},
          "output_type": "execute_result"
        }
      ]
    },
    {
      "cell_type": "code",
      "metadata": {
        "colab": {
          "base_uri": "https://localhost:8080/"
        },
        "id": "nPADKTlz7QY-",
        "outputId": "9aa2598d-5366-4265-8443-d5cf0d58492e"
      },
      "source": [
        "x_shuffled[0], y_shuffled[0]"
      ],
      "execution_count": null,
      "outputs": [
        {
          "data": {
            "text/plain": [
              "(array([0.50604373, 0.61760396, 0.70821208, 0.74734783]), 1.0)"
            ]
          },
          "execution_count": 42,
          "metadata": {},
          "output_type": "execute_result"
        }
      ]
    },
    {
      "cell_type": "code",
      "metadata": {
        "id": "0H_40CAo8WdD"
      },
      "source": [
        "            x_train, y_train = np.asarray(x_shuffled), np.asarray(Y_hot_encoded_train)\n",
        "            x_test, y_test = np.asarray(test_X), np.asarray(Y_hot_encoded_test)\n",
        "            x_train = x_train.reshape((x_train.shape[0], x_train.shape[1], n_features_in))\n",
        "            x_test = x_test.reshape((x_test.shape[0], x_test.shape[1], n_features_in))"
      ],
      "execution_count": null,
      "outputs": []
    },
    {
      "cell_type": "code",
      "metadata": {
        "colab": {
          "base_uri": "https://localhost:8080/"
        },
        "id": "yLbMTc0c8ppJ",
        "outputId": "67ecf29e-52f5-4b65-834b-1648b34d298f"
      },
      "source": [
        "train_acc, test_acc, train_std_dev, test_std_dev, Best_Predict_Test, y_predicttrain, y_predicttest, report_train, report_test = MODEL_LSTM('vanilla', 'gan', univariate,x_train,x_test,y_train,y_test,Num_Exp,n_steps_in,n_steps_out,Epochs, Hidden)"
      ],
      "execution_count": null,
      "outputs": [
        {
          "name": "stdout",
          "output_type": "stream",
          "text": [
            "WARNING:tensorflow:Layer lstm will not use cuDNN kernels since it doesn't meet the criteria. It will use a generic GPU kernel as fallback when running on GPU.\n",
            "Model: \"sequential\"\n",
            "_________________________________________________________________\n",
            " Layer (type)                Output Shape              Param #   \n",
            "=================================================================\n",
            " lstm (LSTM)                 (None, 50)                10400     \n",
            "                                                                 \n",
            " dense (Dense)               (None, 2)                 102       \n",
            "                                                                 \n",
            "=================================================================\n",
            "Total params: 10,502\n",
            "Trainable params: 10,502\n",
            "Non-trainable params: 0\n",
            "_________________________________________________________________\n",
            "Experiment 1 in progress\n",
            "train acc:  0.9815189531903413\n",
            "test acc:  0.3311258278145695\n",
            "Experiment 2 in progress\n",
            "train acc:  0.9847028563692974\n",
            "test acc:  0.35555555555555557\n",
            "Experiment 3 in progress\n",
            "train acc:  0.9848176765622881\n",
            "test acc:  0.3538461538461538\n",
            "Total time for 3 experiments 5324.024132728577\n",
            "f1 scores for test data:  [0.33112583 0.35555556 0.35384615]\n",
            "mean:  0.34684251240542635 std dev:  0.011135263638471036\n"
          ]
        }
      ]
    },
    {
      "cell_type": "code",
      "metadata": {
        "id": "FALjFQyzXNSy"
      },
      "source": [
        "with open(\"predictions_\" + ocean + '_gan' + '.pkl', 'wb') as f: \n",
        "    pickle.dump([y_predicttrain, y_train, Best_Predict_Test, y_test, report_train, report_test, test_acc, test_std_dev], f)"
      ],
      "execution_count": null,
      "outputs": []
    },
    {
      "cell_type": "markdown",
      "metadata": {
        "id": "JMVb0uzz4Wyf"
      },
      "source": [
        "**GAN Results**"
      ]
    },
    {
      "cell_type": "code",
      "metadata": {
        "colab": {
          "base_uri": "https://localhost:8080/"
        },
        "id": "FGnpA38_MafT",
        "outputId": "5c4f6364-b8f1-4e59-9478-b8b78a662195"
      },
      "source": [
        "precision0=[]\n",
        "precision1=[]\n",
        "precisionacc=[]\n",
        "precisionmacavg=[]\n",
        "precisionweighavg=[]\n",
        "recall0=[]\n",
        "recall1=[]\n",
        "recallacc=[]\n",
        "recallmacavg=[]\n",
        "recallweighavg=[]\n",
        "f10=[]\n",
        "f11=[]\n",
        "f1acc=[]\n",
        "f1macavg=[]\n",
        "f1weighavg=[]\n",
        "for i in range(Num_Exp):\n",
        "  precision0.append(report_test[i]['0']['precision'])\n",
        "  precision1.append(report_test[i]['1']['precision'])\n",
        "  precisionacc.append(report_test[i]['accuracy'])\n",
        "  precisionmacavg.append(report_test[i]['macro avg']['precision'])\n",
        "  precisionweighavg.append(report_test[i]['weighted avg']['precision'])\n",
        "  recall0.append(report_test[i]['0']['recall'])\n",
        "  recall1.append(report_test[i]['1']['recall'])\n",
        "  recallacc.append(report_test[i]['accuracy'])\n",
        "  recallmacavg.append(report_test[i]['macro avg']['recall'])\n",
        "  recallweighavg.append(report_test[i]['weighted avg']['recall'])  \n",
        "  f10.append(report_test[i]['0']['f1-score'])\n",
        "  f11.append(report_test[i]['1']['f1-score'])\n",
        "  f1acc.append(report_test[i]['accuracy'])\n",
        "  f1macavg.append(report_test[i]['macro avg']['f1-score'])\n",
        "  f1weighavg.append(report_test[i]['weighted avg']['f1-score'])    \n",
        "print(str(round(np.mean(precision0),4)) + \"±\" + str(round(np.std(precision0),4)),\" & \" + str(round(np.mean(recall0),4)) + \"±\" + str(round(np.std(recall0),4)), \" & \" + str(round(np.mean(f10),4)) + \"±\" + str(round(np.std(f10),4)))\n",
        "print(str(round(np.mean(precision1),4)) + \"±\" + str(round(np.std(precision1),4)),\" & \" + str(round(np.mean(recall1),4)) + \"±\" + str(round(np.std(recall1),4)), \" & \" + str(round(np.mean(f11),4)) + \"±\" + str(round(np.std(f11),4)))\n",
        "print(str(round(np.mean(precisionacc),4)) + \"±\" + str(round(np.std(precisionacc),4)),\" & \" + str(round(np.mean(recallacc),4)) + \"±\" + str(round(np.std(recallacc),4)), \" & \" + str(round(np.mean(f1acc),4)) + \"±\" + str(round(np.std(f1acc),4)))\n",
        "print(str(round(np.mean(precisionmacavg),4)) + \"±\" + str(round(np.std(precisionmacavg),4)),\" & \" + str(round(np.mean(recallmacavg),4)) + \"±\" + str(round(np.std(recallmacavg),4)), \" & \" + str(round(np.mean(f1macavg),4)) + \"±\" + str(round(np.std(f1macavg),4)))\n",
        "print(str(round(np.mean(precisionweighavg),4)) + \"±\" + str(round(np.std(precisionweighavg),4)),\" & \" + str(round(np.mean(recallweighavg),4)) + \"±\" + str(round(np.std(recallweighavg),4)), \" & \" + str(round(np.mean(f1weighavg),4)) + \"±\" + str(round(np.std(f1weighavg),4)))\n"
      ],
      "execution_count": null,
      "outputs": [
        {
          "name": "stdout",
          "output_type": "stream",
          "text": [
            "0.9941±0.0003  & 0.9765±0.0026  & 0.9852±0.0012\n",
            "0.2496±0.0144  & 0.5714±0.0194  & 0.3468±0.0111\n",
            "0.9711±0.0024  & 0.9711±0.0024  & 0.9711±0.0024\n",
            "0.6218±0.0071  & 0.774±0.0085  & 0.666±0.0062\n",
            "0.9841±0.0001  & 0.9711±0.0024  & 0.9767±0.0014\n"
          ]
        }
      ]
    },
    {
      "cell_type": "code",
      "metadata": {
        "colab": {
          "base_uri": "https://localhost:8080/",
          "height": 737
        },
        "id": "fpBlCLxd8u-w",
        "outputId": "194f5064-7f26-43bd-f2bc-cb2ee894b972"
      },
      "source": [
        "y = [i.argmax() for i in y_test]\n",
        "pred = [i.argmax() for i in Best_Predict_Test]\n",
        "cf_matrix_test = confusion_matrix(y, pred)\n",
        "make_confusion_matrix_chart2(cf_matrix_test, ocean + 'vanilla_cm_gan')"
      ],
      "execution_count": null,
      "outputs": [
        {
          "data": {
            "image/png": "[encoded data removed]",
            "text/plain": [
              "<Figure size 1440x864 with 2 Axes>"
            ]
          },
          "metadata": {},
          "output_type": "display_data"
        }
      ]
    },
    {
      "cell_type": "code",
      "metadata": {
        "id": "ctVD6IeccA0r"
      },
      "source": [
        "torch.cuda.empty_cache()"
      ],
      "execution_count": null,
      "outputs": []
    },
    {
      "cell_type": "code",
      "metadata": {
        "colab": {
          "base_uri": "https://localhost:8080/"
        },
        "id": "sXeG9Q4T8sXY",
        "outputId": "2b7d8353-7a44-482b-d8b9-345317dec0ae"
      },
      "source": [
        "x_shuffled = X_smote\n",
        "y_shuffled = Y_smote\n",
        "print(len(x_shuffled), len(X), len(y_shuffled)) \n",
        "t2 = np.asarray(x_shuffled).shape\n",
        "X_oversampled = torch.from_numpy(np.asarray(x_shuffled))"
      ],
      "execution_count": null,
      "outputs": [
        {
          "name": "stdout",
          "output_type": "stream",
          "text": [
            "13868 7322 13868\n"
          ]
        }
      ]
    },
    {
      "cell_type": "code",
      "metadata": {
        "id": "kU8ddMHk8saz"
      },
      "source": [
        "def get_generator_block(input_dim, output_dim):\n",
        "    return nn.Sequential(\n",
        "        nn.Linear(input_dim, output_dim),\n",
        "        nn.BatchNorm1d(output_dim),\n",
        "        nn.ReLU(inplace=True),\n",
        "    )\n",
        "class Generator(nn.Module):\n",
        "\n",
        "    def __init__(self, z_dim=t2[1], im_dim=t2[1], hidden_dim=128):\n",
        "        super(Generator, self).__init__()\n",
        "        self.gen = nn.Sequential(\n",
        "            get_generator_block(z_dim, hidden_dim),\n",
        "            get_generator_block(hidden_dim, hidden_dim * 2),\n",
        "            get_generator_block(hidden_dim * 2, hidden_dim * 4),\n",
        "            get_generator_block(hidden_dim * 4, hidden_dim * 8),\n",
        "            nn.Linear(hidden_dim * 8, im_dim),\n",
        "            nn.Sigmoid()\n",
        "        )\n",
        "    def forward(self, noise):\n",
        "        return self.gen(noise)\n",
        "    \n",
        "    \n",
        "    def get_gen(self):\n",
        "\n",
        "        return self.gen\n",
        "def get_discriminator_block(input_dim, output_dim):\n",
        "    return nn.Sequential(\n",
        "        nn.Linear(input_dim, output_dim),\n",
        "        nn.LeakyReLU(0.2, inplace=True)        \n",
        "    )\n",
        "class Discriminator(nn.Module):\n",
        "    def __init__(self, im_dim=t2[1], hidden_dim=128):\n",
        "        super(Discriminator, self).__init__()\n",
        "        self.disc = nn.Sequential(\n",
        "            get_discriminator_block(im_dim, hidden_dim * 4),\n",
        "            get_discriminator_block(hidden_dim * 4, hidden_dim * 2),\n",
        "            get_discriminator_block(hidden_dim * 2, hidden_dim),\n",
        "            nn.Linear(hidden_dim, 1)\n",
        "        )\n",
        "\n",
        "    def forward(self, image):\n",
        "\n",
        "        return self.disc(image)\n",
        "    \n",
        "    def get_disc(self):\n",
        "\n",
        "        return self.dis\n",
        "def get_noise(n_samples, z_dim, device='cuda'):\n",
        "\n",
        "    return torch.randn(n_samples,z_dim,device=device) "
      ],
      "execution_count": null,
      "outputs": []
    },
    {
      "cell_type": "code",
      "metadata": {
        "id": "xhhj1feF8sd5"
      },
      "source": [
        "criterion = nn.BCEWithLogitsLoss()\n",
        "n_epochs = 1000\n",
        "z_dim = t2[1]\n",
        "batch_size = 128\n",
        "lr = 0.00001\n",
        "display_step = 1\n",
        "device = 'cuda'\n",
        "gen = Generator(z_dim).to(device)\n",
        "gen_opt = torch.optim.Adam(gen.parameters(), lr=lr)\n",
        "disc = Discriminator().to(device) \n",
        "disc_opt = torch.optim.Adam(disc.parameters(), lr=lr)"
      ],
      "execution_count": null,
      "outputs": []
    },
    {
      "cell_type": "code",
      "metadata": {
        "id": "87NodJ5e8shn"
      },
      "source": [
        "def get_disc_loss(gen, disc, criterion, real, num_images, z_dim, device):\n",
        "\n",
        "    fake_noise = get_noise(num_images, z_dim, device=device)\n",
        "    fake = gen(fake_noise)\n",
        "    disc_fake_pred = disc(fake.detach())\n",
        "    disc_fake_loss = criterion(disc_fake_pred, torch.zeros_like(disc_fake_pred))\n",
        "    disc_real_pred = disc(real)\n",
        "    disc_real_loss = criterion(disc_real_pred, torch.ones_like(disc_real_pred))\n",
        "    disc_loss = (disc_fake_loss + disc_real_loss) / 2\n",
        "\n",
        "    return disc_loss\n",
        "\n",
        "def get_gen_loss(gen, disc, criterion, num_images, z_dim, device):\n",
        "\n",
        "    fake_noise = get_noise(num_images, z_dim, device=device)\n",
        "    fake = gen(fake_noise)\n",
        "    disc_fake_pred = disc(fake)\n",
        "    gen_loss = criterion(disc_fake_pred, torch.ones_like(disc_fake_pred))\n",
        "    return gen_loss"
      ],
      "execution_count": null,
      "outputs": []
    },
    {
      "cell_type": "code",
      "metadata": {
        "colab": {
          "base_uri": "https://localhost:8080/"
        },
        "id": "MTQWHOcG8skX",
        "outputId": "c5073e07-a35f-4252-f399-369dd4359f1f"
      },
      "source": [
        "li=[]\n",
        "for i in range(len(y_shuffled)):\n",
        "    if int(y_shuffled[i])==1:\n",
        "        li.append(x_shuffled[i])\n",
        "        \n",
        "print(len(y_shuffled), len(li))\n",
        "\n",
        "X_real=np.array(li)\n",
        "t3=X_real.shape\n",
        "li2=[1]*(t3[0])\n",
        "y_real=np.array(li2)\n",
        "y_real.shape\n",
        "\n",
        "from torch.utils.data import TensorDataset, DataLoader\n",
        "tensor_x = torch.Tensor(X_real) \n",
        "tensor_y = torch.Tensor(y_real)\n",
        "my_dataset = TensorDataset(tensor_x,tensor_y)\n",
        "dataloader = DataLoader(\n",
        "    my_dataset,\n",
        "    batch_size=batch_size,\n",
        "    shuffle=True)\n",
        "\n",
        "cur_step = 0\n",
        "mean_generator_loss = 0\n",
        "mean_discriminator_loss = 0\n",
        "test_generator = True \n",
        "gen_loss = False\n",
        "error = False"
      ],
      "execution_count": null,
      "outputs": [
        {
          "name": "stdout",
          "output_type": "stream",
          "text": [
            "13868 6934\n"
          ]
        }
      ]
    },
    {
      "cell_type": "code",
      "metadata": {
        "colab": {
          "base_uri": "https://localhost:8080/"
        },
        "id": "SVabikGR8snW",
        "outputId": "c1940cbd-3166-4664-d227-f7e651788ca6"
      },
      "source": [
        "samples_to_generate = X_oversampled.shape[0]-X_real.shape[0]\n",
        "print(samples_to_generate)\n",
        "\n",
        "#epochs = [100,500,1000,2000,3000,4000,5000]\n",
        "epochs = [10000]\n",
        "\n",
        "smote_gan_data = dict()"
      ],
      "execution_count": null,
      "outputs": [
        {
          "name": "stdout",
          "output_type": "stream",
          "text": [
            "6934\n"
          ]
        }
      ]
    },
    {
      "cell_type": "code",
      "metadata": {
        "colab": {
          "background_save": true,
          "base_uri": "https://localhost:8080/"
        },
        "id": "iI-RdEy98srF",
        "outputId": "aa25d8e0-9327-4d68-effd-6d58302e5cf4"
      },
      "source": [
        "for no_epoch in epochs:\n",
        "  print(\"no of epochs: \", no_epoch)\n",
        "  for epoch in range(no_epoch):\n",
        "  \n",
        "   \n",
        "    for real, _ in tqdm(dataloader, disable=True):\n",
        "        cur_batch_size = len(real)\n",
        "\n",
        "       \n",
        "        real = real.view(cur_batch_size, -1).to(device)\n",
        "\n",
        "      \n",
        "       \n",
        "        disc_opt.zero_grad()\n",
        "\n",
        "       \n",
        "        disc_loss = get_disc_loss(gen, disc, criterion, real, cur_batch_size, z_dim, device)\n",
        "\n",
        "        \n",
        "        disc_loss.backward(retain_graph=True)\n",
        "\n",
        "       \n",
        "        disc_opt.step()\n",
        "\n",
        "      \n",
        "        if test_generator:\n",
        "            old_generator_weights = gen.gen[0][0].weight.detach().clone()\n",
        "\n",
        "        gen_opt.zero_grad()\n",
        "        gen_loss = get_gen_loss(gen, disc, criterion, cur_batch_size, z_dim, device)\n",
        "        gen_loss.backward()\n",
        "        gen_opt.step()\n",
        "\n",
        "        if test_generator:\n",
        "            try:\n",
        "                assert lr > 0.0000002 or (gen.gen[0][0].weight.grad.abs().max() < 0.0005 and epoch == 0)\n",
        "                assert torch.any(gen.gen[0][0].weight.detach().clone() != old_generator_weights)\n",
        "            except:\n",
        "                error = True\n",
        "                print(\"Runtime tests have failed\")\n",
        "\n",
        "     \n",
        "        mean_discriminator_loss += disc_loss.item() / display_step\n",
        "\n",
        "  \n",
        "        mean_generator_loss += gen_loss.item() / display_step\n",
        "\n",
        "        if epoch%500==0:\n",
        "            print(f\"Epoch {epoch}: Step {cur_step}: Generator loss: {mean_generator_loss}, discriminator loss: {mean_discriminator_loss}\")\n",
        "\n",
        "        if cur_step % display_step == 0 and cur_step > 0:\n",
        "            mean_generator_loss = 0\n",
        "            mean_discriminator_loss = 0\n",
        "        cur_step += 1\n",
        "  fake_noise = get_noise(samples_to_generate, z_dim, device=device)\n",
        "  res=gen(fake_noise)\n",
        "  fres=res.cpu().detach().numpy()\n",
        "  X_old=X\n",
        "  finX=np.concatenate((X_old, fres), axis=0)\n",
        "  y_fake = np.ones(samples_to_generate)\n",
        "  Y_old=np.asarray(Y)\n",
        "  finY = np.append(Y_old, y_fake, axis=0)\n",
        "  print(finX.shape, finY.shape)\n",
        "  #idx = np.random.permutation(len(X_smote))\n",
        "  idx = np.random.permutation(finX.shape[0])\n",
        "  print(len(idx))\n",
        "  x_shuffled = []\n",
        "  y_shuffled = []\n",
        "  xy=dict()\n",
        "  for i in idx:\n",
        "    #x_shuffled.append(X_smote[i])\n",
        "    #y_shuffled.append(Y_smote[i])\n",
        "    x_shuffled.append(finX[i])\n",
        "    y_shuffled.append(finY[i])\n",
        "  xy['x_shuffled']=x_shuffled\n",
        "  xy['y_shuffled']=y_shuffled\n",
        "  smote_gan_data[no_epoch]=xy"
      ],
      "execution_count": null,
      "outputs": [
        {
          "metadata": {
            "tags": null
          },
          "name": "stdout",
          "output_type": "stream",
          "text": [
            "no of epochs:  10000\n",
            "Epoch 0: Step 15039: Generator loss: 0.6969515681266785, discriminator loss: 0.6933611631393433\n",
            "Epoch 0: Step 15040: Generator loss: 0.6971141695976257, discriminator loss: 0.6932340264320374\n",
            "Epoch 0: Step 15041: Generator loss: 0.6973757743835449, discriminator loss: 0.693145751953125\n",
            "Epoch 0: Step 15042: Generator loss: 0.6975430250167847, discriminator loss: 0.6932377219200134\n",
            "Epoch 0: Step 15043: Generator loss: 0.6976721286773682, discriminator loss: 0.6932569146156311\n",
            "Epoch 0: Step 15044: Generator loss: 0.6979202032089233, discriminator loss: 0.6932460069656372\n",
            "Epoch 0: Step 15045: Generator loss: 0.6979694962501526, discriminator loss: 0.6932770013809204\n",
            "Epoch 0: Step 15046: Generator loss: 0.6982169151306152, discriminator loss: 0.6931572556495667\n",
            "Epoch 0: Step 15047: Generator loss: 0.6982886791229248, discriminator loss: 0.6932191848754883\n",
            "Epoch 0: Step 15048: Generator loss: 0.6986032128334045, discriminator loss: 0.6931339502334595\n",
            "Epoch 0: Step 15049: Generator loss: 0.6986677050590515, discriminator loss: 0.6932613253593445\n",
            "Epoch 0: Step 15050: Generator loss: 0.6987817287445068, discriminator loss: 0.6932414174079895\n",
            "Epoch 0: Step 15051: Generator loss: 0.6989629864692688, discriminator loss: 0.6932148933410645\n",
            "Epoch 0: Step 15052: Generator loss: 0.6990420818328857, discriminator loss: 0.6932579874992371\n",
            "Epoch 0: Step 15053: Generator loss: 0.6991053223609924, discriminator loss: 0.693219780921936\n",
            "Epoch 0: Step 15054: Generator loss: 0.699259877204895, discriminator loss: 0.6932029724121094\n",
            "Epoch 0: Step 15055: Generator loss: 0.6992180347442627, discriminator loss: 0.6932446956634521\n",
            "Epoch 0: Step 15056: Generator loss: 0.6994276642799377, discriminator loss: 0.6931493282318115\n",
            "Epoch 0: Step 15057: Generator loss: 0.6995846033096313, discriminator loss: 0.6930921077728271\n",
            "Epoch 0: Step 15058: Generator loss: 0.6996484994888306, discriminator loss: 0.6932421922683716\n",
            "Epoch 0: Step 15059: Generator loss: 0.699772834777832, discriminator loss: 0.6931599974632263\n",
            "Epoch 0: Step 15060: Generator loss: 0.6999996304512024, discriminator loss: 0.6931697726249695\n",
            "Epoch 0: Step 15061: Generator loss: 0.7000634670257568, discriminator loss: 0.693295955657959\n",
            "Epoch 0: Step 15062: Generator loss: 0.7000706195831299, discriminator loss: 0.6933114528656006\n",
            "Epoch 0: Step 15063: Generator loss: 0.7000786066055298, discriminator loss: 0.6931091547012329\n",
            "Epoch 0: Step 15064: Generator loss: 0.7000017166137695, discriminator loss: 0.693153977394104\n",
            "Epoch 0: Step 15065: Generator loss: 0.7001537084579468, discriminator loss: 0.6932482123374939\n",
            "Epoch 0: Step 15066: Generator loss: 0.700104832649231, discriminator loss: 0.693071186542511\n",
            "Epoch 0: Step 15067: Generator loss: 0.7004167437553406, discriminator loss: 0.693040668964386\n",
            "Epoch 0: Step 15068: Generator loss: 0.7003244161605835, discriminator loss: 0.693122386932373\n",
            "Epoch 0: Step 15069: Generator loss: 0.7004472613334656, discriminator loss: 0.6931679248809814\n",
            "Epoch 0: Step 15070: Generator loss: 0.7004973888397217, discriminator loss: 0.6930409669876099\n",
            "Epoch 0: Step 15071: Generator loss: 0.700666069984436, discriminator loss: 0.6931562423706055\n",
            "Epoch 0: Step 15072: Generator loss: 0.7007616758346558, discriminator loss: 0.6930633783340454\n",
            "Epoch 0: Step 15073: Generator loss: 0.7010428309440613, discriminator loss: 0.6929786205291748\n",
            "Epoch 0: Step 15074: Generator loss: 0.7008771300315857, discriminator loss: 0.6931508779525757\n",
            "Epoch 0: Step 15075: Generator loss: 0.7011985778808594, discriminator loss: 0.6931135654449463\n",
            "Epoch 0: Step 15076: Generator loss: 0.7013567090034485, discriminator loss: 0.6930227279663086\n",
            "Epoch 0: Step 15077: Generator loss: 0.7013521194458008, discriminator loss: 0.6931732296943665\n",
            "Epoch 0: Step 15078: Generator loss: 0.7015474438667297, discriminator loss: 0.6929913759231567\n",
            "Epoch 0: Step 15079: Generator loss: 0.7014694213867188, discriminator loss: 0.6930239200592041\n",
            "Epoch 0: Step 15080: Generator loss: 0.7015399932861328, discriminator loss: 0.6933225393295288\n",
            "Epoch 0: Step 15081: Generator loss: 0.7014680504798889, discriminator loss: 0.6933108568191528\n",
            "Epoch 0: Step 15082: Generator loss: 0.7015713453292847, discriminator loss: 0.6935210227966309\n",
            "Epoch 0: Step 15083: Generator loss: 0.7014702558517456, discriminator loss: 0.6929268836975098\n",
            "Epoch 0: Step 15084: Generator loss: 0.7014340162277222, discriminator loss: 0.6930502653121948\n",
            "Epoch 0: Step 15085: Generator loss: 0.7013339400291443, discriminator loss: 0.6929876208305359\n",
            "Epoch 0: Step 15086: Generator loss: 0.7012603282928467, discriminator loss: 0.6930813193321228\n",
            "Epoch 0: Step 15087: Generator loss: 0.7010672092437744, discriminator loss: 0.6933621168136597\n",
            "Epoch 0: Step 15088: Generator loss: 0.7011557221412659, discriminator loss: 0.6930924654006958\n",
            "Epoch 0: Step 15089: Generator loss: 0.7010027170181274, discriminator loss: 0.6933063268661499\n",
            "Epoch 0: Step 15090: Generator loss: 0.700995683670044, discriminator loss: 0.693037211894989\n",
            "Epoch 0: Step 15091: Generator loss: 0.7008243799209595, discriminator loss: 0.6929882764816284\n",
            "Epoch 0: Step 15092: Generator loss: 0.7005908489227295, discriminator loss: 0.6932401061058044\n",
            "Epoch 0: Step 15093: Generator loss: 0.7005484700202942, discriminator loss: 0.6927937269210815\n",
            "Epoch 500: Step 42539: Generator loss: 0.7132405638694763, discriminator loss: 0.6927062273025513\n",
            "Epoch 500: Step 42540: Generator loss: 0.7133992314338684, discriminator loss: 0.6929036378860474\n",
            "Epoch 500: Step 42541: Generator loss: 0.7136836647987366, discriminator loss: 0.6927388906478882\n",
            "Epoch 500: Step 42542: Generator loss: 0.7138292789459229, discriminator loss: 0.6927001476287842\n",
            "Epoch 500: Step 42543: Generator loss: 0.7140241861343384, discriminator loss: 0.6924430727958679\n",
            "Epoch 500: Step 42544: Generator loss: 0.7141969203948975, discriminator loss: 0.692223072052002\n",
            "Epoch 500: Step 42545: Generator loss: 0.7143175005912781, discriminator loss: 0.6924580335617065\n",
            "Epoch 500: Step 42546: Generator loss: 0.7145937085151672, discriminator loss: 0.6923381090164185\n",
            "Epoch 500: Step 42547: Generator loss: 0.7145613431930542, discriminator loss: 0.6923719644546509\n",
            "Epoch 500: Step 42548: Generator loss: 0.7149289846420288, discriminator loss: 0.6924976110458374\n",
            "Epoch 500: Step 42549: Generator loss: 0.7150460481643677, discriminator loss: 0.6926156282424927\n",
            "Epoch 500: Step 42550: Generator loss: 0.7150295972824097, discriminator loss: 0.6924910545349121\n",
            "Epoch 500: Step 42551: Generator loss: 0.7151771783828735, discriminator loss: 0.6931030750274658\n",
            "Epoch 500: Step 42552: Generator loss: 0.7152853012084961, discriminator loss: 0.692916989326477\n",
            "Epoch 500: Step 42553: Generator loss: 0.7149980068206787, discriminator loss: 0.6920918226242065\n",
            "Epoch 500: Step 42554: Generator loss: 0.7150115966796875, discriminator loss: 0.6924341917037964\n",
            "Epoch 500: Step 42555: Generator loss: 0.7151214480400085, discriminator loss: 0.6927837133407593\n",
            "Epoch 500: Step 42556: Generator loss: 0.7149591445922852, discriminator loss: 0.6925230026245117\n",
            "Epoch 500: Step 42557: Generator loss: 0.7147220373153687, discriminator loss: 0.6925420165061951\n",
            "Epoch 500: Step 42558: Generator loss: 0.7147759199142456, discriminator loss: 0.692359447479248\n",
            "Epoch 500: Step 42559: Generator loss: 0.7144877910614014, discriminator loss: 0.6924726963043213\n",
            "Epoch 500: Step 42560: Generator loss: 0.7146182656288147, discriminator loss: 0.6920750141143799\n",
            "Epoch 500: Step 42561: Generator loss: 0.7142309546470642, discriminator loss: 0.6922751069068909\n",
            "Epoch 500: Step 42562: Generator loss: 0.7140593528747559, discriminator loss: 0.6927134394645691\n",
            "Epoch 500: Step 42563: Generator loss: 0.713793158531189, discriminator loss: 0.6926987171173096\n",
            "Epoch 500: Step 42564: Generator loss: 0.7138990163803101, discriminator loss: 0.6924958229064941\n",
            "Epoch 500: Step 42565: Generator loss: 0.7136552333831787, discriminator loss: 0.692685067653656\n",
            "Epoch 500: Step 42566: Generator loss: 0.713242769241333, discriminator loss: 0.6923893690109253\n",
            "Epoch 500: Step 42567: Generator loss: 0.7129701375961304, discriminator loss: 0.6920403838157654\n",
            "Epoch 500: Step 42568: Generator loss: 0.7128657698631287, discriminator loss: 0.6920625567436218\n",
            "Epoch 500: Step 42569: Generator loss: 0.7125136256217957, discriminator loss: 0.6927592754364014\n",
            "Epoch 500: Step 42570: Generator loss: 0.7122284173965454, discriminator loss: 0.6927890777587891\n",
            "Epoch 500: Step 42571: Generator loss: 0.7118955850601196, discriminator loss: 0.6918849349021912\n",
            "Epoch 500: Step 42572: Generator loss: 0.7119690179824829, discriminator loss: 0.6925472021102905\n",
            "Epoch 500: Step 42573: Generator loss: 0.711659848690033, discriminator loss: 0.6918801069259644\n",
            "Epoch 500: Step 42574: Generator loss: 0.7113487720489502, discriminator loss: 0.6925351619720459\n",
            "Epoch 500: Step 42575: Generator loss: 0.7113527655601501, discriminator loss: 0.6922694444656372\n",
            "Epoch 500: Step 42576: Generator loss: 0.711081326007843, discriminator loss: 0.6926348209381104\n",
            "Epoch 500: Step 42577: Generator loss: 0.7107231616973877, discriminator loss: 0.6924008131027222\n",
            "Epoch 500: Step 42578: Generator loss: 0.7103538513183594, discriminator loss: 0.6923129558563232\n",
            "Epoch 500: Step 42579: Generator loss: 0.7100292444229126, discriminator loss: 0.6939728856086731\n",
            "Epoch 500: Step 42580: Generator loss: 0.7094546556472778, discriminator loss: 0.6923537254333496\n",
            "Epoch 500: Step 42581: Generator loss: 0.709228515625, discriminator loss: 0.6923785209655762\n",
            "Epoch 500: Step 42582: Generator loss: 0.7090747952461243, discriminator loss: 0.6920533776283264\n",
            "Epoch 500: Step 42583: Generator loss: 0.7087743878364563, discriminator loss: 0.6925035715103149\n",
            "Epoch 500: Step 42584: Generator loss: 0.7083624601364136, discriminator loss: 0.693387508392334\n",
            "Epoch 500: Step 42585: Generator loss: 0.7079616189002991, discriminator loss: 0.6934032440185547\n",
            "Epoch 500: Step 42586: Generator loss: 0.7076789736747742, discriminator loss: 0.6923798322677612\n",
            "Epoch 500: Step 42587: Generator loss: 0.7072647213935852, discriminator loss: 0.6925193071365356\n",
            "Epoch 500: Step 42588: Generator loss: 0.7070894241333008, discriminator loss: 0.6925702095031738\n",
            "Epoch 500: Step 42589: Generator loss: 0.7068209052085876, discriminator loss: 0.6932909488677979\n",
            "Epoch 500: Step 42590: Generator loss: 0.7061315774917603, discriminator loss: 0.6931881308555603\n",
            "Epoch 500: Step 42591: Generator loss: 0.7057186365127563, discriminator loss: 0.6928578615188599\n",
            "Epoch 500: Step 42592: Generator loss: 0.7054657936096191, discriminator loss: 0.6924161314964294\n",
            "Epoch 500: Step 42593: Generator loss: 0.7050378322601318, discriminator loss: 0.6937606334686279\n",
            "Epoch 1000: Step 70039: Generator loss: 0.6873615384101868, discriminator loss: 0.6940702199935913\n",
            "Epoch 1000: Step 70040: Generator loss: 0.6876007318496704, discriminator loss: 0.6937254667282104\n",
            "Epoch 1000: Step 70041: Generator loss: 0.6878829598426819, discriminator loss: 0.6936819553375244\n",
            "Epoch 1000: Step 70042: Generator loss: 0.6882315874099731, discriminator loss: 0.6932225227355957\n",
            "Epoch 1000: Step 70043: Generator loss: 0.6882721185684204, discriminator loss: 0.6930805444717407\n",
            "Epoch 1000: Step 70044: Generator loss: 0.6889349222183228, discriminator loss: 0.6937934160232544\n",
            "Epoch 1000: Step 70045: Generator loss: 0.689068078994751, discriminator loss: 0.6932759284973145\n",
            "Epoch 1000: Step 70046: Generator loss: 0.6895301938056946, discriminator loss: 0.6931173801422119\n",
            "Epoch 1000: Step 70047: Generator loss: 0.6895483732223511, discriminator loss: 0.6936020851135254\n",
            "Epoch 1000: Step 70048: Generator loss: 0.6902178525924683, discriminator loss: 0.6933678388595581\n",
            "Epoch 1000: Step 70049: Generator loss: 0.6906232237815857, discriminator loss: 0.6937409043312073\n",
            "Epoch 1000: Step 70050: Generator loss: 0.6908514499664307, discriminator loss: 0.6926175355911255\n",
            "Epoch 1000: Step 70051: Generator loss: 0.6909379363059998, discriminator loss: 0.6932755708694458\n",
            "Epoch 1000: Step 70052: Generator loss: 0.6912542581558228, discriminator loss: 0.6933231949806213\n",
            "Epoch 1000: Step 70053: Generator loss: 0.6915051937103271, discriminator loss: 0.6933087706565857\n",
            "Epoch 1000: Step 70054: Generator loss: 0.6917667984962463, discriminator loss: 0.6934496760368347\n",
            "Epoch 1000: Step 70055: Generator loss: 0.691888153553009, discriminator loss: 0.6936016082763672\n",
            "Epoch 1000: Step 70056: Generator loss: 0.6923027038574219, discriminator loss: 0.6936025023460388\n",
            "Epoch 1000: Step 70057: Generator loss: 0.6927024126052856, discriminator loss: 0.6938005685806274\n",
            "Epoch 1000: Step 70058: Generator loss: 0.6929412484169006, discriminator loss: 0.6936116218566895\n",
            "Epoch 1000: Step 70059: Generator loss: 0.6932818293571472, discriminator loss: 0.6934638023376465\n",
            "Epoch 1000: Step 70060: Generator loss: 0.6936909556388855, discriminator loss: 0.693210780620575\n",
            "Epoch 1000: Step 70061: Generator loss: 0.6940523386001587, discriminator loss: 0.6937676668167114\n",
            "Epoch 1000: Step 70062: Generator loss: 0.694410502910614, discriminator loss: 0.6935805082321167\n",
            "Epoch 1000: Step 70063: Generator loss: 0.6950211524963379, discriminator loss: 0.6934832334518433\n",
            "Epoch 1000: Step 70064: Generator loss: 0.6951125264167786, discriminator loss: 0.6934037208557129\n",
            "Epoch 1000: Step 70065: Generator loss: 0.6956242322921753, discriminator loss: 0.6936997175216675\n",
            "Epoch 1000: Step 70066: Generator loss: 0.6961694955825806, discriminator loss: 0.693708062171936\n",
            "Epoch 1000: Step 70067: Generator loss: 0.696570098400116, discriminator loss: 0.6936846971511841\n",
            "Epoch 1000: Step 70068: Generator loss: 0.6970336437225342, discriminator loss: 0.6934294104576111\n",
            "Epoch 1000: Step 70069: Generator loss: 0.6974279880523682, discriminator loss: 0.6935908794403076\n",
            "Epoch 1000: Step 70070: Generator loss: 0.6979677677154541, discriminator loss: 0.6934834122657776\n",
            "Epoch 1000: Step 70071: Generator loss: 0.698452889919281, discriminator loss: 0.6936259865760803\n",
            "Epoch 1000: Step 70072: Generator loss: 0.6990022659301758, discriminator loss: 0.6935757994651794\n",
            "Epoch 1000: Step 70073: Generator loss: 0.6994876861572266, discriminator loss: 0.6934838891029358\n",
            "Epoch 1000: Step 70074: Generator loss: 0.700092613697052, discriminator loss: 0.6935367584228516\n",
            "Epoch 1000: Step 70075: Generator loss: 0.7005878686904907, discriminator loss: 0.6934248208999634\n",
            "Epoch 1000: Step 70076: Generator loss: 0.7011650800704956, discriminator loss: 0.6936455965042114\n",
            "Epoch 1000: Step 70077: Generator loss: 0.7017358541488647, discriminator loss: 0.6935991644859314\n",
            "Epoch 1000: Step 70078: Generator loss: 0.702401876449585, discriminator loss: 0.6933580636978149\n",
            "Epoch 1000: Step 70079: Generator loss: 0.7029623985290527, discriminator loss: 0.6933733224868774\n",
            "Epoch 1000: Step 70080: Generator loss: 0.7035909295082092, discriminator loss: 0.6934939622879028\n",
            "Epoch 1000: Step 70081: Generator loss: 0.7041666507720947, discriminator loss: 0.6932671070098877\n",
            "Epoch 1000: Step 70082: Generator loss: 0.7048247456550598, discriminator loss: 0.6933611631393433\n",
            "Epoch 1000: Step 70083: Generator loss: 0.7053546905517578, discriminator loss: 0.693196177482605\n",
            "Epoch 1000: Step 70084: Generator loss: 0.7059757113456726, discriminator loss: 0.6932762265205383\n",
            "Epoch 1000: Step 70085: Generator loss: 0.706517219543457, discriminator loss: 0.6931731700897217\n",
            "Epoch 1000: Step 70086: Generator loss: 0.7070862650871277, discriminator loss: 0.6932650208473206\n",
            "Epoch 1000: Step 70087: Generator loss: 0.7076285481452942, discriminator loss: 0.6931050419807434\n",
            "Epoch 1000: Step 70088: Generator loss: 0.7081526517868042, discriminator loss: 0.693100094795227\n",
            "Epoch 1000: Step 70089: Generator loss: 0.7086170315742493, discriminator loss: 0.6931675672531128\n",
            "Epoch 1000: Step 70090: Generator loss: 0.7091093063354492, discriminator loss: 0.6929963231086731\n",
            "Epoch 1000: Step 70091: Generator loss: 0.7095216512680054, discriminator loss: 0.6931363344192505\n",
            "Epoch 1000: Step 70092: Generator loss: 0.709962785243988, discriminator loss: 0.6929988861083984\n",
            "Epoch 1000: Step 70093: Generator loss: 0.7101908922195435, discriminator loss: 0.6930574178695679\n",
            "Epoch 1500: Step 97539: Generator loss: 0.6992745399475098, discriminator loss: 0.6933630108833313\n",
            "Epoch 1500: Step 97540: Generator loss: 0.6990545988082886, discriminator loss: 0.6934553384780884\n",
            "Epoch 1500: Step 97541: Generator loss: 0.6987733244895935, discriminator loss: 0.6931368708610535\n",
            "Epoch 1500: Step 97542: Generator loss: 0.6985369920730591, discriminator loss: 0.6928063631057739\n",
            "Epoch 1500: Step 97543: Generator loss: 0.6986224055290222, discriminator loss: 0.6932212114334106\n",
            "Epoch 1500: Step 97544: Generator loss: 0.6983314752578735, discriminator loss: 0.6930316090583801\n",
            "Epoch 1500: Step 97545: Generator loss: 0.6980938911437988, discriminator loss: 0.6930213570594788\n",
            "Epoch 1500: Step 97546: Generator loss: 0.6979789733886719, discriminator loss: 0.6933161616325378\n",
            "Epoch 1500: Step 97547: Generator loss: 0.697758674621582, discriminator loss: 0.692865252494812\n",
            "Epoch 1500: Step 97548: Generator loss: 0.6975136995315552, discriminator loss: 0.6931378841400146\n",
            "Epoch 1500: Step 97549: Generator loss: 0.6975145936012268, discriminator loss: 0.6931869983673096\n",
            "Epoch 1500: Step 97550: Generator loss: 0.6971653699874878, discriminator loss: 0.6930304169654846\n",
            "Epoch 1500: Step 97551: Generator loss: 0.6967397928237915, discriminator loss: 0.6932741403579712\n",
            "Epoch 1500: Step 97552: Generator loss: 0.69669508934021, discriminator loss: 0.69313645362854\n",
            "Epoch 1500: Step 97553: Generator loss: 0.6965436339378357, discriminator loss: 0.6932607889175415\n",
            "Epoch 1500: Step 97554: Generator loss: 0.6962745189666748, discriminator loss: 0.6932876706123352\n",
            "Epoch 1500: Step 97555: Generator loss: 0.6963309049606323, discriminator loss: 0.6931010484695435\n",
            "Epoch 1500: Step 97556: Generator loss: 0.6959794163703918, discriminator loss: 0.6930723786354065\n",
            "Epoch 1500: Step 97557: Generator loss: 0.695902943611145, discriminator loss: 0.6927602887153625\n",
            "Epoch 1500: Step 97558: Generator loss: 0.6958280205726624, discriminator loss: 0.6933327913284302\n",
            "Epoch 1500: Step 97559: Generator loss: 0.6958595514297485, discriminator loss: 0.6931251287460327\n",
            "Epoch 1500: Step 97560: Generator loss: 0.6954046487808228, discriminator loss: 0.6930252313613892\n",
            "Epoch 1500: Step 97561: Generator loss: 0.6953535079956055, discriminator loss: 0.6930583715438843\n",
            "Epoch 1500: Step 97562: Generator loss: 0.6951653361320496, discriminator loss: 0.6932973265647888\n",
            "Epoch 1500: Step 97563: Generator loss: 0.695051908493042, discriminator loss: 0.6931164264678955\n",
            "Epoch 1500: Step 97564: Generator loss: 0.694871187210083, discriminator loss: 0.6931072473526001\n",
            "Epoch 1500: Step 97565: Generator loss: 0.694891095161438, discriminator loss: 0.693336546421051\n",
            "Epoch 1500: Step 97566: Generator loss: 0.6947396993637085, discriminator loss: 0.6935434341430664\n",
            "Epoch 1500: Step 97567: Generator loss: 0.6945124864578247, discriminator loss: 0.6932899951934814\n",
            "Epoch 1500: Step 97568: Generator loss: 0.6943577527999878, discriminator loss: 0.6931204199790955\n",
            "Epoch 1500: Step 97569: Generator loss: 0.694158673286438, discriminator loss: 0.6930310726165771\n",
            "Epoch 1500: Step 97570: Generator loss: 0.6942035555839539, discriminator loss: 0.6932545304298401\n",
            "Epoch 1500: Step 97571: Generator loss: 0.6943330764770508, discriminator loss: 0.693310558795929\n",
            "Epoch 1500: Step 97572: Generator loss: 0.6937572956085205, discriminator loss: 0.6930181980133057\n",
            "Epoch 1500: Step 97573: Generator loss: 0.6937124729156494, discriminator loss: 0.6933403611183167\n",
            "Epoch 1500: Step 97574: Generator loss: 0.6934762001037598, discriminator loss: 0.6934136152267456\n",
            "Epoch 1500: Step 97575: Generator loss: 0.6934390068054199, discriminator loss: 0.6932268142700195\n",
            "Epoch 1500: Step 97576: Generator loss: 0.693285346031189, discriminator loss: 0.6932911276817322\n",
            "Epoch 1500: Step 97577: Generator loss: 0.6934274435043335, discriminator loss: 0.693209707736969\n",
            "Epoch 1500: Step 97578: Generator loss: 0.6932345628738403, discriminator loss: 0.6936198472976685\n",
            "Epoch 1500: Step 97579: Generator loss: 0.6928130388259888, discriminator loss: 0.6936042308807373\n",
            "Epoch 1500: Step 97580: Generator loss: 0.6929206252098083, discriminator loss: 0.6933112144470215\n",
            "Epoch 1500: Step 97581: Generator loss: 0.692320704460144, discriminator loss: 0.6932985782623291\n",
            "Epoch 1500: Step 97582: Generator loss: 0.6927286386489868, discriminator loss: 0.6933201551437378\n",
            "Epoch 1500: Step 97583: Generator loss: 0.6922756433486938, discriminator loss: 0.6932880878448486\n",
            "Epoch 1500: Step 97584: Generator loss: 0.6919734477996826, discriminator loss: 0.6931885480880737\n",
            "Epoch 1500: Step 97585: Generator loss: 0.6916594505310059, discriminator loss: 0.6932746171951294\n",
            "Epoch 1500: Step 97586: Generator loss: 0.6916389465332031, discriminator loss: 0.6932437419891357\n",
            "Epoch 1500: Step 97587: Generator loss: 0.6916115283966064, discriminator loss: 0.693496823310852\n",
            "Epoch 1500: Step 97588: Generator loss: 0.6911800503730774, discriminator loss: 0.6931766271591187\n",
            "Epoch 1500: Step 97589: Generator loss: 0.6910912990570068, discriminator loss: 0.6933069229125977\n",
            "Epoch 1500: Step 97590: Generator loss: 0.6908419132232666, discriminator loss: 0.6931732892990112\n",
            "Epoch 1500: Step 97591: Generator loss: 0.6908180117607117, discriminator loss: 0.6935293674468994\n",
            "Epoch 1500: Step 97592: Generator loss: 0.6907408833503723, discriminator loss: 0.6932575702667236\n",
            "Epoch 1500: Step 97593: Generator loss: 0.6906779408454895, discriminator loss: 0.6929858922958374\n",
            "Epoch 2000: Step 125039: Generator loss: 0.6874754428863525, discriminator loss: 0.6932518482208252\n",
            "Epoch 2000: Step 125040: Generator loss: 0.6873219013214111, discriminator loss: 0.6931949853897095\n",
            "Epoch 2000: Step 125041: Generator loss: 0.6871394515037537, discriminator loss: 0.6932753324508667\n",
            "Epoch 2000: Step 125042: Generator loss: 0.6869766712188721, discriminator loss: 0.693244218826294\n",
            "Epoch 2000: Step 125043: Generator loss: 0.6867555975914001, discriminator loss: 0.6931765079498291\n",
            "Epoch 2000: Step 125044: Generator loss: 0.6866075396537781, discriminator loss: 0.6931890845298767\n",
            "Epoch 2000: Step 125045: Generator loss: 0.686448872089386, discriminator loss: 0.6931447386741638\n",
            "Epoch 2000: Step 125046: Generator loss: 0.686345636844635, discriminator loss: 0.6931921243667603\n",
            "Epoch 2000: Step 125047: Generator loss: 0.6861674785614014, discriminator loss: 0.6931626796722412\n",
            "Epoch 2000: Step 125048: Generator loss: 0.6859851479530334, discriminator loss: 0.6931243538856506\n",
            "Epoch 2000: Step 125049: Generator loss: 0.6857372522354126, discriminator loss: 0.6931160688400269\n",
            "Epoch 2000: Step 125050: Generator loss: 0.6855291724205017, discriminator loss: 0.6931354403495789\n",
            "Epoch 2000: Step 125051: Generator loss: 0.6854944825172424, discriminator loss: 0.6931151151657104\n",
            "Epoch 2000: Step 125052: Generator loss: 0.685295820236206, discriminator loss: 0.693101704120636\n",
            "Epoch 2000: Step 125053: Generator loss: 0.6851474046707153, discriminator loss: 0.6930640935897827\n",
            "Epoch 2000: Step 125054: Generator loss: 0.6850104331970215, discriminator loss: 0.6930859088897705\n",
            "Epoch 2000: Step 125055: Generator loss: 0.6848447322845459, discriminator loss: 0.6929773092269897\n",
            "Epoch 2000: Step 125056: Generator loss: 0.6847169399261475, discriminator loss: 0.6930150389671326\n",
            "Epoch 2000: Step 125057: Generator loss: 0.684654951095581, discriminator loss: 0.6930781006813049\n",
            "Epoch 2000: Step 125058: Generator loss: 0.6845670938491821, discriminator loss: 0.6931066513061523\n",
            "Epoch 2000: Step 125059: Generator loss: 0.6844684481620789, discriminator loss: 0.6930806636810303\n",
            "Epoch 2000: Step 125060: Generator loss: 0.6843436360359192, discriminator loss: 0.6930621266365051\n",
            "Epoch 2000: Step 125061: Generator loss: 0.6844362020492554, discriminator loss: 0.6930790543556213\n",
            "Epoch 2000: Step 125062: Generator loss: 0.6842697858810425, discriminator loss: 0.6929653882980347\n",
            "Epoch 2000: Step 125063: Generator loss: 0.6842325925827026, discriminator loss: 0.6930571794509888\n",
            "Epoch 2000: Step 125064: Generator loss: 0.684186577796936, discriminator loss: 0.6928837299346924\n",
            "Epoch 2000: Step 125065: Generator loss: 0.6840274930000305, discriminator loss: 0.6929364204406738\n",
            "Epoch 2000: Step 125066: Generator loss: 0.6839133501052856, discriminator loss: 0.6929413080215454\n",
            "Epoch 2000: Step 125067: Generator loss: 0.6837477684020996, discriminator loss: 0.6929470300674438\n",
            "Epoch 2000: Step 125068: Generator loss: 0.6835751533508301, discriminator loss: 0.6929796934127808\n",
            "Epoch 2000: Step 125069: Generator loss: 0.6836460828781128, discriminator loss: 0.6929962635040283\n",
            "Epoch 2000: Step 125070: Generator loss: 0.6834632158279419, discriminator loss: 0.6928754448890686\n",
            "Epoch 2000: Step 125071: Generator loss: 0.6832191348075867, discriminator loss: 0.6928597092628479\n",
            "Epoch 2000: Step 125072: Generator loss: 0.6831014752388, discriminator loss: 0.6928552389144897\n",
            "Epoch 2000: Step 125073: Generator loss: 0.6828888654708862, discriminator loss: 0.6927662491798401\n",
            "Epoch 2000: Step 125074: Generator loss: 0.6827690601348877, discriminator loss: 0.6930040121078491\n",
            "Epoch 2000: Step 125075: Generator loss: 0.6828536987304688, discriminator loss: 0.6929836273193359\n",
            "Epoch 2000: Step 125076: Generator loss: 0.6826510429382324, discriminator loss: 0.6929872035980225\n",
            "Epoch 2000: Step 125077: Generator loss: 0.6826593279838562, discriminator loss: 0.692898154258728\n",
            "Epoch 2000: Step 125078: Generator loss: 0.682401716709137, discriminator loss: 0.6929728388786316\n",
            "Epoch 2000: Step 125079: Generator loss: 0.6825379729270935, discriminator loss: 0.6930047273635864\n",
            "Epoch 2000: Step 125080: Generator loss: 0.6824998259544373, discriminator loss: 0.6929516792297363\n",
            "Epoch 2000: Step 125081: Generator loss: 0.6824781894683838, discriminator loss: 0.6930345296859741\n",
            "Epoch 2000: Step 125082: Generator loss: 0.6824327111244202, discriminator loss: 0.6929011940956116\n",
            "Epoch 2000: Step 125083: Generator loss: 0.6825838088989258, discriminator loss: 0.6928228735923767\n",
            "Epoch 2000: Step 125084: Generator loss: 0.682523787021637, discriminator loss: 0.6928220391273499\n",
            "Epoch 2000: Step 125085: Generator loss: 0.6824023723602295, discriminator loss: 0.6930090188980103\n",
            "Epoch 2000: Step 125086: Generator loss: 0.6824997663497925, discriminator loss: 0.6928372383117676\n",
            "Epoch 2000: Step 125087: Generator loss: 0.6825088858604431, discriminator loss: 0.6930137872695923\n",
            "Epoch 2000: Step 125088: Generator loss: 0.6826575994491577, discriminator loss: 0.6930620670318604\n",
            "Epoch 2000: Step 125089: Generator loss: 0.6828433275222778, discriminator loss: 0.6929536461830139\n",
            "Epoch 2000: Step 125090: Generator loss: 0.6827609539031982, discriminator loss: 0.6928554773330688\n",
            "Epoch 2000: Step 125091: Generator loss: 0.6827247142791748, discriminator loss: 0.6928366422653198\n",
            "Epoch 2000: Step 125092: Generator loss: 0.6828510761260986, discriminator loss: 0.6932671666145325\n",
            "Epoch 2000: Step 125093: Generator loss: 0.6829230785369873, discriminator loss: 0.6929261684417725\n",
            "Epoch 2500: Step 152539: Generator loss: 0.6914570927619934, discriminator loss: 0.6933161020278931\n",
            "Epoch 2500: Step 152540: Generator loss: 0.6913044452667236, discriminator loss: 0.6933072209358215\n",
            "Epoch 2500: Step 152541: Generator loss: 0.6911661028862, discriminator loss: 0.6933398246765137\n",
            "Epoch 2500: Step 152542: Generator loss: 0.6910805106163025, discriminator loss: 0.6933557987213135\n",
            "Epoch 2500: Step 152543: Generator loss: 0.6909934878349304, discriminator loss: 0.6933231949806213\n",
            "Epoch 2500: Step 152544: Generator loss: 0.6907374858856201, discriminator loss: 0.6933465003967285\n",
            "Epoch 2500: Step 152545: Generator loss: 0.6907573938369751, discriminator loss: 0.6934056878089905\n",
            "Epoch 2500: Step 152546: Generator loss: 0.6906523704528809, discriminator loss: 0.69341641664505\n",
            "Epoch 2500: Step 152547: Generator loss: 0.6904528141021729, discriminator loss: 0.6933432817459106\n",
            "Epoch 2500: Step 152548: Generator loss: 0.6903089284896851, discriminator loss: 0.6933534741401672\n",
            "Epoch 2500: Step 152549: Generator loss: 0.6901581287384033, discriminator loss: 0.6933196783065796\n",
            "Epoch 2500: Step 152550: Generator loss: 0.6900041103363037, discriminator loss: 0.6934340596199036\n",
            "Epoch 2500: Step 152551: Generator loss: 0.6898701786994934, discriminator loss: 0.6934084296226501\n",
            "Epoch 2500: Step 152552: Generator loss: 0.6897448301315308, discriminator loss: 0.6933806538581848\n",
            "Epoch 2500: Step 152553: Generator loss: 0.689461350440979, discriminator loss: 0.6934196949005127\n",
            "Epoch 2500: Step 152554: Generator loss: 0.6894668340682983, discriminator loss: 0.6933882236480713\n",
            "Epoch 2500: Step 152555: Generator loss: 0.6892557144165039, discriminator loss: 0.6933008432388306\n",
            "Epoch 2500: Step 152556: Generator loss: 0.68918377161026, discriminator loss: 0.6933736801147461\n",
            "Epoch 2500: Step 152557: Generator loss: 0.6888877749443054, discriminator loss: 0.693387508392334\n",
            "Epoch 2500: Step 152558: Generator loss: 0.6887990832328796, discriminator loss: 0.6933901309967041\n",
            "Epoch 2500: Step 152559: Generator loss: 0.6885132789611816, discriminator loss: 0.6932891011238098\n",
            "Epoch 2500: Step 152560: Generator loss: 0.6884212493896484, discriminator loss: 0.6933736801147461\n",
            "Epoch 2500: Step 152561: Generator loss: 0.6883387565612793, discriminator loss: 0.6934109926223755\n",
            "Epoch 2500: Step 152562: Generator loss: 0.6881072521209717, discriminator loss: 0.6932682991027832\n",
            "Epoch 2500: Step 152563: Generator loss: 0.6880502700805664, discriminator loss: 0.6934038996696472\n",
            "Epoch 2500: Step 152564: Generator loss: 0.6878914833068848, discriminator loss: 0.6932111978530884\n",
            "Epoch 2500: Step 152565: Generator loss: 0.6877909302711487, discriminator loss: 0.6933726668357849\n",
            "Epoch 2500: Step 152566: Generator loss: 0.6876368522644043, discriminator loss: 0.6932446360588074\n",
            "Epoch 2500: Step 152567: Generator loss: 0.6874887943267822, discriminator loss: 0.693173885345459\n",
            "Epoch 2500: Step 152568: Generator loss: 0.6874024271965027, discriminator loss: 0.6933453679084778\n",
            "Epoch 2500: Step 152569: Generator loss: 0.6872800588607788, discriminator loss: 0.6932892203330994\n",
            "Epoch 2500: Step 152570: Generator loss: 0.6870951652526855, discriminator loss: 0.6933534741401672\n",
            "Epoch 2500: Step 152571: Generator loss: 0.687049925327301, discriminator loss: 0.6931107044219971\n",
            "Epoch 2500: Step 152572: Generator loss: 0.6868915557861328, discriminator loss: 0.6932679414749146\n",
            "Epoch 2500: Step 152573: Generator loss: 0.6868484020233154, discriminator loss: 0.6933536529541016\n",
            "Epoch 2500: Step 152574: Generator loss: 0.6867001056671143, discriminator loss: 0.6934553980827332\n",
            "Epoch 2500: Step 152575: Generator loss: 0.6867273449897766, discriminator loss: 0.6933131217956543\n",
            "Epoch 2500: Step 152576: Generator loss: 0.6866430640220642, discriminator loss: 0.693209171295166\n",
            "Epoch 2500: Step 152577: Generator loss: 0.6866276264190674, discriminator loss: 0.6932830810546875\n",
            "Epoch 2500: Step 152578: Generator loss: 0.6865503191947937, discriminator loss: 0.693039059638977\n",
            "Epoch 2500: Step 152579: Generator loss: 0.6865559816360474, discriminator loss: 0.6931620240211487\n",
            "Epoch 2500: Step 152580: Generator loss: 0.6865185499191284, discriminator loss: 0.6932066082954407\n",
            "Epoch 2500: Step 152581: Generator loss: 0.6865308284759521, discriminator loss: 0.6934342980384827\n",
            "Epoch 2500: Step 152582: Generator loss: 0.6864937543869019, discriminator loss: 0.693200945854187\n",
            "Epoch 2500: Step 152583: Generator loss: 0.6863958239555359, discriminator loss: 0.693247377872467\n",
            "Epoch 2500: Step 152584: Generator loss: 0.6865581274032593, discriminator loss: 0.6931266784667969\n",
            "Epoch 2500: Step 152585: Generator loss: 0.6865689754486084, discriminator loss: 0.693061113357544\n",
            "Epoch 2500: Step 152586: Generator loss: 0.6866406202316284, discriminator loss: 0.6932636499404907\n",
            "Epoch 2500: Step 152587: Generator loss: 0.6864806413650513, discriminator loss: 0.6931737661361694\n",
            "Epoch 2500: Step 152588: Generator loss: 0.6865326166152954, discriminator loss: 0.6931456327438354\n",
            "Epoch 2500: Step 152589: Generator loss: 0.6865963935852051, discriminator loss: 0.6929796934127808\n",
            "Epoch 2500: Step 152590: Generator loss: 0.6867591142654419, discriminator loss: 0.6929159164428711\n",
            "Epoch 2500: Step 152591: Generator loss: 0.6868035793304443, discriminator loss: 0.6933952569961548\n",
            "Epoch 2500: Step 152592: Generator loss: 0.686860203742981, discriminator loss: 0.6930304765701294\n",
            "Epoch 2500: Step 152593: Generator loss: 0.687052309513092, discriminator loss: 0.6934681534767151\n",
            "Epoch 3000: Step 180039: Generator loss: 0.6874607801437378, discriminator loss: 0.6933221817016602\n",
            "Epoch 3000: Step 180040: Generator loss: 0.6875545978546143, discriminator loss: 0.6932665109634399\n",
            "Epoch 3000: Step 180041: Generator loss: 0.6876233816146851, discriminator loss: 0.6933325529098511\n",
            "Epoch 3000: Step 180042: Generator loss: 0.687653124332428, discriminator loss: 0.693540096282959\n",
            "Epoch 3000: Step 180043: Generator loss: 0.687720537185669, discriminator loss: 0.6932473182678223\n",
            "Epoch 3000: Step 180044: Generator loss: 0.6878498792648315, discriminator loss: 0.6935395002365112\n",
            "Epoch 3000: Step 180045: Generator loss: 0.6878767013549805, discriminator loss: 0.693397581577301\n",
            "Epoch 3000: Step 180046: Generator loss: 0.6880338191986084, discriminator loss: 0.6933175921440125\n",
            "Epoch 3000: Step 180047: Generator loss: 0.6880834698677063, discriminator loss: 0.6934180855751038\n",
            "Epoch 3000: Step 180048: Generator loss: 0.6882601976394653, discriminator loss: 0.6932941675186157\n",
            "Epoch 3000: Step 180049: Generator loss: 0.6884286403656006, discriminator loss: 0.6932418346405029\n",
            "Epoch 3000: Step 180050: Generator loss: 0.688448429107666, discriminator loss: 0.6932162046432495\n",
            "Epoch 3000: Step 180051: Generator loss: 0.6885175704956055, discriminator loss: 0.693289041519165\n",
            "Epoch 3000: Step 180052: Generator loss: 0.6885586977005005, discriminator loss: 0.6932141780853271\n",
            "Epoch 3000: Step 180053: Generator loss: 0.688663125038147, discriminator loss: 0.6932243704795837\n",
            "Epoch 3000: Step 180054: Generator loss: 0.6886146664619446, discriminator loss: 0.6930595636367798\n",
            "Epoch 3000: Step 180055: Generator loss: 0.6887161731719971, discriminator loss: 0.6931278705596924\n",
            "Epoch 3000: Step 180056: Generator loss: 0.6887021064758301, discriminator loss: 0.693192183971405\n",
            "Epoch 3000: Step 180057: Generator loss: 0.6887089610099792, discriminator loss: 0.6932375431060791\n",
            "Epoch 3000: Step 180058: Generator loss: 0.6886670589447021, discriminator loss: 0.6930410861968994\n",
            "Epoch 3000: Step 180059: Generator loss: 0.6887855529785156, discriminator loss: 0.6932581663131714\n",
            "Epoch 3000: Step 180060: Generator loss: 0.6888009309768677, discriminator loss: 0.6931538581848145\n",
            "Epoch 3000: Step 180061: Generator loss: 0.6888887286186218, discriminator loss: 0.6933318376541138\n",
            "Epoch 3000: Step 180062: Generator loss: 0.6889621615409851, discriminator loss: 0.6930515766143799\n",
            "Epoch 3000: Step 180063: Generator loss: 0.6889370679855347, discriminator loss: 0.6933468580245972\n",
            "Epoch 3000: Step 180064: Generator loss: 0.6891008615493774, discriminator loss: 0.6931341886520386\n",
            "Epoch 3000: Step 180065: Generator loss: 0.6890014410018921, discriminator loss: 0.6930046081542969\n",
            "Epoch 3000: Step 180066: Generator loss: 0.6890808343887329, discriminator loss: 0.6932632923126221\n",
            "Epoch 3000: Step 180067: Generator loss: 0.6890754699707031, discriminator loss: 0.6932331323623657\n",
            "Epoch 3000: Step 180068: Generator loss: 0.6891986131668091, discriminator loss: 0.6932967901229858\n",
            "Epoch 3000: Step 180069: Generator loss: 0.6892763376235962, discriminator loss: 0.6931424140930176\n",
            "Epoch 3000: Step 180070: Generator loss: 0.6893088221549988, discriminator loss: 0.6930332183837891\n",
            "Epoch 3000: Step 180071: Generator loss: 0.6894247531890869, discriminator loss: 0.6931744813919067\n",
            "Epoch 3000: Step 180072: Generator loss: 0.6895841360092163, discriminator loss: 0.6931439638137817\n",
            "Epoch 3000: Step 180073: Generator loss: 0.6895268559455872, discriminator loss: 0.6931735873222351\n",
            "Epoch 3000: Step 180074: Generator loss: 0.6896353960037231, discriminator loss: 0.6930575370788574\n",
            "Epoch 3000: Step 180075: Generator loss: 0.6899034976959229, discriminator loss: 0.6931648850440979\n",
            "Epoch 3000: Step 180076: Generator loss: 0.6899724006652832, discriminator loss: 0.6931016445159912\n",
            "Epoch 3000: Step 180077: Generator loss: 0.689988911151886, discriminator loss: 0.6932282447814941\n",
            "Epoch 3000: Step 180078: Generator loss: 0.690217137336731, discriminator loss: 0.6930486559867859\n",
            "Epoch 3000: Step 180079: Generator loss: 0.6903231143951416, discriminator loss: 0.693082332611084\n",
            "Epoch 3000: Step 180080: Generator loss: 0.6905224919319153, discriminator loss: 0.6930468082427979\n",
            "Epoch 3000: Step 180081: Generator loss: 0.6906008720397949, discriminator loss: 0.6932331323623657\n",
            "Epoch 3000: Step 180082: Generator loss: 0.6906179189682007, discriminator loss: 0.6929798126220703\n",
            "Epoch 3000: Step 180083: Generator loss: 0.690818190574646, discriminator loss: 0.6930654048919678\n",
            "Epoch 3000: Step 180084: Generator loss: 0.6909823417663574, discriminator loss: 0.6930171251296997\n",
            "Epoch 3000: Step 180085: Generator loss: 0.6910918951034546, discriminator loss: 0.6930055618286133\n",
            "Epoch 3000: Step 180086: Generator loss: 0.6911052465438843, discriminator loss: 0.6930974721908569\n",
            "Epoch 3000: Step 180087: Generator loss: 0.6912894248962402, discriminator loss: 0.6929887533187866\n",
            "Epoch 3000: Step 180088: Generator loss: 0.6913794279098511, discriminator loss: 0.6928605437278748\n",
            "Epoch 3000: Step 180089: Generator loss: 0.6915711164474487, discriminator loss: 0.693149209022522\n",
            "Epoch 3000: Step 180090: Generator loss: 0.6916167736053467, discriminator loss: 0.6929818391799927\n",
            "Epoch 3000: Step 180091: Generator loss: 0.6918268203735352, discriminator loss: 0.6929423809051514\n",
            "Epoch 3000: Step 180092: Generator loss: 0.6918788552284241, discriminator loss: 0.6927884817123413\n",
            "Epoch 3000: Step 180093: Generator loss: 0.6919389963150024, discriminator loss: 0.6929466724395752\n"
          ]
        }
      ]
    },
    {
      "cell_type": "code",
      "metadata": {
        "id": "5H8_hb6h8su-"
      },
      "source": [
        "with open(ocean + '_smote_gan_data' + '.pkl', 'wb') as f: \n",
        "    pickle.dump([smote_gan_data], f)"
      ],
      "execution_count": null,
      "outputs": []
    },
    {
      "cell_type": "code",
      "metadata": {
        "id": "nnJOs_tF8syA"
      },
      "source": [
        "print(len(smote_gan_data[10000]['x_shuffled']), len(smote_gan_data[10000]['y_shuffled']))\n",
        "x_shuffled = smote_gan_data[10000]['x_shuffled']\n",
        "y_shuffled = smote_gan_data[10000]['y_shuffled']\n",
        "print(len(test_Y), test_X.shape)\n",
        "\n",
        "Y_hot_encoded_train =  np.asarray(to_categorical(y_shuffled))\n",
        "#Y_hot_encoded_train = Y_hot_encoded_train.reshape(len(y_shuffled), n_steps_out, n_features_out)\n",
        "\n",
        "Y_hot_encoded_test =  np.asarray(to_categorical(test_Y))\n",
        "#Y_hot_encoded_test = Y_hot_encoded_test.reshape(len(test_Y), n_steps_out, n_features_out)\n",
        "\n",
        "print(Y_hot_encoded_train.shape, Y_hot_encoded_test.shape)"
      ],
      "execution_count": null,
      "outputs": []
    },
    {
      "cell_type": "code",
      "metadata": {
        "id": "A5U1uY4M8s1m"
      },
      "source": [
        "test_X"
      ],
      "execution_count": null,
      "outputs": []
    },
    {
      "cell_type": "code",
      "metadata": {
        "id": "GKHY4KRw8s4L"
      },
      "source": [
        "x_shuffled[0], y_shuffled[0]"
      ],
      "execution_count": null,
      "outputs": []
    },
    {
      "cell_type": "code",
      "metadata": {
        "id": "VaJstKZu8s73"
      },
      "source": [
        "            x_train, y_train = np.asarray(x_shuffled), np.asarray(Y_hot_encoded_train)\n",
        "            x_test, y_test = np.asarray(test_X), np.asarray(Y_hot_encoded_test)\n",
        "            x_train = x_train.reshape((x_train.shape[0], x_train.shape[1], n_features_in))\n",
        "            x_test = x_test.reshape((x_test.shape[0], x_test.shape[1], n_features_in))"
      ],
      "execution_count": null,
      "outputs": []
    },
    {
      "cell_type": "code",
      "metadata": {
        "id": "TTs4LASp8s-r"
      },
      "source": [
        "train_acc, test_acc, train_std_dev, test_std_dev, Best_Predict_Test, y_predicttrain, y_predicttest, report_train, report_test = MODEL_LSTM('vanilla', 'smote_gan', univariate,x_train,x_test,y_train,y_test,Num_Exp,n_steps_in,n_steps_out,Epochs, Hidden)"
      ],
      "execution_count": null,
      "outputs": []
    },
    {
      "cell_type": "code",
      "metadata": {
        "id": "Qr43x0pu8tBL"
      },
      "source": [
        "with open(\"predictions_\" + ocean + '_smote_gan' + '.pkl', 'wb') as f: \n",
        "    pickle.dump([y_predicttrain, y_train, Best_Predict_Test, y_test, report_train, report_test, test_acc, test_std_dev], f)"
      ],
      "execution_count": null,
      "outputs": []
    },
    {
      "cell_type": "markdown",
      "metadata": {
        "id": "qHGEGSjL-aBQ"
      },
      "source": [
        "**SMOTE GAN results**"
      ]
    },
    {
      "cell_type": "code",
      "metadata": {
        "id": "9FgJoFlS-Y_P"
      },
      "source": [
        "precision0=[]\n",
        "precision1=[]\n",
        "precisionacc=[]\n",
        "precisionmacavg=[]\n",
        "precisionweighavg=[]\n",
        "recall0=[]\n",
        "recall1=[]\n",
        "recallacc=[]\n",
        "recallmacavg=[]\n",
        "recallweighavg=[]\n",
        "f10=[]\n",
        "f11=[]\n",
        "f1acc=[]\n",
        "f1macavg=[]\n",
        "f1weighavg=[]\n",
        "for i in range(Num_Exp):\n",
        "  precision0.append(report_test[i]['0']['precision'])\n",
        "  precision1.append(report_test[i]['1']['precision'])\n",
        "  precisionacc.append(report_test[i]['accuracy'])\n",
        "  precisionmacavg.append(report_test[i]['macro avg']['precision'])\n",
        "  precisionweighavg.append(report_test[i]['weighted avg']['precision'])\n",
        "  recall0.append(report_test[i]['0']['recall'])\n",
        "  recall1.append(report_test[i]['1']['recall'])\n",
        "  recallacc.append(report_test[i]['accuracy'])\n",
        "  recallmacavg.append(report_test[i]['macro avg']['recall'])\n",
        "  recallweighavg.append(report_test[i]['weighted avg']['recall'])  \n",
        "  f10.append(report_test[i]['0']['f1-score'])\n",
        "  f11.append(report_test[i]['1']['f1-score'])\n",
        "  f1acc.append(report_test[i]['accuracy'])\n",
        "  f1macavg.append(report_test[i]['macro avg']['f1-score'])\n",
        "  f1weighavg.append(report_test[i]['weighted avg']['f1-score'])    \n",
        "print(str(round(np.mean(precision0),4)) + \"±\" + str(round(np.std(precision0),4)),\" & \" + str(round(np.mean(recall0),4)) + \"±\" + str(round(np.std(recall0),4)), \" & \" + str(round(np.mean(f10),4)) + \"±\" + str(round(np.std(f10),4)))\n",
        "print(str(round(np.mean(precision1),4)) + \"±\" + str(round(np.std(precision1),4)),\" & \" + str(round(np.mean(recall1),4)) + \"±\" + str(round(np.std(recall1),4)), \" & \" + str(round(np.mean(f11),4)) + \"±\" + str(round(np.std(f11),4)))\n",
        "print(str(round(np.mean(precisionacc),4)) + \"±\" + str(round(np.std(precisionacc),4)),\" & \" + str(round(np.mean(recallacc),4)) + \"±\" + str(round(np.std(recallacc),4)), \" & \" + str(round(np.mean(f1acc),4)) + \"±\" + str(round(np.std(f1acc),4)))\n",
        "print(str(round(np.mean(precisionmacavg),4)) + \"±\" + str(round(np.std(precisionmacavg),4)),\" & \" + str(round(np.mean(recallmacavg),4)) + \"±\" + str(round(np.std(recallmacavg),4)), \" & \" + str(round(np.mean(f1macavg),4)) + \"±\" + str(round(np.std(f1macavg),4)))\n",
        "print(str(round(np.mean(precisionweighavg),4)) + \"±\" + str(round(np.std(precisionweighavg),4)),\" & \" + str(round(np.mean(recallweighavg),4)) + \"±\" + str(round(np.std(recallweighavg),4)), \" & \" + str(round(np.mean(f1weighavg),4)) + \"±\" + str(round(np.std(f1weighavg),4)))"
      ],
      "execution_count": null,
      "outputs": []
    },
    {
      "cell_type": "code",
      "metadata": {
        "colab": {
          "base_uri": "https://localhost:8080/",
          "height": 700
        },
        "id": "dJj45eFu-ZC7",
        "outputId": "c80a5286-3f43-4b94-85e3-4332637a6691"
      },
      "source": [
        "y = [i.argmax() for i in y_test]\n",
        "pred = [i.argmax() for i in Best_Predict_Test]\n",
        "cf_matrix_test = confusion_matrix(y, pred)\n",
        "make_confusion_matrix_chart2(cf_matrix_test, ocean + 'vanilla_cm_smote_gan')"
      ],
      "execution_count": null,
      "outputs": [
        {
          "data": {
            "image/png": "[encoded data removed]",
            "text/plain": [
              "<Figure size 1440x864 with 2 Axes>"
            ]
          },
          "metadata": {
            "tags": []
          },
          "output_type": "display_data"
        }
      ]
    },
    {
      "cell_type": "code",
      "metadata": {
        "colab": {
          "base_uri": "https://localhost:8080/"
        },
        "id": "RY4vKsgj-ZF2",
        "outputId": "d07c70b4-1168-4889-a146-a60250f8415a"
      },
      "source": [
        "for i in range(report_df.shape[0]):\n",
        "  tmp=\"\"\n",
        "  for j in ['precision', 'recall', 'f1-score', 'support']:\n",
        "    tmp=tmp+ str(round(report_df[j][i],4)) + \" & \"\n",
        "  print(tmp)"
      ],
      "execution_count": null,
      "outputs": [
        {
          "name": "stdout",
          "output_type": "stream",
          "text": [
            "0.9928 & 0.9864 & 0.9896 & 3095.0 & \n",
            "0.3226 & 0.4762 & 0.3846 & 42.0 & \n",
            "0.9796 & 0.9796 & 0.9796 & 0.9796 & \n",
            "0.6577 & 0.7313 & 0.6871 & 3137.0 & \n",
            "0.9839 & 0.9796 & 0.9815 & 3137.0 & \n"
          ]
        }
      ]
    },
    {
      "cell_type": "markdown",
      "metadata": {
        "id": "9GkAz4jH-w-Z"
      },
      "source": [
        "**Recall Precision curves**"
      ]
    },
    {
      "cell_type": "code",
      "metadata": {
        "id": "khyv2yrV54KY"
      },
      "source": [
        "with open(ocean + '_original' + '.pkl', 'rb') as f: \n",
        "    predictions_train,actual_train,predictions_test,actual_test,metrics_train,metrics_test,test_acc,test_stddev=pickle.load(f)"
      ],
      "execution_count": null,
      "outputs": []
    },
    {
      "cell_type": "code",
      "metadata": {
        "id": "RqsMAgWc6brg"
      },
      "source": [
        "lr_probs = predictions_test['1']['vanilla']\n",
        "lr_probs = lr_probs[:, 1]\n",
        "print(lr_probs)\n",
        "testy= [i.argmax() for i in actual_test['1']['vanilla']]\n",
        "yhat= [i.argmax() for i in predictions_test['1']['vanilla']]\n",
        "lr_precision, lr_recall, _ = precision_recall_curve(testy, lr_probs)\n",
        "lr_f1, lr_auc = f1_score(testy, yhat), auc(lr_recall, lr_precision)\n",
        "# summarize scores\n",
        "print('Logistic: f1=%.3f auc=%.3f' % (lr_f1, lr_auc))"
      ],
      "execution_count": null,
      "outputs": []
    },
    {
      "cell_type": "code",
      "metadata": {
        "id": "jEpZdzgO9VLJ"
      },
      "source": [
        "with open(ocean + '_smote' + '.pkl', 'rb') as f: \n",
        "    y_predicttrain, y_train, Best_Predict_Test, y_test, report_train, report_test, test_acc, test_stddev = pickle.load(f)"
      ],
      "execution_count": null,
      "outputs": []
    },
    {
      "cell_type": "code",
      "metadata": {
        "colab": {
          "base_uri": "https://localhost:8080/"
        },
        "id": "am5a1PRB9ntK",
        "outputId": "2d4489d6-090b-4f3a-bef0-1065d0502670"
      },
      "source": [
        "lr_probs = Best_Predict_Test\n",
        "lr_probs = lr_probs[:, 1]\n",
        "print(lr_probs)\n",
        "testy= [i.argmax() for i in y_test]\n",
        "yhat= [i.argmax() for i in Best_Predict_Test]\n",
        "lr_precision_smote, lr_recall_smote, _ = precision_recall_curve(testy, lr_probs)\n",
        "lr_f1_smote, lr_auc_smote = f1_score(testy, yhat), auc(lr_recall_smote, lr_precision_smote)\n",
        "# summarize scores\n",
        "print('Logistic: f1=%.3f auc=%.3f' % (lr_f1_smote, lr_auc_smote))"
      ],
      "execution_count": null,
      "outputs": [
        {
          "name": "stdout",
          "output_type": "stream",
          "text": [
            "[1.1074743e-05 6.3150111e-08 1.6548815e-14 ... 0.0000000e+00 7.0161540e-38\n",
            " 0.0000000e+00]\n",
            "Logistic: f1=0.412 auc=0.441\n"
          ]
        }
      ]
    },
    {
      "cell_type": "code",
      "metadata": {
        "id": "R9JM_qhXi_LQ"
      },
      "source": [
        "with open(ocean + '_gan' + '.pkl', 'rb') as f: \n",
        "    y_predicttrain, y_train, Best_Predict_Test, y_test, report_train, report_test, test_acc, test_stddev = pickle.load(f)"
      ],
      "execution_count": null,
      "outputs": []
    },
    {
      "cell_type": "code",
      "metadata": {
        "colab": {
          "base_uri": "https://localhost:8080/"
        },
        "id": "vbYxNZpgi_Pa",
        "outputId": "4fdd7381-713b-4d03-dd43-404bc8355480"
      },
      "source": [
        "lr_probs = Best_Predict_Test\n",
        "lr_probs = lr_probs[:, 1]\n",
        "print(lr_probs)\n",
        "testy= [i.argmax() for i in y_test]\n",
        "yhat= [i.argmax() for i in Best_Predict_Test]\n",
        "lr_precision_gan, lr_recall_gan, _ = precision_recall_curve(testy, lr_probs)\n",
        "lr_f1_gan, lr_auc_gan = f1_score(testy, yhat), auc(lr_recall_gan, lr_precision_gan)\n",
        "# summarize scores\n",
        "print('Logistic: f1=%.3f auc=%.3f' % (lr_f1_gan, lr_auc_gan))"
      ],
      "execution_count": null,
      "outputs": [
        {
          "name": "stdout",
          "output_type": "stream",
          "text": [
            "[9.4767656e-06 3.2954503e-08 8.3283688e-14 ... 1.4457894e-24 8.8807153e-18\n",
            " 4.9987783e-08]\n",
            "Logistic: f1=0.414 auc=0.366\n"
          ]
        }
      ]
    },
    {
      "cell_type": "code",
      "metadata": {
        "id": "B9hIFntB-j1f"
      },
      "source": [
        "with open(ocean + '_smote_gan' + '.pkl', 'rb') as f: \n",
        "    y_predicttrain, y_train, Best_Predict_Test, y_test, report_train, report_test, test_acc, test_stddev = pickle.load(f)"
      ],
      "execution_count": null,
      "outputs": []
    },
    {
      "cell_type": "code",
      "metadata": {
        "colab": {
          "base_uri": "https://localhost:8080/"
        },
        "id": "RJvPpdCz-j4y",
        "outputId": "d4a9190a-9bea-4429-9b19-cad27e207648"
      },
      "source": [
        "lr_probs = Best_Predict_Test\n",
        "lr_probs = lr_probs[:, 1]\n",
        "print(lr_probs)\n",
        "testy= [i.argmax() for i in y_test]\n",
        "yhat= [i.argmax() for i in Best_Predict_Test]\n",
        "lr_precision_smote_gan, lr_recall_smote_gan, _ = precision_recall_curve(testy, lr_probs)\n",
        "lr_f1_smote_gan, lr_auc_smote_gan = f1_score(testy, yhat), auc(lr_recall_smote_gan, lr_precision_smote_gan)\n",
        "# summarize scores\n",
        "print('Logistic: f1=%.3f auc=%.3f' % (lr_f1_smote_gan, lr_auc_smote_gan))"
      ],
      "execution_count": null,
      "outputs": [
        {
          "name": "stdout",
          "output_type": "stream",
          "text": [
            "[3.9632655e-06 2.7184500e-05 2.6135458e-09 ... 1.6819697e-16 3.0762350e-12\n",
            " 7.5718948e-10]\n",
            "Logistic: f1=0.509 auc=0.518\n"
          ]
        }
      ]
    },
    {
      "cell_type": "code",
      "metadata": {
        "colab": {
          "base_uri": "https://localhost:8080/",
          "height": 694
        },
        "id": "8vjmG5kH7oto",
        "outputId": "b03f64db-b411-453b-febc-3f98b3cf9230"
      },
      "source": [
        "# plot the precision-recall curves\n",
        "fig, ax = pyplot.subplots(figsize = (20,12))\n",
        "no_skill = 135 / len(testy)    #no of one/total\n",
        "pyplot.plot(lr_recall, lr_precision, marker='.',lw=4, label='Original data: ' + str(round(lr_f1,3)))\n",
        "pyplot.plot(lr_recall_smote, lr_precision_smote,lw=4, marker='.', label='SMOTE: ' + str(round(lr_f1_smote,3)))\n",
        "pyplot.plot(lr_recall_gan, lr_precision_gan,lw=4, marker='.', label='GAN: ' + str(round(lr_f1_gan,3)))\n",
        "pyplot.plot(lr_recall_smote_gan, lr_precision_smote_gan,lw=4, marker='.', label='SMOTE-GAN: ' + str(round(lr_f1_smote_gan,3)))\n",
        "# axis labels\n",
        "pyplot.xlabel('Recall', size=40)\n",
        "pyplot.ylabel('Precision', size=40)\n",
        "ax.tick_params(axis='both', which='major', labelsize=30)\n",
        "# show the legend\n",
        "pyplot.legend(loc=\"upper right\", fontsize=30)\n",
        "#save the plot\n",
        "plt.savefig(ocean + '_precision_recall_curve.png', dpi=300, transparent=False, bbox_inches='tight')\n",
        "plt.show()\n",
        "# show the plot\n",
        "pyplot.show()"
      ],
      "execution_count": null,
      "outputs": [
        {
          "data": {
            "image/png": "[encoded data removed]",
            "text/plain": [
              "<Figure size 1440x864 with 1 Axes>"
            ]
          },
          "metadata": {
            "tags": []
          },
          "output_type": "display_data"
        }
      ]
    },
    {
      "cell_type": "code",
      "metadata": {
        "id": "rG0bNjYf78VY"
      },
      "source": [
        ""
      ],
      "execution_count": null,
      "outputs": []
    }
  ]
}