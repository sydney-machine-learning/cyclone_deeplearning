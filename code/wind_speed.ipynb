{
  "nbformat": 4,
  "nbformat_minor": 0,
  "metadata": {
    "colab": {
      "name": "wind_speed.ipynb",
      "provenance": []
    },
    "kernelspec": {
      "name": "python3",
      "display_name": "Python 3"
    },
    "language_info": {
      "name": "python"
    }
  },
  "cells": [
    {
      "cell_type": "code",
      "metadata": {
        "id": "wDWf96rVEzD-"
      },
      "source": [
        "import copy\n",
        "import numpy as np\n",
        "import sklearn\n",
        "import pandas as pd\n",
        "import matplotlib.pyplot as plt\n",
        "from keras.models import Sequential\n",
        "from keras.layers import Dense\n",
        "from keras.layers import LSTM\n",
        "from keras.layers import Bidirectional\n",
        "from keras.layers import RepeatVector\n",
        "from keras.layers import TimeDistributed\n",
        "from numpy import hstack\n",
        "from sklearn.preprocessing import StandardScaler\n",
        "import datetime\n",
        "import time\n",
        "import joblib\n",
        "from datetime import timedelta, date\n",
        "import tensorflow as tf\n",
        "from sklearn.preprocessing import MinMaxScaler\n",
        "from numpy import array\n",
        "import os\n",
        "import seaborn as sns; sns.set_theme() \n",
        "import errno"
      ],
      "execution_count": 1,
      "outputs": []
    },
    {
      "cell_type": "code",
      "metadata": {
        "colab": {
          "base_uri": "https://localhost:8080/",
          "height": 402
        },
        "id": "iS1PC9h0E2Jq",
        "outputId": "8314d83d-0604-4c20-e3e7-39d4506148dc"
      },
      "source": [
        "url = \"https://raw.githubusercontent.com/rohitash-chandra/CMTL_dynamictimeseries/master/IndianOcean/rawtrain1985-2001.txt\"\n",
        "df = pd.read_csv(url, sep = \"\\t\", header = None)\n",
        "df.columns = ['id','date','longitude','latitude','speed']\n",
        "df = df.drop(['date'], axis = 1)\n",
        "df.to_csv('adjusted.csv')\n",
        "df"
      ],
      "execution_count": 2,
      "outputs": [
        {
          "output_type": "execute_result",
          "data": {
            "text/html": [
              "<div>\n",
              "<style scoped>\n",
              "    .dataframe tbody tr th:only-of-type {\n",
              "        vertical-align: middle;\n",
              "    }\n",
              "\n",
              "    .dataframe tbody tr th {\n",
              "        vertical-align: top;\n",
              "    }\n",
              "\n",
              "    .dataframe thead th {\n",
              "        text-align: right;\n",
              "    }\n",
              "</style>\n",
              "<table border=\"1\" class=\"dataframe\">\n",
              "  <thead>\n",
              "    <tr style=\"text-align: right;\">\n",
              "      <th></th>\n",
              "      <th>id</th>\n",
              "      <th>longitude</th>\n",
              "      <th>latitude</th>\n",
              "      <th>speed</th>\n",
              "    </tr>\n",
              "  </thead>\n",
              "  <tbody>\n",
              "    <tr>\n",
              "      <th>0</th>\n",
              "      <td>1</td>\n",
              "      <td>7.7</td>\n",
              "      <td>80.9</td>\n",
              "      <td>20</td>\n",
              "    </tr>\n",
              "    <tr>\n",
              "      <th>1</th>\n",
              "      <td>1</td>\n",
              "      <td>8.1</td>\n",
              "      <td>79.9</td>\n",
              "      <td>20</td>\n",
              "    </tr>\n",
              "    <tr>\n",
              "      <th>2</th>\n",
              "      <td>1</td>\n",
              "      <td>8.5</td>\n",
              "      <td>78.8</td>\n",
              "      <td>25</td>\n",
              "    </tr>\n",
              "    <tr>\n",
              "      <th>3</th>\n",
              "      <td>1</td>\n",
              "      <td>8.8</td>\n",
              "      <td>77.7</td>\n",
              "      <td>25</td>\n",
              "    </tr>\n",
              "    <tr>\n",
              "      <th>4</th>\n",
              "      <td>1</td>\n",
              "      <td>9.0</td>\n",
              "      <td>76.6</td>\n",
              "      <td>30</td>\n",
              "    </tr>\n",
              "    <tr>\n",
              "      <th>...</th>\n",
              "      <td>...</td>\n",
              "      <td>...</td>\n",
              "      <td>...</td>\n",
              "      <td>...</td>\n",
              "    </tr>\n",
              "    <tr>\n",
              "      <th>9360</th>\n",
              "      <td>21</td>\n",
              "      <td>25.9</td>\n",
              "      <td>38.9</td>\n",
              "      <td>35</td>\n",
              "    </tr>\n",
              "    <tr>\n",
              "      <th>9361</th>\n",
              "      <td>21</td>\n",
              "      <td>25.9</td>\n",
              "      <td>40.2</td>\n",
              "      <td>35</td>\n",
              "    </tr>\n",
              "    <tr>\n",
              "      <th>9362</th>\n",
              "      <td>21</td>\n",
              "      <td>25.5</td>\n",
              "      <td>41.0</td>\n",
              "      <td>35</td>\n",
              "    </tr>\n",
              "    <tr>\n",
              "      <th>9363</th>\n",
              "      <td>21</td>\n",
              "      <td>25.1</td>\n",
              "      <td>41.7</td>\n",
              "      <td>30</td>\n",
              "    </tr>\n",
              "    <tr>\n",
              "      <th>9364</th>\n",
              "      <td>21</td>\n",
              "      <td>24.6</td>\n",
              "      <td>41.9</td>\n",
              "      <td>25</td>\n",
              "    </tr>\n",
              "  </tbody>\n",
              "</table>\n",
              "<p>9365 rows × 4 columns</p>\n",
              "</div>"
            ],
            "text/plain": [
              "      id  longitude  latitude  speed\n",
              "0      1        7.7      80.9     20\n",
              "1      1        8.1      79.9     20\n",
              "2      1        8.5      78.8     25\n",
              "3      1        8.8      77.7     25\n",
              "4      1        9.0      76.6     30\n",
              "...   ..        ...       ...    ...\n",
              "9360  21       25.9      38.9     35\n",
              "9361  21       25.9      40.2     35\n",
              "9362  21       25.5      41.0     35\n",
              "9363  21       25.1      41.7     30\n",
              "9364  21       24.6      41.9     25\n",
              "\n",
              "[9365 rows x 4 columns]"
            ]
          },
          "metadata": {
            "tags": []
          },
          "execution_count": 2
        }
      ]
    },
    {
      "cell_type": "code",
      "metadata": {
        "colab": {
          "base_uri": "https://localhost:8080/"
        },
        "id": "GIvVmcIhKw7r",
        "outputId": "3985a9fa-e945-4736-c033-54dc4a748ab8"
      },
      "source": [
        "#making starting point of every cyclone same, spatial bias removed\n",
        "id = 1\n",
        "x0 = df['longitude'][0]\n",
        "y0 = df['latitude'][0]\n",
        "df['longitude'][0] = 0\n",
        "df['latitude'][0] = 0\n",
        "for i in range(1, df.shape[0]):\n",
        "  if df['id'][i] == id :\n",
        "    df['longitude'][i] = df['longitude'][i] - x0\n",
        "    df['latitude'][i] = df['latitude'][i] - y0\n",
        "  else:\n",
        "    x0 = df['longitude'][i]\n",
        "    y0 = df['latitude'][i]\n",
        "    df['longitude'][i] = 0\n",
        "    df['latitude'][i] = 0\n",
        "    id = df['id'][i]"
      ],
      "execution_count": 3,
      "outputs": [
        {
          "output_type": "stream",
          "text": [
            "/usr/local/lib/python3.7/dist-packages/ipykernel_launcher.py:5: SettingWithCopyWarning: \n",
            "A value is trying to be set on a copy of a slice from a DataFrame\n",
            "\n",
            "See the caveats in the documentation: https://pandas.pydata.org/pandas-docs/stable/user_guide/indexing.html#returning-a-view-versus-a-copy\n",
            "  \"\"\"\n",
            "/usr/local/lib/python3.7/dist-packages/ipykernel_launcher.py:6: SettingWithCopyWarning: \n",
            "A value is trying to be set on a copy of a slice from a DataFrame\n",
            "\n",
            "See the caveats in the documentation: https://pandas.pydata.org/pandas-docs/stable/user_guide/indexing.html#returning-a-view-versus-a-copy\n",
            "  \n",
            "/usr/local/lib/python3.7/dist-packages/ipykernel_launcher.py:9: SettingWithCopyWarning: \n",
            "A value is trying to be set on a copy of a slice from a DataFrame\n",
            "\n",
            "See the caveats in the documentation: https://pandas.pydata.org/pandas-docs/stable/user_guide/indexing.html#returning-a-view-versus-a-copy\n",
            "  if __name__ == '__main__':\n",
            "/usr/local/lib/python3.7/dist-packages/ipykernel_launcher.py:10: SettingWithCopyWarning: \n",
            "A value is trying to be set on a copy of a slice from a DataFrame\n",
            "\n",
            "See the caveats in the documentation: https://pandas.pydata.org/pandas-docs/stable/user_guide/indexing.html#returning-a-view-versus-a-copy\n",
            "  # Remove the CWD from sys.path while we load stuff.\n",
            "/usr/local/lib/python3.7/dist-packages/ipykernel_launcher.py:14: SettingWithCopyWarning: \n",
            "A value is trying to be set on a copy of a slice from a DataFrame\n",
            "\n",
            "See the caveats in the documentation: https://pandas.pydata.org/pandas-docs/stable/user_guide/indexing.html#returning-a-view-versus-a-copy\n",
            "  \n",
            "/usr/local/lib/python3.7/dist-packages/ipykernel_launcher.py:15: SettingWithCopyWarning: \n",
            "A value is trying to be set on a copy of a slice from a DataFrame\n",
            "\n",
            "See the caveats in the documentation: https://pandas.pydata.org/pandas-docs/stable/user_guide/indexing.html#returning-a-view-versus-a-copy\n",
            "  from ipykernel import kernelapp as app\n"
          ],
          "name": "stderr"
        }
      ]
    },
    {
      "cell_type": "code",
      "metadata": {
        "colab": {
          "base_uri": "https://localhost:8080/"
        },
        "id": "6EG5T5HuFS8r",
        "outputId": "0f48a90b-89d1-4b9c-dc9a-3c6d6714b685"
      },
      "source": [
        "longi = array(df['longitude'])\n",
        "lat = array(df['latitude'])\n",
        "speed = array(df['speed'])\n",
        "#univariate, so only working with speed\n",
        "speed = speed.reshape((len(speed), 1))\n",
        "speed.shape, speed"
      ],
      "execution_count": 4,
      "outputs": [
        {
          "output_type": "execute_result",
          "data": {
            "text/plain": [
              "((9365, 1), array([[20],\n",
              "        [20],\n",
              "        [25],\n",
              "        ...,\n",
              "        [35],\n",
              "        [30],\n",
              "        [25]]))"
            ]
          },
          "metadata": {
            "tags": []
          },
          "execution_count": 4
        }
      ]
    },
    {
      "cell_type": "code",
      "metadata": {
        "colab": {
          "base_uri": "https://localhost:8080/"
        },
        "id": "CoYxajd1Fyhb",
        "outputId": "f685c96d-f192-43d5-b8ab-91e6bd60fa96"
      },
      "source": [
        "sc = StandardScaler()\n",
        "speed_scaled = sc.fit_transform(speed)\n",
        "speed_scaled"
      ],
      "execution_count": 5,
      "outputs": [
        {
          "output_type": "execute_result",
          "data": {
            "text/plain": [
              "array([[-0.98138094],\n",
              "       [-0.98138094],\n",
              "       [-0.78866885],\n",
              "       ...,\n",
              "       [-0.40324466],\n",
              "       [-0.59595675],\n",
              "       [-0.78866885]])"
            ]
          },
          "metadata": {
            "tags": []
          },
          "execution_count": 5
        }
      ]
    },
    {
      "cell_type": "code",
      "metadata": {
        "id": "KsQpJPMkE8-Y"
      },
      "source": [
        "#for univariate\n",
        "def split_sequence(sequence, n_steps_in, n_steps_out):\n",
        "\tX, y = list(), list()\n",
        "\tfor i in range(len(sequence)):\n",
        "\t\t# find the end of this pattern\n",
        "\t\tend_ix = i + n_steps_in\n",
        "\t\tout_end_ix = end_ix + n_steps_out\n",
        "\t\t# check if we are beyond the sequence\n",
        "\t\tif out_end_ix > len(sequence):\n",
        "\t\t\tbreak\n",
        "\t\t# gather input and output parts of the pattern\n",
        "\t\tseq_x, seq_y = sequence[i:end_ix], sequence[end_ix:out_end_ix]\n",
        "\t\tX.append(seq_x)\n",
        "\t\ty.append(seq_y)\n",
        "\treturn np.array(X), np.array(y)\n",
        " \n",
        "def rmse(pred, actual):\n",
        "\treturn np.sqrt(((pred - actual) ** 2).mean())"
      ],
      "execution_count": 6,
      "outputs": []
    },
    {
      "cell_type": "code",
      "metadata": {
        "id": "e1X5_VBcHJ7d"
      },
      "source": [
        "univariate = True # if false, its multivariate case\n",
        "n_steps_in = 3\n",
        "n_steps_out = 1\n",
        "n_features = 1 # for univariate\n",
        "Hidden = 10\n",
        "Epochs = 50\n",
        "Num_Exp = 2"
      ],
      "execution_count": 11,
      "outputs": []
    },
    {
      "cell_type": "code",
      "metadata": {
        "colab": {
          "base_uri": "https://localhost:8080/"
        },
        "id": "M89ym4eQG-98",
        "outputId": "f31544ea-48f4-48e8-adc1-57561bf32fde"
      },
      "source": [
        "if univariate is True:  \n",
        "  train = speed_scaled[0:8628]\n",
        "  test = speed_scaled[8629:9364]\n",
        "  x_train, y_train = split_sequence(train, n_steps_in, n_steps_out)\n",
        "  x_test, y_test = split_sequence(test, n_steps_in, n_steps_out)\n",
        "  x_train = x_train.reshape((x_train.shape[0], x_train.shape[1], n_features))\n",
        "  print(x_train.shape)\n",
        "  x_test = x_test.reshape((x_test.shape[0], x_test.shape[1], n_features))\n",
        "  print(x_test.shape)\n",
        "  y_train = y_train.reshape((y_train.shape[0],1))\n",
        "  print(y_train.shape)\n",
        "  y_test = y_test.reshape((y_test.shape[0],1))\n",
        "  print(y_test.shape)\n",
        "\n",
        "#yet to be done\n",
        "#else:"
      ],
      "execution_count": 12,
      "outputs": [
        {
          "output_type": "stream",
          "text": [
            "(8625, 3, 1)\n",
            "(732, 3, 1)\n",
            "(8625, 1)\n",
            "(732, 1)\n"
          ],
          "name": "stdout"
        }
      ]
    },
    {
      "cell_type": "code",
      "metadata": {
        "id": "fKgApxokHGK_"
      },
      "source": [
        "model = Sequential()\n",
        "\n",
        "def MODEL_LSTM(univariate, x_train, x_test, y_train, y_test, Num_Exp, n_steps_in, n_steps_out, Epochs, Hidden):\n",
        "\n",
        "\ttrain_acc = np.zeros(Num_Exp)\n",
        "\ttest_acc = np.zeros(Num_Exp)\n",
        " \n",
        "\tmodel.add(LSTM(Hidden, activation='relu', input_shape=(n_steps_in, n_features), dropout=0.2))\n",
        "\t# model.add(Dense(Hidden)) (No particular need of this)\n",
        "\tmodel.add(Dense(n_steps_out))\n",
        "\tmodel.compile(optimizer='adam', loss='mse')\n",
        "\tmodel.summary()\n",
        "\n",
        "\ty_predicttest_allruns = np.zeros([Num_Exp, x_test.shape[0], x_test.shape[1]])\n",
        "\n",
        "\tprint(y_predicttest_allruns.shape, ' shape ')\n",
        "\n",
        "\n",
        "\tBest_RMSE = 1000  # Assigning a large number\n",
        "\n",
        "\tstart_time = time.time()\n",
        "\tfor run in range(Num_Exp):\n",
        "\t\tprint(\"Experiment\", run + 1, \"in progress\")\n",
        "\t\t# fit model\n",
        "\t\tmodel.fit(x_train, y_train, epochs=Epochs, batch_size=10, verbose=0, shuffle=False)\n",
        "\t\ty_predicttrain = model.predict(x_train)\n",
        "\t\ty_predicttest = model.predict(x_test)\n",
        "\t\ty_predicttest_allruns[run,:,:] = y_predicttest\n",
        "\t\ttrain_acc[run] = rmse(y_predicttrain, y_train)\n",
        "\t\tprint(train_acc[run], 'train accuracy')\n",
        "\t\ttest_acc[run] = rmse(y_predicttest, y_test)\n",
        "\t\tif test_acc[run] < Best_RMSE:\n",
        "\t\t\tBest_RMSE = test_acc[run]\n",
        "\t\t\tBest_Predict_Test = y_predicttest\n",
        "\n",
        "\tprint(\"Total time for\", Num_Exp, \"experiments\", time.time() - start_time)\n",
        "\treturn train_acc, test_acc, Best_Predict_Test, y_predicttrain, y_predicttest, y_predicttest_allruns"
      ],
      "execution_count": 20,
      "outputs": []
    },
    {
      "cell_type": "code",
      "metadata": {
        "colab": {
          "base_uri": "https://localhost:8080/"
        },
        "id": "6Qcg9xUqHRNd",
        "outputId": "e17e4257-50c0-40a3-dc8d-32f921a4ba0d"
      },
      "source": [
        "train_acc, test_acc,Best_Predict_Test, y_predicttrain, y_predicttest, y_predicttest_allruns = MODEL_LSTM(univariate,x_train,x_test,y_train,y_test,Num_Exp,n_steps_in,n_steps_out,Epochs, Hidden)\n"
      ],
      "execution_count": 21,
      "outputs": [
        {
          "output_type": "stream",
          "text": [
            "Model: \"sequential_2\"\n",
            "_________________________________________________________________\n",
            "Layer (type)                 Output Shape              Param #   \n",
            "=================================================================\n",
            "lstm_4 (LSTM)                (None, 10)                480       \n",
            "_________________________________________________________________\n",
            "dense_2 (Dense)              (None, 1)                 11        \n",
            "=================================================================\n",
            "Total params: 491\n",
            "Trainable params: 491\n",
            "Non-trainable params: 0\n",
            "_________________________________________________________________\n",
            "(2, 732, 3)  shape \n",
            "Experiment 1 in progress\n",
            "0.28453214538293453 train accuracy\n",
            "Experiment 2 in progress\n",
            "0.2648173279733441 train accuracy\n",
            "Total time for 2 experiments 146.60415649414062\n"
          ],
          "name": "stdout"
        }
      ]
    },
    {
      "cell_type": "code",
      "metadata": {
        "colab": {
          "base_uri": "https://localhost:8080/"
        },
        "id": "NPsc241qHTD4",
        "outputId": "d3134e41-261d-4e51-febd-7f21caa8f233"
      },
      "source": [
        "print(train_acc, test_acc) \n",
        "mean_train = np.mean(train_acc, axis=0)\n",
        "mean_test = np.mean(test_acc, axis=0)\n",
        "print(mean_train, 'mean rmse train') \n",
        "print(mean_test, 'mean rmse test')"
      ],
      "execution_count": 22,
      "outputs": [
        {
          "output_type": "stream",
          "text": [
            "[0.28453215 0.26481733] [0.33430644 0.30586791]\n",
            "0.27467473667813935 mean rmse train\n",
            "0.32008717717914387 mean rmse test\n"
          ],
          "name": "stdout"
        }
      ]
    },
    {
      "cell_type": "code",
      "metadata": {
        "colab": {
          "base_uri": "https://localhost:8080/",
          "height": 402
        },
        "id": "179EqQmES2qH",
        "outputId": "470c44e6-170c-423e-f863-b3f8ee0541a4"
      },
      "source": [
        "# test on unseen data\n",
        "url_test = \"https://raw.githubusercontent.com/rohitash-chandra/CMTL_dynamictimeseries/master/IndianOcean/rawtest2006-2013.txt\"\n",
        "df_test = pd.read_csv(url, sep = \"\\t\", header = None)\n",
        "df_test.columns = ['id','date','longitude','latitude','speed']\n",
        "df_test = df_test.drop(['date'], axis = 1)\n",
        "df_test.to_csv('adjusted_test.csv')\n",
        "df_test"
      ],
      "execution_count": 34,
      "outputs": [
        {
          "output_type": "execute_result",
          "data": {
            "text/html": [
              "<div>\n",
              "<style scoped>\n",
              "    .dataframe tbody tr th:only-of-type {\n",
              "        vertical-align: middle;\n",
              "    }\n",
              "\n",
              "    .dataframe tbody tr th {\n",
              "        vertical-align: top;\n",
              "    }\n",
              "\n",
              "    .dataframe thead th {\n",
              "        text-align: right;\n",
              "    }\n",
              "</style>\n",
              "<table border=\"1\" class=\"dataframe\">\n",
              "  <thead>\n",
              "    <tr style=\"text-align: right;\">\n",
              "      <th></th>\n",
              "      <th>id</th>\n",
              "      <th>longitude</th>\n",
              "      <th>latitude</th>\n",
              "      <th>speed</th>\n",
              "    </tr>\n",
              "  </thead>\n",
              "  <tbody>\n",
              "    <tr>\n",
              "      <th>0</th>\n",
              "      <td>1</td>\n",
              "      <td>7.7</td>\n",
              "      <td>80.9</td>\n",
              "      <td>20</td>\n",
              "    </tr>\n",
              "    <tr>\n",
              "      <th>1</th>\n",
              "      <td>1</td>\n",
              "      <td>8.1</td>\n",
              "      <td>79.9</td>\n",
              "      <td>20</td>\n",
              "    </tr>\n",
              "    <tr>\n",
              "      <th>2</th>\n",
              "      <td>1</td>\n",
              "      <td>8.5</td>\n",
              "      <td>78.8</td>\n",
              "      <td>25</td>\n",
              "    </tr>\n",
              "    <tr>\n",
              "      <th>3</th>\n",
              "      <td>1</td>\n",
              "      <td>8.8</td>\n",
              "      <td>77.7</td>\n",
              "      <td>25</td>\n",
              "    </tr>\n",
              "    <tr>\n",
              "      <th>4</th>\n",
              "      <td>1</td>\n",
              "      <td>9.0</td>\n",
              "      <td>76.6</td>\n",
              "      <td>30</td>\n",
              "    </tr>\n",
              "    <tr>\n",
              "      <th>...</th>\n",
              "      <td>...</td>\n",
              "      <td>...</td>\n",
              "      <td>...</td>\n",
              "      <td>...</td>\n",
              "    </tr>\n",
              "    <tr>\n",
              "      <th>9360</th>\n",
              "      <td>21</td>\n",
              "      <td>25.9</td>\n",
              "      <td>38.9</td>\n",
              "      <td>35</td>\n",
              "    </tr>\n",
              "    <tr>\n",
              "      <th>9361</th>\n",
              "      <td>21</td>\n",
              "      <td>25.9</td>\n",
              "      <td>40.2</td>\n",
              "      <td>35</td>\n",
              "    </tr>\n",
              "    <tr>\n",
              "      <th>9362</th>\n",
              "      <td>21</td>\n",
              "      <td>25.5</td>\n",
              "      <td>41.0</td>\n",
              "      <td>35</td>\n",
              "    </tr>\n",
              "    <tr>\n",
              "      <th>9363</th>\n",
              "      <td>21</td>\n",
              "      <td>25.1</td>\n",
              "      <td>41.7</td>\n",
              "      <td>30</td>\n",
              "    </tr>\n",
              "    <tr>\n",
              "      <th>9364</th>\n",
              "      <td>21</td>\n",
              "      <td>24.6</td>\n",
              "      <td>41.9</td>\n",
              "      <td>25</td>\n",
              "    </tr>\n",
              "  </tbody>\n",
              "</table>\n",
              "<p>9365 rows × 4 columns</p>\n",
              "</div>"
            ],
            "text/plain": [
              "      id  longitude  latitude  speed\n",
              "0      1        7.7      80.9     20\n",
              "1      1        8.1      79.9     20\n",
              "2      1        8.5      78.8     25\n",
              "3      1        8.8      77.7     25\n",
              "4      1        9.0      76.6     30\n",
              "...   ..        ...       ...    ...\n",
              "9360  21       25.9      38.9     35\n",
              "9361  21       25.9      40.2     35\n",
              "9362  21       25.5      41.0     35\n",
              "9363  21       25.1      41.7     30\n",
              "9364  21       24.6      41.9     25\n",
              "\n",
              "[9365 rows x 4 columns]"
            ]
          },
          "metadata": {
            "tags": []
          },
          "execution_count": 34
        }
      ]
    },
    {
      "cell_type": "code",
      "metadata": {
        "colab": {
          "base_uri": "https://localhost:8080/"
        },
        "id": "Ox8L4inqS-Tv",
        "outputId": "e7f528f3-dd08-430f-9564-b71890b8f637"
      },
      "source": [
        "actual = array(df_test['speed'])\n",
        "actual = actual.reshape((len(actual), 1))\n",
        "actual_scaled = sc.fit_transform(actual)\n",
        "X_TEST, Y_TEST = split_sequence(actual_scaled, n_steps_in, n_steps_out)\n",
        "Y_TEST = Y_TEST.reshape(Y_TEST.shape[0],1)\n",
        "predictions = model.predict(X_TEST)\n",
        "rmse_score = rmse(predictions, Y_TEST)\n",
        "print('rmse score on raw test data', rmse_score)"
      ],
      "execution_count": 35,
      "outputs": [
        {
          "output_type": "stream",
          "text": [
            "rmse score on raw test data 0.26825090771453025\n"
          ],
          "name": "stdout"
        }
      ]
    },
    {
      "cell_type": "code",
      "metadata": {
        "id": "lyfmTHOdVjqq"
      },
      "source": [
        ""
      ],
      "execution_count": null,
      "outputs": []
    }
  ]
}