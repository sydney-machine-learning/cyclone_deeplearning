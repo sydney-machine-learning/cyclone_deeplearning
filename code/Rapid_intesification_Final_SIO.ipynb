{
 "cells": [
  {
   "cell_type": "code",
   "execution_count": 1,
   "metadata": {
    "colab": {
     "base_uri": "https://localhost:8080/"
    },
    "id": "AOAN2U2x9JrA",
    "outputId": "39816455-f436-4128-ec2c-3e258c351670"
   },
   "outputs": [],
   "source": [
    "import copy\n",
    "import numpy as np\n",
    "import sklearn\n",
    "import pandas as pd\n",
    "import matplotlib.pyplot as plt\n",
    "from keras.models import Sequential\n",
    "from keras.layers import Dense\n",
    "from keras.layers import Activation\n",
    "from keras.layers import LSTM\n",
    "from keras.layers import Bidirectional\n",
    "from keras.layers import RepeatVector\n",
    "from keras.layers import TimeDistributed\n",
    "from numpy import hstack\n",
    "from sklearn.preprocessing import StandardScaler\n",
    "import datetime\n",
    "import time\n",
    "import joblib\n",
    "from datetime import timedelta, date\n",
    "import tensorflow as tf\n",
    "from sklearn.preprocessing import MinMaxScaler\n",
    "from numpy import array\n",
    "from tensorflow.keras.utils import to_categorical\n",
    "from sklearn.metrics import precision_score, recall_score\n",
    "from sklearn.metrics import f1_score\n",
    "import matplotlib.pyplot as plt\n",
    "import os\n",
    "import seaborn as sns; sns.set_theme() \n",
    "import errno\n",
    "from keras.layers.convolutional import Conv1D\n",
    "from keras.layers.convolutional import MaxPooling1D\n",
    "from keras.layers import Flatten\n",
    "from keras.layers import ConvLSTM2D\n",
    "from keras.models import load_model\n",
    "import pickle\n",
    "from sklearn.metrics import accuracy_score, roc_curve, auc, classification_report, confusion_matrix\n",
    "from scipy import interp\n",
    "from imblearn.over_sampling import SMOTE\n",
    "from collections import Counter\n",
    "import imblearn\n",
    "import collections\n",
    "from sklearn.datasets import make_classification\n",
    "from sklearn.linear_model import LogisticRegression\n",
    "from sklearn.model_selection import train_test_split\n",
    "from sklearn.metrics import precision_recall_curve\n",
    "from sklearn.metrics import f1_score\n",
    "from matplotlib import pyplot"
   ]
  },
  {
   "cell_type": "code",
   "execution_count": 2,
   "metadata": {
    "id": "JPL7ejJ69Qvo"
   },
   "outputs": [],
   "source": [
    "def load_data_south_indian(url):\n",
    "  df = pd.read_csv(url)\n",
    "  #df.columns = ['id','date','longitude','latitude','speed']\n",
    "  #df = df.drop(['date'], axis = 1)\n",
    "  df['category'] = df['Speed(knots)'].apply(lambda x: \n",
    "  0 if x<=33 else 1  if x<=47 and x>=34 else 2 if x<=63 and x>=48 else 3 if x<=89 and x>=64 else 4 if x<=115 and x>=90 else 5 )\n",
    "  return df\n",
    "\n",
    "def load_data_south_pacific(url):\n",
    "  df = pd.read_csv(url)\n",
    "  #df.columns = ['id','date','longitude','latitude','speed']\n",
    "  #df = df.drop(['date'], axis = 1)\n",
    "  df['category'] = df['Speed(knots)'].apply(lambda x: \n",
    "  0 if x<=33 else 1  if x<=47 and x>=34 else 2 if x<=63 and x>=48 else 3 if x<=85 and x>=64 else 4 if x<=107 and x>=86 else 5 )\n",
    "  return df"
   ]
  },
  {
   "cell_type": "code",
   "execution_count": 3,
   "metadata": {
    "colab": {
     "base_uri": "https://localhost:8080/"
    },
    "id": "7EvJumXX9WWC",
    "outputId": "6bbaaba0-5c7e-4494-e587-27432356308d"
   },
   "outputs": [
    {
     "name": "stdout",
     "output_type": "stream",
     "text": [
      "south_indian\n"
     ]
    }
   ],
   "source": [
    "ocean = 'south_indian'  #south_indian or south_pacific\n",
    "print(ocean)\n",
    "\n",
    "if ocean == 'south_indian':\n",
    "    url_data = 'https://raw.githubusercontent.com/sydney-machine-learning/cyclonedatasets/main/SouthIndian-SouthPacific-Ocean/South_indian_hurricane.csv'\n",
    "    function = load_data_south_indian\n",
    "    hot_encoded_result_file_name = 'south_indian'\n",
    "    category_result_file_name = 'roc_data_south_indian'\n",
    "else:\n",
    "    url_data = 'https://raw.githubusercontent.com/sydney-machine-learning/cyclonedatasets/main/SouthIndian-SouthPacific-Ocean/South_pacific_hurricane.csv'\n",
    "    function = load_data_south_pacific\n",
    "    hot_encoded_result_file_name = 'south_pacific'\n",
    "    category_result_file_name = 'roc_data_south_pacific' "
   ]
  },
  {
   "cell_type": "code",
   "execution_count": 4,
   "metadata": {
    "colab": {
     "base_uri": "https://localhost:8080/",
     "height": 203
    },
    "id": "P5GxeAk79bKE",
    "outputId": "228a1ce2-ea8d-452a-b1bb-737bc7331885"
   },
   "outputs": [
    {
     "data": {
      "text/html": [
       "<div>\n",
       "<style scoped>\n",
       "    .dataframe tbody tr th:only-of-type {\n",
       "        vertical-align: middle;\n",
       "    }\n",
       "\n",
       "    .dataframe tbody tr th {\n",
       "        vertical-align: top;\n",
       "    }\n",
       "\n",
       "    .dataframe thead th {\n",
       "        text-align: right;\n",
       "    }\n",
       "</style>\n",
       "<table border=\"1\" class=\"dataframe\">\n",
       "  <thead>\n",
       "    <tr style=\"text-align: right;\">\n",
       "      <th></th>\n",
       "      <th>Basin</th>\n",
       "      <th>No. of Cycl</th>\n",
       "      <th>Time</th>\n",
       "      <th>V5</th>\n",
       "      <th>V6</th>\n",
       "      <th>Lat</th>\n",
       "      <th>Lon</th>\n",
       "      <th>Speed(knots)</th>\n",
       "      <th>lat_tenth</th>\n",
       "      <th>lon_tenth</th>\n",
       "      <th>category</th>\n",
       "    </tr>\n",
       "  </thead>\n",
       "  <tbody>\n",
       "    <tr>\n",
       "      <th>0</th>\n",
       "      <td>SI</td>\n",
       "      <td>1</td>\n",
       "      <td>1981072512</td>\n",
       "      <td>BEST</td>\n",
       "      <td>0</td>\n",
       "      <td>118S</td>\n",
       "      <td>867E</td>\n",
       "      <td>20</td>\n",
       "      <td>11.8</td>\n",
       "      <td>86.7</td>\n",
       "      <td>0</td>\n",
       "    </tr>\n",
       "    <tr>\n",
       "      <th>1</th>\n",
       "      <td>SI</td>\n",
       "      <td>1</td>\n",
       "      <td>1981072518</td>\n",
       "      <td>BEST</td>\n",
       "      <td>0</td>\n",
       "      <td>116S</td>\n",
       "      <td>864E</td>\n",
       "      <td>25</td>\n",
       "      <td>11.6</td>\n",
       "      <td>86.4</td>\n",
       "      <td>0</td>\n",
       "    </tr>\n",
       "    <tr>\n",
       "      <th>2</th>\n",
       "      <td>SI</td>\n",
       "      <td>1</td>\n",
       "      <td>1981072600</td>\n",
       "      <td>BEST</td>\n",
       "      <td>0</td>\n",
       "      <td>113S</td>\n",
       "      <td>862E</td>\n",
       "      <td>25</td>\n",
       "      <td>11.3</td>\n",
       "      <td>86.2</td>\n",
       "      <td>0</td>\n",
       "    </tr>\n",
       "    <tr>\n",
       "      <th>3</th>\n",
       "      <td>SI</td>\n",
       "      <td>1</td>\n",
       "      <td>1981072606</td>\n",
       "      <td>BEST</td>\n",
       "      <td>0</td>\n",
       "      <td>109S</td>\n",
       "      <td>862E</td>\n",
       "      <td>25</td>\n",
       "      <td>10.9</td>\n",
       "      <td>86.2</td>\n",
       "      <td>0</td>\n",
       "    </tr>\n",
       "    <tr>\n",
       "      <th>4</th>\n",
       "      <td>SI</td>\n",
       "      <td>1</td>\n",
       "      <td>1981072612</td>\n",
       "      <td>BEST</td>\n",
       "      <td>0</td>\n",
       "      <td>104S</td>\n",
       "      <td>861E</td>\n",
       "      <td>25</td>\n",
       "      <td>10.4</td>\n",
       "      <td>86.1</td>\n",
       "      <td>0</td>\n",
       "    </tr>\n",
       "  </tbody>\n",
       "</table>\n",
       "</div>"
      ],
      "text/plain": [
       "  Basin  No. of Cycl        Time     V5  V6    Lat     Lon  Speed(knots)  \\\n",
       "0    SI            1  1981072512   BEST   0   118S    867E            20   \n",
       "1    SI            1  1981072518   BEST   0   116S    864E            25   \n",
       "2    SI            1  1981072600   BEST   0   113S    862E            25   \n",
       "3    SI            1  1981072606   BEST   0   109S    862E            25   \n",
       "4    SI            1  1981072612   BEST   0   104S    861E            25   \n",
       "\n",
       "   lat_tenth  lon_tenth  category  \n",
       "0       11.8       86.7         0  \n",
       "1       11.6       86.4         0  \n",
       "2       11.3       86.2         0  \n",
       "3       10.9       86.2         0  \n",
       "4       10.4       86.1         0  "
      ]
     },
     "execution_count": 4,
     "metadata": {},
     "output_type": "execute_result"
    }
   ],
   "source": [
    "df = function(url_data)\n",
    "speed = df['Speed(knots)'].tolist()\n",
    "categories = df['category'].tolist()\n",
    "df.head()"
   ]
  },
  {
   "cell_type": "code",
   "execution_count": 5,
   "metadata": {
    "id": "U3ifbDar9ecd"
   },
   "outputs": [],
   "source": [
    "def split_sequence(sequences, n_steps_in, n_steps_out):\n",
    "\tX, y = list(), list()\n",
    "\tfor i in range(len(sequences)):\n",
    "\t\t# find the end of this pattern\n",
    "\t\tend_ix = i + n_steps_in\n",
    "\t\tout_end_ix = end_ix + n_steps_out\n",
    "\t\t# check if we are beyond the dataset\n",
    "\t\tif out_end_ix > len(sequences):\n",
    "\t\t\tbreak\n",
    "\t\t# gather input and output parts of the pattern\n",
    "\t\tseq_x, seq_y = sequences[i:end_ix, :], sequences[end_ix:out_end_ix, -1 ]\n",
    "\t\tX.append(seq_x)\n",
    "\t\ty.append(seq_y)\n",
    "\treturn array(X), array(y)\n",
    " \n",
    "# split a univariate sequence into samples\n",
    "def uni_split_sequence(sequence, n_steps):\n",
    "\tX, y = list(), list()\n",
    "\tfor i in range(len(sequence)):\n",
    "\t\t# find the end of this pattern\n",
    "\t\tend_ix = i + n_steps\n",
    "\t\t# check if we are beyond the sequence\n",
    "\t\tif end_ix > len(sequence)-1:\n",
    "\t\t\tbreak\n",
    "\t\t# gather input and output parts of the pattern\n",
    "\t\tseq_x, seq_y = sequence[i:end_ix], sequence[end_ix]\n",
    "\t\tX.append(seq_x)\n",
    "\t\ty.append(seq_y)\n",
    "\treturn array(X), array(y) \n",
    " \n",
    "def rmse(pred, actual):\n",
    "    return np.sqrt(((pred-actual) ** 2).mean())\n",
    "\n",
    "def categorical(pred, actual):\n",
    "  cm = confusion_matrix(pred,actual)\n",
    "  ps = precision_score(pred,actual,average='micro')\n",
    "  rs = recall_score(pred,actual,average='micro')\n",
    "  f1 = f1_score(pred,actual, average = 'micro')\n",
    "  return cm,ps,rs,f1\n",
    "\n",
    "def make_confusion_matrix_chart(cf_matrix_test):\n",
    "    plt.figure(1, figsize=(10,5))\n",
    "    sns.heatmap(cf_matrix_test, annot=True, yticklabels=['0','1'], \n",
    "                                xticklabels=['0','1'], fmt='g')\n",
    "    plt.ylabel(\"Actual\")\n",
    "    plt.xlabel(\"Pred\")\n",
    "    plt.title('Test data')\n",
    "    return None  "
   ]
  },
  {
   "cell_type": "code",
   "execution_count": 6,
   "metadata": {
    "id": "yvKP7IKqymiw"
   },
   "outputs": [],
   "source": [
    "univariate = True # if false, its multivariate case\n",
    "n_steps_in = 4\n",
    "n_seq = 2\n",
    "n_steps_out = 1\n",
    "n_features_in = 1 #speed\n",
    "n_features_out = 2 # one hot encoding of category\n",
    "Hidden = 10\n",
    "Epochs = 100\n",
    "Num_Exp = 5"
   ]
  },
  {
   "cell_type": "code",
   "execution_count": 7,
   "metadata": {
    "id": "-j1-OIjJ9nA8"
   },
   "outputs": [],
   "source": [
    "id = df['No. of Cycl'][0]\n",
    "count = 0\n",
    "X = []\n",
    "Y = []\n",
    "start_index=0\n",
    "end_index=0\n",
    "for i in range(1, df.shape[0]):\n",
    "  if df['No. of Cycl'][i] == id :\n",
    "    end_index+=1\n",
    "  else:\n",
    "    x,y = uni_split_sequence(speed[start_index:end_index+1], n_steps_in)\n",
    "    X.append(x)\n",
    "    Y.append(y)\n",
    "    id = df['No. of Cycl'][i]\n",
    "    start_index=i\n",
    "    end_index=i\n",
    "  if i == df.shape[0]-1:   \n",
    "    x,y = uni_split_sequence(speed[start_index:end_index+1], n_steps_in)\n",
    "    X.append(x)\n",
    "    Y.append(y)    "
   ]
  },
  {
   "cell_type": "code",
   "execution_count": 8,
   "metadata": {
    "colab": {
     "base_uri": "https://localhost:8080/"
    },
    "id": "aoEReuBL9rCr",
    "outputId": "ae570c6e-1562-4ed8-d153-53e19015d5f2"
   },
   "outputs": [
    {
     "name": "stdout",
     "output_type": "stream",
     "text": [
      "670 670\n",
      "21454 21454\n",
      "[20 25 25 25] 25 [25 25 25 25] 30\n",
      "[20, 25, 25, 25, 25, 30, 30, 30, 25, 25]\n"
     ]
    }
   ],
   "source": [
    "print(len(X), len(Y))\n",
    "X = [item for sublist in X for item in sublist]\n",
    "Y = [item for sublist in Y for item in sublist]\n",
    "print(len(X), len(Y))\n",
    "print(X[0], Y[0], X[1], Y[1])\n",
    "print(speed[:10])"
   ]
  },
  {
   "cell_type": "code",
   "execution_count": 9,
   "metadata": {
    "colab": {
     "base_uri": "https://localhost:8080/"
    },
    "id": "abT14GsW9sx7",
    "outputId": "d96351ec-d6ab-4cf1-e123-4d6bb9c9a9e4"
   },
   "outputs": [
    {
     "name": "stdout",
     "output_type": "stream",
     "text": [
      "21454\n"
     ]
    }
   ],
   "source": [
    "intensify_y = []\n",
    "for i in range(len(X)):\n",
    "  if Y[i]-X[i][0]>=30:\n",
    "    intensify_y.append(1)\n",
    "  else:\n",
    "    intensify_y.append(0)\n",
    "print(len(intensify_y))\n",
    "speed_y = Y\n",
    "Y=intensify_y"
   ]
  },
  {
   "cell_type": "code",
   "execution_count": 10,
   "metadata": {
    "colab": {
     "base_uri": "https://localhost:8080/"
    },
    "id": "lpAc1ilO-xWk",
    "outputId": "d4a1ebe4-bd42-4154-a8e4-959228401ec4"
   },
   "outputs": [
    {
     "data": {
      "text/plain": [
       "15017"
      ]
     },
     "execution_count": 10,
     "metadata": {},
     "output_type": "execute_result"
    }
   ],
   "source": [
    "train_limit = int(len(X)*70/100)\n",
    "train_limit"
   ]
  },
  {
   "cell_type": "code",
   "execution_count": 11,
   "metadata": {
    "colab": {
     "base_uri": "https://localhost:8080/"
    },
    "id": "FqzfTLPbgnxt",
    "outputId": "059bdff8-e80c-4f93-da87-3265af0d0184"
   },
   "outputs": [
    {
     "data": {
      "text/plain": [
       "(21454, 21454, 6436, 6436)"
      ]
     },
     "execution_count": 11,
     "metadata": {},
     "output_type": "execute_result"
    }
   ],
   "source": [
    "test_X_original = X[train_limit+1:]\n",
    "#X_original = X[:train_limit]\n",
    "#X_original = np.asarray(X_original).astype(float)\n",
    "test_Y_original = Y[train_limit+1:]\n",
    "#Y_original = Y[:train_limit]\n",
    "len(X), len(Y), len(test_X_original), len(test_Y_original)"
   ]
  },
  {
   "cell_type": "code",
   "execution_count": 12,
   "metadata": {
    "id": "aknEoD6dXGde"
   },
   "outputs": [],
   "source": [
    "X = MinMaxScaler().fit_transform(np.asarray(X))"
   ]
  },
  {
   "cell_type": "code",
   "execution_count": 13,
   "metadata": {
    "colab": {
     "base_uri": "https://localhost:8080/"
    },
    "id": "lNQvG3PZ-3I4",
    "outputId": "b9be404f-1396-40d7-ac35-a50b6b980b17"
   },
   "outputs": [
    {
     "name": "stdout",
     "output_type": "stream",
     "text": [
      "6436 6436\n"
     ]
    },
    {
     "data": {
      "text/plain": [
       "(15017, 15017)"
      ]
     },
     "execution_count": 13,
     "metadata": {},
     "output_type": "execute_result"
    }
   ],
   "source": [
    "speed_x = X\n",
    "test_X = X[train_limit+1:]\n",
    "test_X = np.asarray(test_X).astype(float)\n",
    "test_Y = Y[train_limit+1:]\n",
    "X = X[:train_limit]\n",
    "X = np.asarray(X).astype(float)\n",
    "Y = Y[:train_limit]\n",
    "print(len(test_X), len(test_Y))\n",
    "len(X), len(Y)"
   ]
  },
  {
   "cell_type": "code",
   "execution_count": 14,
   "metadata": {
    "colab": {
     "base_uri": "https://localhost:8080/"
    },
    "id": "Rn2Xw0vDAZ4n",
    "outputId": "06841866-d792-4a7f-f2d9-78cc0511e2e5"
   },
   "outputs": [
    {
     "name": "stdout",
     "output_type": "stream",
     "text": [
      "train data:  Counter({0: 14446, 1: 571})\n",
      "test data:  Counter({0: 6301, 1: 135})\n"
     ]
    }
   ],
   "source": [
    "counter_train = Counter(Y)\n",
    "counter_test = Counter(test_Y)\n",
    "#counter = collections.OrderedDict(sorted(counter.items()))\n",
    "print(\"train data: \", counter_train)\n",
    "print(\"test data: \", counter_test)"
   ]
  },
  {
   "cell_type": "code",
   "execution_count": 15,
   "metadata": {
    "colab": {
     "base_uri": "https://localhost:8080/",
     "height": 565
    },
    "id": "Viy_k8szAeRi",
    "outputId": "3864b05a-ef3c-41f1-8a08-864ce9c3e27e"
   },
   "outputs": [
    {
     "data": {
      "text/plain": [
       "<Figure size 432x288 with 0 Axes>"
      ]
     },
     "metadata": {},
     "output_type": "display_data"
    },
    {
     "data": {
      "image/png": "[encoded data removed]",
      "text/plain": [
       "<Figure size 864x576 with 1 Axes>"
      ]
     },
     "metadata": {},
     "output_type": "display_data"
    }
   ],
   "source": [
    "plt.figure()\n",
    "#fig = plt.subplots(figsize =(20, 12))\n",
    "fig, ax = plt.subplots(figsize = (12,8))\n",
    "plt.bar(range(len(counter_train)), list(counter_train.values()), align='center')\n",
    "plt.xticks(range(len(counter_train)), list(counter_train.keys()))\n",
    "plt.xlabel('Category', size=40)\n",
    "plt.ylabel('Number', size=40)\n",
    "#plt.title('ROC' + ' (' + str(no_of_output_steps) + ' steps ahead, ' + model.capitalize() + ', Time step: ' + str(time_step) + ') - ' + train_or_test.capitalize() + ' (' + ocean + '_ocean)')\n",
    "ax.tick_params(axis='both', which='major', labelsize=30)\n",
    "plt.savefig(ocean + '_class_dist.png', dpi=300, transparent=False, bbox_inches='tight')\n",
    "plt.show()"
   ]
  },
  {
   "cell_type": "code",
   "execution_count": 16,
   "metadata": {
    "id": "Iw5div8vBVfa"
   },
   "outputs": [],
   "source": [
    "def vanilla(n_steps_in,n_steps_out,n_features_in, n_features_out):\n",
    "  model = Sequential()\n",
    "  model.add(LSTM(50, activation='relu', input_shape=(n_steps_in, n_features_in)))\n",
    "  model.add(Dense(n_features_out, activation = \"softmax\"))\n",
    "  model.compile(optimizer='adam', loss='binary_crossentropy')\n",
    "  return model\n",
    " \n",
    "  #model = Sequential()\n",
    "  #model.add(LSTM(Hidden, activation='relu', input_shape=(n_steps_in, n_features_in)))\n",
    "  #model.add(RepeatVector(n_steps_out))\n",
    "  #model.add(LSTM(Hidden, activation='relu', return_sequences=True))\n",
    "  #model.add(TimeDistributed(Dense(n_features_out, activation = \"softmax\")))\n",
    "  #model.compile(optimizer='adam', loss='categorical_crossentropy')\n",
    "  #return model\n",
    "\n",
    "def bidirectional(n_steps_in,n_steps_out,n_features_in, n_features_out):\n",
    "  model = Sequential()\n",
    "  model.add(Bidirectional(LSTM(Hidden, activation='relu', input_shape=(n_steps_in, n_features_in))))\n",
    "  model.add(Dense(n_features_out, activation = \"softmax\"))\n",
    "  model.compile(optimizer='adam', loss='binary_crossentropy')\n",
    "  return model\n",
    "\n",
    "def cnn_lstm(n_steps_in,n_steps_out,n_features_in, n_features_out, n_seq):\n",
    "  model = Sequential()\n",
    "  model.add(TimeDistributed(Conv1D(filters=64, kernel_size=1, activation='relu'), input_shape=(None, int(n_steps_in/n_seq), n_features_in)))\n",
    "  model.add(TimeDistributed(MaxPooling1D(pool_size=2)))\n",
    "  model.add(TimeDistributed(Flatten()))\n",
    "  model.add(LSTM(Hidden, activation='relu'))\n",
    "  model.add(Dense(n_features_out, activation = \"softmax\"))\n",
    "  model.compile(optimizer='adam', loss='binary_crossentropy')\n",
    "  return model\n",
    "\n",
    "def conv_lstm(n_steps_in,n_steps_out,n_features_in, n_features_out, n_seq):\n",
    "  model = Sequential()\n",
    "  model.add(ConvLSTM2D(filters=64, kernel_size=(1,2), activation='relu', input_shape=(n_seq, 1, int(n_steps_in/n_seq), n_features_in)))\n",
    "  model.add(Flatten())\n",
    "  model.add(Dense(n_features_out, activation = \"softmax\"))\n",
    "  model.compile(optimizer='adam', loss='binary_crossentropy')\n",
    "  return model"
   ]
  },
  {
   "cell_type": "code",
   "execution_count": 17,
   "metadata": {
    "id": "bUwvDk52JTbt"
   },
   "outputs": [],
   "source": [
    "#all models\n",
    "def MODEL_LSTM(model_name, method, univariate, x_train, x_test, y_train, y_test, Num_Exp, n_steps_in, n_steps_out, Epochs, Hidden):\n",
    "\n",
    "    train_acc = np.zeros(Num_Exp)\n",
    "    test_acc = np.zeros(Num_Exp)\n",
    "\n",
    "    if model_name == 'vanilla':\n",
    "      model = vanilla(n_steps_in,n_steps_out,n_features_in, n_features_out)\n",
    "    elif model_name == 'bidirectional':\n",
    "      model = bidirectional(n_steps_in,n_steps_out,n_features_in, n_features_out)\n",
    "    elif model_name == 'cnn-lstm':\n",
    "      model = cnn_lstm(n_steps_in,n_steps_out,n_features_in,n_features_out,n_seq)\n",
    "    elif model_name == 'conv-lstm':\n",
    "      model = conv_lstm(n_steps_in,n_steps_out,n_features_in,n_features_out,n_seq)\n",
    "    \n",
    "    #model.summary()\n",
    "\n",
    "    y_predicttest_allruns = np.zeros([Num_Exp, x_test.shape[0], y_test.shape[1]])\n",
    "\n",
    "    #print(y_predicttest_allruns.shape, ' shape ')\n",
    "\n",
    "\n",
    "    Best_f1 = 0  # Assigning a small number\n",
    "    act_test = [y_test[i].argmax() for i in range(y_test.shape[0])]\n",
    "    act_train = [y_train[i].argmax() for i in range(y_train.shape[0])]\n",
    "    start_time = time.time()\n",
    "    Best_report_train = dict()\n",
    "    Best_report_test = dict()\n",
    "    for run in range(Num_Exp):\n",
    "        print(\"Experiment\", run + 1, \"in progress\")\n",
    "        # fit model\n",
    "        model.fit(x_train, y_train, epochs=Epochs, batch_size=10, verbose=0, shuffle=False)\n",
    "        scores = model.predict_proba(x_test)\n",
    "        y_predicttrain = model.predict(x_train)\n",
    "        y_predicttest = model.predict(x_test)\n",
    "        #y_predicttest_allruns[run,:,:] = y_predicttest\n",
    "        #train_acc[run] = rmse(y_predicttrain, y_train)\n",
    "        #print(train_acc[run], 'train accuracy')\n",
    "        #test_acc[run] = rmse(y_predicttest, y_test)\n",
    "        pred_test = [y_predicttest[i].argmax() for i in range(y_predicttest.shape[0])]\n",
    "        pred_train = [y_predicttrain[i].argmax() for i in range(y_predicttrain.shape[0])]\n",
    "        report_train = classification_report(act_train, pred_train, labels=[0,1], output_dict=True)\n",
    "        report_test = classification_report(act_test, pred_test, labels=[0,1], output_dict=True)\n",
    "        #test_acc[run] = f1_score(pred,act, average = 'binary')\n",
    "        test_acc[run] = report_test['1']['f1-score']\n",
    "        print(\"train acc: \", report_train['1']['f1-score'])        \n",
    "        print(\"test acc: \", test_acc[run])\n",
    "        if test_acc[run] > Best_f1:\n",
    "            Best_f1 = test_acc[run]\n",
    "            Best_Predict_Test = y_predicttest\n",
    "            Best_report_train, Best_report_test = report_train, report_test\n",
    "    model.save(\"model_\" + ocean+\"_\"+model_name+\"_\"+method+'.h5')  \n",
    "    train_std = np.std(train_acc)\n",
    "    test_std = np.std(test_acc)\n",
    "    print(\"Total time for\", Num_Exp, \"experiments\", time.time() - start_time)\n",
    "    print(\"f1 scores for test data: \", test_acc)\n",
    "    print(\"mean: \", np.mean(test_acc), \"std dev: \", test_std)\n",
    "    return train_acc, test_acc, train_std, test_std, Best_Predict_Test, y_predicttrain, y_predicttest, scores, Best_report_train, Best_report_test"
   ]
  },
  {
   "cell_type": "code",
   "execution_count": 18,
   "metadata": {
    "colab": {
     "base_uri": "https://localhost:8080/"
    },
    "id": "GCcCV5jyFE5A",
    "outputId": "01bf9957-efb5-47b0-f23d-70894a4b2fb2"
   },
   "outputs": [
    {
     "name": "stdout",
     "output_type": "stream",
     "text": [
      "15017\n"
     ]
    }
   ],
   "source": [
    "#idx = np.random.permutation(len(X_smote))\n",
    "idx = np.random.permutation(len(X))\n",
    "print(len(idx))\n",
    "x_shuffled = []\n",
    "y_shuffled = []\n",
    "for i in idx:\n",
    "  #x_shuffled.append(X_smote[i])\n",
    "  #y_shuffled.append(Y_smote[i])\n",
    "  x_shuffled.append(X[i])\n",
    "  y_shuffled.append(Y[i])"
   ]
  },
  {
   "cell_type": "code",
   "execution_count": 19,
   "metadata": {
    "colab": {
     "base_uri": "https://localhost:8080/"
    },
    "id": "L8uZm8wWIpM1",
    "outputId": "ffa59806-6367-48ad-c231-e20dbb99896a"
   },
   "outputs": [
    {
     "name": "stdout",
     "output_type": "stream",
     "text": [
      "(15017, 2) (6436, 2)\n"
     ]
    }
   ],
   "source": [
    "Y_hot_encoded_train =  np.asarray(to_categorical(y_shuffled))\n",
    "#Y_hot_encoded_train = Y_hot_encoded_train.reshape(len(y_shuffled), n_steps_out, n_features_out)\n",
    "\n",
    "Y_hot_encoded_test =  np.asarray(to_categorical(test_Y))\n",
    "#Y_hot_encoded_test = Y_hot_encoded_test.reshape(len(test_Y), n_steps_out, n_features_out)\n",
    "\n",
    "print(Y_hot_encoded_train.shape, Y_hot_encoded_test.shape)"
   ]
  },
  {
   "cell_type": "code",
   "execution_count": 20,
   "metadata": {
    "colab": {
     "base_uri": "https://localhost:8080/"
    },
    "id": "fUUYK__AVFV5",
    "outputId": "93e4fcf1-9a5a-4a00-ea58-d54f14471e41"
   },
   "outputs": [
    {
     "data": {
      "text/plain": [
       "(array([0.13793103, 0.14285714, 0.14285714, 0.17241379]),\n",
       " array([0.10344828, 0.07142857, 0.14285714, 0.17241379]))"
      ]
     },
     "execution_count": 20,
     "metadata": {},
     "output_type": "execute_result"
    }
   ],
   "source": [
    "x_shuffled[0], test_X[0]\n"
   ]
  },
  {
   "cell_type": "code",
   "execution_count": 21,
   "metadata": {
    "id": "cwrbaCjXIpR6"
   },
   "outputs": [],
   "source": [
    "#models = ['vanilla', 'bidirectional', 'cnn-lstm', 'conv-lstm']\n",
    "models = ['vanilla']\n",
    "predictions_train = dict()\n",
    "actual_train = dict()\n",
    "predictions_test = dict()\n",
    "actual_test = dict()\n",
    "metrics_train = dict()\n",
    "metrics_test = dict()\n",
    "test_acc_all = dict()\n",
    "test_stddev = dict()"
   ]
  },
  {
   "cell_type": "code",
   "execution_count": 22,
   "metadata": {
    "colab": {
     "base_uri": "https://localhost:8080/",
     "height": 438
    },
    "id": "UQ_9wHhVI2q2",
    "outputId": "8f6744cc-3748-4892-d2aa-1f204ecd0829"
   },
   "outputs": [
    {
     "name": "stdout",
     "output_type": "stream",
     "text": [
      "---------------------------------------------------------\n",
      "no of steps out:  1\n",
      "for vanilla:\n",
      "Experiment 1 in progress\n"
     ]
    },
    {
     "name": "stderr",
     "output_type": "stream",
     "text": [
      "/home/z5239100/.local/lib/python3.8/site-packages/tensorflow/python/keras/engine/sequential.py:425: UserWarning: `model.predict_proba()` is deprecated and will be removed after 2021-01-01. Please use `model.predict()` instead.\n",
      "  warnings.warn('`model.predict_proba()` is deprecated and '\n"
     ]
    },
    {
     "name": "stdout",
     "output_type": "stream",
     "text": [
      "train acc:  0.7577519379844961\n",
      "test acc:  0.4383561643835616\n",
      "Experiment 2 in progress\n"
     ]
    },
    {
     "name": "stderr",
     "output_type": "stream",
     "text": [
      "/home/z5239100/.local/lib/python3.8/site-packages/tensorflow/python/keras/engine/sequential.py:425: UserWarning: `model.predict_proba()` is deprecated and will be removed after 2021-01-01. Please use `model.predict()` instead.\n",
      "  warnings.warn('`model.predict_proba()` is deprecated and '\n"
     ]
    },
    {
     "name": "stdout",
     "output_type": "stream",
     "text": [
      "train acc:  0.7552986512524084\n",
      "test acc:  0.45581395348837217\n",
      "Experiment 3 in progress\n"
     ]
    },
    {
     "name": "stderr",
     "output_type": "stream",
     "text": [
      "/home/z5239100/.local/lib/python3.8/site-packages/tensorflow/python/keras/engine/sequential.py:425: UserWarning: `model.predict_proba()` is deprecated and will be removed after 2021-01-01. Please use `model.predict()` instead.\n",
      "  warnings.warn('`model.predict_proba()` is deprecated and '\n"
     ]
    },
    {
     "name": "stdout",
     "output_type": "stream",
     "text": [
      "train acc:  0.7533718689788054\n",
      "test acc:  0.43396226415094336\n",
      "Experiment 4 in progress\n"
     ]
    },
    {
     "name": "stderr",
     "output_type": "stream",
     "text": [
      "/home/z5239100/.local/lib/python3.8/site-packages/tensorflow/python/keras/engine/sequential.py:425: UserWarning: `model.predict_proba()` is deprecated and will be removed after 2021-01-01. Please use `model.predict()` instead.\n",
      "  warnings.warn('`model.predict_proba()` is deprecated and '\n"
     ]
    },
    {
     "name": "stdout",
     "output_type": "stream",
     "text": [
      "train acc:  0.7579556412729026\n",
      "test acc:  0.43925233644859807\n",
      "Experiment 5 in progress\n"
     ]
    },
    {
     "name": "stderr",
     "output_type": "stream",
     "text": [
      "/home/z5239100/.local/lib/python3.8/site-packages/tensorflow/python/keras/engine/sequential.py:425: UserWarning: `model.predict_proba()` is deprecated and will be removed after 2021-01-01. Please use `model.predict()` instead.\n",
      "  warnings.warn('`model.predict_proba()` is deprecated and '\n"
     ]
    },
    {
     "name": "stdout",
     "output_type": "stream",
     "text": [
      "train acc:  0.7551219512195122\n",
      "test acc:  0.4299065420560747\n",
      "Total time for 5 experiments 1269.2582051753998\n",
      "f1 scores for test data:  [0.43835616 0.45581395 0.43396226 0.43925234 0.42990654]\n",
      "mean:  0.43945825210551004 std dev:  0.0088341045363434\n"
     ]
    }
   ],
   "source": [
    "for j in range(1):\n",
    "    predictions_train_per_step = dict()\n",
    "    actual_train_per_step = dict()  \n",
    "    predictions_test_per_step = dict()\n",
    "    actual_test_per_step = dict()\n",
    "    metrics_train_per_step = dict()\n",
    "    metrics_test_per_step = dict()\n",
    "    test_acc_per_step = dict()\n",
    "    test_stddev_per_step = dict()\n",
    "    n_steps_out = j+1\n",
    "    print('---------------------------------------------------------')\n",
    "    print('no of steps out: ', n_steps_out)\n",
    "\n",
    "    for i in models:\n",
    "        print(\"for \" + i + \":\")\n",
    "\n",
    "        if i == 'vanilla' or i=='bidirectional':\n",
    "            x_train, y_train = np.asarray(x_shuffled), np.asarray(Y_hot_encoded_train)\n",
    "            x_test, y_test = np.asarray(test_X), np.asarray(Y_hot_encoded_test)\n",
    "            x_train = x_train.reshape((x_train.shape[0], x_train.shape[1], n_features_in))\n",
    "            x_test = x_test.reshape((x_test.shape[0], x_test.shape[1], n_features_in))\n",
    "        elif i == 'cnn-lstm':\n",
    "            x_train, y_train = np.asarray(x_shuffled), np.asarray(Y_hot_encoded_train)\n",
    "            x_test, y_test = np.asarray(test_X), np.asarray(Y_hot_encoded_test)\n",
    "            x_train = x_train.reshape((x_train.shape[0], n_seq, int(n_steps_in/n_seq), n_features_in))\n",
    "            x_test = x_test.reshape((x_test.shape[0], n_seq, int(n_steps_in/n_seq), n_features_in))\n",
    "        elif i=='conv-lstm':\n",
    "            x_train, y_train = np.asarray(x_shuffled), np.asarray(Y_hot_encoded_train)\n",
    "            x_test, y_test = np.asarray(test_X), np.asarray(Y_hot_encoded_test)\n",
    "            x_train = x_train.reshape((x_train.shape[0], n_seq, 1, int(n_steps_in/n_seq), n_features_in))\n",
    "            x_test = x_test.reshape((x_test.shape[0], n_seq, 1, int(n_steps_in/n_seq), n_features_in))\n",
    "        \n",
    "        #print(x_train.shape, x_test.shape, y_train.shape, y_test.shape)\n",
    "        train_acc, test_acc, train_std_dev, test_std_dev, Best_Predict_Test, y_predicttrain, y_predicttest, scores, report_train, report_test = MODEL_LSTM(i,'original', univariate,x_train,x_test,y_train,y_test,Num_Exp,n_steps_in,n_steps_out,Epochs, Hidden)\n",
    "        predictions_train_per_step[i] = y_predicttrain\n",
    "        actual_train_per_step[i] = y_train\n",
    "        predictions_test_per_step[i] = Best_Predict_Test\n",
    "        actual_test_per_step[i] = y_test\n",
    "        metrics_train_per_step[i] = report_train\n",
    "        metrics_test_per_step[i] = report_test \n",
    "        test_acc_per_step[i] = test_acc\n",
    "        test_stddev_per_step[i] = test_std_dev\n",
    "    predictions_train[str(j+1)] = predictions_train_per_step \n",
    "    actual_train[str(j+1)] = actual_train_per_step\n",
    "    predictions_test[str(j+1)] = predictions_test_per_step \n",
    "    actual_test[str(j+1)] = actual_test_per_step\n",
    "    metrics_train[str(j+1)] = metrics_train_per_step\n",
    "    metrics_test[str(j+1)] = metrics_test_per_step\n",
    "    test_acc_all[str(j+1)] = test_acc_per_step\n",
    "    test_stddev[str(j+1)] = test_stddev_per_step\n",
    "  "
   ]
  },
  {
   "cell_type": "code",
   "execution_count": 23,
   "metadata": {
    "id": "KAPDtCyDZ8bO"
   },
   "outputs": [],
   "source": [
    "with open(\"predictions_\" + ocean + '_original' + '.pkl', 'wb') as f: \n",
    "    pickle.dump([predictions_train,actual_train,predictions_test,actual_test,metrics_train,metrics_test,test_acc,test_stddev], f)"
   ]
  },
  {
   "cell_type": "code",
   "execution_count": 24,
   "metadata": {
    "id": "pIa4gujF1p3U"
   },
   "outputs": [],
   "source": [
    "def make_confusion_matrix_chart2(cf_matrix_test, name):\n",
    "    #plt.figure(figsize=(20,12))\n",
    "    sns.set(font_scale=2.5)\n",
    "    fig, ax = plt.subplots(figsize = (20,12))\n",
    "    sns.heatmap(cf_matrix_test, annot=True, yticklabels=['0','1'], \n",
    "                                xticklabels=['0','1'], fmt='g')\n",
    "    plt.ylabel(\"Actual\", size=30)\n",
    "    plt.xlabel(\"Pred\", size=30)\n",
    "    ax.tick_params(axis='both', which='major', labelsize=25)\n",
    "    plt.savefig(name + '.png', dpi=300, transparent=False, bbox_inches='tight')\n",
    "    return None "
   ]
  },
  {
   "cell_type": "code",
   "execution_count": 25,
   "metadata": {
    "colab": {
     "base_uri": "https://localhost:8080/",
     "height": 700
    },
    "id": "3Z7iGdidk1_I",
    "outputId": "15062042-c473-46c9-8e42-872442b06801"
   },
   "outputs": [
    {
     "data": {
      "image/png": "[encoded data removed]",
      "text/plain": [
       "<Figure size 1440x864 with 2 Axes>"
      ]
     },
     "metadata": {},
     "output_type": "display_data"
    }
   ],
   "source": [
    "y = [i.argmax() for i in actual_test_per_step['vanilla']]\n",
    "pred = [i.argmax() for i in predictions_test_per_step['vanilla']]\n",
    "cf_matrix_test = confusion_matrix(y, pred)\n",
    "make_confusion_matrix_chart2(cf_matrix_test, ocean + '_vanilla_cm_original')"
   ]
  },
  {
   "cell_type": "code",
   "execution_count": 26,
   "metadata": {
    "colab": {
     "base_uri": "https://localhost:8080/",
     "height": 203
    },
    "id": "1Lvr2wP0y6zM",
    "outputId": "be413534-c96b-4a8a-c153-7a8a9aa069c9"
   },
   "outputs": [
    {
     "data": {
      "text/html": [
       "<div>\n",
       "<style scoped>\n",
       "    .dataframe tbody tr th:only-of-type {\n",
       "        vertical-align: middle;\n",
       "    }\n",
       "\n",
       "    .dataframe tbody tr th {\n",
       "        vertical-align: top;\n",
       "    }\n",
       "\n",
       "    .dataframe thead th {\n",
       "        text-align: right;\n",
       "    }\n",
       "</style>\n",
       "<table border=\"1\" class=\"dataframe\">\n",
       "  <thead>\n",
       "    <tr style=\"text-align: right;\">\n",
       "      <th></th>\n",
       "      <th>index</th>\n",
       "      <th>precision</th>\n",
       "      <th>recall</th>\n",
       "      <th>f1-score</th>\n",
       "      <th>support</th>\n",
       "    </tr>\n",
       "  </thead>\n",
       "  <tbody>\n",
       "    <tr>\n",
       "      <th>0</th>\n",
       "      <td>0</td>\n",
       "      <td>0.986469</td>\n",
       "      <td>0.995080</td>\n",
       "      <td>0.990756</td>\n",
       "      <td>6301.000000</td>\n",
       "    </tr>\n",
       "    <tr>\n",
       "      <th>1</th>\n",
       "      <td>1</td>\n",
       "      <td>0.612500</td>\n",
       "      <td>0.362963</td>\n",
       "      <td>0.455814</td>\n",
       "      <td>135.000000</td>\n",
       "    </tr>\n",
       "    <tr>\n",
       "      <th>2</th>\n",
       "      <td>accuracy</td>\n",
       "      <td>0.981821</td>\n",
       "      <td>0.981821</td>\n",
       "      <td>0.981821</td>\n",
       "      <td>0.981821</td>\n",
       "    </tr>\n",
       "    <tr>\n",
       "      <th>3</th>\n",
       "      <td>macro avg</td>\n",
       "      <td>0.799485</td>\n",
       "      <td>0.679022</td>\n",
       "      <td>0.723285</td>\n",
       "      <td>6436.000000</td>\n",
       "    </tr>\n",
       "    <tr>\n",
       "      <th>4</th>\n",
       "      <td>weighted avg</td>\n",
       "      <td>0.978625</td>\n",
       "      <td>0.981821</td>\n",
       "      <td>0.979535</td>\n",
       "      <td>6436.000000</td>\n",
       "    </tr>\n",
       "  </tbody>\n",
       "</table>\n",
       "</div>"
      ],
      "text/plain": [
       "          index  precision    recall  f1-score      support\n",
       "0             0   0.986469  0.995080  0.990756  6301.000000\n",
       "1             1   0.612500  0.362963  0.455814   135.000000\n",
       "2      accuracy   0.981821  0.981821  0.981821     0.981821\n",
       "3     macro avg   0.799485  0.679022  0.723285  6436.000000\n",
       "4  weighted avg   0.978625  0.981821  0.979535  6436.000000"
      ]
     },
     "execution_count": 26,
     "metadata": {},
     "output_type": "execute_result"
    }
   ],
   "source": [
    "report_df = pd.DataFrame(metrics_test_per_step['vanilla']).transpose()\n",
    "report_df = report_df.reset_index()\n",
    "model_eval  = report_df[report_df['index'].str.contains('1')][['precision','recall','f1-score']]\n",
    "model_eval['accuracy']  = list(report_df[report_df['index'].str.contains('accuracy')]['support'])\n",
    "report_df"
   ]
  },
  {
   "cell_type": "code",
   "execution_count": 27,
   "metadata": {
    "colab": {
     "base_uri": "https://localhost:8080/"
    },
    "id": "qcBQn4N1a0Jm",
    "outputId": "541dc8e9-03ab-4628-eeab-9a5d151795d6"
   },
   "outputs": [
    {
     "name": "stdout",
     "output_type": "stream",
     "text": [
      "0.9865 & 0.9951 & 0.9908 & 6301.0 & \n",
      "0.6125 & 0.363 & 0.4558 & 135.0 & \n",
      "0.9818 & 0.9818 & 0.9818 & 0.9818 & \n",
      "0.7995 & 0.679 & 0.7233 & 6436.0 & \n",
      "0.9786 & 0.9818 & 0.9795 & 6436.0 & \n"
     ]
    }
   ],
   "source": [
    "for i in range(report_df.shape[0]):\n",
    "  tmp=\"\"\n",
    "  for j in ['precision', 'recall', 'f1-score', 'support']:\n",
    "    tmp=tmp+ str(round(report_df[j][i],4)) + \" & \"\n",
    "  print(tmp)"
   ]
  },
  {
   "cell_type": "code",
   "execution_count": 28,
   "metadata": {
    "colab": {
     "base_uri": "https://localhost:8080/"
    },
    "id": "JGoUFqyTlp3O",
    "outputId": "3fc67bc7-f68b-4d43-a5d1-2463c4882dff"
   },
   "outputs": [],
   "source": [
    "oversample = SMOTE()\n",
    "X_smote, Y_smote = oversample.fit_resample(X, Y)\n",
    "X_smote = X_smote.astype(np.float)"
   ]
  },
  {
   "cell_type": "code",
   "execution_count": 29,
   "metadata": {
    "colab": {
     "base_uri": "https://localhost:8080/"
    },
    "id": "5Rrh9EplhNTx",
    "outputId": "73564924-12bb-4b82-fa22-43b374b50cd8"
   },
   "outputs": [
    {
     "data": {
      "text/plain": [
       "((15017, 4), (6436, 4), (28892, 4))"
      ]
     },
     "execution_count": 29,
     "metadata": {},
     "output_type": "execute_result"
    }
   ],
   "source": [
    "X.shape, test_X.shape, X_smote.shape"
   ]
  },
  {
   "cell_type": "code",
   "execution_count": 30,
   "metadata": {
    "colab": {
     "base_uri": "https://localhost:8080/"
    },
    "id": "kCqk9Lqll_c4",
    "outputId": "33d816bb-26a1-41e2-adc8-c6640b68c915"
   },
   "outputs": [
    {
     "name": "stdout",
     "output_type": "stream",
     "text": [
      "Counter({0: 14446, 1: 14446})\n",
      "28892 15017\n",
      "old smote data after 10000 index:  Counter({1: 14016, 0: 4876})\n",
      "28892\n",
      "shuffled smote data after 10000 index:  Counter({1: 9527, 0: 9365})\n"
     ]
    },
    {
     "data": {
      "text/plain": [
       "((28892, 2), (6436, 2))"
      ]
     },
     "execution_count": 30,
     "metadata": {},
     "output_type": "execute_result"
    }
   ],
   "source": [
    "counter = Counter(Y_smote)\n",
    "print(counter)\n",
    "print(len(X_smote), len(X))\n",
    "print(\"old smote data after 10000 index: \", Counter(Y_smote[10000:]))\n",
    "\n",
    "idx = np.random.permutation(len(X_smote))\n",
    "print(len(idx))\n",
    "\n",
    "x_shuffled = []\n",
    "y_shuffled = []\n",
    "for i in idx:\n",
    "  x_shuffled.append(X_smote[i])\n",
    "  y_shuffled.append(Y_smote[i])\n",
    "\n",
    "print(\"shuffled smote data after 10000 index: \", Counter(y_shuffled[10000:]))\n",
    "Y_hot_encoded_train =  np.asarray(to_categorical(y_shuffled))\n",
    "#Y_hot_encoded_train = Y_hot_encoded_train.reshape(len(y_shuffled), n_steps_out, n_features_out)\n",
    "\n",
    "Y_hot_encoded_test =  np.asarray(to_categorical(test_Y))\n",
    "#Y_hot_encoded_test = Y_hot_encoded_test.reshape(len(test_Y), n_steps_out, n_features_out)\n",
    "\n",
    "Y_hot_encoded_train.shape, Y_hot_encoded_test.shape"
   ]
  },
  {
   "cell_type": "code",
   "execution_count": 31,
   "metadata": {
    "colab": {
     "base_uri": "https://localhost:8080/"
    },
    "id": "HkBm7C4AzIRA",
    "outputId": "58341447-4998-4d02-ad03-724af9aa57f3"
   },
   "outputs": [
    {
     "data": {
      "text/plain": [
       "[]"
      ]
     },
     "execution_count": 31,
     "metadata": {},
     "output_type": "execute_result"
    }
   ],
   "source": [
    "[ i for i in x_shuffled if i[3]>=1]"
   ]
  },
  {
   "cell_type": "code",
   "execution_count": 32,
   "metadata": {
    "id": "speG9FzmmOOt"
   },
   "outputs": [],
   "source": [
    "            x_train, y_train = np.asarray(x_shuffled), np.asarray(Y_hot_encoded_train)\n",
    "            x_test, y_test = np.asarray(test_X), np.asarray(Y_hot_encoded_test)\n",
    "            x_train = x_train.reshape((x_train.shape[0], x_train.shape[1], n_features_in))\n",
    "            x_test = x_test.reshape((x_test.shape[0], x_test.shape[1], n_features_in))"
   ]
  },
  {
   "cell_type": "code",
   "execution_count": 33,
   "metadata": {
    "colab": {
     "base_uri": "https://localhost:8080/",
     "height": 374
    },
    "id": "5TBkBXgomjLE",
    "outputId": "b43fc517-e56d-49e1-b2b1-63606b94f177"
   },
   "outputs": [
    {
     "name": "stdout",
     "output_type": "stream",
     "text": [
      "Experiment 1 in progress\n"
     ]
    },
    {
     "name": "stderr",
     "output_type": "stream",
     "text": [
      "/home/z5239100/.local/lib/python3.8/site-packages/tensorflow/python/keras/engine/sequential.py:425: UserWarning: `model.predict_proba()` is deprecated and will be removed after 2021-01-01. Please use `model.predict()` instead.\n",
      "  warnings.warn('`model.predict_proba()` is deprecated and '\n"
     ]
    },
    {
     "name": "stdout",
     "output_type": "stream",
     "text": [
      "train acc:  0.9698189134808853\n",
      "test acc:  0.3984526112185686\n",
      "Experiment 2 in progress\n"
     ]
    },
    {
     "name": "stderr",
     "output_type": "stream",
     "text": [
      "/home/z5239100/.local/lib/python3.8/site-packages/tensorflow/python/keras/engine/sequential.py:425: UserWarning: `model.predict_proba()` is deprecated and will be removed after 2021-01-01. Please use `model.predict()` instead.\n",
      "  warnings.warn('`model.predict_proba()` is deprecated and '\n"
     ]
    },
    {
     "name": "stdout",
     "output_type": "stream",
     "text": [
      "train acc:  0.9721060927969297\n",
      "test acc:  0.41735537190082644\n",
      "Experiment 3 in progress\n"
     ]
    },
    {
     "name": "stderr",
     "output_type": "stream",
     "text": [
      "/home/z5239100/.local/lib/python3.8/site-packages/tensorflow/python/keras/engine/sequential.py:425: UserWarning: `model.predict_proba()` is deprecated and will be removed after 2021-01-01. Please use `model.predict()` instead.\n",
      "  warnings.warn('`model.predict_proba()` is deprecated and '\n"
     ]
    },
    {
     "name": "stdout",
     "output_type": "stream",
     "text": [
      "train acc:  0.9756716008771931\n",
      "test acc:  0.4171779141104294\n",
      "Experiment 4 in progress\n"
     ]
    },
    {
     "name": "stderr",
     "output_type": "stream",
     "text": [
      "/home/z5239100/.local/lib/python3.8/site-packages/tensorflow/python/keras/engine/sequential.py:425: UserWarning: `model.predict_proba()` is deprecated and will be removed after 2021-01-01. Please use `model.predict()` instead.\n",
      "  warnings.warn('`model.predict_proba()` is deprecated and '\n"
     ]
    },
    {
     "name": "stdout",
     "output_type": "stream",
     "text": [
      "train acc:  0.9781246790592585\n",
      "test acc:  0.40860215053763443\n",
      "Experiment 5 in progress\n"
     ]
    },
    {
     "name": "stderr",
     "output_type": "stream",
     "text": [
      "/home/z5239100/.local/lib/python3.8/site-packages/tensorflow/python/keras/engine/sequential.py:425: UserWarning: `model.predict_proba()` is deprecated and will be removed after 2021-01-01. Please use `model.predict()` instead.\n",
      "  warnings.warn('`model.predict_proba()` is deprecated and '\n"
     ]
    },
    {
     "name": "stdout",
     "output_type": "stream",
     "text": [
      "train acc:  0.9788594410642466\n",
      "test acc:  0.4400977995110024\n",
      "Total time for 5 experiments 2438.33429312706\n",
      "f1 scores for test data:  [0.39845261 0.41735537 0.41717791 0.40860215 0.4400978 ]\n",
      "mean:  0.41633716945569227 std dev:  0.013754992325834532\n"
     ]
    }
   ],
   "source": [
    "train_acc, test_acc, train_std_dev, test_std_dev, Best_Predict_Test, y_predicttrain, y_predicttest, scores, report_train, report_test = MODEL_LSTM('vanilla', 'smote', univariate,x_train,x_test,y_train,y_test,Num_Exp,n_steps_in,n_steps_out,Epochs, Hidden)"
   ]
  },
  {
   "cell_type": "markdown",
   "metadata": {
    "id": "GE8NJQd511Gs"
   },
   "source": [
    "**SMOTE Results**"
   ]
  },
  {
   "cell_type": "code",
   "execution_count": 34,
   "metadata": {
    "colab": {
     "base_uri": "https://localhost:8080/",
     "height": 700
    },
    "id": "c96OMCh_nTwi",
    "outputId": "388e66a5-710b-4d90-9493-62686da062fa"
   },
   "outputs": [
    {
     "data": {
      "image/png": "[encoded data removed]",
      "text/plain": [
       "<Figure size 1440x864 with 2 Axes>"
      ]
     },
     "metadata": {},
     "output_type": "display_data"
    }
   ],
   "source": [
    "y = [i.argmax() for i in y_test]\n",
    "pred = [i.argmax() for i in Best_Predict_Test]\n",
    "cf_matrix_test = confusion_matrix(y, pred)\n",
    "make_confusion_matrix_chart2(cf_matrix_test, ocean + '_vanilla_cm_smote')"
   ]
  },
  {
   "cell_type": "code",
   "execution_count": 35,
   "metadata": {
    "id": "a0EZ7hlpbgHT"
   },
   "outputs": [],
   "source": [
    "with open(\"predictions_\" + ocean + '_smote' + '.pkl', 'wb') as f: \n",
    "    pickle.dump([y_predicttrain, y_train, Best_Predict_Test, y_test, report_train, report_test, test_acc, test_std_dev], f)"
   ]
  },
  {
   "cell_type": "code",
   "execution_count": 36,
   "metadata": {
    "colab": {
     "base_uri": "https://localhost:8080/",
     "height": 203
    },
    "id": "Tdj32cFmuhes",
    "outputId": "8c2bc3cd-557a-47dd-c561-75a93feb0bae"
   },
   "outputs": [
    {
     "data": {
      "text/html": [
       "<div>\n",
       "<style scoped>\n",
       "    .dataframe tbody tr th:only-of-type {\n",
       "        vertical-align: middle;\n",
       "    }\n",
       "\n",
       "    .dataframe tbody tr th {\n",
       "        vertical-align: top;\n",
       "    }\n",
       "\n",
       "    .dataframe thead th {\n",
       "        text-align: right;\n",
       "    }\n",
       "</style>\n",
       "<table border=\"1\" class=\"dataframe\">\n",
       "  <thead>\n",
       "    <tr style=\"text-align: right;\">\n",
       "      <th></th>\n",
       "      <th>index</th>\n",
       "      <th>precision</th>\n",
       "      <th>recall</th>\n",
       "      <th>f1-score</th>\n",
       "      <th>support</th>\n",
       "    </tr>\n",
       "  </thead>\n",
       "  <tbody>\n",
       "    <tr>\n",
       "      <th>0</th>\n",
       "      <td>0</td>\n",
       "      <td>0.992697</td>\n",
       "      <td>0.970798</td>\n",
       "      <td>0.981626</td>\n",
       "      <td>6301.000000</td>\n",
       "    </tr>\n",
       "    <tr>\n",
       "      <th>1</th>\n",
       "      <td>1</td>\n",
       "      <td>0.328467</td>\n",
       "      <td>0.666667</td>\n",
       "      <td>0.440098</td>\n",
       "      <td>135.000000</td>\n",
       "    </tr>\n",
       "    <tr>\n",
       "      <th>2</th>\n",
       "      <td>accuracy</td>\n",
       "      <td>0.964419</td>\n",
       "      <td>0.964419</td>\n",
       "      <td>0.964419</td>\n",
       "      <td>0.964419</td>\n",
       "    </tr>\n",
       "    <tr>\n",
       "      <th>3</th>\n",
       "      <td>macro avg</td>\n",
       "      <td>0.660582</td>\n",
       "      <td>0.818732</td>\n",
       "      <td>0.710862</td>\n",
       "      <td>6436.000000</td>\n",
       "    </tr>\n",
       "    <tr>\n",
       "      <th>4</th>\n",
       "      <td>weighted avg</td>\n",
       "      <td>0.978764</td>\n",
       "      <td>0.964419</td>\n",
       "      <td>0.970267</td>\n",
       "      <td>6436.000000</td>\n",
       "    </tr>\n",
       "  </tbody>\n",
       "</table>\n",
       "</div>"
      ],
      "text/plain": [
       "          index  precision    recall  f1-score      support\n",
       "0             0   0.992697  0.970798  0.981626  6301.000000\n",
       "1             1   0.328467  0.666667  0.440098   135.000000\n",
       "2      accuracy   0.964419  0.964419  0.964419     0.964419\n",
       "3     macro avg   0.660582  0.818732  0.710862  6436.000000\n",
       "4  weighted avg   0.978764  0.964419  0.970267  6436.000000"
      ]
     },
     "execution_count": 36,
     "metadata": {},
     "output_type": "execute_result"
    }
   ],
   "source": [
    "report_df = pd.DataFrame(report_test).transpose()\n",
    "report_df = report_df.reset_index()\n",
    "model_eval  = report_df[report_df['index'].str.contains('1')][['precision','recall','f1-score']]\n",
    "model_eval['accuracy']  = list(report_df[report_df['index'].str.contains('accuracy')]['support'])\n",
    "report_df"
   ]
  },
  {
   "cell_type": "code",
   "execution_count": 37,
   "metadata": {
    "colab": {
     "base_uri": "https://localhost:8080/"
    },
    "id": "MkKHvNFDbE_o",
    "outputId": "f6d1c688-17db-443b-8cd2-af18d7319087"
   },
   "outputs": [
    {
     "name": "stdout",
     "output_type": "stream",
     "text": [
      "0.9927 & 0.9708 & 0.9816 & 6301.0 & \n",
      "0.3285 & 0.6667 & 0.4401 & 135.0 & \n",
      "0.9644 & 0.9644 & 0.9644 & 0.9644 & \n",
      "0.6606 & 0.8187 & 0.7109 & 6436.0 & \n",
      "0.9788 & 0.9644 & 0.9703 & 6436.0 & \n"
     ]
    }
   ],
   "source": [
    "for i in range(report_df.shape[0]):\n",
    "  tmp=\"\"\n",
    "  for j in ['precision', 'recall', 'f1-score', 'support']:\n",
    "    tmp=tmp+ str(round(report_df[j][i],4)) + \" & \"\n",
    "  print(tmp)"
   ]
  },
  {
   "cell_type": "code",
   "execution_count": 38,
   "metadata": {
    "id": "YMg3CTUMwE5n"
   },
   "outputs": [],
   "source": [
    "import torch\n",
    "from torch import nn\n",
    "from tqdm.auto import tqdm\n",
    "from torchvision import transforms\n",
    "from torchvision.utils import make_grid\n",
    "from torch.utils.data import DataLoader\n",
    "import matplotlib.pyplot as plt\n",
    "torch.cuda.empty_cache()"
   ]
  },
  {
   "cell_type": "markdown",
   "metadata": {
    "id": "I4KRjr4L7SBF"
   },
   "source": [
    "**Simple GAN**"
   ]
  },
  {
   "cell_type": "code",
   "execution_count": 39,
   "metadata": {
    "id": "H9CRsu637Pc7"
   },
   "outputs": [],
   "source": [
    "x_shuffled = X\n",
    "y_shuffled = Y"
   ]
  },
  {
   "cell_type": "code",
   "execution_count": 40,
   "metadata": {
    "colab": {
     "base_uri": "https://localhost:8080/"
    },
    "id": "eELOYics7V_B",
    "outputId": "e2cdff46-cdf4-4f89-cb2a-3dd9c24f4601"
   },
   "outputs": [
    {
     "data": {
      "text/plain": [
       "(15017, 15017, 15017)"
      ]
     },
     "execution_count": 40,
     "metadata": {},
     "output_type": "execute_result"
    }
   ],
   "source": [
    "len(x_shuffled), len(X), len(y_shuffled)"
   ]
  },
  {
   "cell_type": "code",
   "execution_count": 41,
   "metadata": {
    "id": "ZBKGQkAx_h7q"
   },
   "outputs": [],
   "source": [
    "t2 = np.asarray(x_shuffled).shape\n",
    "X_oversampled = torch.from_numpy(np.asarray(x_shuffled))"
   ]
  },
  {
   "cell_type": "code",
   "execution_count": 42,
   "metadata": {
    "id": "JZ8aigTu_Vqb"
   },
   "outputs": [],
   "source": [
    "def get_generator_block(input_dim, output_dim):\n",
    "    return nn.Sequential(\n",
    "        nn.Linear(input_dim, output_dim),\n",
    "        nn.BatchNorm1d(output_dim),\n",
    "        nn.ReLU(inplace=True),\n",
    "    )\n",
    "class Generator(nn.Module):\n",
    "\n",
    "    def __init__(self, z_dim=t2[1], im_dim=t2[1], hidden_dim=128):\n",
    "        super(Generator, self).__init__()\n",
    "        self.gen = nn.Sequential(\n",
    "            get_generator_block(z_dim, hidden_dim),\n",
    "            get_generator_block(hidden_dim, hidden_dim * 2),\n",
    "            get_generator_block(hidden_dim * 2, hidden_dim * 4),\n",
    "            get_generator_block(hidden_dim * 4, hidden_dim * 8),\n",
    "            nn.Linear(hidden_dim * 8, im_dim),\n",
    "            nn.Sigmoid()\n",
    "        )\n",
    "    def forward(self, noise):\n",
    "        return self.gen(noise)\n",
    "    \n",
    "    \n",
    "    def get_gen(self):\n",
    "\n",
    "        return self.gen\n",
    "def get_discriminator_block(input_dim, output_dim):\n",
    "    return nn.Sequential(\n",
    "        nn.Linear(input_dim, output_dim),\n",
    "        nn.LeakyReLU(0.2, inplace=True)        \n",
    "    )\n",
    "class Discriminator(nn.Module):\n",
    "    def __init__(self, im_dim=t2[1], hidden_dim=128):\n",
    "        super(Discriminator, self).__init__()\n",
    "        self.disc = nn.Sequential(\n",
    "            get_discriminator_block(im_dim, hidden_dim * 4),\n",
    "            get_discriminator_block(hidden_dim * 4, hidden_dim * 2),\n",
    "            get_discriminator_block(hidden_dim * 2, hidden_dim),\n",
    "            nn.Linear(hidden_dim, 1)\n",
    "        )\n",
    "\n",
    "    def forward(self, image):\n",
    "\n",
    "        return self.disc(image)\n",
    "    \n",
    "    def get_disc(self):\n",
    "\n",
    "        return self.dis\n",
    "def get_noise(n_samples, z_dim, device='cuda'):\n",
    "\n",
    "    return torch.randn(n_samples,z_dim,device=device) "
   ]
  },
  {
   "cell_type": "code",
   "execution_count": 43,
   "metadata": {
    "id": "BM5WSPh2_bRW"
   },
   "outputs": [],
   "source": [
    "criterion = nn.BCEWithLogitsLoss()\n",
    "n_epochs = 1000\n",
    "z_dim = t2[1]\n",
    "batch_size = 128\n",
    "lr = 0.00001\n",
    "display_step = 1\n",
    "device = 'cpu'\n",
    "gen = Generator(z_dim).to(device)\n",
    "gen_opt = torch.optim.Adam(gen.parameters(), lr=lr)\n",
    "disc = Discriminator().to(device) \n",
    "disc_opt = torch.optim.Adam(disc.parameters(), lr=lr)"
   ]
  },
  {
   "cell_type": "code",
   "execution_count": 44,
   "metadata": {
    "id": "C4uFa0ysAorI"
   },
   "outputs": [],
   "source": [
    "def get_disc_loss(gen, disc, criterion, real, num_images, z_dim, device):\n",
    "\n",
    "    fake_noise = get_noise(num_images, z_dim, device=device)\n",
    "    fake = gen(fake_noise)\n",
    "    disc_fake_pred = disc(fake.detach())\n",
    "    disc_fake_loss = criterion(disc_fake_pred, torch.zeros_like(disc_fake_pred))\n",
    "    disc_real_pred = disc(real)\n",
    "    disc_real_loss = criterion(disc_real_pred, torch.ones_like(disc_real_pred))\n",
    "    disc_loss = (disc_fake_loss + disc_real_loss) / 2\n",
    "\n",
    "    return disc_loss\n",
    "\n",
    "def get_gen_loss(gen, disc, criterion, num_images, z_dim, device):\n",
    "\n",
    "    fake_noise = get_noise(num_images, z_dim, device=device)\n",
    "    fake = gen(fake_noise)\n",
    "    disc_fake_pred = disc(fake)\n",
    "    gen_loss = criterion(disc_fake_pred, torch.ones_like(disc_fake_pred))\n",
    "    return gen_loss"
   ]
  },
  {
   "cell_type": "code",
   "execution_count": 45,
   "metadata": {
    "colab": {
     "base_uri": "https://localhost:8080/"
    },
    "id": "LHvN5pdJBnj9",
    "outputId": "fe66c4cb-72f4-4542-8db6-8ad1770fc405"
   },
   "outputs": [
    {
     "data": {
      "text/plain": [
       "(15017, 571)"
      ]
     },
     "execution_count": 45,
     "metadata": {},
     "output_type": "execute_result"
    }
   ],
   "source": [
    "li=[]\n",
    "for i in range(len(y_shuffled)):\n",
    "    if int(y_shuffled[i])==1:\n",
    "        li.append(x_shuffled[i])\n",
    "        \n",
    "len(y_shuffled), len(li)"
   ]
  },
  {
   "cell_type": "code",
   "execution_count": 46,
   "metadata": {
    "colab": {
     "base_uri": "https://localhost:8080/"
    },
    "id": "51T3WTghBuP6",
    "outputId": "8c72a81f-87c1-4f6c-a2bf-af4bed2cbdb7"
   },
   "outputs": [
    {
     "data": {
      "text/plain": [
       "(571,)"
      ]
     },
     "execution_count": 46,
     "metadata": {},
     "output_type": "execute_result"
    }
   ],
   "source": [
    "X_real=np.array(li)\n",
    "t3=X_real.shape\n",
    "li2=[1]*(t3[0])\n",
    "y_real=np.array(li2)\n",
    "y_real.shape"
   ]
  },
  {
   "cell_type": "code",
   "execution_count": 47,
   "metadata": {
    "id": "qtL0Qv9pG9Vb"
   },
   "outputs": [],
   "source": [
    "from torch.utils.data import TensorDataset, DataLoader\n",
    "tensor_x = torch.Tensor(X_real) \n",
    "tensor_y = torch.Tensor(y_real)\n",
    "my_dataset = TensorDataset(tensor_x,tensor_y)\n",
    "dataloader = DataLoader(\n",
    "    my_dataset,\n",
    "    batch_size=batch_size,\n",
    "    shuffle=True)\n",
    "\n",
    "cur_step = 0\n",
    "mean_generator_loss = 0\n",
    "mean_discriminator_loss = 0\n",
    "test_generator = True \n",
    "gen_loss = False\n",
    "error = False"
   ]
  },
  {
   "cell_type": "code",
   "execution_count": 48,
   "metadata": {
    "colab": {
     "base_uri": "https://localhost:8080/"
    },
    "id": "WCKyNS3zwa2i",
    "outputId": "cefa1512-5b7c-4449-acd3-37590fd8d71e"
   },
   "outputs": [
    {
     "name": "stdout",
     "output_type": "stream",
     "text": [
      "14446\n"
     ]
    }
   ],
   "source": [
    "samples_to_generate = X_oversampled.shape[0]-X_real.shape[0]\n",
    "print(samples_to_generate)"
   ]
  },
  {
   "cell_type": "code",
   "execution_count": 49,
   "metadata": {
    "id": "MLMqmAvksXs0"
   },
   "outputs": [],
   "source": [
    "#epochs = [100,500,1000,2000,3000,4000,5000]\n",
    "epochs = [2000]"
   ]
  },
  {
   "cell_type": "code",
   "execution_count": 50,
   "metadata": {
    "id": "gZw97bqSxx6l"
   },
   "outputs": [],
   "source": [
    "original_gan_data = dict()"
   ]
  },
  {
   "cell_type": "code",
   "execution_count": 51,
   "metadata": {
    "colab": {
     "base_uri": "https://localhost:8080/"
    },
    "id": "KUK0LHadsThN",
    "outputId": "117d0a83-f12a-471a-9d19-c4538c3cde0f"
   },
   "outputs": [
    {
     "name": "stdout",
     "output_type": "stream",
     "text": [
      "no of epochs:  2000\n",
      "Epoch 0: Step 0: Generator loss: 0.7433004379272461, discriminator loss: 0.6898788213729858\n",
      "Epoch 0: Step 1: Generator loss: 1.4869296550750732, discriminator loss: 1.3797531127929688\n",
      "Epoch 0: Step 2: Generator loss: 0.74413001537323, discriminator loss: 0.6902968287467957\n",
      "Epoch 0: Step 3: Generator loss: 0.7444279193878174, discriminator loss: 0.6904038190841675\n",
      "Epoch 0: Step 4: Generator loss: 0.744897186756134, discriminator loss: 0.6886842250823975\n",
      "Epoch 500: Step 2500: Generator loss: 0.7027942538261414, discriminator loss: 0.6932023763656616\n",
      "Epoch 500: Step 2501: Generator loss: 0.7027704119682312, discriminator loss: 0.6931785345077515\n",
      "Epoch 500: Step 2502: Generator loss: 0.702828049659729, discriminator loss: 0.6932562589645386\n",
      "Epoch 500: Step 2503: Generator loss: 0.7027342319488525, discriminator loss: 0.6931048035621643\n",
      "Epoch 500: Step 2504: Generator loss: 0.7028638124465942, discriminator loss: 0.6931381225585938\n",
      "Epoch 1000: Step 5000: Generator loss: 0.6962175369262695, discriminator loss: 0.6931565403938293\n",
      "Epoch 1000: Step 5001: Generator loss: 0.6958277225494385, discriminator loss: 0.6928257942199707\n",
      "Epoch 1000: Step 5002: Generator loss: 0.6955767273902893, discriminator loss: 0.692654013633728\n",
      "Epoch 1000: Step 5003: Generator loss: 0.6952996850013733, discriminator loss: 0.6930361390113831\n",
      "Epoch 1000: Step 5004: Generator loss: 0.6949735879898071, discriminator loss: 0.6933276653289795\n",
      "Epoch 1500: Step 7500: Generator loss: 0.6951120495796204, discriminator loss: 0.6929444074630737\n",
      "Epoch 1500: Step 7501: Generator loss: 0.6951131820678711, discriminator loss: 0.69281405210495\n",
      "Epoch 1500: Step 7502: Generator loss: 0.6951013207435608, discriminator loss: 0.6928286552429199\n",
      "Epoch 1500: Step 7503: Generator loss: 0.6951266527175903, discriminator loss: 0.6926265954971313\n",
      "Epoch 1500: Step 7504: Generator loss: 0.6952047944068909, discriminator loss: 0.6929765343666077\n",
      "(29463, 4) (29463,)\n",
      "29463\n"
     ]
    }
   ],
   "source": [
    "for no_epoch in epochs:\n",
    "  print(\"no of epochs: \", no_epoch)\n",
    "  for epoch in range(no_epoch):\n",
    "  \n",
    "   \n",
    "    for real, _ in tqdm(dataloader, disable=True):\n",
    "        cur_batch_size = len(real)\n",
    "\n",
    "       \n",
    "        real = real.view(cur_batch_size, -1).to(device)\n",
    "\n",
    "      \n",
    "       \n",
    "        disc_opt.zero_grad()\n",
    "\n",
    "       \n",
    "        disc_loss = get_disc_loss(gen, disc, criterion, real, cur_batch_size, z_dim, device)\n",
    "\n",
    "        \n",
    "        disc_loss.backward(retain_graph=True)\n",
    "\n",
    "       \n",
    "        disc_opt.step()\n",
    "\n",
    "      \n",
    "        if test_generator:\n",
    "            old_generator_weights = gen.gen[0][0].weight.detach().clone()\n",
    "\n",
    "        gen_opt.zero_grad()\n",
    "        gen_loss = get_gen_loss(gen, disc, criterion, cur_batch_size, z_dim, device)\n",
    "        gen_loss.backward()\n",
    "        gen_opt.step()\n",
    "\n",
    "        if test_generator:\n",
    "            try:\n",
    "                assert lr > 0.0000002 or (gen.gen[0][0].weight.grad.abs().max() < 0.0005 and epoch == 0)\n",
    "                assert torch.any(gen.gen[0][0].weight.detach().clone() != old_generator_weights)\n",
    "            except:\n",
    "                error = True\n",
    "                print(\"Runtime tests have failed\")\n",
    "\n",
    "     \n",
    "        mean_discriminator_loss += disc_loss.item() / display_step\n",
    "\n",
    "  \n",
    "        mean_generator_loss += gen_loss.item() / display_step\n",
    "\n",
    "        if epoch%500==0:\n",
    "            print(f\"Epoch {epoch}: Step {cur_step}: Generator loss: {mean_generator_loss}, discriminator loss: {mean_discriminator_loss}\")\n",
    "\n",
    "        if cur_step % display_step == 0 and cur_step > 0:\n",
    "            mean_generator_loss = 0\n",
    "            mean_discriminator_loss = 0\n",
    "        cur_step += 1\n",
    "  fake_noise = get_noise(samples_to_generate, z_dim, device=device)\n",
    "  res=gen(fake_noise)\n",
    "  fres=res.cpu().detach().numpy()\n",
    "  X_old=X\n",
    "  finX=np.concatenate((X_old, fres), axis=0)\n",
    "  y_fake = np.ones(samples_to_generate)\n",
    "  Y_old=np.asarray(Y)\n",
    "  finY = np.append(Y_old, y_fake, axis=0)\n",
    "  print(finX.shape, finY.shape)\n",
    "  #idx = np.random.permutation(len(X_smote))\n",
    "  idx = np.random.permutation(finX.shape[0])\n",
    "  print(len(idx))\n",
    "  x_shuffled = []\n",
    "  y_shuffled = []\n",
    "  xy=dict()\n",
    "  for i in idx:\n",
    "    #x_shuffled.append(X_smote[i])\n",
    "    #y_shuffled.append(Y_smote[i])\n",
    "    x_shuffled.append(finX[i])\n",
    "    y_shuffled.append(finY[i])\n",
    "  xy['x_shuffled']=x_shuffled\n",
    "  xy['y_shuffled']=y_shuffled\n",
    "  original_gan_data[no_epoch]=xy"
   ]
  },
  {
   "cell_type": "code",
   "execution_count": 52,
   "metadata": {
    "id": "AE9DiJqGz81i"
   },
   "outputs": [],
   "source": [
    "with open(ocean + '_original_gan_data' + '.pkl', 'wb') as f: \n",
    "    pickle.dump([original_gan_data], f)"
   ]
  },
  {
   "cell_type": "code",
   "execution_count": 53,
   "metadata": {
    "colab": {
     "base_uri": "https://localhost:8080/"
    },
    "id": "We-qlDTsHCbT",
    "outputId": "227e36c9-3eb6-4099-a943-a3017a087108"
   },
   "outputs": [
    {
     "data": {
      "text/plain": [
       "(29463, 29463)"
      ]
     },
     "execution_count": 53,
     "metadata": {},
     "output_type": "execute_result"
    }
   ],
   "source": [
    "len(original_gan_data[2000]['x_shuffled']), len(original_gan_data[2000]['y_shuffled'])"
   ]
  },
  {
   "cell_type": "code",
   "execution_count": 54,
   "metadata": {
    "id": "XRiGcYo_HCjM"
   },
   "outputs": [],
   "source": [
    "x_shuffled = original_gan_data[2000]['x_shuffled']\n",
    "y_shuffled = original_gan_data[2000]['y_shuffled']"
   ]
  },
  {
   "cell_type": "code",
   "execution_count": 55,
   "metadata": {
    "colab": {
     "base_uri": "https://localhost:8080/"
    },
    "id": "gxazLTx77GT8",
    "outputId": "55302534-79f6-4188-d49a-78f02a8da75f"
   },
   "outputs": [
    {
     "data": {
      "text/plain": [
       "(6436, (6436, 4))"
      ]
     },
     "execution_count": 55,
     "metadata": {},
     "output_type": "execute_result"
    }
   ],
   "source": [
    "len(test_Y), test_X.shape"
   ]
  },
  {
   "cell_type": "code",
   "execution_count": 56,
   "metadata": {
    "colab": {
     "base_uri": "https://localhost:8080/"
    },
    "id": "LpXgLEQHSw4A",
    "outputId": "a08018e6-0c89-4521-e02a-bf8a8bcae62d"
   },
   "outputs": [
    {
     "name": "stdout",
     "output_type": "stream",
     "text": [
      "(29463, 2) (6436, 2)\n"
     ]
    }
   ],
   "source": [
    "Y_hot_encoded_train =  np.asarray(to_categorical(y_shuffled))\n",
    "#Y_hot_encoded_train = Y_hot_encoded_train.reshape(len(y_shuffled), n_steps_out, n_features_out)\n",
    "\n",
    "Y_hot_encoded_test =  np.asarray(to_categorical(test_Y))\n",
    "#Y_hot_encoded_test = Y_hot_encoded_test.reshape(len(test_Y), n_steps_out, n_features_out)\n",
    "\n",
    "print(Y_hot_encoded_train.shape, Y_hot_encoded_test.shape)"
   ]
  },
  {
   "cell_type": "code",
   "execution_count": 57,
   "metadata": {
    "colab": {
     "base_uri": "https://localhost:8080/"
    },
    "id": "pgA86CoS7PQi",
    "outputId": "8450cf65-78b9-4050-d17b-1efacc799fdb"
   },
   "outputs": [
    {
     "data": {
      "text/plain": [
       "array([[0.10344828, 0.07142857, 0.14285714, 0.17241379],\n",
       "       [0.10344828, 0.14285714, 0.14285714, 0.17241379],\n",
       "       [0.17241379, 0.14285714, 0.14285714, 0.17241379],\n",
       "       ...,\n",
       "       [0.24137931, 0.14285714, 0.10714286, 0.13793103],\n",
       "       [0.17241379, 0.10714286, 0.10714286, 0.10344828],\n",
       "       [0.10344828, 0.03571429, 0.03571429, 0.06896552]])"
      ]
     },
     "execution_count": 57,
     "metadata": {},
     "output_type": "execute_result"
    }
   ],
   "source": [
    "test_X"
   ]
  },
  {
   "cell_type": "code",
   "execution_count": 58,
   "metadata": {
    "colab": {
     "base_uri": "https://localhost:8080/"
    },
    "id": "nPADKTlz7QY-",
    "outputId": "8b9cc298-ae65-43c7-c160-a2ecdeb90b29"
   },
   "outputs": [
    {
     "data": {
      "text/plain": [
       "(array([0.13331954, 0.18669145, 0.23320237, 0.33463877]), 1.0)"
      ]
     },
     "execution_count": 58,
     "metadata": {},
     "output_type": "execute_result"
    }
   ],
   "source": [
    "x_shuffled[0], y_shuffled[0]"
   ]
  },
  {
   "cell_type": "code",
   "execution_count": 59,
   "metadata": {
    "id": "0H_40CAo8WdD"
   },
   "outputs": [],
   "source": [
    "            x_train, y_train = np.asarray(x_shuffled), np.asarray(Y_hot_encoded_train)\n",
    "            x_test, y_test = np.asarray(test_X), np.asarray(Y_hot_encoded_test)\n",
    "            x_train = x_train.reshape((x_train.shape[0], x_train.shape[1], n_features_in))\n",
    "            x_test = x_test.reshape((x_test.shape[0], x_test.shape[1], n_features_in))"
   ]
  },
  {
   "cell_type": "code",
   "execution_count": 60,
   "metadata": {
    "colab": {
     "base_uri": "https://localhost:8080/"
    },
    "id": "yLbMTc0c8ppJ",
    "outputId": "0d058ca8-2600-428a-ef64-b6327817071d"
   },
   "outputs": [
    {
     "name": "stdout",
     "output_type": "stream",
     "text": [
      "Experiment 1 in progress\n"
     ]
    },
    {
     "name": "stderr",
     "output_type": "stream",
     "text": [
      "/home/z5239100/.local/lib/python3.8/site-packages/tensorflow/python/keras/engine/sequential.py:425: UserWarning: `model.predict_proba()` is deprecated and will be removed after 2021-01-01. Please use `model.predict()` instead.\n",
      "  warnings.warn('`model.predict_proba()` is deprecated and '\n"
     ]
    },
    {
     "name": "stdout",
     "output_type": "stream",
     "text": [
      "train acc:  0.9907073138120068\n",
      "test acc:  0.4095238095238095\n",
      "Experiment 2 in progress\n"
     ]
    },
    {
     "name": "stderr",
     "output_type": "stream",
     "text": [
      "/home/z5239100/.local/lib/python3.8/site-packages/tensorflow/python/keras/engine/sequential.py:425: UserWarning: `model.predict_proba()` is deprecated and will be removed after 2021-01-01. Please use `model.predict()` instead.\n",
      "  warnings.warn('`model.predict_proba()` is deprecated and '\n"
     ]
    },
    {
     "name": "stdout",
     "output_type": "stream",
     "text": [
      "train acc:  0.9908079018618178\n",
      "test acc:  0.38862559241706157\n",
      "Experiment 3 in progress\n"
     ]
    },
    {
     "name": "stderr",
     "output_type": "stream",
     "text": [
      "/home/z5239100/.local/lib/python3.8/site-packages/tensorflow/python/keras/engine/sequential.py:425: UserWarning: `model.predict_proba()` is deprecated and will be removed after 2021-01-01. Please use `model.predict()` instead.\n",
      "  warnings.warn('`model.predict_proba()` is deprecated and '\n"
     ]
    },
    {
     "name": "stdout",
     "output_type": "stream",
     "text": [
      "train acc:  0.9914489945888169\n",
      "test acc:  0.4201680672268907\n",
      "Experiment 4 in progress\n"
     ]
    },
    {
     "name": "stderr",
     "output_type": "stream",
     "text": [
      "/home/z5239100/.local/lib/python3.8/site-packages/tensorflow/python/keras/engine/sequential.py:425: UserWarning: `model.predict_proba()` is deprecated and will be removed after 2021-01-01. Please use `model.predict()` instead.\n",
      "  warnings.warn('`model.predict_proba()` is deprecated and '\n"
     ]
    },
    {
     "name": "stdout",
     "output_type": "stream",
     "text": [
      "train acc:  0.991409566467226\n",
      "test acc:  0.4351851851851852\n",
      "Experiment 5 in progress\n"
     ]
    },
    {
     "name": "stderr",
     "output_type": "stream",
     "text": [
      "/home/z5239100/.local/lib/python3.8/site-packages/tensorflow/python/keras/engine/sequential.py:425: UserWarning: `model.predict_proba()` is deprecated and will be removed after 2021-01-01. Please use `model.predict()` instead.\n",
      "  warnings.warn('`model.predict_proba()` is deprecated and '\n"
     ]
    },
    {
     "name": "stdout",
     "output_type": "stream",
     "text": [
      "train acc:  0.9918421932464059\n",
      "test acc:  0.4186046511627907\n",
      "Total time for 5 experiments 2513.894284963608\n",
      "f1 scores for test data:  [0.40952381 0.38862559 0.42016807 0.43518519 0.41860465]\n",
      "mean:  0.4144214611031475 std dev:  0.015304042805964133\n"
     ]
    }
   ],
   "source": [
    "train_acc, test_acc, train_std_dev, test_std_dev, Best_Predict_Test, y_predicttrain, y_predicttest, scores, report_train, report_test = MODEL_LSTM('vanilla', 'gan', univariate,x_train,x_test,y_train,y_test,Num_Exp,n_steps_in,n_steps_out,Epochs, Hidden)"
   ]
  },
  {
   "cell_type": "code",
   "execution_count": 61,
   "metadata": {
    "id": "FALjFQyzXNSy"
   },
   "outputs": [],
   "source": [
    "with open(\"predictions_\" + ocean + '_gan' + '.pkl', 'wb') as f: \n",
    "    pickle.dump([y_predicttrain, y_train, Best_Predict_Test, y_test, report_train, report_test, test_acc, test_std_dev], f)"
   ]
  },
  {
   "cell_type": "markdown",
   "metadata": {
    "id": "JMVb0uzz4Wyf"
   },
   "source": [
    "**GAN Results**"
   ]
  },
  {
   "cell_type": "code",
   "execution_count": 62,
   "metadata": {
    "colab": {
     "base_uri": "https://localhost:8080/",
     "height": 203
    },
    "id": "_MDrrNjUnm0y",
    "outputId": "d59cfdfc-4c64-45eb-99b7-ff7b118555c1"
   },
   "outputs": [
    {
     "data": {
      "text/html": [
       "<div>\n",
       "<style scoped>\n",
       "    .dataframe tbody tr th:only-of-type {\n",
       "        vertical-align: middle;\n",
       "    }\n",
       "\n",
       "    .dataframe tbody tr th {\n",
       "        vertical-align: top;\n",
       "    }\n",
       "\n",
       "    .dataframe thead th {\n",
       "        text-align: right;\n",
       "    }\n",
       "</style>\n",
       "<table border=\"1\" class=\"dataframe\">\n",
       "  <thead>\n",
       "    <tr style=\"text-align: right;\">\n",
       "      <th></th>\n",
       "      <th>index</th>\n",
       "      <th>precision</th>\n",
       "      <th>recall</th>\n",
       "      <th>f1-score</th>\n",
       "      <th>support</th>\n",
       "    </tr>\n",
       "  </thead>\n",
       "  <tbody>\n",
       "    <tr>\n",
       "      <th>0</th>\n",
       "      <td>0</td>\n",
       "      <td>0.986153</td>\n",
       "      <td>0.994604</td>\n",
       "      <td>0.990360</td>\n",
       "      <td>6301.000000</td>\n",
       "    </tr>\n",
       "    <tr>\n",
       "      <th>1</th>\n",
       "      <td>1</td>\n",
       "      <td>0.580247</td>\n",
       "      <td>0.348148</td>\n",
       "      <td>0.435185</td>\n",
       "      <td>135.000000</td>\n",
       "    </tr>\n",
       "    <tr>\n",
       "      <th>2</th>\n",
       "      <td>accuracy</td>\n",
       "      <td>0.981044</td>\n",
       "      <td>0.981044</td>\n",
       "      <td>0.981044</td>\n",
       "      <td>0.981044</td>\n",
       "    </tr>\n",
       "    <tr>\n",
       "      <th>3</th>\n",
       "      <td>macro avg</td>\n",
       "      <td>0.783200</td>\n",
       "      <td>0.671376</td>\n",
       "      <td>0.712773</td>\n",
       "      <td>6436.000000</td>\n",
       "    </tr>\n",
       "    <tr>\n",
       "      <th>4</th>\n",
       "      <td>weighted avg</td>\n",
       "      <td>0.977638</td>\n",
       "      <td>0.981044</td>\n",
       "      <td>0.978715</td>\n",
       "      <td>6436.000000</td>\n",
       "    </tr>\n",
       "  </tbody>\n",
       "</table>\n",
       "</div>"
      ],
      "text/plain": [
       "          index  precision    recall  f1-score      support\n",
       "0             0   0.986153  0.994604  0.990360  6301.000000\n",
       "1             1   0.580247  0.348148  0.435185   135.000000\n",
       "2      accuracy   0.981044  0.981044  0.981044     0.981044\n",
       "3     macro avg   0.783200  0.671376  0.712773  6436.000000\n",
       "4  weighted avg   0.977638  0.981044  0.978715  6436.000000"
      ]
     },
     "execution_count": 62,
     "metadata": {},
     "output_type": "execute_result"
    }
   ],
   "source": [
    "report_df = pd.DataFrame(report_test).transpose()\n",
    "report_df = report_df.reset_index()\n",
    "model_eval  = report_df[report_df['index'].str.contains('1')][['precision','recall','f1-score']]\n",
    "model_eval['accuracy']  = list(report_df[report_df['index'].str.contains('accuracy')]['support'])\n",
    "report_df"
   ]
  },
  {
   "cell_type": "code",
   "execution_count": 63,
   "metadata": {
    "colab": {
     "base_uri": "https://localhost:8080/",
     "height": 704
    },
    "id": "fpBlCLxd8u-w",
    "outputId": "51293998-8701-4c3c-b291-d7d5434ae05b"
   },
   "outputs": [
    {
     "data": {
      "image/png": "[encoded data removed]",
      "text/plain": [
       "<Figure size 1440x864 with 2 Axes>"
      ]
     },
     "metadata": {},
     "output_type": "display_data"
    }
   ],
   "source": [
    "y = [i.argmax() for i in y_test]\n",
    "pred = [i.argmax() for i in Best_Predict_Test]\n",
    "cf_matrix_test = confusion_matrix(y, pred)\n",
    "make_confusion_matrix_chart2(cf_matrix_test, ocean + 'vanilla_cm_gan')"
   ]
  },
  {
   "cell_type": "code",
   "execution_count": 64,
   "metadata": {
    "colab": {
     "base_uri": "https://localhost:8080/"
    },
    "id": "O3Y2hzYGntwv",
    "outputId": "92babd40-e794-4857-efa8-a68aa8ee5e35"
   },
   "outputs": [
    {
     "data": {
      "text/plain": [
       "0.981044126786824"
      ]
     },
     "execution_count": 64,
     "metadata": {},
     "output_type": "execute_result"
    }
   ],
   "source": [
    "f1_score(y, pred, average=\"micro\")"
   ]
  },
  {
   "cell_type": "code",
   "execution_count": 65,
   "metadata": {
    "colab": {
     "base_uri": "https://localhost:8080/"
    },
    "id": "dEC873wIn15P",
    "outputId": "c21308e4-583b-4cfa-da6e-3c5d5e026a9e"
   },
   "outputs": [
    {
     "name": "stdout",
     "output_type": "stream",
     "text": [
      "0.9862 & 0.9946 & 0.9904 & 6301.0 & \n",
      "0.5802 & 0.3481 & 0.4352 & 135.0 & \n",
      "0.981 & 0.981 & 0.981 & 0.981 & \n",
      "0.7832 & 0.6714 & 0.7128 & 6436.0 & \n",
      "0.9776 & 0.981 & 0.9787 & 6436.0 & \n"
     ]
    }
   ],
   "source": [
    "for i in range(report_df.shape[0]):\n",
    "  tmp=\"\"\n",
    "  for j in ['precision', 'recall', 'f1-score', 'support']:\n",
    "    tmp=tmp+ str(round(report_df[j][i],4)) + \" & \"\n",
    "  print(tmp)"
   ]
  },
  {
   "cell_type": "code",
   "execution_count": 66,
   "metadata": {
    "id": "ctVD6IeccA0r"
   },
   "outputs": [],
   "source": [
    "torch.cuda.empty_cache()"
   ]
  },
  {
   "cell_type": "code",
   "execution_count": 67,
   "metadata": {
    "colab": {
     "base_uri": "https://localhost:8080/"
    },
    "id": "sXeG9Q4T8sXY",
    "outputId": "7c58934c-0980-465a-9f18-91d1881dc86f"
   },
   "outputs": [
    {
     "name": "stdout",
     "output_type": "stream",
     "text": [
      "28892 15017 28892\n"
     ]
    }
   ],
   "source": [
    "x_shuffled = X_smote\n",
    "y_shuffled = Y_smote\n",
    "print(len(x_shuffled), len(X), len(y_shuffled)) \n",
    "t2 = np.asarray(x_shuffled).shape\n",
    "X_oversampled = torch.from_numpy(np.asarray(x_shuffled))"
   ]
  },
  {
   "cell_type": "code",
   "execution_count": 68,
   "metadata": {
    "id": "kU8ddMHk8saz"
   },
   "outputs": [],
   "source": [
    "def get_generator_block(input_dim, output_dim):\n",
    "    return nn.Sequential(\n",
    "        nn.Linear(input_dim, output_dim),\n",
    "        nn.BatchNorm1d(output_dim),\n",
    "        nn.ReLU(inplace=True),\n",
    "    )\n",
    "class Generator(nn.Module):\n",
    "\n",
    "    def __init__(self, z_dim=t2[1], im_dim=t2[1], hidden_dim=128):\n",
    "        super(Generator, self).__init__()\n",
    "        self.gen = nn.Sequential(\n",
    "            get_generator_block(z_dim, hidden_dim),\n",
    "            get_generator_block(hidden_dim, hidden_dim * 2),\n",
    "            get_generator_block(hidden_dim * 2, hidden_dim * 4),\n",
    "            get_generator_block(hidden_dim * 4, hidden_dim * 8),\n",
    "            nn.Linear(hidden_dim * 8, im_dim),\n",
    "            nn.Sigmoid()\n",
    "        )\n",
    "    def forward(self, noise):\n",
    "        return self.gen(noise)\n",
    "    \n",
    "    \n",
    "    def get_gen(self):\n",
    "\n",
    "        return self.gen\n",
    "def get_discriminator_block(input_dim, output_dim):\n",
    "    return nn.Sequential(\n",
    "        nn.Linear(input_dim, output_dim),\n",
    "        nn.LeakyReLU(0.2, inplace=True)        \n",
    "    )\n",
    "class Discriminator(nn.Module):\n",
    "    def __init__(self, im_dim=t2[1], hidden_dim=128):\n",
    "        super(Discriminator, self).__init__()\n",
    "        self.disc = nn.Sequential(\n",
    "            get_discriminator_block(im_dim, hidden_dim * 4),\n",
    "            get_discriminator_block(hidden_dim * 4, hidden_dim * 2),\n",
    "            get_discriminator_block(hidden_dim * 2, hidden_dim),\n",
    "            nn.Linear(hidden_dim, 1)\n",
    "        )\n",
    "\n",
    "    def forward(self, image):\n",
    "\n",
    "        return self.disc(image)\n",
    "    \n",
    "    def get_disc(self):\n",
    "\n",
    "        return self.dis\n",
    "def get_noise(n_samples, z_dim, device='cuda'):\n",
    "\n",
    "    return torch.randn(n_samples,z_dim,device=device) "
   ]
  },
  {
   "cell_type": "code",
   "execution_count": 69,
   "metadata": {
    "id": "xhhj1feF8sd5"
   },
   "outputs": [],
   "source": [
    "criterion = nn.BCEWithLogitsLoss()\n",
    "n_epochs = 1000\n",
    "z_dim = t2[1]\n",
    "batch_size = 128\n",
    "lr = 0.00001\n",
    "display_step = 1\n",
    "device = 'cpu'\n",
    "gen = Generator(z_dim).to(device)\n",
    "gen_opt = torch.optim.Adam(gen.parameters(), lr=lr)\n",
    "disc = Discriminator().to(device) \n",
    "disc_opt = torch.optim.Adam(disc.parameters(), lr=lr)"
   ]
  },
  {
   "cell_type": "code",
   "execution_count": 70,
   "metadata": {
    "id": "87NodJ5e8shn"
   },
   "outputs": [],
   "source": [
    "def get_disc_loss(gen, disc, criterion, real, num_images, z_dim, device):\n",
    "\n",
    "    fake_noise = get_noise(num_images, z_dim, device=device)\n",
    "    fake = gen(fake_noise)\n",
    "    disc_fake_pred = disc(fake.detach())\n",
    "    disc_fake_loss = criterion(disc_fake_pred, torch.zeros_like(disc_fake_pred))\n",
    "    disc_real_pred = disc(real)\n",
    "    disc_real_loss = criterion(disc_real_pred, torch.ones_like(disc_real_pred))\n",
    "    disc_loss = (disc_fake_loss + disc_real_loss) / 2\n",
    "\n",
    "    return disc_loss\n",
    "\n",
    "def get_gen_loss(gen, disc, criterion, num_images, z_dim, device):\n",
    "\n",
    "    fake_noise = get_noise(num_images, z_dim, device=device)\n",
    "    fake = gen(fake_noise)\n",
    "    disc_fake_pred = disc(fake)\n",
    "    gen_loss = criterion(disc_fake_pred, torch.ones_like(disc_fake_pred))\n",
    "    return gen_loss"
   ]
  },
  {
   "cell_type": "code",
   "execution_count": 71,
   "metadata": {
    "colab": {
     "base_uri": "https://localhost:8080/"
    },
    "id": "MTQWHOcG8skX",
    "outputId": "69bb000e-9df9-4aa4-c08e-7bd33cd39079"
   },
   "outputs": [
    {
     "name": "stdout",
     "output_type": "stream",
     "text": [
      "28892 14446\n"
     ]
    }
   ],
   "source": [
    "li=[]\n",
    "for i in range(len(y_shuffled)):\n",
    "    if int(y_shuffled[i])==1:\n",
    "        li.append(x_shuffled[i])\n",
    "        \n",
    "print(len(y_shuffled), len(li))\n",
    "\n",
    "X_real=np.array(li)\n",
    "t3=X_real.shape\n",
    "li2=[1]*(t3[0])\n",
    "y_real=np.array(li2)\n",
    "y_real.shape\n",
    "\n",
    "from torch.utils.data import TensorDataset, DataLoader\n",
    "tensor_x = torch.Tensor(X_real) \n",
    "tensor_y = torch.Tensor(y_real)\n",
    "my_dataset = TensorDataset(tensor_x,tensor_y)\n",
    "dataloader = DataLoader(\n",
    "    my_dataset,\n",
    "    batch_size=batch_size,\n",
    "    shuffle=True)\n",
    "\n",
    "cur_step = 0\n",
    "mean_generator_loss = 0\n",
    "mean_discriminator_loss = 0\n",
    "test_generator = True \n",
    "gen_loss = False\n",
    "error = False"
   ]
  },
  {
   "cell_type": "code",
   "execution_count": 72,
   "metadata": {
    "colab": {
     "base_uri": "https://localhost:8080/"
    },
    "id": "SVabikGR8snW",
    "outputId": "59e0a0bd-676d-4d5b-811f-85cb3dad530e"
   },
   "outputs": [
    {
     "name": "stdout",
     "output_type": "stream",
     "text": [
      "14446\n"
     ]
    }
   ],
   "source": [
    "samples_to_generate = X_oversampled.shape[0]-X_real.shape[0]\n",
    "print(samples_to_generate)\n",
    "\n",
    "#epochs = [100,500,1000,2000,3000,4000,5000]\n",
    "epochs = [2000]\n",
    "\n",
    "smote_gan_data = dict()"
   ]
  },
  {
   "cell_type": "code",
   "execution_count": 73,
   "metadata": {
    "colab": {
     "base_uri": "https://localhost:8080/"
    },
    "id": "iI-RdEy98srF",
    "outputId": "a49daa9a-6a7f-41ca-c00d-fdada3871a71"
   },
   "outputs": [
    {
     "name": "stdout",
     "output_type": "stream",
     "text": [
      "no of epochs:  2000\n",
      "Epoch 0: Step 0: Generator loss: 0.7347007989883423, discriminator loss: 0.6949118375778198\n",
      "Epoch 0: Step 1: Generator loss: 1.469479262828827, discriminator loss: 1.3897688388824463\n",
      "Epoch 0: Step 2: Generator loss: 0.7346934676170349, discriminator loss: 0.6945462226867676\n",
      "Epoch 0: Step 3: Generator loss: 0.7345662117004395, discriminator loss: 0.694498598575592\n",
      "Epoch 0: Step 4: Generator loss: 0.7345219254493713, discriminator loss: 0.6943708658218384\n",
      "Epoch 0: Step 5: Generator loss: 0.7343059182167053, discriminator loss: 0.6940597295761108\n",
      "Epoch 0: Step 6: Generator loss: 0.7341628074645996, discriminator loss: 0.6941660046577454\n",
      "Epoch 0: Step 7: Generator loss: 0.7340083122253418, discriminator loss: 0.694237470626831\n",
      "Epoch 0: Step 8: Generator loss: 0.7338768243789673, discriminator loss: 0.6940128803253174\n",
      "Epoch 0: Step 9: Generator loss: 0.7337404489517212, discriminator loss: 0.6940609812736511\n",
      "Epoch 0: Step 10: Generator loss: 0.733531653881073, discriminator loss: 0.6937648057937622\n",
      "Epoch 0: Step 11: Generator loss: 0.7334017157554626, discriminator loss: 0.6938890218734741\n",
      "Epoch 0: Step 12: Generator loss: 0.7333118915557861, discriminator loss: 0.6937806606292725\n",
      "Epoch 0: Step 13: Generator loss: 0.7332311868667603, discriminator loss: 0.6936901807785034\n",
      "Epoch 0: Step 14: Generator loss: 0.7331184148788452, discriminator loss: 0.6935036182403564\n",
      "Epoch 0: Step 15: Generator loss: 0.7330232262611389, discriminator loss: 0.6935701370239258\n",
      "Epoch 0: Step 16: Generator loss: 0.7329268455505371, discriminator loss: 0.6934572458267212\n",
      "Epoch 0: Step 17: Generator loss: 0.7328202128410339, discriminator loss: 0.6934270262718201\n",
      "Epoch 0: Step 18: Generator loss: 0.7327607274055481, discriminator loss: 0.6933544874191284\n",
      "Epoch 0: Step 19: Generator loss: 0.73269122838974, discriminator loss: 0.6932963728904724\n",
      "Epoch 0: Step 20: Generator loss: 0.7327547669410706, discriminator loss: 0.6931672692298889\n",
      "Epoch 0: Step 21: Generator loss: 0.7326880693435669, discriminator loss: 0.6932529807090759\n",
      "Epoch 0: Step 22: Generator loss: 0.7324098348617554, discriminator loss: 0.6930670738220215\n",
      "Epoch 0: Step 23: Generator loss: 0.7324103116989136, discriminator loss: 0.6930760741233826\n",
      "Epoch 0: Step 24: Generator loss: 0.7322742342948914, discriminator loss: 0.6929432153701782\n",
      "Epoch 0: Step 25: Generator loss: 0.732323944568634, discriminator loss: 0.6928901672363281\n",
      "Epoch 0: Step 26: Generator loss: 0.732449471950531, discriminator loss: 0.692918598651886\n",
      "Epoch 0: Step 27: Generator loss: 0.7323659658432007, discriminator loss: 0.6928917765617371\n",
      "Epoch 0: Step 28: Generator loss: 0.7321980595588684, discriminator loss: 0.6927783489227295\n",
      "Epoch 0: Step 29: Generator loss: 0.7321397066116333, discriminator loss: 0.6926190853118896\n",
      "Epoch 0: Step 30: Generator loss: 0.7321652770042419, discriminator loss: 0.6928816437721252\n",
      "Epoch 0: Step 31: Generator loss: 0.7321501970291138, discriminator loss: 0.6925392746925354\n",
      "Epoch 0: Step 32: Generator loss: 0.7320204973220825, discriminator loss: 0.692704439163208\n",
      "Epoch 0: Step 33: Generator loss: 0.7318962216377258, discriminator loss: 0.6925944089889526\n",
      "Epoch 0: Step 34: Generator loss: 0.7317763566970825, discriminator loss: 0.6924291253089905\n",
      "Epoch 0: Step 35: Generator loss: 0.7315667271614075, discriminator loss: 0.6925908327102661\n",
      "Epoch 0: Step 36: Generator loss: 0.7316223978996277, discriminator loss: 0.6924538612365723\n",
      "Epoch 0: Step 37: Generator loss: 0.7315943241119385, discriminator loss: 0.6925304532051086\n",
      "Epoch 0: Step 38: Generator loss: 0.7312732338905334, discriminator loss: 0.6923485994338989\n",
      "Epoch 0: Step 39: Generator loss: 0.7311832308769226, discriminator loss: 0.6925207376480103\n",
      "Epoch 0: Step 40: Generator loss: 0.7311117649078369, discriminator loss: 0.6921272873878479\n",
      "Epoch 0: Step 41: Generator loss: 0.7310832738876343, discriminator loss: 0.6923940181732178\n",
      "Epoch 0: Step 42: Generator loss: 0.7306888699531555, discriminator loss: 0.692160964012146\n",
      "Epoch 0: Step 43: Generator loss: 0.7310476899147034, discriminator loss: 0.691881537437439\n",
      "Epoch 0: Step 44: Generator loss: 0.7306554913520813, discriminator loss: 0.6919982433319092\n",
      "Epoch 0: Step 45: Generator loss: 0.7304337024688721, discriminator loss: 0.6923179626464844\n",
      "Epoch 0: Step 46: Generator loss: 0.7304033041000366, discriminator loss: 0.6919984221458435\n",
      "Epoch 0: Step 47: Generator loss: 0.7302604913711548, discriminator loss: 0.6922917366027832\n",
      "Epoch 0: Step 48: Generator loss: 0.73016756772995, discriminator loss: 0.6921643018722534\n",
      "Epoch 0: Step 49: Generator loss: 0.7300121784210205, discriminator loss: 0.6921586990356445\n",
      "Epoch 0: Step 50: Generator loss: 0.7295863628387451, discriminator loss: 0.691989541053772\n",
      "Epoch 0: Step 51: Generator loss: 0.7294434905052185, discriminator loss: 0.6914809942245483\n",
      "Epoch 0: Step 52: Generator loss: 0.7291697263717651, discriminator loss: 0.6918908357620239\n",
      "Epoch 0: Step 53: Generator loss: 0.7291206121444702, discriminator loss: 0.6920421123504639\n",
      "Epoch 0: Step 54: Generator loss: 0.7287662625312805, discriminator loss: 0.6917730569839478\n",
      "Epoch 0: Step 55: Generator loss: 0.7286378145217896, discriminator loss: 0.6918560266494751\n",
      "Epoch 0: Step 56: Generator loss: 0.7284039855003357, discriminator loss: 0.6918666362762451\n",
      "Epoch 0: Step 57: Generator loss: 0.7283146977424622, discriminator loss: 0.6911807060241699\n",
      "Epoch 0: Step 58: Generator loss: 0.7279778718948364, discriminator loss: 0.691765546798706\n",
      "Epoch 0: Step 59: Generator loss: 0.7277548909187317, discriminator loss: 0.6913127899169922\n",
      "Epoch 0: Step 60: Generator loss: 0.7275235652923584, discriminator loss: 0.6916650533676147\n",
      "Epoch 0: Step 61: Generator loss: 0.7271909713745117, discriminator loss: 0.6916528940200806\n",
      "Epoch 0: Step 62: Generator loss: 0.7271496057510376, discriminator loss: 0.691545844078064\n",
      "Epoch 0: Step 63: Generator loss: 0.7270817160606384, discriminator loss: 0.6917720437049866\n",
      "Epoch 0: Step 64: Generator loss: 0.7265322208404541, discriminator loss: 0.6917628645896912\n",
      "Epoch 0: Step 65: Generator loss: 0.726417601108551, discriminator loss: 0.6912685632705688\n",
      "Epoch 0: Step 66: Generator loss: 0.7261028289794922, discriminator loss: 0.691476583480835\n",
      "Epoch 0: Step 67: Generator loss: 0.7259145379066467, discriminator loss: 0.6915549039840698\n",
      "Epoch 0: Step 68: Generator loss: 0.7256917953491211, discriminator loss: 0.6918201446533203\n",
      "Epoch 0: Step 69: Generator loss: 0.7253920435905457, discriminator loss: 0.6920520663261414\n",
      "Epoch 0: Step 70: Generator loss: 0.7250951528549194, discriminator loss: 0.6918147802352905\n",
      "Epoch 0: Step 71: Generator loss: 0.7250770330429077, discriminator loss: 0.6919481754302979\n",
      "Epoch 0: Step 72: Generator loss: 0.7246044874191284, discriminator loss: 0.6912094354629517\n",
      "Epoch 0: Step 73: Generator loss: 0.7244410514831543, discriminator loss: 0.6913553476333618\n",
      "Epoch 0: Step 74: Generator loss: 0.7243287563323975, discriminator loss: 0.6910306811332703\n",
      "Epoch 0: Step 75: Generator loss: 0.7239928841590881, discriminator loss: 0.6911172270774841\n",
      "Epoch 0: Step 76: Generator loss: 0.7237181067466736, discriminator loss: 0.6921641826629639\n",
      "Epoch 0: Step 77: Generator loss: 0.7235751748085022, discriminator loss: 0.6913608312606812\n",
      "Epoch 0: Step 78: Generator loss: 0.7234233617782593, discriminator loss: 0.6914476156234741\n",
      "Epoch 0: Step 79: Generator loss: 0.7230150103569031, discriminator loss: 0.6917667388916016\n",
      "Epoch 0: Step 80: Generator loss: 0.7227618098258972, discriminator loss: 0.6916621923446655\n",
      "Epoch 0: Step 81: Generator loss: 0.7225382328033447, discriminator loss: 0.6912431716918945\n",
      "Epoch 0: Step 82: Generator loss: 0.7222863435745239, discriminator loss: 0.691606879234314\n",
      "Epoch 0: Step 83: Generator loss: 0.7219853401184082, discriminator loss: 0.6911606788635254\n",
      "Epoch 0: Step 84: Generator loss: 0.7216684222221375, discriminator loss: 0.6910560131072998\n",
      "Epoch 0: Step 85: Generator loss: 0.7215484976768494, discriminator loss: 0.6906315088272095\n",
      "Epoch 0: Step 86: Generator loss: 0.7212438583374023, discriminator loss: 0.691516101360321\n",
      "Epoch 0: Step 87: Generator loss: 0.721187174320221, discriminator loss: 0.6917016506195068\n",
      "Epoch 0: Step 88: Generator loss: 0.7209476232528687, discriminator loss: 0.6910284757614136\n",
      "Epoch 0: Step 89: Generator loss: 0.7206337451934814, discriminator loss: 0.6914503574371338\n",
      "Epoch 0: Step 90: Generator loss: 0.7203538417816162, discriminator loss: 0.6916995048522949\n",
      "Epoch 0: Step 91: Generator loss: 0.7201886773109436, discriminator loss: 0.691757321357727\n",
      "Epoch 0: Step 92: Generator loss: 0.7198099493980408, discriminator loss: 0.6910237669944763\n",
      "Epoch 0: Step 93: Generator loss: 0.7195972800254822, discriminator loss: 0.6912187337875366\n",
      "Epoch 0: Step 94: Generator loss: 0.7191841006278992, discriminator loss: 0.6912908554077148\n",
      "Epoch 0: Step 95: Generator loss: 0.7189854979515076, discriminator loss: 0.6913591027259827\n",
      "Epoch 0: Step 96: Generator loss: 0.7188781499862671, discriminator loss: 0.6919234991073608\n",
      "Epoch 0: Step 97: Generator loss: 0.7186017632484436, discriminator loss: 0.6909484267234802\n",
      "Epoch 0: Step 98: Generator loss: 0.7179456949234009, discriminator loss: 0.6915295124053955\n",
      "Epoch 0: Step 99: Generator loss: 0.7179135680198669, discriminator loss: 0.6916046142578125\n",
      "Epoch 0: Step 100: Generator loss: 0.7178241610527039, discriminator loss: 0.6917790174484253\n",
      "Epoch 0: Step 101: Generator loss: 0.7171503901481628, discriminator loss: 0.6913421154022217\n",
      "Epoch 0: Step 102: Generator loss: 0.7169537544250488, discriminator loss: 0.6918471455574036\n",
      "Epoch 0: Step 103: Generator loss: 0.7166643738746643, discriminator loss: 0.6924320459365845\n",
      "Epoch 0: Step 104: Generator loss: 0.716141402721405, discriminator loss: 0.6922569274902344\n",
      "Epoch 0: Step 105: Generator loss: 0.715825080871582, discriminator loss: 0.6915159225463867\n",
      "Epoch 0: Step 106: Generator loss: 0.7152894735336304, discriminator loss: 0.6924557685852051\n",
      "Epoch 0: Step 107: Generator loss: 0.7147852182388306, discriminator loss: 0.6912083625793457\n",
      "Epoch 0: Step 108: Generator loss: 0.714354932308197, discriminator loss: 0.6921813488006592\n",
      "Epoch 0: Step 109: Generator loss: 0.7140803337097168, discriminator loss: 0.6917506456375122\n",
      "Epoch 0: Step 110: Generator loss: 0.7139146327972412, discriminator loss: 0.6926037073135376\n",
      "Epoch 0: Step 111: Generator loss: 0.7131971120834351, discriminator loss: 0.6925681829452515\n",
      "Epoch 0: Step 112: Generator loss: 0.7126598954200745, discriminator loss: 0.6929914951324463\n",
      "Epoch 500: Step 56500: Generator loss: 0.6924116611480713, discriminator loss: 0.6927951574325562\n",
      "Epoch 500: Step 56501: Generator loss: 0.6925030946731567, discriminator loss: 0.6929308176040649\n",
      "Epoch 500: Step 56502: Generator loss: 0.692257285118103, discriminator loss: 0.6929052472114563\n",
      "Epoch 500: Step 56503: Generator loss: 0.6926261186599731, discriminator loss: 0.6929503679275513\n",
      "Epoch 500: Step 56504: Generator loss: 0.6926437020301819, discriminator loss: 0.6931594610214233\n",
      "Epoch 500: Step 56505: Generator loss: 0.6927931904792786, discriminator loss: 0.6933253407478333\n",
      "Epoch 500: Step 56506: Generator loss: 0.6930187344551086, discriminator loss: 0.6929007172584534\n",
      "Epoch 500: Step 56507: Generator loss: 0.6931226253509521, discriminator loss: 0.6932663917541504\n",
      "Epoch 500: Step 56508: Generator loss: 0.6935847997665405, discriminator loss: 0.6931325197219849\n",
      "Epoch 500: Step 56509: Generator loss: 0.6935557126998901, discriminator loss: 0.6934115290641785\n",
      "Epoch 500: Step 56510: Generator loss: 0.6935145854949951, discriminator loss: 0.693144679069519\n",
      "Epoch 500: Step 56511: Generator loss: 0.6938204765319824, discriminator loss: 0.6933203935623169\n",
      "Epoch 500: Step 56512: Generator loss: 0.6942621469497681, discriminator loss: 0.6934099793434143\n",
      "Epoch 500: Step 56513: Generator loss: 0.6943374276161194, discriminator loss: 0.692961573600769\n",
      "Epoch 500: Step 56514: Generator loss: 0.6943356394767761, discriminator loss: 0.6930667161941528\n",
      "Epoch 500: Step 56515: Generator loss: 0.6946591138839722, discriminator loss: 0.6934278011322021\n",
      "Epoch 500: Step 56516: Generator loss: 0.6947610974311829, discriminator loss: 0.6932335495948792\n",
      "Epoch 500: Step 56517: Generator loss: 0.6948705911636353, discriminator loss: 0.6931281089782715\n",
      "Epoch 500: Step 56518: Generator loss: 0.6950320601463318, discriminator loss: 0.6933895945549011\n",
      "Epoch 500: Step 56519: Generator loss: 0.6954156756401062, discriminator loss: 0.6932459473609924\n",
      "Epoch 500: Step 56520: Generator loss: 0.6953075528144836, discriminator loss: 0.6931725144386292\n",
      "Epoch 500: Step 56521: Generator loss: 0.6955345273017883, discriminator loss: 0.6932200789451599\n",
      "Epoch 500: Step 56522: Generator loss: 0.6956126093864441, discriminator loss: 0.6934356689453125\n",
      "Epoch 500: Step 56523: Generator loss: 0.6957520842552185, discriminator loss: 0.6934495568275452\n",
      "Epoch 500: Step 56524: Generator loss: 0.695996880531311, discriminator loss: 0.6933826208114624\n",
      "Epoch 500: Step 56525: Generator loss: 0.6960923671722412, discriminator loss: 0.6932927370071411\n",
      "Epoch 500: Step 56526: Generator loss: 0.696160078048706, discriminator loss: 0.6930897235870361\n",
      "Epoch 500: Step 56527: Generator loss: 0.6962019801139832, discriminator loss: 0.6934787034988403\n",
      "Epoch 500: Step 56528: Generator loss: 0.6963958740234375, discriminator loss: 0.6934038400650024\n",
      "Epoch 500: Step 56529: Generator loss: 0.6965856552124023, discriminator loss: 0.69324791431427\n",
      "Epoch 500: Step 56530: Generator loss: 0.6966053247451782, discriminator loss: 0.6935256719589233\n",
      "Epoch 500: Step 56531: Generator loss: 0.6967740654945374, discriminator loss: 0.6934103965759277\n",
      "Epoch 500: Step 56532: Generator loss: 0.6968432664871216, discriminator loss: 0.6934323310852051\n",
      "Epoch 500: Step 56533: Generator loss: 0.6968072652816772, discriminator loss: 0.69350266456604\n",
      "Epoch 500: Step 56534: Generator loss: 0.6968895792961121, discriminator loss: 0.6934830546379089\n",
      "Epoch 500: Step 56535: Generator loss: 0.6969226002693176, discriminator loss: 0.6935602426528931\n",
      "Epoch 500: Step 56536: Generator loss: 0.6970252990722656, discriminator loss: 0.6936068534851074\n",
      "Epoch 500: Step 56537: Generator loss: 0.6971880793571472, discriminator loss: 0.6936219930648804\n",
      "Epoch 500: Step 56538: Generator loss: 0.6973642706871033, discriminator loss: 0.6935210227966309\n",
      "Epoch 500: Step 56539: Generator loss: 0.6973702907562256, discriminator loss: 0.6934507489204407\n",
      "Epoch 500: Step 56540: Generator loss: 0.6976110339164734, discriminator loss: 0.6935740113258362\n",
      "Epoch 500: Step 56541: Generator loss: 0.6978375315666199, discriminator loss: 0.6935445070266724\n",
      "Epoch 500: Step 56542: Generator loss: 0.6979716420173645, discriminator loss: 0.6935814619064331\n",
      "Epoch 500: Step 56543: Generator loss: 0.698178231716156, discriminator loss: 0.693564772605896\n",
      "Epoch 500: Step 56544: Generator loss: 0.6983727812767029, discriminator loss: 0.6935376524925232\n",
      "Epoch 500: Step 56545: Generator loss: 0.6985277533531189, discriminator loss: 0.6935231685638428\n",
      "Epoch 500: Step 56546: Generator loss: 0.6986216902732849, discriminator loss: 0.693496823310852\n",
      "Epoch 500: Step 56547: Generator loss: 0.6987649202346802, discriminator loss: 0.6935852766036987\n",
      "Epoch 500: Step 56548: Generator loss: 0.6989412903785706, discriminator loss: 0.6934863328933716\n",
      "Epoch 500: Step 56549: Generator loss: 0.6990995407104492, discriminator loss: 0.6935155987739563\n",
      "Epoch 500: Step 56550: Generator loss: 0.699241042137146, discriminator loss: 0.6934624314308167\n",
      "Epoch 500: Step 56551: Generator loss: 0.6993862390518188, discriminator loss: 0.6935967803001404\n",
      "Epoch 500: Step 56552: Generator loss: 0.699455738067627, discriminator loss: 0.6935157775878906\n",
      "Epoch 500: Step 56553: Generator loss: 0.6996347308158875, discriminator loss: 0.6935599446296692\n",
      "Epoch 500: Step 56554: Generator loss: 0.6997602581977844, discriminator loss: 0.6935218572616577\n",
      "Epoch 500: Step 56555: Generator loss: 0.6998940706253052, discriminator loss: 0.6935122609138489\n",
      "Epoch 500: Step 56556: Generator loss: 0.7000291347503662, discriminator loss: 0.6934695243835449\n",
      "Epoch 500: Step 56557: Generator loss: 0.7002134919166565, discriminator loss: 0.6935231685638428\n",
      "Epoch 500: Step 56558: Generator loss: 0.7003574371337891, discriminator loss: 0.6934875249862671\n",
      "Epoch 500: Step 56559: Generator loss: 0.7005389928817749, discriminator loss: 0.6934817433357239\n",
      "Epoch 500: Step 56560: Generator loss: 0.7005988955497742, discriminator loss: 0.6934256553649902\n",
      "Epoch 500: Step 56561: Generator loss: 0.7007299661636353, discriminator loss: 0.6934337615966797\n",
      "Epoch 500: Step 56562: Generator loss: 0.7007681727409363, discriminator loss: 0.6934105157852173\n",
      "Epoch 500: Step 56563: Generator loss: 0.7008268237113953, discriminator loss: 0.6934047937393188\n",
      "Epoch 500: Step 56564: Generator loss: 0.7009255290031433, discriminator loss: 0.6933550834655762\n",
      "Epoch 500: Step 56565: Generator loss: 0.7009466886520386, discriminator loss: 0.693325400352478\n",
      "Epoch 500: Step 56566: Generator loss: 0.7010721564292908, discriminator loss: 0.6932449340820312\n",
      "Epoch 500: Step 56567: Generator loss: 0.7011653184890747, discriminator loss: 0.6934031248092651\n",
      "Epoch 500: Step 56568: Generator loss: 0.7012146711349487, discriminator loss: 0.6932922601699829\n",
      "Epoch 500: Step 56569: Generator loss: 0.701255202293396, discriminator loss: 0.6933757662773132\n",
      "Epoch 500: Step 56570: Generator loss: 0.7012856006622314, discriminator loss: 0.6931500434875488\n",
      "Epoch 500: Step 56571: Generator loss: 0.7013777494430542, discriminator loss: 0.6932499408721924\n",
      "Epoch 500: Step 56572: Generator loss: 0.7014980316162109, discriminator loss: 0.6932429075241089\n",
      "Epoch 500: Step 56573: Generator loss: 0.7014425992965698, discriminator loss: 0.6933345198631287\n",
      "Epoch 500: Step 56574: Generator loss: 0.7015143036842346, discriminator loss: 0.6932745575904846\n",
      "Epoch 500: Step 56575: Generator loss: 0.7015473246574402, discriminator loss: 0.6930683851242065\n",
      "Epoch 500: Step 56576: Generator loss: 0.7016085982322693, discriminator loss: 0.6930989027023315\n",
      "Epoch 500: Step 56577: Generator loss: 0.7016945481300354, discriminator loss: 0.6930800676345825\n",
      "Epoch 500: Step 56578: Generator loss: 0.7017261981964111, discriminator loss: 0.693186342716217\n",
      "Epoch 500: Step 56579: Generator loss: 0.7016696333885193, discriminator loss: 0.6931095719337463\n",
      "Epoch 500: Step 56580: Generator loss: 0.7016200423240662, discriminator loss: 0.6931312084197998\n",
      "Epoch 500: Step 56581: Generator loss: 0.7016443610191345, discriminator loss: 0.6930280923843384\n",
      "Epoch 500: Step 56582: Generator loss: 0.7015936970710754, discriminator loss: 0.6930635571479797\n",
      "Epoch 500: Step 56583: Generator loss: 0.7016335129737854, discriminator loss: 0.6930340528488159\n",
      "Epoch 500: Step 56584: Generator loss: 0.7014875411987305, discriminator loss: 0.6931512355804443\n",
      "Epoch 500: Step 56585: Generator loss: 0.701419472694397, discriminator loss: 0.6929916739463806\n",
      "Epoch 500: Step 56586: Generator loss: 0.7012655735015869, discriminator loss: 0.6931461095809937\n",
      "Epoch 500: Step 56587: Generator loss: 0.7011532187461853, discriminator loss: 0.6929919719696045\n",
      "Epoch 500: Step 56588: Generator loss: 0.7011485695838928, discriminator loss: 0.6928480267524719\n",
      "Epoch 500: Step 56589: Generator loss: 0.7010480165481567, discriminator loss: 0.6928523182868958\n",
      "Epoch 500: Step 56590: Generator loss: 0.7010122537612915, discriminator loss: 0.6929081678390503\n",
      "Epoch 500: Step 56591: Generator loss: 0.7010084390640259, discriminator loss: 0.6927593350410461\n",
      "Epoch 500: Step 56592: Generator loss: 0.7009314298629761, discriminator loss: 0.6929218769073486\n",
      "Epoch 500: Step 56593: Generator loss: 0.7009466886520386, discriminator loss: 0.6928356885910034\n",
      "Epoch 500: Step 56594: Generator loss: 0.7009339332580566, discriminator loss: 0.6930515766143799\n",
      "Epoch 500: Step 56595: Generator loss: 0.7009727954864502, discriminator loss: 0.6929595470428467\n",
      "Epoch 500: Step 56596: Generator loss: 0.7007895708084106, discriminator loss: 0.6929546594619751\n",
      "Epoch 500: Step 56597: Generator loss: 0.7007795572280884, discriminator loss: 0.6928797960281372\n",
      "Epoch 500: Step 56598: Generator loss: 0.700639009475708, discriminator loss: 0.6928316354751587\n",
      "Epoch 500: Step 56599: Generator loss: 0.7006363272666931, discriminator loss: 0.6927750110626221\n",
      "Epoch 500: Step 56600: Generator loss: 0.7007243037223816, discriminator loss: 0.6926513910293579\n",
      "Epoch 500: Step 56601: Generator loss: 0.7007672190666199, discriminator loss: 0.6929218769073486\n",
      "Epoch 500: Step 56602: Generator loss: 0.7006356716156006, discriminator loss: 0.6929789781570435\n",
      "Epoch 500: Step 56603: Generator loss: 0.7007969617843628, discriminator loss: 0.6927947402000427\n",
      "Epoch 500: Step 56604: Generator loss: 0.7004531621932983, discriminator loss: 0.6928842067718506\n",
      "Epoch 500: Step 56605: Generator loss: 0.7006452679634094, discriminator loss: 0.6930711269378662\n",
      "Epoch 500: Step 56606: Generator loss: 0.700569748878479, discriminator loss: 0.6928362250328064\n",
      "Epoch 500: Step 56607: Generator loss: 0.7005358934402466, discriminator loss: 0.6926901340484619\n",
      "Epoch 500: Step 56608: Generator loss: 0.7005194425582886, discriminator loss: 0.6930669546127319\n",
      "Epoch 500: Step 56609: Generator loss: 0.7002966403961182, discriminator loss: 0.6928083896636963\n",
      "Epoch 500: Step 56610: Generator loss: 0.7002582550048828, discriminator loss: 0.6931576728820801\n",
      "Epoch 500: Step 56611: Generator loss: 0.7002827525138855, discriminator loss: 0.6929832100868225\n",
      "Epoch 500: Step 56612: Generator loss: 0.7001417875289917, discriminator loss: 0.6932438611984253\n",
      "Epoch 1000: Step 113000: Generator loss: 0.6959222555160522, discriminator loss: 0.6931797862052917\n",
      "Epoch 1000: Step 113001: Generator loss: 0.6958150863647461, discriminator loss: 0.6930252313613892\n",
      "Epoch 1000: Step 113002: Generator loss: 0.6957592368125916, discriminator loss: 0.6931469440460205\n",
      "Epoch 1000: Step 113003: Generator loss: 0.6957769393920898, discriminator loss: 0.6931037902832031\n",
      "Epoch 1000: Step 113004: Generator loss: 0.6957663297653198, discriminator loss: 0.6931133270263672\n",
      "Epoch 1000: Step 113005: Generator loss: 0.6956644058227539, discriminator loss: 0.6929837465286255\n",
      "Epoch 1000: Step 113006: Generator loss: 0.6957197189331055, discriminator loss: 0.6931527853012085\n",
      "Epoch 1000: Step 113007: Generator loss: 0.695720911026001, discriminator loss: 0.6932119727134705\n",
      "Epoch 1000: Step 113008: Generator loss: 0.6956131458282471, discriminator loss: 0.6931016445159912\n",
      "Epoch 1000: Step 113009: Generator loss: 0.6955763101577759, discriminator loss: 0.6930924654006958\n",
      "Epoch 1000: Step 113010: Generator loss: 0.6955846548080444, discriminator loss: 0.6931377053260803\n",
      "Epoch 1000: Step 113011: Generator loss: 0.6954430937767029, discriminator loss: 0.6931986808776855\n",
      "Epoch 1000: Step 113012: Generator loss: 0.6954879760742188, discriminator loss: 0.6931544542312622\n",
      "Epoch 1000: Step 113013: Generator loss: 0.6952640414237976, discriminator loss: 0.693195104598999\n",
      "Epoch 1000: Step 113014: Generator loss: 0.6951180696487427, discriminator loss: 0.6931020021438599\n",
      "Epoch 1000: Step 113015: Generator loss: 0.6952191591262817, discriminator loss: 0.6930248141288757\n",
      "Epoch 1000: Step 113016: Generator loss: 0.6950069665908813, discriminator loss: 0.6931967735290527\n",
      "Epoch 1000: Step 113017: Generator loss: 0.6948533654212952, discriminator loss: 0.6931079626083374\n",
      "Epoch 1000: Step 113018: Generator loss: 0.6948384046554565, discriminator loss: 0.6930282115936279\n",
      "Epoch 1000: Step 113019: Generator loss: 0.6946855783462524, discriminator loss: 0.6932324171066284\n",
      "Epoch 1000: Step 113020: Generator loss: 0.6946897506713867, discriminator loss: 0.693034827709198\n",
      "Epoch 1000: Step 113021: Generator loss: 0.6944240927696228, discriminator loss: 0.6931333541870117\n",
      "Epoch 1000: Step 113022: Generator loss: 0.694394588470459, discriminator loss: 0.6931137442588806\n",
      "Epoch 1000: Step 113023: Generator loss: 0.6942653059959412, discriminator loss: 0.6931401491165161\n",
      "Epoch 1000: Step 113024: Generator loss: 0.6941372156143188, discriminator loss: 0.6933258771896362\n",
      "Epoch 1000: Step 113025: Generator loss: 0.6941647529602051, discriminator loss: 0.6931699514389038\n",
      "Epoch 1000: Step 113026: Generator loss: 0.6940354108810425, discriminator loss: 0.6931659579277039\n",
      "Epoch 1000: Step 113027: Generator loss: 0.69379061460495, discriminator loss: 0.693143904209137\n",
      "Epoch 1000: Step 113028: Generator loss: 0.6935961246490479, discriminator loss: 0.693225085735321\n",
      "Epoch 1000: Step 113029: Generator loss: 0.6935750246047974, discriminator loss: 0.6931477785110474\n",
      "Epoch 1000: Step 113030: Generator loss: 0.6932550668716431, discriminator loss: 0.693272590637207\n",
      "Epoch 1000: Step 113031: Generator loss: 0.6930878162384033, discriminator loss: 0.6931875944137573\n",
      "Epoch 1000: Step 113032: Generator loss: 0.6928443312644958, discriminator loss: 0.6930978894233704\n",
      "Epoch 1000: Step 113033: Generator loss: 0.6927511692047119, discriminator loss: 0.6932611465454102\n",
      "Epoch 1000: Step 113034: Generator loss: 0.6924429535865784, discriminator loss: 0.6932071447372437\n",
      "Epoch 1000: Step 113035: Generator loss: 0.6922910213470459, discriminator loss: 0.6931447982788086\n",
      "Epoch 1000: Step 113036: Generator loss: 0.6921765804290771, discriminator loss: 0.6931805610656738\n",
      "Epoch 1000: Step 113037: Generator loss: 0.6920112371444702, discriminator loss: 0.6932491660118103\n",
      "Epoch 1000: Step 113038: Generator loss: 0.6918767690658569, discriminator loss: 0.693223237991333\n",
      "Epoch 1000: Step 113039: Generator loss: 0.6916152834892273, discriminator loss: 0.6932281255722046\n",
      "Epoch 1000: Step 113040: Generator loss: 0.6915434002876282, discriminator loss: 0.6931629776954651\n",
      "Epoch 1000: Step 113041: Generator loss: 0.6913497447967529, discriminator loss: 0.6931444406509399\n",
      "Epoch 1000: Step 113042: Generator loss: 0.6911810040473938, discriminator loss: 0.6931518912315369\n",
      "Epoch 1000: Step 113043: Generator loss: 0.6909784078598022, discriminator loss: 0.6931716203689575\n",
      "Epoch 1000: Step 113044: Generator loss: 0.6908693909645081, discriminator loss: 0.6932058930397034\n",
      "Epoch 1000: Step 113045: Generator loss: 0.6907579898834229, discriminator loss: 0.6932997107505798\n",
      "Epoch 1000: Step 113046: Generator loss: 0.690574586391449, discriminator loss: 0.6931982040405273\n",
      "Epoch 1000: Step 113047: Generator loss: 0.6903898119926453, discriminator loss: 0.6932454109191895\n",
      "Epoch 1000: Step 113048: Generator loss: 0.6902209520339966, discriminator loss: 0.6931930780410767\n",
      "Epoch 1000: Step 113049: Generator loss: 0.6900704503059387, discriminator loss: 0.6931957602500916\n",
      "Epoch 1000: Step 113050: Generator loss: 0.6898038983345032, discriminator loss: 0.6931626200675964\n",
      "Epoch 1000: Step 113051: Generator loss: 0.6896325945854187, discriminator loss: 0.6931799650192261\n",
      "Epoch 1000: Step 113052: Generator loss: 0.6894688606262207, discriminator loss: 0.6931816339492798\n",
      "Epoch 1000: Step 113053: Generator loss: 0.6892339587211609, discriminator loss: 0.6931393146514893\n",
      "Epoch 1000: Step 113054: Generator loss: 0.6891753673553467, discriminator loss: 0.6931571960449219\n",
      "Epoch 1000: Step 113055: Generator loss: 0.6888540387153625, discriminator loss: 0.6931182146072388\n",
      "Epoch 1000: Step 113056: Generator loss: 0.688773512840271, discriminator loss: 0.6932761669158936\n",
      "Epoch 1000: Step 113057: Generator loss: 0.688650369644165, discriminator loss: 0.6931605339050293\n",
      "Epoch 1000: Step 113058: Generator loss: 0.6885793209075928, discriminator loss: 0.693229079246521\n",
      "Epoch 1000: Step 113059: Generator loss: 0.6884583234786987, discriminator loss: 0.6931957006454468\n",
      "Epoch 1000: Step 113060: Generator loss: 0.688236653804779, discriminator loss: 0.6931443214416504\n",
      "Epoch 1000: Step 113061: Generator loss: 0.6880860328674316, discriminator loss: 0.6931260824203491\n",
      "Epoch 1000: Step 113062: Generator loss: 0.6878846883773804, discriminator loss: 0.6932393312454224\n",
      "Epoch 1000: Step 113063: Generator loss: 0.6877553462982178, discriminator loss: 0.693234920501709\n",
      "Epoch 1000: Step 113064: Generator loss: 0.6877033710479736, discriminator loss: 0.6930988430976868\n",
      "Epoch 1000: Step 113065: Generator loss: 0.6875358819961548, discriminator loss: 0.6931353807449341\n",
      "Epoch 1000: Step 113066: Generator loss: 0.6874174475669861, discriminator loss: 0.693107008934021\n",
      "Epoch 1000: Step 113067: Generator loss: 0.6872643828392029, discriminator loss: 0.6931518316268921\n",
      "Epoch 1000: Step 113068: Generator loss: 0.6871784925460815, discriminator loss: 0.6931014657020569\n",
      "Epoch 1000: Step 113069: Generator loss: 0.6870464086532593, discriminator loss: 0.6932762861251831\n",
      "Epoch 1000: Step 113070: Generator loss: 0.6868937015533447, discriminator loss: 0.6931657791137695\n",
      "Epoch 1000: Step 113071: Generator loss: 0.6868734955787659, discriminator loss: 0.6931135654449463\n",
      "Epoch 1000: Step 113072: Generator loss: 0.6868110299110413, discriminator loss: 0.6931944489479065\n",
      "Epoch 1000: Step 113073: Generator loss: 0.6868137717247009, discriminator loss: 0.69306880235672\n",
      "Epoch 1000: Step 113074: Generator loss: 0.6866292357444763, discriminator loss: 0.6932370662689209\n",
      "Epoch 1000: Step 113075: Generator loss: 0.6866520047187805, discriminator loss: 0.6933128833770752\n",
      "Epoch 1000: Step 113076: Generator loss: 0.686589777469635, discriminator loss: 0.6932772397994995\n",
      "Epoch 1000: Step 113077: Generator loss: 0.686651885509491, discriminator loss: 0.6930376291275024\n",
      "Epoch 1000: Step 113078: Generator loss: 0.6867192387580872, discriminator loss: 0.6930539608001709\n",
      "Epoch 1000: Step 113079: Generator loss: 0.6867241263389587, discriminator loss: 0.6932690143585205\n",
      "Epoch 1000: Step 113080: Generator loss: 0.686835765838623, discriminator loss: 0.6933044195175171\n",
      "Epoch 1000: Step 113081: Generator loss: 0.6867804527282715, discriminator loss: 0.6933087706565857\n",
      "Epoch 1000: Step 113082: Generator loss: 0.686853289604187, discriminator loss: 0.6929457187652588\n",
      "Epoch 1000: Step 113083: Generator loss: 0.6869710683822632, discriminator loss: 0.6931787729263306\n",
      "Epoch 1000: Step 113084: Generator loss: 0.687150776386261, discriminator loss: 0.6932721734046936\n",
      "Epoch 1000: Step 113085: Generator loss: 0.6871241331100464, discriminator loss: 0.6931552886962891\n",
      "Epoch 1000: Step 113086: Generator loss: 0.6872313618659973, discriminator loss: 0.6930915117263794\n",
      "Epoch 1000: Step 113087: Generator loss: 0.687263548374176, discriminator loss: 0.6931924223899841\n",
      "Epoch 1000: Step 113088: Generator loss: 0.6874106526374817, discriminator loss: 0.6933044195175171\n",
      "Epoch 1000: Step 113089: Generator loss: 0.6874853372573853, discriminator loss: 0.6933485269546509\n",
      "Epoch 1000: Step 113090: Generator loss: 0.6877272725105286, discriminator loss: 0.6932144165039062\n",
      "Epoch 1000: Step 113091: Generator loss: 0.6878848075866699, discriminator loss: 0.6932812929153442\n",
      "Epoch 1000: Step 113092: Generator loss: 0.6879981160163879, discriminator loss: 0.6931033134460449\n",
      "Epoch 1000: Step 113093: Generator loss: 0.6881694793701172, discriminator loss: 0.6931940913200378\n",
      "Epoch 1000: Step 113094: Generator loss: 0.6882849931716919, discriminator loss: 0.6931155920028687\n",
      "Epoch 1000: Step 113095: Generator loss: 0.688285768032074, discriminator loss: 0.6929758191108704\n",
      "Epoch 1000: Step 113096: Generator loss: 0.6884979009628296, discriminator loss: 0.693230926990509\n",
      "Epoch 1000: Step 113097: Generator loss: 0.6885547637939453, discriminator loss: 0.6930581331253052\n",
      "Epoch 1000: Step 113098: Generator loss: 0.6886695623397827, discriminator loss: 0.6931775808334351\n",
      "Epoch 1000: Step 113099: Generator loss: 0.6888467073440552, discriminator loss: 0.6932312846183777\n",
      "Epoch 1000: Step 113100: Generator loss: 0.6889342069625854, discriminator loss: 0.6931682229042053\n",
      "Epoch 1000: Step 113101: Generator loss: 0.6890250444412231, discriminator loss: 0.6930915117263794\n",
      "Epoch 1000: Step 113102: Generator loss: 0.6891489028930664, discriminator loss: 0.6932205557823181\n",
      "Epoch 1000: Step 113103: Generator loss: 0.6893739700317383, discriminator loss: 0.6930902004241943\n",
      "Epoch 1000: Step 113104: Generator loss: 0.6894005537033081, discriminator loss: 0.6931805610656738\n",
      "Epoch 1000: Step 113105: Generator loss: 0.6896228790283203, discriminator loss: 0.6931043863296509\n",
      "Epoch 1000: Step 113106: Generator loss: 0.689591646194458, discriminator loss: 0.6930299997329712\n",
      "Epoch 1000: Step 113107: Generator loss: 0.6897484660148621, discriminator loss: 0.6930752396583557\n",
      "Epoch 1000: Step 113108: Generator loss: 0.689755380153656, discriminator loss: 0.693108320236206\n",
      "Epoch 1000: Step 113109: Generator loss: 0.6899255514144897, discriminator loss: 0.6931842565536499\n",
      "Epoch 1000: Step 113110: Generator loss: 0.6900231838226318, discriminator loss: 0.6931266784667969\n",
      "Epoch 1000: Step 113111: Generator loss: 0.6902276277542114, discriminator loss: 0.6930513381958008\n",
      "Epoch 1000: Step 113112: Generator loss: 0.6902748942375183, discriminator loss: 0.6931283473968506\n",
      "Epoch 1500: Step 169500: Generator loss: 0.6970968246459961, discriminator loss: 0.6932380199432373\n",
      "Epoch 1500: Step 169501: Generator loss: 0.696831226348877, discriminator loss: 0.6933674216270447\n",
      "Epoch 1500: Step 169502: Generator loss: 0.6968026161193848, discriminator loss: 0.6932730078697205\n",
      "Epoch 1500: Step 169503: Generator loss: 0.6968042850494385, discriminator loss: 0.6932258605957031\n",
      "Epoch 1500: Step 169504: Generator loss: 0.6965759992599487, discriminator loss: 0.6934679746627808\n",
      "Epoch 1500: Step 169505: Generator loss: 0.6963853240013123, discriminator loss: 0.6931971311569214\n",
      "Epoch 1500: Step 169506: Generator loss: 0.6961208581924438, discriminator loss: 0.6932482719421387\n",
      "Epoch 1500: Step 169507: Generator loss: 0.6959693431854248, discriminator loss: 0.6932754516601562\n",
      "Epoch 1500: Step 169508: Generator loss: 0.695875883102417, discriminator loss: 0.6930863857269287\n",
      "Epoch 1500: Step 169509: Generator loss: 0.69577956199646, discriminator loss: 0.6931742429733276\n",
      "Epoch 1500: Step 169510: Generator loss: 0.6957158446311951, discriminator loss: 0.693292498588562\n",
      "Epoch 1500: Step 169511: Generator loss: 0.6955133676528931, discriminator loss: 0.6932968497276306\n",
      "Epoch 1500: Step 169512: Generator loss: 0.6954568028450012, discriminator loss: 0.693231999874115\n",
      "Epoch 1500: Step 169513: Generator loss: 0.6952376365661621, discriminator loss: 0.6932661533355713\n",
      "Epoch 1500: Step 169514: Generator loss: 0.695069432258606, discriminator loss: 0.6933144330978394\n",
      "Epoch 1500: Step 169515: Generator loss: 0.6949495673179626, discriminator loss: 0.69326251745224\n",
      "Epoch 1500: Step 169516: Generator loss: 0.6948098540306091, discriminator loss: 0.6932781934738159\n",
      "Epoch 1500: Step 169517: Generator loss: 0.6947054862976074, discriminator loss: 0.6931740045547485\n",
      "Epoch 1500: Step 169518: Generator loss: 0.6945822834968567, discriminator loss: 0.6932379007339478\n",
      "Epoch 1500: Step 169519: Generator loss: 0.6945605278015137, discriminator loss: 0.693168044090271\n",
      "Epoch 1500: Step 169520: Generator loss: 0.6943292021751404, discriminator loss: 0.6934080123901367\n",
      "Epoch 1500: Step 169521: Generator loss: 0.6942347288131714, discriminator loss: 0.6932681202888489\n",
      "Epoch 1500: Step 169522: Generator loss: 0.6941459774971008, discriminator loss: 0.6931926012039185\n",
      "Epoch 1500: Step 169523: Generator loss: 0.6939999461174011, discriminator loss: 0.6932999491691589\n",
      "Epoch 1500: Step 169524: Generator loss: 0.6938774585723877, discriminator loss: 0.6932629346847534\n",
      "Epoch 1500: Step 169525: Generator loss: 0.6937457323074341, discriminator loss: 0.6932753324508667\n",
      "Epoch 1500: Step 169526: Generator loss: 0.6936075687408447, discriminator loss: 0.6931988000869751\n",
      "Epoch 1500: Step 169527: Generator loss: 0.6935120820999146, discriminator loss: 0.6931850910186768\n",
      "Epoch 1500: Step 169528: Generator loss: 0.693365216255188, discriminator loss: 0.6933067440986633\n",
      "Epoch 1500: Step 169529: Generator loss: 0.6932730674743652, discriminator loss: 0.6932215690612793\n",
      "Epoch 1500: Step 169530: Generator loss: 0.6932158470153809, discriminator loss: 0.6932164430618286\n",
      "Epoch 1500: Step 169531: Generator loss: 0.6931153535842896, discriminator loss: 0.693235456943512\n",
      "Epoch 1500: Step 169532: Generator loss: 0.6930580139160156, discriminator loss: 0.6932234764099121\n",
      "Epoch 1500: Step 169533: Generator loss: 0.692964494228363, discriminator loss: 0.6932098865509033\n",
      "Epoch 1500: Step 169534: Generator loss: 0.6928783655166626, discriminator loss: 0.6932042837142944\n",
      "Epoch 1500: Step 169535: Generator loss: 0.6927892565727234, discriminator loss: 0.693212628364563\n",
      "Epoch 1500: Step 169536: Generator loss: 0.6927192807197571, discriminator loss: 0.6932231187820435\n",
      "Epoch 1500: Step 169537: Generator loss: 0.6926658153533936, discriminator loss: 0.6932544708251953\n",
      "Epoch 1500: Step 169538: Generator loss: 0.6925517320632935, discriminator loss: 0.6932331323623657\n",
      "Epoch 1500: Step 169539: Generator loss: 0.6924613118171692, discriminator loss: 0.6932424306869507\n",
      "Epoch 1500: Step 169540: Generator loss: 0.6923353672027588, discriminator loss: 0.6932423710823059\n",
      "Epoch 1500: Step 169541: Generator loss: 0.6922423839569092, discriminator loss: 0.6931726932525635\n",
      "Epoch 1500: Step 169542: Generator loss: 0.6921484470367432, discriminator loss: 0.6932116746902466\n",
      "Epoch 1500: Step 169543: Generator loss: 0.6920475959777832, discriminator loss: 0.6931663751602173\n",
      "Epoch 1500: Step 169544: Generator loss: 0.6919622421264648, discriminator loss: 0.6931898593902588\n",
      "Epoch 1500: Step 169545: Generator loss: 0.6919264793395996, discriminator loss: 0.6931684017181396\n",
      "Epoch 1500: Step 169546: Generator loss: 0.6918324828147888, discriminator loss: 0.6932140588760376\n",
      "Epoch 1500: Step 169547: Generator loss: 0.6917738318443298, discriminator loss: 0.6931641697883606\n",
      "Epoch 1500: Step 169548: Generator loss: 0.6917443871498108, discriminator loss: 0.6931572556495667\n",
      "Epoch 1500: Step 169549: Generator loss: 0.6917277574539185, discriminator loss: 0.6931226253509521\n",
      "Epoch 1500: Step 169550: Generator loss: 0.6917048096656799, discriminator loss: 0.6931780576705933\n",
      "Epoch 1500: Step 169551: Generator loss: 0.6917015314102173, discriminator loss: 0.693153977394104\n",
      "Epoch 1500: Step 169552: Generator loss: 0.6916764974594116, discriminator loss: 0.6931638717651367\n",
      "Epoch 1500: Step 169553: Generator loss: 0.6916879415512085, discriminator loss: 0.693160891532898\n",
      "Epoch 1500: Step 169554: Generator loss: 0.6916883587837219, discriminator loss: 0.6931644678115845\n",
      "Epoch 1500: Step 169555: Generator loss: 0.6916863322257996, discriminator loss: 0.6931391358375549\n",
      "Epoch 1500: Step 169556: Generator loss: 0.6916041374206543, discriminator loss: 0.6931684017181396\n",
      "Epoch 1500: Step 169557: Generator loss: 0.6915927529335022, discriminator loss: 0.6931326389312744\n",
      "Epoch 1500: Step 169558: Generator loss: 0.6915493607521057, discriminator loss: 0.6931532621383667\n",
      "Epoch 1500: Step 169559: Generator loss: 0.6914464235305786, discriminator loss: 0.6931349039077759\n",
      "Epoch 1500: Step 169560: Generator loss: 0.6913957595825195, discriminator loss: 0.6931359767913818\n",
      "Epoch 1500: Step 169561: Generator loss: 0.6914145350456238, discriminator loss: 0.6931226253509521\n",
      "Epoch 1500: Step 169562: Generator loss: 0.6913380026817322, discriminator loss: 0.6931284666061401\n",
      "Epoch 1500: Step 169563: Generator loss: 0.6913084983825684, discriminator loss: 0.6931309700012207\n",
      "Epoch 1500: Step 169564: Generator loss: 0.69118732213974, discriminator loss: 0.693100094795227\n",
      "Epoch 1500: Step 169565: Generator loss: 0.6912276744842529, discriminator loss: 0.6931213140487671\n",
      "Epoch 1500: Step 169566: Generator loss: 0.6911709308624268, discriminator loss: 0.6931394934654236\n",
      "Epoch 1500: Step 169567: Generator loss: 0.6910045742988586, discriminator loss: 0.6931210160255432\n",
      "Epoch 1500: Step 169568: Generator loss: 0.6910227537155151, discriminator loss: 0.6931262016296387\n",
      "Epoch 1500: Step 169569: Generator loss: 0.6909708380699158, discriminator loss: 0.6931259632110596\n",
      "Epoch 1500: Step 169570: Generator loss: 0.6909578442573547, discriminator loss: 0.6931009292602539\n",
      "Epoch 1500: Step 169571: Generator loss: 0.6909230351448059, discriminator loss: 0.6931105852127075\n",
      "Epoch 1500: Step 169572: Generator loss: 0.6909904479980469, discriminator loss: 0.6931049823760986\n",
      "Epoch 1500: Step 169573: Generator loss: 0.6910216212272644, discriminator loss: 0.6930922269821167\n",
      "Epoch 1500: Step 169574: Generator loss: 0.6910433769226074, discriminator loss: 0.6931007504463196\n",
      "Epoch 1500: Step 169575: Generator loss: 0.691008448600769, discriminator loss: 0.6930763721466064\n",
      "Epoch 1500: Step 169576: Generator loss: 0.6909389495849609, discriminator loss: 0.693082869052887\n",
      "Epoch 1500: Step 169577: Generator loss: 0.69094318151474, discriminator loss: 0.693138062953949\n",
      "Epoch 1500: Step 169578: Generator loss: 0.6908702850341797, discriminator loss: 0.6931105256080627\n",
      "Epoch 1500: Step 169579: Generator loss: 0.6909560561180115, discriminator loss: 0.6930392980575562\n",
      "Epoch 1500: Step 169580: Generator loss: 0.6908860206604004, discriminator loss: 0.6930752396583557\n",
      "Epoch 1500: Step 169581: Generator loss: 0.6907714605331421, discriminator loss: 0.6930081844329834\n",
      "Epoch 1500: Step 169582: Generator loss: 0.6907479763031006, discriminator loss: 0.6930574178695679\n",
      "Epoch 1500: Step 169583: Generator loss: 0.6906901597976685, discriminator loss: 0.6930774450302124\n",
      "Epoch 1500: Step 169584: Generator loss: 0.6906336545944214, discriminator loss: 0.6930583715438843\n",
      "Epoch 1500: Step 169585: Generator loss: 0.6906332969665527, discriminator loss: 0.6930876970291138\n",
      "Epoch 1500: Step 169586: Generator loss: 0.6906185746192932, discriminator loss: 0.693099856376648\n",
      "Epoch 1500: Step 169587: Generator loss: 0.6905447244644165, discriminator loss: 0.6930040717124939\n",
      "Epoch 1500: Step 169588: Generator loss: 0.6905847787857056, discriminator loss: 0.6930726766586304\n",
      "Epoch 1500: Step 169589: Generator loss: 0.6905897259712219, discriminator loss: 0.6930851936340332\n",
      "Epoch 1500: Step 169590: Generator loss: 0.6905781030654907, discriminator loss: 0.693051815032959\n",
      "Epoch 1500: Step 169591: Generator loss: 0.6904311180114746, discriminator loss: 0.6930519342422485\n",
      "Epoch 1500: Step 169592: Generator loss: 0.6904642581939697, discriminator loss: 0.6930980682373047\n",
      "Epoch 1500: Step 169593: Generator loss: 0.6905270218849182, discriminator loss: 0.6930497288703918\n",
      "Epoch 1500: Step 169594: Generator loss: 0.6904953718185425, discriminator loss: 0.6931079030036926\n",
      "Epoch 1500: Step 169595: Generator loss: 0.6904122233390808, discriminator loss: 0.6929742693901062\n",
      "Epoch 1500: Step 169596: Generator loss: 0.6904864311218262, discriminator loss: 0.6930468678474426\n",
      "Epoch 1500: Step 169597: Generator loss: 0.6904464960098267, discriminator loss: 0.6931148767471313\n",
      "Epoch 1500: Step 169598: Generator loss: 0.6904035210609436, discriminator loss: 0.6930980682373047\n",
      "Epoch 1500: Step 169599: Generator loss: 0.6904268860816956, discriminator loss: 0.6930468678474426\n",
      "Epoch 1500: Step 169600: Generator loss: 0.6904054880142212, discriminator loss: 0.6931463479995728\n",
      "Epoch 1500: Step 169601: Generator loss: 0.6904838681221008, discriminator loss: 0.6930987238883972\n",
      "Epoch 1500: Step 169602: Generator loss: 0.6905535459518433, discriminator loss: 0.693080723285675\n",
      "Epoch 1500: Step 169603: Generator loss: 0.6904566287994385, discriminator loss: 0.6930153369903564\n",
      "Epoch 1500: Step 169604: Generator loss: 0.6906522512435913, discriminator loss: 0.6929534673690796\n",
      "Epoch 1500: Step 169605: Generator loss: 0.6906441450119019, discriminator loss: 0.6930326223373413\n",
      "Epoch 1500: Step 169606: Generator loss: 0.690558910369873, discriminator loss: 0.6930176019668579\n",
      "Epoch 1500: Step 169607: Generator loss: 0.6905752420425415, discriminator loss: 0.6929827928543091\n",
      "Epoch 1500: Step 169608: Generator loss: 0.6906105279922485, discriminator loss: 0.6930967569351196\n",
      "Epoch 1500: Step 169609: Generator loss: 0.6905211210250854, discriminator loss: 0.6930006146430969\n",
      "Epoch 1500: Step 169610: Generator loss: 0.6904219388961792, discriminator loss: 0.6930923461914062\n",
      "Epoch 1500: Step 169611: Generator loss: 0.6903481483459473, discriminator loss: 0.6930099725723267\n",
      "Epoch 1500: Step 169612: Generator loss: 0.6904353499412537, discriminator loss: 0.693020224571228\n",
      "(29463, 4) (29463,)\n",
      "29463\n"
     ]
    }
   ],
   "source": [
    "for no_epoch in epochs:\n",
    "  print(\"no of epochs: \", no_epoch)\n",
    "  for epoch in range(no_epoch):\n",
    "  \n",
    "   \n",
    "    for real, _ in tqdm(dataloader, disable=True):\n",
    "        cur_batch_size = len(real)\n",
    "\n",
    "       \n",
    "        real = real.view(cur_batch_size, -1).to(device)\n",
    "\n",
    "      \n",
    "       \n",
    "        disc_opt.zero_grad()\n",
    "\n",
    "       \n",
    "        disc_loss = get_disc_loss(gen, disc, criterion, real, cur_batch_size, z_dim, device)\n",
    "\n",
    "        \n",
    "        disc_loss.backward(retain_graph=True)\n",
    "\n",
    "       \n",
    "        disc_opt.step()\n",
    "\n",
    "      \n",
    "        if test_generator:\n",
    "            old_generator_weights = gen.gen[0][0].weight.detach().clone()\n",
    "\n",
    "        gen_opt.zero_grad()\n",
    "        gen_loss = get_gen_loss(gen, disc, criterion, cur_batch_size, z_dim, device)\n",
    "        gen_loss.backward()\n",
    "        gen_opt.step()\n",
    "\n",
    "        if test_generator:\n",
    "            try:\n",
    "                assert lr > 0.0000002 or (gen.gen[0][0].weight.grad.abs().max() < 0.0005 and epoch == 0)\n",
    "                assert torch.any(gen.gen[0][0].weight.detach().clone() != old_generator_weights)\n",
    "            except:\n",
    "                error = True\n",
    "                print(\"Runtime tests have failed\")\n",
    "\n",
    "     \n",
    "        mean_discriminator_loss += disc_loss.item() / display_step\n",
    "\n",
    "  \n",
    "        mean_generator_loss += gen_loss.item() / display_step\n",
    "\n",
    "        if epoch%500==0:\n",
    "            print(f\"Epoch {epoch}: Step {cur_step}: Generator loss: {mean_generator_loss}, discriminator loss: {mean_discriminator_loss}\")\n",
    "\n",
    "        if cur_step % display_step == 0 and cur_step > 0:\n",
    "            mean_generator_loss = 0\n",
    "            mean_discriminator_loss = 0\n",
    "        cur_step += 1\n",
    "  fake_noise = get_noise(samples_to_generate, z_dim, device=device)\n",
    "  res=gen(fake_noise)\n",
    "  fres=res.cpu().detach().numpy()\n",
    "  X_old=X\n",
    "  finX=np.concatenate((X_old, fres), axis=0)\n",
    "  y_fake = np.ones(samples_to_generate)\n",
    "  Y_old=np.asarray(Y)\n",
    "  finY = np.append(Y_old, y_fake, axis=0)\n",
    "  print(finX.shape, finY.shape)\n",
    "  #idx = np.random.permutation(len(X_smote))\n",
    "  idx = np.random.permutation(finX.shape[0])\n",
    "  print(len(idx))\n",
    "  x_shuffled = []\n",
    "  y_shuffled = []\n",
    "  xy=dict()\n",
    "  for i in idx:\n",
    "    #x_shuffled.append(X_smote[i])\n",
    "    #y_shuffled.append(Y_smote[i])\n",
    "    x_shuffled.append(finX[i])\n",
    "    y_shuffled.append(finY[i])\n",
    "  xy['x_shuffled']=x_shuffled\n",
    "  xy['y_shuffled']=y_shuffled\n",
    "  smote_gan_data[no_epoch]=xy"
   ]
  },
  {
   "cell_type": "code",
   "execution_count": 74,
   "metadata": {
    "id": "5H8_hb6h8su-"
   },
   "outputs": [],
   "source": [
    "with open(ocean + '_smote_gan_data' + '.pkl', 'wb') as f: \n",
    "    pickle.dump([smote_gan_data], f)"
   ]
  },
  {
   "cell_type": "code",
   "execution_count": 75,
   "metadata": {
    "colab": {
     "base_uri": "https://localhost:8080/"
    },
    "id": "nnJOs_tF8syA",
    "outputId": "26ed42a2-3c73-437f-81cd-3a68398e5fa3"
   },
   "outputs": [
    {
     "name": "stdout",
     "output_type": "stream",
     "text": [
      "29463 29463\n",
      "6436 (6436, 4)\n",
      "(29463, 2) (6436, 2)\n"
     ]
    }
   ],
   "source": [
    "print(len(smote_gan_data[2000]['x_shuffled']), len(smote_gan_data[2000]['y_shuffled']))\n",
    "x_shuffled = smote_gan_data[2000]['x_shuffled']\n",
    "y_shuffled = smote_gan_data[2000]['y_shuffled']\n",
    "print(len(test_Y), test_X.shape)\n",
    "\n",
    "Y_hot_encoded_train =  np.asarray(to_categorical(y_shuffled))\n",
    "#Y_hot_encoded_train = Y_hot_encoded_train.reshape(len(y_shuffled), n_steps_out, n_features_out)\n",
    "\n",
    "Y_hot_encoded_test =  np.asarray(to_categorical(test_Y))\n",
    "#Y_hot_encoded_test = Y_hot_encoded_test.reshape(len(test_Y), n_steps_out, n_features_out)\n",
    "\n",
    "print(Y_hot_encoded_train.shape, Y_hot_encoded_test.shape)"
   ]
  },
  {
   "cell_type": "code",
   "execution_count": 76,
   "metadata": {
    "colab": {
     "base_uri": "https://localhost:8080/"
    },
    "id": "A5U1uY4M8s1m",
    "outputId": "827209fa-1474-4ede-d33b-69b6579d8958"
   },
   "outputs": [
    {
     "data": {
      "text/plain": [
       "array([[0.10344828, 0.07142857, 0.14285714, 0.17241379],\n",
       "       [0.10344828, 0.14285714, 0.14285714, 0.17241379],\n",
       "       [0.17241379, 0.14285714, 0.14285714, 0.17241379],\n",
       "       ...,\n",
       "       [0.24137931, 0.14285714, 0.10714286, 0.13793103],\n",
       "       [0.17241379, 0.10714286, 0.10714286, 0.10344828],\n",
       "       [0.10344828, 0.03571429, 0.03571429, 0.06896552]])"
      ]
     },
     "execution_count": 76,
     "metadata": {},
     "output_type": "execute_result"
    }
   ],
   "source": [
    "test_X"
   ]
  },
  {
   "cell_type": "code",
   "execution_count": 77,
   "metadata": {
    "colab": {
     "base_uri": "https://localhost:8080/"
    },
    "id": "GKHY4KRw8s4L",
    "outputId": "dff5b8ae-c8cb-4109-b55d-d333f2ed3693"
   },
   "outputs": [
    {
     "data": {
      "text/plain": [
       "(array([0.42247275, 0.42667603, 0.52895534, 0.58536875]), 1.0)"
      ]
     },
     "execution_count": 77,
     "metadata": {},
     "output_type": "execute_result"
    }
   ],
   "source": [
    "x_shuffled[0], y_shuffled[0]"
   ]
  },
  {
   "cell_type": "code",
   "execution_count": 78,
   "metadata": {
    "id": "VaJstKZu8s73"
   },
   "outputs": [],
   "source": [
    "            x_train, y_train = np.asarray(x_shuffled), np.asarray(Y_hot_encoded_train)\n",
    "            x_test, y_test = np.asarray(test_X), np.asarray(Y_hot_encoded_test)\n",
    "            x_train = x_train.reshape((x_train.shape[0], x_train.shape[1], n_features_in))\n",
    "            x_test = x_test.reshape((x_test.shape[0], x_test.shape[1], n_features_in))"
   ]
  },
  {
   "cell_type": "code",
   "execution_count": 79,
   "metadata": {
    "colab": {
     "base_uri": "https://localhost:8080/"
    },
    "id": "TTs4LASp8s-r",
    "outputId": "50475c71-c952-4226-fdb8-0c5f38945f38"
   },
   "outputs": [
    {
     "name": "stdout",
     "output_type": "stream",
     "text": [
      "Experiment 1 in progress\n"
     ]
    },
    {
     "name": "stderr",
     "output_type": "stream",
     "text": [
      "/home/z5239100/.local/lib/python3.8/site-packages/tensorflow/python/keras/engine/sequential.py:425: UserWarning: `model.predict_proba()` is deprecated and will be removed after 2021-01-01. Please use `model.predict()` instead.\n",
      "  warnings.warn('`model.predict_proba()` is deprecated and '\n"
     ]
    },
    {
     "name": "stdout",
     "output_type": "stream",
     "text": [
      "train acc:  0.984292847458748\n",
      "test acc:  0.35911602209944754\n",
      "Experiment 2 in progress\n"
     ]
    },
    {
     "name": "stderr",
     "output_type": "stream",
     "text": [
      "/home/z5239100/.local/lib/python3.8/site-packages/tensorflow/python/keras/engine/sequential.py:425: UserWarning: `model.predict_proba()` is deprecated and will be removed after 2021-01-01. Please use `model.predict()` instead.\n",
      "  warnings.warn('`model.predict_proba()` is deprecated and '\n"
     ]
    },
    {
     "name": "stdout",
     "output_type": "stream",
     "text": [
      "train acc:  0.9880102294994852\n",
      "test acc:  0.3694267515923567\n",
      "Experiment 3 in progress\n"
     ]
    },
    {
     "name": "stderr",
     "output_type": "stream",
     "text": [
      "/home/z5239100/.local/lib/python3.8/site-packages/tensorflow/python/keras/engine/sequential.py:425: UserWarning: `model.predict_proba()` is deprecated and will be removed after 2021-01-01. Please use `model.predict()` instead.\n",
      "  warnings.warn('`model.predict_proba()` is deprecated and '\n"
     ]
    },
    {
     "name": "stdout",
     "output_type": "stream",
     "text": [
      "train acc:  0.98908776365693\n",
      "test acc:  0.3505154639175258\n",
      "Experiment 4 in progress\n"
     ]
    },
    {
     "name": "stderr",
     "output_type": "stream",
     "text": [
      "/home/z5239100/.local/lib/python3.8/site-packages/tensorflow/python/keras/engine/sequential.py:425: UserWarning: `model.predict_proba()` is deprecated and will be removed after 2021-01-01. Please use `model.predict()` instead.\n",
      "  warnings.warn('`model.predict_proba()` is deprecated and '\n"
     ]
    },
    {
     "name": "stdout",
     "output_type": "stream",
     "text": [
      "train acc:  0.9907503255751828\n",
      "test acc:  0.3710407239819004\n",
      "Experiment 5 in progress\n"
     ]
    },
    {
     "name": "stderr",
     "output_type": "stream",
     "text": [
      "/home/z5239100/.local/lib/python3.8/site-packages/tensorflow/python/keras/engine/sequential.py:425: UserWarning: `model.predict_proba()` is deprecated and will be removed after 2021-01-01. Please use `model.predict()` instead.\n",
      "  warnings.warn('`model.predict_proba()` is deprecated and '\n"
     ]
    },
    {
     "name": "stdout",
     "output_type": "stream",
     "text": [
      "train acc:  0.9904087157036394\n",
      "test acc:  0.3902439024390244\n",
      "Total time for 5 experiments 2502.5029335021973\n",
      "f1 scores for test data:  [0.35911602 0.36942675 0.35051546 0.37104072 0.3902439 ]\n",
      "mean:  0.368068572806051 std dev:  0.013346785173707042\n"
     ]
    }
   ],
   "source": [
    "train_acc, test_acc, train_std_dev, test_std_dev, Best_Predict_Test, y_predicttrain, y_predicttest, scores, report_train, report_test = MODEL_LSTM('vanilla', 'smote_gan', univariate,x_train,x_test,y_train,y_test,Num_Exp,n_steps_in,n_steps_out,Epochs, Hidden)"
   ]
  },
  {
   "cell_type": "code",
   "execution_count": 80,
   "metadata": {
    "id": "Qr43x0pu8tBL"
   },
   "outputs": [],
   "source": [
    "with open(\"predictions_\" + ocean + '_smote_gan' + '.pkl', 'wb') as f: \n",
    "    pickle.dump([y_predicttrain, y_train, Best_Predict_Test, y_test, report_train, report_test, test_acc, test_std_dev], f)"
   ]
  },
  {
   "cell_type": "markdown",
   "metadata": {
    "id": "qHGEGSjL-aBQ"
   },
   "source": [
    "**SMOTE GAN results**"
   ]
  },
  {
   "cell_type": "code",
   "execution_count": 81,
   "metadata": {
    "colab": {
     "base_uri": "https://localhost:8080/",
     "height": 203
    },
    "id": "9FgJoFlS-Y_P",
    "outputId": "2b5cafbe-2b98-4658-b63d-98f5fed253ef"
   },
   "outputs": [
    {
     "data": {
      "text/html": [
       "<div>\n",
       "<style scoped>\n",
       "    .dataframe tbody tr th:only-of-type {\n",
       "        vertical-align: middle;\n",
       "    }\n",
       "\n",
       "    .dataframe tbody tr th {\n",
       "        vertical-align: top;\n",
       "    }\n",
       "\n",
       "    .dataframe thead th {\n",
       "        text-align: right;\n",
       "    }\n",
       "</style>\n",
       "<table border=\"1\" class=\"dataframe\">\n",
       "  <thead>\n",
       "    <tr style=\"text-align: right;\">\n",
       "      <th></th>\n",
       "      <th>index</th>\n",
       "      <th>precision</th>\n",
       "      <th>recall</th>\n",
       "      <th>f1-score</th>\n",
       "      <th>support</th>\n",
       "    </tr>\n",
       "  </thead>\n",
       "  <tbody>\n",
       "    <tr>\n",
       "      <th>0</th>\n",
       "      <td>0</td>\n",
       "      <td>0.985077</td>\n",
       "      <td>0.995239</td>\n",
       "      <td>0.990132</td>\n",
       "      <td>6301.000000</td>\n",
       "    </tr>\n",
       "    <tr>\n",
       "      <th>1</th>\n",
       "      <td>1</td>\n",
       "      <td>0.571429</td>\n",
       "      <td>0.296296</td>\n",
       "      <td>0.390244</td>\n",
       "      <td>135.000000</td>\n",
       "    </tr>\n",
       "    <tr>\n",
       "      <th>2</th>\n",
       "      <td>accuracy</td>\n",
       "      <td>0.980578</td>\n",
       "      <td>0.980578</td>\n",
       "      <td>0.980578</td>\n",
       "      <td>0.980578</td>\n",
       "    </tr>\n",
       "    <tr>\n",
       "      <th>3</th>\n",
       "      <td>macro avg</td>\n",
       "      <td>0.778253</td>\n",
       "      <td>0.645768</td>\n",
       "      <td>0.690188</td>\n",
       "      <td>6436.000000</td>\n",
       "    </tr>\n",
       "    <tr>\n",
       "      <th>4</th>\n",
       "      <td>weighted avg</td>\n",
       "      <td>0.976400</td>\n",
       "      <td>0.980578</td>\n",
       "      <td>0.977549</td>\n",
       "      <td>6436.000000</td>\n",
       "    </tr>\n",
       "  </tbody>\n",
       "</table>\n",
       "</div>"
      ],
      "text/plain": [
       "          index  precision    recall  f1-score      support\n",
       "0             0   0.985077  0.995239  0.990132  6301.000000\n",
       "1             1   0.571429  0.296296  0.390244   135.000000\n",
       "2      accuracy   0.980578  0.980578  0.980578     0.980578\n",
       "3     macro avg   0.778253  0.645768  0.690188  6436.000000\n",
       "4  weighted avg   0.976400  0.980578  0.977549  6436.000000"
      ]
     },
     "execution_count": 81,
     "metadata": {},
     "output_type": "execute_result"
    }
   ],
   "source": [
    "report_df = pd.DataFrame(report_test).transpose()\n",
    "report_df = report_df.reset_index()\n",
    "model_eval  = report_df[report_df['index'].str.contains('1')][['precision','recall','f1-score']]\n",
    "model_eval['accuracy']  = list(report_df[report_df['index'].str.contains('accuracy')]['support'])\n",
    "report_df"
   ]
  },
  {
   "cell_type": "code",
   "execution_count": 82,
   "metadata": {
    "colab": {
     "base_uri": "https://localhost:8080/",
     "height": 700
    },
    "id": "dJj45eFu-ZC7",
    "outputId": "c80a5286-3f43-4b94-85e3-4332637a6691"
   },
   "outputs": [
    {
     "data": {
      "image/png": "[encoded data removed]",
      "text/plain": [
       "<Figure size 1440x864 with 2 Axes>"
      ]
     },
     "metadata": {},
     "output_type": "display_data"
    }
   ],
   "source": [
    "y = [i.argmax() for i in y_test]\n",
    "pred = [i.argmax() for i in Best_Predict_Test]\n",
    "cf_matrix_test = confusion_matrix(y, pred)\n",
    "make_confusion_matrix_chart2(cf_matrix_test, ocean + 'vanilla_cm_smote_gan')"
   ]
  },
  {
   "cell_type": "code",
   "execution_count": 83,
   "metadata": {
    "colab": {
     "base_uri": "https://localhost:8080/"
    },
    "id": "RY4vKsgj-ZF2",
    "outputId": "d07c70b4-1168-4889-a146-a60250f8415a"
   },
   "outputs": [
    {
     "name": "stdout",
     "output_type": "stream",
     "text": [
      "0.9851 & 0.9952 & 0.9901 & 6301.0 & \n",
      "0.5714 & 0.2963 & 0.3902 & 135.0 & \n",
      "0.9806 & 0.9806 & 0.9806 & 0.9806 & \n",
      "0.7783 & 0.6458 & 0.6902 & 6436.0 & \n",
      "0.9764 & 0.9806 & 0.9775 & 6436.0 & \n"
     ]
    }
   ],
   "source": [
    "for i in range(report_df.shape[0]):\n",
    "  tmp=\"\"\n",
    "  for j in ['precision', 'recall', 'f1-score', 'support']:\n",
    "    tmp=tmp+ str(round(report_df[j][i],4)) + \" & \"\n",
    "  print(tmp)"
   ]
  },
  {
   "cell_type": "markdown",
   "metadata": {
    "id": "9GkAz4jH-w-Z"
   },
   "source": [
    "**Recall Precision curves**"
   ]
  },
  {
   "cell_type": "code",
   "execution_count": 84,
   "metadata": {
    "id": "khyv2yrV54KY"
   },
   "outputs": [],
   "source": [
    "with open('predictions_'+ ocean + '_original' + '.pkl', 'rb') as f: \n",
    "    predictions_train,actual_train,predictions_test,actual_test,metrics_train,metrics_test,test_acc,test_stddev=pickle.load(f)"
   ]
  },
  {
   "cell_type": "code",
   "execution_count": 85,
   "metadata": {
    "id": "RqsMAgWc6brg"
   },
   "outputs": [
    {
     "name": "stdout",
     "output_type": "stream",
     "text": [
      "[7.2182893e-06 1.9666984e-06 4.7528505e-11 ... 1.5341984e-17 9.2376329e-15\n",
      " 5.2768822e-12]\n",
      "Logistic: f1=0.456 auc=0.533\n"
     ]
    }
   ],
   "source": [
    "lr_probs = predictions_test['1']['vanilla']\n",
    "lr_probs = lr_probs[:, 1]\n",
    "print(lr_probs)\n",
    "testy= [i.argmax() for i in actual_test['1']['vanilla']]\n",
    "yhat= [i.argmax() for i in predictions_test['1']['vanilla']]\n",
    "lr_precision, lr_recall, _ = precision_recall_curve(testy, lr_probs)\n",
    "lr_f1, lr_auc = f1_score(testy, yhat), auc(lr_recall, lr_precision)\n",
    "# summarize scores\n",
    "print('Logistic: f1=%.3f auc=%.3f' % (lr_f1, lr_auc))"
   ]
  },
  {
   "cell_type": "code",
   "execution_count": 86,
   "metadata": {
    "id": "jEpZdzgO9VLJ"
   },
   "outputs": [],
   "source": [
    "with open('predictions_'+ ocean + '_smote' + '.pkl', 'rb') as f: \n",
    "    y_predicttrain, y_train, Best_Predict_Test, y_test, report_train, report_test, test_acc, test_stddev = pickle.load(f)"
   ]
  },
  {
   "cell_type": "code",
   "execution_count": 87,
   "metadata": {
    "colab": {
     "base_uri": "https://localhost:8080/"
    },
    "id": "am5a1PRB9ntK",
    "outputId": "2d4489d6-090b-4f3a-bef0-1065d0502670"
   },
   "outputs": [
    {
     "name": "stdout",
     "output_type": "stream",
     "text": [
      "[6.4129190e-06 8.1692754e-22 1.4887217e-13 ... 0.0000000e+00 8.8478137e-33\n",
      " 0.0000000e+00]\n",
      "Logistic: f1=0.440 auc=0.432\n"
     ]
    }
   ],
   "source": [
    "lr_probs = Best_Predict_Test\n",
    "lr_probs = lr_probs[:, 1]\n",
    "print(lr_probs)\n",
    "testy= [i.argmax() for i in y_test]\n",
    "yhat= [i.argmax() for i in Best_Predict_Test]\n",
    "lr_precision_smote, lr_recall_smote, _ = precision_recall_curve(testy, lr_probs)\n",
    "lr_f1_smote, lr_auc_smote = f1_score(testy, yhat), auc(lr_recall_smote, lr_precision_smote)\n",
    "# summarize scores\n",
    "print('Logistic: f1=%.3f auc=%.3f' % (lr_f1_smote, lr_auc_smote))"
   ]
  },
  {
   "cell_type": "code",
   "execution_count": 88,
   "metadata": {
    "id": "R9JM_qhXi_LQ"
   },
   "outputs": [],
   "source": [
    "with open('predictions_'+ ocean + '_gan' + '.pkl', 'rb') as f: \n",
    "    y_predicttrain, y_train, Best_Predict_Test, y_test, report_train, report_test, test_acc, test_stddev = pickle.load(f)"
   ]
  },
  {
   "cell_type": "code",
   "execution_count": 89,
   "metadata": {
    "colab": {
     "base_uri": "https://localhost:8080/"
    },
    "id": "vbYxNZpgi_Pa",
    "outputId": "4fdd7381-713b-4d03-dd43-404bc8355480"
   },
   "outputs": [
    {
     "name": "stdout",
     "output_type": "stream",
     "text": [
      "[1.6288745e-06 1.2833248e-08 1.0904146e-10 ... 1.2435633e-27 1.2029738e-20\n",
      " 1.9051564e-33]\n",
      "Logistic: f1=0.435 auc=0.495\n"
     ]
    }
   ],
   "source": [
    "lr_probs = Best_Predict_Test\n",
    "lr_probs = lr_probs[:, 1]\n",
    "print(lr_probs)\n",
    "testy= [i.argmax() for i in y_test]\n",
    "yhat= [i.argmax() for i in Best_Predict_Test]\n",
    "lr_precision_gan, lr_recall_gan, _ = precision_recall_curve(testy, lr_probs)\n",
    "lr_f1_gan, lr_auc_gan = f1_score(testy, yhat), auc(lr_recall_gan, lr_precision_gan)\n",
    "# summarize scores\n",
    "print('Logistic: f1=%.3f auc=%.3f' % (lr_f1_gan, lr_auc_gan))"
   ]
  },
  {
   "cell_type": "code",
   "execution_count": 90,
   "metadata": {
    "id": "B9hIFntB-j1f"
   },
   "outputs": [],
   "source": [
    "with open('predictions_'+ ocean + '_smote_gan' + '.pkl', 'rb') as f: \n",
    "    y_predicttrain, y_train, Best_Predict_Test, y_test, report_train, report_test, test_acc, test_stddev = pickle.load(f)"
   ]
  },
  {
   "cell_type": "code",
   "execution_count": 91,
   "metadata": {
    "colab": {
     "base_uri": "https://localhost:8080/"
    },
    "id": "RJvPpdCz-j4y",
    "outputId": "d4a9190a-9bea-4429-9b19-cad27e207648"
   },
   "outputs": [
    {
     "name": "stdout",
     "output_type": "stream",
     "text": [
      "[4.2193074e-06 1.6528141e-08 4.9873395e-16 ... 0.0000000e+00 0.0000000e+00\n",
      " 0.0000000e+00]\n",
      "Logistic: f1=0.390 auc=0.450\n"
     ]
    }
   ],
   "source": [
    "lr_probs = Best_Predict_Test\n",
    "lr_probs = lr_probs[:, 1]\n",
    "print(lr_probs)\n",
    "testy= [i.argmax() for i in y_test]\n",
    "yhat= [i.argmax() for i in Best_Predict_Test]\n",
    "lr_precision_smote_gan, lr_recall_smote_gan, _ = precision_recall_curve(testy, lr_probs)\n",
    "lr_f1_smote_gan, lr_auc_smote_gan = f1_score(testy, yhat), auc(lr_recall_smote_gan, lr_precision_smote_gan)\n",
    "# summarize scores\n",
    "print('Logistic: f1=%.3f auc=%.3f' % (lr_f1_smote_gan, lr_auc_smote_gan))"
   ]
  },
  {
   "cell_type": "code",
   "execution_count": 92,
   "metadata": {
    "colab": {
     "base_uri": "https://localhost:8080/",
     "height": 694
    },
    "id": "8vjmG5kH7oto",
    "outputId": "b03f64db-b411-453b-febc-3f98b3cf9230"
   },
   "outputs": [
    {
     "data": {
      "image/png": "[encoded data removed]",
      "text/plain": [
       "<Figure size 1440x864 with 1 Axes>"
      ]
     },
     "metadata": {},
     "output_type": "display_data"
    }
   ],
   "source": [
    "# plot the precision-recall curves\n",
    "fig, ax = pyplot.subplots(figsize = (20,12))\n",
    "no_skill = 135 / len(testy)    #no of one/total\n",
    "pyplot.plot(lr_recall, lr_precision, marker='.',lw=4, label='Original data: ' + str(round(lr_f1,3)))\n",
    "pyplot.plot(lr_recall_smote, lr_precision_smote,lw=4, marker='.', label='SMOTE: ' + str(round(lr_f1_smote,3)))\n",
    "pyplot.plot(lr_recall_gan, lr_precision_gan,lw=4, marker='.', label='GAN: ' + str(round(lr_f1_gan,3)))\n",
    "pyplot.plot(lr_recall_smote_gan, lr_precision_smote_gan,lw=4, marker='.', label='SMOTE-GAN: ' + str(round(lr_f1_smote_gan,3)))\n",
    "# axis labels\n",
    "pyplot.xlabel('Recall', size=40)\n",
    "pyplot.ylabel('Precision', size=40)\n",
    "ax.tick_params(axis='both', which='major', labelsize=30)\n",
    "# show the legend\n",
    "pyplot.legend(loc=\"upper right\", fontsize=30)\n",
    "#save the plot\n",
    "plt.savefig(ocean + '_precision_recall_curve.png', dpi=300, transparent=False, bbox_inches='tight')\n",
    "plt.show()\n",
    "# show the plot\n",
    "pyplot.show()"
   ]
  },
  {
   "cell_type": "code",
   "execution_count": null,
   "metadata": {
    "id": "rG0bNjYf78VY"
   },
   "outputs": [],
   "source": []
  }
 ],
 "metadata": {
  "accelerator": "GPU",
  "colab": {
   "collapsed_sections": [],
   "name": "Rapid_intesification_SIO.ipynb",
   "provenance": []
  },
  "kernelspec": {
   "display_name": "Python 3",
   "language": "python",
   "name": "python3"
  },
  "language_info": {
   "codemirror_mode": {
    "name": "ipython",
    "version": 3
   },
   "file_extension": ".py",
   "mimetype": "text/x-python",
   "name": "python",
   "nbconvert_exporter": "python",
   "pygments_lexer": "ipython3",
   "version": "3.8.3"
  }
 },
 "nbformat": 4,
 "nbformat_minor": 1
}
